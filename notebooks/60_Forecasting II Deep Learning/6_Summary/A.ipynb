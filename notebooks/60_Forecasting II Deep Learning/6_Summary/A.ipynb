{
 "cells": [
  {
   "cell_type": "markdown",
   "id": "e2ba2949",
   "metadata": {
    "papermill": {
     "duration": 0.00378,
     "end_time": "2024-05-29T22:42:56.757445",
     "exception": false,
     "start_time": "2024-05-29T22:42:56.753665",
     "status": "completed"
    },
    "tags": []
   },
   "source": [
    "# Modelling LSTM"
   ]
  },
  {
   "cell_type": "markdown",
   "id": "12a966ad",
   "metadata": {
    "papermill": {
     "duration": 0.002697,
     "end_time": "2024-05-29T22:42:56.763511",
     "exception": false,
     "start_time": "2024-05-29T22:42:56.760814",
     "status": "completed"
    },
    "tags": []
   },
   "source": [
    "## Load Dataset"
   ]
  },
  {
   "cell_type": "code",
   "execution_count": null,
   "id": "1cc8b91d",
   "metadata": {
    "execution": {
     "iopub.execute_input": "2024-05-29T22:42:56.769321Z",
     "iopub.status.busy": "2024-05-29T22:42:56.769127Z",
     "iopub.status.idle": "2024-05-29T22:42:56.894041Z",
     "shell.execute_reply": "2024-05-29T22:42:56.893796Z"
    },
    "papermill": {
     "duration": 0.128902,
     "end_time": "2024-05-29T22:42:56.894917",
     "exception": false,
     "start_time": "2024-05-29T22:42:56.766015",
     "status": "completed"
    },
    "tags": [
     "required",
     "Fixed"
    ]
   },
   "outputs": [],
   "source": []
  },
  {
   "cell_type": "markdown",
   "id": "29c01033",
   "metadata": {
    "papermill": {
     "duration": 0.001539,
     "end_time": "2024-05-29T22:42:56.898381",
     "exception": false,
     "start_time": "2024-05-29T22:42:56.896842",
     "status": "completed"
    },
    "tags": []
   },
   "source": [
    "## Data Preprocessing"
   ]
  },
  {
   "cell_type": "markdown",
   "id": "0aa80a55",
   "metadata": {
    "papermill": {
     "duration": 0.001273,
     "end_time": "2024-05-29T22:42:56.901173",
     "exception": false,
     "start_time": "2024-05-29T22:42:56.899900",
     "status": "completed"
    },
    "tags": []
   },
   "source": [
    "### Scale Data"
   ]
  },
  {
   "cell_type": "code",
   "execution_count": null,
   "id": "a7324b11",
   "metadata": {
    "execution": {
     "iopub.execute_input": "2024-05-29T22:42:56.904290Z",
     "iopub.status.busy": "2024-05-29T22:42:56.904146Z",
     "iopub.status.idle": "2024-05-29T22:42:57.126799Z",
     "shell.execute_reply": "2024-05-29T22:42:57.126411Z"
    },
    "papermill": {
     "duration": 0.225439,
     "end_time": "2024-05-29T22:42:57.127883",
     "exception": false,
     "start_time": "2024-05-29T22:42:56.902444",
     "status": "completed"
    },
    "tags": [
     "required"
    ]
   },
   "outputs": [],
   "source": []
  },
  {
   "cell_type": "markdown",
   "id": "169553cc",
   "metadata": {
    "papermill": {
     "duration": 0.00145,
     "end_time": "2024-05-29T22:42:57.131086",
     "exception": false,
     "start_time": "2024-05-29T22:42:57.129636",
     "status": "completed"
    },
    "tags": []
   },
   "source": [
    "### Train Test Split"
   ]
  },
  {
   "cell_type": "code",
   "execution_count": null,
   "id": "7ecc9760",
   "metadata": {
    "execution": {
     "iopub.execute_input": "2024-05-29T22:42:57.134540Z",
     "iopub.status.busy": "2024-05-29T22:42:57.134333Z",
     "iopub.status.idle": "2024-05-29T22:42:57.158629Z",
     "shell.execute_reply": "2024-05-29T22:42:57.158313Z"
    },
    "papermill": {
     "duration": 0.027015,
     "end_time": "2024-05-29T22:42:57.159519",
     "exception": false,
     "start_time": "2024-05-29T22:42:57.132504",
     "status": "completed"
    },
    "tags": [
     "required"
    ]
   },
   "outputs": [],
   "source": []
  },
  {
   "cell_type": "markdown",
   "id": "0296db65",
   "metadata": {
    "papermill": {
     "duration": 0.001333,
     "end_time": "2024-05-29T22:42:57.162880",
     "exception": false,
     "start_time": "2024-05-29T22:42:57.161547",
     "status": "completed"
    },
    "tags": []
   },
   "source": [
    "### Create Sequences"
   ]
  },
  {
   "cell_type": "code",
   "execution_count": null,
   "id": "bf400e03",
   "metadata": {
    "execution": {
     "iopub.execute_input": "2024-05-29T22:42:57.166079Z",
     "iopub.status.busy": "2024-05-29T22:42:57.165930Z",
     "iopub.status.idle": "2024-05-29T22:42:57.184746Z",
     "shell.execute_reply": "2024-05-29T22:42:57.184530Z"
    },
    "papermill": {
     "duration": 0.021297,
     "end_time": "2024-05-29T22:42:57.185463",
     "exception": false,
     "start_time": "2024-05-29T22:42:57.164166",
     "status": "completed"
    },
    "tags": [
     "required"
    ]
   },
   "outputs": [],
   "source": []
  },
  {
   "cell_type": "markdown",
   "id": "eec2e741",
   "metadata": {
    "papermill": {
     "duration": 0.001447,
     "end_time": "2024-05-29T22:42:57.188411",
     "exception": false,
     "start_time": "2024-05-29T22:42:57.186964",
     "status": "completed"
    },
    "tags": []
   },
   "source": [
    "## Modelling"
   ]
  },
  {
   "cell_type": "markdown",
   "id": "bac8ac31",
   "metadata": {
    "papermill": {
     "duration": 0.001261,
     "end_time": "2024-05-29T22:42:57.191002",
     "exception": false,
     "start_time": "2024-05-29T22:42:57.189741",
     "status": "completed"
    },
    "tags": []
   },
   "source": [
    "### Design NN Architecture"
   ]
  },
  {
   "cell_type": "code",
   "execution_count": null,
   "id": "94ee1bc9",
   "metadata": {
    "execution": {
     "iopub.execute_input": "2024-05-29T22:42:57.194112Z",
     "iopub.status.busy": "2024-05-29T22:42:57.194010Z",
     "iopub.status.idle": "2024-05-29T22:42:58.258723Z",
     "shell.execute_reply": "2024-05-29T22:42:58.258459Z"
    },
    "papermill": {
     "duration": 1.067205,
     "end_time": "2024-05-29T22:42:58.259490",
     "exception": false,
     "start_time": "2024-05-29T22:42:57.192285",
     "status": "completed"
    },
    "tags": [
     "required"
    ]
   },
   "outputs": [],
   "source": []
  },
  {
   "cell_type": "markdown",
   "id": "3537854d",
   "metadata": {
    "papermill": {
     "duration": 0.001509,
     "end_time": "2024-05-29T22:42:58.262854",
     "exception": false,
     "start_time": "2024-05-29T22:42:58.261345",
     "status": "completed"
    },
    "tags": []
   },
   "source": [
    "### Train Model"
   ]
  },
  {
   "cell_type": "code",
   "execution_count": null,
   "id": "6987dcc4",
   "metadata": {
    "execution": {
     "iopub.execute_input": "2024-05-29T22:42:58.266378Z",
     "iopub.status.busy": "2024-05-29T22:42:58.266241Z",
     "iopub.status.idle": "2024-05-29T22:43:42.513375Z",
     "shell.execute_reply": "2024-05-29T22:43:42.513032Z"
    },
    "papermill": {
     "duration": 44.250039,
     "end_time": "2024-05-29T22:43:42.514338",
     "exception": false,
     "start_time": "2024-05-29T22:42:58.264299",
     "status": "completed"
    },
    "tags": [
     "required"
    ]
   },
   "outputs": [],
   "source": []
  },
  {
   "cell_type": "markdown",
   "id": "53e930be",
   "metadata": {
    "papermill": {
     "duration": 0.001658,
     "end_time": "2024-05-29T22:43:42.517904",
     "exception": false,
     "start_time": "2024-05-29T22:43:42.516246",
     "status": "completed"
    },
    "tags": []
   },
   "source": [
    "### Calculate Predictions"
   ]
  },
  {
   "cell_type": "code",
   "execution_count": null,
   "id": "6bd6b2ea",
   "metadata": {
    "execution": {
     "iopub.execute_input": "2024-05-29T22:43:42.521735Z",
     "iopub.status.busy": "2024-05-29T22:43:42.521595Z",
     "iopub.status.idle": "2024-05-29T22:43:42.839126Z",
     "shell.execute_reply": "2024-05-29T22:43:42.838868Z"
    },
    "papermill": {
     "duration": 0.320283,
     "end_time": "2024-05-29T22:43:42.839918",
     "exception": false,
     "start_time": "2024-05-29T22:43:42.519635",
     "status": "completed"
    },
    "tags": [
     "required"
    ]
   },
   "outputs": [],
   "source": []
  },
  {
   "cell_type": "markdown",
   "id": "5dd9956e",
   "metadata": {
    "papermill": {
     "duration": 0.001662,
     "end_time": "2024-05-29T22:43:42.843583",
     "exception": false,
     "start_time": "2024-05-29T22:43:42.841921",
     "status": "completed"
    },
    "tags": []
   },
   "source": [
    "### Evaluate Model"
   ]
  },
  {
   "cell_type": "code",
   "execution_count": null,
   "id": "1a8358d3",
   "metadata": {
    "execution": {
     "iopub.execute_input": "2024-05-29T22:43:42.847175Z",
     "iopub.status.busy": "2024-05-29T22:43:42.847077Z",
     "iopub.status.idle": "2024-05-29T22:43:42.848545Z",
     "shell.execute_reply": "2024-05-29T22:43:42.848366Z"
    },
    "papermill": {
     "duration": 0.004046,
     "end_time": "2024-05-29T22:43:42.849280",
     "exception": false,
     "start_time": "2024-05-29T22:43:42.845234",
     "status": "completed"
    },
    "tags": [
     "required"
    ]
   },
   "outputs": [],
   "source": []
  },
  {
   "cell_type": "code",
   "execution_count": null,
   "id": "c9ad1c86",
   "metadata": {
    "execution": {
     "iopub.execute_input": "2024-05-29T22:43:42.852909Z",
     "iopub.status.busy": "2024-05-29T22:43:42.852809Z",
     "iopub.status.idle": "2024-05-29T22:43:42.854628Z",
     "shell.execute_reply": "2024-05-29T22:43:42.854438Z"
    },
    "papermill": {
     "duration": 0.004275,
     "end_time": "2024-05-29T22:43:42.855277",
     "exception": false,
     "start_time": "2024-05-29T22:43:42.851002",
     "status": "completed"
    },
    "tags": [
     "required"
    ]
   },
   "outputs": [],
   "source": []
  },
  {
   "cell_type": "code",
   "execution_count": null,
   "id": "4b675c36",
   "metadata": {
    "execution": {
     "iopub.execute_input": "2024-05-29T22:43:42.858444Z",
     "iopub.status.busy": "2024-05-29T22:43:42.858350Z",
     "iopub.status.idle": "2024-05-29T22:43:42.860885Z",
     "shell.execute_reply": "2024-05-29T22:43:42.860702Z"
    },
    "papermill": {
     "duration": 0.00483,
     "end_time": "2024-05-29T22:43:42.861466",
     "exception": false,
     "start_time": "2024-05-29T22:43:42.856636",
     "status": "completed"
    },
    "tags": [
     "required"
    ]
   },
   "outputs": [],
   "source": []
  },
  {
   "cell_type": "markdown",
   "id": "25390be2",
   "metadata": {
    "papermill": {
     "duration": 0.00137,
     "end_time": "2024-05-29T22:43:42.864290",
     "exception": false,
     "start_time": "2024-05-29T22:43:42.862920",
     "status": "completed"
    },
    "tags": []
   },
   "source": [
    "### Comparison: Real Data & Prediction"
   ]
  },
  {
   "cell_type": "markdown",
   "id": "a51afe32",
   "metadata": {
    "papermill": {
     "duration": 0.001466,
     "end_time": "2024-05-29T22:43:42.867259",
     "exception": false,
     "start_time": "2024-05-29T22:43:42.865793",
     "status": "completed"
    },
    "tags": []
   },
   "source": [
    "#### Create DataFrame"
   ]
  },
  {
   "cell_type": "code",
   "execution_count": null,
   "id": "f9ea1419",
   "metadata": {
    "execution": {
     "iopub.execute_input": "2024-05-29T22:43:42.870973Z",
     "iopub.status.busy": "2024-05-29T22:43:42.870774Z",
     "iopub.status.idle": "2024-05-29T22:43:42.872668Z",
     "shell.execute_reply": "2024-05-29T22:43:42.872410Z"
    },
    "papermill": {
     "duration": 0.004637,
     "end_time": "2024-05-29T22:43:42.873433",
     "exception": false,
     "start_time": "2024-05-29T22:43:42.868796",
     "status": "completed"
    },
    "tags": []
   },
   "outputs": [],
   "source": []
  },
  {
   "cell_type": "code",
   "execution_count": null,
   "id": "ef8b2a52",
   "metadata": {
    "execution": {
     "iopub.execute_input": "2024-05-29T22:43:42.877154Z",
     "iopub.status.busy": "2024-05-29T22:43:42.876931Z",
     "iopub.status.idle": "2024-05-29T22:43:42.945562Z",
     "shell.execute_reply": "2024-05-29T22:43:42.945342Z"
    },
    "papermill": {
     "duration": 0.071305,
     "end_time": "2024-05-29T22:43:42.946292",
     "exception": false,
     "start_time": "2024-05-29T22:43:42.874987",
     "status": "completed"
    },
    "tags": [
     "required"
    ]
   },
   "outputs": [],
   "source": []
  },
  {
   "cell_type": "markdown",
   "id": "c2540e77",
   "metadata": {
    "papermill": {
     "duration": 0.001796,
     "end_time": "2024-05-29T22:43:42.950024",
     "exception": false,
     "start_time": "2024-05-29T22:43:42.948228",
     "status": "completed"
    },
    "tags": []
   },
   "source": [
    "#### Visualize Data"
   ]
  },
  {
   "cell_type": "code",
   "execution_count": null,
   "id": "53ab34d1",
   "metadata": {
    "execution": {
     "iopub.execute_input": "2024-05-29T22:43:42.954073Z",
     "iopub.status.busy": "2024-05-29T22:43:42.953874Z",
     "iopub.status.idle": "2024-05-29T22:43:43.479579Z",
     "shell.execute_reply": "2024-05-29T22:43:43.479173Z"
    },
    "papermill": {
     "duration": 0.528584,
     "end_time": "2024-05-29T22:43:43.480432",
     "exception": false,
     "start_time": "2024-05-29T22:43:42.951848",
     "status": "completed"
    },
    "tags": [
     "required"
    ]
   },
   "outputs": [],
   "source": []
  }
 ],
 "metadata": {
  "Author": "Jesús López",
  "Company": "Datons Academy",
  "Copyright": "Copyright 2023, Jesús López",
  "kernelspec": {
   "display_name": "work",
   "language": "python",
   "name": "python3"
  },
  "language_info": {
   "codemirror_mode": {
    "name": "ipython",
    "version": 3
   },
   "file_extension": ".py",
   "mimetype": "text/x-python",
   "name": "python",
   "nbconvert_exporter": "python",
   "pygments_lexer": "ipython3",
   "version": "3.12.2"
  },
  "papermill": {
   "default_parameters": {},
   "duration": 48.252474,
   "end_time": "2024-05-29T22:43:44.002209",
   "environment_variables": {},
   "exception": null,
   "input_path": "/Users/sota/Library/CloudStorage/Dropbox/2 Business/1 Datons/2 Areas/Courses/22 TS/solutions-new/notebooks/60_Forecasting II Deep Learning/6_Summary/1.ipynb",
   "output_path": "/Users/sota/Library/CloudStorage/Dropbox/2 Business/1 Datons/2 Areas/Courses/22 TS/solutions-new/notebooks/60_Forecasting II Deep Learning/6_Summary/1.ipynb",
   "parameters": {},
   "start_time": "2024-05-29T22:42:55.749735",
   "version": "2.5.0"
  },
  "toc-autonumbering": true
 },
 "nbformat": 4,
 "nbformat_minor": 5
}
