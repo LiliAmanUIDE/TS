{
 "cells": [
  {
   "cell_type": "markdown",
   "id": "e2ba2949",
   "metadata": {
    "papermill": {
     "duration": 0.00378,
     "end_time": "2024-05-29T22:42:56.757445",
     "exception": false,
     "start_time": "2024-05-29T22:42:56.753665",
     "status": "completed"
    },
    "tags": []
   },
   "source": [
    "# Modelling LSTM"
   ]
  },
  {
   "cell_type": "markdown",
   "id": "12a966ad",
   "metadata": {
    "papermill": {
     "duration": 0.002697,
     "end_time": "2024-05-29T22:42:56.763511",
     "exception": false,
     "start_time": "2024-05-29T22:42:56.760814",
     "status": "completed"
    },
    "tags": []
   },
   "source": [
    "## Load Dataset"
   ]
  },
  {
   "cell_type": "code",
   "execution_count": 1,
   "id": "1cc8b91d",
   "metadata": {
    "execution": {
     "iopub.execute_input": "2024-05-29T22:42:56.769321Z",
     "iopub.status.busy": "2024-05-29T22:42:56.769127Z",
     "iopub.status.idle": "2024-05-29T22:42:56.894041Z",
     "shell.execute_reply": "2024-05-29T22:42:56.893796Z"
    },
    "papermill": {
     "duration": 0.128902,
     "end_time": "2024-05-29T22:42:56.894917",
     "exception": false,
     "start_time": "2024-05-29T22:42:56.766015",
     "status": "completed"
    },
    "tags": [
     "required",
     "Fixed"
    ]
   },
   "outputs": [
    {
     "data": {
      "text/html": [
       "<div>\n",
       "<style scoped>\n",
       "    .dataframe tbody tr th:only-of-type {\n",
       "        vertical-align: middle;\n",
       "    }\n",
       "\n",
       "    .dataframe tbody tr th {\n",
       "        vertical-align: top;\n",
       "    }\n",
       "\n",
       "    .dataframe thead th {\n",
       "        text-align: right;\n",
       "    }\n",
       "</style>\n",
       "<table border=\"1\" class=\"dataframe\">\n",
       "  <thead>\n",
       "    <tr style=\"text-align: right;\">\n",
       "      <th></th>\n",
       "      <th>Mercado SPOT</th>\n",
       "    </tr>\n",
       "    <tr>\n",
       "      <th>datetime_utc</th>\n",
       "      <th></th>\n",
       "    </tr>\n",
       "  </thead>\n",
       "  <tbody>\n",
       "    <tr>\n",
       "      <th>2020-01-01 00:00:00+00:00</th>\n",
       "      <td>38.60</td>\n",
       "    </tr>\n",
       "    <tr>\n",
       "      <th>2020-01-01 01:00:00+00:00</th>\n",
       "      <td>36.55</td>\n",
       "    </tr>\n",
       "    <tr>\n",
       "      <th>...</th>\n",
       "      <td>...</td>\n",
       "    </tr>\n",
       "    <tr>\n",
       "      <th>2023-08-04 20:00:00+00:00</th>\n",
       "      <td>94.00</td>\n",
       "    </tr>\n",
       "    <tr>\n",
       "      <th>2023-08-04 21:00:00+00:00</th>\n",
       "      <td>91.70</td>\n",
       "    </tr>\n",
       "  </tbody>\n",
       "</table>\n",
       "<p>31558 rows × 1 columns</p>\n",
       "</div>"
      ],
      "text/plain": [
       "                           Mercado SPOT\n",
       "datetime_utc                           \n",
       "2020-01-01 00:00:00+00:00         38.60\n",
       "2020-01-01 01:00:00+00:00         36.55\n",
       "...                                 ...\n",
       "2023-08-04 20:00:00+00:00         94.00\n",
       "2023-08-04 21:00:00+00:00         91.70\n",
       "\n",
       "[31558 rows x 1 columns]"
      ]
     },
     "execution_count": 1,
     "metadata": {},
     "output_type": "execute_result"
    }
   ],
   "source": [
    "import pandas as pd\n",
    "df = pd.read_csv('../data/precio_mercado_diario.csv', parse_dates=['datetime_utc'], index_col=0)\n",
    "df = df.loc[\"2020\":].copy()\n",
    "df"
   ]
  },
  {
   "cell_type": "markdown",
   "id": "29c01033",
   "metadata": {
    "papermill": {
     "duration": 0.001539,
     "end_time": "2024-05-29T22:42:56.898381",
     "exception": false,
     "start_time": "2024-05-29T22:42:56.896842",
     "status": "completed"
    },
    "tags": []
   },
   "source": [
    "## Data Preprocessing"
   ]
  },
  {
   "cell_type": "markdown",
   "id": "0aa80a55",
   "metadata": {
    "papermill": {
     "duration": 0.001273,
     "end_time": "2024-05-29T22:42:56.901173",
     "exception": false,
     "start_time": "2024-05-29T22:42:56.899900",
     "status": "completed"
    },
    "tags": []
   },
   "source": [
    "### Scale Data"
   ]
  },
  {
   "cell_type": "code",
   "execution_count": 2,
   "id": "a7324b11",
   "metadata": {
    "execution": {
     "iopub.execute_input": "2024-05-29T22:42:56.904290Z",
     "iopub.status.busy": "2024-05-29T22:42:56.904146Z",
     "iopub.status.idle": "2024-05-29T22:42:57.126799Z",
     "shell.execute_reply": "2024-05-29T22:42:57.126411Z"
    },
    "papermill": {
     "duration": 0.225439,
     "end_time": "2024-05-29T22:42:57.127883",
     "exception": false,
     "start_time": "2024-05-29T22:42:56.902444",
     "status": "completed"
    },
    "tags": [
     "required"
    ]
   },
   "outputs": [],
   "source": [
    "from sklearn.preprocessing import MinMaxScaler\n",
    "\n",
    "scaler = MinMaxScaler(feature_range=(0, 1))\n",
    "data_norm = scaler.fit_transform(df)"
   ]
  },
  {
   "cell_type": "markdown",
   "id": "169553cc",
   "metadata": {
    "papermill": {
     "duration": 0.00145,
     "end_time": "2024-05-29T22:42:57.131086",
     "exception": false,
     "start_time": "2024-05-29T22:42:57.129636",
     "status": "completed"
    },
    "tags": []
   },
   "source": [
    "### Train Test Split"
   ]
  },
  {
   "cell_type": "code",
   "execution_count": 3,
   "id": "7ecc9760",
   "metadata": {
    "execution": {
     "iopub.execute_input": "2024-05-29T22:42:57.134540Z",
     "iopub.status.busy": "2024-05-29T22:42:57.134333Z",
     "iopub.status.idle": "2024-05-29T22:42:57.158629Z",
     "shell.execute_reply": "2024-05-29T22:42:57.158313Z"
    },
    "papermill": {
     "duration": 0.027015,
     "end_time": "2024-05-29T22:42:57.159519",
     "exception": false,
     "start_time": "2024-05-29T22:42:57.132504",
     "status": "completed"
    },
    "tags": [
     "required"
    ]
   },
   "outputs": [],
   "source": [
    "from sklearn.model_selection import train_test_split\n",
    "\n",
    "train, test = train_test_split(data_norm, test_size=0.2, shuffle=False)"
   ]
  },
  {
   "cell_type": "markdown",
   "id": "0296db65",
   "metadata": {
    "papermill": {
     "duration": 0.001333,
     "end_time": "2024-05-29T22:42:57.162880",
     "exception": false,
     "start_time": "2024-05-29T22:42:57.161547",
     "status": "completed"
    },
    "tags": []
   },
   "source": [
    "### Create Sequences"
   ]
  },
  {
   "cell_type": "code",
   "execution_count": 4,
   "id": "bf400e03",
   "metadata": {
    "execution": {
     "iopub.execute_input": "2024-05-29T22:42:57.166079Z",
     "iopub.status.busy": "2024-05-29T22:42:57.165930Z",
     "iopub.status.idle": "2024-05-29T22:42:57.184746Z",
     "shell.execute_reply": "2024-05-29T22:42:57.184530Z"
    },
    "papermill": {
     "duration": 0.021297,
     "end_time": "2024-05-29T22:42:57.185463",
     "exception": false,
     "start_time": "2024-05-29T22:42:57.164166",
     "status": "completed"
    },
    "tags": [
     "required"
    ]
   },
   "outputs": [],
   "source": [
    "import numpy as np\n",
    "\n",
    "def create_sequences(data, sequence_length):\n",
    "    X, y = [], []\n",
    "    for i in range(len(data) - sequence_length):\n",
    "        X.append(data[i:i+sequence_length])\n",
    "        y.append(data[i+sequence_length])\n",
    "    return np.array(X), np.array(y)\n",
    "\n",
    "sequence_length = 24 # Use 24 hours prior to predict the following hour\n",
    "X_train, y_train = create_sequences(train, sequence_length)\n",
    "X_test, y_test = create_sequences(test, sequence_length)"
   ]
  },
  {
   "cell_type": "markdown",
   "id": "eec2e741",
   "metadata": {
    "papermill": {
     "duration": 0.001447,
     "end_time": "2024-05-29T22:42:57.188411",
     "exception": false,
     "start_time": "2024-05-29T22:42:57.186964",
     "status": "completed"
    },
    "tags": []
   },
   "source": [
    "## Modelling"
   ]
  },
  {
   "cell_type": "markdown",
   "id": "bac8ac31",
   "metadata": {
    "papermill": {
     "duration": 0.001261,
     "end_time": "2024-05-29T22:42:57.191002",
     "exception": false,
     "start_time": "2024-05-29T22:42:57.189741",
     "status": "completed"
    },
    "tags": []
   },
   "source": [
    "### Design NN Architecture"
   ]
  },
  {
   "cell_type": "code",
   "execution_count": 5,
   "id": "94ee1bc9",
   "metadata": {
    "execution": {
     "iopub.execute_input": "2024-05-29T22:42:57.194112Z",
     "iopub.status.busy": "2024-05-29T22:42:57.194010Z",
     "iopub.status.idle": "2024-05-29T22:42:58.258723Z",
     "shell.execute_reply": "2024-05-29T22:42:58.258459Z"
    },
    "papermill": {
     "duration": 1.067205,
     "end_time": "2024-05-29T22:42:58.259490",
     "exception": false,
     "start_time": "2024-05-29T22:42:57.192285",
     "status": "completed"
    },
    "tags": [
     "required"
    ]
   },
   "outputs": [
    {
     "name": "stderr",
     "output_type": "stream",
     "text": [
      "/Users/sota/miniconda3/envs/work/lib/python3.12/site-packages/keras/layers/rnn/rnn.py:205: UserWarning: Do not pass an `input_shape`/`input_dim` argument to a layer. When using Sequential models, prefer using an `Input(shape)` object as the first layer in the model instead.\n",
      "  super().__init__(**kwargs)\n"
     ]
    }
   ],
   "source": [
    "from keras.models import Sequential\n",
    "from keras.layers import LSTM, Dense, Input\n",
    "\n",
    "model = Sequential(layers=[\n",
    "    Input(shape=(X_train.shape[1], X_train.shape[2])),\n",
    "    LSTM(50),\n",
    "    Dense(1)\n",
    "])\n",
    "\n",
    "model.compile(optimizer='adam', loss='mean_squared_error')"
   ]
  },
  {
   "cell_type": "markdown",
   "id": "3537854d",
   "metadata": {
    "papermill": {
     "duration": 0.001509,
     "end_time": "2024-05-29T22:42:58.262854",
     "exception": false,
     "start_time": "2024-05-29T22:42:58.261345",
     "status": "completed"
    },
    "tags": []
   },
   "source": [
    "### Train Model"
   ]
  },
  {
   "cell_type": "code",
   "execution_count": 6,
   "id": "6987dcc4",
   "metadata": {
    "execution": {
     "iopub.execute_input": "2024-05-29T22:42:58.266378Z",
     "iopub.status.busy": "2024-05-29T22:42:58.266241Z",
     "iopub.status.idle": "2024-05-29T22:43:42.513375Z",
     "shell.execute_reply": "2024-05-29T22:43:42.513032Z"
    },
    "papermill": {
     "duration": 44.250039,
     "end_time": "2024-05-29T22:43:42.514338",
     "exception": false,
     "start_time": "2024-05-29T22:42:58.264299",
     "status": "completed"
    },
    "tags": [
     "required"
    ]
   },
   "outputs": [],
   "source": [
    "from keras.callbacks import EarlyStopping\n",
    "\n",
    "early_stop = EarlyStopping(monitor='val_loss', patience=5)\n",
    "\n",
    "history = model.fit(\n",
    "    X_train, y_train, epochs=50, batch_size=64, verbose=0,\n",
    "    validation_data=(X_test, y_test), callbacks=[early_stop])"
   ]
  },
  {
   "cell_type": "markdown",
   "id": "53e930be",
   "metadata": {
    "papermill": {
     "duration": 0.001658,
     "end_time": "2024-05-29T22:43:42.517904",
     "exception": false,
     "start_time": "2024-05-29T22:43:42.516246",
     "status": "completed"
    },
    "tags": []
   },
   "source": [
    "### Calculate Predictions"
   ]
  },
  {
   "cell_type": "code",
   "execution_count": 7,
   "id": "6bd6b2ea",
   "metadata": {
    "execution": {
     "iopub.execute_input": "2024-05-29T22:43:42.521735Z",
     "iopub.status.busy": "2024-05-29T22:43:42.521595Z",
     "iopub.status.idle": "2024-05-29T22:43:42.839126Z",
     "shell.execute_reply": "2024-05-29T22:43:42.838868Z"
    },
    "papermill": {
     "duration": 0.320283,
     "end_time": "2024-05-29T22:43:42.839918",
     "exception": false,
     "start_time": "2024-05-29T22:43:42.519635",
     "status": "completed"
    },
    "tags": [
     "required"
    ]
   },
   "outputs": [
    {
     "name": "stdout",
     "output_type": "stream",
     "text": [
      "\r\n",
      "\u001b[1m  1/197\u001b[0m \u001b[37m━━━━━━━━━━━━━━━━━━━━\u001b[0m \u001b[1m11s\u001b[0m 57ms/step"
     ]
    },
    {
     "name": "stdout",
     "output_type": "stream",
     "text": [
      "\b\b\b\b\b\b\b\b\b\b\b\b\b\b\b\b\b\b\b\b\b\b\b\b\b\b\b\b\b\b\b\b\b\b\b\b\b\b\b\b\b\b\r\n",
      "\u001b[1m 57/197\u001b[0m \u001b[32m━━━━━\u001b[0m\u001b[37m━━━━━━━━━━━━━━━\u001b[0m \u001b[1m0s\u001b[0m 901us/step"
     ]
    },
    {
     "name": "stdout",
     "output_type": "stream",
     "text": [
      "\b\b\b\b\b\b\b\b\b\b\b\b\b\b\b\b\b\b\b\b\b\b\b\b\b\b\b\b\b\b\b\b\b\b\b\b\b\b\b\b\b\b\r\n",
      "\u001b[1m115/197\u001b[0m \u001b[32m━━━━━━━━━━━\u001b[0m\u001b[37m━━━━━━━━━\u001b[0m \u001b[1m0s\u001b[0m 884us/step"
     ]
    },
    {
     "name": "stdout",
     "output_type": "stream",
     "text": [
      "\b\b\b\b\b\b\b\b\b\b\b\b\b\b\b\b\b\b\b\b\b\b\b\b\b\b\b\b\b\b\b\b\b\b\b\b\b\b\b\b\b\b\r\n",
      "\u001b[1m172/197\u001b[0m \u001b[32m━━━━━━━━━━━━━━━━━\u001b[0m\u001b[37m━━━\u001b[0m \u001b[1m0s\u001b[0m 885us/step"
     ]
    },
    {
     "name": "stdout",
     "output_type": "stream",
     "text": [
      "\b\b\b\b\b\b\b\b\b\b\b\b\b\b\b\b\b\b\b\b\b\b\b\b\b\b\b\b\b\b\b\b\b\b\b\b\b\b\b\b\b\b\r\n",
      "\u001b[1m197/197\u001b[0m \u001b[32m━━━━━━━━━━━━━━━━━━━━\u001b[0m\u001b[37m\u001b[0m \u001b[1m0s\u001b[0m 1ms/step  "
     ]
    },
    {
     "name": "stdout",
     "output_type": "stream",
     "text": [
      "\b\b\b\b\b\b\b\b\b\b\b\b\b\b\b\b\b\b\b\b\b\b\b\b\b\b\b\b\b\b\b\b\b\b\b\b\b\b\b\b\r\n",
      "\u001b[1m197/197\u001b[0m \u001b[32m━━━━━━━━━━━━━━━━━━━━\u001b[0m\u001b[37m\u001b[0m \u001b[1m0s\u001b[0m 1ms/step\n"
     ]
    },
    {
     "data": {
      "text/plain": [
       "array([[0.17624184],\n",
       "       [0.14190105],\n",
       "       [0.12420973],\n",
       "       ...,\n",
       "       [0.13157184],\n",
       "       [0.13497825],\n",
       "       [0.1306498 ]], dtype=float32)"
      ]
     },
     "execution_count": 7,
     "metadata": {},
     "output_type": "execute_result"
    }
   ],
   "source": [
    "y_pred = model.predict(X_test)\n",
    "y_pred"
   ]
  },
  {
   "cell_type": "markdown",
   "id": "5dd9956e",
   "metadata": {
    "papermill": {
     "duration": 0.001662,
     "end_time": "2024-05-29T22:43:42.843583",
     "exception": false,
     "start_time": "2024-05-29T22:43:42.841921",
     "status": "completed"
    },
    "tags": []
   },
   "source": [
    "### Evaluate Model"
   ]
  },
  {
   "cell_type": "code",
   "execution_count": 8,
   "id": "1a8358d3",
   "metadata": {
    "execution": {
     "iopub.execute_input": "2024-05-29T22:43:42.847175Z",
     "iopub.status.busy": "2024-05-29T22:43:42.847077Z",
     "iopub.status.idle": "2024-05-29T22:43:42.848545Z",
     "shell.execute_reply": "2024-05-29T22:43:42.848366Z"
    },
    "papermill": {
     "duration": 0.004046,
     "end_time": "2024-05-29T22:43:42.849280",
     "exception": false,
     "start_time": "2024-05-29T22:43:42.845234",
     "status": "completed"
    },
    "tags": [
     "required"
    ]
   },
   "outputs": [],
   "source": [
    "from sklearn.metrics import mean_squared_error"
   ]
  },
  {
   "cell_type": "code",
   "execution_count": 9,
   "id": "c9ad1c86",
   "metadata": {
    "execution": {
     "iopub.execute_input": "2024-05-29T22:43:42.852909Z",
     "iopub.status.busy": "2024-05-29T22:43:42.852809Z",
     "iopub.status.idle": "2024-05-29T22:43:42.854628Z",
     "shell.execute_reply": "2024-05-29T22:43:42.854438Z"
    },
    "papermill": {
     "duration": 0.004275,
     "end_time": "2024-05-29T22:43:42.855277",
     "exception": false,
     "start_time": "2024-05-29T22:43:42.851002",
     "status": "completed"
    },
    "tags": [
     "required"
    ]
   },
   "outputs": [],
   "source": [
    "y_pred_scaled_inverse = scaler.inverse_transform(y_pred)\n",
    "y_test_scaled_inverse = scaler.inverse_transform(y_test)"
   ]
  },
  {
   "cell_type": "code",
   "execution_count": 10,
   "id": "4b675c36",
   "metadata": {
    "execution": {
     "iopub.execute_input": "2024-05-29T22:43:42.858444Z",
     "iopub.status.busy": "2024-05-29T22:43:42.858350Z",
     "iopub.status.idle": "2024-05-29T22:43:42.860885Z",
     "shell.execute_reply": "2024-05-29T22:43:42.860702Z"
    },
    "papermill": {
     "duration": 0.00483,
     "end_time": "2024-05-29T22:43:42.861466",
     "exception": false,
     "start_time": "2024-05-29T22:43:42.856636",
     "status": "completed"
    },
    "tags": [
     "required"
    ]
   },
   "outputs": [
    {
     "name": "stderr",
     "output_type": "stream",
     "text": [
      "/Users/sota/miniconda3/envs/work/lib/python3.12/site-packages/sklearn/metrics/_regression.py:483: FutureWarning: 'squared' is deprecated in version 1.4 and will be removed in 1.6. To calculate the root mean squared error, use the function'root_mean_squared_error'.\n",
      "  warnings.warn(\n"
     ]
    },
    {
     "data": {
      "text/plain": [
       "11.030928926567462"
      ]
     },
     "execution_count": 10,
     "metadata": {},
     "output_type": "execute_result"
    }
   ],
   "source": [
    "mean_squared_error(y_test_scaled_inverse, y_pred_scaled_inverse, squared=False)"
   ]
  },
  {
   "cell_type": "markdown",
   "id": "25390be2",
   "metadata": {
    "papermill": {
     "duration": 0.00137,
     "end_time": "2024-05-29T22:43:42.864290",
     "exception": false,
     "start_time": "2024-05-29T22:43:42.862920",
     "status": "completed"
    },
    "tags": []
   },
   "source": [
    "### Comparison: Real Data & Prediction"
   ]
  },
  {
   "cell_type": "markdown",
   "id": "a51afe32",
   "metadata": {
    "papermill": {
     "duration": 0.001466,
     "end_time": "2024-05-29T22:43:42.867259",
     "exception": false,
     "start_time": "2024-05-29T22:43:42.865793",
     "status": "completed"
    },
    "tags": []
   },
   "source": [
    "#### Create DataFrame"
   ]
  },
  {
   "cell_type": "code",
   "execution_count": 11,
   "id": "f9ea1419",
   "metadata": {
    "execution": {
     "iopub.execute_input": "2024-05-29T22:43:42.870973Z",
     "iopub.status.busy": "2024-05-29T22:43:42.870774Z",
     "iopub.status.idle": "2024-05-29T22:43:42.872668Z",
     "shell.execute_reply": "2024-05-29T22:43:42.872410Z"
    },
    "papermill": {
     "duration": 0.004637,
     "end_time": "2024-05-29T22:43:42.873433",
     "exception": false,
     "start_time": "2024-05-29T22:43:42.868796",
     "status": "completed"
    },
    "tags": []
   },
   "outputs": [],
   "source": [
    "import sys\n",
    "sys.path.append('../')"
   ]
  },
  {
   "cell_type": "code",
   "execution_count": 12,
   "id": "ef8b2a52",
   "metadata": {
    "execution": {
     "iopub.execute_input": "2024-05-29T22:43:42.877154Z",
     "iopub.status.busy": "2024-05-29T22:43:42.876931Z",
     "iopub.status.idle": "2024-05-29T22:43:42.945562Z",
     "shell.execute_reply": "2024-05-29T22:43:42.945342Z"
    },
    "papermill": {
     "duration": 0.071305,
     "end_time": "2024-05-29T22:43:42.946292",
     "exception": false,
     "start_time": "2024-05-29T22:43:42.874987",
     "status": "completed"
    },
    "tags": [
     "required"
    ]
   },
   "outputs": [
    {
     "name": "stderr",
     "output_type": "stream",
     "text": [
      "/Users/sota/Library/CloudStorage/Dropbox/2 Business/1 Datons/2 Areas/Courses/22 TS/solutions-new/notebooks/60_Forecasting II Deep Learning/6_Summary/../utils.py:10: FutureWarning: 'H' is deprecated and will be removed in a future version, please use 'h' instead.\n",
      "  index = pd.date_range(start=date_start, end=date_end, freq='H')\n"
     ]
    }
   ],
   "source": [
    "import utils\n",
    "\n",
    "dic_pred = {\n",
    "    'y_pred_scaled_inverse': y_pred_scaled_inverse,\n",
    "}\n",
    "\n",
    "df_pred = utils.process_df_pred(df, y_test_scaled_inverse, dic_pred)\n",
    "df_pred = df_pred.iloc[-48:,:]"
   ]
  },
  {
   "cell_type": "markdown",
   "id": "c2540e77",
   "metadata": {
    "papermill": {
     "duration": 0.001796,
     "end_time": "2024-05-29T22:43:42.950024",
     "exception": false,
     "start_time": "2024-05-29T22:43:42.948228",
     "status": "completed"
    },
    "tags": []
   },
   "source": [
    "#### Visualize Data"
   ]
  },
  {
   "cell_type": "code",
   "execution_count": 13,
   "id": "53ab34d1",
   "metadata": {
    "execution": {
     "iopub.execute_input": "2024-05-29T22:43:42.954073Z",
     "iopub.status.busy": "2024-05-29T22:43:42.953874Z",
     "iopub.status.idle": "2024-05-29T22:43:43.479579Z",
     "shell.execute_reply": "2024-05-29T22:43:43.479173Z"
    },
    "papermill": {
     "duration": 0.528584,
     "end_time": "2024-05-29T22:43:43.480432",
     "exception": false,
     "start_time": "2024-05-29T22:43:42.951848",
     "status": "completed"
    },
    "tags": [
     "required"
    ]
   },
   "outputs": [
    {
     "data": {
      "image/svg+xml": [
       "<svg class=\"main-svg\" xmlns=\"http://www.w3.org/2000/svg\" xmlns:xlink=\"http://www.w3.org/1999/xlink\" width=\"700\" height=\"500\" style=\"\" viewBox=\"0 0 700 500\"><rect x=\"0\" y=\"0\" width=\"700\" height=\"500\" style=\"fill: rgb(255, 255, 255); fill-opacity: 1;\"/><defs id=\"defs-ddc093\"><g class=\"clips\"><clipPath id=\"clipddc093xyplot\" class=\"plotclip\"><rect width=\"416\" height=\"360\"/></clipPath><clipPath class=\"axesclip\" id=\"clipddc093x\"><rect x=\"80\" y=\"0\" width=\"416\" height=\"500\"/></clipPath><clipPath class=\"axesclip\" id=\"clipddc093y\"><rect x=\"0\" y=\"60\" width=\"700\" height=\"360\"/></clipPath><clipPath class=\"axesclip\" id=\"clipddc093xy\"><rect x=\"80\" y=\"60\" width=\"416\" height=\"360\"/></clipPath></g><g class=\"gradients\"/><g class=\"patterns\"/></defs><g class=\"bglayer\"><rect class=\"bg\" x=\"80\" y=\"60\" width=\"416\" height=\"360\" style=\"fill: rgb(229, 236, 246); fill-opacity: 1; stroke-width: 0;\"/></g><g class=\"layer-below\"><g class=\"imagelayer\"/><g class=\"shapelayer\"/></g><g class=\"cartesianlayer\"><g class=\"subplot xy\"><g class=\"layer-subplot\"><g class=\"shapelayer\"/><g class=\"imagelayer\"/></g><g class=\"minor-gridlayer\"><g class=\"x\"/><g class=\"y\"/></g><g class=\"gridlayer\"><g class=\"x\"><path class=\"xgrid crisp\" transform=\"translate(97.7,0)\" d=\"M0,60v360\" style=\"stroke: rgb(255, 255, 255); stroke-opacity: 1; stroke-width: 1px;\"/><path class=\"xgrid crisp\" transform=\"translate(203.91,0)\" d=\"M0,60v360\" style=\"stroke: rgb(255, 255, 255); stroke-opacity: 1; stroke-width: 1px;\"/><path class=\"xgrid crisp\" transform=\"translate(310.13,0)\" d=\"M0,60v360\" style=\"stroke: rgb(255, 255, 255); stroke-opacity: 1; stroke-width: 1px;\"/><path class=\"xgrid crisp\" transform=\"translate(416.34,0)\" d=\"M0,60v360\" style=\"stroke: rgb(255, 255, 255); stroke-opacity: 1; stroke-width: 1px;\"/></g><g class=\"y\"><path class=\"ygrid crisp\" transform=\"translate(0,411.93)\" d=\"M80,0h416\" style=\"stroke: rgb(255, 255, 255); stroke-opacity: 1; stroke-width: 1px;\"/><path class=\"ygrid crisp\" transform=\"translate(0,367.41)\" d=\"M80,0h416\" style=\"stroke: rgb(255, 255, 255); stroke-opacity: 1; stroke-width: 1px;\"/><path class=\"ygrid crisp\" transform=\"translate(0,322.88)\" d=\"M80,0h416\" style=\"stroke: rgb(255, 255, 255); stroke-opacity: 1; stroke-width: 1px;\"/><path class=\"ygrid crisp\" transform=\"translate(0,278.36)\" d=\"M80,0h416\" style=\"stroke: rgb(255, 255, 255); stroke-opacity: 1; stroke-width: 1px;\"/><path class=\"ygrid crisp\" transform=\"translate(0,233.83)\" d=\"M80,0h416\" style=\"stroke: rgb(255, 255, 255); stroke-opacity: 1; stroke-width: 1px;\"/><path class=\"ygrid crisp\" transform=\"translate(0,189.31)\" d=\"M80,0h416\" style=\"stroke: rgb(255, 255, 255); stroke-opacity: 1; stroke-width: 1px;\"/><path class=\"ygrid crisp\" transform=\"translate(0,144.79000000000002)\" d=\"M80,0h416\" style=\"stroke: rgb(255, 255, 255); stroke-opacity: 1; stroke-width: 1px;\"/><path class=\"ygrid crisp\" transform=\"translate(0,100.25999999999999)\" d=\"M80,0h416\" style=\"stroke: rgb(255, 255, 255); stroke-opacity: 1; stroke-width: 1px;\"/></g></g><g class=\"zerolinelayer\"/><path class=\"xlines-below\"/><path class=\"ylines-below\"/><g class=\"overlines-below\"/><g class=\"xaxislayer-below\"/><g class=\"yaxislayer-below\"/><g class=\"overaxes-below\"/><g class=\"plot\" transform=\"translate(80,60)\" clip-path=\"url(#clipddc093xyplot)\"><g class=\"scatterlayer mlayer\"><g class=\"trace scatter trace30d572\" style=\"stroke-miterlimit: 2; opacity: 1;\"><g class=\"fills\"/><g class=\"errorbars\"/><g class=\"lines\"><path class=\"js-line\" d=\"M0,50.99L8.85,67.51L17.7,98.01L26.55,94.14L35.4,107.05L44.26,84.74L53.11,69.16L61.96,63.73L70.81,82.2L79.66,162.7L88.51,209.45L97.36,285.14L106.21,285.14L115.06,285.14L123.91,336.3L132.77,333.72L141.62,329.18L150.47,220.01L159.32,209.5L168.17,161.37L177.02,44.71L185.87,18L194.72,18L203.57,47.61L212.43,46.5L221.28,67.64L230.13,80.69L238.98,88.13L247.83,99.92L256.68,91.24L265.53,91.24L274.38,72.19L283.23,84.74L300.94,262.88L309.79,226.77L318.64,225.44L327.49,218.31L336.34,229L345.19,285.14L354.04,317.96L362.89,285.14L371.74,226.77L380.6,129.31L389.45,56.74L398.3,22.45L407.15,22.45L416,32.69\" style=\"vector-effect: none; fill: none; stroke: rgb(99, 110, 250); stroke-opacity: 1; stroke-width: 2px; opacity: 1;\"/></g><g class=\"points\"/><g class=\"text\"/></g><g class=\"trace scatter trace42351f\" style=\"stroke-miterlimit: 2; opacity: 1;\"><g class=\"fills\"/><g class=\"errorbars\"/><g class=\"lines\"><path class=\"js-line\" d=\"M0,47.83L8.85,56.51L17.7,69.58L26.55,95.52L35.4,80.72L44.26,86.23L53.11,53.54L61.96,38.49L70.81,44.71L79.66,79.75L88.51,178.97L97.36,220.96L106.21,298.93L115.06,289.24L123.91,287.8L132.77,342L141.62,317.48L150.47,297.75L159.32,158.59L168.17,176.21L177.02,135.1L185.87,19.12L194.72,26.43L203.57,37.77L212.43,65.59L221.28,57.55L230.13,73.47L238.98,78.29L247.83,74.54L256.68,78.2L265.53,64.68L274.38,71.95L283.23,62.22L292.09,92.85L300.94,204.27L309.79,283.68L318.64,230.2L327.49,235.02L336.34,226.72L345.19,233.54L354.04,288.89L362.89,307.97L371.74,253.31L380.6,184.25L389.45,83.81L398.3,30.91L407.15,20.29L416,33.78\" style=\"vector-effect: none; fill: none; stroke: rgb(239, 85, 59); stroke-opacity: 1; stroke-width: 2px; opacity: 1;\"/></g><g class=\"points\"/><g class=\"text\"/></g></g></g><g class=\"overplot\"/><path class=\"xlines-above crisp\" d=\"M0,0\" style=\"fill: none;\"/><path class=\"ylines-above crisp\" d=\"M0,0\" style=\"fill: none;\"/><g class=\"overlines-above\"/><g class=\"xaxislayer-above\"><g class=\"xtick\"><text text-anchor=\"middle\" x=\"0\" y=\"433\" transform=\"translate(97.7,0)\" style=\"font-family: 'Open Sans', verdana, arial, sans-serif; font-size: 12px; fill: rgb(42, 63, 95); fill-opacity: 1; white-space: pre; opacity: 1;\"><tspan class=\"line\" dy=\"0em\" x=\"0\" y=\"433\">00:00</tspan><tspan class=\"line\" dy=\"1.3em\" x=\"0\" y=\"433\">Aug 3, 2023</tspan></text></g><g class=\"xtick\"><text text-anchor=\"middle\" x=\"0\" y=\"433\" style=\"font-family: 'Open Sans', verdana, arial, sans-serif; font-size: 12px; fill: rgb(42, 63, 95); fill-opacity: 1; white-space: pre; opacity: 1;\" transform=\"translate(203.91,0)\">12:00</text></g><g class=\"xtick\"><text text-anchor=\"middle\" x=\"0\" y=\"433\" style=\"font-family: 'Open Sans', verdana, arial, sans-serif; font-size: 12px; fill: rgb(42, 63, 95); fill-opacity: 1; white-space: pre; opacity: 1;\" transform=\"translate(310.13,0)\"><tspan class=\"line\" dy=\"0em\" x=\"0\" y=\"433\">00:00</tspan><tspan class=\"line\" dy=\"1.3em\" x=\"0\" y=\"433\">Aug 4, 2023</tspan></text></g><g class=\"xtick\"><text text-anchor=\"middle\" x=\"0\" y=\"433\" style=\"font-family: 'Open Sans', verdana, arial, sans-serif; font-size: 12px; fill: rgb(42, 63, 95); fill-opacity: 1; white-space: pre; opacity: 1;\" transform=\"translate(416.34,0)\">12:00</text></g></g><g class=\"yaxislayer-above\"><g class=\"ytick\"><text text-anchor=\"end\" x=\"79\" y=\"4.199999999999999\" transform=\"translate(0,411.93)\" style=\"font-family: 'Open Sans', verdana, arial, sans-serif; font-size: 12px; fill: rgb(42, 63, 95); fill-opacity: 1; white-space: pre; opacity: 1;\">20</text></g><g class=\"ytick\"><text text-anchor=\"end\" x=\"79\" y=\"4.199999999999999\" style=\"font-family: 'Open Sans', verdana, arial, sans-serif; font-size: 12px; fill: rgb(42, 63, 95); fill-opacity: 1; white-space: pre; opacity: 1;\" transform=\"translate(0,367.41)\">30</text></g><g class=\"ytick\"><text text-anchor=\"end\" x=\"79\" y=\"4.199999999999999\" style=\"font-family: 'Open Sans', verdana, arial, sans-serif; font-size: 12px; fill: rgb(42, 63, 95); fill-opacity: 1; white-space: pre; opacity: 1;\" transform=\"translate(0,322.88)\">40</text></g><g class=\"ytick\"><text text-anchor=\"end\" x=\"79\" y=\"4.199999999999999\" style=\"font-family: 'Open Sans', verdana, arial, sans-serif; font-size: 12px; fill: rgb(42, 63, 95); fill-opacity: 1; white-space: pre; opacity: 1;\" transform=\"translate(0,278.36)\">50</text></g><g class=\"ytick\"><text text-anchor=\"end\" x=\"79\" y=\"4.199999999999999\" style=\"font-family: 'Open Sans', verdana, arial, sans-serif; font-size: 12px; fill: rgb(42, 63, 95); fill-opacity: 1; white-space: pre; opacity: 1;\" transform=\"translate(0,233.83)\">60</text></g><g class=\"ytick\"><text text-anchor=\"end\" x=\"79\" y=\"4.199999999999999\" style=\"font-family: 'Open Sans', verdana, arial, sans-serif; font-size: 12px; fill: rgb(42, 63, 95); fill-opacity: 1; white-space: pre; opacity: 1;\" transform=\"translate(0,189.31)\">70</text></g><g class=\"ytick\"><text text-anchor=\"end\" x=\"79\" y=\"4.199999999999999\" style=\"font-family: 'Open Sans', verdana, arial, sans-serif; font-size: 12px; fill: rgb(42, 63, 95); fill-opacity: 1; white-space: pre; opacity: 1;\" transform=\"translate(0,144.79000000000002)\">80</text></g><g class=\"ytick\"><text text-anchor=\"end\" x=\"79\" y=\"4.199999999999999\" style=\"font-family: 'Open Sans', verdana, arial, sans-serif; font-size: 12px; fill: rgb(42, 63, 95); fill-opacity: 1; white-space: pre; opacity: 1;\" transform=\"translate(0,100.25999999999999)\">90</text></g></g><g class=\"overaxes-above\"/></g></g><g class=\"polarlayer\"/><g class=\"smithlayer\"/><g class=\"ternarylayer\"/><g class=\"geolayer\"/><g class=\"funnelarealayer\"/><g class=\"pielayer\"/><g class=\"iciclelayer\"/><g class=\"treemaplayer\"/><g class=\"sunburstlayer\"/><g class=\"glimages\"/><defs id=\"topdefs-ddc093\"><g class=\"clips\"/><clipPath id=\"legendddc093\"><rect width=\"184\" height=\"67\" x=\"0\" y=\"0\"/></clipPath></defs><g class=\"layer-above\"><g class=\"imagelayer\"/><g class=\"shapelayer\"/></g><g class=\"infolayer\"><g class=\"legend\" pointer-events=\"all\" transform=\"translate(504.32,60)\"><rect class=\"bg\" shape-rendering=\"crispEdges\" style=\"stroke: rgb(68, 68, 68); stroke-opacity: 1; fill: rgb(255, 255, 255); fill-opacity: 1; stroke-width: 0px;\" width=\"184\" height=\"67\" x=\"0\" y=\"0\"/><g class=\"scrollbox\" transform=\"\" clip-path=\"url(#legendddc093)\"><text class=\"legendtitletext\" text-anchor=\"start\" x=\"2\" y=\"18.2\" style=\"font-family: 'Open Sans', verdana, arial, sans-serif; font-size: 14px; fill: rgb(42, 63, 95); fill-opacity: 1; white-space: pre;\">variable</text><g class=\"groups\" transform=\"\"><g class=\"traces\" transform=\"translate(0,32.7)\" style=\"opacity: 1;\"><text class=\"legendtext\" text-anchor=\"start\" x=\"40\" y=\"4.680000000000001\" style=\"font-family: 'Open Sans', verdana, arial, sans-serif; font-size: 12px; fill: rgb(42, 63, 95); fill-opacity: 1; white-space: pre;\">y_true</text><g class=\"layers\" style=\"opacity: 1;\"><g class=\"legendfill\"/><g class=\"legendlines\"><path class=\"js-line\" d=\"M5,0h30\" style=\"fill: none; stroke: rgb(99, 110, 250); stroke-opacity: 1; stroke-width: 2px;\"/></g><g class=\"legendsymbols\"><g class=\"legendpoints\"/></g></g><rect class=\"legendtoggle\" x=\"0\" y=\"-9.5\" width=\"178.5\" height=\"19\" style=\"fill: rgb(0, 0, 0); fill-opacity: 0;\"/></g></g><g class=\"groups\" transform=\"\"><g class=\"traces\" transform=\"translate(0,51.7)\" style=\"opacity: 1;\"><text class=\"legendtext\" text-anchor=\"start\" x=\"40\" y=\"4.680000000000001\" style=\"font-family: 'Open Sans', verdana, arial, sans-serif; font-size: 12px; fill: rgb(42, 63, 95); fill-opacity: 1; white-space: pre;\">y_pred_scaled_inverse</text><g class=\"layers\" style=\"opacity: 1;\"><g class=\"legendfill\"/><g class=\"legendlines\"><path class=\"js-line\" d=\"M5,0h30\" style=\"fill: none; stroke: rgb(239, 85, 59); stroke-opacity: 1; stroke-width: 2px;\"/></g><g class=\"legendsymbols\"><g class=\"legendpoints\"/></g></g><rect class=\"legendtoggle\" x=\"0\" y=\"-9.5\" width=\"178.5\" height=\"19\" style=\"fill: rgb(0, 0, 0); fill-opacity: 0;\"/></g></g></g><rect class=\"scrollbar\" rx=\"20\" ry=\"3\" width=\"0\" height=\"0\" style=\"fill: rgb(128, 139, 164); fill-opacity: 1;\" x=\"0\" y=\"0\"/></g><g class=\"g-gtitle\"/><g class=\"g-xtitle\"><text class=\"xtitle\" x=\"288\" y=\"475.909375\" text-anchor=\"middle\" style=\"font-family: 'Open Sans', verdana, arial, sans-serif; font-size: 14px; fill: rgb(42, 63, 95); opacity: 1; font-weight: normal; white-space: pre;\">index</text></g><g class=\"g-ytitle\"><text class=\"ytitle\" transform=\"rotate(-90,39.434375,240)\" x=\"39.434375\" y=\"240\" text-anchor=\"middle\" style=\"font-family: 'Open Sans', verdana, arial, sans-serif; font-size: 14px; fill: rgb(42, 63, 95); opacity: 1; font-weight: normal; white-space: pre;\">value</text></g></g></svg>"
      ]
     },
     "metadata": {},
     "output_type": "display_data"
    }
   ],
   "source": [
    "utils.plot_df(df_pred)"
   ]
  }
 ],
 "metadata": {
  "Author": "Jesús López",
  "Company": "Datons Academy",
  "Copyright": "Copyright 2023, Jesús López",
  "kernelspec": {
   "display_name": "work",
   "language": "python",
   "name": "python3"
  },
  "language_info": {
   "codemirror_mode": {
    "name": "ipython",
    "version": 3
   },
   "file_extension": ".py",
   "mimetype": "text/x-python",
   "name": "python",
   "nbconvert_exporter": "python",
   "pygments_lexer": "ipython3",
   "version": "3.12.2"
  },
  "papermill": {
   "default_parameters": {},
   "duration": 48.252474,
   "end_time": "2024-05-29T22:43:44.002209",
   "environment_variables": {},
   "exception": null,
   "input_path": "/Users/sota/Library/CloudStorage/Dropbox/2 Business/1 Datons/2 Areas/Courses/22 TS/solutions-new/notebooks/60_Forecasting II Deep Learning/6_Summary/1.ipynb",
   "output_path": "/Users/sota/Library/CloudStorage/Dropbox/2 Business/1 Datons/2 Areas/Courses/22 TS/solutions-new/notebooks/60_Forecasting II Deep Learning/6_Summary/1.ipynb",
   "parameters": {},
   "start_time": "2024-05-29T22:42:55.749735",
   "version": "2.5.0"
  },
  "toc-autonumbering": true
 },
 "nbformat": 4,
 "nbformat_minor": 5
}
