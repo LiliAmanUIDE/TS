{
 "cells": [
  {
   "cell_type": "markdown",
   "id": "9ccd9d78-89b6-4095-b778-d8d176b85fc1",
   "metadata": {
    "papermill": {
     "duration": 0.003475,
     "end_time": "2024-05-29T22:41:02.634731",
     "exception": false,
     "start_time": "2024-05-29T22:41:02.631256",
     "status": "completed"
    },
    "tags": []
   },
   "source": [
    "# Model Evaluation"
   ]
  },
  {
   "cell_type": "markdown",
   "id": "c9c0d9bc-3252-49c6-85f7-7bc6fc99bfd1",
   "metadata": {
    "papermill": {
     "duration": 0.002444,
     "end_time": "2024-05-29T22:41:02.640365",
     "exception": false,
     "start_time": "2024-05-29T22:41:02.637921",
     "status": "completed"
    },
    "tags": []
   },
   "source": [
    "## Load Dataset"
   ]
  },
  {
   "cell_type": "code",
   "execution_count": 1,
   "id": "f21d22c7-4441-4d7a-8985-9637d977de79",
   "metadata": {
    "execution": {
     "iopub.execute_input": "2024-05-29T22:41:02.645301Z",
     "iopub.status.busy": "2024-05-29T22:41:02.645112Z",
     "iopub.status.idle": "2024-05-29T22:41:02.765436Z",
     "shell.execute_reply": "2024-05-29T22:41:02.765198Z"
    },
    "papermill": {
     "duration": 0.123912,
     "end_time": "2024-05-29T22:41:02.766238",
     "exception": false,
     "start_time": "2024-05-29T22:41:02.642326",
     "status": "completed"
    },
    "tags": [
     "required",
     "Fixed"
    ]
   },
   "outputs": [
    {
     "data": {
      "text/html": [
       "<div>\n",
       "<style scoped>\n",
       "    .dataframe tbody tr th:only-of-type {\n",
       "        vertical-align: middle;\n",
       "    }\n",
       "\n",
       "    .dataframe tbody tr th {\n",
       "        vertical-align: top;\n",
       "    }\n",
       "\n",
       "    .dataframe thead th {\n",
       "        text-align: right;\n",
       "    }\n",
       "</style>\n",
       "<table border=\"1\" class=\"dataframe\">\n",
       "  <thead>\n",
       "    <tr style=\"text-align: right;\">\n",
       "      <th></th>\n",
       "      <th>Mercado SPOT</th>\n",
       "    </tr>\n",
       "    <tr>\n",
       "      <th>datetime_utc</th>\n",
       "      <th></th>\n",
       "    </tr>\n",
       "  </thead>\n",
       "  <tbody>\n",
       "    <tr>\n",
       "      <th>2020-01-01 00:00:00+00:00</th>\n",
       "      <td>38.60</td>\n",
       "    </tr>\n",
       "    <tr>\n",
       "      <th>2020-01-01 01:00:00+00:00</th>\n",
       "      <td>36.55</td>\n",
       "    </tr>\n",
       "    <tr>\n",
       "      <th>...</th>\n",
       "      <td>...</td>\n",
       "    </tr>\n",
       "    <tr>\n",
       "      <th>2023-08-04 20:00:00+00:00</th>\n",
       "      <td>94.00</td>\n",
       "    </tr>\n",
       "    <tr>\n",
       "      <th>2023-08-04 21:00:00+00:00</th>\n",
       "      <td>91.70</td>\n",
       "    </tr>\n",
       "  </tbody>\n",
       "</table>\n",
       "<p>31558 rows × 1 columns</p>\n",
       "</div>"
      ],
      "text/plain": [
       "                           Mercado SPOT\n",
       "datetime_utc                           \n",
       "2020-01-01 00:00:00+00:00         38.60\n",
       "2020-01-01 01:00:00+00:00         36.55\n",
       "...                                 ...\n",
       "2023-08-04 20:00:00+00:00         94.00\n",
       "2023-08-04 21:00:00+00:00         91.70\n",
       "\n",
       "[31558 rows x 1 columns]"
      ]
     },
     "execution_count": 1,
     "metadata": {},
     "output_type": "execute_result"
    }
   ],
   "source": [
    "import pandas as pd\n",
    "df = pd.read_csv('../data/precio_mercado_diario.csv', parse_dates=['datetime_utc'], index_col=0)\n",
    "df = df.loc[\"2020\":].copy()\n",
    "df"
   ]
  },
  {
   "cell_type": "markdown",
   "id": "42e29c05-0baf-4942-827d-7359b74de9b8",
   "metadata": {
    "papermill": {
     "duration": 0.001685,
     "end_time": "2024-05-29T22:41:02.769763",
     "exception": false,
     "start_time": "2024-05-29T22:41:02.768078",
     "status": "completed"
    },
    "tags": []
   },
   "source": [
    "## Data Preprocessing"
   ]
  },
  {
   "cell_type": "code",
   "execution_count": 2,
   "id": "41917d18-fc4f-42d6-a3d1-c1358b1cf160",
   "metadata": {
    "execution": {
     "iopub.execute_input": "2024-05-29T22:41:02.773666Z",
     "iopub.status.busy": "2024-05-29T22:41:02.773553Z",
     "iopub.status.idle": "2024-05-29T22:41:03.038790Z",
     "shell.execute_reply": "2024-05-29T22:41:03.038475Z"
    },
    "papermill": {
     "duration": 0.268242,
     "end_time": "2024-05-29T22:41:03.039866",
     "exception": false,
     "start_time": "2024-05-29T22:41:02.771624",
     "status": "completed"
    },
    "tags": []
   },
   "outputs": [],
   "source": [
    "### Data Numpy Array\n",
    "data_array = df.values\n",
    "\n",
    "### Train Test Split\n",
    "from sklearn.model_selection import train_test_split\n",
    "train, test = train_test_split(data_array, test_size=0.2, shuffle=False)\n",
    "\n",
    "### Create Sequences\n",
    "import numpy as np\n",
    "def create_sequences(data, sequence_length):\n",
    "    X, y = [], []\n",
    "    for i in range(len(data) - sequence_length):\n",
    "        X.append(data[i:i+sequence_length])\n",
    "        y.append(data[i+sequence_length])\n",
    "    return np.array(X), np.array(y)\n",
    "\n",
    "sequence_length = 24 # Use 24 hours prior to predict the following hour\n",
    "X_train, y_train = create_sequences(train, sequence_length)\n",
    "X_test, y_test = create_sequences(test, sequence_length)"
   ]
  },
  {
   "cell_type": "markdown",
   "id": "7d11665f-3e94-4285-8691-a82c6c1469a2",
   "metadata": {
    "papermill": {
     "duration": 0.001739,
     "end_time": "2024-05-29T22:41:03.043555",
     "exception": false,
     "start_time": "2024-05-29T22:41:03.041816",
     "status": "completed"
    },
    "tags": []
   },
   "source": [
    "## Modelling"
   ]
  },
  {
   "cell_type": "markdown",
   "id": "580adbda-f303-4891-9a35-66a930ad5d15",
   "metadata": {
    "papermill": {
     "duration": 0.001637,
     "end_time": "2024-05-29T22:41:03.046906",
     "exception": false,
     "start_time": "2024-05-29T22:41:03.045269",
     "status": "completed"
    },
    "tags": []
   },
   "source": [
    "### Design NN Architecture"
   ]
  },
  {
   "cell_type": "code",
   "execution_count": 3,
   "id": "f4613513-d44a-4dae-a60b-7d9bbfea0151",
   "metadata": {
    "execution": {
     "iopub.execute_input": "2024-05-29T22:41:03.051500Z",
     "iopub.status.busy": "2024-05-29T22:41:03.051275Z",
     "iopub.status.idle": "2024-05-29T22:41:04.126425Z",
     "shell.execute_reply": "2024-05-29T22:41:04.125816Z"
    },
    "papermill": {
     "duration": 1.078686,
     "end_time": "2024-05-29T22:41:04.127314",
     "exception": false,
     "start_time": "2024-05-29T22:41:03.048628",
     "status": "completed"
    },
    "tags": [
     "required"
    ]
   },
   "outputs": [
    {
     "name": "stderr",
     "output_type": "stream",
     "text": [
      "/Users/sota/miniconda3/envs/work/lib/python3.12/site-packages/keras/layers/rnn/rnn.py:205: UserWarning: Do not pass an `input_shape`/`input_dim` argument to a layer. When using Sequential models, prefer using an `Input(shape)` object as the first layer in the model instead.\n",
      "  super().__init__(**kwargs)\n"
     ]
    }
   ],
   "source": [
    "from keras.models import Sequential\n",
    "from keras.layers import LSTM, Dense, Input\n",
    "\n",
    "model = Sequential(layers=[\n",
    "    Input(shape=(X_train.shape[1], X_train.shape[2])),\n",
    "    LSTM(50),\n",
    "    Dense(1)\n",
    "])\n",
    "\n",
    "model.compile(optimizer='adam', loss='mean_squared_error')"
   ]
  },
  {
   "cell_type": "markdown",
   "id": "8696056a-4485-4058-b436-b2dd82d10747",
   "metadata": {
    "papermill": {
     "duration": 0.001818,
     "end_time": "2024-05-29T22:41:04.131061",
     "exception": false,
     "start_time": "2024-05-29T22:41:04.129243",
     "status": "completed"
    },
    "tags": []
   },
   "source": [
    "### Train Model"
   ]
  },
  {
   "cell_type": "code",
   "execution_count": 4,
   "id": "cea05c67-e94f-40f4-ab07-e51f6aa9c3ce",
   "metadata": {
    "execution": {
     "iopub.execute_input": "2024-05-29T22:41:04.135305Z",
     "iopub.status.busy": "2024-05-29T22:41:04.135140Z",
     "iopub.status.idle": "2024-05-29T22:41:37.967797Z",
     "shell.execute_reply": "2024-05-29T22:41:37.967446Z"
    },
    "papermill": {
     "duration": 33.835906,
     "end_time": "2024-05-29T22:41:37.968841",
     "exception": false,
     "start_time": "2024-05-29T22:41:04.132935",
     "status": "completed"
    },
    "tags": [
     "required"
    ]
   },
   "outputs": [],
   "source": [
    "from keras.callbacks import EarlyStopping\n",
    "\n",
    "early_stop = EarlyStopping(monitor='val_loss', mode='min', patience=3)\n",
    "history = model.fit(\n",
    "    X_train, y_train, epochs=50, batch_size=64, verbose=0,\n",
    "    validation_data=(X_test, y_test), callbacks=[early_stop])"
   ]
  },
  {
   "cell_type": "markdown",
   "id": "d81bdb9f-a05f-4048-82ae-35f2107701f2",
   "metadata": {
    "papermill": {
     "duration": 0.001739,
     "end_time": "2024-05-29T22:41:37.972589",
     "exception": false,
     "start_time": "2024-05-29T22:41:37.970850",
     "status": "completed"
    },
    "tags": []
   },
   "source": [
    "### Calculate Predictions"
   ]
  },
  {
   "cell_type": "code",
   "execution_count": 5,
   "id": "c7ea783d-fe2b-4135-b020-1c111486a624",
   "metadata": {
    "execution": {
     "iopub.execute_input": "2024-05-29T22:41:37.976397Z",
     "iopub.status.busy": "2024-05-29T22:41:37.976278Z",
     "iopub.status.idle": "2024-05-29T22:41:38.297989Z",
     "shell.execute_reply": "2024-05-29T22:41:38.297538Z"
    },
    "papermill": {
     "duration": 0.324625,
     "end_time": "2024-05-29T22:41:38.298856",
     "exception": false,
     "start_time": "2024-05-29T22:41:37.974231",
     "status": "completed"
    },
    "tags": [
     "required"
    ]
   },
   "outputs": [
    {
     "name": "stdout",
     "output_type": "stream",
     "text": [
      "\r\n",
      "\u001b[1m  1/197\u001b[0m \u001b[37m━━━━━━━━━━━━━━━━━━━━\u001b[0m \u001b[1m11s\u001b[0m 58ms/step"
     ]
    },
    {
     "name": "stdout",
     "output_type": "stream",
     "text": [
      "\b\b\b\b\b\b\b\b\b\b\b\b\b\b\b\b\b\b\b\b\b\b\b\b\b\b\b\b\b\b\b\b\b\b\b\b\b\b\b\b\b\b\r\n",
      "\u001b[1m 56/197\u001b[0m \u001b[32m━━━━━\u001b[0m\u001b[37m━━━━━━━━━━━━━━━\u001b[0m \u001b[1m0s\u001b[0m 910us/step"
     ]
    },
    {
     "name": "stdout",
     "output_type": "stream",
     "text": [
      "\b\b\b\b\b\b\b\b\b\b\b\b\b\b\b\b\b\b\b\b\b\b\b\b\b\b\b\b\b\b\b\b\b\b\b\b\b\b\b\b\b\b\r\n",
      "\u001b[1m111/197\u001b[0m \u001b[32m━━━━━━━━━━━\u001b[0m\u001b[37m━━━━━━━━━\u001b[0m \u001b[1m0s\u001b[0m 916us/step"
     ]
    },
    {
     "name": "stdout",
     "output_type": "stream",
     "text": [
      "\b\b\b\b\b\b\b\b\b\b\b\b\b\b\b\b\b\b\b\b\b\b\b\b\b\b\b\b\b\b\b\b\b\b\b\b\b\b\b\b\b\b\r\n",
      "\u001b[1m169/197\u001b[0m \u001b[32m━━━━━━━━━━━━━━━━━\u001b[0m\u001b[37m━━━\u001b[0m \u001b[1m0s\u001b[0m 900us/step"
     ]
    },
    {
     "name": "stdout",
     "output_type": "stream",
     "text": [
      "\b\b\b\b\b\b\b\b\b\b\b\b\b\b\b\b\b\b\b\b\b\b\b\b\b\b\b\b\b\b\b\b\b\b\b\b\b\b\b\b\b\b\r\n",
      "\u001b[1m197/197\u001b[0m \u001b[32m━━━━━━━━━━━━━━━━━━━━\u001b[0m\u001b[37m\u001b[0m \u001b[1m0s\u001b[0m 1ms/step  "
     ]
    },
    {
     "name": "stdout",
     "output_type": "stream",
     "text": [
      "\b\b\b\b\b\b\b\b\b\b\b\b\b\b\b\b\b\b\b\b\b\b\b\b\b\b\b\b\b\b\b\b\b\b\b\b\b\b\b\b\r\n",
      "\u001b[1m197/197\u001b[0m \u001b[32m━━━━━━━━━━━━━━━━━━━━\u001b[0m\u001b[37m\u001b[0m \u001b[1m0s\u001b[0m 1ms/step\n"
     ]
    },
    {
     "data": {
      "text/plain": [
       "array([[122.53596],\n",
       "       [ 95.38285],\n",
       "       [ 83.41055],\n",
       "       ...,\n",
       "       [ 99.38489],\n",
       "       [ 94.59115],\n",
       "       [ 91.81565]], dtype=float32)"
      ]
     },
     "execution_count": 5,
     "metadata": {},
     "output_type": "execute_result"
    }
   ],
   "source": [
    "y_pred = model.predict(X_test)\n",
    "y_pred"
   ]
  },
  {
   "cell_type": "markdown",
   "id": "3fc1f90c-2ca7-4554-acf8-082b4249a88a",
   "metadata": {
    "papermill": {
     "duration": 0.001733,
     "end_time": "2024-05-29T22:41:38.302709",
     "exception": false,
     "start_time": "2024-05-29T22:41:38.300976",
     "status": "completed"
    },
    "tags": []
   },
   "source": [
    "## Comparison: Real Data & Prediction"
   ]
  },
  {
   "cell_type": "markdown",
   "id": "db93d49c-e454-4a67-9c23-c8e63d2f1973",
   "metadata": {
    "papermill": {
     "duration": 0.001597,
     "end_time": "2024-05-29T22:41:38.305905",
     "exception": false,
     "start_time": "2024-05-29T22:41:38.304308",
     "status": "completed"
    },
    "tags": []
   },
   "source": [
    "### Create DataFrame"
   ]
  },
  {
   "cell_type": "code",
   "execution_count": 6,
   "id": "57c5f871",
   "metadata": {
    "execution": {
     "iopub.execute_input": "2024-05-29T22:41:38.309497Z",
     "iopub.status.busy": "2024-05-29T22:41:38.309374Z",
     "iopub.status.idle": "2024-05-29T22:41:38.311105Z",
     "shell.execute_reply": "2024-05-29T22:41:38.310880Z"
    },
    "papermill": {
     "duration": 0.004347,
     "end_time": "2024-05-29T22:41:38.311716",
     "exception": false,
     "start_time": "2024-05-29T22:41:38.307369",
     "status": "completed"
    },
    "tags": []
   },
   "outputs": [],
   "source": [
    "import sys\n",
    "sys.path.append('../')"
   ]
  },
  {
   "cell_type": "code",
   "execution_count": 7,
   "id": "2191a732-709b-4052-b0e6-f2c2fc7c17a8",
   "metadata": {
    "execution": {
     "iopub.execute_input": "2024-05-29T22:41:38.315116Z",
     "iopub.status.busy": "2024-05-29T22:41:38.315018Z",
     "iopub.status.idle": "2024-05-29T22:41:38.400875Z",
     "shell.execute_reply": "2024-05-29T22:41:38.400613Z"
    },
    "papermill": {
     "duration": 0.08841,
     "end_time": "2024-05-29T22:41:38.401642",
     "exception": false,
     "start_time": "2024-05-29T22:41:38.313232",
     "status": "completed"
    },
    "tags": []
   },
   "outputs": [
    {
     "name": "stderr",
     "output_type": "stream",
     "text": [
      "/Users/sota/Library/CloudStorage/Dropbox/2 Business/1 Datons/2 Areas/Courses/22 TS/solutions-new/notebooks/60_Forecasting II Deep Learning/3_Model Evaluation/../utils.py:10: FutureWarning: 'H' is deprecated and will be removed in a future version, please use 'h' instead.\n",
      "  index = pd.date_range(start=date_start, end=date_end, freq='H')\n"
     ]
    },
    {
     "data": {
      "text/html": [
       "<div>\n",
       "<style scoped>\n",
       "    .dataframe tbody tr th:only-of-type {\n",
       "        vertical-align: middle;\n",
       "    }\n",
       "\n",
       "    .dataframe tbody tr th {\n",
       "        vertical-align: top;\n",
       "    }\n",
       "\n",
       "    .dataframe thead th {\n",
       "        text-align: right;\n",
       "    }\n",
       "</style>\n",
       "<table border=\"1\" class=\"dataframe\">\n",
       "  <thead>\n",
       "    <tr style=\"text-align: right;\">\n",
       "      <th></th>\n",
       "      <th>y_true</th>\n",
       "      <th>y_pred</th>\n",
       "    </tr>\n",
       "  </thead>\n",
       "  <tbody>\n",
       "    <tr>\n",
       "      <th>2022-11-15 22:00:00+00:00</th>\n",
       "      <td>105.00</td>\n",
       "      <td>122.535957</td>\n",
       "    </tr>\n",
       "    <tr>\n",
       "      <th>2022-11-15 23:00:00+00:00</th>\n",
       "      <td>90.52</td>\n",
       "      <td>95.382851</td>\n",
       "    </tr>\n",
       "    <tr>\n",
       "      <th>...</th>\n",
       "      <td>...</td>\n",
       "      <td>...</td>\n",
       "    </tr>\n",
       "    <tr>\n",
       "      <th>2023-08-04 20:00:00+00:00</th>\n",
       "      <td>94.00</td>\n",
       "      <td>94.591148</td>\n",
       "    </tr>\n",
       "    <tr>\n",
       "      <th>2023-08-04 21:00:00+00:00</th>\n",
       "      <td>91.70</td>\n",
       "      <td>91.815651</td>\n",
       "    </tr>\n",
       "  </tbody>\n",
       "</table>\n",
       "<p>6288 rows × 2 columns</p>\n",
       "</div>"
      ],
      "text/plain": [
       "                           y_true      y_pred\n",
       "2022-11-15 22:00:00+00:00  105.00  122.535957\n",
       "2022-11-15 23:00:00+00:00   90.52   95.382851\n",
       "...                           ...         ...\n",
       "2023-08-04 20:00:00+00:00   94.00   94.591148\n",
       "2023-08-04 21:00:00+00:00   91.70   91.815651\n",
       "\n",
       "[6288 rows x 2 columns]"
      ]
     },
     "execution_count": 7,
     "metadata": {},
     "output_type": "execute_result"
    }
   ],
   "source": [
    "import utils\n",
    "\n",
    "dic_pred = {\n",
    "    'y_pred': y_pred\n",
    "}\n",
    "\n",
    "df_pred = utils.process_df_pred(df, y_test, dic_pred)\n",
    "df_pred"
   ]
  },
  {
   "cell_type": "markdown",
   "id": "c873b4fb-5815-42a7-b054-37218dc37644",
   "metadata": {
    "papermill": {
     "duration": 0.002222,
     "end_time": "2024-05-29T22:41:38.406083",
     "exception": false,
     "start_time": "2024-05-29T22:41:38.403861",
     "status": "completed"
    },
    "tags": []
   },
   "source": [
    "### Visualize Data"
   ]
  },
  {
   "cell_type": "markdown",
   "id": "b596dac3-ab47-4ddf-8feb-afaa719a4f32",
   "metadata": {
    "papermill": {
     "duration": 0.001854,
     "end_time": "2024-05-29T22:41:38.409892",
     "exception": false,
     "start_time": "2024-05-29T22:41:38.408038",
     "status": "completed"
    },
    "tags": []
   },
   "source": [
    "#### All Hours"
   ]
  },
  {
   "cell_type": "code",
   "execution_count": 8,
   "id": "2593f3cc-9be3-4d28-9e3e-5f1a1404d078",
   "metadata": {
    "execution": {
     "iopub.execute_input": "2024-05-29T22:41:38.414139Z",
     "iopub.status.busy": "2024-05-29T22:41:38.414002Z",
     "iopub.status.idle": "2024-05-29T22:41:39.859554Z",
     "shell.execute_reply": "2024-05-29T22:41:39.859225Z"
    },
    "papermill": {
     "duration": 1.448623,
     "end_time": "2024-05-29T22:41:39.860320",
     "exception": false,
     "start_time": "2024-05-29T22:41:38.411697",
     "status": "completed"
    },
    "tags": []
   },
   "outputs": [
    {
     "data": {
      "image/svg+xml": [
       "<svg class=\"main-svg\" xmlns=\"http://www.w3.org/2000/svg\" xmlns:xlink=\"http://www.w3.org/1999/xlink\" width=\"700\" height=\"500\" style=\"\" viewBox=\"0 0 700 500\"><rect x=\"0\" y=\"0\" width=\"700\" height=\"500\" style=\"fill: rgb(255, 255, 255); fill-opacity: 1;\"/><defs id=\"defs-9b501c\"><g class=\"clips\"><clipPath id=\"clip9b501cxyplot\" class=\"plotclip\"><rect width=\"511\" height=\"360\"/></clipPath><clipPath class=\"axesclip\" id=\"clip9b501cx\"><rect x=\"80\" y=\"0\" width=\"511\" height=\"500\"/></clipPath><clipPath class=\"axesclip\" id=\"clip9b501cy\"><rect x=\"0\" y=\"60\" width=\"700\" height=\"360\"/></clipPath><clipPath class=\"axesclip\" id=\"clip9b501cxy\"><rect x=\"80\" y=\"60\" width=\"511\" height=\"360\"/></clipPath></g><g class=\"gradients\"/><g class=\"patterns\"/></defs><g class=\"bglayer\"><rect class=\"bg\" x=\"80\" y=\"60\" width=\"511\" height=\"360\" style=\"fill: rgb(229, 236, 246); fill-opacity: 1; stroke-width: 0;\"/></g><g class=\"layer-below\"><g class=\"imagelayer\"/><g class=\"shapelayer\"/></g><g class=\"cartesianlayer\"><g class=\"subplot xy\"><g class=\"layer-subplot\"><g class=\"shapelayer\"/><g class=\"imagelayer\"/></g><g class=\"minor-gridlayer\"><g class=\"x\"/><g class=\"y\"/></g><g class=\"gridlayer\"><g class=\"x\"><path class=\"xgrid crisp\" transform=\"translate(169.89,0)\" d=\"M0,60v360\" style=\"stroke: rgb(255, 255, 255); stroke-opacity: 1; stroke-width: 1px;\"/><path class=\"xgrid crisp\" transform=\"translate(284.99,0)\" d=\"M0,60v360\" style=\"stroke: rgb(255, 255, 255); stroke-opacity: 1; stroke-width: 1px;\"/><path class=\"xgrid crisp\" transform=\"translate(403.98,0)\" d=\"M0,60v360\" style=\"stroke: rgb(255, 255, 255); stroke-opacity: 1; stroke-width: 1px;\"/><path class=\"xgrid crisp\" transform=\"translate(522.97,0)\" d=\"M0,60v360\" style=\"stroke: rgb(255, 255, 255); stroke-opacity: 1; stroke-width: 1px;\"/></g><g class=\"y\"><path class=\"ygrid crisp\" transform=\"translate(0,325.79)\" d=\"M80,0h511\" style=\"stroke: rgb(255, 255, 255); stroke-opacity: 1; stroke-width: 1px;\"/><path class=\"ygrid crisp\" transform=\"translate(0,265.85)\" d=\"M80,0h511\" style=\"stroke: rgb(255, 255, 255); stroke-opacity: 1; stroke-width: 1px;\"/><path class=\"ygrid crisp\" transform=\"translate(0,205.9)\" d=\"M80,0h511\" style=\"stroke: rgb(255, 255, 255); stroke-opacity: 1; stroke-width: 1px;\"/><path class=\"ygrid crisp\" transform=\"translate(0,145.95)\" d=\"M80,0h511\" style=\"stroke: rgb(255, 255, 255); stroke-opacity: 1; stroke-width: 1px;\"/><path class=\"ygrid crisp\" transform=\"translate(0,86.01)\" d=\"M80,0h511\" style=\"stroke: rgb(255, 255, 255); stroke-opacity: 1; stroke-width: 1px;\"/></g></g><g class=\"zerolinelayer\"><path class=\"yzl zl crisp\" transform=\"translate(0,385.74)\" d=\"M80,0h511\" style=\"stroke: rgb(255, 255, 255); stroke-opacity: 1; stroke-width: 2px;\"/></g><path class=\"xlines-below\"/><path class=\"ylines-below\"/><g class=\"overlines-below\"/><g class=\"xaxislayer-below\"/><g class=\"yaxislayer-below\"/><g class=\"overaxes-below\"/><g class=\"plot\" transform=\"translate(80,60)\" clip-path=\"url(#clip9b501cxyplot)\"/><g class=\"overplot\"/><path class=\"xlines-above crisp\" d=\"M0,0\" style=\"fill: none;\"/><path class=\"ylines-above crisp\" d=\"M0,0\" style=\"fill: none;\"/><g class=\"overlines-above\"/><g class=\"xaxislayer-above\"><g class=\"xtick\"><text text-anchor=\"middle\" x=\"0\" y=\"433\" transform=\"translate(169.89,0)\" style=\"font-family: 'Open Sans', verdana, arial, sans-serif; font-size: 12px; fill: rgb(42, 63, 95); fill-opacity: 1; white-space: pre; opacity: 1;\">Jan 2023</text></g><g class=\"xtick\"><text text-anchor=\"middle\" x=\"0\" y=\"433\" style=\"font-family: 'Open Sans', verdana, arial, sans-serif; font-size: 12px; fill: rgb(42, 63, 95); fill-opacity: 1; white-space: pre; opacity: 1;\" transform=\"translate(284.99,0)\">Mar 2023</text></g><g class=\"xtick\"><text text-anchor=\"middle\" x=\"0\" y=\"433\" style=\"font-family: 'Open Sans', verdana, arial, sans-serif; font-size: 12px; fill: rgb(42, 63, 95); fill-opacity: 1; white-space: pre; opacity: 1;\" transform=\"translate(403.98,0)\">May 2023</text></g><g class=\"xtick\"><text text-anchor=\"middle\" x=\"0\" y=\"433\" style=\"font-family: 'Open Sans', verdana, arial, sans-serif; font-size: 12px; fill: rgb(42, 63, 95); fill-opacity: 1; white-space: pre; opacity: 1;\" transform=\"translate(522.97,0)\">Jul 2023</text></g></g><g class=\"yaxislayer-above\"><g class=\"ytick\"><text text-anchor=\"end\" x=\"79\" y=\"4.199999999999999\" transform=\"translate(0,385.74)\" style=\"font-family: 'Open Sans', verdana, arial, sans-serif; font-size: 12px; fill: rgb(42, 63, 95); fill-opacity: 1; white-space: pre; opacity: 1;\">0</text></g><g class=\"ytick\"><text text-anchor=\"end\" x=\"79\" y=\"4.199999999999999\" style=\"font-family: 'Open Sans', verdana, arial, sans-serif; font-size: 12px; fill: rgb(42, 63, 95); fill-opacity: 1; white-space: pre; opacity: 1;\" transform=\"translate(0,325.79)\">50</text></g><g class=\"ytick\"><text text-anchor=\"end\" x=\"79\" y=\"4.199999999999999\" style=\"font-family: 'Open Sans', verdana, arial, sans-serif; font-size: 12px; fill: rgb(42, 63, 95); fill-opacity: 1; white-space: pre; opacity: 1;\" transform=\"translate(0,265.85)\">100</text></g><g class=\"ytick\"><text text-anchor=\"end\" x=\"79\" y=\"4.199999999999999\" style=\"font-family: 'Open Sans', verdana, arial, sans-serif; font-size: 12px; fill: rgb(42, 63, 95); fill-opacity: 1; white-space: pre; opacity: 1;\" transform=\"translate(0,205.9)\">150</text></g><g class=\"ytick\"><text text-anchor=\"end\" x=\"79\" y=\"4.199999999999999\" style=\"font-family: 'Open Sans', verdana, arial, sans-serif; font-size: 12px; fill: rgb(42, 63, 95); fill-opacity: 1; white-space: pre; opacity: 1;\" transform=\"translate(0,145.95)\">200</text></g><g class=\"ytick\"><text text-anchor=\"end\" x=\"79\" y=\"4.199999999999999\" style=\"font-family: 'Open Sans', verdana, arial, sans-serif; font-size: 12px; fill: rgb(42, 63, 95); fill-opacity: 1; white-space: pre; opacity: 1;\" transform=\"translate(0,86.01)\">250</text></g></g><g class=\"overaxes-above\"/></g></g><g class=\"polarlayer\"/><g class=\"smithlayer\"/><g class=\"ternarylayer\"/><g class=\"geolayer\"/><g class=\"funnelarealayer\"/><g class=\"pielayer\"/><g class=\"iciclelayer\"/><g class=\"treemaplayer\"/><g class=\"sunburstlayer\"/><g class=\"glimages\"><image xmlns=\"http://www.w3.org/2000/svg\" xlink:href=\"data:image/png;base64,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\" preserveAspectRatio=\"none\" x=\"0\" y=\"0\" width=\"700px\" height=\"500px\"/><image xmlns=\"http://www.w3.org/2000/svg\" xlink:href=\"data:image/png;base64,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\" preserveAspectRatio=\"none\" x=\"0\" y=\"0\" width=\"700px\" height=\"500px\"/></g><defs id=\"topdefs-9b501c\"><g class=\"clips\"/><clipPath id=\"legend9b501c\"><rect width=\"87\" height=\"67\" x=\"0\" y=\"0\"/></clipPath></defs><g class=\"layer-above\"><g class=\"imagelayer\"/><g class=\"shapelayer\"/></g><g class=\"infolayer\"><g class=\"legend\" pointer-events=\"all\" transform=\"translate(601.22,60)\"><rect class=\"bg\" shape-rendering=\"crispEdges\" style=\"stroke: rgb(68, 68, 68); stroke-opacity: 1; fill: rgb(255, 255, 255); fill-opacity: 1; stroke-width: 0px;\" width=\"87\" height=\"67\" x=\"0\" y=\"0\"/><g class=\"scrollbox\" transform=\"\" clip-path=\"url(#legend9b501c)\"><text class=\"legendtitletext\" text-anchor=\"start\" x=\"2\" y=\"18.2\" style=\"font-family: 'Open Sans', verdana, arial, sans-serif; font-size: 14px; fill: rgb(42, 63, 95); fill-opacity: 1; white-space: pre;\">variable</text><g class=\"groups\" transform=\"\"><g class=\"traces\" transform=\"translate(0,32.7)\" style=\"opacity: 1;\"><text class=\"legendtext\" text-anchor=\"start\" x=\"40\" y=\"4.680000000000001\" style=\"font-family: 'Open Sans', verdana, arial, sans-serif; font-size: 12px; fill: rgb(42, 63, 95); fill-opacity: 1; white-space: pre;\">y_true</text><g class=\"layers\" style=\"opacity: 1;\"><g class=\"legendfill\"/><g class=\"legendlines\"><path class=\"js-line\" d=\"M5,0h30\" style=\"fill: none; stroke: rgb(99, 110, 250); stroke-opacity: 1; stroke-width: 2px;\"/></g><g class=\"legendsymbols\"><g class=\"legendpoints\"/></g></g><rect class=\"legendtoggle\" x=\"0\" y=\"-9.5\" width=\"81.953125\" height=\"19\" style=\"fill: rgb(0, 0, 0); fill-opacity: 0;\"/></g></g><g class=\"groups\" transform=\"\"><g class=\"traces\" transform=\"translate(0,51.7)\" style=\"opacity: 1;\"><text class=\"legendtext\" text-anchor=\"start\" x=\"40\" y=\"4.680000000000001\" style=\"font-family: 'Open Sans', verdana, arial, sans-serif; font-size: 12px; fill: rgb(42, 63, 95); fill-opacity: 1; white-space: pre;\">y_pred</text><g class=\"layers\" style=\"opacity: 1;\"><g class=\"legendfill\"/><g class=\"legendlines\"><path class=\"js-line\" d=\"M5,0h30\" style=\"fill: none; stroke: rgb(239, 85, 59); stroke-opacity: 1; stroke-width: 2px;\"/></g><g class=\"legendsymbols\"><g class=\"legendpoints\"/></g></g><rect class=\"legendtoggle\" x=\"0\" y=\"-9.5\" width=\"81.953125\" height=\"19\" style=\"fill: rgb(0, 0, 0); fill-opacity: 0;\"/></g></g></g><rect class=\"scrollbar\" rx=\"20\" ry=\"3\" width=\"0\" height=\"0\" style=\"fill: rgb(128, 139, 164); fill-opacity: 1;\" x=\"0\" y=\"0\"/></g><g class=\"g-gtitle\"/><g class=\"g-xtitle\"><text class=\"xtitle\" x=\"335.5\" y=\"460.3\" text-anchor=\"middle\" style=\"font-family: 'Open Sans', verdana, arial, sans-serif; font-size: 14px; fill: rgb(42, 63, 95); opacity: 1; font-weight: normal; white-space: pre;\">index</text></g><g class=\"g-ytitle\"><text class=\"ytitle\" transform=\"rotate(-90,31.809375000000003,240)\" x=\"31.809375000000003\" y=\"240\" text-anchor=\"middle\" style=\"font-family: 'Open Sans', verdana, arial, sans-serif; font-size: 14px; fill: rgb(42, 63, 95); opacity: 1; font-weight: normal; white-space: pre;\">value</text></g></g></svg>"
      ]
     },
     "metadata": {},
     "output_type": "display_data"
    }
   ],
   "source": [
    "utils.plot_df(df_pred)"
   ]
  },
  {
   "cell_type": "markdown",
   "id": "82f4574b-52b0-49ae-88a7-d781d025bf67",
   "metadata": {
    "papermill": {
     "duration": 0.002454,
     "end_time": "2024-05-29T22:41:39.865560",
     "exception": false,
     "start_time": "2024-05-29T22:41:39.863106",
     "status": "completed"
    },
    "tags": []
   },
   "source": [
    "#### Last 2 Days"
   ]
  },
  {
   "cell_type": "code",
   "execution_count": 9,
   "id": "a8f7bc68-37ea-4f1e-93cd-a7fae83f93f8",
   "metadata": {
    "execution": {
     "iopub.execute_input": "2024-05-29T22:41:39.871694Z",
     "iopub.status.busy": "2024-05-29T22:41:39.871552Z",
     "iopub.status.idle": "2024-05-29T22:41:39.876603Z",
     "shell.execute_reply": "2024-05-29T22:41:39.876379Z"
    },
    "papermill": {
     "duration": 0.009313,
     "end_time": "2024-05-29T22:41:39.877268",
     "exception": false,
     "start_time": "2024-05-29T22:41:39.867955",
     "status": "completed"
    },
    "tags": []
   },
   "outputs": [
    {
     "data": {
      "text/html": [
       "<div>\n",
       "<style scoped>\n",
       "    .dataframe tbody tr th:only-of-type {\n",
       "        vertical-align: middle;\n",
       "    }\n",
       "\n",
       "    .dataframe tbody tr th {\n",
       "        vertical-align: top;\n",
       "    }\n",
       "\n",
       "    .dataframe thead th {\n",
       "        text-align: right;\n",
       "    }\n",
       "</style>\n",
       "<table border=\"1\" class=\"dataframe\">\n",
       "  <thead>\n",
       "    <tr style=\"text-align: right;\">\n",
       "      <th></th>\n",
       "      <th>y_true</th>\n",
       "      <th>y_pred</th>\n",
       "    </tr>\n",
       "  </thead>\n",
       "  <tbody>\n",
       "    <tr>\n",
       "      <th>2023-08-02 00:00:00+00:00</th>\n",
       "      <td>96.09</td>\n",
       "      <td>92.463425</td>\n",
       "    </tr>\n",
       "    <tr>\n",
       "      <th>2023-08-02 01:00:00+00:00</th>\n",
       "      <td>96.09</td>\n",
       "      <td>93.606354</td>\n",
       "    </tr>\n",
       "    <tr>\n",
       "      <th>...</th>\n",
       "      <td>...</td>\n",
       "      <td>...</td>\n",
       "    </tr>\n",
       "    <tr>\n",
       "      <th>2023-08-04 20:00:00+00:00</th>\n",
       "      <td>94.00</td>\n",
       "      <td>94.591148</td>\n",
       "    </tr>\n",
       "    <tr>\n",
       "      <th>2023-08-04 21:00:00+00:00</th>\n",
       "      <td>91.70</td>\n",
       "      <td>91.815651</td>\n",
       "    </tr>\n",
       "  </tbody>\n",
       "</table>\n",
       "<p>70 rows × 2 columns</p>\n",
       "</div>"
      ],
      "text/plain": [
       "                           y_true     y_pred\n",
       "2023-08-02 00:00:00+00:00   96.09  92.463425\n",
       "2023-08-02 01:00:00+00:00   96.09  93.606354\n",
       "...                           ...        ...\n",
       "2023-08-04 20:00:00+00:00   94.00  94.591148\n",
       "2023-08-04 21:00:00+00:00   91.70  91.815651\n",
       "\n",
       "[70 rows x 2 columns]"
      ]
     },
     "execution_count": 9,
     "metadata": {},
     "output_type": "execute_result"
    }
   ],
   "source": [
    "df_pred_2 = df_pred.loc['2023-08-02':].copy()\n",
    "df_pred_2"
   ]
  },
  {
   "cell_type": "code",
   "execution_count": 10,
   "id": "10d6a299-225d-44dd-beeb-f227c92d1e2f",
   "metadata": {
    "execution": {
     "iopub.execute_input": "2024-05-29T22:41:39.883023Z",
     "iopub.status.busy": "2024-05-29T22:41:39.882929Z",
     "iopub.status.idle": "2024-05-29T22:41:39.927950Z",
     "shell.execute_reply": "2024-05-29T22:41:39.927686Z"
    },
    "papermill": {
     "duration": 0.048505,
     "end_time": "2024-05-29T22:41:39.928843",
     "exception": false,
     "start_time": "2024-05-29T22:41:39.880338",
     "status": "completed"
    },
    "tags": []
   },
   "outputs": [
    {
     "data": {
      "image/svg+xml": [
       "<svg class=\"main-svg\" xmlns=\"http://www.w3.org/2000/svg\" xmlns:xlink=\"http://www.w3.org/1999/xlink\" width=\"700\" height=\"500\" style=\"\" viewBox=\"0 0 700 500\"><rect x=\"0\" y=\"0\" width=\"700\" height=\"500\" style=\"fill: rgb(255, 255, 255); fill-opacity: 1;\"/><defs id=\"defs-07775b\"><g class=\"clips\"><clipPath id=\"clip07775bxyplot\" class=\"plotclip\"><rect width=\"511\" height=\"360\"/></clipPath><clipPath class=\"axesclip\" id=\"clip07775bx\"><rect x=\"80\" y=\"0\" width=\"511\" height=\"500\"/></clipPath><clipPath class=\"axesclip\" id=\"clip07775by\"><rect x=\"0\" y=\"60\" width=\"700\" height=\"360\"/></clipPath><clipPath class=\"axesclip\" id=\"clip07775bxy\"><rect x=\"80\" y=\"60\" width=\"511\" height=\"360\"/></clipPath></g><g class=\"gradients\"/><g class=\"patterns\"/></defs><g class=\"bglayer\"><rect class=\"bg\" x=\"80\" y=\"60\" width=\"511\" height=\"360\" style=\"fill: rgb(229, 236, 246); fill-opacity: 1; stroke-width: 0;\"/></g><g class=\"layer-below\"><g class=\"imagelayer\"/><g class=\"shapelayer\"/></g><g class=\"cartesianlayer\"><g class=\"subplot xy\"><g class=\"layer-subplot\"><g class=\"shapelayer\"/><g class=\"imagelayer\"/></g><g class=\"minor-gridlayer\"><g class=\"x\"/><g class=\"y\"/></g><g class=\"gridlayer\"><g class=\"x\"><path class=\"xgrid crisp\" transform=\"translate(168.87,0)\" d=\"M0,60v360\" style=\"stroke: rgb(255, 255, 255); stroke-opacity: 1; stroke-width: 1px;\"/><path class=\"xgrid crisp\" transform=\"translate(257.74,0)\" d=\"M0,60v360\" style=\"stroke: rgb(255, 255, 255); stroke-opacity: 1; stroke-width: 1px;\"/><path class=\"xgrid crisp\" transform=\"translate(346.61,0)\" d=\"M0,60v360\" style=\"stroke: rgb(255, 255, 255); stroke-opacity: 1; stroke-width: 1px;\"/><path class=\"xgrid crisp\" transform=\"translate(435.48,0)\" d=\"M0,60v360\" style=\"stroke: rgb(255, 255, 255); stroke-opacity: 1; stroke-width: 1px;\"/><path class=\"xgrid crisp\" transform=\"translate(524.35,0)\" d=\"M0,60v360\" style=\"stroke: rgb(255, 255, 255); stroke-opacity: 1; stroke-width: 1px;\"/></g><g class=\"y\"><path class=\"ygrid crisp\" transform=\"translate(0,407.75)\" d=\"M80,0h511\" style=\"stroke: rgb(255, 255, 255); stroke-opacity: 1; stroke-width: 1px;\"/><path class=\"ygrid crisp\" transform=\"translate(0,366.92)\" d=\"M80,0h511\" style=\"stroke: rgb(255, 255, 255); stroke-opacity: 1; stroke-width: 1px;\"/><path class=\"ygrid crisp\" transform=\"translate(0,326.1)\" d=\"M80,0h511\" style=\"stroke: rgb(255, 255, 255); stroke-opacity: 1; stroke-width: 1px;\"/><path class=\"ygrid crisp\" transform=\"translate(0,285.27)\" d=\"M80,0h511\" style=\"stroke: rgb(255, 255, 255); stroke-opacity: 1; stroke-width: 1px;\"/><path class=\"ygrid crisp\" transform=\"translate(0,244.45)\" d=\"M80,0h511\" style=\"stroke: rgb(255, 255, 255); stroke-opacity: 1; stroke-width: 1px;\"/><path class=\"ygrid crisp\" transform=\"translate(0,203.62)\" d=\"M80,0h511\" style=\"stroke: rgb(255, 255, 255); stroke-opacity: 1; stroke-width: 1px;\"/><path class=\"ygrid crisp\" transform=\"translate(0,162.8)\" d=\"M80,0h511\" style=\"stroke: rgb(255, 255, 255); stroke-opacity: 1; stroke-width: 1px;\"/><path class=\"ygrid crisp\" transform=\"translate(0,121.97)\" d=\"M80,0h511\" style=\"stroke: rgb(255, 255, 255); stroke-opacity: 1; stroke-width: 1px;\"/><path class=\"ygrid crisp\" transform=\"translate(0,81.15)\" d=\"M80,0h511\" style=\"stroke: rgb(255, 255, 255); stroke-opacity: 1; stroke-width: 1px;\"/></g></g><g class=\"zerolinelayer\"/><path class=\"xlines-below\"/><path class=\"ylines-below\"/><g class=\"overlines-below\"/><g class=\"xaxislayer-below\"/><g class=\"yaxislayer-below\"/><g class=\"overaxes-below\"/><g class=\"plot\" transform=\"translate(80,60)\" clip-path=\"url(#clip07775bxyplot)\"><g class=\"scatterlayer mlayer\"><g class=\"trace scatter traceafbb5a\" style=\"stroke-miterlimit: 2; opacity: 1;\"><g class=\"fills\"/><g class=\"errorbars\"/><g class=\"lines\"><path class=\"js-line\" d=\"M0,37.11L7.41,37.11L14.81,45.28L22.22,45.28L29.62,46.22L37.03,43.15L44.43,52.3L51.84,135.46L59.25,160.44L66.65,166.08L74.06,166.89L81.46,171.26L88.87,229.4L96.28,327.33L103.68,311.66L111.09,216.9L118.49,171.47L125.9,160.44L133.3,74.26L140.71,55.44L148.12,55.44L155.52,61.97L162.93,71.81L170.33,86.96L177.74,114.92L185.14,111.37L192.55,123.21L199.96,102.76L207.36,88.47L214.77,83.49L222.17,100.43L229.58,174.24L236.99,217.11L244.39,286.51L251.8,286.51L259.2,286.51L266.61,333.42L274.01,331.05L281.42,326.88L288.83,226.78L296.23,217.15L303.64,173.02L311.04,66.06L318.45,41.56L325.86,41.56L333.26,68.71L340.67,67.69L348.07,87.08L355.48,99.04L362.88,105.86L370.29,116.68L377.7,108.72L385.1,108.72L392.51,91.25L399.91,102.76L414.72,266.1L422.13,232.99L429.54,231.76L436.94,225.23L444.35,235.03L451.75,286.51L459.16,316.6L466.57,286.51L473.97,232.99L481.38,143.62L488.78,77.08L496.19,45.65L503.59,45.65L511,55.03\" style=\"vector-effect: none; fill: none; stroke: rgb(99, 110, 250); stroke-opacity: 1; stroke-width: 2px; opacity: 1;\"/></g><g class=\"points\"/><g class=\"text\"/></g><g class=\"trace scatter trace9a6e63\" style=\"stroke-miterlimit: 2; opacity: 1;\"><g class=\"fills\"/><g class=\"errorbars\"/><g class=\"lines\"><path class=\"js-line\" d=\"M0,51.92L7.41,47.25L14.81,44.76L22.22,51.07L29.62,48.31L37.03,48.94L44.43,46.95L51.84,61.98L59.25,151.39L66.65,177.49L74.06,173.78L81.46,166.14L88.87,165.08L96.28,233.72L103.68,342L118.49,162.64L125.9,115.85L133.3,135.26L140.71,30.96L148.12,52.92L155.52,66.82L162.93,73.75L170.33,86.62L177.74,101.48L185.14,129.57L192.55,115.73L199.96,127.4L207.36,93.61L214.77,79.33L222.17,82.9L229.58,108.35L236.99,188.85L244.39,236.81L251.8,299.39L259.2,279.93L266.61,282.65L274.01,337.22L281.42,288.85L288.83,313.17L296.23,171.31L303.64,164.86L311.04,144.81L318.45,18L325.86,41.4L333.26,55.62L340.67,87.86L348.07,86.34L355.48,106.37L362.88,115.7L370.29,115.58L377.7,124.25L385.1,107.79L392.51,109.4L399.91,85.95L407.32,110L414.72,202.52L422.13,283.67L429.54,222.58L436.94,235.55L444.35,214.34L451.75,223.95L459.16,283.71L466.57,311.83L473.97,252.93L481.38,186.18L488.78,69.94L496.19,23.66L503.59,43.23L511,54.56\" style=\"vector-effect: none; fill: none; stroke: rgb(239, 85, 59); stroke-opacity: 1; stroke-width: 2px; opacity: 1;\"/></g><g class=\"points\"/><g class=\"text\"/></g></g></g><g class=\"overplot\"/><path class=\"xlines-above crisp\" d=\"M0,0\" style=\"fill: none;\"/><path class=\"ylines-above crisp\" d=\"M0,0\" style=\"fill: none;\"/><g class=\"overlines-above\"/><g class=\"xaxislayer-above\"><g class=\"xtick\"><text text-anchor=\"middle\" x=\"0\" y=\"433\" transform=\"translate(80,0)\" style=\"font-family: 'Open Sans', verdana, arial, sans-serif; font-size: 12px; fill: rgb(42, 63, 95); fill-opacity: 1; white-space: pre; opacity: 1;\"><tspan class=\"line\" dy=\"0em\" x=\"0\" y=\"433\">00:00</tspan><tspan class=\"line\" dy=\"1.3em\" x=\"0\" y=\"433\">Aug 2, 2023</tspan></text></g><g class=\"xtick\"><text text-anchor=\"middle\" x=\"0\" y=\"433\" style=\"font-family: 'Open Sans', verdana, arial, sans-serif; font-size: 12px; fill: rgb(42, 63, 95); fill-opacity: 1; white-space: pre; opacity: 1;\" transform=\"translate(168.87,0)\">12:00</text></g><g class=\"xtick\"><text text-anchor=\"middle\" x=\"0\" y=\"433\" style=\"font-family: 'Open Sans', verdana, arial, sans-serif; font-size: 12px; fill: rgb(42, 63, 95); fill-opacity: 1; white-space: pre; opacity: 1;\" transform=\"translate(257.74,0)\"><tspan class=\"line\" dy=\"0em\" x=\"0\" y=\"433\">00:00</tspan><tspan class=\"line\" dy=\"1.3em\" x=\"0\" y=\"433\">Aug 3, 2023</tspan></text></g><g class=\"xtick\"><text text-anchor=\"middle\" x=\"0\" y=\"433\" style=\"font-family: 'Open Sans', verdana, arial, sans-serif; font-size: 12px; fill: rgb(42, 63, 95); fill-opacity: 1; white-space: pre; opacity: 1;\" transform=\"translate(346.61,0)\">12:00</text></g><g class=\"xtick\"><text text-anchor=\"middle\" x=\"0\" y=\"433\" style=\"font-family: 'Open Sans', verdana, arial, sans-serif; font-size: 12px; fill: rgb(42, 63, 95); fill-opacity: 1; white-space: pre; opacity: 1;\" transform=\"translate(435.48,0)\"><tspan class=\"line\" dy=\"0em\" x=\"0\" y=\"433\">00:00</tspan><tspan class=\"line\" dy=\"1.3em\" x=\"0\" y=\"433\">Aug 4, 2023</tspan></text></g><g class=\"xtick\"><text text-anchor=\"middle\" x=\"0\" y=\"433\" style=\"font-family: 'Open Sans', verdana, arial, sans-serif; font-size: 12px; fill: rgb(42, 63, 95); fill-opacity: 1; white-space: pre; opacity: 1;\" transform=\"translate(524.35,0)\">12:00</text></g></g><g class=\"yaxislayer-above\"><g class=\"ytick\"><text text-anchor=\"end\" x=\"79\" y=\"4.199999999999999\" transform=\"translate(0,407.75)\" style=\"font-family: 'Open Sans', verdana, arial, sans-serif; font-size: 12px; fill: rgb(42, 63, 95); fill-opacity: 1; white-space: pre; opacity: 1;\">20</text></g><g class=\"ytick\"><text text-anchor=\"end\" x=\"79\" y=\"4.199999999999999\" style=\"font-family: 'Open Sans', verdana, arial, sans-serif; font-size: 12px; fill: rgb(42, 63, 95); fill-opacity: 1; white-space: pre; opacity: 1;\" transform=\"translate(0,366.92)\">30</text></g><g class=\"ytick\"><text text-anchor=\"end\" x=\"79\" y=\"4.199999999999999\" style=\"font-family: 'Open Sans', verdana, arial, sans-serif; font-size: 12px; fill: rgb(42, 63, 95); fill-opacity: 1; white-space: pre; opacity: 1;\" transform=\"translate(0,326.1)\">40</text></g><g class=\"ytick\"><text text-anchor=\"end\" x=\"79\" y=\"4.199999999999999\" style=\"font-family: 'Open Sans', verdana, arial, sans-serif; font-size: 12px; fill: rgb(42, 63, 95); fill-opacity: 1; white-space: pre; opacity: 1;\" transform=\"translate(0,285.27)\">50</text></g><g class=\"ytick\"><text text-anchor=\"end\" x=\"79\" y=\"4.199999999999999\" style=\"font-family: 'Open Sans', verdana, arial, sans-serif; font-size: 12px; fill: rgb(42, 63, 95); fill-opacity: 1; white-space: pre; opacity: 1;\" transform=\"translate(0,244.45)\">60</text></g><g class=\"ytick\"><text text-anchor=\"end\" x=\"79\" y=\"4.199999999999999\" style=\"font-family: 'Open Sans', verdana, arial, sans-serif; font-size: 12px; fill: rgb(42, 63, 95); fill-opacity: 1; white-space: pre; opacity: 1;\" transform=\"translate(0,203.62)\">70</text></g><g class=\"ytick\"><text text-anchor=\"end\" x=\"79\" y=\"4.199999999999999\" style=\"font-family: 'Open Sans', verdana, arial, sans-serif; font-size: 12px; fill: rgb(42, 63, 95); fill-opacity: 1; white-space: pre; opacity: 1;\" transform=\"translate(0,162.8)\">80</text></g><g class=\"ytick\"><text text-anchor=\"end\" x=\"79\" y=\"4.199999999999999\" style=\"font-family: 'Open Sans', verdana, arial, sans-serif; font-size: 12px; fill: rgb(42, 63, 95); fill-opacity: 1; white-space: pre; opacity: 1;\" transform=\"translate(0,121.97)\">90</text></g><g class=\"ytick\"><text text-anchor=\"end\" x=\"79\" y=\"4.199999999999999\" style=\"font-family: 'Open Sans', verdana, arial, sans-serif; font-size: 12px; fill: rgb(42, 63, 95); fill-opacity: 1; white-space: pre; opacity: 1;\" transform=\"translate(0,81.15)\">100</text></g></g><g class=\"overaxes-above\"/></g></g><g class=\"polarlayer\"/><g class=\"smithlayer\"/><g class=\"ternarylayer\"/><g class=\"geolayer\"/><g class=\"funnelarealayer\"/><g class=\"pielayer\"/><g class=\"iciclelayer\"/><g class=\"treemaplayer\"/><g class=\"sunburstlayer\"/><g class=\"glimages\"/><defs id=\"topdefs-07775b\"><g class=\"clips\"/><clipPath id=\"legend07775b\"><rect width=\"87\" height=\"67\" x=\"0\" y=\"0\"/></clipPath></defs><g class=\"layer-above\"><g class=\"imagelayer\"/><g class=\"shapelayer\"/></g><g class=\"infolayer\"><g class=\"legend\" pointer-events=\"all\" transform=\"translate(601.22,60)\"><rect class=\"bg\" shape-rendering=\"crispEdges\" width=\"87\" height=\"67\" x=\"0\" y=\"0\" style=\"stroke: rgb(68, 68, 68); stroke-opacity: 1; fill: rgb(255, 255, 255); fill-opacity: 1; stroke-width: 0px;\"/><g class=\"scrollbox\" transform=\"\" clip-path=\"url(#legend07775b)\"><text class=\"legendtitletext\" text-anchor=\"start\" x=\"2\" y=\"18.2\" style=\"font-family: 'Open Sans', verdana, arial, sans-serif; font-size: 14px; fill: rgb(42, 63, 95); fill-opacity: 1; white-space: pre;\">variable</text><g class=\"groups\" transform=\"\"><g class=\"traces\" transform=\"translate(0,32.7)\" style=\"opacity: 1;\"><text class=\"legendtext\" text-anchor=\"start\" x=\"40\" y=\"4.680000000000001\" style=\"font-family: 'Open Sans', verdana, arial, sans-serif; font-size: 12px; fill: rgb(42, 63, 95); fill-opacity: 1; white-space: pre;\">y_true</text><g class=\"layers\" style=\"opacity: 1;\"><g class=\"legendfill\"/><g class=\"legendlines\"><path class=\"js-line\" d=\"M5,0h30\" style=\"fill: none; stroke: rgb(99, 110, 250); stroke-opacity: 1; stroke-width: 2px;\"/></g><g class=\"legendsymbols\"><g class=\"legendpoints\"/></g></g><rect class=\"legendtoggle\" x=\"0\" y=\"-9.5\" width=\"81.953125\" height=\"19\" style=\"fill: rgb(0, 0, 0); fill-opacity: 0;\"/></g></g><g class=\"groups\" transform=\"\"><g class=\"traces\" transform=\"translate(0,51.7)\" style=\"opacity: 1;\"><text class=\"legendtext\" text-anchor=\"start\" x=\"40\" y=\"4.680000000000001\" style=\"font-family: 'Open Sans', verdana, arial, sans-serif; font-size: 12px; fill: rgb(42, 63, 95); fill-opacity: 1; white-space: pre;\">y_pred</text><g class=\"layers\" style=\"opacity: 1;\"><g class=\"legendfill\"/><g class=\"legendlines\"><path class=\"js-line\" d=\"M5,0h30\" style=\"fill: none; stroke: rgb(239, 85, 59); stroke-opacity: 1; stroke-width: 2px;\"/></g><g class=\"legendsymbols\"><g class=\"legendpoints\"/></g></g><rect class=\"legendtoggle\" x=\"0\" y=\"-9.5\" width=\"81.953125\" height=\"19\" style=\"fill: rgb(0, 0, 0); fill-opacity: 0;\"/></g></g></g><rect class=\"scrollbar\" rx=\"20\" ry=\"3\" width=\"0\" height=\"0\" x=\"0\" y=\"0\" style=\"fill: rgb(128, 139, 164); fill-opacity: 1;\"/></g><g class=\"g-gtitle\"/><g class=\"g-xtitle\"><text class=\"xtitle\" x=\"335.5\" y=\"475.909375\" text-anchor=\"middle\" style=\"font-family: 'Open Sans', verdana, arial, sans-serif; font-size: 14px; fill: rgb(42, 63, 95); opacity: 1; font-weight: normal; white-space: pre;\">index</text></g><g class=\"g-ytitle\"><text class=\"ytitle\" transform=\"rotate(-90,31.809375000000003,240)\" x=\"31.809375000000003\" y=\"240\" text-anchor=\"middle\" style=\"font-family: 'Open Sans', verdana, arial, sans-serif; font-size: 14px; fill: rgb(42, 63, 95); opacity: 1; font-weight: normal; white-space: pre;\">value</text></g></g></svg>"
      ]
     },
     "metadata": {},
     "output_type": "display_data"
    }
   ],
   "source": [
    "utils.plot_df(df_pred_2)"
   ]
  },
  {
   "cell_type": "markdown",
   "id": "5bfda808-909a-41ec-b0b5-94cea2d7a8ed",
   "metadata": {
    "papermill": {
     "duration": 0.00264,
     "end_time": "2024-05-29T22:41:39.934907",
     "exception": false,
     "start_time": "2024-05-29T22:41:39.932267",
     "status": "completed"
    },
    "tags": []
   },
   "source": [
    "## Metrics to Measure Model Error"
   ]
  },
  {
   "cell_type": "markdown",
   "id": "479f150f-7fda-4549-b953-0fce49f6a3f2",
   "metadata": {
    "papermill": {
     "duration": 0.002321,
     "end_time": "2024-05-29T22:41:39.939801",
     "exception": false,
     "start_time": "2024-05-29T22:41:39.937480",
     "status": "completed"
    },
    "tags": []
   },
   "source": [
    "### Mean Squared Error"
   ]
  },
  {
   "cell_type": "code",
   "execution_count": 11,
   "id": "4bce17d0-150e-4a8d-b97f-d1ac119cb74f",
   "metadata": {
    "execution": {
     "iopub.execute_input": "2024-05-29T22:41:39.944842Z",
     "iopub.status.busy": "2024-05-29T22:41:39.944728Z",
     "iopub.status.idle": "2024-05-29T22:41:39.947749Z",
     "shell.execute_reply": "2024-05-29T22:41:39.947543Z"
    },
    "papermill": {
     "duration": 0.006426,
     "end_time": "2024-05-29T22:41:39.948486",
     "exception": false,
     "start_time": "2024-05-29T22:41:39.942060",
     "status": "completed"
    },
    "tags": []
   },
   "outputs": [
    {
     "data": {
      "text/plain": [
       "126.77113485183527"
      ]
     },
     "execution_count": 11,
     "metadata": {},
     "output_type": "execute_result"
    }
   ],
   "source": [
    "df_pred['error'] = df_pred.y_true - df_pred.y_pred\n",
    "df_pred['error2'] = df_pred['error']**2\n",
    "MSE = df_pred.error2.mean()\n",
    "MSE"
   ]
  },
  {
   "cell_type": "markdown",
   "id": "aa83e81c-61c7-4421-91ba-7cbd051a704c",
   "metadata": {
    "papermill": {
     "duration": 0.002523,
     "end_time": "2024-05-29T22:41:39.953389",
     "exception": false,
     "start_time": "2024-05-29T22:41:39.950866",
     "status": "completed"
    },
    "tags": []
   },
   "source": [
    "### Mean Absolute Error"
   ]
  },
  {
   "cell_type": "code",
   "execution_count": 12,
   "id": "8c385401-c516-4467-8854-1002e3db99f4",
   "metadata": {
    "execution": {
     "iopub.execute_input": "2024-05-29T22:41:39.958864Z",
     "iopub.status.busy": "2024-05-29T22:41:39.958739Z",
     "iopub.status.idle": "2024-05-29T22:41:39.962406Z",
     "shell.execute_reply": "2024-05-29T22:41:39.962071Z"
    },
    "papermill": {
     "duration": 0.007664,
     "end_time": "2024-05-29T22:41:39.963431",
     "exception": false,
     "start_time": "2024-05-29T22:41:39.955767",
     "status": "completed"
    },
    "tags": []
   },
   "outputs": [
    {
     "data": {
      "text/plain": [
       "7.371508163532227"
      ]
     },
     "execution_count": 12,
     "metadata": {},
     "output_type": "execute_result"
    }
   ],
   "source": [
    "df_pred['error'] = df_pred.y_true - df_pred.y_pred\n",
    "df_pred['error_abs'] = df_pred['error'].abs()\n",
    "MAE = df_pred.error_abs.mean()\n",
    "MAE"
   ]
  },
  {
   "cell_type": "markdown",
   "id": "ed39b7e1-81e8-46e0-a108-bc2cbb95e43a",
   "metadata": {
    "papermill": {
     "duration": 0.003328,
     "end_time": "2024-05-29T22:41:39.970158",
     "exception": false,
     "start_time": "2024-05-29T22:41:39.966830",
     "status": "completed"
    },
    "tags": []
   },
   "source": [
    "### Root Mean Squared Error"
   ]
  },
  {
   "cell_type": "code",
   "execution_count": 13,
   "id": "65f9fa30-5406-4a09-83f9-4a8a3ec4ddb7",
   "metadata": {
    "execution": {
     "iopub.execute_input": "2024-05-29T22:41:39.976290Z",
     "iopub.status.busy": "2024-05-29T22:41:39.976152Z",
     "iopub.status.idle": "2024-05-29T22:41:39.978995Z",
     "shell.execute_reply": "2024-05-29T22:41:39.978578Z"
    },
    "papermill": {
     "duration": 0.006981,
     "end_time": "2024-05-29T22:41:39.980056",
     "exception": false,
     "start_time": "2024-05-29T22:41:39.973075",
     "status": "completed"
    },
    "tags": []
   },
   "outputs": [
    {
     "data": {
      "text/plain": [
       "11.259268841795867"
      ]
     },
     "execution_count": 13,
     "metadata": {},
     "output_type": "execute_result"
    }
   ],
   "source": [
    "RMSE = np.sqrt(MSE)\n",
    "RMSE"
   ]
  },
  {
   "cell_type": "markdown",
   "id": "8b462639-e6ab-4749-ae7c-4c7d08f725ea",
   "metadata": {
    "papermill": {
     "duration": 0.002922,
     "end_time": "2024-05-29T22:41:39.986089",
     "exception": false,
     "start_time": "2024-05-29T22:41:39.983167",
     "status": "completed"
    },
    "tags": []
   },
   "source": [
    "### Scikit-Learn Metrics"
   ]
  },
  {
   "cell_type": "code",
   "execution_count": 14,
   "id": "1009b1e9-361e-48ad-aa0b-a2a7273764e2",
   "metadata": {
    "execution": {
     "iopub.execute_input": "2024-05-29T22:41:39.992080Z",
     "iopub.status.busy": "2024-05-29T22:41:39.991941Z",
     "iopub.status.idle": "2024-05-29T22:41:39.995632Z",
     "shell.execute_reply": "2024-05-29T22:41:39.995320Z"
    },
    "papermill": {
     "duration": 0.007646,
     "end_time": "2024-05-29T22:41:39.996441",
     "exception": false,
     "start_time": "2024-05-29T22:41:39.988795",
     "status": "completed"
    },
    "tags": []
   },
   "outputs": [
    {
     "name": "stderr",
     "output_type": "stream",
     "text": [
      "/Users/sota/miniconda3/envs/work/lib/python3.12/site-packages/sklearn/metrics/_regression.py:483: FutureWarning:\n",
      "\n",
      "'squared' is deprecated in version 1.4 and will be removed in 1.6. To calculate the root mean squared error, use the function'root_mean_squared_error'.\n",
      "\n"
     ]
    }
   ],
   "source": [
    "from sklearn.metrics import mean_absolute_error, mean_squared_error\n",
    "\n",
    "mae = mean_absolute_error(y_true=df_pred.y_true, y_pred=df_pred.y_pred)\n",
    "mse = mean_squared_error(y_true=df_pred.y_true, y_pred=df_pred.y_pred)\n",
    "rmse = mean_squared_error(y_true=df_pred.y_true, y_pred=df_pred.y_pred, squared=False)"
   ]
  },
  {
   "cell_type": "code",
   "execution_count": 15,
   "id": "70041ebc-a69a-44dd-9f8c-e7bf84cab83b",
   "metadata": {
    "execution": {
     "iopub.execute_input": "2024-05-29T22:41:40.002608Z",
     "iopub.status.busy": "2024-05-29T22:41:40.002499Z",
     "iopub.status.idle": "2024-05-29T22:41:40.004485Z",
     "shell.execute_reply": "2024-05-29T22:41:40.004250Z"
    },
    "papermill": {
     "duration": 0.006034,
     "end_time": "2024-05-29T22:41:40.005252",
     "exception": false,
     "start_time": "2024-05-29T22:41:39.999218",
     "status": "completed"
    },
    "tags": []
   },
   "outputs": [
    {
     "data": {
      "text/plain": [
       "7.371508163532227"
      ]
     },
     "execution_count": 15,
     "metadata": {},
     "output_type": "execute_result"
    }
   ],
   "source": [
    "mae"
   ]
  },
  {
   "cell_type": "code",
   "execution_count": 16,
   "id": "56ce2bee-97cc-4cea-b969-b04494ad168e",
   "metadata": {
    "execution": {
     "iopub.execute_input": "2024-05-29T22:41:40.011797Z",
     "iopub.status.busy": "2024-05-29T22:41:40.011668Z",
     "iopub.status.idle": "2024-05-29T22:41:40.013964Z",
     "shell.execute_reply": "2024-05-29T22:41:40.013680Z"
    },
    "papermill": {
     "duration": 0.006676,
     "end_time": "2024-05-29T22:41:40.015005",
     "exception": false,
     "start_time": "2024-05-29T22:41:40.008329",
     "status": "completed"
    },
    "tags": []
   },
   "outputs": [
    {
     "data": {
      "text/plain": [
       "126.77113485183527"
      ]
     },
     "execution_count": 16,
     "metadata": {},
     "output_type": "execute_result"
    }
   ],
   "source": [
    "mse"
   ]
  },
  {
   "cell_type": "code",
   "execution_count": 17,
   "id": "f7c0e924-3d6d-4edc-b0f3-d56b06628f78",
   "metadata": {
    "execution": {
     "iopub.execute_input": "2024-05-29T22:41:40.022044Z",
     "iopub.status.busy": "2024-05-29T22:41:40.021924Z",
     "iopub.status.idle": "2024-05-29T22:41:40.024017Z",
     "shell.execute_reply": "2024-05-29T22:41:40.023778Z"
    },
    "papermill": {
     "duration": 0.006473,
     "end_time": "2024-05-29T22:41:40.024735",
     "exception": false,
     "start_time": "2024-05-29T22:41:40.018262",
     "status": "completed"
    },
    "tags": []
   },
   "outputs": [
    {
     "data": {
      "text/plain": [
       "11.259268841795867"
      ]
     },
     "execution_count": 17,
     "metadata": {},
     "output_type": "execute_result"
    }
   ],
   "source": [
    "rmse"
   ]
  }
 ],
 "metadata": {
  "Author": "Jesús López",
  "Company": "Datons Academy",
  "Copyright": "Copyright 2023, Jesús López",
  "kernelspec": {
   "display_name": "work",
   "language": "python",
   "name": "python3"
  },
  "language_info": {
   "codemirror_mode": {
    "name": "ipython",
    "version": 3
   },
   "file_extension": ".py",
   "mimetype": "text/x-python",
   "name": "python",
   "nbconvert_exporter": "python",
   "pygments_lexer": "ipython3",
   "version": "3.12.2"
  },
  "papermill": {
   "default_parameters": {},
   "duration": 39.030238,
   "end_time": "2024-05-29T22:41:40.647919",
   "environment_variables": {},
   "exception": null,
   "input_path": "/Users/sota/Library/CloudStorage/Dropbox/2 Business/1 Datons/2 Areas/Courses/22 TS/solutions-new/notebooks/60_Forecasting II Deep Learning/3_Model Evaluation/1.ipynb",
   "output_path": "/Users/sota/Library/CloudStorage/Dropbox/2 Business/1 Datons/2 Areas/Courses/22 TS/solutions-new/notebooks/60_Forecasting II Deep Learning/3_Model Evaluation/1.ipynb",
   "parameters": {},
   "start_time": "2024-05-29T22:41:01.617681",
   "version": "2.5.0"
  }
 },
 "nbformat": 4,
 "nbformat_minor": 5
}
