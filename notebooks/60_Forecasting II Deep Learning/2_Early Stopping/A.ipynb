{
 "cells": [
  {
   "cell_type": "markdown",
   "id": "6f625ab1",
   "metadata": {
    "papermill": {
     "duration": 0.002757,
     "end_time": "2024-05-29T22:43:45.200553",
     "exception": false,
     "start_time": "2024-05-29T22:43:45.197796",
     "status": "completed"
    },
    "tags": []
   },
   "source": [
    "# Data Preprocessing for LSTM"
   ]
  },
  {
   "cell_type": "markdown",
   "id": "84d30e8d",
   "metadata": {
    "papermill": {
     "duration": 0.002064,
     "end_time": "2024-05-29T22:43:45.205341",
     "exception": false,
     "start_time": "2024-05-29T22:43:45.203277",
     "status": "completed"
    },
    "tags": []
   },
   "source": [
    "## Load Dataset"
   ]
  },
  {
   "cell_type": "code",
   "execution_count": 1,
   "id": "9a813111",
   "metadata": {
    "execution": {
     "iopub.execute_input": "2024-05-29T22:43:45.212246Z",
     "iopub.status.busy": "2024-05-29T22:43:45.211826Z",
     "iopub.status.idle": "2024-05-29T22:43:45.339244Z",
     "shell.execute_reply": "2024-05-29T22:43:45.338992Z"
    },
    "papermill": {
     "duration": 0.132844,
     "end_time": "2024-05-29T22:43:45.340125",
     "exception": false,
     "start_time": "2024-05-29T22:43:45.207281",
     "status": "completed"
    },
    "tags": [
     "required",
     "Fixed"
    ]
   },
   "outputs": [
    {
     "data": {
      "text/html": [
       "<div>\n",
       "<style scoped>\n",
       "    .dataframe tbody tr th:only-of-type {\n",
       "        vertical-align: middle;\n",
       "    }\n",
       "\n",
       "    .dataframe tbody tr th {\n",
       "        vertical-align: top;\n",
       "    }\n",
       "\n",
       "    .dataframe thead th {\n",
       "        text-align: right;\n",
       "    }\n",
       "</style>\n",
       "<table border=\"1\" class=\"dataframe\">\n",
       "  <thead>\n",
       "    <tr style=\"text-align: right;\">\n",
       "      <th></th>\n",
       "      <th>Mercado SPOT</th>\n",
       "    </tr>\n",
       "    <tr>\n",
       "      <th>datetime_utc</th>\n",
       "      <th></th>\n",
       "    </tr>\n",
       "  </thead>\n",
       "  <tbody>\n",
       "    <tr>\n",
       "      <th>2020-01-01 00:00:00+00:00</th>\n",
       "      <td>38.60</td>\n",
       "    </tr>\n",
       "    <tr>\n",
       "      <th>2020-01-01 01:00:00+00:00</th>\n",
       "      <td>36.55</td>\n",
       "    </tr>\n",
       "    <tr>\n",
       "      <th>...</th>\n",
       "      <td>...</td>\n",
       "    </tr>\n",
       "    <tr>\n",
       "      <th>2023-08-04 20:00:00+00:00</th>\n",
       "      <td>94.00</td>\n",
       "    </tr>\n",
       "    <tr>\n",
       "      <th>2023-08-04 21:00:00+00:00</th>\n",
       "      <td>91.70</td>\n",
       "    </tr>\n",
       "  </tbody>\n",
       "</table>\n",
       "<p>31558 rows × 1 columns</p>\n",
       "</div>"
      ],
      "text/plain": [
       "                           Mercado SPOT\n",
       "datetime_utc                           \n",
       "2020-01-01 00:00:00+00:00         38.60\n",
       "2020-01-01 01:00:00+00:00         36.55\n",
       "...                                 ...\n",
       "2023-08-04 20:00:00+00:00         94.00\n",
       "2023-08-04 21:00:00+00:00         91.70\n",
       "\n",
       "[31558 rows x 1 columns]"
      ]
     },
     "execution_count": 1,
     "metadata": {},
     "output_type": "execute_result"
    }
   ],
   "source": [
    "import pandas as pd\n",
    "\n",
    "df = pd.read_csv('../data/precio_mercado_diario.csv', parse_dates=['datetime_utc'], index_col=0)\n",
    "df = df.loc[\"2020\":].copy()\n",
    "df"
   ]
  },
  {
   "cell_type": "markdown",
   "id": "01de1142",
   "metadata": {
    "papermill": {
     "duration": 0.001206,
     "end_time": "2024-05-29T22:43:45.342829",
     "exception": false,
     "start_time": "2024-05-29T22:43:45.341623",
     "status": "completed"
    },
    "tags": []
   },
   "source": [
    "## Data Preprocessing"
   ]
  },
  {
   "cell_type": "markdown",
   "id": "65a128d7",
   "metadata": {
    "papermill": {
     "duration": 0.001066,
     "end_time": "2024-05-29T22:43:45.345014",
     "exception": false,
     "start_time": "2024-05-29T22:43:45.343948",
     "status": "completed"
    },
    "tags": []
   },
   "source": [
    "### Data Numpy Array"
   ]
  },
  {
   "cell_type": "code",
   "execution_count": null,
   "id": "5cb065b5",
   "metadata": {
    "execution": {
     "iopub.execute_input": "2024-05-29T22:43:45.347476Z",
     "iopub.status.busy": "2024-05-29T22:43:45.347283Z",
     "iopub.status.idle": "2024-05-29T22:43:45.349472Z",
     "shell.execute_reply": "2024-05-29T22:43:45.349249Z"
    },
    "papermill": {
     "duration": 0.004267,
     "end_time": "2024-05-29T22:43:45.350206",
     "exception": false,
     "start_time": "2024-05-29T22:43:45.345939",
     "status": "completed"
    },
    "tags": []
   },
   "outputs": [
    {
     "data": {
      "text/plain": [
       "array([[38.6 ],\n",
       "       [36.55],\n",
       "       [32.32],\n",
       "       ...,\n",
       "       [94.  ],\n",
       "       [94.  ],\n",
       "       [91.7 ]])"
      ]
     },
     "execution_count": null,
     "metadata": {},
     "output_type": "execute_result"
    }
   ],
   "source": []
  },
  {
   "cell_type": "markdown",
   "id": "01db1980",
   "metadata": {
    "papermill": {
     "duration": 0.001122,
     "end_time": "2024-05-29T22:43:45.352367",
     "exception": false,
     "start_time": "2024-05-29T22:43:45.351245",
     "status": "completed"
    },
    "tags": []
   },
   "source": [
    "### Train Test Split"
   ]
  },
  {
   "cell_type": "code",
   "execution_count": 3,
   "id": "c9e671a6",
   "metadata": {
    "execution": {
     "iopub.execute_input": "2024-05-29T22:43:45.354757Z",
     "iopub.status.busy": "2024-05-29T22:43:45.354667Z",
     "iopub.status.idle": "2024-05-29T22:43:45.602244Z",
     "shell.execute_reply": "2024-05-29T22:43:45.601849Z"
    },
    "papermill": {
     "duration": 0.250125,
     "end_time": "2024-05-29T22:43:45.603484",
     "exception": false,
     "start_time": "2024-05-29T22:43:45.353359",
     "status": "completed"
    },
    "tags": [
     "required"
    ]
   },
   "outputs": [],
   "source": [
    "from sklearn.model_selection import train_test_split\n",
    "\n",
    "train, test = train_test_split(data_array, test_size=0.2, shuffle=False)"
   ]
  },
  {
   "cell_type": "markdown",
   "id": "0d1c0c3f",
   "metadata": {
    "papermill": {
     "duration": 0.001249,
     "end_time": "2024-05-29T22:43:45.606321",
     "exception": false,
     "start_time": "2024-05-29T22:43:45.605072",
     "status": "completed"
    },
    "tags": []
   },
   "source": [
    "### Create Sequences"
   ]
  },
  {
   "cell_type": "code",
   "execution_count": null,
   "id": "46b28bdf",
   "metadata": {
    "execution": {
     "iopub.execute_input": "2024-05-29T22:43:45.609323Z",
     "iopub.status.busy": "2024-05-29T22:43:45.609114Z",
     "iopub.status.idle": "2024-05-29T22:43:45.628330Z",
     "shell.execute_reply": "2024-05-29T22:43:45.628128Z"
    },
    "papermill": {
     "duration": 0.021495,
     "end_time": "2024-05-29T22:43:45.628988",
     "exception": false,
     "start_time": "2024-05-29T22:43:45.607493",
     "status": "completed"
    },
    "tags": []
   },
   "outputs": [
    {
     "data": {
      "text/plain": [
       "array([[[ 38.6 ],\n",
       "        [ 36.55],\n",
       "        [ 32.32],\n",
       "        ...,\n",
       "        [ 42.9 ],\n",
       "        [ 37.55],\n",
       "        [ 35.4 ]],\n",
       "\n",
       "       [[ 36.55],\n",
       "        [ 32.32],\n",
       "        [ 30.85],\n",
       "        ...,\n",
       "        [ 37.55],\n",
       "        [ 35.4 ],\n",
       "        [ 31.98]],\n",
       "\n",
       "       [[ 32.32],\n",
       "        [ 30.85],\n",
       "        [ 30.14],\n",
       "        ...,\n",
       "        [ 35.4 ],\n",
       "        [ 31.98],\n",
       "        [ 30.5 ]],\n",
       "\n",
       "       ...,\n",
       "\n",
       "       [[158.26],\n",
       "        [150.8 ],\n",
       "        [155.57],\n",
       "        ...,\n",
       "        [148.67],\n",
       "        [155.48],\n",
       "        [155.63]],\n",
       "\n",
       "       [[150.8 ],\n",
       "        [155.57],\n",
       "        [136.87],\n",
       "        ...,\n",
       "        [155.48],\n",
       "        [155.63],\n",
       "        [159.81]],\n",
       "\n",
       "       [[155.57],\n",
       "        [136.87],\n",
       "        [149.29],\n",
       "        ...,\n",
       "        [155.63],\n",
       "        [159.81],\n",
       "        [148.67]]])"
      ]
     },
     "execution_count": null,
     "metadata": {},
     "output_type": "execute_result"
    }
   ],
   "source": []
  },
  {
   "cell_type": "code",
   "execution_count": null,
   "id": "8d77cfcd",
   "metadata": {
    "execution": {
     "iopub.execute_input": "2024-05-29T22:43:45.631847Z",
     "iopub.status.busy": "2024-05-29T22:43:45.631758Z",
     "iopub.status.idle": "2024-05-29T22:43:45.633643Z",
     "shell.execute_reply": "2024-05-29T22:43:45.633450Z"
    },
    "papermill": {
     "duration": 0.003895,
     "end_time": "2024-05-29T22:43:45.634246",
     "exception": false,
     "start_time": "2024-05-29T22:43:45.630351",
     "status": "completed"
    },
    "tags": []
   },
   "outputs": [
    {
     "data": {
      "text/plain": [
       "(25222, 24, 1)"
      ]
     },
     "execution_count": null,
     "metadata": {},
     "output_type": "execute_result"
    }
   ],
   "source": []
  },
  {
   "cell_type": "code",
   "execution_count": null,
   "id": "05faa372",
   "metadata": {
    "execution": {
     "iopub.execute_input": "2024-05-29T22:43:45.636842Z",
     "iopub.status.busy": "2024-05-29T22:43:45.636757Z",
     "iopub.status.idle": "2024-05-29T22:43:45.638621Z",
     "shell.execute_reply": "2024-05-29T22:43:45.638411Z"
    },
    "papermill": {
     "duration": 0.00386,
     "end_time": "2024-05-29T22:43:45.639210",
     "exception": false,
     "start_time": "2024-05-29T22:43:45.635350",
     "status": "completed"
    },
    "tags": []
   },
   "outputs": [
    {
     "data": {
      "text/plain": [
       "array([31.98])"
      ]
     },
     "execution_count": null,
     "metadata": {},
     "output_type": "execute_result"
    }
   ],
   "source": []
  },
  {
   "cell_type": "markdown",
   "id": "050064aa",
   "metadata": {
    "papermill": {
     "duration": 0.001095,
     "end_time": "2024-05-29T22:43:45.641450",
     "exception": false,
     "start_time": "2024-05-29T22:43:45.640355",
     "status": "completed"
    },
    "tags": []
   },
   "source": [
    "## Modelling"
   ]
  },
  {
   "cell_type": "markdown",
   "id": "68099be4",
   "metadata": {
    "papermill": {
     "duration": 0.001069,
     "end_time": "2024-05-29T22:43:45.643626",
     "exception": false,
     "start_time": "2024-05-29T22:43:45.642557",
     "status": "completed"
    },
    "tags": []
   },
   "source": [
    "### Design NN Architecture"
   ]
  },
  {
   "cell_type": "code",
   "execution_count": 7,
   "id": "2a0b56ea",
   "metadata": {
    "execution": {
     "iopub.execute_input": "2024-05-29T22:43:45.646109Z",
     "iopub.status.busy": "2024-05-29T22:43:45.646029Z",
     "iopub.status.idle": "2024-05-29T22:43:46.717975Z",
     "shell.execute_reply": "2024-05-29T22:43:46.717614Z"
    },
    "papermill": {
     "duration": 1.074282,
     "end_time": "2024-05-29T22:43:46.718941",
     "exception": false,
     "start_time": "2024-05-29T22:43:45.644659",
     "status": "completed"
    },
    "tags": [
     "required"
    ]
   },
   "outputs": [],
   "source": [
    "from keras.models import Sequential\n",
    "from keras.layers import LSTM, Dense, Input\n",
    "\n",
    "model = Sequential(layers=[\n",
    "    Input(shape=(X_train.shape[1], X_train.shape[2])),\n",
    "    LSTM(units=50),\n",
    "    Dense(units=1)\n",
    "])\n",
    "\n",
    "model.compile(optimizer='adam', loss='mean_squared_error')"
   ]
  },
  {
   "cell_type": "markdown",
   "id": "009897bb",
   "metadata": {
    "papermill": {
     "duration": 0.001374,
     "end_time": "2024-05-29T22:43:46.722080",
     "exception": false,
     "start_time": "2024-05-29T22:43:46.720706",
     "status": "completed"
    },
    "tags": []
   },
   "source": [
    "### Train Model with Early Stopping"
   ]
  },
  {
   "cell_type": "code",
   "execution_count": null,
   "id": "1d0f5140",
   "metadata": {
    "execution": {
     "iopub.execute_input": "2024-05-29T22:43:46.725281Z",
     "iopub.status.busy": "2024-05-29T22:43:46.725159Z",
     "iopub.status.idle": "2024-05-29T22:44:15.150290Z",
     "shell.execute_reply": "2024-05-29T22:44:15.150021Z"
    },
    "papermill": {
     "duration": 28.427835,
     "end_time": "2024-05-29T22:44:15.151254",
     "exception": false,
     "start_time": "2024-05-29T22:43:46.723419",
     "status": "completed"
    },
    "tags": []
   },
   "outputs": [],
   "source": []
  },
  {
   "cell_type": "markdown",
   "id": "d7c98ac6",
   "metadata": {
    "papermill": {
     "duration": 0.001445,
     "end_time": "2024-05-29T22:44:15.154423",
     "exception": false,
     "start_time": "2024-05-29T22:44:15.152978",
     "status": "completed"
    },
    "tags": []
   },
   "source": [
    "### Calculate Predictions"
   ]
  },
  {
   "cell_type": "code",
   "execution_count": null,
   "id": "c52dd571",
   "metadata": {
    "execution": {
     "iopub.execute_input": "2024-05-29T22:44:15.157815Z",
     "iopub.status.busy": "2024-05-29T22:44:15.157702Z",
     "iopub.status.idle": "2024-05-29T22:44:15.480910Z",
     "shell.execute_reply": "2024-05-29T22:44:15.480645Z"
    },
    "papermill": {
     "duration": 0.325809,
     "end_time": "2024-05-29T22:44:15.481801",
     "exception": false,
     "start_time": "2024-05-29T22:44:15.155992",
     "status": "completed"
    },
    "tags": []
   },
   "outputs": [
    {
     "execution_count": null,
     "name": "stdout",
     "output_type": "stream",
     "text": [
      "\r",
      "\u001b[1m  1/197\u001b[0m \u001b[37m━━━━━━━━━━━━━━━━━━━━\u001b[0m \u001b[1m11s\u001b[0m 57ms/step"
     ]
    },
    {
     "execution_count": null,
     "name": "stdout",
     "output_type": "stream",
     "text": [
      "\b\b\b\b\b\b\b\b\b\b\b\b\b\b\b\b\b\b\b\b\b\b\b\b\b\b\b\b\b\b\b\b\b\b\b\b\b\b\b\b\b\b\r",
      "\u001b[1m 52/197\u001b[0m \u001b[32m━━━━━\u001b[0m\u001b[37m━━━━━━━━━━━━━━━\u001b[0m \u001b[1m0s\u001b[0m 997us/step"
     ]
    },
    {
     "execution_count": null,
     "name": "stdout",
     "output_type": "stream",
     "text": [
      "\b\b\b\b\b\b\b\b\b\b\b\b\b\b\b\b\b\b\b\b\b\b\b\b\b\b\b\b\b\b\b\b\b\b\b\b\b\b\b\b\b\b\r",
      "\u001b[1m109/197\u001b[0m \u001b[32m━━━━━━━━━━━\u001b[0m\u001b[37m━━━━━━━━━\u001b[0m \u001b[1m0s\u001b[0m 937us/step"
     ]
    },
    {
     "execution_count": null,
     "name": "stdout",
     "output_type": "stream",
     "text": [
      "\b\b\b\b\b\b\b\b\b\b\b\b\b\b\b\b\b\b\b\b\b\b\b\b\b\b\b\b\b\b\b\b\b\b\b\b\b\b\b\b\b\b\r",
      "\u001b[1m169/197\u001b[0m \u001b[32m━━━━━━━━━━━━━━━━━\u001b[0m\u001b[37m━━━\u001b[0m \u001b[1m0s\u001b[0m 904us/step"
     ]
    },
    {
     "execution_count": null,
     "name": "stdout",
     "output_type": "stream",
     "text": [
      "\b\b\b\b\b\b\b\b\b\b\b\b\b\b\b\b\b\b\b\b\b\b\b\b\b\b\b\b\b\b\b\b\b\b\b\b\b\b\b\b\b\b\r",
      "\u001b[1m197/197\u001b[0m \u001b[32m━━━━━━━━━━━━━━━━━━━━\u001b[0m\u001b[37m\u001b[0m \u001b[1m0s\u001b[0m 1ms/step  "
     ]
    },
    {
     "execution_count": null,
     "name": "stdout",
     "output_type": "stream",
     "text": [
      "\b\b\b\b\b\b\b\b\b\b\b\b\b\b\b\b\b\b\b\b\b\b\b\b\b\b\b\b\b\b\b\b\b\b\b\b\b\b\b\b\r",
      "\u001b[1m197/197\u001b[0m \u001b[32m━━━━━━━━━━━━━━━━━━━━\u001b[0m\u001b[37m\u001b[0m \u001b[1m0s\u001b[0m 1ms/step\n"
     ]
    },
    {
     "data": {
      "text/plain": [
       "array([[119.997444],\n",
       "       [101.21388 ],\n",
       "       [ 83.3671  ],\n",
       "       ...,\n",
       "       [ 98.5101  ],\n",
       "       [ 94.10579 ],\n",
       "       [ 87.80654 ]], dtype=float32)"
      ]
     },
     "execution_count": null,
     "metadata": {},
     "output_type": "execute_result"
    }
   ],
   "source": []
  }
 ],
 "metadata": {
  "Author": "Jesús López",
  "Company": "Datons Academy",
  "Copyright": "Copyright 2023, Jesús López",
  "kernelspec": {
   "display_name": "Python 3 (ipykernel)",
   "language": "python",
   "name": "python3"
  },
  "language_info": {
   "codemirror_mode": {
    "name": "ipython",
    "version": 3
   },
   "file_extension": ".py",
   "mimetype": "text/x-python",
   "name": "python",
   "nbconvert_exporter": "python",
   "pygments_lexer": "ipython3",
   "version": "3.12.2"
  },
  "papermill": {
   "default_parameters": {},
   "duration": 31.816988,
   "end_time": "2024-05-29T22:44:16.003884",
   "environment_variables": {},
   "exception": null,
   "input_path": "/Users/sota/Library/CloudStorage/Dropbox/2 Business/1 Datons/2 Areas/Courses/22 TS/solutions-new/notebooks/60_Forecasting II Deep Learning/2_Early Stopping/1.ipynb",
   "output_path": "/Users/sota/Library/CloudStorage/Dropbox/2 Business/1 Datons/2 Areas/Courses/22 TS/solutions-new/notebooks/60_Forecasting II Deep Learning/2_Early Stopping/1.ipynb",
   "parameters": {},
   "start_time": "2024-05-29T22:43:44.186896",
   "version": "2.5.0"
  }
 },
 "nbformat": 4,
 "nbformat_minor": 5
}
