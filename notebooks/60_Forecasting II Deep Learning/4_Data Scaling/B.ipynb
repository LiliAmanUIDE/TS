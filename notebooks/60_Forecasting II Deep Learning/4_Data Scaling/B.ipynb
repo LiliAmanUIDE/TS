{
 "cells": [
  {
   "cell_type": "markdown",
   "id": "378a9a44",
   "metadata": {
    "papermill": {
     "duration": 0.003497,
     "end_time": "2024-05-29T22:38:11.738813",
     "exception": false,
     "start_time": "2024-05-29T22:38:11.735316",
     "status": "completed"
    },
    "tags": []
   },
   "source": [
    "# Modelling LSTM with Scaled Data"
   ]
  },
  {
   "cell_type": "markdown",
   "id": "3af74ccc",
   "metadata": {
    "papermill": {
     "duration": 0.002608,
     "end_time": "2024-05-29T22:38:11.744896",
     "exception": false,
     "start_time": "2024-05-29T22:38:11.742288",
     "status": "completed"
    },
    "tags": []
   },
   "source": [
    "## Load Dataset"
   ]
  },
  {
   "cell_type": "code",
   "execution_count": 1,
   "id": "6d33cd8d",
   "metadata": {
    "execution": {
     "iopub.execute_input": "2024-05-29T22:38:11.750500Z",
     "iopub.status.busy": "2024-05-29T22:38:11.750161Z",
     "iopub.status.idle": "2024-05-29T22:38:11.875822Z",
     "shell.execute_reply": "2024-05-29T22:38:11.875607Z"
    },
    "papermill": {
     "duration": 0.129396,
     "end_time": "2024-05-29T22:38:11.876609",
     "exception": false,
     "start_time": "2024-05-29T22:38:11.747213",
     "status": "completed"
    },
    "tags": [
     "required",
     "Fixed"
    ]
   },
   "outputs": [
    {
     "data": {
      "text/html": [
       "<div>\n",
       "<style scoped>\n",
       "    .dataframe tbody tr th:only-of-type {\n",
       "        vertical-align: middle;\n",
       "    }\n",
       "\n",
       "    .dataframe tbody tr th {\n",
       "        vertical-align: top;\n",
       "    }\n",
       "\n",
       "    .dataframe thead th {\n",
       "        text-align: right;\n",
       "    }\n",
       "</style>\n",
       "<table border=\"1\" class=\"dataframe\">\n",
       "  <thead>\n",
       "    <tr style=\"text-align: right;\">\n",
       "      <th></th>\n",
       "      <th>Mercado SPOT</th>\n",
       "    </tr>\n",
       "    <tr>\n",
       "      <th>datetime_utc</th>\n",
       "      <th></th>\n",
       "    </tr>\n",
       "  </thead>\n",
       "  <tbody>\n",
       "    <tr>\n",
       "      <th>2020-01-01 00:00:00+00:00</th>\n",
       "      <td>38.60</td>\n",
       "    </tr>\n",
       "    <tr>\n",
       "      <th>2020-01-01 01:00:00+00:00</th>\n",
       "      <td>36.55</td>\n",
       "    </tr>\n",
       "    <tr>\n",
       "      <th>...</th>\n",
       "      <td>...</td>\n",
       "    </tr>\n",
       "    <tr>\n",
       "      <th>2023-08-04 20:00:00+00:00</th>\n",
       "      <td>94.00</td>\n",
       "    </tr>\n",
       "    <tr>\n",
       "      <th>2023-08-04 21:00:00+00:00</th>\n",
       "      <td>91.70</td>\n",
       "    </tr>\n",
       "  </tbody>\n",
       "</table>\n",
       "<p>31558 rows × 1 columns</p>\n",
       "</div>"
      ],
      "text/plain": [
       "                           Mercado SPOT\n",
       "datetime_utc                           \n",
       "2020-01-01 00:00:00+00:00         38.60\n",
       "2020-01-01 01:00:00+00:00         36.55\n",
       "...                                 ...\n",
       "2023-08-04 20:00:00+00:00         94.00\n",
       "2023-08-04 21:00:00+00:00         91.70\n",
       "\n",
       "[31558 rows x 1 columns]"
      ]
     },
     "execution_count": 1,
     "metadata": {},
     "output_type": "execute_result"
    }
   ],
   "source": [
    "import pandas as pd\n",
    "df = pd.read_csv('../data/precio_mercado_diario.csv', parse_dates=['datetime_utc'], index_col=0)\n",
    "df = df.loc[\"2020\":].copy()\n",
    "df"
   ]
  },
  {
   "cell_type": "markdown",
   "id": "e7b0db1f",
   "metadata": {
    "papermill": {
     "duration": 0.001865,
     "end_time": "2024-05-29T22:38:11.880125",
     "exception": false,
     "start_time": "2024-05-29T22:38:11.878260",
     "status": "completed"
    },
    "tags": []
   },
   "source": [
    "## Data Preprocessing"
   ]
  },
  {
   "cell_type": "markdown",
   "id": "9abcf1d5",
   "metadata": {
    "papermill": {
     "duration": 0.001407,
     "end_time": "2024-05-29T22:38:11.882828",
     "exception": false,
     "start_time": "2024-05-29T22:38:11.881421",
     "status": "completed"
    },
    "tags": []
   },
   "source": [
    "### Scale Data"
   ]
  },
  {
   "cell_type": "code",
   "execution_count": 2,
   "id": "4ebf7f01",
   "metadata": {
    "execution": {
     "iopub.execute_input": "2024-05-29T22:38:11.886051Z",
     "iopub.status.busy": "2024-05-29T22:38:11.885859Z",
     "iopub.status.idle": "2024-05-29T22:38:12.108753Z",
     "shell.execute_reply": "2024-05-29T22:38:12.108387Z"
    },
    "papermill": {
     "duration": 0.225633,
     "end_time": "2024-05-29T22:38:12.109756",
     "exception": false,
     "start_time": "2024-05-29T22:38:11.884123",
     "status": "completed"
    },
    "tags": []
   },
   "outputs": [],
   "source": [
    "from sklearn.preprocessing import MinMaxScaler\n",
    "\n",
    "# Normalize data\n",
    "scaler = MinMaxScaler(feature_range=(0, 1))\n",
    "data_norm = scaler.fit_transform(df)"
   ]
  },
  {
   "cell_type": "markdown",
   "id": "2ac7359d",
   "metadata": {
    "papermill": {
     "duration": 0.001672,
     "end_time": "2024-05-29T22:38:12.113189",
     "exception": false,
     "start_time": "2024-05-29T22:38:12.111517",
     "status": "completed"
    },
    "tags": []
   },
   "source": [
    "### Train Test Split"
   ]
  },
  {
   "cell_type": "code",
   "execution_count": 3,
   "id": "450bf222",
   "metadata": {
    "execution": {
     "iopub.execute_input": "2024-05-29T22:38:12.117103Z",
     "iopub.status.busy": "2024-05-29T22:38:12.116908Z",
     "iopub.status.idle": "2024-05-29T22:38:12.142293Z",
     "shell.execute_reply": "2024-05-29T22:38:12.141957Z"
    },
    "papermill": {
     "duration": 0.028237,
     "end_time": "2024-05-29T22:38:12.143217",
     "exception": false,
     "start_time": "2024-05-29T22:38:12.114980",
     "status": "completed"
    },
    "tags": [
     "required-false"
    ]
   },
   "outputs": [],
   "source": [
    "from sklearn.model_selection import train_test_split\n",
    "\n",
    "train, test = train_test_split(data_norm, test_size=0.2, shuffle=False)"
   ]
  },
  {
   "cell_type": "markdown",
   "id": "281e905a",
   "metadata": {
    "papermill": {
     "duration": 0.001271,
     "end_time": "2024-05-29T22:38:12.146028",
     "exception": false,
     "start_time": "2024-05-29T22:38:12.144757",
     "status": "completed"
    },
    "tags": []
   },
   "source": [
    "### Create Sequences"
   ]
  },
  {
   "cell_type": "code",
   "execution_count": 4,
   "id": "5f4fc8e5",
   "metadata": {
    "execution": {
     "iopub.execute_input": "2024-05-29T22:38:12.149449Z",
     "iopub.status.busy": "2024-05-29T22:38:12.149254Z",
     "iopub.status.idle": "2024-05-29T22:38:12.168588Z",
     "shell.execute_reply": "2024-05-29T22:38:12.168368Z"
    },
    "papermill": {
     "duration": 0.02197,
     "end_time": "2024-05-29T22:38:12.169350",
     "exception": false,
     "start_time": "2024-05-29T22:38:12.147380",
     "status": "completed"
    },
    "tags": [
     "required"
    ]
   },
   "outputs": [],
   "source": [
    "import numpy as np\n",
    "\n",
    "def create_sequences(data, sequence_length):\n",
    "    X, y = [], []\n",
    "    for i in range(len(data) - sequence_length):\n",
    "        X.append(data[i:i+sequence_length])\n",
    "        y.append(data[i+sequence_length])\n",
    "    return np.array(X), np.array(y)\n",
    "\n",
    "sequence_length = 24 # Use 24 hours prior to predict the following hour\n",
    "X_train, y_train = create_sequences(train, sequence_length)\n",
    "X_test, y_test = create_sequences(test, sequence_length)"
   ]
  },
  {
   "cell_type": "markdown",
   "id": "3f905ab3",
   "metadata": {
    "papermill": {
     "duration": 0.001274,
     "end_time": "2024-05-29T22:38:12.172141",
     "exception": false,
     "start_time": "2024-05-29T22:38:12.170867",
     "status": "completed"
    },
    "tags": []
   },
   "source": [
    "## Modelling"
   ]
  },
  {
   "cell_type": "markdown",
   "id": "3ce51ce0",
   "metadata": {
    "papermill": {
     "duration": 0.001257,
     "end_time": "2024-05-29T22:38:12.175229",
     "exception": false,
     "start_time": "2024-05-29T22:38:12.173972",
     "status": "completed"
    },
    "tags": []
   },
   "source": [
    "### Design NN Architecture"
   ]
  },
  {
   "cell_type": "code",
   "execution_count": 5,
   "id": "f5466a83",
   "metadata": {
    "execution": {
     "iopub.execute_input": "2024-05-29T22:38:12.178253Z",
     "iopub.status.busy": "2024-05-29T22:38:12.178149Z",
     "iopub.status.idle": "2024-05-29T22:38:13.243484Z",
     "shell.execute_reply": "2024-05-29T22:38:13.243202Z"
    },
    "papermill": {
     "duration": 1.067852,
     "end_time": "2024-05-29T22:38:13.244300",
     "exception": false,
     "start_time": "2024-05-29T22:38:12.176448",
     "status": "completed"
    },
    "tags": [
     "required"
    ]
   },
   "outputs": [
    {
     "name": "stderr",
     "output_type": "stream",
     "text": [
      "/Users/sota/miniconda3/envs/work/lib/python3.12/site-packages/keras/layers/rnn/rnn.py:205: UserWarning: Do not pass an `input_shape`/`input_dim` argument to a layer. When using Sequential models, prefer using an `Input(shape)` object as the first layer in the model instead.\n",
      "  super().__init__(**kwargs)\n"
     ]
    }
   ],
   "source": [
    "from keras.models import Sequential\n",
    "from keras.layers import LSTM, Dense, Input\n",
    "\n",
    "model = Sequential(layers=[\n",
    "    Input(shape=(X_train.shape[1], X_train.shape[2])),\n",
    "    LSTM(50),\n",
    "    Dense(1)\n",
    "])\n",
    "\n",
    "model.compile(optimizer='adam', loss='mean_squared_error')"
   ]
  },
  {
   "cell_type": "markdown",
   "id": "f65d379e",
   "metadata": {
    "papermill": {
     "duration": 0.001722,
     "end_time": "2024-05-29T22:38:13.247816",
     "exception": false,
     "start_time": "2024-05-29T22:38:13.246094",
     "status": "completed"
    },
    "tags": []
   },
   "source": [
    "### Train Model"
   ]
  },
  {
   "cell_type": "code",
   "execution_count": 6,
   "id": "f1e2786e",
   "metadata": {
    "execution": {
     "iopub.execute_input": "2024-05-29T22:38:13.251389Z",
     "iopub.status.busy": "2024-05-29T22:38:13.251264Z",
     "iopub.status.idle": "2024-05-29T22:39:02.356120Z",
     "shell.execute_reply": "2024-05-29T22:39:02.355806Z"
    },
    "papermill": {
     "duration": 49.107793,
     "end_time": "2024-05-29T22:39:02.357099",
     "exception": false,
     "start_time": "2024-05-29T22:38:13.249306",
     "status": "completed"
    },
    "tags": [
     "required"
    ]
   },
   "outputs": [],
   "source": [
    "from keras.callbacks import EarlyStopping\n",
    "\n",
    "early_stop = EarlyStopping(monitor='val_loss', patience=5)\n",
    "\n",
    "history = model.fit(\n",
    "    X_train, y_train, epochs=50, batch_size=64, verbose=0,\n",
    "    validation_data=(X_test, y_test), callbacks=[early_stop])"
   ]
  },
  {
   "cell_type": "markdown",
   "id": "0b62be48",
   "metadata": {
    "papermill": {
     "duration": 0.001655,
     "end_time": "2024-05-29T22:39:02.360839",
     "exception": false,
     "start_time": "2024-05-29T22:39:02.359184",
     "status": "completed"
    },
    "tags": []
   },
   "source": [
    "### Calculate Predictions"
   ]
  },
  {
   "cell_type": "code",
   "execution_count": 7,
   "id": "22d9598d",
   "metadata": {
    "execution": {
     "iopub.execute_input": "2024-05-29T22:39:02.364651Z",
     "iopub.status.busy": "2024-05-29T22:39:02.364532Z",
     "iopub.status.idle": "2024-05-29T22:39:02.680643Z",
     "shell.execute_reply": "2024-05-29T22:39:02.680382Z"
    },
    "papermill": {
     "duration": 0.318849,
     "end_time": "2024-05-29T22:39:02.681443",
     "exception": false,
     "start_time": "2024-05-29T22:39:02.362594",
     "status": "completed"
    },
    "tags": [
     "required"
    ]
   },
   "outputs": [
    {
     "name": "stdout",
     "output_type": "stream",
     "text": [
      "\r\n",
      "\u001b[1m  1/197\u001b[0m \u001b[37m━━━━━━━━━━━━━━━━━━━━\u001b[0m \u001b[1m11s\u001b[0m 56ms/step"
     ]
    },
    {
     "name": "stdout",
     "output_type": "stream",
     "text": [
      "\b\b\b\b\b\b\b\b\b\b\b\b\b\b\b\b\b\b\b\b\b\b\b\b\b\b\b\b\b\b\b\b\b\b\b\b\b\b\b\b\b\b\r\n",
      "\u001b[1m 57/197\u001b[0m \u001b[32m━━━━━\u001b[0m\u001b[37m━━━━━━━━━━━━━━━\u001b[0m \u001b[1m0s\u001b[0m 903us/step"
     ]
    },
    {
     "name": "stdout",
     "output_type": "stream",
     "text": [
      "\b\b\b\b\b\b\b\b\b\b\b\b\b\b\b\b\b\b\b\b\b\b\b\b\b\b\b\b\b\b\b\b\b\b\b\b\b\b\b\b\b\b\r\n",
      "\u001b[1m116/197\u001b[0m \u001b[32m━━━━━━━━━━━\u001b[0m\u001b[37m━━━━━━━━━\u001b[0m \u001b[1m0s\u001b[0m 877us/step"
     ]
    },
    {
     "name": "stdout",
     "output_type": "stream",
     "text": [
      "\b\b\b\b\b\b\b\b\b\b\b\b\b\b\b\b\b\b\b\b\b\b\b\b\b\b\b\b\b\b\b\b\b\b\b\b\b\b\b\b\b\b\r\n",
      "\u001b[1m173/197\u001b[0m \u001b[32m━━━━━━━━━━━━━━━━━\u001b[0m\u001b[37m━━━\u001b[0m \u001b[1m0s\u001b[0m 880us/step"
     ]
    },
    {
     "name": "stdout",
     "output_type": "stream",
     "text": [
      "\b\b\b\b\b\b\b\b\b\b\b\b\b\b\b\b\b\b\b\b\b\b\b\b\b\b\b\b\b\b\b\b\b\b\b\b\b\b\b\b\b\b\r\n",
      "\u001b[1m197/197\u001b[0m \u001b[32m━━━━━━━━━━━━━━━━━━━━\u001b[0m\u001b[37m\u001b[0m \u001b[1m0s\u001b[0m 1ms/step  "
     ]
    },
    {
     "name": "stdout",
     "output_type": "stream",
     "text": [
      "\b\b\b\b\b\b\b\b\b\b\b\b\b\b\b\b\b\b\b\b\b\b\b\b\b\b\b\b\b\b\b\b\b\b\b\b\b\b\b\b\r\n",
      "\u001b[1m197/197\u001b[0m \u001b[32m━━━━━━━━━━━━━━━━━━━━\u001b[0m\u001b[37m\u001b[0m \u001b[1m0s\u001b[0m 1ms/step\n"
     ]
    },
    {
     "data": {
      "text/plain": [
       "array([[0.17380626],\n",
       "       [0.1386231 ],\n",
       "       [0.12192503],\n",
       "       ...,\n",
       "       [0.13104069],\n",
       "       [0.13494721],\n",
       "       [0.13034955]], dtype=float32)"
      ]
     },
     "execution_count": 7,
     "metadata": {},
     "output_type": "execute_result"
    }
   ],
   "source": [
    "y_pred = model.predict(X_test)\n",
    "y_pred"
   ]
  },
  {
   "cell_type": "markdown",
   "id": "e6cd271c",
   "metadata": {
    "papermill": {
     "duration": 0.001969,
     "end_time": "2024-05-29T22:39:02.685420",
     "exception": false,
     "start_time": "2024-05-29T22:39:02.683451",
     "status": "completed"
    },
    "tags": []
   },
   "source": [
    "### Evaluate Model"
   ]
  },
  {
   "cell_type": "code",
   "execution_count": 8,
   "id": "d6862136",
   "metadata": {
    "execution": {
     "iopub.execute_input": "2024-05-29T22:39:02.689143Z",
     "iopub.status.busy": "2024-05-29T22:39:02.689036Z",
     "iopub.status.idle": "2024-05-29T22:39:02.691806Z",
     "shell.execute_reply": "2024-05-29T22:39:02.691608Z"
    },
    "papermill": {
     "duration": 0.005382,
     "end_time": "2024-05-29T22:39:02.692472",
     "exception": false,
     "start_time": "2024-05-29T22:39:02.687090",
     "status": "completed"
    },
    "tags": [
     "required"
    ]
   },
   "outputs": [
    {
     "name": "stderr",
     "output_type": "stream",
     "text": [
      "/Users/sota/miniconda3/envs/work/lib/python3.12/site-packages/sklearn/metrics/_regression.py:483: FutureWarning: 'squared' is deprecated in version 1.4 and will be removed in 1.6. To calculate the root mean squared error, use the function'root_mean_squared_error'.\n",
      "  warnings.warn(\n"
     ]
    },
    {
     "data": {
      "text/plain": [
       "0.015593511489771601"
      ]
     },
     "execution_count": 8,
     "metadata": {},
     "output_type": "execute_result"
    }
   ],
   "source": [
    "from sklearn.metrics import mean_squared_error\n",
    "\n",
    "mean_squared_error(y_test, y_pred, squared=False)"
   ]
  },
  {
   "cell_type": "markdown",
   "id": "40816b10",
   "metadata": {
    "papermill": {
     "duration": 0.001466,
     "end_time": "2024-05-29T22:39:02.695411",
     "exception": false,
     "start_time": "2024-05-29T22:39:02.693945",
     "status": "completed"
    },
    "tags": []
   },
   "source": [
    "### Comparison: Real Data & Prediction"
   ]
  },
  {
   "cell_type": "markdown",
   "id": "0437632f",
   "metadata": {
    "papermill": {
     "duration": 0.001419,
     "end_time": "2024-05-29T22:39:02.698232",
     "exception": false,
     "start_time": "2024-05-29T22:39:02.696813",
     "status": "completed"
    },
    "tags": []
   },
   "source": [
    "#### Descale Data"
   ]
  },
  {
   "cell_type": "code",
   "execution_count": 9,
   "id": "626056a5",
   "metadata": {
    "execution": {
     "iopub.execute_input": "2024-05-29T22:39:02.701471Z",
     "iopub.status.busy": "2024-05-29T22:39:02.701390Z",
     "iopub.status.idle": "2024-05-29T22:39:02.703030Z",
     "shell.execute_reply": "2024-05-29T22:39:02.702846Z"
    },
    "papermill": {
     "duration": 0.004027,
     "end_time": "2024-05-29T22:39:02.703697",
     "exception": false,
     "start_time": "2024-05-29T22:39:02.699670",
     "status": "completed"
    },
    "tags": []
   },
   "outputs": [],
   "source": [
    "y_pred_scaled_inverse = scaler.inverse_transform(y_pred)\n",
    "y_true = scaler.inverse_transform(y_test)"
   ]
  },
  {
   "cell_type": "markdown",
   "id": "5bff30e4",
   "metadata": {
    "papermill": {
     "duration": 0.001584,
     "end_time": "2024-05-29T22:39:02.706947",
     "exception": false,
     "start_time": "2024-05-29T22:39:02.705363",
     "status": "completed"
    },
    "tags": []
   },
   "source": [
    "#### Create DataFrame"
   ]
  },
  {
   "cell_type": "code",
   "execution_count": 10,
   "id": "aca8ccd6",
   "metadata": {
    "execution": {
     "iopub.execute_input": "2024-05-29T22:39:02.710466Z",
     "iopub.status.busy": "2024-05-29T22:39:02.710339Z",
     "iopub.status.idle": "2024-05-29T22:39:02.711926Z",
     "shell.execute_reply": "2024-05-29T22:39:02.711718Z"
    },
    "papermill": {
     "duration": 0.004122,
     "end_time": "2024-05-29T22:39:02.712565",
     "exception": false,
     "start_time": "2024-05-29T22:39:02.708443",
     "status": "completed"
    },
    "tags": []
   },
   "outputs": [],
   "source": [
    "import sys\n",
    "sys.path.append('../')"
   ]
  },
  {
   "cell_type": "code",
   "execution_count": 11,
   "id": "2c33d502",
   "metadata": {
    "execution": {
     "iopub.execute_input": "2024-05-29T22:39:02.715939Z",
     "iopub.status.busy": "2024-05-29T22:39:02.715860Z",
     "iopub.status.idle": "2024-05-29T22:39:02.800890Z",
     "shell.execute_reply": "2024-05-29T22:39:02.800655Z"
    },
    "papermill": {
     "duration": 0.087559,
     "end_time": "2024-05-29T22:39:02.801645",
     "exception": false,
     "start_time": "2024-05-29T22:39:02.714086",
     "status": "completed"
    },
    "tags": []
   },
   "outputs": [
    {
     "name": "stderr",
     "output_type": "stream",
     "text": [
      "/Users/sota/Library/CloudStorage/Dropbox/2 Business/1 Datons/2 Areas/Courses/22 TS/solutions-new/notebooks/60_Forecasting II Deep Learning/4_Data Scaling/../utils.py:10: FutureWarning: 'H' is deprecated and will be removed in a future version, please use 'h' instead.\n",
      "  index = pd.date_range(start=date_start, end=date_end, freq='H')\n"
     ]
    },
    {
     "data": {
      "text/html": [
       "<div>\n",
       "<style scoped>\n",
       "    .dataframe tbody tr th:only-of-type {\n",
       "        vertical-align: middle;\n",
       "    }\n",
       "\n",
       "    .dataframe tbody tr th {\n",
       "        vertical-align: top;\n",
       "    }\n",
       "\n",
       "    .dataframe thead th {\n",
       "        text-align: right;\n",
       "    }\n",
       "</style>\n",
       "<table border=\"1\" class=\"dataframe\">\n",
       "  <thead>\n",
       "    <tr style=\"text-align: right;\">\n",
       "      <th></th>\n",
       "      <th>y_true</th>\n",
       "      <th>y_pred</th>\n",
       "      <th>y_pred_scaled_inverse</th>\n",
       "    </tr>\n",
       "  </thead>\n",
       "  <tbody>\n",
       "    <tr>\n",
       "      <th>2022-11-15 22:00:00+00:00</th>\n",
       "      <td>0.150000</td>\n",
       "      <td>0.173806</td>\n",
       "      <td>121.664383</td>\n",
       "    </tr>\n",
       "    <tr>\n",
       "      <th>2022-11-15 23:00:00+00:00</th>\n",
       "      <td>0.129314</td>\n",
       "      <td>0.138623</td>\n",
       "      <td>97.036171</td>\n",
       "    </tr>\n",
       "    <tr>\n",
       "      <th>...</th>\n",
       "      <td>...</td>\n",
       "      <td>...</td>\n",
       "      <td>...</td>\n",
       "    </tr>\n",
       "    <tr>\n",
       "      <th>2023-08-04 20:00:00+00:00</th>\n",
       "      <td>0.134286</td>\n",
       "      <td>0.134947</td>\n",
       "      <td>94.463051</td>\n",
       "    </tr>\n",
       "    <tr>\n",
       "      <th>2023-08-04 21:00:00+00:00</th>\n",
       "      <td>0.131000</td>\n",
       "      <td>0.130350</td>\n",
       "      <td>91.244682</td>\n",
       "    </tr>\n",
       "  </tbody>\n",
       "</table>\n",
       "<p>6288 rows × 3 columns</p>\n",
       "</div>"
      ],
      "text/plain": [
       "                             y_true    y_pred  y_pred_scaled_inverse\n",
       "2022-11-15 22:00:00+00:00  0.150000  0.173806             121.664383\n",
       "2022-11-15 23:00:00+00:00  0.129314  0.138623              97.036171\n",
       "...                             ...       ...                    ...\n",
       "2023-08-04 20:00:00+00:00  0.134286  0.134947              94.463051\n",
       "2023-08-04 21:00:00+00:00  0.131000  0.130350              91.244682\n",
       "\n",
       "[6288 rows x 3 columns]"
      ]
     },
     "execution_count": 11,
     "metadata": {},
     "output_type": "execute_result"
    }
   ],
   "source": [
    "import utils\n",
    "\n",
    "dic_pred = {\n",
    "    'y_pred': y_pred,\n",
    "    'y_pred_scaled_inverse': y_pred_scaled_inverse,\n",
    "}\n",
    "\n",
    "df_pred = utils.process_df_pred(df, y_test, dic_pred)\n",
    "df_pred"
   ]
  },
  {
   "cell_type": "markdown",
   "id": "5d3e40b9",
   "metadata": {
    "papermill": {
     "duration": 0.001923,
     "end_time": "2024-05-29T22:39:02.805648",
     "exception": false,
     "start_time": "2024-05-29T22:39:02.803725",
     "status": "completed"
    },
    "tags": []
   },
   "source": [
    "#### Evaluate Model"
   ]
  },
  {
   "cell_type": "code",
   "execution_count": 12,
   "id": "f0c60bd1",
   "metadata": {
    "execution": {
     "iopub.execute_input": "2024-05-29T22:39:02.809647Z",
     "iopub.status.busy": "2024-05-29T22:39:02.809488Z",
     "iopub.status.idle": "2024-05-29T22:39:02.812263Z",
     "shell.execute_reply": "2024-05-29T22:39:02.812076Z"
    },
    "papermill": {
     "duration": 0.005488,
     "end_time": "2024-05-29T22:39:02.812897",
     "exception": false,
     "start_time": "2024-05-29T22:39:02.807409",
     "status": "completed"
    },
    "tags": []
   },
   "outputs": [
    {
     "name": "stderr",
     "output_type": "stream",
     "text": [
      "/Users/sota/miniconda3/envs/work/lib/python3.12/site-packages/sklearn/metrics/_regression.py:483: FutureWarning: 'squared' is deprecated in version 1.4 and will be removed in 1.6. To calculate the root mean squared error, use the function'root_mean_squared_error'.\n",
      "  warnings.warn(\n"
     ]
    },
    {
     "data": {
      "text/plain": [
       "101.26353773719516"
      ]
     },
     "execution_count": 12,
     "metadata": {},
     "output_type": "execute_result"
    }
   ],
   "source": [
    "mean_squared_error(df_pred.y_true, df_pred.y_pred_scaled_inverse, squared=False)"
   ]
  },
  {
   "cell_type": "markdown",
   "id": "d8c37c5b",
   "metadata": {
    "papermill": {
     "duration": 0.005161,
     "end_time": "2024-05-29T22:39:02.823055",
     "exception": false,
     "start_time": "2024-05-29T22:39:02.817894",
     "status": "completed"
    },
    "tags": []
   },
   "source": [
    "#### Visualize Data"
   ]
  },
  {
   "cell_type": "code",
   "execution_count": 13,
   "id": "44060b99",
   "metadata": {
    "execution": {
     "iopub.execute_input": "2024-05-29T22:39:02.827256Z",
     "iopub.status.busy": "2024-05-29T22:39:02.827129Z",
     "iopub.status.idle": "2024-05-29T22:39:04.606403Z",
     "shell.execute_reply": "2024-05-29T22:39:04.606053Z"
    },
    "papermill": {
     "duration": 1.782414,
     "end_time": "2024-05-29T22:39:04.607260",
     "exception": false,
     "start_time": "2024-05-29T22:39:02.824846",
     "status": "completed"
    },
    "tags": []
   },
   "outputs": [
    {
     "data": {
      "image/svg+xml": [
       "<svg class=\"main-svg\" xmlns=\"http://www.w3.org/2000/svg\" xmlns:xlink=\"http://www.w3.org/1999/xlink\" width=\"700\" height=\"500\" style=\"\" viewBox=\"0 0 700 500\"><rect x=\"0\" y=\"0\" width=\"700\" height=\"500\" style=\"fill: rgb(255, 255, 255); fill-opacity: 1;\"/><defs id=\"defs-2176b1\"><g class=\"clips\"><clipPath id=\"clip2176b1xyplot\" class=\"plotclip\"><rect width=\"416\" height=\"360\"/></clipPath><clipPath class=\"axesclip\" id=\"clip2176b1x\"><rect x=\"80\" y=\"0\" width=\"416\" height=\"500\"/></clipPath><clipPath class=\"axesclip\" id=\"clip2176b1y\"><rect x=\"0\" y=\"60\" width=\"700\" height=\"360\"/></clipPath><clipPath class=\"axesclip\" id=\"clip2176b1xy\"><rect x=\"80\" y=\"60\" width=\"416\" height=\"360\"/></clipPath></g><g class=\"gradients\"/><g class=\"patterns\"/></defs><g class=\"bglayer\"><rect class=\"bg\" x=\"80\" y=\"60\" width=\"416\" height=\"360\" style=\"fill: rgb(229, 236, 246); fill-opacity: 1; stroke-width: 0;\"/></g><g class=\"layer-below\"><g class=\"imagelayer\"/><g class=\"shapelayer\"/></g><g class=\"cartesianlayer\"><g class=\"subplot xy\"><g class=\"layer-subplot\"><g class=\"shapelayer\"/><g class=\"imagelayer\"/></g><g class=\"minor-gridlayer\"><g class=\"x\"/><g class=\"y\"/></g><g class=\"gridlayer\"><g class=\"x\"><path class=\"xgrid crisp\" transform=\"translate(153.18,0)\" d=\"M0,60v360\" style=\"stroke: rgb(255, 255, 255); stroke-opacity: 1; stroke-width: 1px;\"/><path class=\"xgrid crisp\" transform=\"translate(246.88,0)\" d=\"M0,60v360\" style=\"stroke: rgb(255, 255, 255); stroke-opacity: 1; stroke-width: 1px;\"/><path class=\"xgrid crisp\" transform=\"translate(343.75,0)\" d=\"M0,60v360\" style=\"stroke: rgb(255, 255, 255); stroke-opacity: 1; stroke-width: 1px;\"/><path class=\"xgrid crisp\" transform=\"translate(440.62,0)\" d=\"M0,60v360\" style=\"stroke: rgb(255, 255, 255); stroke-opacity: 1; stroke-width: 1px;\"/></g><g class=\"y\"><path class=\"ygrid crisp\" transform=\"translate(0,326.56)\" d=\"M80,0h416\" style=\"stroke: rgb(255, 255, 255); stroke-opacity: 1; stroke-width: 1px;\"/><path class=\"ygrid crisp\" transform=\"translate(0,264.16999999999996)\" d=\"M80,0h416\" style=\"stroke: rgb(255, 255, 255); stroke-opacity: 1; stroke-width: 1px;\"/><path class=\"ygrid crisp\" transform=\"translate(0,201.78)\" d=\"M80,0h416\" style=\"stroke: rgb(255, 255, 255); stroke-opacity: 1; stroke-width: 1px;\"/><path class=\"ygrid crisp\" transform=\"translate(0,139.39)\" d=\"M80,0h416\" style=\"stroke: rgb(255, 255, 255); stroke-opacity: 1; stroke-width: 1px;\"/><path class=\"ygrid crisp\" transform=\"translate(0,77)\" d=\"M80,0h416\" style=\"stroke: rgb(255, 255, 255); stroke-opacity: 1; stroke-width: 1px;\"/></g></g><g class=\"zerolinelayer\"><path class=\"yzl zl crisp\" transform=\"translate(0,388.95)\" d=\"M80,0h416\" style=\"stroke: rgb(255, 255, 255); stroke-opacity: 1; stroke-width: 2px;\"/></g><path class=\"xlines-below\"/><path class=\"ylines-below\"/><g class=\"overlines-below\"/><g class=\"xaxislayer-below\"/><g class=\"yaxislayer-below\"/><g class=\"overaxes-below\"/><g class=\"plot\" transform=\"translate(80,60)\" clip-path=\"url(#clip2176b1xyplot)\"/><g class=\"overplot\"/><path class=\"xlines-above crisp\" d=\"M0,0\" style=\"fill: none;\"/><path class=\"ylines-above crisp\" d=\"M0,0\" style=\"fill: none;\"/><g class=\"overlines-above\"/><g class=\"xaxislayer-above\"><g class=\"xtick\"><text text-anchor=\"middle\" x=\"0\" y=\"433\" transform=\"translate(153.18,0)\" style=\"font-family: 'Open Sans', verdana, arial, sans-serif; font-size: 12px; fill: rgb(42, 63, 95); fill-opacity: 1; white-space: pre; opacity: 1;\">Jan 2023</text></g><g class=\"xtick\"><text text-anchor=\"middle\" x=\"0\" y=\"433\" style=\"font-family: 'Open Sans', verdana, arial, sans-serif; font-size: 12px; fill: rgb(42, 63, 95); fill-opacity: 1; white-space: pre; opacity: 1;\" transform=\"translate(246.88,0)\">Mar 2023</text></g><g class=\"xtick\"><text text-anchor=\"middle\" x=\"0\" y=\"433\" style=\"font-family: 'Open Sans', verdana, arial, sans-serif; font-size: 12px; fill: rgb(42, 63, 95); fill-opacity: 1; white-space: pre; opacity: 1;\" transform=\"translate(343.75,0)\">May 2023</text></g><g class=\"xtick\"><text text-anchor=\"middle\" x=\"0\" y=\"433\" style=\"font-family: 'Open Sans', verdana, arial, sans-serif; font-size: 12px; fill: rgb(42, 63, 95); fill-opacity: 1; white-space: pre; opacity: 1;\" transform=\"translate(440.62,0)\">Jul 2023</text></g></g><g class=\"yaxislayer-above\"><g class=\"ytick\"><text text-anchor=\"end\" x=\"79\" y=\"4.199999999999999\" transform=\"translate(0,388.95)\" style=\"font-family: 'Open Sans', verdana, arial, sans-serif; font-size: 12px; fill: rgb(42, 63, 95); fill-opacity: 1; white-space: pre; opacity: 1;\">0</text></g><g class=\"ytick\"><text text-anchor=\"end\" x=\"79\" y=\"4.199999999999999\" style=\"font-family: 'Open Sans', verdana, arial, sans-serif; font-size: 12px; fill: rgb(42, 63, 95); fill-opacity: 1; white-space: pre; opacity: 1;\" transform=\"translate(0,326.56)\">50</text></g><g class=\"ytick\"><text text-anchor=\"end\" x=\"79\" y=\"4.199999999999999\" style=\"font-family: 'Open Sans', verdana, arial, sans-serif; font-size: 12px; fill: rgb(42, 63, 95); fill-opacity: 1; white-space: pre; opacity: 1;\" transform=\"translate(0,264.16999999999996)\">100</text></g><g class=\"ytick\"><text text-anchor=\"end\" x=\"79\" y=\"4.199999999999999\" style=\"font-family: 'Open Sans', verdana, arial, sans-serif; font-size: 12px; fill: rgb(42, 63, 95); fill-opacity: 1; white-space: pre; opacity: 1;\" transform=\"translate(0,201.78)\">150</text></g><g class=\"ytick\"><text text-anchor=\"end\" x=\"79\" y=\"4.199999999999999\" style=\"font-family: 'Open Sans', verdana, arial, sans-serif; font-size: 12px; fill: rgb(42, 63, 95); fill-opacity: 1; white-space: pre; opacity: 1;\" transform=\"translate(0,139.39)\">200</text></g><g class=\"ytick\"><text text-anchor=\"end\" x=\"79\" y=\"4.199999999999999\" style=\"font-family: 'Open Sans', verdana, arial, sans-serif; font-size: 12px; fill: rgb(42, 63, 95); fill-opacity: 1; white-space: pre; opacity: 1;\" transform=\"translate(0,77)\">250</text></g></g><g class=\"overaxes-above\"/></g></g><g class=\"polarlayer\"/><g class=\"smithlayer\"/><g class=\"ternarylayer\"/><g class=\"geolayer\"/><g class=\"funnelarealayer\"/><g class=\"pielayer\"/><g class=\"iciclelayer\"/><g class=\"treemaplayer\"/><g class=\"sunburstlayer\"/><g class=\"glimages\"><image xmlns=\"http://www.w3.org/2000/svg\" xlink:href=\"data:image/png;base64,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\" preserveAspectRatio=\"none\" x=\"0\" y=\"0\" width=\"700px\" height=\"500px\"/><image xmlns=\"http://www.w3.org/2000/svg\" xlink:href=\"data:image/png;base64,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\" preserveAspectRatio=\"none\" x=\"0\" y=\"0\" width=\"700px\" height=\"500px\"/></g><defs id=\"topdefs-2176b1\"><g class=\"clips\"/><clipPath id=\"legend2176b1\"><rect width=\"184\" height=\"86\" x=\"0\" y=\"0\"/></clipPath></defs><g class=\"layer-above\"><g class=\"imagelayer\"/><g class=\"shapelayer\"/></g><g class=\"infolayer\"><g class=\"legend\" pointer-events=\"all\" transform=\"translate(504.32,60)\"><rect class=\"bg\" shape-rendering=\"crispEdges\" style=\"stroke: rgb(68, 68, 68); stroke-opacity: 1; fill: rgb(255, 255, 255); fill-opacity: 1; stroke-width: 0px;\" width=\"184\" height=\"86\" x=\"0\" y=\"0\"/><g class=\"scrollbox\" transform=\"\" clip-path=\"url(#legend2176b1)\"><text class=\"legendtitletext\" text-anchor=\"start\" x=\"2\" y=\"18.2\" style=\"font-family: 'Open Sans', verdana, arial, sans-serif; font-size: 14px; fill: rgb(42, 63, 95); fill-opacity: 1; white-space: pre;\">variable</text><g class=\"groups\" transform=\"\"><g class=\"traces\" transform=\"translate(0,32.7)\" style=\"opacity: 1;\"><text class=\"legendtext\" text-anchor=\"start\" x=\"40\" y=\"4.680000000000001\" style=\"font-family: 'Open Sans', verdana, arial, sans-serif; font-size: 12px; fill: rgb(42, 63, 95); fill-opacity: 1; white-space: pre;\">y_true</text><g class=\"layers\" style=\"opacity: 1;\"><g class=\"legendfill\"/><g class=\"legendlines\"><path class=\"js-line\" d=\"M5,0h30\" style=\"fill: none; stroke: rgb(99, 110, 250); stroke-opacity: 1; stroke-width: 2px;\"/></g><g class=\"legendsymbols\"><g class=\"legendpoints\"/></g></g><rect class=\"legendtoggle\" x=\"0\" y=\"-9.5\" width=\"178.5\" height=\"19\" style=\"fill: rgb(0, 0, 0); fill-opacity: 0;\"/></g></g><g class=\"groups\" transform=\"\"><g class=\"traces\" transform=\"translate(0,51.7)\" style=\"opacity: 1;\"><text class=\"legendtext\" text-anchor=\"start\" x=\"40\" y=\"4.680000000000001\" style=\"font-family: 'Open Sans', verdana, arial, sans-serif; font-size: 12px; fill: rgb(42, 63, 95); fill-opacity: 1; white-space: pre;\">y_pred</text><g class=\"layers\" style=\"opacity: 1;\"><g class=\"legendfill\"/><g class=\"legendlines\"><path class=\"js-line\" d=\"M5,0h30\" style=\"fill: none; stroke: rgb(239, 85, 59); stroke-opacity: 1; stroke-width: 2px;\"/></g><g class=\"legendsymbols\"><g class=\"legendpoints\"/></g></g><rect class=\"legendtoggle\" x=\"0\" y=\"-9.5\" width=\"178.5\" height=\"19\" style=\"fill: rgb(0, 0, 0); fill-opacity: 0;\"/></g></g><g class=\"groups\" transform=\"\"><g class=\"traces\" transform=\"translate(0,70.7)\" style=\"opacity: 1;\"><text class=\"legendtext\" text-anchor=\"start\" x=\"40\" y=\"4.680000000000001\" style=\"font-family: 'Open Sans', verdana, arial, sans-serif; font-size: 12px; fill: rgb(42, 63, 95); fill-opacity: 1; white-space: pre;\">y_pred_scaled_inverse</text><g class=\"layers\" style=\"opacity: 1;\"><g class=\"legendfill\"/><g class=\"legendlines\"><path class=\"js-line\" d=\"M5,0h30\" style=\"fill: none; stroke: rgb(0, 204, 150); stroke-opacity: 1; stroke-width: 2px;\"/></g><g class=\"legendsymbols\"><g class=\"legendpoints\"/></g></g><rect class=\"legendtoggle\" x=\"0\" y=\"-9.5\" width=\"178.5\" height=\"19\" style=\"fill: rgb(0, 0, 0); fill-opacity: 0;\"/></g></g></g><rect class=\"scrollbar\" rx=\"20\" ry=\"3\" width=\"0\" height=\"0\" style=\"fill: rgb(128, 139, 164); fill-opacity: 1;\" x=\"0\" y=\"0\"/></g><g class=\"g-gtitle\"/><g class=\"g-xtitle\"><text class=\"xtitle\" x=\"288\" y=\"460.3\" text-anchor=\"middle\" style=\"font-family: 'Open Sans', verdana, arial, sans-serif; font-size: 14px; fill: rgb(42, 63, 95); opacity: 1; font-weight: normal; white-space: pre;\">index</text></g><g class=\"g-ytitle\"><text class=\"ytitle\" transform=\"rotate(-90,31.809375000000003,240)\" x=\"31.809375000000003\" y=\"240\" text-anchor=\"middle\" style=\"font-family: 'Open Sans', verdana, arial, sans-serif; font-size: 14px; fill: rgb(42, 63, 95); opacity: 1; font-weight: normal; white-space: pre;\">value</text></g></g></svg>"
      ]
     },
     "metadata": {},
     "output_type": "display_data"
    }
   ],
   "source": [
    "utils.plot_df(df_pred)"
   ]
  }
 ],
 "metadata": {
  "Author": "Jesús López",
  "Company": "Datons Academy",
  "Copyright": "Copyright 2023, Jesús López",
  "kernelspec": {
   "display_name": "work",
   "language": "python",
   "name": "python3"
  },
  "language_info": {
   "codemirror_mode": {
    "name": "ipython",
    "version": 3
   },
   "file_extension": ".py",
   "mimetype": "text/x-python",
   "name": "python",
   "nbconvert_exporter": "python",
   "pygments_lexer": "ipython3",
   "version": "3.12.2"
  },
  "papermill": {
   "default_parameters": {},
   "duration": 54.575589,
   "end_time": "2024-05-29T22:39:05.231223",
   "environment_variables": {},
   "exception": null,
   "input_path": "/Users/sota/Library/CloudStorage/Dropbox/2 Business/1 Datons/2 Areas/Courses/22 TS/solutions-new/notebooks/60_Forecasting II Deep Learning/4_Data Scaling/1.ipynb",
   "output_path": "/Users/sota/Library/CloudStorage/Dropbox/2 Business/1 Datons/2 Areas/Courses/22 TS/solutions-new/notebooks/60_Forecasting II Deep Learning/4_Data Scaling/1.ipynb",
   "parameters": {},
   "start_time": "2024-05-29T22:38:10.655634",
   "version": "2.5.0"
  },
  "toc-autonumbering": true
 },
 "nbformat": 4,
 "nbformat_minor": 5
}
