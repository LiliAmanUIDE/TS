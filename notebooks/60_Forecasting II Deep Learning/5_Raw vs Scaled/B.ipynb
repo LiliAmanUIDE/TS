{
 "cells": [
  {
   "cell_type": "markdown",
   "id": "cfd947f6",
   "metadata": {
    "papermill": {
     "duration": 0.00239,
     "end_time": "2024-05-29T22:59:49.663078",
     "exception": false,
     "start_time": "2024-05-29T22:59:49.660688",
     "status": "completed"
    },
    "tags": []
   },
   "source": [
    "# Modelling LSTM with Raw and Scaled Data"
   ]
  },
  {
   "cell_type": "markdown",
   "id": "eb90e850",
   "metadata": {
    "papermill": {
     "duration": 0.001605,
     "end_time": "2024-05-29T22:59:49.666586",
     "exception": false,
     "start_time": "2024-05-29T22:59:49.664981",
     "status": "completed"
    },
    "tags": []
   },
   "source": [
    "## Load Dataset"
   ]
  },
  {
   "cell_type": "code",
   "execution_count": 1,
   "id": "f8cc1f35",
   "metadata": {
    "execution": {
     "iopub.execute_input": "2024-05-29T22:59:49.671602Z",
     "iopub.status.busy": "2024-05-29T22:59:49.671436Z",
     "iopub.status.idle": "2024-05-29T22:59:49.787947Z",
     "shell.execute_reply": "2024-05-29T22:59:49.787696Z"
    },
    "papermill": {
     "duration": 0.120487,
     "end_time": "2024-05-29T22:59:49.788776",
     "exception": false,
     "start_time": "2024-05-29T22:59:49.668289",
     "status": "completed"
    },
    "tags": [
     "required",
     "Fixed"
    ]
   },
   "outputs": [
    {
     "data": {
      "text/html": [
       "<div>\n",
       "<style scoped>\n",
       "    .dataframe tbody tr th:only-of-type {\n",
       "        vertical-align: middle;\n",
       "    }\n",
       "\n",
       "    .dataframe tbody tr th {\n",
       "        vertical-align: top;\n",
       "    }\n",
       "\n",
       "    .dataframe thead th {\n",
       "        text-align: right;\n",
       "    }\n",
       "</style>\n",
       "<table border=\"1\" class=\"dataframe\">\n",
       "  <thead>\n",
       "    <tr style=\"text-align: right;\">\n",
       "      <th></th>\n",
       "      <th>Mercado SPOT</th>\n",
       "    </tr>\n",
       "    <tr>\n",
       "      <th>datetime_utc</th>\n",
       "      <th></th>\n",
       "    </tr>\n",
       "  </thead>\n",
       "  <tbody>\n",
       "    <tr>\n",
       "      <th>2020-01-01 00:00:00+00:00</th>\n",
       "      <td>38.60</td>\n",
       "    </tr>\n",
       "    <tr>\n",
       "      <th>2020-01-01 01:00:00+00:00</th>\n",
       "      <td>36.55</td>\n",
       "    </tr>\n",
       "    <tr>\n",
       "      <th>...</th>\n",
       "      <td>...</td>\n",
       "    </tr>\n",
       "    <tr>\n",
       "      <th>2023-08-04 20:00:00+00:00</th>\n",
       "      <td>94.00</td>\n",
       "    </tr>\n",
       "    <tr>\n",
       "      <th>2023-08-04 21:00:00+00:00</th>\n",
       "      <td>91.70</td>\n",
       "    </tr>\n",
       "  </tbody>\n",
       "</table>\n",
       "<p>31558 rows × 1 columns</p>\n",
       "</div>"
      ],
      "text/plain": [
       "                           Mercado SPOT\n",
       "datetime_utc                           \n",
       "2020-01-01 00:00:00+00:00         38.60\n",
       "2020-01-01 01:00:00+00:00         36.55\n",
       "...                                 ...\n",
       "2023-08-04 20:00:00+00:00         94.00\n",
       "2023-08-04 21:00:00+00:00         91.70\n",
       "\n",
       "[31558 rows x 1 columns]"
      ]
     },
     "execution_count": 1,
     "metadata": {},
     "output_type": "execute_result"
    }
   ],
   "source": [
    "import pandas as pd\n",
    "df = pd.read_csv('../data/precio_mercado_diario.csv', parse_dates=['datetime_utc'], index_col=0)\n",
    "df = df.loc[\"2020\":].copy()\n",
    "df"
   ]
  },
  {
   "cell_type": "markdown",
   "id": "e4ec95d7",
   "metadata": {
    "papermill": {
     "duration": 0.001813,
     "end_time": "2024-05-29T22:59:49.792476",
     "exception": false,
     "start_time": "2024-05-29T22:59:49.790663",
     "status": "completed"
    },
    "tags": []
   },
   "source": [
    "## Data Preprocessing"
   ]
  },
  {
   "cell_type": "markdown",
   "id": "65367bba",
   "metadata": {
    "papermill": {
     "duration": 0.001473,
     "end_time": "2024-05-29T22:59:49.795729",
     "exception": false,
     "start_time": "2024-05-29T22:59:49.794256",
     "status": "completed"
    },
    "tags": []
   },
   "source": [
    "### Scale Data"
   ]
  },
  {
   "cell_type": "code",
   "execution_count": 2,
   "id": "78d73181",
   "metadata": {
    "execution": {
     "iopub.execute_input": "2024-05-29T22:59:49.799325Z",
     "iopub.status.busy": "2024-05-29T22:59:49.799209Z",
     "iopub.status.idle": "2024-05-29T22:59:50.045342Z",
     "shell.execute_reply": "2024-05-29T22:59:50.044967Z"
    },
    "papermill": {
     "duration": 0.249119,
     "end_time": "2024-05-29T22:59:50.046318",
     "exception": false,
     "start_time": "2024-05-29T22:59:49.797199",
     "status": "completed"
    },
    "tags": []
   },
   "outputs": [],
   "source": [
    "import pandas as pd\n",
    "import numpy as np\n",
    "from sklearn.preprocessing import MinMaxScaler\n",
    "from sklearn.model_selection import train_test_split\n",
    "\n",
    "# Normalize data\n",
    "scaler = MinMaxScaler(feature_range=(0, 1))\n",
    "data_scaled = scaler.fit_transform(df)\n",
    "data_raw = df.values"
   ]
  },
  {
   "cell_type": "markdown",
   "id": "f00800ff",
   "metadata": {
    "papermill": {
     "duration": 0.001636,
     "end_time": "2024-05-29T22:59:50.049842",
     "exception": false,
     "start_time": "2024-05-29T22:59:50.048206",
     "status": "completed"
    },
    "tags": []
   },
   "source": [
    "### Train Test Split"
   ]
  },
  {
   "cell_type": "code",
   "execution_count": 3,
   "id": "8671cd97",
   "metadata": {
    "execution": {
     "iopub.execute_input": "2024-05-29T22:59:50.054102Z",
     "iopub.status.busy": "2024-05-29T22:59:50.053899Z",
     "iopub.status.idle": "2024-05-29T22:59:50.056290Z",
     "shell.execute_reply": "2024-05-29T22:59:50.056082Z"
    },
    "papermill": {
     "duration": 0.005225,
     "end_time": "2024-05-29T22:59:50.057001",
     "exception": false,
     "start_time": "2024-05-29T22:59:50.051776",
     "status": "completed"
    },
    "tags": []
   },
   "outputs": [],
   "source": [
    "train_raw, test_raw = train_test_split(data_raw, test_size=0.2, shuffle=False)\n",
    "train_scaled, test_scaled = train_test_split(data_scaled, test_size=0.2, shuffle=False)"
   ]
  },
  {
   "cell_type": "markdown",
   "id": "79f9851f",
   "metadata": {
    "papermill": {
     "duration": 0.001578,
     "end_time": "2024-05-29T22:59:50.060459",
     "exception": false,
     "start_time": "2024-05-29T22:59:50.058881",
     "status": "completed"
    },
    "tags": []
   },
   "source": [
    "### Create Sequences"
   ]
  },
  {
   "cell_type": "code",
   "execution_count": 4,
   "id": "b16800f0",
   "metadata": {
    "execution": {
     "iopub.execute_input": "2024-05-29T22:59:50.063843Z",
     "iopub.status.busy": "2024-05-29T22:59:50.063743Z",
     "iopub.status.idle": "2024-05-29T22:59:50.099218Z",
     "shell.execute_reply": "2024-05-29T22:59:50.098837Z"
    },
    "papermill": {
     "duration": 0.038145,
     "end_time": "2024-05-29T22:59:50.100099",
     "exception": false,
     "start_time": "2024-05-29T22:59:50.061954",
     "status": "completed"
    },
    "tags": []
   },
   "outputs": [],
   "source": [
    "def create_sequences(data, sequence_length):\n",
    "    X, y = [], []\n",
    "    for i in range(len(data) - sequence_length):\n",
    "        X.append(data[i:i+sequence_length])\n",
    "        y.append(data[i+sequence_length])\n",
    "    return np.array(X), np.array(y)\n",
    "\n",
    "sequence_length = 24 # Use 24 hours prior to predict the following hour\n",
    "X_train_raw, y_train_raw = create_sequences(train_raw, sequence_length)\n",
    "X_test_raw, y_test_raw = create_sequences(test_raw, sequence_length)\n",
    "\n",
    "X_train_scaled, y_train_scaled = create_sequences(train_scaled, sequence_length)\n",
    "X_test_scaled, y_test_scaled = create_sequences(test_scaled, sequence_length)"
   ]
  },
  {
   "cell_type": "markdown",
   "id": "1467bd7f",
   "metadata": {
    "papermill": {
     "duration": 0.001392,
     "end_time": "2024-05-29T22:59:50.103199",
     "exception": false,
     "start_time": "2024-05-29T22:59:50.101807",
     "status": "completed"
    },
    "tags": []
   },
   "source": [
    "## Modelling"
   ]
  },
  {
   "cell_type": "code",
   "execution_count": 5,
   "id": "33b3730f",
   "metadata": {
    "execution": {
     "iopub.execute_input": "2024-05-29T22:59:50.106346Z",
     "iopub.status.busy": "2024-05-29T22:59:50.106262Z",
     "iopub.status.idle": "2024-05-29T22:59:51.137593Z",
     "shell.execute_reply": "2024-05-29T22:59:51.137272Z"
    },
    "papermill": {
     "duration": 1.034285,
     "end_time": "2024-05-29T22:59:51.138804",
     "exception": false,
     "start_time": "2024-05-29T22:59:50.104519",
     "status": "completed"
    },
    "tags": []
   },
   "outputs": [],
   "source": [
    "import tensorflow as tf\n",
    "from tensorflow import keras\n",
    "\n",
    "from keras.models import Sequential\n",
    "from keras.layers import LSTM, Dense, Input\n",
    "\n",
    "from keras.callbacks import EarlyStopping\n",
    "early_stop = EarlyStopping(monitor='val_loss', patience=5, restore_best_weights=True)\n",
    "\n",
    "from sklearn.metrics import mean_squared_error"
   ]
  },
  {
   "cell_type": "markdown",
   "id": "fc30f9a0",
   "metadata": {
    "papermill": {
     "duration": 0.002153,
     "end_time": "2024-05-29T22:59:51.143379",
     "exception": false,
     "start_time": "2024-05-29T22:59:51.141226",
     "status": "completed"
    },
    "tags": []
   },
   "source": [
    "### Raw Data"
   ]
  },
  {
   "cell_type": "code",
   "execution_count": 6,
   "id": "19e9a036",
   "metadata": {
    "execution": {
     "iopub.execute_input": "2024-05-29T22:59:51.147691Z",
     "iopub.status.busy": "2024-05-29T22:59:51.147500Z",
     "iopub.status.idle": "2024-05-29T22:59:51.149296Z",
     "shell.execute_reply": "2024-05-29T22:59:51.149096Z"
    },
    "papermill": {
     "duration": 0.004607,
     "end_time": "2024-05-29T22:59:51.149971",
     "exception": false,
     "start_time": "2024-05-29T22:59:51.145364",
     "status": "completed"
    },
    "tags": [
     "required"
    ]
   },
   "outputs": [],
   "source": [
    "import tensorflow as tf\n",
    "from keras.utils import set_random_seed\n",
    "\n",
    "set_random_seed(123)\n",
    "tf.config.experimental.enable_op_determinism()"
   ]
  },
  {
   "cell_type": "code",
   "execution_count": 7,
   "id": "02098dc3",
   "metadata": {
    "execution": {
     "iopub.execute_input": "2024-05-29T22:59:51.153483Z",
     "iopub.status.busy": "2024-05-29T22:59:51.153384Z",
     "iopub.status.idle": "2024-05-29T23:00:31.754979Z",
     "shell.execute_reply": "2024-05-29T23:00:31.754527Z"
    },
    "papermill": {
     "duration": 40.604496,
     "end_time": "2024-05-29T23:00:31.755987",
     "exception": false,
     "start_time": "2024-05-29T22:59:51.151491",
     "status": "completed"
    },
    "tags": []
   },
   "outputs": [],
   "source": [
    "model_raw = Sequential(layers=[\n",
    "    Input(shape=(X_train_raw.shape[1], X_train_raw.shape[2])),\n",
    "    LSTM(50),\n",
    "    Dense(1)\n",
    "])\n",
    "\n",
    "model_raw.compile(optimizer='adam', loss='mean_squared_error')\n",
    "\n",
    "history_raw = model_raw.fit(\n",
    "    X_train_raw, y_train_raw, epochs=50, batch_size=64, verbose=0,\n",
    "    validation_data=(X_test_raw, y_test_raw), callbacks=[early_stop])"
   ]
  },
  {
   "cell_type": "code",
   "execution_count": 8,
   "id": "263979b1",
   "metadata": {
    "execution": {
     "iopub.execute_input": "2024-05-29T23:00:31.760376Z",
     "iopub.status.busy": "2024-05-29T23:00:31.760242Z",
     "iopub.status.idle": "2024-05-29T23:00:31.763062Z",
     "shell.execute_reply": "2024-05-29T23:00:31.762837Z"
    },
    "papermill": {
     "duration": 0.005834,
     "end_time": "2024-05-29T23:00:31.763788",
     "exception": false,
     "start_time": "2024-05-29T23:00:31.757954",
     "status": "completed"
    },
    "tags": []
   },
   "outputs": [
    {
     "data": {
      "text/plain": [
       "{'loss': [14989.6806640625,\n",
       "  11894.8369140625,\n",
       "  9860.916015625,\n",
       "  8222.421875,\n",
       "  6866.01123046875,\n",
       "  5737.85498046875,\n",
       "  4796.57275390625,\n",
       "  4007.109130859375,\n",
       "  3345.275634765625,\n",
       "  2793.215576171875,\n",
       "  2335.788818359375,\n",
       "  1959.74609375,\n",
       "  1651.0126953125,\n",
       "  1400.6121826171875,\n",
       "  1198.3262939453125,\n",
       "  1032.7847900390625,\n",
       "  895.3369750976562,\n",
       "  786.8594970703125,\n",
       "  696.5238037109375,\n",
       "  620.0357055664062,\n",
       "  559.2014770507812,\n",
       "  504.60888671875,\n",
       "  459.0068359375,\n",
       "  418.5453796386719,\n",
       "  384.4638977050781,\n",
       "  355.6593017578125,\n",
       "  327.3274841308594,\n",
       "  305.2088317871094,\n",
       "  283.5623779296875,\n",
       "  264.59112548828125],\n",
       " 'val_loss': [6353.21923828125,\n",
       "  4468.9609375,\n",
       "  3103.15185546875,\n",
       "  2104.748779296875,\n",
       "  1396.305908203125,\n",
       "  917.5978393554688,\n",
       "  603.9852294921875,\n",
       "  400.1684875488281,\n",
       "  278.00958251953125,\n",
       "  209.3993682861328,\n",
       "  174.4014129638672,\n",
       "  156.64315795898438,\n",
       "  152.72628784179688,\n",
       "  146.44876098632812,\n",
       "  143.07424926757812,\n",
       "  133.303955078125,\n",
       "  132.33871459960938,\n",
       "  128.20936584472656,\n",
       "  124.12079620361328,\n",
       "  128.46580505371094,\n",
       "  124.14095306396484,\n",
       "  122.46669006347656,\n",
       "  126.96722412109375,\n",
       "  126.17112731933594,\n",
       "  121.2603988647461,\n",
       "  122.84858703613281,\n",
       "  123.15211486816406,\n",
       "  128.23159790039062,\n",
       "  126.61314392089844,\n",
       "  125.76054382324219]}"
      ]
     },
     "execution_count": 8,
     "metadata": {},
     "output_type": "execute_result"
    }
   ],
   "source": [
    "history_raw.history"
   ]
  },
  {
   "cell_type": "markdown",
   "id": "168e98c8",
   "metadata": {
    "papermill": {
     "duration": 0.001525,
     "end_time": "2024-05-29T23:00:31.767056",
     "exception": false,
     "start_time": "2024-05-29T23:00:31.765531",
     "status": "completed"
    },
    "tags": []
   },
   "source": [
    "### Scaled Data"
   ]
  },
  {
   "cell_type": "code",
   "execution_count": 9,
   "id": "6fe88998",
   "metadata": {
    "execution": {
     "iopub.execute_input": "2024-05-29T23:00:31.770663Z",
     "iopub.status.busy": "2024-05-29T23:00:31.770533Z",
     "iopub.status.idle": "2024-05-29T23:00:31.775232Z",
     "shell.execute_reply": "2024-05-29T23:00:31.775050Z"
    },
    "papermill": {
     "duration": 0.007567,
     "end_time": "2024-05-29T23:00:31.776101",
     "exception": false,
     "start_time": "2024-05-29T23:00:31.768534",
     "status": "completed"
    },
    "tags": [
     "required"
    ]
   },
   "outputs": [],
   "source": [
    "import tensorflow as tf\n",
    "from keras.utils import set_random_seed\n",
    "\n",
    "set_random_seed(123)\n",
    "tf.config.experimental.enable_op_determinism()"
   ]
  },
  {
   "cell_type": "code",
   "execution_count": 10,
   "id": "b2c44575",
   "metadata": {
    "execution": {
     "iopub.execute_input": "2024-05-29T23:00:31.780291Z",
     "iopub.status.busy": "2024-05-29T23:00:31.780168Z",
     "iopub.status.idle": "2024-05-29T23:01:39.647265Z",
     "shell.execute_reply": "2024-05-29T23:01:39.646881Z"
    },
    "papermill": {
     "duration": 67.870197,
     "end_time": "2024-05-29T23:01:39.648211",
     "exception": false,
     "start_time": "2024-05-29T23:00:31.778014",
     "status": "completed"
    },
    "tags": []
   },
   "outputs": [],
   "source": [
    "model_scaled = Sequential(layers=[\n",
    "    Input(shape=(X_train_scaled.shape[1], X_train_scaled.shape[2])),\n",
    "    LSTM(50),\n",
    "    Dense(1)\n",
    "])\n",
    "\n",
    "model_scaled.compile(optimizer='adam', loss='mean_squared_error')\n",
    "\n",
    "history_scaled = model_scaled.fit(\n",
    "    X_train_scaled, y_train_scaled, epochs=50, batch_size=64, verbose=0,\n",
    "    validation_data=(X_test_scaled, y_test_scaled), callbacks=[early_stop])"
   ]
  },
  {
   "cell_type": "markdown",
   "id": "d3af2b71",
   "metadata": {
    "papermill": {
     "duration": 0.001774,
     "end_time": "2024-05-29T23:01:39.652141",
     "exception": false,
     "start_time": "2024-05-29T23:01:39.650367",
     "status": "completed"
    },
    "tags": []
   },
   "source": [
    "### Compare History"
   ]
  },
  {
   "cell_type": "code",
   "execution_count": 11,
   "id": "724faf88",
   "metadata": {
    "execution": {
     "iopub.execute_input": "2024-05-29T23:01:39.656175Z",
     "iopub.status.busy": "2024-05-29T23:01:39.656053Z",
     "iopub.status.idle": "2024-05-29T23:01:39.657729Z",
     "shell.execute_reply": "2024-05-29T23:01:39.657507Z"
    },
    "papermill": {
     "duration": 0.004437,
     "end_time": "2024-05-29T23:01:39.658436",
     "exception": false,
     "start_time": "2024-05-29T23:01:39.653999",
     "status": "completed"
    },
    "tags": []
   },
   "outputs": [],
   "source": [
    "import sys\n",
    "sys.path.append('../')"
   ]
  },
  {
   "cell_type": "code",
   "execution_count": 12,
   "id": "5c95a9f1",
   "metadata": {
    "execution": {
     "iopub.execute_input": "2024-05-29T23:01:39.661820Z",
     "iopub.status.busy": "2024-05-29T23:01:39.661739Z",
     "iopub.status.idle": "2024-05-29T23:01:39.748476Z",
     "shell.execute_reply": "2024-05-29T23:01:39.748265Z"
    },
    "papermill": {
     "duration": 0.089325,
     "end_time": "2024-05-29T23:01:39.749273",
     "exception": false,
     "start_time": "2024-05-29T23:01:39.659948",
     "status": "completed"
    },
    "tags": []
   },
   "outputs": [
    {
     "data": {
      "text/html": [
       "<div>\n",
       "<style scoped>\n",
       "    .dataframe tbody tr th:only-of-type {\n",
       "        vertical-align: middle;\n",
       "    }\n",
       "\n",
       "    .dataframe tbody tr th {\n",
       "        vertical-align: top;\n",
       "    }\n",
       "\n",
       "    .dataframe thead th {\n",
       "        text-align: right;\n",
       "    }\n",
       "</style>\n",
       "<table border=\"1\" class=\"dataframe\">\n",
       "  <thead>\n",
       "    <tr style=\"text-align: right;\">\n",
       "      <th></th>\n",
       "      <th>variable</th>\n",
       "      <th>value</th>\n",
       "    </tr>\n",
       "    <tr>\n",
       "      <th>epoch</th>\n",
       "      <th></th>\n",
       "      <th></th>\n",
       "    </tr>\n",
       "  </thead>\n",
       "  <tbody>\n",
       "    <tr>\n",
       "      <th>0</th>\n",
       "      <td>raw</td>\n",
       "      <td>14989.680664</td>\n",
       "    </tr>\n",
       "    <tr>\n",
       "      <th>1</th>\n",
       "      <td>raw</td>\n",
       "      <td>11894.836914</td>\n",
       "    </tr>\n",
       "    <tr>\n",
       "      <th>...</th>\n",
       "      <td>...</td>\n",
       "      <td>...</td>\n",
       "    </tr>\n",
       "    <tr>\n",
       "      <th>48</th>\n",
       "      <td>scaled</td>\n",
       "      <td>0.000168</td>\n",
       "    </tr>\n",
       "    <tr>\n",
       "      <th>49</th>\n",
       "      <td>scaled</td>\n",
       "      <td>0.000168</td>\n",
       "    </tr>\n",
       "  </tbody>\n",
       "</table>\n",
       "<p>100 rows × 2 columns</p>\n",
       "</div>"
      ],
      "text/plain": [
       "      variable         value\n",
       "epoch                       \n",
       "0          raw  14989.680664\n",
       "1          raw  11894.836914\n",
       "...        ...           ...\n",
       "48      scaled      0.000168\n",
       "49      scaled      0.000168\n",
       "\n",
       "[100 rows x 2 columns]"
      ]
     },
     "execution_count": 12,
     "metadata": {},
     "output_type": "execute_result"
    }
   ],
   "source": [
    "import utils\n",
    "\n",
    "df_history = utils.process_df_history(history_raw, history_scaled)\n",
    "df_history"
   ]
  },
  {
   "cell_type": "code",
   "execution_count": 13,
   "id": "5aaf8aed",
   "metadata": {
    "execution": {
     "iopub.execute_input": "2024-05-29T23:01:39.754390Z",
     "iopub.status.busy": "2024-05-29T23:01:39.754226Z",
     "iopub.status.idle": "2024-05-29T23:01:40.529008Z",
     "shell.execute_reply": "2024-05-29T23:01:40.528591Z"
    },
    "papermill": {
     "duration": 0.778237,
     "end_time": "2024-05-29T23:01:40.529837",
     "exception": false,
     "start_time": "2024-05-29T23:01:39.751600",
     "status": "completed"
    },
    "tags": []
   },
   "outputs": [
    {
     "data": {
      "image/svg+xml": [
       "<svg class=\"main-svg\" xmlns=\"http://www.w3.org/2000/svg\" xmlns:xlink=\"http://www.w3.org/1999/xlink\" width=\"700\" height=\"500\" style=\"\" viewBox=\"0 0 700 500\"><rect x=\"0\" y=\"0\" width=\"700\" height=\"500\" style=\"fill: rgb(255, 255, 255); fill-opacity: 1;\"/><defs id=\"defs-8c1d4a\"><g class=\"clips\"><clipPath id=\"clip8c1d4axyplot\" class=\"plotclip\"><rect width=\"264.6\" height=\"360\"/></clipPath><clipPath id=\"clip8c1d4ax2y2plot\" class=\"plotclip\"><rect width=\"264.6\" height=\"360\"/></clipPath><clipPath class=\"axesclip\" id=\"clip8c1d4ax\"><rect x=\"80\" y=\"0\" width=\"264.6\" height=\"500\"/></clipPath><clipPath class=\"axesclip\" id=\"clip8c1d4ay\"><rect x=\"0\" y=\"60\" width=\"700\" height=\"360\"/></clipPath><clipPath class=\"axesclip\" id=\"clip8c1d4axy\"><rect x=\"80\" y=\"60\" width=\"264.6\" height=\"360\"/></clipPath><clipPath class=\"axesclip\" id=\"clip8c1d4ay2\"><rect x=\"0\" y=\"60\" width=\"700\" height=\"360\"/></clipPath><clipPath class=\"axesclip\" id=\"clip8c1d4axy2\"><rect x=\"80\" y=\"60\" width=\"264.6\" height=\"360\"/></clipPath><clipPath class=\"axesclip\" id=\"clip8c1d4ax2\"><rect x=\"355.4\" y=\"0\" width=\"264.6\" height=\"500\"/></clipPath><clipPath class=\"axesclip\" id=\"clip8c1d4ax2y\"><rect x=\"355.4\" y=\"60\" width=\"264.6\" height=\"360\"/></clipPath><clipPath class=\"axesclip\" id=\"clip8c1d4ax2y2\"><rect x=\"355.4\" y=\"60\" width=\"264.6\" height=\"360\"/></clipPath></g><g class=\"gradients\"/><g class=\"patterns\"/></defs><g class=\"bglayer\"><rect class=\"bg\" x=\"80\" y=\"60\" width=\"264.6\" height=\"360\" style=\"fill: rgb(229, 236, 246); fill-opacity: 1; stroke-width: 0;\"/><rect class=\"bg\" x=\"355.4\" y=\"60\" width=\"264.6\" height=\"360\" style=\"fill: rgb(229, 236, 246); fill-opacity: 1; stroke-width: 0;\"/></g><g class=\"layer-below\"><g class=\"imagelayer\"/><g class=\"shapelayer\"/></g><g class=\"cartesianlayer\"><g class=\"subplot xy\"><g class=\"layer-subplot\"><g class=\"shapelayer\"/><g class=\"imagelayer\"/></g><g class=\"minor-gridlayer\"><g class=\"x\"/><g class=\"y\"/></g><g class=\"gridlayer\"><g class=\"x\"><path class=\"xgrid crisp\" transform=\"translate(134,0)\" d=\"M0,60v360\" style=\"stroke: rgb(255, 255, 255); stroke-opacity: 1; stroke-width: 1px;\"/><path class=\"xgrid crisp\" transform=\"translate(188,0)\" d=\"M0,60v360\" style=\"stroke: rgb(255, 255, 255); stroke-opacity: 1; stroke-width: 1px;\"/><path class=\"xgrid crisp\" transform=\"translate(242,0)\" d=\"M0,60v360\" style=\"stroke: rgb(255, 255, 255); stroke-opacity: 1; stroke-width: 1px;\"/><path class=\"xgrid crisp\" transform=\"translate(296,0)\" d=\"M0,60v360\" style=\"stroke: rgb(255, 255, 255); stroke-opacity: 1; stroke-width: 1px;\"/></g><g class=\"y\"><path class=\"ygrid crisp\" transform=\"translate(0,363.82)\" d=\"M80,0h264.6\" style=\"stroke: rgb(255, 255, 255); stroke-opacity: 1; stroke-width: 1px;\"/><path class=\"ygrid crisp\" transform=\"translate(0,319.81)\" d=\"M80,0h264.6\" style=\"stroke: rgb(255, 255, 255); stroke-opacity: 1; stroke-width: 1px;\"/><path class=\"ygrid crisp\" transform=\"translate(0,275.8)\" d=\"M80,0h264.6\" style=\"stroke: rgb(255, 255, 255); stroke-opacity: 1; stroke-width: 1px;\"/><path class=\"ygrid crisp\" transform=\"translate(0,231.8)\" d=\"M80,0h264.6\" style=\"stroke: rgb(255, 255, 255); stroke-opacity: 1; stroke-width: 1px;\"/><path class=\"ygrid crisp\" transform=\"translate(0,187.79000000000002)\" d=\"M80,0h264.6\" style=\"stroke: rgb(255, 255, 255); stroke-opacity: 1; stroke-width: 1px;\"/><path class=\"ygrid crisp\" transform=\"translate(0,143.78)\" d=\"M80,0h264.6\" style=\"stroke: rgb(255, 255, 255); stroke-opacity: 1; stroke-width: 1px;\"/><path class=\"ygrid crisp\" transform=\"translate(0,99.78)\" d=\"M80,0h264.6\" style=\"stroke: rgb(255, 255, 255); stroke-opacity: 1; stroke-width: 1px;\"/></g></g><g class=\"zerolinelayer\"><path class=\"xzl zl crisp\" transform=\"translate(80,0)\" d=\"M0,60v360\" style=\"stroke: rgb(255, 255, 255); stroke-opacity: 1; stroke-width: 2px;\"/><path class=\"yzl zl crisp\" transform=\"translate(0,407.82)\" d=\"M80,0h264.6\" style=\"stroke: rgb(255, 255, 255); stroke-opacity: 1; stroke-width: 2px;\"/></g><path class=\"xlines-below\"/><path class=\"ylines-below\"/><g class=\"overlines-below\"/><g class=\"xaxislayer-below\"/><g class=\"yaxislayer-below\"/><g class=\"overaxes-below\"/><g class=\"plot\" transform=\"translate(80,60)\" clip-path=\"url(#clip8c1d4axyplot)\"><g class=\"scatterlayer mlayer\"><g class=\"trace scatter traceeffc10\" style=\"stroke-miterlimit: 2; opacity: 1;\"><g class=\"fills\"/><g class=\"errorbars\"/><g class=\"lines\"><path class=\"js-line\" d=\"M0,18L5.4,86.1L10.8,130.85L16.2,166.9L21.6,196.75L27,221.57L32.4,242.28L37.8,259.65L43.2,274.21L48.6,286.36L54,296.43L59.4,304.7L64.8,311.49L75.6,321.45L81,325.1L91.8,330.51L97.2,332.5L108,335.52L113.4,336.72L135,340L140.4,340.62L156.6,342\" style=\"vector-effect: none; fill: none; stroke: rgb(99, 110, 250); stroke-opacity: 1; stroke-width: 2px; opacity: 1;\"/></g><g class=\"points\"/><g class=\"text\"/></g></g></g><g class=\"overplot\"/><path class=\"xlines-above crisp\" d=\"M0,0\" style=\"fill: none;\"/><path class=\"ylines-above crisp\" d=\"M0,0\" style=\"fill: none;\"/><g class=\"overlines-above\"/><g class=\"xaxislayer-above\"><g class=\"xtick\"><text text-anchor=\"middle\" x=\"0\" y=\"433\" transform=\"translate(80,0)\" style=\"font-family: 'Open Sans', verdana, arial, sans-serif; font-size: 12px; fill: rgb(42, 63, 95); fill-opacity: 1; white-space: pre; opacity: 1;\">0</text></g><g class=\"xtick\"><text text-anchor=\"middle\" x=\"0\" y=\"433\" style=\"font-family: 'Open Sans', verdana, arial, sans-serif; font-size: 12px; fill: rgb(42, 63, 95); fill-opacity: 1; white-space: pre; opacity: 1;\" transform=\"translate(134,0)\">10</text></g><g class=\"xtick\"><text text-anchor=\"middle\" x=\"0\" y=\"433\" style=\"font-family: 'Open Sans', verdana, arial, sans-serif; font-size: 12px; fill: rgb(42, 63, 95); fill-opacity: 1; white-space: pre; opacity: 1;\" transform=\"translate(188,0)\">20</text></g><g class=\"xtick\"><text text-anchor=\"middle\" x=\"0\" y=\"433\" style=\"font-family: 'Open Sans', verdana, arial, sans-serif; font-size: 12px; fill: rgb(42, 63, 95); fill-opacity: 1; white-space: pre; opacity: 1;\" transform=\"translate(242,0)\">30</text></g><g class=\"xtick\"><text text-anchor=\"middle\" x=\"0\" y=\"433\" style=\"font-family: 'Open Sans', verdana, arial, sans-serif; font-size: 12px; fill: rgb(42, 63, 95); fill-opacity: 1; white-space: pre; opacity: 1;\" transform=\"translate(296,0)\">40</text></g></g><g class=\"yaxislayer-above\"><g class=\"ytick\"><text text-anchor=\"end\" x=\"79\" y=\"4.199999999999999\" transform=\"translate(0,407.82)\" style=\"font-family: 'Open Sans', verdana, arial, sans-serif; font-size: 12px; fill: rgb(42, 63, 95); fill-opacity: 1; white-space: pre; opacity: 1;\">0</text></g><g class=\"ytick\"><text text-anchor=\"end\" x=\"79\" y=\"4.199999999999999\" style=\"font-family: 'Open Sans', verdana, arial, sans-serif; font-size: 12px; fill: rgb(42, 63, 95); fill-opacity: 1; white-space: pre; opacity: 1;\" transform=\"translate(0,363.82)\">2k</text></g><g class=\"ytick\"><text text-anchor=\"end\" x=\"79\" y=\"4.199999999999999\" style=\"font-family: 'Open Sans', verdana, arial, sans-serif; font-size: 12px; fill: rgb(42, 63, 95); fill-opacity: 1; white-space: pre; opacity: 1;\" transform=\"translate(0,319.81)\">4k</text></g><g class=\"ytick\"><text text-anchor=\"end\" x=\"79\" y=\"4.199999999999999\" style=\"font-family: 'Open Sans', verdana, arial, sans-serif; font-size: 12px; fill: rgb(42, 63, 95); fill-opacity: 1; white-space: pre; opacity: 1;\" transform=\"translate(0,275.8)\">6k</text></g><g class=\"ytick\"><text text-anchor=\"end\" x=\"79\" y=\"4.199999999999999\" style=\"font-family: 'Open Sans', verdana, arial, sans-serif; font-size: 12px; fill: rgb(42, 63, 95); fill-opacity: 1; white-space: pre; opacity: 1;\" transform=\"translate(0,231.8)\">8k</text></g><g class=\"ytick\"><text text-anchor=\"end\" x=\"79\" y=\"4.199999999999999\" style=\"font-family: 'Open Sans', verdana, arial, sans-serif; font-size: 12px; fill: rgb(42, 63, 95); fill-opacity: 1; white-space: pre; opacity: 1;\" transform=\"translate(0,187.79000000000002)\">10k</text></g><g class=\"ytick\"><text text-anchor=\"end\" x=\"79\" y=\"4.199999999999999\" style=\"font-family: 'Open Sans', verdana, arial, sans-serif; font-size: 12px; fill: rgb(42, 63, 95); fill-opacity: 1; white-space: pre; opacity: 1;\" transform=\"translate(0,143.78)\">12k</text></g><g class=\"ytick\"><text text-anchor=\"end\" x=\"79\" y=\"4.199999999999999\" style=\"font-family: 'Open Sans', verdana, arial, sans-serif; font-size: 12px; fill: rgb(42, 63, 95); fill-opacity: 1; white-space: pre; opacity: 1;\" transform=\"translate(0,99.78)\">14k</text></g></g><g class=\"overaxes-above\"/></g><g class=\"subplot x2y2\"><g class=\"layer-subplot\"><g class=\"shapelayer\"/><g class=\"imagelayer\"/></g><g class=\"minor-gridlayer\"><g class=\"x2\"/><g class=\"y2\"/></g><g class=\"gridlayer\"><g class=\"x2\"><path class=\"x2grid crisp\" transform=\"translate(409.4,0)\" d=\"M0,60v360\" style=\"stroke: rgb(255, 255, 255); stroke-opacity: 1; stroke-width: 1px;\"/><path class=\"x2grid crisp\" transform=\"translate(463.4,0)\" d=\"M0,60v360\" style=\"stroke: rgb(255, 255, 255); stroke-opacity: 1; stroke-width: 1px;\"/><path class=\"x2grid crisp\" transform=\"translate(517.4,0)\" d=\"M0,60v360\" style=\"stroke: rgb(255, 255, 255); stroke-opacity: 1; stroke-width: 1px;\"/><path class=\"x2grid crisp\" transform=\"translate(571.4,0)\" d=\"M0,60v360\" style=\"stroke: rgb(255, 255, 255); stroke-opacity: 1; stroke-width: 1px;\"/></g><g class=\"y2\"><path class=\"y2grid crisp\" transform=\"translate(0,396.08)\" d=\"M355.4,0h264.6\" style=\"stroke: rgb(255, 255, 255); stroke-opacity: 1; stroke-width: 1px;\"/><path class=\"y2grid crisp\" transform=\"translate(0,359.39)\" d=\"M355.4,0h264.6\" style=\"stroke: rgb(255, 255, 255); stroke-opacity: 1; stroke-width: 1px;\"/><path class=\"y2grid crisp\" transform=\"translate(0,322.7)\" d=\"M355.4,0h264.6\" style=\"stroke: rgb(255, 255, 255); stroke-opacity: 1; stroke-width: 1px;\"/><path class=\"y2grid crisp\" transform=\"translate(0,286.01)\" d=\"M355.4,0h264.6\" style=\"stroke: rgb(255, 255, 255); stroke-opacity: 1; stroke-width: 1px;\"/><path class=\"y2grid crisp\" transform=\"translate(0,249.32)\" d=\"M355.4,0h264.6\" style=\"stroke: rgb(255, 255, 255); stroke-opacity: 1; stroke-width: 1px;\"/><path class=\"y2grid crisp\" transform=\"translate(0,212.62)\" d=\"M355.4,0h264.6\" style=\"stroke: rgb(255, 255, 255); stroke-opacity: 1; stroke-width: 1px;\"/><path class=\"y2grid crisp\" transform=\"translate(0,175.93)\" d=\"M355.4,0h264.6\" style=\"stroke: rgb(255, 255, 255); stroke-opacity: 1; stroke-width: 1px;\"/><path class=\"y2grid crisp\" transform=\"translate(0,139.24)\" d=\"M355.4,0h264.6\" style=\"stroke: rgb(255, 255, 255); stroke-opacity: 1; stroke-width: 1px;\"/><path class=\"y2grid crisp\" transform=\"translate(0,102.55)\" d=\"M355.4,0h264.6\" style=\"stroke: rgb(255, 255, 255); stroke-opacity: 1; stroke-width: 1px;\"/><path class=\"y2grid crisp\" transform=\"translate(0,65.86)\" d=\"M355.4,0h264.6\" style=\"stroke: rgb(255, 255, 255); stroke-opacity: 1; stroke-width: 1px;\"/></g></g><g class=\"zerolinelayer\"><path class=\"x2zl zl crisp\" transform=\"translate(355.4,0)\" d=\"M0,60v360\" style=\"stroke: rgb(255, 255, 255); stroke-opacity: 1; stroke-width: 2px;\"/></g><path class=\"xlines-below\"/><path class=\"ylines-below\"/><g class=\"overlines-below\"/><g class=\"xaxislayer-below\"/><g class=\"yaxislayer-below\"/><g class=\"overaxes-below\"/><g class=\"plot\" transform=\"translate(355.4,60)\" clip-path=\"url(#clip8c1d4ax2y2plot)\"><g class=\"scatterlayer mlayer\"><g class=\"trace scatter traceb2bf8f\" style=\"stroke-miterlimit: 2; opacity: 1;\"><g class=\"fills\"/><g class=\"errorbars\"/><g class=\"lines\"><path class=\"js-line\" d=\"M0,18L5.4,215.46L10.8,284.49L16.2,316.6L21.6,325.57L27,329.68L32.4,331.37L43.2,333.96L48.6,335.03L59.4,336.74L64.8,337.19L108,340.27L113.4,340.42L194.4,341.48L199.8,341.52L264.6,342\" style=\"vector-effect: none; fill: none; stroke: rgb(99, 110, 250); stroke-opacity: 1; stroke-width: 2px; opacity: 1;\"/></g><g class=\"points\"/><g class=\"text\"/></g></g></g><g class=\"overplot\"/><path class=\"xlines-above crisp\" d=\"M0,0\" style=\"fill: none;\"/><path class=\"ylines-above crisp\" d=\"M0,0\" style=\"fill: none;\"/><g class=\"overlines-above\"/><g class=\"xaxislayer-above\"><g class=\"x2tick\"><text text-anchor=\"middle\" x=\"0\" y=\"433\" transform=\"translate(355.4,0)\" style=\"font-family: 'Open Sans', verdana, arial, sans-serif; font-size: 12px; fill: rgb(42, 63, 95); fill-opacity: 1; white-space: pre; opacity: 1;\">0</text></g><g class=\"x2tick\"><text text-anchor=\"middle\" x=\"0\" y=\"433\" style=\"font-family: 'Open Sans', verdana, arial, sans-serif; font-size: 12px; fill: rgb(42, 63, 95); fill-opacity: 1; white-space: pre; opacity: 1;\" transform=\"translate(409.4,0)\">10</text></g><g class=\"x2tick\"><text text-anchor=\"middle\" x=\"0\" y=\"433\" style=\"font-family: 'Open Sans', verdana, arial, sans-serif; font-size: 12px; fill: rgb(42, 63, 95); fill-opacity: 1; white-space: pre; opacity: 1;\" transform=\"translate(463.4,0)\">20</text></g><g class=\"x2tick\"><text text-anchor=\"middle\" x=\"0\" y=\"433\" style=\"font-family: 'Open Sans', verdana, arial, sans-serif; font-size: 12px; fill: rgb(42, 63, 95); fill-opacity: 1; white-space: pre; opacity: 1;\" transform=\"translate(517.4,0)\">30</text></g><g class=\"x2tick\"><text text-anchor=\"middle\" x=\"0\" y=\"433\" style=\"font-family: 'Open Sans', verdana, arial, sans-serif; font-size: 12px; fill: rgb(42, 63, 95); fill-opacity: 1; white-space: pre; opacity: 1;\" transform=\"translate(571.4,0)\">40</text></g></g><g class=\"yaxislayer-above\"/><g class=\"overaxes-above\"/></g></g><g class=\"polarlayer\"/><g class=\"smithlayer\"/><g class=\"ternarylayer\"/><g class=\"geolayer\"/><g class=\"funnelarealayer\"/><g class=\"pielayer\"/><g class=\"iciclelayer\"/><g class=\"treemaplayer\"/><g class=\"sunburstlayer\"/><g class=\"glimages\"/><defs id=\"topdefs-8c1d4a\"><g class=\"clips\"/></defs><g class=\"layer-above\"><g class=\"imagelayer\"/><g class=\"shapelayer\"/></g><g class=\"infolayer\"><g class=\"g-gtitle\"/><g class=\"g-xtitle\"><text class=\"xtitle\" x=\"212.3\" y=\"460.3\" text-anchor=\"middle\" style=\"font-family: 'Open Sans', verdana, arial, sans-serif; font-size: 14px; fill: rgb(42, 63, 95); opacity: 1; font-weight: normal; white-space: pre;\">epoch</text></g><g class=\"g-x2title\"><text class=\"x2title\" x=\"487.7\" y=\"460.3\" text-anchor=\"middle\" style=\"font-family: 'Open Sans', verdana, arial, sans-serif; font-size: 14px; fill: rgb(42, 63, 95); opacity: 1; font-weight: normal; white-space: pre;\">epoch</text></g><g class=\"g-ytitle\"><text class=\"ytitle\" transform=\"rotate(-90,32.340625,240)\" x=\"32.340625\" y=\"240\" text-anchor=\"middle\" style=\"font-family: 'Open Sans', verdana, arial, sans-serif; font-size: 14px; fill: rgb(42, 63, 95); opacity: 1; font-weight: normal; white-space: pre;\">value</text></g><g class=\"g-y2title\"/><g class=\"annotation\" data-index=\"0\" style=\"opacity: 1;\"><g class=\"annotation-text-g\" transform=\"rotate(0,212.3,50.5)\"><g class=\"cursor-pointer\" transform=\"translate(170,41)\"><rect class=\"bg\" x=\"0.5\" y=\"0.5\" width=\"83\" height=\"18\" style=\"stroke-width: 1px; stroke: rgb(0, 0, 0); stroke-opacity: 0; fill: rgb(0, 0, 0); fill-opacity: 0;\"/><text class=\"annotation-text\" text-anchor=\"middle\" x=\"41.921875\" y=\"14\" style=\"font-family: 'Open Sans', verdana, arial, sans-serif; font-size: 12px; fill: rgb(42, 63, 95); fill-opacity: 1; white-space: pre;\">variable=raw</text></g></g></g><g class=\"annotation\" data-index=\"1\" style=\"opacity: 1;\"><g class=\"annotation-text-g\" transform=\"rotate(0,487.7,50.5)\"><g class=\"cursor-pointer\" transform=\"translate(438,41)\"><rect class=\"bg\" x=\"0.5\" y=\"0.5\" width=\"98\" height=\"18\" style=\"stroke-width: 1px; stroke: rgb(0, 0, 0); stroke-opacity: 0; fill: rgb(0, 0, 0); fill-opacity: 0;\"/><text class=\"annotation-text\" text-anchor=\"middle\" x=\"49.65625\" y=\"14\" style=\"font-family: 'Open Sans', verdana, arial, sans-serif; font-size: 12px; fill: rgb(42, 63, 95); fill-opacity: 1; white-space: pre;\">variable=scaled</text></g></g></g></g></svg>"
      ]
     },
     "metadata": {},
     "output_type": "display_data"
    }
   ],
   "source": [
    "import plotly.express as px\n",
    "\n",
    "fig = px.line(data_frame=df_history, x=df_history.index, y='value', facet_col='variable')\n",
    "fig.update_yaxes(matches=None)"
   ]
  },
  {
   "cell_type": "markdown",
   "id": "38671834",
   "metadata": {
    "papermill": {
     "duration": 0.001729,
     "end_time": "2024-05-29T23:01:40.533648",
     "exception": false,
     "start_time": "2024-05-29T23:01:40.531919",
     "status": "completed"
    },
    "tags": []
   },
   "source": [
    "### Predictions"
   ]
  },
  {
   "cell_type": "code",
   "execution_count": 14,
   "id": "aef14512",
   "metadata": {
    "execution": {
     "iopub.execute_input": "2024-05-29T23:01:40.538100Z",
     "iopub.status.busy": "2024-05-29T23:01:40.537957Z",
     "iopub.status.idle": "2024-05-29T23:01:41.185765Z",
     "shell.execute_reply": "2024-05-29T23:01:41.185402Z"
    },
    "papermill": {
     "duration": 0.651039,
     "end_time": "2024-05-29T23:01:41.186624",
     "exception": false,
     "start_time": "2024-05-29T23:01:40.535585",
     "status": "completed"
    },
    "tags": []
   },
   "outputs": [
    {
     "name": "stdout",
     "output_type": "stream",
     "text": [
      "\r",
      "\u001b[1m  1/197\u001b[0m \u001b[37m━━━━━━━━━━━━━━━━━━━━\u001b[0m \u001b[1m11s\u001b[0m 59ms/step"
     ]
    },
    {
     "name": "stdout",
     "output_type": "stream",
     "text": [
      "\b\b\b\b\b\b\b\b\b\b\b\b\b\b\b\b\b\b\b\b\b\b\b\b\b\b\b\b\b\b\b\b\b\b\b\b\b\b\b\b\b\b\r",
      "\u001b[1m 51/197\u001b[0m \u001b[32m━━━━━\u001b[0m\u001b[37m━━━━━━━━━━━━━━━\u001b[0m \u001b[1m0s\u001b[0m 1ms/step  "
     ]
    },
    {
     "name": "stdout",
     "output_type": "stream",
     "text": [
      "\b\b\b\b\b\b\b\b\b\b\b\b\b\b\b\b\b\b\b\b\b\b\b\b\b\b\b\b\b\b\b\b\b\b\b\b\b\b\b\b\r",
      "\u001b[1m109/197\u001b[0m \u001b[32m━━━━━━━━━━━\u001b[0m\u001b[37m━━━━━━━━━\u001b[0m \u001b[1m0s\u001b[0m 928us/step"
     ]
    },
    {
     "name": "stdout",
     "output_type": "stream",
     "text": [
      "\b\b\b\b\b\b\b\b\b\b\b\b\b\b\b\b\b\b\b\b\b\b\b\b\b\b\b\b\b\b\b\b\b\b\b\b\b\b\b\b\b\b\r",
      "\u001b[1m166/197\u001b[0m \u001b[32m━━━━━━━━━━━━━━━━\u001b[0m\u001b[37m━━━━\u001b[0m \u001b[1m0s\u001b[0m 916us/step"
     ]
    },
    {
     "name": "stdout",
     "output_type": "stream",
     "text": [
      "\b\b\b\b\b\b\b\b\b\b\b\b\b\b\b\b\b\b\b\b\b\b\b\b\b\b\b\b\b\b\b\b\b\b\b\b\b\b\b\b\b\b\r",
      "\u001b[1m197/197\u001b[0m \u001b[32m━━━━━━━━━━━━━━━━━━━━\u001b[0m\u001b[37m\u001b[0m \u001b[1m0s\u001b[0m 1ms/step  "
     ]
    },
    {
     "name": "stdout",
     "output_type": "stream",
     "text": [
      "\b\b\b\b\b\b\b\b\b\b\b\b\b\b\b\b\b\b\b\b\b\b\b\b\b\b\b\b\b\b\b\b\b\b\b\b\b\b\b\b\r",
      "\u001b[1m197/197\u001b[0m \u001b[32m━━━━━━━━━━━━━━━━━━━━\u001b[0m\u001b[37m\u001b[0m \u001b[1m0s\u001b[0m 1ms/step\n"
     ]
    },
    {
     "name": "stdout",
     "output_type": "stream",
     "text": [
      "\r",
      "\u001b[1m  1/197\u001b[0m \u001b[37m━━━━━━━━━━━━━━━━━━━━\u001b[0m \u001b[1m12s\u001b[0m 65ms/step"
     ]
    },
    {
     "name": "stdout",
     "output_type": "stream",
     "text": [
      "\b\b\b\b\b\b\b\b\b\b\b\b\b\b\b\b\b\b\b\b\b\b\b\b\b\b\b\b\b\b\b\b\b\b\b\b\b\b\b\b\b\b\r",
      "\u001b[1m 55/197\u001b[0m \u001b[32m━━━━━\u001b[0m\u001b[37m━━━━━━━━━━━━━━━\u001b[0m \u001b[1m0s\u001b[0m 928us/step"
     ]
    },
    {
     "name": "stdout",
     "output_type": "stream",
     "text": [
      "\b\b\b\b\b\b\b\b\b\b\b\b\b\b\b\b\b\b\b\b\b\b\b\b\b\b\b\b\b\b\b\b\b\b\b\b\b\b\b\b\b\b\r",
      "\u001b[1m115/197\u001b[0m \u001b[32m━━━━━━━━━━━\u001b[0m\u001b[37m━━━━━━━━━\u001b[0m \u001b[1m0s\u001b[0m 884us/step"
     ]
    },
    {
     "name": "stdout",
     "output_type": "stream",
     "text": [
      "\b\b\b\b\b\b\b\b\b\b\b\b\b\b\b\b\b\b\b\b\b\b\b\b\b\b\b\b\b\b\b\b\b\b\b\b\b\b\b\b\b\b\r",
      "\u001b[1m172/197\u001b[0m \u001b[32m━━━━━━━━━━━━━━━━━\u001b[0m\u001b[37m━━━\u001b[0m \u001b[1m0s\u001b[0m 885us/step"
     ]
    },
    {
     "name": "stdout",
     "output_type": "stream",
     "text": [
      "\b\b\b\b\b\b\b\b\b\b\b\b\b\b\b\b\b\b\b\b\b\b\b\b\b\b\b\b\b\b\b\b\b\b\b\b\b\b\b\b\b\b\r",
      "\u001b[1m197/197\u001b[0m \u001b[32m━━━━━━━━━━━━━━━━━━━━\u001b[0m\u001b[37m\u001b[0m \u001b[1m0s\u001b[0m 1ms/step  "
     ]
    },
    {
     "name": "stdout",
     "output_type": "stream",
     "text": [
      "\b\b\b\b\b\b\b\b\b\b\b\b\b\b\b\b\b\b\b\b\b\b\b\b\b\b\b\b\b\b\b\b\b\b\b\b\b\b\b\b\r",
      "\u001b[1m197/197\u001b[0m \u001b[32m━━━━━━━━━━━━━━━━━━━━\u001b[0m\u001b[37m\u001b[0m \u001b[1m0s\u001b[0m 1ms/step\n"
     ]
    }
   ],
   "source": [
    "y_pred_raw = model_raw.predict(X_test_raw)\n",
    "\n",
    "y_pred_scaled = model_scaled.predict(X_test_scaled)\n",
    "y_pred_scaled_inverse = scaler.inverse_transform(y_pred_scaled)"
   ]
  },
  {
   "cell_type": "markdown",
   "id": "882d038d",
   "metadata": {
    "papermill": {
     "duration": 0.002007,
     "end_time": "2024-05-29T23:01:41.190956",
     "exception": false,
     "start_time": "2024-05-29T23:01:41.188949",
     "status": "completed"
    },
    "tags": []
   },
   "source": [
    "#### Create DataFrame"
   ]
  },
  {
   "cell_type": "code",
   "execution_count": 15,
   "id": "ad44c7d9",
   "metadata": {
    "execution": {
     "iopub.execute_input": "2024-05-29T23:01:41.195763Z",
     "iopub.status.busy": "2024-05-29T23:01:41.195567Z",
     "iopub.status.idle": "2024-05-29T23:01:41.200797Z",
     "shell.execute_reply": "2024-05-29T23:01:41.200579Z"
    },
    "papermill": {
     "duration": 0.008373,
     "end_time": "2024-05-29T23:01:41.201476",
     "exception": false,
     "start_time": "2024-05-29T23:01:41.193103",
     "status": "completed"
    },
    "tags": []
   },
   "outputs": [
    {
     "name": "stderr",
     "output_type": "stream",
     "text": [
      "/Users/sota/Library/CloudStorage/Dropbox/2 Business/1 Datons/2 Areas/Courses/22 TS/solutions-new/notebooks/60_Forecasting II Deep Learning/5_Raw vs Scaled/../utils.py:10: FutureWarning:\n",
      "\n",
      "'H' is deprecated and will be removed in a future version, please use 'h' instead.\n",
      "\n"
     ]
    },
    {
     "data": {
      "text/html": [
       "<div>\n",
       "<style scoped>\n",
       "    .dataframe tbody tr th:only-of-type {\n",
       "        vertical-align: middle;\n",
       "    }\n",
       "\n",
       "    .dataframe tbody tr th {\n",
       "        vertical-align: top;\n",
       "    }\n",
       "\n",
       "    .dataframe thead th {\n",
       "        text-align: right;\n",
       "    }\n",
       "</style>\n",
       "<table border=\"1\" class=\"dataframe\">\n",
       "  <thead>\n",
       "    <tr style=\"text-align: right;\">\n",
       "      <th></th>\n",
       "      <th>y_true</th>\n",
       "      <th>y_pred_raw</th>\n",
       "      <th>y_pred_scaled</th>\n",
       "      <th>y_pred_scaled_inverse</th>\n",
       "    </tr>\n",
       "  </thead>\n",
       "  <tbody>\n",
       "    <tr>\n",
       "      <th>2022-11-15 22:00:00+00:00</th>\n",
       "      <td>105.00</td>\n",
       "      <td>120.572891</td>\n",
       "      <td>0.176569</td>\n",
       "      <td>123.598396</td>\n",
       "    </tr>\n",
       "    <tr>\n",
       "      <th>2022-11-15 23:00:00+00:00</th>\n",
       "      <td>90.52</td>\n",
       "      <td>97.767250</td>\n",
       "      <td>0.142898</td>\n",
       "      <td>100.028641</td>\n",
       "    </tr>\n",
       "    <tr>\n",
       "      <th>...</th>\n",
       "      <td>...</td>\n",
       "      <td>...</td>\n",
       "      <td>...</td>\n",
       "      <td>...</td>\n",
       "    </tr>\n",
       "    <tr>\n",
       "      <th>2023-08-04 20:00:00+00:00</th>\n",
       "      <td>94.00</td>\n",
       "      <td>93.772896</td>\n",
       "      <td>0.134413</td>\n",
       "      <td>94.089241</td>\n",
       "    </tr>\n",
       "    <tr>\n",
       "      <th>2023-08-04 21:00:00+00:00</th>\n",
       "      <td>91.70</td>\n",
       "      <td>89.533813</td>\n",
       "      <td>0.130322</td>\n",
       "      <td>91.225449</td>\n",
       "    </tr>\n",
       "  </tbody>\n",
       "</table>\n",
       "<p>6288 rows × 4 columns</p>\n",
       "</div>"
      ],
      "text/plain": [
       "                           y_true  y_pred_raw  y_pred_scaled  \\\n",
       "2022-11-15 22:00:00+00:00  105.00  120.572891       0.176569   \n",
       "2022-11-15 23:00:00+00:00   90.52   97.767250       0.142898   \n",
       "...                           ...         ...            ...   \n",
       "2023-08-04 20:00:00+00:00   94.00   93.772896       0.134413   \n",
       "2023-08-04 21:00:00+00:00   91.70   89.533813       0.130322   \n",
       "\n",
       "                           y_pred_scaled_inverse  \n",
       "2022-11-15 22:00:00+00:00             123.598396  \n",
       "2022-11-15 23:00:00+00:00             100.028641  \n",
       "...                                          ...  \n",
       "2023-08-04 20:00:00+00:00              94.089241  \n",
       "2023-08-04 21:00:00+00:00              91.225449  \n",
       "\n",
       "[6288 rows x 4 columns]"
      ]
     },
     "execution_count": 15,
     "metadata": {},
     "output_type": "execute_result"
    }
   ],
   "source": [
    "import utils\n",
    "\n",
    "dic_pred = {\n",
    "    'y_true': y_test_raw,\n",
    "    'y_pred_raw': y_pred_raw,\n",
    "    'y_pred_scaled': y_pred_scaled,\n",
    "    'y_pred_scaled_inverse': y_pred_scaled_inverse\n",
    "}\n",
    "\n",
    "df_pred = utils.process_df_pred(df, y_test_raw, dic_pred)\n",
    "df_pred"
   ]
  },
  {
   "cell_type": "markdown",
   "id": "30c1d093",
   "metadata": {
    "papermill": {
     "duration": 0.001974,
     "end_time": "2024-05-29T23:01:41.205559",
     "exception": false,
     "start_time": "2024-05-29T23:01:41.203585",
     "status": "completed"
    },
    "tags": []
   },
   "source": [
    "#### Visualize Data"
   ]
  },
  {
   "cell_type": "code",
   "execution_count": 16,
   "id": "23138654",
   "metadata": {
    "execution": {
     "iopub.execute_input": "2024-05-29T23:01:41.209758Z",
     "iopub.status.busy": "2024-05-29T23:01:41.209658Z",
     "iopub.status.idle": "2024-05-29T23:01:42.560983Z",
     "shell.execute_reply": "2024-05-29T23:01:42.560726Z"
    },
    "papermill": {
     "duration": 1.354375,
     "end_time": "2024-05-29T23:01:42.561786",
     "exception": false,
     "start_time": "2024-05-29T23:01:41.207411",
     "status": "completed"
    },
    "tags": []
   },
   "outputs": [
    {
     "data": {
      "image/svg+xml": [
       "<svg class=\"main-svg\" xmlns=\"http://www.w3.org/2000/svg\" xmlns:xlink=\"http://www.w3.org/1999/xlink\" width=\"700\" height=\"500\" style=\"\" viewBox=\"0 0 700 500\"><rect x=\"0\" y=\"0\" width=\"700\" height=\"500\" style=\"fill: rgb(255, 255, 255); fill-opacity: 1;\"/><defs id=\"defs-e6f1ce\"><g class=\"clips\"><clipPath id=\"clipe6f1cexyplot\" class=\"plotclip\"><rect width=\"416\" height=\"360\"/></clipPath><clipPath class=\"axesclip\" id=\"clipe6f1cex\"><rect x=\"80\" y=\"0\" width=\"416\" height=\"500\"/></clipPath><clipPath class=\"axesclip\" id=\"clipe6f1cey\"><rect x=\"0\" y=\"60\" width=\"700\" height=\"360\"/></clipPath><clipPath class=\"axesclip\" id=\"clipe6f1cexy\"><rect x=\"80\" y=\"60\" width=\"416\" height=\"360\"/></clipPath></g><g class=\"gradients\"/><g class=\"patterns\"/></defs><g class=\"bglayer\"><rect class=\"bg\" x=\"80\" y=\"60\" width=\"416\" height=\"360\" style=\"fill: rgb(229, 236, 246); fill-opacity: 1; stroke-width: 0;\"/></g><g class=\"layer-below\"><g class=\"imagelayer\"/><g class=\"shapelayer\"/></g><g class=\"cartesianlayer\"><g class=\"subplot xy\"><g class=\"layer-subplot\"><g class=\"shapelayer\"/><g class=\"imagelayer\"/></g><g class=\"minor-gridlayer\"><g class=\"x\"/><g class=\"y\"/></g><g class=\"gridlayer\"><g class=\"x\"><path class=\"xgrid crisp\" transform=\"translate(153.18,0)\" d=\"M0,60v360\" style=\"stroke: rgb(255, 255, 255); stroke-opacity: 1; stroke-width: 1px;\"/><path class=\"xgrid crisp\" transform=\"translate(246.88,0)\" d=\"M0,60v360\" style=\"stroke: rgb(255, 255, 255); stroke-opacity: 1; stroke-width: 1px;\"/><path class=\"xgrid crisp\" transform=\"translate(343.75,0)\" d=\"M0,60v360\" style=\"stroke: rgb(255, 255, 255); stroke-opacity: 1; stroke-width: 1px;\"/><path class=\"xgrid crisp\" transform=\"translate(440.62,0)\" d=\"M0,60v360\" style=\"stroke: rgb(255, 255, 255); stroke-opacity: 1; stroke-width: 1px;\"/></g><g class=\"y\"><path class=\"ygrid crisp\" transform=\"translate(0,328.84)\" d=\"M80,0h416\" style=\"stroke: rgb(255, 255, 255); stroke-opacity: 1; stroke-width: 1px;\"/><path class=\"ygrid crisp\" transform=\"translate(0,268.15999999999997)\" d=\"M80,0h416\" style=\"stroke: rgb(255, 255, 255); stroke-opacity: 1; stroke-width: 1px;\"/><path class=\"ygrid crisp\" transform=\"translate(0,207.48)\" d=\"M80,0h416\" style=\"stroke: rgb(255, 255, 255); stroke-opacity: 1; stroke-width: 1px;\"/><path class=\"ygrid crisp\" transform=\"translate(0,146.79000000000002)\" d=\"M80,0h416\" style=\"stroke: rgb(255, 255, 255); stroke-opacity: 1; stroke-width: 1px;\"/><path class=\"ygrid crisp\" transform=\"translate(0,86.11)\" d=\"M80,0h416\" style=\"stroke: rgb(255, 255, 255); stroke-opacity: 1; stroke-width: 1px;\"/></g></g><g class=\"zerolinelayer\"><path class=\"yzl zl crisp\" transform=\"translate(0,389.53)\" d=\"M80,0h416\" style=\"stroke: rgb(255, 255, 255); stroke-opacity: 1; stroke-width: 2px;\"/></g><path class=\"xlines-below\"/><path class=\"ylines-below\"/><g class=\"overlines-below\"/><g class=\"xaxislayer-below\"/><g class=\"yaxislayer-below\"/><g class=\"overaxes-below\"/><g class=\"plot\" transform=\"translate(80,60)\" clip-path=\"url(#clipe6f1cexyplot)\"/><g class=\"overplot\"/><path class=\"xlines-above crisp\" d=\"M0,0\" style=\"fill: none;\"/><path class=\"ylines-above crisp\" d=\"M0,0\" style=\"fill: none;\"/><g class=\"overlines-above\"/><g class=\"xaxislayer-above\"><g class=\"xtick\"><text text-anchor=\"middle\" x=\"0\" y=\"433\" transform=\"translate(153.18,0)\" style=\"font-family: 'Open Sans', verdana, arial, sans-serif; font-size: 12px; fill: rgb(42, 63, 95); fill-opacity: 1; white-space: pre; opacity: 1;\">Jan 2023</text></g><g class=\"xtick\"><text text-anchor=\"middle\" x=\"0\" y=\"433\" style=\"font-family: 'Open Sans', verdana, arial, sans-serif; font-size: 12px; fill: rgb(42, 63, 95); fill-opacity: 1; white-space: pre; opacity: 1;\" transform=\"translate(246.88,0)\">Mar 2023</text></g><g class=\"xtick\"><text text-anchor=\"middle\" x=\"0\" y=\"433\" style=\"font-family: 'Open Sans', verdana, arial, sans-serif; font-size: 12px; fill: rgb(42, 63, 95); fill-opacity: 1; white-space: pre; opacity: 1;\" transform=\"translate(343.75,0)\">May 2023</text></g><g class=\"xtick\"><text text-anchor=\"middle\" x=\"0\" y=\"433\" style=\"font-family: 'Open Sans', verdana, arial, sans-serif; font-size: 12px; fill: rgb(42, 63, 95); fill-opacity: 1; white-space: pre; opacity: 1;\" transform=\"translate(440.62,0)\">Jul 2023</text></g></g><g class=\"yaxislayer-above\"><g class=\"ytick\"><text text-anchor=\"end\" x=\"79\" y=\"4.199999999999999\" transform=\"translate(0,389.53)\" style=\"font-family: 'Open Sans', verdana, arial, sans-serif; font-size: 12px; fill: rgb(42, 63, 95); fill-opacity: 1; white-space: pre; opacity: 1;\">0</text></g><g class=\"ytick\"><text text-anchor=\"end\" x=\"79\" y=\"4.199999999999999\" style=\"font-family: 'Open Sans', verdana, arial, sans-serif; font-size: 12px; fill: rgb(42, 63, 95); fill-opacity: 1; white-space: pre; opacity: 1;\" transform=\"translate(0,328.84)\">50</text></g><g class=\"ytick\"><text text-anchor=\"end\" x=\"79\" y=\"4.199999999999999\" style=\"font-family: 'Open Sans', verdana, arial, sans-serif; font-size: 12px; fill: rgb(42, 63, 95); fill-opacity: 1; white-space: pre; opacity: 1;\" transform=\"translate(0,268.15999999999997)\">100</text></g><g class=\"ytick\"><text text-anchor=\"end\" x=\"79\" y=\"4.199999999999999\" style=\"font-family: 'Open Sans', verdana, arial, sans-serif; font-size: 12px; fill: rgb(42, 63, 95); fill-opacity: 1; white-space: pre; opacity: 1;\" transform=\"translate(0,207.48)\">150</text></g><g class=\"ytick\"><text text-anchor=\"end\" x=\"79\" y=\"4.199999999999999\" style=\"font-family: 'Open Sans', verdana, arial, sans-serif; font-size: 12px; fill: rgb(42, 63, 95); fill-opacity: 1; white-space: pre; opacity: 1;\" transform=\"translate(0,146.79000000000002)\">200</text></g><g class=\"ytick\"><text text-anchor=\"end\" x=\"79\" y=\"4.199999999999999\" style=\"font-family: 'Open Sans', verdana, arial, sans-serif; font-size: 12px; fill: rgb(42, 63, 95); fill-opacity: 1; white-space: pre; opacity: 1;\" transform=\"translate(0,86.11)\">250</text></g></g><g class=\"overaxes-above\"/></g></g><g class=\"polarlayer\"/><g class=\"smithlayer\"/><g class=\"ternarylayer\"/><g class=\"geolayer\"/><g class=\"funnelarealayer\"/><g class=\"pielayer\"/><g class=\"iciclelayer\"/><g class=\"treemaplayer\"/><g class=\"sunburstlayer\"/><g class=\"glimages\"><image xmlns=\"http://www.w3.org/2000/svg\" xlink:href=\"data:image/png;base64,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\" preserveAspectRatio=\"none\" x=\"0\" y=\"0\" width=\"700px\" height=\"500px\"/><image xmlns=\"http://www.w3.org/2000/svg\" xlink:href=\"data:image/png;base64,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\" preserveAspectRatio=\"none\" x=\"0\" y=\"0\" width=\"700px\" height=\"500px\"/></g><defs id=\"topdefs-e6f1ce\"><g class=\"clips\"/><clipPath id=\"legende6f1ce\"><rect width=\"184\" height=\"105\" x=\"0\" y=\"0\"/></clipPath></defs><g class=\"layer-above\"><g class=\"imagelayer\"/><g class=\"shapelayer\"/></g><g class=\"infolayer\"><g class=\"legend\" pointer-events=\"all\" transform=\"translate(504.32,60)\"><rect class=\"bg\" shape-rendering=\"crispEdges\" style=\"stroke: rgb(68, 68, 68); stroke-opacity: 1; fill: rgb(255, 255, 255); fill-opacity: 1; stroke-width: 0px;\" width=\"184\" height=\"105\" x=\"0\" y=\"0\"/><g class=\"scrollbox\" transform=\"\" clip-path=\"url(#legende6f1ce)\"><text class=\"legendtitletext\" text-anchor=\"start\" x=\"2\" y=\"18.2\" style=\"font-family: 'Open Sans', verdana, arial, sans-serif; font-size: 14px; fill: rgb(42, 63, 95); fill-opacity: 1; white-space: pre;\">variable</text><g class=\"groups\" transform=\"\"><g class=\"traces\" transform=\"translate(0,32.7)\" style=\"opacity: 1;\"><text class=\"legendtext\" text-anchor=\"start\" x=\"40\" y=\"4.680000000000001\" style=\"font-family: 'Open Sans', verdana, arial, sans-serif; font-size: 12px; fill: rgb(42, 63, 95); fill-opacity: 1; white-space: pre;\">y_true</text><g class=\"layers\" style=\"opacity: 1;\"><g class=\"legendfill\"/><g class=\"legendlines\"><path class=\"js-line\" d=\"M5,0h30\" style=\"fill: none; stroke: rgb(99, 110, 250); stroke-opacity: 1; stroke-width: 2px;\"/></g><g class=\"legendsymbols\"><g class=\"legendpoints\"/></g></g><rect class=\"legendtoggle\" x=\"0\" y=\"-9.5\" width=\"178.5\" height=\"19\" style=\"fill: rgb(0, 0, 0); fill-opacity: 0;\"/></g></g><g class=\"groups\" transform=\"\"><g class=\"traces\" transform=\"translate(0,51.7)\" style=\"opacity: 1;\"><text class=\"legendtext\" text-anchor=\"start\" x=\"40\" y=\"4.680000000000001\" style=\"font-family: 'Open Sans', verdana, arial, sans-serif; font-size: 12px; fill: rgb(42, 63, 95); fill-opacity: 1; white-space: pre;\">y_pred_raw</text><g class=\"layers\" style=\"opacity: 1;\"><g class=\"legendfill\"/><g class=\"legendlines\"><path class=\"js-line\" d=\"M5,0h30\" style=\"fill: none; stroke: rgb(239, 85, 59); stroke-opacity: 1; stroke-width: 2px;\"/></g><g class=\"legendsymbols\"><g class=\"legendpoints\"/></g></g><rect class=\"legendtoggle\" x=\"0\" y=\"-9.5\" width=\"178.5\" height=\"19\" style=\"fill: rgb(0, 0, 0); fill-opacity: 0;\"/></g></g><g class=\"groups\" transform=\"\"><g class=\"traces\" transform=\"translate(0,70.7)\" style=\"opacity: 1;\"><text class=\"legendtext\" text-anchor=\"start\" x=\"40\" y=\"4.680000000000001\" style=\"font-family: 'Open Sans', verdana, arial, sans-serif; font-size: 12px; fill: rgb(42, 63, 95); fill-opacity: 1; white-space: pre;\">y_pred_scaled</text><g class=\"layers\" style=\"opacity: 1;\"><g class=\"legendfill\"/><g class=\"legendlines\"><path class=\"js-line\" d=\"M5,0h30\" style=\"fill: none; stroke: rgb(0, 204, 150); stroke-opacity: 1; stroke-width: 2px;\"/></g><g class=\"legendsymbols\"><g class=\"legendpoints\"/></g></g><rect class=\"legendtoggle\" x=\"0\" y=\"-9.5\" width=\"178.5\" height=\"19\" style=\"fill: rgb(0, 0, 0); fill-opacity: 0;\"/></g></g><g class=\"groups\" transform=\"\"><g class=\"traces\" transform=\"translate(0,89.7)\" style=\"opacity: 1;\"><text class=\"legendtext\" text-anchor=\"start\" x=\"40\" y=\"4.680000000000001\" style=\"font-family: 'Open Sans', verdana, arial, sans-serif; font-size: 12px; fill: rgb(42, 63, 95); fill-opacity: 1; white-space: pre;\">y_pred_scaled_inverse</text><g class=\"layers\" style=\"opacity: 1;\"><g class=\"legendfill\"/><g class=\"legendlines\"><path class=\"js-line\" d=\"M5,0h30\" style=\"fill: none; stroke: rgb(171, 99, 250); stroke-opacity: 1; stroke-width: 2px;\"/></g><g class=\"legendsymbols\"><g class=\"legendpoints\"/></g></g><rect class=\"legendtoggle\" x=\"0\" y=\"-9.5\" width=\"178.5\" height=\"19\" style=\"fill: rgb(0, 0, 0); fill-opacity: 0;\"/></g></g></g><rect class=\"scrollbar\" rx=\"20\" ry=\"3\" width=\"0\" height=\"0\" style=\"fill: rgb(128, 139, 164); fill-opacity: 1;\" x=\"0\" y=\"0\"/></g><g class=\"g-gtitle\"/><g class=\"g-xtitle\"><text class=\"xtitle\" x=\"288\" y=\"460.3\" text-anchor=\"middle\" style=\"font-family: 'Open Sans', verdana, arial, sans-serif; font-size: 14px; fill: rgb(42, 63, 95); opacity: 1; font-weight: normal; white-space: pre;\">index</text></g><g class=\"g-ytitle\"><text class=\"ytitle\" transform=\"rotate(-90,31.809375000000003,240)\" x=\"31.809375000000003\" y=\"240\" text-anchor=\"middle\" style=\"font-family: 'Open Sans', verdana, arial, sans-serif; font-size: 14px; fill: rgb(42, 63, 95); opacity: 1; font-weight: normal; white-space: pre;\">value</text></g></g></svg>"
      ]
     },
     "metadata": {},
     "output_type": "display_data"
    }
   ],
   "source": [
    "utils.plot_df(df_pred)"
   ]
  },
  {
   "cell_type": "code",
   "execution_count": 17,
   "id": "0b61e863",
   "metadata": {
    "execution": {
     "iopub.execute_input": "2024-05-29T23:01:42.568200Z",
     "iopub.status.busy": "2024-05-29T23:01:42.568062Z",
     "iopub.status.idle": "2024-05-29T23:01:42.572351Z",
     "shell.execute_reply": "2024-05-29T23:01:42.572128Z"
    },
    "papermill": {
     "duration": 0.008181,
     "end_time": "2024-05-29T23:01:42.573081",
     "exception": false,
     "start_time": "2024-05-29T23:01:42.564900",
     "status": "completed"
    },
    "tags": []
   },
   "outputs": [
    {
     "data": {
      "text/html": [
       "<div>\n",
       "<style scoped>\n",
       "    .dataframe tbody tr th:only-of-type {\n",
       "        vertical-align: middle;\n",
       "    }\n",
       "\n",
       "    .dataframe tbody tr th {\n",
       "        vertical-align: top;\n",
       "    }\n",
       "\n",
       "    .dataframe thead th {\n",
       "        text-align: right;\n",
       "    }\n",
       "</style>\n",
       "<table border=\"1\" class=\"dataframe\">\n",
       "  <thead>\n",
       "    <tr style=\"text-align: right;\">\n",
       "      <th></th>\n",
       "      <th>y_true</th>\n",
       "      <th>y_pred_raw</th>\n",
       "      <th>y_pred_scaled</th>\n",
       "      <th>y_pred_scaled_inverse</th>\n",
       "    </tr>\n",
       "  </thead>\n",
       "  <tbody>\n",
       "    <tr>\n",
       "      <th>2023-08-02 00:00:00+00:00</th>\n",
       "      <td>96.09</td>\n",
       "      <td>95.172005</td>\n",
       "      <td>0.137127</td>\n",
       "      <td>95.988922</td>\n",
       "    </tr>\n",
       "    <tr>\n",
       "      <th>2023-08-02 01:00:00+00:00</th>\n",
       "      <td>96.09</td>\n",
       "      <td>95.482315</td>\n",
       "      <td>0.138568</td>\n",
       "      <td>96.997398</td>\n",
       "    </tr>\n",
       "    <tr>\n",
       "      <th>...</th>\n",
       "      <td>...</td>\n",
       "      <td>...</td>\n",
       "      <td>...</td>\n",
       "      <td>...</td>\n",
       "    </tr>\n",
       "    <tr>\n",
       "      <th>2023-08-04 20:00:00+00:00</th>\n",
       "      <td>94.00</td>\n",
       "      <td>93.772896</td>\n",
       "      <td>0.134413</td>\n",
       "      <td>94.089241</td>\n",
       "    </tr>\n",
       "    <tr>\n",
       "      <th>2023-08-04 21:00:00+00:00</th>\n",
       "      <td>91.70</td>\n",
       "      <td>89.533813</td>\n",
       "      <td>0.130322</td>\n",
       "      <td>91.225449</td>\n",
       "    </tr>\n",
       "  </tbody>\n",
       "</table>\n",
       "<p>70 rows × 4 columns</p>\n",
       "</div>"
      ],
      "text/plain": [
       "                           y_true  y_pred_raw  y_pred_scaled  \\\n",
       "2023-08-02 00:00:00+00:00   96.09   95.172005       0.137127   \n",
       "2023-08-02 01:00:00+00:00   96.09   95.482315       0.138568   \n",
       "...                           ...         ...            ...   \n",
       "2023-08-04 20:00:00+00:00   94.00   93.772896       0.134413   \n",
       "2023-08-04 21:00:00+00:00   91.70   89.533813       0.130322   \n",
       "\n",
       "                           y_pred_scaled_inverse  \n",
       "2023-08-02 00:00:00+00:00              95.988922  \n",
       "2023-08-02 01:00:00+00:00              96.997398  \n",
       "...                                          ...  \n",
       "2023-08-04 20:00:00+00:00              94.089241  \n",
       "2023-08-04 21:00:00+00:00              91.225449  \n",
       "\n",
       "[70 rows x 4 columns]"
      ]
     },
     "execution_count": 17,
     "metadata": {},
     "output_type": "execute_result"
    }
   ],
   "source": [
    "df_pred_2 = df_pred.loc['2023-08-02':].copy()\n",
    "df_pred_2"
   ]
  },
  {
   "cell_type": "code",
   "execution_count": 18,
   "id": "fe7c9264",
   "metadata": {
    "execution": {
     "iopub.execute_input": "2024-05-29T23:01:42.578981Z",
     "iopub.status.busy": "2024-05-29T23:01:42.578895Z",
     "iopub.status.idle": "2024-05-29T23:01:42.618050Z",
     "shell.execute_reply": "2024-05-29T23:01:42.617790Z"
    },
    "papermill": {
     "duration": 0.042978,
     "end_time": "2024-05-29T23:01:42.618848",
     "exception": false,
     "start_time": "2024-05-29T23:01:42.575870",
     "status": "completed"
    },
    "tags": []
   },
   "outputs": [
    {
     "data": {
      "image/svg+xml": [
       "<svg class=\"main-svg\" xmlns=\"http://www.w3.org/2000/svg\" xmlns:xlink=\"http://www.w3.org/1999/xlink\" width=\"700\" height=\"500\" style=\"\" viewBox=\"0 0 700 500\"><rect x=\"0\" y=\"0\" width=\"700\" height=\"500\" style=\"fill: rgb(255, 255, 255); fill-opacity: 1;\"/><defs id=\"defs-3fae4e\"><g class=\"clips\"><clipPath id=\"clip3fae4exyplot\" class=\"plotclip\"><rect width=\"416\" height=\"360\"/></clipPath><clipPath class=\"axesclip\" id=\"clip3fae4ex\"><rect x=\"80\" y=\"0\" width=\"416\" height=\"500\"/></clipPath><clipPath class=\"axesclip\" id=\"clip3fae4ey\"><rect x=\"0\" y=\"60\" width=\"700\" height=\"360\"/></clipPath><clipPath class=\"axesclip\" id=\"clip3fae4exy\"><rect x=\"80\" y=\"60\" width=\"416\" height=\"360\"/></clipPath></g><g class=\"gradients\"/><g class=\"patterns\"/></defs><g class=\"bglayer\"><rect class=\"bg\" x=\"80\" y=\"60\" width=\"416\" height=\"360\" style=\"fill: rgb(229, 236, 246); fill-opacity: 1; stroke-width: 0;\"/></g><g class=\"layer-below\"><g class=\"imagelayer\"/><g class=\"shapelayer\"/></g><g class=\"cartesianlayer\"><g class=\"subplot xy\"><g class=\"layer-subplot\"><g class=\"shapelayer\"/><g class=\"imagelayer\"/></g><g class=\"minor-gridlayer\"><g class=\"x\"/><g class=\"y\"/></g><g class=\"gridlayer\"><g class=\"x\"><path class=\"xgrid crisp\" transform=\"translate(152.35,0)\" d=\"M0,60v360\" style=\"stroke: rgb(255, 255, 255); stroke-opacity: 1; stroke-width: 1px;\"/><path class=\"xgrid crisp\" transform=\"translate(224.7,0)\" d=\"M0,60v360\" style=\"stroke: rgb(255, 255, 255); stroke-opacity: 1; stroke-width: 1px;\"/><path class=\"xgrid crisp\" transform=\"translate(297.03999999999996,0)\" d=\"M0,60v360\" style=\"stroke: rgb(255, 255, 255); stroke-opacity: 1; stroke-width: 1px;\"/><path class=\"xgrid crisp\" transform=\"translate(369.39,0)\" d=\"M0,60v360\" style=\"stroke: rgb(255, 255, 255); stroke-opacity: 1; stroke-width: 1px;\"/><path class=\"xgrid crisp\" transform=\"translate(441.74,0)\" d=\"M0,60v360\" style=\"stroke: rgb(255, 255, 255); stroke-opacity: 1; stroke-width: 1px;\"/></g><g class=\"y\"><path class=\"ygrid crisp\" transform=\"translate(0,336.41)\" d=\"M80,0h416\" style=\"stroke: rgb(255, 255, 255); stroke-opacity: 1; stroke-width: 1px;\"/><path class=\"ygrid crisp\" transform=\"translate(0,270.72)\" d=\"M80,0h416\" style=\"stroke: rgb(255, 255, 255); stroke-opacity: 1; stroke-width: 1px;\"/><path class=\"ygrid crisp\" transform=\"translate(0,205.03)\" d=\"M80,0h416\" style=\"stroke: rgb(255, 255, 255); stroke-opacity: 1; stroke-width: 1px;\"/><path class=\"ygrid crisp\" transform=\"translate(0,139.34)\" d=\"M80,0h416\" style=\"stroke: rgb(255, 255, 255); stroke-opacity: 1; stroke-width: 1px;\"/><path class=\"ygrid crisp\" transform=\"translate(0,73.65)\" d=\"M80,0h416\" style=\"stroke: rgb(255, 255, 255); stroke-opacity: 1; stroke-width: 1px;\"/></g></g><g class=\"zerolinelayer\"><path class=\"yzl zl crisp\" transform=\"translate(0,402.1)\" d=\"M80,0h416\" style=\"stroke: rgb(255, 255, 255); stroke-opacity: 1; stroke-width: 2px;\"/></g><path class=\"xlines-below\"/><path class=\"ylines-below\"/><g class=\"overlines-below\"/><g class=\"xaxislayer-below\"/><g class=\"yaxislayer-below\"/><g class=\"overaxes-below\"/><g class=\"plot\" transform=\"translate(80,60)\" clip-path=\"url(#clip3fae4exyplot)\"><g class=\"scatterlayer mlayer\"><g class=\"trace scatter trace18f6b6\" style=\"stroke-miterlimit: 2; opacity: 1;\"><g class=\"fills\"/><g class=\"errorbars\"/><g class=\"lines\"><path class=\"js-line\" d=\"M0,26.49L6.03,26.49L12.06,33.06L24.12,33.81L30.14,31.35L36.17,38.71L42.2,105.61L48.23,125.72L54.26,130.25L60.29,130.91L66.32,134.42L72.35,181.19L78.38,259.99L84.41,247.38L90.43,171.14L96.46,134.58L102.49,125.72L108.52,56.38L114.55,41.24L120.58,41.24L126.61,46.49L132.64,54.41L138.67,66.59L144.7,89.09L150.72,86.24L156.75,95.76L162.78,79.3L168.81,67.81L174.84,63.8L180.87,77.43L186.9,136.82L192.93,171.31L198.96,227.14L211.01,227.14L217.04,264.88L223.07,262.98L229.1,259.63L235.13,179.09L241.16,171.34L247.19,135.83L253.22,49.78L259.25,30.07L265.28,30.07L271.3,51.91L277.33,51.09L283.36,66.69L289.39,76.32L295.42,81.8L301.45,90.51L307.48,84.1L313.51,84.1L319.54,70.04L325.57,79.3L337.62,210.72L343.65,184.08L349.68,183.1L355.71,177.84L361.74,185.73L367.77,227.14L373.8,251.35L379.83,227.14L385.86,184.08L391.88,112.18L397.91,58.64L403.94,33.35L409.97,33.35L416,40.91\" style=\"vector-effect: none; fill: none; stroke: rgb(99, 110, 250); stroke-opacity: 1; stroke-width: 2px; opacity: 1;\"/></g><g class=\"points\"/><g class=\"text\"/></g><g class=\"trace scatter trace59f9d9\" style=\"stroke-miterlimit: 2; opacity: 1;\"><g class=\"fills\"/><g class=\"errorbars\"/><g class=\"lines\"><path class=\"js-line\" d=\"M0,29.5L12.06,27.65L18.09,34.47L24.12,31.72L30.14,33.95L36.17,34.2L42.2,47.48L48.23,139.1L54.26,139.85L60.29,134.03L66.32,129.28L72.35,131.08L78.38,193.84L84.41,290.14L90.43,213.26L96.46,121.82L102.49,93.96L108.52,115.5L114.55,22.47L120.58,41.07L126.61,53.47L132.64,55.56L138.67,63.42L144.7,75.2L150.72,101.11L156.75,77.68L162.78,96.55L168.81,62.6L174.84,57.3L180.87,66.3L186.9,91.23L192.93,165.77L198.96,186.91L204.99,242.03L211.01,228.5L217.04,229.26L223.07,280.6L229.1,244.03L235.13,247.57L241.16,121.93L247.19,156.15L253.22,121.29L259.25,25.17L265.28,34.16L271.3,47.7L277.33,71.84L283.36,61.9L289.39,82.03L295.42,86.28L301.45,83.94L307.48,92.79L313.51,76.18L319.54,83.72L325.57,67.72L331.59,91.22L337.62,176.41L343.65,227.42L349.68,187.12L355.71,186.45L361.74,178.13L367.77,186.69L373.8,237.89L379.83,258.05L391.88,146.5L397.91,61.41L403.94,29.34L409.97,34.1L416,48.02\" style=\"vector-effect: none; fill: none; stroke: rgb(239, 85, 59); stroke-opacity: 1; stroke-width: 2px; opacity: 1;\"/></g><g class=\"points\"/><g class=\"text\"/></g><g class=\"trace scatter trace249701\" style=\"stroke-miterlimit: 2; opacity: 1;\"><g class=\"fills\"/><g class=\"errorbars\"/><g class=\"lines\"><path class=\"js-line\" d=\"M0,341.65L416,341.68\" style=\"vector-effect: none; fill: none; stroke: rgb(0, 204, 150); stroke-opacity: 1; stroke-width: 2px; opacity: 1;\"/></g><g class=\"points\"/><g class=\"text\"/></g><g class=\"trace scatter tracecd6c1c\" style=\"stroke-miterlimit: 2; opacity: 1;\"><g class=\"fills\"/><g class=\"errorbars\"/><g class=\"lines\"><path class=\"js-line\" d=\"M0,26.82L12.06,19.8L18.09,22.38L24.12,18L30.14,19.83L36.17,21.34L42.2,36.91L48.23,121.24L54.26,128.33L60.29,127.64L66.32,129.22L72.35,131.68L78.38,184.66L84.41,265.9L90.43,222.6L96.46,119.64L102.49,97.9L108.52,104.82L114.55,26.38L126.61,47.17L132.64,50.66L138.67,56.46L144.7,66.29L150.72,86.57L156.75,74.93L162.78,81.94L168.81,57.2L174.84,46.27L180.87,50.04L186.9,75.44L192.93,151.24L198.96,179.16L204.99,237.88L211.01,225.58L217.04,224L223.07,269.15L229.1,249.13L235.13,236.1L241.16,130.81L247.19,148.98L253.22,116.63L259.25,27.65L265.28,37.95L271.3,45.7L277.33,64.3L283.36,55.45L289.39,68.45L295.42,72.81L301.45,71.43L307.48,76.33L313.51,65.41L319.54,70.08L325.57,59.99L331.59,83.42L337.62,170.43L343.65,227.37L349.68,177.27L355.71,184.12L361.74,178.96L367.77,184.5L373.8,229.21L379.83,243.38L385.86,201.29L391.88,151.83L397.91,77.65L403.94,40L409.97,33.06L416,42.47\" style=\"vector-effect: none; fill: none; stroke: rgb(171, 99, 250); stroke-opacity: 1; stroke-width: 2px; opacity: 1;\"/></g><g class=\"points\"/><g class=\"text\"/></g></g></g><g class=\"overplot\"/><path class=\"xlines-above crisp\" d=\"M0,0\" style=\"fill: none;\"/><path class=\"ylines-above crisp\" d=\"M0,0\" style=\"fill: none;\"/><g class=\"overlines-above\"/><g class=\"xaxislayer-above\"><g class=\"xtick\"><text text-anchor=\"middle\" x=\"0\" y=\"433\" transform=\"translate(80,0)\" style=\"font-family: 'Open Sans', verdana, arial, sans-serif; font-size: 12px; fill: rgb(42, 63, 95); fill-opacity: 1; white-space: pre; opacity: 1;\"><tspan class=\"line\" dy=\"0em\" x=\"0\" y=\"433\">00:00</tspan><tspan class=\"line\" dy=\"1.3em\" x=\"0\" y=\"433\">Aug 2, 2023</tspan></text></g><g class=\"xtick\"><text text-anchor=\"middle\" x=\"0\" y=\"433\" style=\"font-family: 'Open Sans', verdana, arial, sans-serif; font-size: 12px; fill: rgb(42, 63, 95); fill-opacity: 1; white-space: pre; opacity: 1;\" transform=\"translate(152.35,0)\">12:00</text></g><g class=\"xtick\"><text text-anchor=\"middle\" x=\"0\" y=\"433\" style=\"font-family: 'Open Sans', verdana, arial, sans-serif; font-size: 12px; fill: rgb(42, 63, 95); fill-opacity: 1; white-space: pre; opacity: 1;\" transform=\"translate(224.7,0)\"><tspan class=\"line\" dy=\"0em\" x=\"0\" y=\"433\">00:00</tspan><tspan class=\"line\" dy=\"1.3em\" x=\"0\" y=\"433\">Aug 3, 2023</tspan></text></g><g class=\"xtick\"><text text-anchor=\"middle\" x=\"0\" y=\"433\" style=\"font-family: 'Open Sans', verdana, arial, sans-serif; font-size: 12px; fill: rgb(42, 63, 95); fill-opacity: 1; white-space: pre; opacity: 1;\" transform=\"translate(297.03999999999996,0)\">12:00</text></g><g class=\"xtick\"><text text-anchor=\"middle\" x=\"0\" y=\"433\" style=\"font-family: 'Open Sans', verdana, arial, sans-serif; font-size: 12px; fill: rgb(42, 63, 95); fill-opacity: 1; white-space: pre; opacity: 1;\" transform=\"translate(369.39,0)\"><tspan class=\"line\" dy=\"0em\" x=\"0\" y=\"433\">00:00</tspan><tspan class=\"line\" dy=\"1.3em\" x=\"0\" y=\"433\">Aug 4, 2023</tspan></text></g><g class=\"xtick\"><text text-anchor=\"middle\" x=\"0\" y=\"433\" style=\"font-family: 'Open Sans', verdana, arial, sans-serif; font-size: 12px; fill: rgb(42, 63, 95); fill-opacity: 1; white-space: pre; opacity: 1;\" transform=\"translate(441.74,0)\">12:00</text></g></g><g class=\"yaxislayer-above\"><g class=\"ytick\"><text text-anchor=\"end\" x=\"79\" y=\"4.199999999999999\" transform=\"translate(0,402.1)\" style=\"font-family: 'Open Sans', verdana, arial, sans-serif; font-size: 12px; fill: rgb(42, 63, 95); fill-opacity: 1; white-space: pre; opacity: 1;\">0</text></g><g class=\"ytick\"><text text-anchor=\"end\" x=\"79\" y=\"4.199999999999999\" style=\"font-family: 'Open Sans', verdana, arial, sans-serif; font-size: 12px; fill: rgb(42, 63, 95); fill-opacity: 1; white-space: pre; opacity: 1;\" transform=\"translate(0,336.41)\">20</text></g><g class=\"ytick\"><text text-anchor=\"end\" x=\"79\" y=\"4.199999999999999\" style=\"font-family: 'Open Sans', verdana, arial, sans-serif; font-size: 12px; fill: rgb(42, 63, 95); fill-opacity: 1; white-space: pre; opacity: 1;\" transform=\"translate(0,270.72)\">40</text></g><g class=\"ytick\"><text text-anchor=\"end\" x=\"79\" y=\"4.199999999999999\" style=\"font-family: 'Open Sans', verdana, arial, sans-serif; font-size: 12px; fill: rgb(42, 63, 95); fill-opacity: 1; white-space: pre; opacity: 1;\" transform=\"translate(0,205.03)\">60</text></g><g class=\"ytick\"><text text-anchor=\"end\" x=\"79\" y=\"4.199999999999999\" style=\"font-family: 'Open Sans', verdana, arial, sans-serif; font-size: 12px; fill: rgb(42, 63, 95); fill-opacity: 1; white-space: pre; opacity: 1;\" transform=\"translate(0,139.34)\">80</text></g><g class=\"ytick\"><text text-anchor=\"end\" x=\"79\" y=\"4.199999999999999\" style=\"font-family: 'Open Sans', verdana, arial, sans-serif; font-size: 12px; fill: rgb(42, 63, 95); fill-opacity: 1; white-space: pre; opacity: 1;\" transform=\"translate(0,73.65)\">100</text></g></g><g class=\"overaxes-above\"/></g></g><g class=\"polarlayer\"/><g class=\"smithlayer\"/><g class=\"ternarylayer\"/><g class=\"geolayer\"/><g class=\"funnelarealayer\"/><g class=\"pielayer\"/><g class=\"iciclelayer\"/><g class=\"treemaplayer\"/><g class=\"sunburstlayer\"/><g class=\"glimages\"/><defs id=\"topdefs-3fae4e\"><g class=\"clips\"/><clipPath id=\"legend3fae4e\"><rect width=\"184\" height=\"105\" x=\"0\" y=\"0\"/></clipPath></defs><g class=\"layer-above\"><g class=\"imagelayer\"/><g class=\"shapelayer\"/></g><g class=\"infolayer\"><g class=\"legend\" pointer-events=\"all\" transform=\"translate(504.32,60)\"><rect class=\"bg\" shape-rendering=\"crispEdges\" width=\"184\" height=\"105\" x=\"0\" y=\"0\" style=\"stroke: rgb(68, 68, 68); stroke-opacity: 1; fill: rgb(255, 255, 255); fill-opacity: 1; stroke-width: 0px;\"/><g class=\"scrollbox\" transform=\"\" clip-path=\"url(#legend3fae4e)\"><text class=\"legendtitletext\" text-anchor=\"start\" x=\"2\" y=\"18.2\" style=\"font-family: 'Open Sans', verdana, arial, sans-serif; font-size: 14px; fill: rgb(42, 63, 95); fill-opacity: 1; white-space: pre;\">variable</text><g class=\"groups\" transform=\"\"><g class=\"traces\" transform=\"translate(0,32.7)\" style=\"opacity: 1;\"><text class=\"legendtext\" text-anchor=\"start\" x=\"40\" y=\"4.680000000000001\" style=\"font-family: 'Open Sans', verdana, arial, sans-serif; font-size: 12px; fill: rgb(42, 63, 95); fill-opacity: 1; white-space: pre;\">y_true</text><g class=\"layers\" style=\"opacity: 1;\"><g class=\"legendfill\"/><g class=\"legendlines\"><path class=\"js-line\" d=\"M5,0h30\" style=\"fill: none; stroke: rgb(99, 110, 250); stroke-opacity: 1; stroke-width: 2px;\"/></g><g class=\"legendsymbols\"><g class=\"legendpoints\"/></g></g><rect class=\"legendtoggle\" x=\"0\" y=\"-9.5\" width=\"178.5\" height=\"19\" style=\"fill: rgb(0, 0, 0); fill-opacity: 0;\"/></g></g><g class=\"groups\" transform=\"\"><g class=\"traces\" transform=\"translate(0,51.7)\" style=\"opacity: 1;\"><text class=\"legendtext\" text-anchor=\"start\" x=\"40\" y=\"4.680000000000001\" style=\"font-family: 'Open Sans', verdana, arial, sans-serif; font-size: 12px; fill: rgb(42, 63, 95); fill-opacity: 1; white-space: pre;\">y_pred_raw</text><g class=\"layers\" style=\"opacity: 1;\"><g class=\"legendfill\"/><g class=\"legendlines\"><path class=\"js-line\" d=\"M5,0h30\" style=\"fill: none; stroke: rgb(239, 85, 59); stroke-opacity: 1; stroke-width: 2px;\"/></g><g class=\"legendsymbols\"><g class=\"legendpoints\"/></g></g><rect class=\"legendtoggle\" x=\"0\" y=\"-9.5\" width=\"178.5\" height=\"19\" style=\"fill: rgb(0, 0, 0); fill-opacity: 0;\"/></g></g><g class=\"groups\" transform=\"\"><g class=\"traces\" transform=\"translate(0,70.7)\" style=\"opacity: 1;\"><text class=\"legendtext\" text-anchor=\"start\" x=\"40\" y=\"4.680000000000001\" style=\"font-family: 'Open Sans', verdana, arial, sans-serif; font-size: 12px; fill: rgb(42, 63, 95); fill-opacity: 1; white-space: pre;\">y_pred_scaled</text><g class=\"layers\" style=\"opacity: 1;\"><g class=\"legendfill\"/><g class=\"legendlines\"><path class=\"js-line\" d=\"M5,0h30\" style=\"fill: none; stroke: rgb(0, 204, 150); stroke-opacity: 1; stroke-width: 2px;\"/></g><g class=\"legendsymbols\"><g class=\"legendpoints\"/></g></g><rect class=\"legendtoggle\" x=\"0\" y=\"-9.5\" width=\"178.5\" height=\"19\" style=\"fill: rgb(0, 0, 0); fill-opacity: 0;\"/></g></g><g class=\"groups\" transform=\"\"><g class=\"traces\" transform=\"translate(0,89.7)\" style=\"opacity: 1;\"><text class=\"legendtext\" text-anchor=\"start\" x=\"40\" y=\"4.680000000000001\" style=\"font-family: 'Open Sans', verdana, arial, sans-serif; font-size: 12px; fill: rgb(42, 63, 95); fill-opacity: 1; white-space: pre;\">y_pred_scaled_inverse</text><g class=\"layers\" style=\"opacity: 1;\"><g class=\"legendfill\"/><g class=\"legendlines\"><path class=\"js-line\" d=\"M5,0h30\" style=\"fill: none; stroke: rgb(171, 99, 250); stroke-opacity: 1; stroke-width: 2px;\"/></g><g class=\"legendsymbols\"><g class=\"legendpoints\"/></g></g><rect class=\"legendtoggle\" x=\"0\" y=\"-9.5\" width=\"178.5\" height=\"19\" style=\"fill: rgb(0, 0, 0); fill-opacity: 0;\"/></g></g></g><rect class=\"scrollbar\" rx=\"20\" ry=\"3\" width=\"0\" height=\"0\" x=\"0\" y=\"0\" style=\"fill: rgb(128, 139, 164); fill-opacity: 1;\"/></g><g class=\"g-gtitle\"/><g class=\"g-xtitle\"><text class=\"xtitle\" x=\"288\" y=\"475.909375\" text-anchor=\"middle\" style=\"font-family: 'Open Sans', verdana, arial, sans-serif; font-size: 14px; fill: rgb(42, 63, 95); opacity: 1; font-weight: normal; white-space: pre;\">index</text></g><g class=\"g-ytitle\"><text class=\"ytitle\" transform=\"rotate(-90,31.809375000000003,240)\" x=\"31.809375000000003\" y=\"240\" text-anchor=\"middle\" style=\"font-family: 'Open Sans', verdana, arial, sans-serif; font-size: 14px; fill: rgb(42, 63, 95); opacity: 1; font-weight: normal; white-space: pre;\">value</text></g></g></svg>"
      ]
     },
     "metadata": {},
     "output_type": "display_data"
    }
   ],
   "source": [
    "utils.plot_df(df_pred_2)"
   ]
  },
  {
   "cell_type": "markdown",
   "id": "a436815c",
   "metadata": {
    "papermill": {
     "duration": 0.002754,
     "end_time": "2024-05-29T23:01:42.627399",
     "exception": false,
     "start_time": "2024-05-29T23:01:42.624645",
     "status": "completed"
    },
    "tags": []
   },
   "source": [
    "### Evaluation"
   ]
  },
  {
   "cell_type": "code",
   "execution_count": 19,
   "id": "a401cd78",
   "metadata": {
    "execution": {
     "iopub.execute_input": "2024-05-29T23:01:42.633470Z",
     "iopub.status.busy": "2024-05-29T23:01:42.633360Z",
     "iopub.status.idle": "2024-05-29T23:01:42.635937Z",
     "shell.execute_reply": "2024-05-29T23:01:42.635727Z"
    },
    "papermill": {
     "duration": 0.006392,
     "end_time": "2024-05-29T23:01:42.636532",
     "exception": false,
     "start_time": "2024-05-29T23:01:42.630140",
     "status": "completed"
    },
    "tags": []
   },
   "outputs": [
    {
     "name": "stderr",
     "output_type": "stream",
     "text": [
      "/Users/sota/miniconda3/envs/work/lib/python3.12/site-packages/sklearn/metrics/_regression.py:483: FutureWarning:\n",
      "\n",
      "'squared' is deprecated in version 1.4 and will be removed in 1.6. To calculate the root mean squared error, use the function'root_mean_squared_error'.\n",
      "\n"
     ]
    },
    {
     "data": {
      "text/plain": [
       "10.987225595050807"
      ]
     },
     "execution_count": 19,
     "metadata": {},
     "output_type": "execute_result"
    }
   ],
   "source": [
    "mean_squared_error(y_test_raw, y_pred_scaled_inverse, squared=False)"
   ]
  },
  {
   "cell_type": "code",
   "execution_count": 20,
   "id": "a9f8ec38",
   "metadata": {
    "execution": {
     "iopub.execute_input": "2024-05-29T23:01:42.642335Z",
     "iopub.status.busy": "2024-05-29T23:01:42.642253Z",
     "iopub.status.idle": "2024-05-29T23:01:42.644546Z",
     "shell.execute_reply": "2024-05-29T23:01:42.644352Z"
    },
    "papermill": {
     "duration": 0.005916,
     "end_time": "2024-05-29T23:01:42.645182",
     "exception": false,
     "start_time": "2024-05-29T23:01:42.639266",
     "status": "completed"
    },
    "tags": []
   },
   "outputs": [
    {
     "name": "stderr",
     "output_type": "stream",
     "text": [
      "/Users/sota/miniconda3/envs/work/lib/python3.12/site-packages/sklearn/metrics/_regression.py:483: FutureWarning:\n",
      "\n",
      "'squared' is deprecated in version 1.4 and will be removed in 1.6. To calculate the root mean squared error, use the function'root_mean_squared_error'.\n",
      "\n"
     ]
    },
    {
     "data": {
      "text/plain": [
       "11.032081789707014"
      ]
     },
     "execution_count": 20,
     "metadata": {},
     "output_type": "execute_result"
    }
   ],
   "source": [
    "mean_squared_error(y_test_raw, y_pred_raw, squared=False)"
   ]
  }
 ],
 "metadata": {
  "Author": "Jesús López",
  "Company": "Datons Academy",
  "Copyright": "Copyright 2023, Jesús López",
  "kernelspec": {
   "display_name": "work",
   "language": "python",
   "name": "python3"
  },
  "language_info": {
   "codemirror_mode": {
    "name": "ipython",
    "version": 3
   },
   "file_extension": ".py",
   "mimetype": "text/x-python",
   "name": "python",
   "nbconvert_exporter": "python",
   "pygments_lexer": "ipython3",
   "version": "3.12.2"
  },
  "papermill": {
   "default_parameters": {},
   "duration": 114.670797,
   "end_time": "2024-05-29T23:01:43.267419",
   "environment_variables": {},
   "exception": null,
   "input_path": "/Users/sota/Library/CloudStorage/Dropbox/2 Business/1 Datons/2 Areas/Courses/22 TS/solutions-new/notebooks/60_Forecasting II Deep Learning/5_Raw vs Scaled/1.ipynb",
   "output_path": "/Users/sota/Library/CloudStorage/Dropbox/2 Business/1 Datons/2 Areas/Courses/22 TS/solutions-new/notebooks/60_Forecasting II Deep Learning/5_Raw vs Scaled/1.ipynb",
   "parameters": {},
   "start_time": "2024-05-29T22:59:48.596622",
   "version": "2.5.0"
  }
 },
 "nbformat": 4,
 "nbformat_minor": 5
}
