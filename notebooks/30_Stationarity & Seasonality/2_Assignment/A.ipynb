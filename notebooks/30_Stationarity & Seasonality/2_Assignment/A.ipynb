{
 "cells": [
  {
   "cell_type": "markdown",
   "metadata": {},
   "source": [
    "# Differencing Stationarity"
   ]
  },
  {
   "cell_type": "markdown",
   "metadata": {},
   "source": [
    "## Overview"
   ]
  },
  {
   "cell_type": "markdown",
   "metadata": {},
   "source": [
    "<style>\n",
    "    table.custom-table {\n",
    "        max-width: 1000px;\n",
    "        width: 100%;\n",
    "        margin: 0 auto; /* centers the table on the page */\n",
    "    }\n",
    "\n",
    "    table.custom-table td {\n",
    "        background-color: #fff;\n",
    "    }\n",
    "    \n",
    "    table.custom-table th, table.custom-table td {\n",
    "        text-align: center;\n",
    "        vertical-align: middle;\n",
    "        padding: 5px;\n",
    "        width: 500px; /* distribute the total width equally among three columns */\n",
    "    }\n",
    "\n",
    "    table.custom-table img {\n",
    "        width: 100%;\n",
    "        display: block; /* removes any gap under the image */\n",
    "    }\n",
    "</style>\n",
    "\n",
    "\n",
    "<table class=\"custom-table\">\n",
    "    <thead>\n",
    "        <tr>\n",
    "            <th>Output: Trend</th>\n",
    "            <th>Input: Original Time Series</th>\n",
    "        </tr>\n",
    "    </thead>\n",
    "    <tbody>\n",
    "        <tr>\n",
    "            <td>\n",
    "                <img src=\"src/02_output_2.png\">\n",
    "            </td>\n",
    "            <td>\n",
    "                <img src=\"src/02_output_1.png\">\n",
    "            </td>\n",
    "        </tr>\n",
    "    </tbody>\n",
    "</table>"
   ]
  },
  {
   "cell_type": "markdown",
   "metadata": {},
   "source": [
    "In time series analysis, understanding stationarity and seasonality is crucial as they are key characteristics of time series data. This overview discusses their definitions, importance, and methods for testing and achieving stationarity, along with handling seasonality.\n",
    "\n",
    "### **1. Stationarity**\n",
    "\n",
    "- **Definition**: A time series is stationary if its statistical properties like mean, variance, and autocorrelation are constant over time. It shows no trend or seasonal effects, and fluctuations around its mean are consistent.\n",
    "- **Importance**: Stationarity is a prerequisite for many time series models. Non-stationary data can yield unreliable results.\n",
    "- **Testing**: Use tests like the Augmented Dickey-Fuller (ADF) or Kwiatkowski-Phillips-Schmidt-Shin (KPSS) to check stationarity.\n",
    "- **Achieving Stationarity**: Techniques include differencing, log transformation, or a combination of these methods.\n",
    "\n",
    "### **2. Seasonality**\n",
    "\n",
    "- **Definition**: Seasonality implies regular, periodic fluctuations at set intervals, like daily, monthly, or yearly patterns.\n",
    "- **Importance**: Accurate forecasting requires recognizing and adjusting for seasonality.\n",
    "- **Detecting**: Visualization or decomposition methods like STL can help identify seasonal patterns.\n",
    "- **Handling**: Methods vary, but seasonal differencing and models like SARIMA or Facebook's Prophet are effective.\n",
    "\n",
    "\n",
    "### Summary:\n",
    "\n",
    "- Stationarity addresses constant statistical properties over time.\n",
    "- Seasonality involves predictable, recurring patterns."
   ]
  },
  {
   "cell_type": "markdown",
   "metadata": {},
   "source": [
    "\n",
    "\n",
    "A time series can exhibit both non-stationarity and seasonality, necessitating handling both for accurate forecasting.\n",
    "\n",
    "#### Stationarity and Differencing:\n",
    "\n",
    "Differencing is used to achieve stationarity in non-stationary data due to trends.\n",
    "The 'I' in ARIMA indicates the differencing order needed for stationarity.\n",
    "\n",
    "#### Seasonality and SARIMA:\n",
    "\n",
    "SARIMA is suitable for data with seasonality, incorporating additional seasonal parameters.\n",
    "\n",
    "The 'D' in SARIMA's seasonal parameters indicates the seasonal differencing order.\n",
    "\n",
    "#### Modelling Choices:\n",
    "\n",
    "- No Trend or Seasonality: Use basic ARIMA (d=0).\n",
    "- Trend, No Seasonality: Use ARIMA with differencing.\n",
    "- Seasonality (with/without Trend): Use SARIMA.\n",
    "\n",
    "Model choice should be guided by data inspection, statistical tests, and tools like ACF and PACF plots."
   ]
  },
  {
   "cell_type": "markdown",
   "metadata": {},
   "source": [
    "## Data"
   ]
  },
  {
   "cell_type": "code",
   "execution_count": null,
   "metadata": {},
   "outputs": [
    {
     "data": {
      "text/html": [
       "<div>\n",
       "<style scoped>\n",
       "    .dataframe tbody tr th:only-of-type {\n",
       "        vertical-align: middle;\n",
       "    }\n",
       "\n",
       "    .dataframe tbody tr th {\n",
       "        vertical-align: top;\n",
       "    }\n",
       "\n",
       "    .dataframe thead th {\n",
       "        text-align: right;\n",
       "    }\n",
       "</style>\n",
       "<table border=\"1\" class=\"dataframe\">\n",
       "  <thead>\n",
       "    <tr style=\"text-align: right;\">\n",
       "      <th></th>\n",
       "      <th>generation</th>\n",
       "    </tr>\n",
       "    <tr>\n",
       "      <th>datetime_utc</th>\n",
       "      <th></th>\n",
       "    </tr>\n",
       "  </thead>\n",
       "  <tbody>\n",
       "    <tr>\n",
       "      <th>2014-01-31 00:00:00+01:00</th>\n",
       "      <td>402856.200</td>\n",
       "    </tr>\n",
       "    <tr>\n",
       "      <th>2014-02-28 00:00:00+01:00</th>\n",
       "      <td>431246.400</td>\n",
       "    </tr>\n",
       "    <tr>\n",
       "      <th>2014-03-31 00:00:00+02:00</th>\n",
       "      <td>699283.900</td>\n",
       "    </tr>\n",
       "    <tr>\n",
       "      <th>2014-04-30 00:00:00+02:00</th>\n",
       "      <td>765308.000</td>\n",
       "    </tr>\n",
       "    <tr>\n",
       "      <th>2014-05-31 00:00:00+02:00</th>\n",
       "      <td>889022.100</td>\n",
       "    </tr>\n",
       "    <tr>\n",
       "      <th>...</th>\n",
       "      <td>...</td>\n",
       "    </tr>\n",
       "    <tr>\n",
       "      <th>2022-08-31 00:00:00+02:00</th>\n",
       "      <td>3191364.099</td>\n",
       "    </tr>\n",
       "    <tr>\n",
       "      <th>2022-09-30 00:00:00+02:00</th>\n",
       "      <td>2636219.180</td>\n",
       "    </tr>\n",
       "    <tr>\n",
       "      <th>2022-10-31 00:00:00+01:00</th>\n",
       "      <td>2056758.870</td>\n",
       "    </tr>\n",
       "    <tr>\n",
       "      <th>2022-11-30 00:00:00+01:00</th>\n",
       "      <td>1535995.490</td>\n",
       "    </tr>\n",
       "    <tr>\n",
       "      <th>2022-12-31 00:00:00+01:00</th>\n",
       "      <td>1176871.031</td>\n",
       "    </tr>\n",
       "  </tbody>\n",
       "</table>\n",
       "<p>108 rows × 1 columns</p>\n",
       "</div>"
      ],
      "text/plain": [
       "                            generation\n",
       "datetime_utc                          \n",
       "2014-01-31 00:00:00+01:00   402856.200\n",
       "2014-02-28 00:00:00+01:00   431246.400\n",
       "2014-03-31 00:00:00+02:00   699283.900\n",
       "2014-04-30 00:00:00+02:00   765308.000\n",
       "2014-05-31 00:00:00+02:00   889022.100\n",
       "...                                ...\n",
       "2022-08-31 00:00:00+02:00  3191364.099\n",
       "2022-09-30 00:00:00+02:00  2636219.180\n",
       "2022-10-31 00:00:00+01:00  2056758.870\n",
       "2022-11-30 00:00:00+01:00  1535995.490\n",
       "2022-12-31 00:00:00+01:00  1176871.031\n",
       "\n",
       "[108 rows x 1 columns]"
      ]
     },
     "execution_count": null,
     "metadata": {},
     "output_type": "execute_result"
    }
   ],
   "source": [
    "#!\n",
    "\n",
    "import pandas as pd\n",
    "from statsmodels.tsa.stattools import adfuller, kpss\n",
    "\n",
    "df = pd.read_csv('../data/solar-generation.csv', index_col=0)\n",
    "df.index = pd.to_datetime(df.index, utc=True)\n",
    "df = df.tz_convert('Europe/Madrid')\n",
    "df"
   ]
  },
  {
   "cell_type": "code",
   "execution_count": null,
   "metadata": {},
   "outputs": [
    {
     "execution_count": null,
     "name": "stderr",
     "output_type": "stream",
     "text": [
      "/Users/sota/miniforge3/envs/datons.stories/lib/python3.12/site-packages/_plotly_utils/basevalidators.py:105: FutureWarning:\n",
      "\n",
      "The behavior of DatetimeProperties.to_pydatetime is deprecated, in a future version this will return a Series containing python datetime objects instead of an ndarray. To retain the old behavior, call `np.array` on the result\n",
      "\n"
     ]
    },
    {
     "data": {
      "application/vnd.plotly.v1+json": {
       "config": {
        "plotlyServerURL": "https://plotly.com"
       },
       "data": [
        {
         "hovertemplate": "variable=generation<br>datetime_utc=%{x}<br>value=%{y}<extra></extra>",
         "legendgroup": "generation",
         "line": {
          "color": "#636efa",
          "dash": "solid"
         },
         "marker": {
          "symbol": "circle"
         },
         "mode": "lines",
         "name": "generation",
         "orientation": "v",
         "showlegend": true,
         "type": "scatter",
         "x": [
          "2014-01-31T00:00:00+01:00",
          "2014-02-28T00:00:00+01:00",
          "2014-03-31T00:00:00+02:00",
          "2014-04-30T00:00:00+02:00",
          "2014-05-31T00:00:00+02:00",
          "2014-06-30T00:00:00+02:00",
          "2014-07-31T00:00:00+02:00",
          "2014-08-31T00:00:00+02:00",
          "2014-09-30T00:00:00+02:00",
          "2014-10-31T00:00:00+01:00",
          "2014-11-30T00:00:00+01:00",
          "2014-12-31T00:00:00+01:00",
          "2015-01-31T00:00:00+01:00",
          "2015-02-28T00:00:00+01:00",
          "2015-03-31T00:00:00+02:00",
          "2015-04-30T00:00:00+02:00",
          "2015-05-31T00:00:00+02:00",
          "2015-06-30T00:00:00+02:00",
          "2015-07-31T00:00:00+02:00",
          "2015-08-31T00:00:00+02:00",
          "2015-09-30T00:00:00+02:00",
          "2015-10-31T00:00:00+01:00",
          "2015-11-30T00:00:00+01:00",
          "2015-12-31T00:00:00+01:00",
          "2016-01-31T00:00:00+01:00",
          "2016-02-29T00:00:00+01:00",
          "2016-03-31T00:00:00+02:00",
          "2016-04-30T00:00:00+02:00",
          "2016-05-31T00:00:00+02:00",
          "2016-06-30T00:00:00+02:00",
          "2016-07-31T00:00:00+02:00",
          "2016-08-31T00:00:00+02:00",
          "2016-09-30T00:00:00+02:00",
          "2016-10-31T00:00:00+01:00",
          "2016-11-30T00:00:00+01:00",
          "2016-12-31T00:00:00+01:00",
          "2017-01-31T00:00:00+01:00",
          "2017-02-28T00:00:00+01:00",
          "2017-03-31T00:00:00+02:00",
          "2017-04-30T00:00:00+02:00",
          "2017-05-31T00:00:00+02:00",
          "2017-06-30T00:00:00+02:00",
          "2017-07-31T00:00:00+02:00",
          "2017-08-31T00:00:00+02:00",
          "2017-09-30T00:00:00+02:00",
          "2017-10-31T00:00:00+01:00",
          "2017-11-30T00:00:00+01:00",
          "2017-12-31T00:00:00+01:00",
          "2018-01-31T00:00:00+01:00",
          "2018-02-28T00:00:00+01:00",
          "2018-03-31T00:00:00+02:00",
          "2018-04-30T00:00:00+02:00",
          "2018-05-31T00:00:00+02:00",
          "2018-06-30T00:00:00+02:00",
          "2018-07-31T00:00:00+02:00",
          "2018-08-31T00:00:00+02:00",
          "2018-09-30T00:00:00+02:00",
          "2018-10-31T00:00:00+01:00",
          "2018-11-30T00:00:00+01:00",
          "2018-12-31T00:00:00+01:00",
          "2019-01-31T00:00:00+01:00",
          "2019-02-28T00:00:00+01:00",
          "2019-03-31T00:00:00+01:00",
          "2019-04-30T00:00:00+02:00",
          "2019-05-31T00:00:00+02:00",
          "2019-06-30T00:00:00+02:00",
          "2019-07-31T00:00:00+02:00",
          "2019-08-31T00:00:00+02:00",
          "2019-09-30T00:00:00+02:00",
          "2019-10-31T00:00:00+01:00",
          "2019-11-30T00:00:00+01:00",
          "2019-12-31T00:00:00+01:00",
          "2020-01-31T00:00:00+01:00",
          "2020-02-29T00:00:00+01:00",
          "2020-03-31T00:00:00+02:00",
          "2020-04-30T00:00:00+02:00",
          "2020-05-31T00:00:00+02:00",
          "2020-06-30T00:00:00+02:00",
          "2020-07-31T00:00:00+02:00",
          "2020-08-31T00:00:00+02:00",
          "2020-09-30T00:00:00+02:00",
          "2020-10-31T00:00:00+01:00",
          "2020-11-30T00:00:00+01:00",
          "2020-12-31T00:00:00+01:00",
          "2021-01-31T00:00:00+01:00",
          "2021-02-28T00:00:00+01:00",
          "2021-03-31T00:00:00+02:00",
          "2021-04-30T00:00:00+02:00",
          "2021-05-31T00:00:00+02:00",
          "2021-06-30T00:00:00+02:00",
          "2021-07-31T00:00:00+02:00",
          "2021-08-31T00:00:00+02:00",
          "2021-09-30T00:00:00+02:00",
          "2021-10-31T00:00:00+02:00",
          "2021-11-30T00:00:00+01:00",
          "2021-12-31T00:00:00+01:00",
          "2022-01-31T00:00:00+01:00",
          "2022-02-28T00:00:00+01:00",
          "2022-03-31T00:00:00+02:00",
          "2022-04-30T00:00:00+02:00",
          "2022-05-31T00:00:00+02:00",
          "2022-06-30T00:00:00+02:00",
          "2022-07-31T00:00:00+02:00",
          "2022-08-31T00:00:00+02:00",
          "2022-09-30T00:00:00+02:00",
          "2022-10-31T00:00:00+01:00",
          "2022-11-30T00:00:00+01:00",
          "2022-12-31T00:00:00+01:00"
         ],
         "xaxis": "x",
         "y": [
          402856.2,
          431246.4,
          699283.9,
          765308,
          889022.1,
          877941.1,
          928878.3,
          868469.7,
          693511.1,
          613785.4,
          394068.2,
          450432.4,
          501283.7,
          482162.7,
          695486.8,
          745001,
          891987,
          849079.4,
          872761.6,
          810627.4,
          693198.9,
          528100.4,
          507756.8,
          390381.8,
          344161,
          469202.5,
          669113.8,
          681070.4,
          786326.4,
          866138.8,
          865774.9,
          839030.6,
          703739.8,
          564147.2,
          398574.6,
          364898.5,
          427346.3,
          450586.8,
          674550.2,
          800340.7,
          866359,
          850750.2,
          904238.5,
          802220.3,
          728558.3,
          635723.2,
          495496.6,
          393211.1,
          409400.9,
          459973.2,
          553144,
          667955.9,
          784757.5,
          798868.8,
          889680.7,
          823136.6,
          686749.7,
          553399.1,
          363524.1,
          405639.1,
          460704.3,
          587657.5,
          771411.5,
          682323.5,
          912231.7,
          912389.8,
          977326.1,
          976176.8,
          824743.5,
          782947.2,
          507827.1,
          504204.9,
          611995,
          940737.2,
          1037574.4,
          1116330.1,
          1594071.5,
          1725678.8,
          1824134.8,
          1757423.6,
          1438691.3,
          1286271.5,
          825124.5,
          745410.9,
          843899.7,
          997655.7,
          1662926.4,
          1639621,
          2302711.6,
          2259174.8,
          2534332.7,
          2362610.3,
          1875933.4,
          1748139.4,
          1302555.4,
          1030980.8,
          1483989.7,
          1648478.1,
          1521992.8,
          2475835.9,
          3231541.434,
          3132564.628,
          3323048.41,
          3191364.099,
          2636219.18,
          2056758.87,
          1535995.49,
          1176871.031
         ],
         "yaxis": "y"
        }
       ],
       "layout": {
        "autosize": true,
        "legend": {
         "title": {
          "text": "variable"
         },
         "tracegroupgap": 0
        },
        "template": {
         "data": {
          "bar": [
           {
            "error_x": {
             "color": "#2a3f5f"
            },
            "error_y": {
             "color": "#2a3f5f"
            },
            "marker": {
             "line": {
              "color": "#E5ECF6",
              "width": 0.5
             },
             "pattern": {
              "fillmode": "overlay",
              "size": 10,
              "solidity": 0.2
             }
            },
            "type": "bar"
           }
          ],
          "barpolar": [
           {
            "marker": {
             "line": {
              "color": "#E5ECF6",
              "width": 0.5
             },
             "pattern": {
              "fillmode": "overlay",
              "size": 10,
              "solidity": 0.2
             }
            },
            "type": "barpolar"
           }
          ],
          "carpet": [
           {
            "aaxis": {
             "endlinecolor": "#2a3f5f",
             "gridcolor": "white",
             "linecolor": "white",
             "minorgridcolor": "white",
             "startlinecolor": "#2a3f5f"
            },
            "baxis": {
             "endlinecolor": "#2a3f5f",
             "gridcolor": "white",
             "linecolor": "white",
             "minorgridcolor": "white",
             "startlinecolor": "#2a3f5f"
            },
            "type": "carpet"
           }
          ],
          "choropleth": [
           {
            "colorbar": {
             "outlinewidth": 0,
             "ticks": ""
            },
            "type": "choropleth"
           }
          ],
          "contour": [
           {
            "colorbar": {
             "outlinewidth": 0,
             "ticks": ""
            },
            "colorscale": [
             [
              0,
              "#0d0887"
             ],
             [
              0.1111111111111111,
              "#46039f"
             ],
             [
              0.2222222222222222,
              "#7201a8"
             ],
             [
              0.3333333333333333,
              "#9c179e"
             ],
             [
              0.4444444444444444,
              "#bd3786"
             ],
             [
              0.5555555555555556,
              "#d8576b"
             ],
             [
              0.6666666666666666,
              "#ed7953"
             ],
             [
              0.7777777777777778,
              "#fb9f3a"
             ],
             [
              0.8888888888888888,
              "#fdca26"
             ],
             [
              1,
              "#f0f921"
             ]
            ],
            "type": "contour"
           }
          ],
          "contourcarpet": [
           {
            "colorbar": {
             "outlinewidth": 0,
             "ticks": ""
            },
            "type": "contourcarpet"
           }
          ],
          "heatmap": [
           {
            "colorbar": {
             "outlinewidth": 0,
             "ticks": ""
            },
            "colorscale": [
             [
              0,
              "#0d0887"
             ],
             [
              0.1111111111111111,
              "#46039f"
             ],
             [
              0.2222222222222222,
              "#7201a8"
             ],
             [
              0.3333333333333333,
              "#9c179e"
             ],
             [
              0.4444444444444444,
              "#bd3786"
             ],
             [
              0.5555555555555556,
              "#d8576b"
             ],
             [
              0.6666666666666666,
              "#ed7953"
             ],
             [
              0.7777777777777778,
              "#fb9f3a"
             ],
             [
              0.8888888888888888,
              "#fdca26"
             ],
             [
              1,
              "#f0f921"
             ]
            ],
            "type": "heatmap"
           }
          ],
          "heatmapgl": [
           {
            "colorbar": {
             "outlinewidth": 0,
             "ticks": ""
            },
            "colorscale": [
             [
              0,
              "#0d0887"
             ],
             [
              0.1111111111111111,
              "#46039f"
             ],
             [
              0.2222222222222222,
              "#7201a8"
             ],
             [
              0.3333333333333333,
              "#9c179e"
             ],
             [
              0.4444444444444444,
              "#bd3786"
             ],
             [
              0.5555555555555556,
              "#d8576b"
             ],
             [
              0.6666666666666666,
              "#ed7953"
             ],
             [
              0.7777777777777778,
              "#fb9f3a"
             ],
             [
              0.8888888888888888,
              "#fdca26"
             ],
             [
              1,
              "#f0f921"
             ]
            ],
            "type": "heatmapgl"
           }
          ],
          "histogram": [
           {
            "marker": {
             "pattern": {
              "fillmode": "overlay",
              "size": 10,
              "solidity": 0.2
             }
            },
            "type": "histogram"
           }
          ],
          "histogram2d": [
           {
            "colorbar": {
             "outlinewidth": 0,
             "ticks": ""
            },
            "colorscale": [
             [
              0,
              "#0d0887"
             ],
             [
              0.1111111111111111,
              "#46039f"
             ],
             [
              0.2222222222222222,
              "#7201a8"
             ],
             [
              0.3333333333333333,
              "#9c179e"
             ],
             [
              0.4444444444444444,
              "#bd3786"
             ],
             [
              0.5555555555555556,
              "#d8576b"
             ],
             [
              0.6666666666666666,
              "#ed7953"
             ],
             [
              0.7777777777777778,
              "#fb9f3a"
             ],
             [
              0.8888888888888888,
              "#fdca26"
             ],
             [
              1,
              "#f0f921"
             ]
            ],
            "type": "histogram2d"
           }
          ],
          "histogram2dcontour": [
           {
            "colorbar": {
             "outlinewidth": 0,
             "ticks": ""
            },
            "colorscale": [
             [
              0,
              "#0d0887"
             ],
             [
              0.1111111111111111,
              "#46039f"
             ],
             [
              0.2222222222222222,
              "#7201a8"
             ],
             [
              0.3333333333333333,
              "#9c179e"
             ],
             [
              0.4444444444444444,
              "#bd3786"
             ],
             [
              0.5555555555555556,
              "#d8576b"
             ],
             [
              0.6666666666666666,
              "#ed7953"
             ],
             [
              0.7777777777777778,
              "#fb9f3a"
             ],
             [
              0.8888888888888888,
              "#fdca26"
             ],
             [
              1,
              "#f0f921"
             ]
            ],
            "type": "histogram2dcontour"
           }
          ],
          "mesh3d": [
           {
            "colorbar": {
             "outlinewidth": 0,
             "ticks": ""
            },
            "type": "mesh3d"
           }
          ],
          "parcoords": [
           {
            "line": {
             "colorbar": {
              "outlinewidth": 0,
              "ticks": ""
             }
            },
            "type": "parcoords"
           }
          ],
          "pie": [
           {
            "automargin": true,
            "type": "pie"
           }
          ],
          "scatter": [
           {
            "fillpattern": {
             "fillmode": "overlay",
             "size": 10,
             "solidity": 0.2
            },
            "type": "scatter"
           }
          ],
          "scatter3d": [
           {
            "line": {
             "colorbar": {
              "outlinewidth": 0,
              "ticks": ""
             }
            },
            "marker": {
             "colorbar": {
              "outlinewidth": 0,
              "ticks": ""
             }
            },
            "type": "scatter3d"
           }
          ],
          "scattercarpet": [
           {
            "marker": {
             "colorbar": {
              "outlinewidth": 0,
              "ticks": ""
             }
            },
            "type": "scattercarpet"
           }
          ],
          "scattergeo": [
           {
            "marker": {
             "colorbar": {
              "outlinewidth": 0,
              "ticks": ""
             }
            },
            "type": "scattergeo"
           }
          ],
          "scattergl": [
           {
            "marker": {
             "colorbar": {
              "outlinewidth": 0,
              "ticks": ""
             }
            },
            "type": "scattergl"
           }
          ],
          "scattermapbox": [
           {
            "marker": {
             "colorbar": {
              "outlinewidth": 0,
              "ticks": ""
             }
            },
            "type": "scattermapbox"
           }
          ],
          "scatterpolar": [
           {
            "marker": {
             "colorbar": {
              "outlinewidth": 0,
              "ticks": ""
             }
            },
            "type": "scatterpolar"
           }
          ],
          "scatterpolargl": [
           {
            "marker": {
             "colorbar": {
              "outlinewidth": 0,
              "ticks": ""
             }
            },
            "type": "scatterpolargl"
           }
          ],
          "scatterternary": [
           {
            "marker": {
             "colorbar": {
              "outlinewidth": 0,
              "ticks": ""
             }
            },
            "type": "scatterternary"
           }
          ],
          "surface": [
           {
            "colorbar": {
             "outlinewidth": 0,
             "ticks": ""
            },
            "colorscale": [
             [
              0,
              "#0d0887"
             ],
             [
              0.1111111111111111,
              "#46039f"
             ],
             [
              0.2222222222222222,
              "#7201a8"
             ],
             [
              0.3333333333333333,
              "#9c179e"
             ],
             [
              0.4444444444444444,
              "#bd3786"
             ],
             [
              0.5555555555555556,
              "#d8576b"
             ],
             [
              0.6666666666666666,
              "#ed7953"
             ],
             [
              0.7777777777777778,
              "#fb9f3a"
             ],
             [
              0.8888888888888888,
              "#fdca26"
             ],
             [
              1,
              "#f0f921"
             ]
            ],
            "type": "surface"
           }
          ],
          "table": [
           {
            "cells": {
             "fill": {
              "color": "#EBF0F8"
             },
             "line": {
              "color": "white"
             }
            },
            "header": {
             "fill": {
              "color": "#C8D4E3"
             },
             "line": {
              "color": "white"
             }
            },
            "type": "table"
           }
          ]
         },
         "layout": {
          "annotationdefaults": {
           "arrowcolor": "#2a3f5f",
           "arrowhead": 0,
           "arrowwidth": 1
          },
          "autotypenumbers": "strict",
          "coloraxis": {
           "colorbar": {
            "outlinewidth": 0,
            "ticks": ""
           }
          },
          "colorscale": {
           "diverging": [
            [
             0,
             "#8e0152"
            ],
            [
             0.1,
             "#c51b7d"
            ],
            [
             0.2,
             "#de77ae"
            ],
            [
             0.3,
             "#f1b6da"
            ],
            [
             0.4,
             "#fde0ef"
            ],
            [
             0.5,
             "#f7f7f7"
            ],
            [
             0.6,
             "#e6f5d0"
            ],
            [
             0.7,
             "#b8e186"
            ],
            [
             0.8,
             "#7fbc41"
            ],
            [
             0.9,
             "#4d9221"
            ],
            [
             1,
             "#276419"
            ]
           ],
           "sequential": [
            [
             0,
             "#0d0887"
            ],
            [
             0.1111111111111111,
             "#46039f"
            ],
            [
             0.2222222222222222,
             "#7201a8"
            ],
            [
             0.3333333333333333,
             "#9c179e"
            ],
            [
             0.4444444444444444,
             "#bd3786"
            ],
            [
             0.5555555555555556,
             "#d8576b"
            ],
            [
             0.6666666666666666,
             "#ed7953"
            ],
            [
             0.7777777777777778,
             "#fb9f3a"
            ],
            [
             0.8888888888888888,
             "#fdca26"
            ],
            [
             1,
             "#f0f921"
            ]
           ],
           "sequentialminus": [
            [
             0,
             "#0d0887"
            ],
            [
             0.1111111111111111,
             "#46039f"
            ],
            [
             0.2222222222222222,
             "#7201a8"
            ],
            [
             0.3333333333333333,
             "#9c179e"
            ],
            [
             0.4444444444444444,
             "#bd3786"
            ],
            [
             0.5555555555555556,
             "#d8576b"
            ],
            [
             0.6666666666666666,
             "#ed7953"
            ],
            [
             0.7777777777777778,
             "#fb9f3a"
            ],
            [
             0.8888888888888888,
             "#fdca26"
            ],
            [
             1,
             "#f0f921"
            ]
           ]
          },
          "colorway": [
           "#636efa",
           "#EF553B",
           "#00cc96",
           "#ab63fa",
           "#FFA15A",
           "#19d3f3",
           "#FF6692",
           "#B6E880",
           "#FF97FF",
           "#FECB52"
          ],
          "font": {
           "color": "#2a3f5f"
          },
          "geo": {
           "bgcolor": "white",
           "lakecolor": "white",
           "landcolor": "#E5ECF6",
           "showlakes": true,
           "showland": true,
           "subunitcolor": "white"
          },
          "hoverlabel": {
           "align": "left"
          },
          "hovermode": "closest",
          "mapbox": {
           "style": "light"
          },
          "paper_bgcolor": "white",
          "plot_bgcolor": "#E5ECF6",
          "polar": {
           "angularaxis": {
            "gridcolor": "white",
            "linecolor": "white",
            "ticks": ""
           },
           "bgcolor": "#E5ECF6",
           "radialaxis": {
            "gridcolor": "white",
            "linecolor": "white",
            "ticks": ""
           }
          },
          "scene": {
           "xaxis": {
            "backgroundcolor": "#E5ECF6",
            "gridcolor": "white",
            "gridwidth": 2,
            "linecolor": "white",
            "showbackground": true,
            "ticks": "",
            "zerolinecolor": "white"
           },
           "yaxis": {
            "backgroundcolor": "#E5ECF6",
            "gridcolor": "white",
            "gridwidth": 2,
            "linecolor": "white",
            "showbackground": true,
            "ticks": "",
            "zerolinecolor": "white"
           },
           "zaxis": {
            "backgroundcolor": "#E5ECF6",
            "gridcolor": "white",
            "gridwidth": 2,
            "linecolor": "white",
            "showbackground": true,
            "ticks": "",
            "zerolinecolor": "white"
           }
          },
          "shapedefaults": {
           "line": {
            "color": "#2a3f5f"
           }
          },
          "ternary": {
           "aaxis": {
            "gridcolor": "white",
            "linecolor": "white",
            "ticks": ""
           },
           "baxis": {
            "gridcolor": "white",
            "linecolor": "white",
            "ticks": ""
           },
           "bgcolor": "#E5ECF6",
           "caxis": {
            "gridcolor": "white",
            "linecolor": "white",
            "ticks": ""
           }
          },
          "title": {
           "x": 0.05
          },
          "xaxis": {
           "automargin": true,
           "gridcolor": "white",
           "linecolor": "white",
           "ticks": "",
           "title": {
            "standoff": 15
           },
           "zerolinecolor": "white",
           "zerolinewidth": 2
          },
          "yaxis": {
           "automargin": true,
           "gridcolor": "white",
           "linecolor": "white",
           "ticks": "",
           "title": {
            "standoff": 15
           },
           "zerolinecolor": "white",
           "zerolinewidth": 2
          }
         }
        },
        "title": {
         "text": "Total Solar Photovoltaic Energy Generation in Spain"
        },
        "xaxis": {
         "anchor": "y",
         "autorange": true,
         "domain": [
          0,
          1
         ],
         "range": [
          "2014-01-31",
          "2022-12-31"
         ],
         "title": {
          "text": "datetime_utc"
         },
         "type": "date"
        },
        "yaxis": {
         "anchor": "x",
         "autorange": true,
         "domain": [
          0,
          1
         ],
         "range": [
          178667.25499999998,
          3488542.1550000003
         ],
         "title": {
          "text": "value"
         },
         "type": "linear"
        }
       }
      },
      "image/png": "[encoded data removed]"
     },
     "execution_count": null,
     "metadata": {},
     "output_type": "display_data"
    }
   ],
   "source": []
  },
  {
   "cell_type": "markdown",
   "metadata": {},
   "source": [
    "## Testing for Stationarity: Raw Data\n",
    "- **Augmented Dickey-Fuller (ADF) Test**: Tests for trend stationarity. Null hypothesis: the series is non-stationary.\n",
    "- **Kwiatkowski-Phillips-Schmidt-Shin (KPSS) Test**: Tests for level stationarity. Null hypothesis: the series is stationary.\n",
    "\n",
    "Use both tests for a comprehensive assessment. The results guide the stationarity assumption and inform whether differencing or detrending is needed."
   ]
  },
  {
   "cell_type": "markdown",
   "metadata": {},
   "source": [
    "### ADF Test"
   ]
  },
  {
   "cell_type": "code",
   "execution_count": null,
   "metadata": {},
   "outputs": [
    {
     "execution_count": null,
     "name": "stdout",
     "output_type": "stream",
     "text": [
      "ADF Statistic: 3.356012921248141\n",
      "p-value: 1.0\n"
     ]
    }
   ],
   "source": []
  },
  {
   "cell_type": "markdown",
   "metadata": {},
   "source": [
    "### KPSS Test"
   ]
  },
  {
   "cell_type": "code",
   "execution_count": null,
   "metadata": {},
   "outputs": [
    {
     "execution_count": null,
     "name": "stdout",
     "output_type": "stream",
     "text": [
      "\n",
      "KPSS Statistic: 1.1582105051781806\n",
      "p-value: 0.01\n"
     ]
    },
    {
     "execution_count": null,
     "name": "stderr",
     "output_type": "stream",
     "text": [
      "/var/folders/xm/_8bv9n2n5f3f64xxt_d5_l880000gn/T/ipykernel_2969/1515744726.py:1: InterpolationWarning:\n",
      "\n",
      "The test statistic is outside of the range of p-values available in the\n",
      "look-up table. The actual p-value is smaller than the p-value returned.\n",
      "\n",
      "\n"
     ]
    }
   ],
   "source": []
  },
  {
   "cell_type": "markdown",
   "metadata": {},
   "source": [
    "## Differencing for Stationarity\n",
    "Apply differencing to the dataset and retest for stationarity using ADF and KPSS tests."
   ]
  },
  {
   "cell_type": "code",
   "execution_count": null,
   "metadata": {},
   "outputs": [
    {
     "data": {
      "text/html": [
       "<div>\n",
       "<style scoped>\n",
       "    .dataframe tbody tr th:only-of-type {\n",
       "        vertical-align: middle;\n",
       "    }\n",
       "\n",
       "    .dataframe tbody tr th {\n",
       "        vertical-align: top;\n",
       "    }\n",
       "\n",
       "    .dataframe thead th {\n",
       "        text-align: right;\n",
       "    }\n",
       "</style>\n",
       "<table border=\"1\" class=\"dataframe\">\n",
       "  <thead>\n",
       "    <tr style=\"text-align: right;\">\n",
       "      <th></th>\n",
       "      <th>generation</th>\n",
       "      <th>diff_stationarity</th>\n",
       "    </tr>\n",
       "    <tr>\n",
       "      <th>datetime_utc</th>\n",
       "      <th></th>\n",
       "      <th></th>\n",
       "    </tr>\n",
       "  </thead>\n",
       "  <tbody>\n",
       "    <tr>\n",
       "      <th>2014-01-31 00:00:00+01:00</th>\n",
       "      <td>402856.200</td>\n",
       "      <td>NaN</td>\n",
       "    </tr>\n",
       "    <tr>\n",
       "      <th>2014-02-28 00:00:00+01:00</th>\n",
       "      <td>431246.400</td>\n",
       "      <td>28390.200</td>\n",
       "    </tr>\n",
       "    <tr>\n",
       "      <th>2014-03-31 00:00:00+02:00</th>\n",
       "      <td>699283.900</td>\n",
       "      <td>268037.500</td>\n",
       "    </tr>\n",
       "    <tr>\n",
       "      <th>2014-04-30 00:00:00+02:00</th>\n",
       "      <td>765308.000</td>\n",
       "      <td>66024.100</td>\n",
       "    </tr>\n",
       "    <tr>\n",
       "      <th>2014-05-31 00:00:00+02:00</th>\n",
       "      <td>889022.100</td>\n",
       "      <td>123714.100</td>\n",
       "    </tr>\n",
       "    <tr>\n",
       "      <th>...</th>\n",
       "      <td>...</td>\n",
       "      <td>...</td>\n",
       "    </tr>\n",
       "    <tr>\n",
       "      <th>2022-08-31 00:00:00+02:00</th>\n",
       "      <td>3191364.099</td>\n",
       "      <td>-131684.311</td>\n",
       "    </tr>\n",
       "    <tr>\n",
       "      <th>2022-09-30 00:00:00+02:00</th>\n",
       "      <td>2636219.180</td>\n",
       "      <td>-555144.919</td>\n",
       "    </tr>\n",
       "    <tr>\n",
       "      <th>2022-10-31 00:00:00+01:00</th>\n",
       "      <td>2056758.870</td>\n",
       "      <td>-579460.310</td>\n",
       "    </tr>\n",
       "    <tr>\n",
       "      <th>2022-11-30 00:00:00+01:00</th>\n",
       "      <td>1535995.490</td>\n",
       "      <td>-520763.380</td>\n",
       "    </tr>\n",
       "    <tr>\n",
       "      <th>2022-12-31 00:00:00+01:00</th>\n",
       "      <td>1176871.031</td>\n",
       "      <td>-359124.459</td>\n",
       "    </tr>\n",
       "  </tbody>\n",
       "</table>\n",
       "<p>108 rows × 2 columns</p>\n",
       "</div>"
      ],
      "text/plain": [
       "                            generation  diff_stationarity\n",
       "datetime_utc                                             \n",
       "2014-01-31 00:00:00+01:00   402856.200                NaN\n",
       "2014-02-28 00:00:00+01:00   431246.400          28390.200\n",
       "2014-03-31 00:00:00+02:00   699283.900         268037.500\n",
       "2014-04-30 00:00:00+02:00   765308.000          66024.100\n",
       "2014-05-31 00:00:00+02:00   889022.100         123714.100\n",
       "...                                ...                ...\n",
       "2022-08-31 00:00:00+02:00  3191364.099        -131684.311\n",
       "2022-09-30 00:00:00+02:00  2636219.180        -555144.919\n",
       "2022-10-31 00:00:00+01:00  2056758.870        -579460.310\n",
       "2022-11-30 00:00:00+01:00  1535995.490        -520763.380\n",
       "2022-12-31 00:00:00+01:00  1176871.031        -359124.459\n",
       "\n",
       "[108 rows x 2 columns]"
      ]
     },
     "execution_count": null,
     "metadata": {},
     "output_type": "execute_result"
    }
   ],
   "source": []
  },
  {
   "cell_type": "code",
   "execution_count": null,
   "metadata": {},
   "outputs": [
    {
     "data": {
      "text/html": [
       "<div>\n",
       "<style scoped>\n",
       "    .dataframe tbody tr th:only-of-type {\n",
       "        vertical-align: middle;\n",
       "    }\n",
       "\n",
       "    .dataframe tbody tr th {\n",
       "        vertical-align: top;\n",
       "    }\n",
       "\n",
       "    .dataframe thead th {\n",
       "        text-align: right;\n",
       "    }\n",
       "</style>\n",
       "<table border=\"1\" class=\"dataframe\">\n",
       "  <thead>\n",
       "    <tr style=\"text-align: right;\">\n",
       "      <th></th>\n",
       "      <th>generation (Original)</th>\n",
       "      <th>Diff Stationarity</th>\n",
       "    </tr>\n",
       "    <tr>\n",
       "      <th>datetime_utc</th>\n",
       "      <th></th>\n",
       "      <th></th>\n",
       "    </tr>\n",
       "  </thead>\n",
       "  <tbody>\n",
       "    <tr>\n",
       "      <th>2014-01-31 00:00:00+01:00</th>\n",
       "      <td>402856.200</td>\n",
       "      <td>NaN</td>\n",
       "    </tr>\n",
       "    <tr>\n",
       "      <th>2014-02-28 00:00:00+01:00</th>\n",
       "      <td>431246.400</td>\n",
       "      <td>28390.200</td>\n",
       "    </tr>\n",
       "    <tr>\n",
       "      <th>2014-03-31 00:00:00+02:00</th>\n",
       "      <td>699283.900</td>\n",
       "      <td>268037.500</td>\n",
       "    </tr>\n",
       "    <tr>\n",
       "      <th>2014-04-30 00:00:00+02:00</th>\n",
       "      <td>765308.000</td>\n",
       "      <td>66024.100</td>\n",
       "    </tr>\n",
       "    <tr>\n",
       "      <th>2014-05-31 00:00:00+02:00</th>\n",
       "      <td>889022.100</td>\n",
       "      <td>123714.100</td>\n",
       "    </tr>\n",
       "    <tr>\n",
       "      <th>...</th>\n",
       "      <td>...</td>\n",
       "      <td>...</td>\n",
       "    </tr>\n",
       "    <tr>\n",
       "      <th>2022-08-31 00:00:00+02:00</th>\n",
       "      <td>3191364.099</td>\n",
       "      <td>-131684.311</td>\n",
       "    </tr>\n",
       "    <tr>\n",
       "      <th>2022-09-30 00:00:00+02:00</th>\n",
       "      <td>2636219.180</td>\n",
       "      <td>-555144.919</td>\n",
       "    </tr>\n",
       "    <tr>\n",
       "      <th>2022-10-31 00:00:00+01:00</th>\n",
       "      <td>2056758.870</td>\n",
       "      <td>-579460.310</td>\n",
       "    </tr>\n",
       "    <tr>\n",
       "      <th>2022-11-30 00:00:00+01:00</th>\n",
       "      <td>1535995.490</td>\n",
       "      <td>-520763.380</td>\n",
       "    </tr>\n",
       "    <tr>\n",
       "      <th>2022-12-31 00:00:00+01:00</th>\n",
       "      <td>1176871.031</td>\n",
       "      <td>-359124.459</td>\n",
       "    </tr>\n",
       "  </tbody>\n",
       "</table>\n",
       "<p>108 rows × 2 columns</p>\n",
       "</div>"
      ],
      "text/plain": [
       "                           generation (Original)  Diff Stationarity\n",
       "datetime_utc                                                       \n",
       "2014-01-31 00:00:00+01:00             402856.200                NaN\n",
       "2014-02-28 00:00:00+01:00             431246.400          28390.200\n",
       "2014-03-31 00:00:00+02:00             699283.900         268037.500\n",
       "2014-04-30 00:00:00+02:00             765308.000          66024.100\n",
       "2014-05-31 00:00:00+02:00             889022.100         123714.100\n",
       "...                                          ...                ...\n",
       "2022-08-31 00:00:00+02:00            3191364.099        -131684.311\n",
       "2022-09-30 00:00:00+02:00            2636219.180        -555144.919\n",
       "2022-10-31 00:00:00+01:00            2056758.870        -579460.310\n",
       "2022-11-30 00:00:00+01:00            1535995.490        -520763.380\n",
       "2022-12-31 00:00:00+01:00            1176871.031        -359124.459\n",
       "\n",
       "[108 rows x 2 columns]"
      ]
     },
     "execution_count": null,
     "metadata": {},
     "output_type": "execute_result"
    }
   ],
   "source": []
  },
  {
   "cell_type": "code",
   "execution_count": null,
   "metadata": {},
   "outputs": [
    {
     "data": {
      "application/vnd.plotly.v1+json": {
       "config": {
        "plotlyServerURL": "https://plotly.com"
       },
       "data": [
        {
         "name": "generation (Original)",
         "type": "scatter",
         "x": [
          "2014-01-31T00:00:00+01:00",
          "2014-02-28T00:00:00+01:00",
          "2014-03-31T00:00:00+02:00",
          "2014-04-30T00:00:00+02:00",
          "2014-05-31T00:00:00+02:00",
          "2014-06-30T00:00:00+02:00",
          "2014-07-31T00:00:00+02:00",
          "2014-08-31T00:00:00+02:00",
          "2014-09-30T00:00:00+02:00",
          "2014-10-31T00:00:00+01:00",
          "2014-11-30T00:00:00+01:00",
          "2014-12-31T00:00:00+01:00",
          "2015-01-31T00:00:00+01:00",
          "2015-02-28T00:00:00+01:00",
          "2015-03-31T00:00:00+02:00",
          "2015-04-30T00:00:00+02:00",
          "2015-05-31T00:00:00+02:00",
          "2015-06-30T00:00:00+02:00",
          "2015-07-31T00:00:00+02:00",
          "2015-08-31T00:00:00+02:00",
          "2015-09-30T00:00:00+02:00",
          "2015-10-31T00:00:00+01:00",
          "2015-11-30T00:00:00+01:00",
          "2015-12-31T00:00:00+01:00",
          "2016-01-31T00:00:00+01:00",
          "2016-02-29T00:00:00+01:00",
          "2016-03-31T00:00:00+02:00",
          "2016-04-30T00:00:00+02:00",
          "2016-05-31T00:00:00+02:00",
          "2016-06-30T00:00:00+02:00",
          "2016-07-31T00:00:00+02:00",
          "2016-08-31T00:00:00+02:00",
          "2016-09-30T00:00:00+02:00",
          "2016-10-31T00:00:00+01:00",
          "2016-11-30T00:00:00+01:00",
          "2016-12-31T00:00:00+01:00",
          "2017-01-31T00:00:00+01:00",
          "2017-02-28T00:00:00+01:00",
          "2017-03-31T00:00:00+02:00",
          "2017-04-30T00:00:00+02:00",
          "2017-05-31T00:00:00+02:00",
          "2017-06-30T00:00:00+02:00",
          "2017-07-31T00:00:00+02:00",
          "2017-08-31T00:00:00+02:00",
          "2017-09-30T00:00:00+02:00",
          "2017-10-31T00:00:00+01:00",
          "2017-11-30T00:00:00+01:00",
          "2017-12-31T00:00:00+01:00",
          "2018-01-31T00:00:00+01:00",
          "2018-02-28T00:00:00+01:00",
          "2018-03-31T00:00:00+02:00",
          "2018-04-30T00:00:00+02:00",
          "2018-05-31T00:00:00+02:00",
          "2018-06-30T00:00:00+02:00",
          "2018-07-31T00:00:00+02:00",
          "2018-08-31T00:00:00+02:00",
          "2018-09-30T00:00:00+02:00",
          "2018-10-31T00:00:00+01:00",
          "2018-11-30T00:00:00+01:00",
          "2018-12-31T00:00:00+01:00",
          "2019-01-31T00:00:00+01:00",
          "2019-02-28T00:00:00+01:00",
          "2019-03-31T00:00:00+01:00",
          "2019-04-30T00:00:00+02:00",
          "2019-05-31T00:00:00+02:00",
          "2019-06-30T00:00:00+02:00",
          "2019-07-31T00:00:00+02:00",
          "2019-08-31T00:00:00+02:00",
          "2019-09-30T00:00:00+02:00",
          "2019-10-31T00:00:00+01:00",
          "2019-11-30T00:00:00+01:00",
          "2019-12-31T00:00:00+01:00",
          "2020-01-31T00:00:00+01:00",
          "2020-02-29T00:00:00+01:00",
          "2020-03-31T00:00:00+02:00",
          "2020-04-30T00:00:00+02:00",
          "2020-05-31T00:00:00+02:00",
          "2020-06-30T00:00:00+02:00",
          "2020-07-31T00:00:00+02:00",
          "2020-08-31T00:00:00+02:00",
          "2020-09-30T00:00:00+02:00",
          "2020-10-31T00:00:00+01:00",
          "2020-11-30T00:00:00+01:00",
          "2020-12-31T00:00:00+01:00",
          "2021-01-31T00:00:00+01:00",
          "2021-02-28T00:00:00+01:00",
          "2021-03-31T00:00:00+02:00",
          "2021-04-30T00:00:00+02:00",
          "2021-05-31T00:00:00+02:00",
          "2021-06-30T00:00:00+02:00",
          "2021-07-31T00:00:00+02:00",
          "2021-08-31T00:00:00+02:00",
          "2021-09-30T00:00:00+02:00",
          "2021-10-31T00:00:00+02:00",
          "2021-11-30T00:00:00+01:00",
          "2021-12-31T00:00:00+01:00",
          "2022-01-31T00:00:00+01:00",
          "2022-02-28T00:00:00+01:00",
          "2022-03-31T00:00:00+02:00",
          "2022-04-30T00:00:00+02:00",
          "2022-05-31T00:00:00+02:00",
          "2022-06-30T00:00:00+02:00",
          "2022-07-31T00:00:00+02:00",
          "2022-08-31T00:00:00+02:00",
          "2022-09-30T00:00:00+02:00",
          "2022-10-31T00:00:00+01:00",
          "2022-11-30T00:00:00+01:00",
          "2022-12-31T00:00:00+01:00"
         ],
         "xaxis": "x",
         "y": [
          402856.2,
          431246.4,
          699283.9,
          765308,
          889022.1,
          877941.1,
          928878.3,
          868469.7,
          693511.1,
          613785.4,
          394068.2,
          450432.4,
          501283.7,
          482162.7,
          695486.8,
          745001,
          891987,
          849079.4,
          872761.6,
          810627.4,
          693198.9,
          528100.4,
          507756.8,
          390381.8,
          344161,
          469202.5,
          669113.8,
          681070.4,
          786326.4,
          866138.8,
          865774.9,
          839030.6,
          703739.8,
          564147.2,
          398574.6,
          364898.5,
          427346.3,
          450586.8,
          674550.2,
          800340.7,
          866359,
          850750.2,
          904238.5,
          802220.3,
          728558.3,
          635723.2,
          495496.6,
          393211.1,
          409400.9,
          459973.2,
          553144,
          667955.9,
          784757.5,
          798868.8,
          889680.7,
          823136.6,
          686749.7,
          553399.1,
          363524.1,
          405639.1,
          460704.3,
          587657.5,
          771411.5,
          682323.5,
          912231.7,
          912389.8,
          977326.1,
          976176.8,
          824743.5,
          782947.2,
          507827.1,
          504204.9,
          611995,
          940737.2,
          1037574.4,
          1116330.1,
          1594071.5,
          1725678.8,
          1824134.8,
          1757423.6,
          1438691.3,
          1286271.5,
          825124.5,
          745410.9,
          843899.7,
          997655.7,
          1662926.4,
          1639621,
          2302711.6,
          2259174.8,
          2534332.7,
          2362610.3,
          1875933.4,
          1748139.4,
          1302555.4,
          1030980.8,
          1483989.7,
          1648478.1,
          1521992.8,
          2475835.9,
          3231541.434,
          3132564.628,
          3323048.41,
          3191364.099,
          2636219.18,
          2056758.87,
          1535995.49,
          1176871.031
         ],
         "yaxis": "y"
        },
        {
         "name": "Diff Stationarity",
         "type": "scatter",
         "x": [
          "2014-01-31T00:00:00+01:00",
          "2014-02-28T00:00:00+01:00",
          "2014-03-31T00:00:00+02:00",
          "2014-04-30T00:00:00+02:00",
          "2014-05-31T00:00:00+02:00",
          "2014-06-30T00:00:00+02:00",
          "2014-07-31T00:00:00+02:00",
          "2014-08-31T00:00:00+02:00",
          "2014-09-30T00:00:00+02:00",
          "2014-10-31T00:00:00+01:00",
          "2014-11-30T00:00:00+01:00",
          "2014-12-31T00:00:00+01:00",
          "2015-01-31T00:00:00+01:00",
          "2015-02-28T00:00:00+01:00",
          "2015-03-31T00:00:00+02:00",
          "2015-04-30T00:00:00+02:00",
          "2015-05-31T00:00:00+02:00",
          "2015-06-30T00:00:00+02:00",
          "2015-07-31T00:00:00+02:00",
          "2015-08-31T00:00:00+02:00",
          "2015-09-30T00:00:00+02:00",
          "2015-10-31T00:00:00+01:00",
          "2015-11-30T00:00:00+01:00",
          "2015-12-31T00:00:00+01:00",
          "2016-01-31T00:00:00+01:00",
          "2016-02-29T00:00:00+01:00",
          "2016-03-31T00:00:00+02:00",
          "2016-04-30T00:00:00+02:00",
          "2016-05-31T00:00:00+02:00",
          "2016-06-30T00:00:00+02:00",
          "2016-07-31T00:00:00+02:00",
          "2016-08-31T00:00:00+02:00",
          "2016-09-30T00:00:00+02:00",
          "2016-10-31T00:00:00+01:00",
          "2016-11-30T00:00:00+01:00",
          "2016-12-31T00:00:00+01:00",
          "2017-01-31T00:00:00+01:00",
          "2017-02-28T00:00:00+01:00",
          "2017-03-31T00:00:00+02:00",
          "2017-04-30T00:00:00+02:00",
          "2017-05-31T00:00:00+02:00",
          "2017-06-30T00:00:00+02:00",
          "2017-07-31T00:00:00+02:00",
          "2017-08-31T00:00:00+02:00",
          "2017-09-30T00:00:00+02:00",
          "2017-10-31T00:00:00+01:00",
          "2017-11-30T00:00:00+01:00",
          "2017-12-31T00:00:00+01:00",
          "2018-01-31T00:00:00+01:00",
          "2018-02-28T00:00:00+01:00",
          "2018-03-31T00:00:00+02:00",
          "2018-04-30T00:00:00+02:00",
          "2018-05-31T00:00:00+02:00",
          "2018-06-30T00:00:00+02:00",
          "2018-07-31T00:00:00+02:00",
          "2018-08-31T00:00:00+02:00",
          "2018-09-30T00:00:00+02:00",
          "2018-10-31T00:00:00+01:00",
          "2018-11-30T00:00:00+01:00",
          "2018-12-31T00:00:00+01:00",
          "2019-01-31T00:00:00+01:00",
          "2019-02-28T00:00:00+01:00",
          "2019-03-31T00:00:00+01:00",
          "2019-04-30T00:00:00+02:00",
          "2019-05-31T00:00:00+02:00",
          "2019-06-30T00:00:00+02:00",
          "2019-07-31T00:00:00+02:00",
          "2019-08-31T00:00:00+02:00",
          "2019-09-30T00:00:00+02:00",
          "2019-10-31T00:00:00+01:00",
          "2019-11-30T00:00:00+01:00",
          "2019-12-31T00:00:00+01:00",
          "2020-01-31T00:00:00+01:00",
          "2020-02-29T00:00:00+01:00",
          "2020-03-31T00:00:00+02:00",
          "2020-04-30T00:00:00+02:00",
          "2020-05-31T00:00:00+02:00",
          "2020-06-30T00:00:00+02:00",
          "2020-07-31T00:00:00+02:00",
          "2020-08-31T00:00:00+02:00",
          "2020-09-30T00:00:00+02:00",
          "2020-10-31T00:00:00+01:00",
          "2020-11-30T00:00:00+01:00",
          "2020-12-31T00:00:00+01:00",
          "2021-01-31T00:00:00+01:00",
          "2021-02-28T00:00:00+01:00",
          "2021-03-31T00:00:00+02:00",
          "2021-04-30T00:00:00+02:00",
          "2021-05-31T00:00:00+02:00",
          "2021-06-30T00:00:00+02:00",
          "2021-07-31T00:00:00+02:00",
          "2021-08-31T00:00:00+02:00",
          "2021-09-30T00:00:00+02:00",
          "2021-10-31T00:00:00+02:00",
          "2021-11-30T00:00:00+01:00",
          "2021-12-31T00:00:00+01:00",
          "2022-01-31T00:00:00+01:00",
          "2022-02-28T00:00:00+01:00",
          "2022-03-31T00:00:00+02:00",
          "2022-04-30T00:00:00+02:00",
          "2022-05-31T00:00:00+02:00",
          "2022-06-30T00:00:00+02:00",
          "2022-07-31T00:00:00+02:00",
          "2022-08-31T00:00:00+02:00",
          "2022-09-30T00:00:00+02:00",
          "2022-10-31T00:00:00+01:00",
          "2022-11-30T00:00:00+01:00",
          "2022-12-31T00:00:00+01:00"
         ],
         "xaxis": "x2",
         "y": [
          null,
          28390.20000000001,
          268037.5,
          66024.09999999998,
          123714.09999999998,
          -11081,
          50937.20000000007,
          -60408.60000000009,
          -174958.59999999998,
          -79725.69999999995,
          -219717.2,
          56364.20000000001,
          50851.29999999999,
          -19121,
          213324.10000000003,
          49514.19999999995,
          146986,
          -42907.59999999998,
          23682.199999999953,
          -62134.19999999995,
          -117428.5,
          -165098.5,
          -20343.600000000035,
          -117375,
          -46220.79999999999,
          125041.5,
          199911.30000000005,
          11956.599999999977,
          105256,
          79812.40000000002,
          -363.9000000000233,
          -26744.300000000047,
          -135290.79999999993,
          -139592.6000000001,
          -165572.59999999998,
          -33676.09999999998,
          62447.79999999999,
          23240.5,
          223963.39999999997,
          125790.5,
          66018.30000000005,
          -15608.800000000047,
          53488.30000000005,
          -102018.19999999995,
          -73662,
          -92835.1000000001,
          -140226.59999999998,
          -102285.5,
          16189.800000000047,
          50572.29999999999,
          93170.79999999999,
          114811.90000000002,
          116801.59999999998,
          14111.300000000047,
          90811.8999999999,
          -66544.09999999998,
          -136386.90000000002,
          -133350.59999999998,
          -189875,
          42115,
          55065.20000000001,
          126953.20000000001,
          183754,
          -89088,
          229908.19999999995,
          158.10000000009313,
          64936.29999999993,
          -1149.2999999999302,
          -151433.30000000005,
          -41796.30000000005,
          -275120.1,
          -3622.1999999999534,
          107790.09999999998,
          328742.19999999995,
          96837.20000000007,
          78755.70000000007,
          477741.3999999999,
          131607.30000000005,
          98456,
          -66711.19999999995,
          -318732.30000000005,
          -152419.80000000005,
          -461147,
          -79713.59999999998,
          98488.79999999993,
          153756,
          665270.7,
          -23305.399999999907,
          663090.6000000001,
          -43536.80000000028,
          275157.9000000004,
          -171722.40000000037,
          -486676.8999999999,
          -127794,
          -445584,
          -271574.59999999986,
          453008.8999999999,
          164488.40000000014,
          -126485.30000000005,
          953843.0999999999,
          755705.534,
          -98976.80599999987,
          190483.78200000012,
          -131684.31100000022,
          -555144.9189999998,
          -579460.31,
          -520763.3800000001,
          -359124.45900000003
         ],
         "yaxis": "y2"
        }
       ],
       "layout": {
        "annotations": [
         {
          "font": {
           "size": 16
          },
          "showarrow": false,
          "text": "generation (Original)",
          "x": 0.5,
          "xanchor": "center",
          "xref": "paper",
          "y": 1,
          "yanchor": "bottom",
          "yref": "paper"
         },
         {
          "font": {
           "size": 16
          },
          "showarrow": false,
          "text": "Diff Stationarity",
          "x": 0.5,
          "xanchor": "center",
          "xref": "paper",
          "y": 0.425,
          "yanchor": "bottom",
          "yref": "paper"
         }
        ],
        "autosize": true,
        "showlegend": false,
        "template": {
         "data": {
          "bar": [
           {
            "error_x": {
             "color": "#2a3f5f"
            },
            "error_y": {
             "color": "#2a3f5f"
            },
            "marker": {
             "line": {
              "color": "#E5ECF6",
              "width": 0.5
             },
             "pattern": {
              "fillmode": "overlay",
              "size": 10,
              "solidity": 0.2
             }
            },
            "type": "bar"
           }
          ],
          "barpolar": [
           {
            "marker": {
             "line": {
              "color": "#E5ECF6",
              "width": 0.5
             },
             "pattern": {
              "fillmode": "overlay",
              "size": 10,
              "solidity": 0.2
             }
            },
            "type": "barpolar"
           }
          ],
          "carpet": [
           {
            "aaxis": {
             "endlinecolor": "#2a3f5f",
             "gridcolor": "white",
             "linecolor": "white",
             "minorgridcolor": "white",
             "startlinecolor": "#2a3f5f"
            },
            "baxis": {
             "endlinecolor": "#2a3f5f",
             "gridcolor": "white",
             "linecolor": "white",
             "minorgridcolor": "white",
             "startlinecolor": "#2a3f5f"
            },
            "type": "carpet"
           }
          ],
          "choropleth": [
           {
            "colorbar": {
             "outlinewidth": 0,
             "ticks": ""
            },
            "type": "choropleth"
           }
          ],
          "contour": [
           {
            "colorbar": {
             "outlinewidth": 0,
             "ticks": ""
            },
            "colorscale": [
             [
              0,
              "#0d0887"
             ],
             [
              0.1111111111111111,
              "#46039f"
             ],
             [
              0.2222222222222222,
              "#7201a8"
             ],
             [
              0.3333333333333333,
              "#9c179e"
             ],
             [
              0.4444444444444444,
              "#bd3786"
             ],
             [
              0.5555555555555556,
              "#d8576b"
             ],
             [
              0.6666666666666666,
              "#ed7953"
             ],
             [
              0.7777777777777778,
              "#fb9f3a"
             ],
             [
              0.8888888888888888,
              "#fdca26"
             ],
             [
              1,
              "#f0f921"
             ]
            ],
            "type": "contour"
           }
          ],
          "contourcarpet": [
           {
            "colorbar": {
             "outlinewidth": 0,
             "ticks": ""
            },
            "type": "contourcarpet"
           }
          ],
          "heatmap": [
           {
            "colorbar": {
             "outlinewidth": 0,
             "ticks": ""
            },
            "colorscale": [
             [
              0,
              "#0d0887"
             ],
             [
              0.1111111111111111,
              "#46039f"
             ],
             [
              0.2222222222222222,
              "#7201a8"
             ],
             [
              0.3333333333333333,
              "#9c179e"
             ],
             [
              0.4444444444444444,
              "#bd3786"
             ],
             [
              0.5555555555555556,
              "#d8576b"
             ],
             [
              0.6666666666666666,
              "#ed7953"
             ],
             [
              0.7777777777777778,
              "#fb9f3a"
             ],
             [
              0.8888888888888888,
              "#fdca26"
             ],
             [
              1,
              "#f0f921"
             ]
            ],
            "type": "heatmap"
           }
          ],
          "heatmapgl": [
           {
            "colorbar": {
             "outlinewidth": 0,
             "ticks": ""
            },
            "colorscale": [
             [
              0,
              "#0d0887"
             ],
             [
              0.1111111111111111,
              "#46039f"
             ],
             [
              0.2222222222222222,
              "#7201a8"
             ],
             [
              0.3333333333333333,
              "#9c179e"
             ],
             [
              0.4444444444444444,
              "#bd3786"
             ],
             [
              0.5555555555555556,
              "#d8576b"
             ],
             [
              0.6666666666666666,
              "#ed7953"
             ],
             [
              0.7777777777777778,
              "#fb9f3a"
             ],
             [
              0.8888888888888888,
              "#fdca26"
             ],
             [
              1,
              "#f0f921"
             ]
            ],
            "type": "heatmapgl"
           }
          ],
          "histogram": [
           {
            "marker": {
             "pattern": {
              "fillmode": "overlay",
              "size": 10,
              "solidity": 0.2
             }
            },
            "type": "histogram"
           }
          ],
          "histogram2d": [
           {
            "colorbar": {
             "outlinewidth": 0,
             "ticks": ""
            },
            "colorscale": [
             [
              0,
              "#0d0887"
             ],
             [
              0.1111111111111111,
              "#46039f"
             ],
             [
              0.2222222222222222,
              "#7201a8"
             ],
             [
              0.3333333333333333,
              "#9c179e"
             ],
             [
              0.4444444444444444,
              "#bd3786"
             ],
             [
              0.5555555555555556,
              "#d8576b"
             ],
             [
              0.6666666666666666,
              "#ed7953"
             ],
             [
              0.7777777777777778,
              "#fb9f3a"
             ],
             [
              0.8888888888888888,
              "#fdca26"
             ],
             [
              1,
              "#f0f921"
             ]
            ],
            "type": "histogram2d"
           }
          ],
          "histogram2dcontour": [
           {
            "colorbar": {
             "outlinewidth": 0,
             "ticks": ""
            },
            "colorscale": [
             [
              0,
              "#0d0887"
             ],
             [
              0.1111111111111111,
              "#46039f"
             ],
             [
              0.2222222222222222,
              "#7201a8"
             ],
             [
              0.3333333333333333,
              "#9c179e"
             ],
             [
              0.4444444444444444,
              "#bd3786"
             ],
             [
              0.5555555555555556,
              "#d8576b"
             ],
             [
              0.6666666666666666,
              "#ed7953"
             ],
             [
              0.7777777777777778,
              "#fb9f3a"
             ],
             [
              0.8888888888888888,
              "#fdca26"
             ],
             [
              1,
              "#f0f921"
             ]
            ],
            "type": "histogram2dcontour"
           }
          ],
          "mesh3d": [
           {
            "colorbar": {
             "outlinewidth": 0,
             "ticks": ""
            },
            "type": "mesh3d"
           }
          ],
          "parcoords": [
           {
            "line": {
             "colorbar": {
              "outlinewidth": 0,
              "ticks": ""
             }
            },
            "type": "parcoords"
           }
          ],
          "pie": [
           {
            "automargin": true,
            "type": "pie"
           }
          ],
          "scatter": [
           {
            "fillpattern": {
             "fillmode": "overlay",
             "size": 10,
             "solidity": 0.2
            },
            "type": "scatter"
           }
          ],
          "scatter3d": [
           {
            "line": {
             "colorbar": {
              "outlinewidth": 0,
              "ticks": ""
             }
            },
            "marker": {
             "colorbar": {
              "outlinewidth": 0,
              "ticks": ""
             }
            },
            "type": "scatter3d"
           }
          ],
          "scattercarpet": [
           {
            "marker": {
             "colorbar": {
              "outlinewidth": 0,
              "ticks": ""
             }
            },
            "type": "scattercarpet"
           }
          ],
          "scattergeo": [
           {
            "marker": {
             "colorbar": {
              "outlinewidth": 0,
              "ticks": ""
             }
            },
            "type": "scattergeo"
           }
          ],
          "scattergl": [
           {
            "marker": {
             "colorbar": {
              "outlinewidth": 0,
              "ticks": ""
             }
            },
            "type": "scattergl"
           }
          ],
          "scattermapbox": [
           {
            "marker": {
             "colorbar": {
              "outlinewidth": 0,
              "ticks": ""
             }
            },
            "type": "scattermapbox"
           }
          ],
          "scatterpolar": [
           {
            "marker": {
             "colorbar": {
              "outlinewidth": 0,
              "ticks": ""
             }
            },
            "type": "scatterpolar"
           }
          ],
          "scatterpolargl": [
           {
            "marker": {
             "colorbar": {
              "outlinewidth": 0,
              "ticks": ""
             }
            },
            "type": "scatterpolargl"
           }
          ],
          "scatterternary": [
           {
            "marker": {
             "colorbar": {
              "outlinewidth": 0,
              "ticks": ""
             }
            },
            "type": "scatterternary"
           }
          ],
          "surface": [
           {
            "colorbar": {
             "outlinewidth": 0,
             "ticks": ""
            },
            "colorscale": [
             [
              0,
              "#0d0887"
             ],
             [
              0.1111111111111111,
              "#46039f"
             ],
             [
              0.2222222222222222,
              "#7201a8"
             ],
             [
              0.3333333333333333,
              "#9c179e"
             ],
             [
              0.4444444444444444,
              "#bd3786"
             ],
             [
              0.5555555555555556,
              "#d8576b"
             ],
             [
              0.6666666666666666,
              "#ed7953"
             ],
             [
              0.7777777777777778,
              "#fb9f3a"
             ],
             [
              0.8888888888888888,
              "#fdca26"
             ],
             [
              1,
              "#f0f921"
             ]
            ],
            "type": "surface"
           }
          ],
          "table": [
           {
            "cells": {
             "fill": {
              "color": "#EBF0F8"
             },
             "line": {
              "color": "white"
             }
            },
            "header": {
             "fill": {
              "color": "#C8D4E3"
             },
             "line": {
              "color": "white"
             }
            },
            "type": "table"
           }
          ]
         },
         "layout": {
          "annotationdefaults": {
           "arrowcolor": "#2a3f5f",
           "arrowhead": 0,
           "arrowwidth": 1
          },
          "autotypenumbers": "strict",
          "coloraxis": {
           "colorbar": {
            "outlinewidth": 0,
            "ticks": ""
           }
          },
          "colorscale": {
           "diverging": [
            [
             0,
             "#8e0152"
            ],
            [
             0.1,
             "#c51b7d"
            ],
            [
             0.2,
             "#de77ae"
            ],
            [
             0.3,
             "#f1b6da"
            ],
            [
             0.4,
             "#fde0ef"
            ],
            [
             0.5,
             "#f7f7f7"
            ],
            [
             0.6,
             "#e6f5d0"
            ],
            [
             0.7,
             "#b8e186"
            ],
            [
             0.8,
             "#7fbc41"
            ],
            [
             0.9,
             "#4d9221"
            ],
            [
             1,
             "#276419"
            ]
           ],
           "sequential": [
            [
             0,
             "#0d0887"
            ],
            [
             0.1111111111111111,
             "#46039f"
            ],
            [
             0.2222222222222222,
             "#7201a8"
            ],
            [
             0.3333333333333333,
             "#9c179e"
            ],
            [
             0.4444444444444444,
             "#bd3786"
            ],
            [
             0.5555555555555556,
             "#d8576b"
            ],
            [
             0.6666666666666666,
             "#ed7953"
            ],
            [
             0.7777777777777778,
             "#fb9f3a"
            ],
            [
             0.8888888888888888,
             "#fdca26"
            ],
            [
             1,
             "#f0f921"
            ]
           ],
           "sequentialminus": [
            [
             0,
             "#0d0887"
            ],
            [
             0.1111111111111111,
             "#46039f"
            ],
            [
             0.2222222222222222,
             "#7201a8"
            ],
            [
             0.3333333333333333,
             "#9c179e"
            ],
            [
             0.4444444444444444,
             "#bd3786"
            ],
            [
             0.5555555555555556,
             "#d8576b"
            ],
            [
             0.6666666666666666,
             "#ed7953"
            ],
            [
             0.7777777777777778,
             "#fb9f3a"
            ],
            [
             0.8888888888888888,
             "#fdca26"
            ],
            [
             1,
             "#f0f921"
            ]
           ]
          },
          "colorway": [
           "#636efa",
           "#EF553B",
           "#00cc96",
           "#ab63fa",
           "#FFA15A",
           "#19d3f3",
           "#FF6692",
           "#B6E880",
           "#FF97FF",
           "#FECB52"
          ],
          "font": {
           "color": "#2a3f5f"
          },
          "geo": {
           "bgcolor": "white",
           "lakecolor": "white",
           "landcolor": "#E5ECF6",
           "showlakes": true,
           "showland": true,
           "subunitcolor": "white"
          },
          "hoverlabel": {
           "align": "left"
          },
          "hovermode": "closest",
          "mapbox": {
           "style": "light"
          },
          "paper_bgcolor": "white",
          "plot_bgcolor": "#E5ECF6",
          "polar": {
           "angularaxis": {
            "gridcolor": "white",
            "linecolor": "white",
            "ticks": ""
           },
           "bgcolor": "#E5ECF6",
           "radialaxis": {
            "gridcolor": "white",
            "linecolor": "white",
            "ticks": ""
           }
          },
          "scene": {
           "xaxis": {
            "backgroundcolor": "#E5ECF6",
            "gridcolor": "white",
            "gridwidth": 2,
            "linecolor": "white",
            "showbackground": true,
            "ticks": "",
            "zerolinecolor": "white"
           },
           "yaxis": {
            "backgroundcolor": "#E5ECF6",
            "gridcolor": "white",
            "gridwidth": 2,
            "linecolor": "white",
            "showbackground": true,
            "ticks": "",
            "zerolinecolor": "white"
           },
           "zaxis": {
            "backgroundcolor": "#E5ECF6",
            "gridcolor": "white",
            "gridwidth": 2,
            "linecolor": "white",
            "showbackground": true,
            "ticks": "",
            "zerolinecolor": "white"
           }
          },
          "shapedefaults": {
           "line": {
            "color": "#2a3f5f"
           }
          },
          "ternary": {
           "aaxis": {
            "gridcolor": "white",
            "linecolor": "white",
            "ticks": ""
           },
           "baxis": {
            "gridcolor": "white",
            "linecolor": "white",
            "ticks": ""
           },
           "bgcolor": "#E5ECF6",
           "caxis": {
            "gridcolor": "white",
            "linecolor": "white",
            "ticks": ""
           }
          },
          "title": {
           "x": 0.05
          },
          "xaxis": {
           "automargin": true,
           "gridcolor": "white",
           "linecolor": "white",
           "ticks": "",
           "title": {
            "standoff": 15
           },
           "zerolinecolor": "white",
           "zerolinewidth": 2
          },
          "yaxis": {
           "automargin": true,
           "gridcolor": "white",
           "linecolor": "white",
           "ticks": "",
           "title": {
            "standoff": 15
           },
           "zerolinecolor": "white",
           "zerolinewidth": 2
          }
         }
        },
        "title": {
         "text": "Total Solar Photovoltaic Energy Generation in Spain"
        },
        "xaxis": {
         "anchor": "y",
         "autorange": true,
         "domain": [
          0,
          1
         ],
         "range": [
          "2014-01-31",
          "2022-12-31"
         ],
         "type": "date"
        },
        "xaxis2": {
         "anchor": "y2",
         "autorange": true,
         "domain": [
          0,
          1
         ],
         "range": [
          "2014-01-31",
          "2022-12-31"
         ],
         "type": "date"
        },
        "yaxis": {
         "anchor": "x",
         "autorange": true,
         "domain": [
          0.575,
          1
         ],
         "range": [
          178667.25499999995,
          3488542.1550000003
         ],
         "type": "linear"
        },
        "yaxis2": {
         "anchor": "x2",
         "autorange": true,
         "domain": [
          0,
          0.425
         ],
         "range": [
          -664643.8327777778,
          1039026.6227777776
         ],
         "type": "linear"
        }
       }
      },
      "image/png": "[encoded data removed]"
     },
     "execution_count": null,
     "metadata": {},
     "output_type": "display_data"
    }
   ],
   "source": []
  },
  {
   "cell_type": "code",
   "execution_count": null,
   "metadata": {},
   "outputs": [
    {
     "data": {
      "application/vnd.plotly.v1+json": {
       "config": {
        "plotlyServerURL": "https://plotly.com"
       },
       "data": [
        {
         "name": "generation (Original)",
         "type": "scatter",
         "x": [
          "2014-01-31T00:00:00+01:00",
          "2014-02-28T00:00:00+01:00",
          "2014-03-31T00:00:00+02:00",
          "2014-04-30T00:00:00+02:00",
          "2014-05-31T00:00:00+02:00",
          "2014-06-30T00:00:00+02:00",
          "2014-07-31T00:00:00+02:00",
          "2014-08-31T00:00:00+02:00",
          "2014-09-30T00:00:00+02:00",
          "2014-10-31T00:00:00+01:00",
          "2014-11-30T00:00:00+01:00",
          "2014-12-31T00:00:00+01:00",
          "2015-01-31T00:00:00+01:00",
          "2015-02-28T00:00:00+01:00",
          "2015-03-31T00:00:00+02:00",
          "2015-04-30T00:00:00+02:00",
          "2015-05-31T00:00:00+02:00",
          "2015-06-30T00:00:00+02:00",
          "2015-07-31T00:00:00+02:00",
          "2015-08-31T00:00:00+02:00",
          "2015-09-30T00:00:00+02:00",
          "2015-10-31T00:00:00+01:00",
          "2015-11-30T00:00:00+01:00",
          "2015-12-31T00:00:00+01:00",
          "2016-01-31T00:00:00+01:00",
          "2016-02-29T00:00:00+01:00",
          "2016-03-31T00:00:00+02:00",
          "2016-04-30T00:00:00+02:00",
          "2016-05-31T00:00:00+02:00",
          "2016-06-30T00:00:00+02:00",
          "2016-07-31T00:00:00+02:00",
          "2016-08-31T00:00:00+02:00",
          "2016-09-30T00:00:00+02:00",
          "2016-10-31T00:00:00+01:00",
          "2016-11-30T00:00:00+01:00",
          "2016-12-31T00:00:00+01:00",
          "2017-01-31T00:00:00+01:00",
          "2017-02-28T00:00:00+01:00",
          "2017-03-31T00:00:00+02:00",
          "2017-04-30T00:00:00+02:00",
          "2017-05-31T00:00:00+02:00",
          "2017-06-30T00:00:00+02:00",
          "2017-07-31T00:00:00+02:00",
          "2017-08-31T00:00:00+02:00",
          "2017-09-30T00:00:00+02:00",
          "2017-10-31T00:00:00+01:00",
          "2017-11-30T00:00:00+01:00",
          "2017-12-31T00:00:00+01:00",
          "2018-01-31T00:00:00+01:00",
          "2018-02-28T00:00:00+01:00",
          "2018-03-31T00:00:00+02:00",
          "2018-04-30T00:00:00+02:00",
          "2018-05-31T00:00:00+02:00",
          "2018-06-30T00:00:00+02:00",
          "2018-07-31T00:00:00+02:00",
          "2018-08-31T00:00:00+02:00",
          "2018-09-30T00:00:00+02:00",
          "2018-10-31T00:00:00+01:00",
          "2018-11-30T00:00:00+01:00",
          "2018-12-31T00:00:00+01:00",
          "2019-01-31T00:00:00+01:00",
          "2019-02-28T00:00:00+01:00",
          "2019-03-31T00:00:00+01:00",
          "2019-04-30T00:00:00+02:00",
          "2019-05-31T00:00:00+02:00",
          "2019-06-30T00:00:00+02:00",
          "2019-07-31T00:00:00+02:00",
          "2019-08-31T00:00:00+02:00",
          "2019-09-30T00:00:00+02:00",
          "2019-10-31T00:00:00+01:00",
          "2019-11-30T00:00:00+01:00",
          "2019-12-31T00:00:00+01:00",
          "2020-01-31T00:00:00+01:00",
          "2020-02-29T00:00:00+01:00",
          "2020-03-31T00:00:00+02:00",
          "2020-04-30T00:00:00+02:00",
          "2020-05-31T00:00:00+02:00",
          "2020-06-30T00:00:00+02:00",
          "2020-07-31T00:00:00+02:00",
          "2020-08-31T00:00:00+02:00",
          "2020-09-30T00:00:00+02:00",
          "2020-10-31T00:00:00+01:00",
          "2020-11-30T00:00:00+01:00",
          "2020-12-31T00:00:00+01:00",
          "2021-01-31T00:00:00+01:00",
          "2021-02-28T00:00:00+01:00",
          "2021-03-31T00:00:00+02:00",
          "2021-04-30T00:00:00+02:00",
          "2021-05-31T00:00:00+02:00",
          "2021-06-30T00:00:00+02:00",
          "2021-07-31T00:00:00+02:00",
          "2021-08-31T00:00:00+02:00",
          "2021-09-30T00:00:00+02:00",
          "2021-10-31T00:00:00+02:00",
          "2021-11-30T00:00:00+01:00",
          "2021-12-31T00:00:00+01:00",
          "2022-01-31T00:00:00+01:00",
          "2022-02-28T00:00:00+01:00",
          "2022-03-31T00:00:00+02:00",
          "2022-04-30T00:00:00+02:00",
          "2022-05-31T00:00:00+02:00",
          "2022-06-30T00:00:00+02:00",
          "2022-07-31T00:00:00+02:00",
          "2022-08-31T00:00:00+02:00",
          "2022-09-30T00:00:00+02:00",
          "2022-10-31T00:00:00+01:00",
          "2022-11-30T00:00:00+01:00",
          "2022-12-31T00:00:00+01:00"
         ],
         "xaxis": "x",
         "y": [
          null,
          null,
          null,
          null,
          null,
          null,
          null,
          null,
          null,
          null,
          null,
          667900.2333333333,
          676102.525,
          680345.55,
          680029.125,
          678336.875,
          678583.9500000001,
          676178.8083333333,
          671502.4166666666,
          666682.225,
          666656.2083333334,
          659515.7916666666,
          668989.8416666667,
          663985.625,
          650892.0666666667,
          649812.0499999999,
          647614.2999999999,
          642286.75,
          633481.7000000001,
          634903.3166666667,
          634321.0916666667,
          636688.025,
          637566.4333333333,
          640570.3333333334,
          631471.8166666667,
          629348.2083333334,
          636280.3166666668,
          634729.0083333334,
          635182.0416666666,
          645121.2333333333,
          651790.6166666666,
          650508.2333333333,
          653713.5333333333,
          650646.0083333333,
          652714.2166666667,
          658678.8833333333,
          666755.7166666667,
          669115.1,
          667619.65,
          668401.85,
          658284.6666666666,
          647252.6,
          640452.475,
          636129.025,
          634915.875,
          636658.9,
          633174.85,
          626314.5083333334,
          615316.7999999999,
          616352.4666666667,
          620627.75,
          631268.1083333334,
          649457.0666666668,
          650654.3666666667,
          661277.2166666667,
          670737.2999999999,
          678041.0833333334,
          690794.4333333333,
          702293.9166666666,
          721422.9249999999,
          733448.1749999999,
          741661.9916666667,
          754269.5499999999,
          783692.8583333333,
          805873.1,
          842040.3166666665,
          898860.2999999999,
          966634.3833333333,
          1037201.775,
          1102305.675,
          1153467.9916666665,
          1195411.6833333333,
          1221853.1333333335,
          1241953.6333333333,
          1261279.0250000001,
          1266022.2333333334,
          1318134.9000000001,
          1361742.475,
          1420795.8166666667,
          1465253.8166666667,
          1524436.9749999999,
          1574869.2,
          1611306.0416666667,
          1649795.0333333332,
          1689580.9416666664,
          1713378.4333333333,
          1766719.2666666666,
          1820954.4666666666,
          1809210,
          1878894.575,
          1956297.0611666664,
          2029079.5468333333,
          2094805.856,
          2163868.6725833337,
          2227225.8209166666,
          2252944.1100833337,
          2272397.450916667,
          2284554.970166667
         ],
         "yaxis": "y"
        },
        {
         "name": "Diff Stationarity",
         "type": "scatter",
         "x": [
          "2014-01-31T00:00:00+01:00",
          "2014-02-28T00:00:00+01:00",
          "2014-03-31T00:00:00+02:00",
          "2014-04-30T00:00:00+02:00",
          "2014-05-31T00:00:00+02:00",
          "2014-06-30T00:00:00+02:00",
          "2014-07-31T00:00:00+02:00",
          "2014-08-31T00:00:00+02:00",
          "2014-09-30T00:00:00+02:00",
          "2014-10-31T00:00:00+01:00",
          "2014-11-30T00:00:00+01:00",
          "2014-12-31T00:00:00+01:00",
          "2015-01-31T00:00:00+01:00",
          "2015-02-28T00:00:00+01:00",
          "2015-03-31T00:00:00+02:00",
          "2015-04-30T00:00:00+02:00",
          "2015-05-31T00:00:00+02:00",
          "2015-06-30T00:00:00+02:00",
          "2015-07-31T00:00:00+02:00",
          "2015-08-31T00:00:00+02:00",
          "2015-09-30T00:00:00+02:00",
          "2015-10-31T00:00:00+01:00",
          "2015-11-30T00:00:00+01:00",
          "2015-12-31T00:00:00+01:00",
          "2016-01-31T00:00:00+01:00",
          "2016-02-29T00:00:00+01:00",
          "2016-03-31T00:00:00+02:00",
          "2016-04-30T00:00:00+02:00",
          "2016-05-31T00:00:00+02:00",
          "2016-06-30T00:00:00+02:00",
          "2016-07-31T00:00:00+02:00",
          "2016-08-31T00:00:00+02:00",
          "2016-09-30T00:00:00+02:00",
          "2016-10-31T00:00:00+01:00",
          "2016-11-30T00:00:00+01:00",
          "2016-12-31T00:00:00+01:00",
          "2017-01-31T00:00:00+01:00",
          "2017-02-28T00:00:00+01:00",
          "2017-03-31T00:00:00+02:00",
          "2017-04-30T00:00:00+02:00",
          "2017-05-31T00:00:00+02:00",
          "2017-06-30T00:00:00+02:00",
          "2017-07-31T00:00:00+02:00",
          "2017-08-31T00:00:00+02:00",
          "2017-09-30T00:00:00+02:00",
          "2017-10-31T00:00:00+01:00",
          "2017-11-30T00:00:00+01:00",
          "2017-12-31T00:00:00+01:00",
          "2018-01-31T00:00:00+01:00",
          "2018-02-28T00:00:00+01:00",
          "2018-03-31T00:00:00+02:00",
          "2018-04-30T00:00:00+02:00",
          "2018-05-31T00:00:00+02:00",
          "2018-06-30T00:00:00+02:00",
          "2018-07-31T00:00:00+02:00",
          "2018-08-31T00:00:00+02:00",
          "2018-09-30T00:00:00+02:00",
          "2018-10-31T00:00:00+01:00",
          "2018-11-30T00:00:00+01:00",
          "2018-12-31T00:00:00+01:00",
          "2019-01-31T00:00:00+01:00",
          "2019-02-28T00:00:00+01:00",
          "2019-03-31T00:00:00+01:00",
          "2019-04-30T00:00:00+02:00",
          "2019-05-31T00:00:00+02:00",
          "2019-06-30T00:00:00+02:00",
          "2019-07-31T00:00:00+02:00",
          "2019-08-31T00:00:00+02:00",
          "2019-09-30T00:00:00+02:00",
          "2019-10-31T00:00:00+01:00",
          "2019-11-30T00:00:00+01:00",
          "2019-12-31T00:00:00+01:00",
          "2020-01-31T00:00:00+01:00",
          "2020-02-29T00:00:00+01:00",
          "2020-03-31T00:00:00+02:00",
          "2020-04-30T00:00:00+02:00",
          "2020-05-31T00:00:00+02:00",
          "2020-06-30T00:00:00+02:00",
          "2020-07-31T00:00:00+02:00",
          "2020-08-31T00:00:00+02:00",
          "2020-09-30T00:00:00+02:00",
          "2020-10-31T00:00:00+01:00",
          "2020-11-30T00:00:00+01:00",
          "2020-12-31T00:00:00+01:00",
          "2021-01-31T00:00:00+01:00",
          "2021-02-28T00:00:00+01:00",
          "2021-03-31T00:00:00+02:00",
          "2021-04-30T00:00:00+02:00",
          "2021-05-31T00:00:00+02:00",
          "2021-06-30T00:00:00+02:00",
          "2021-07-31T00:00:00+02:00",
          "2021-08-31T00:00:00+02:00",
          "2021-09-30T00:00:00+02:00",
          "2021-10-31T00:00:00+02:00",
          "2021-11-30T00:00:00+01:00",
          "2021-12-31T00:00:00+01:00",
          "2022-01-31T00:00:00+01:00",
          "2022-02-28T00:00:00+01:00",
          "2022-03-31T00:00:00+02:00",
          "2022-04-30T00:00:00+02:00",
          "2022-05-31T00:00:00+02:00",
          "2022-06-30T00:00:00+02:00",
          "2022-07-31T00:00:00+02:00",
          "2022-08-31T00:00:00+02:00",
          "2022-09-30T00:00:00+02:00",
          "2022-10-31T00:00:00+01:00",
          "2022-11-30T00:00:00+01:00",
          "2022-12-31T00:00:00+01:00"
         ],
         "xaxis": "x2",
         "y": [
          null,
          null,
          null,
          null,
          null,
          null,
          null,
          null,
          null,
          null,
          null,
          null,
          8202.291666666666,
          4243.024999999999,
          -316.4249999999981,
          -1692.25,
          247.07500000000195,
          -2405.141666666663,
          -4676.391666666673,
          -4820.191666666661,
          -26.016666666662786,
          -7140.416666666667,
          9474.049999999997,
          -5004.21666666667,
          -13093.558333333334,
          -1080.0166666666676,
          -2197.75,
          -5327.549999999998,
          -8805.049999999997,
          1421.6166666666686,
          -582.2249999999962,
          2366.9333333333293,
          878.4083333333352,
          3003.899999999994,
          -9098.516666666668,
          -2123.608333333332,
          6932.108333333333,
          -1551.3083333333343,
          453.0333333333256,
          9939.19166666666,
          6669.383333333331,
          -1282.3833333333412,
          3205.299999999998,
          -3067.524999999994,
          2068.2083333333335,
          5964.666666666667,
          8076.833333333333,
          2359.3833333333314,
          -1495.449999999997,
          782.200000000002,
          -10117.183333333329,
          -11032.06666666666,
          -6800.125,
          -4323.4499999999925,
          -1213.150000000004,
          1743.0249999999942,
          -3484.050000000008,
          -6860.341666666664,
          -10997.708333333334,
          1035.6666666666667,
          4275.28333333333,
          10640.358333333332,
          18188.958333333332,
          1197.2999999999981,
          10622.849999999997,
          9460.083333333334,
          7303.783333333336,
          12753.350000000006,
          11499.483333333337,
          19129.00833333333,
          12025.25,
          8213.816666666671,
          12607.558333333334,
          29423.30833333333,
          22180.24166666667,
          36167.216666666674,
          56819.98333333334,
          67774.08333333333,
          70567.39166666668,
          65103.9,
          51162.31666666667,
          41943.69166666667,
          26441.45,
          20100.5,
          19325.391666666663,
          4743.208333333333,
          52112.66666666666,
          43607.57499999999,
          59053.341666666674,
          44457.99999999998,
          59183.15833333335,
          50432.22499999998,
          36436.84166666665,
          38488.99166666666,
          39785.908333333326,
          23797.49166666667,
          53340.833333333336,
          54235.20000000001,
          -11744.466666666654,
          69684.575,
          77402.48616666665,
          72782.48566666669,
          65726.30916666666,
          69062.81658333335,
          63357.14833333335,
          25718.289166666684,
          19453.34083333334,
          12157.519249999992
         ],
         "yaxis": "y2"
        }
       ],
       "layout": {
        "annotations": [
         {
          "font": {
           "size": 16
          },
          "showarrow": false,
          "text": "generation (Original)",
          "x": 0.5,
          "xanchor": "center",
          "xref": "paper",
          "y": 1,
          "yanchor": "bottom",
          "yref": "paper"
         },
         {
          "font": {
           "size": 16
          },
          "showarrow": false,
          "text": "Diff Stationarity",
          "x": 0.5,
          "xanchor": "center",
          "xref": "paper",
          "y": 0.425,
          "yanchor": "bottom",
          "yref": "paper"
         }
        ],
        "autosize": true,
        "showlegend": false,
        "template": {
         "data": {
          "bar": [
           {
            "error_x": {
             "color": "#2a3f5f"
            },
            "error_y": {
             "color": "#2a3f5f"
            },
            "marker": {
             "line": {
              "color": "#E5ECF6",
              "width": 0.5
             },
             "pattern": {
              "fillmode": "overlay",
              "size": 10,
              "solidity": 0.2
             }
            },
            "type": "bar"
           }
          ],
          "barpolar": [
           {
            "marker": {
             "line": {
              "color": "#E5ECF6",
              "width": 0.5
             },
             "pattern": {
              "fillmode": "overlay",
              "size": 10,
              "solidity": 0.2
             }
            },
            "type": "barpolar"
           }
          ],
          "carpet": [
           {
            "aaxis": {
             "endlinecolor": "#2a3f5f",
             "gridcolor": "white",
             "linecolor": "white",
             "minorgridcolor": "white",
             "startlinecolor": "#2a3f5f"
            },
            "baxis": {
             "endlinecolor": "#2a3f5f",
             "gridcolor": "white",
             "linecolor": "white",
             "minorgridcolor": "white",
             "startlinecolor": "#2a3f5f"
            },
            "type": "carpet"
           }
          ],
          "choropleth": [
           {
            "colorbar": {
             "outlinewidth": 0,
             "ticks": ""
            },
            "type": "choropleth"
           }
          ],
          "contour": [
           {
            "colorbar": {
             "outlinewidth": 0,
             "ticks": ""
            },
            "colorscale": [
             [
              0,
              "#0d0887"
             ],
             [
              0.1111111111111111,
              "#46039f"
             ],
             [
              0.2222222222222222,
              "#7201a8"
             ],
             [
              0.3333333333333333,
              "#9c179e"
             ],
             [
              0.4444444444444444,
              "#bd3786"
             ],
             [
              0.5555555555555556,
              "#d8576b"
             ],
             [
              0.6666666666666666,
              "#ed7953"
             ],
             [
              0.7777777777777778,
              "#fb9f3a"
             ],
             [
              0.8888888888888888,
              "#fdca26"
             ],
             [
              1,
              "#f0f921"
             ]
            ],
            "type": "contour"
           }
          ],
          "contourcarpet": [
           {
            "colorbar": {
             "outlinewidth": 0,
             "ticks": ""
            },
            "type": "contourcarpet"
           }
          ],
          "heatmap": [
           {
            "colorbar": {
             "outlinewidth": 0,
             "ticks": ""
            },
            "colorscale": [
             [
              0,
              "#0d0887"
             ],
             [
              0.1111111111111111,
              "#46039f"
             ],
             [
              0.2222222222222222,
              "#7201a8"
             ],
             [
              0.3333333333333333,
              "#9c179e"
             ],
             [
              0.4444444444444444,
              "#bd3786"
             ],
             [
              0.5555555555555556,
              "#d8576b"
             ],
             [
              0.6666666666666666,
              "#ed7953"
             ],
             [
              0.7777777777777778,
              "#fb9f3a"
             ],
             [
              0.8888888888888888,
              "#fdca26"
             ],
             [
              1,
              "#f0f921"
             ]
            ],
            "type": "heatmap"
           }
          ],
          "heatmapgl": [
           {
            "colorbar": {
             "outlinewidth": 0,
             "ticks": ""
            },
            "colorscale": [
             [
              0,
              "#0d0887"
             ],
             [
              0.1111111111111111,
              "#46039f"
             ],
             [
              0.2222222222222222,
              "#7201a8"
             ],
             [
              0.3333333333333333,
              "#9c179e"
             ],
             [
              0.4444444444444444,
              "#bd3786"
             ],
             [
              0.5555555555555556,
              "#d8576b"
             ],
             [
              0.6666666666666666,
              "#ed7953"
             ],
             [
              0.7777777777777778,
              "#fb9f3a"
             ],
             [
              0.8888888888888888,
              "#fdca26"
             ],
             [
              1,
              "#f0f921"
             ]
            ],
            "type": "heatmapgl"
           }
          ],
          "histogram": [
           {
            "marker": {
             "pattern": {
              "fillmode": "overlay",
              "size": 10,
              "solidity": 0.2
             }
            },
            "type": "histogram"
           }
          ],
          "histogram2d": [
           {
            "colorbar": {
             "outlinewidth": 0,
             "ticks": ""
            },
            "colorscale": [
             [
              0,
              "#0d0887"
             ],
             [
              0.1111111111111111,
              "#46039f"
             ],
             [
              0.2222222222222222,
              "#7201a8"
             ],
             [
              0.3333333333333333,
              "#9c179e"
             ],
             [
              0.4444444444444444,
              "#bd3786"
             ],
             [
              0.5555555555555556,
              "#d8576b"
             ],
             [
              0.6666666666666666,
              "#ed7953"
             ],
             [
              0.7777777777777778,
              "#fb9f3a"
             ],
             [
              0.8888888888888888,
              "#fdca26"
             ],
             [
              1,
              "#f0f921"
             ]
            ],
            "type": "histogram2d"
           }
          ],
          "histogram2dcontour": [
           {
            "colorbar": {
             "outlinewidth": 0,
             "ticks": ""
            },
            "colorscale": [
             [
              0,
              "#0d0887"
             ],
             [
              0.1111111111111111,
              "#46039f"
             ],
             [
              0.2222222222222222,
              "#7201a8"
             ],
             [
              0.3333333333333333,
              "#9c179e"
             ],
             [
              0.4444444444444444,
              "#bd3786"
             ],
             [
              0.5555555555555556,
              "#d8576b"
             ],
             [
              0.6666666666666666,
              "#ed7953"
             ],
             [
              0.7777777777777778,
              "#fb9f3a"
             ],
             [
              0.8888888888888888,
              "#fdca26"
             ],
             [
              1,
              "#f0f921"
             ]
            ],
            "type": "histogram2dcontour"
           }
          ],
          "mesh3d": [
           {
            "colorbar": {
             "outlinewidth": 0,
             "ticks": ""
            },
            "type": "mesh3d"
           }
          ],
          "parcoords": [
           {
            "line": {
             "colorbar": {
              "outlinewidth": 0,
              "ticks": ""
             }
            },
            "type": "parcoords"
           }
          ],
          "pie": [
           {
            "automargin": true,
            "type": "pie"
           }
          ],
          "scatter": [
           {
            "fillpattern": {
             "fillmode": "overlay",
             "size": 10,
             "solidity": 0.2
            },
            "type": "scatter"
           }
          ],
          "scatter3d": [
           {
            "line": {
             "colorbar": {
              "outlinewidth": 0,
              "ticks": ""
             }
            },
            "marker": {
             "colorbar": {
              "outlinewidth": 0,
              "ticks": ""
             }
            },
            "type": "scatter3d"
           }
          ],
          "scattercarpet": [
           {
            "marker": {
             "colorbar": {
              "outlinewidth": 0,
              "ticks": ""
             }
            },
            "type": "scattercarpet"
           }
          ],
          "scattergeo": [
           {
            "marker": {
             "colorbar": {
              "outlinewidth": 0,
              "ticks": ""
             }
            },
            "type": "scattergeo"
           }
          ],
          "scattergl": [
           {
            "marker": {
             "colorbar": {
              "outlinewidth": 0,
              "ticks": ""
             }
            },
            "type": "scattergl"
           }
          ],
          "scattermapbox": [
           {
            "marker": {
             "colorbar": {
              "outlinewidth": 0,
              "ticks": ""
             }
            },
            "type": "scattermapbox"
           }
          ],
          "scatterpolar": [
           {
            "marker": {
             "colorbar": {
              "outlinewidth": 0,
              "ticks": ""
             }
            },
            "type": "scatterpolar"
           }
          ],
          "scatterpolargl": [
           {
            "marker": {
             "colorbar": {
              "outlinewidth": 0,
              "ticks": ""
             }
            },
            "type": "scatterpolargl"
           }
          ],
          "scatterternary": [
           {
            "marker": {
             "colorbar": {
              "outlinewidth": 0,
              "ticks": ""
             }
            },
            "type": "scatterternary"
           }
          ],
          "surface": [
           {
            "colorbar": {
             "outlinewidth": 0,
             "ticks": ""
            },
            "colorscale": [
             [
              0,
              "#0d0887"
             ],
             [
              0.1111111111111111,
              "#46039f"
             ],
             [
              0.2222222222222222,
              "#7201a8"
             ],
             [
              0.3333333333333333,
              "#9c179e"
             ],
             [
              0.4444444444444444,
              "#bd3786"
             ],
             [
              0.5555555555555556,
              "#d8576b"
             ],
             [
              0.6666666666666666,
              "#ed7953"
             ],
             [
              0.7777777777777778,
              "#fb9f3a"
             ],
             [
              0.8888888888888888,
              "#fdca26"
             ],
             [
              1,
              "#f0f921"
             ]
            ],
            "type": "surface"
           }
          ],
          "table": [
           {
            "cells": {
             "fill": {
              "color": "#EBF0F8"
             },
             "line": {
              "color": "white"
             }
            },
            "header": {
             "fill": {
              "color": "#C8D4E3"
             },
             "line": {
              "color": "white"
             }
            },
            "type": "table"
           }
          ]
         },
         "layout": {
          "annotationdefaults": {
           "arrowcolor": "#2a3f5f",
           "arrowhead": 0,
           "arrowwidth": 1
          },
          "autotypenumbers": "strict",
          "coloraxis": {
           "colorbar": {
            "outlinewidth": 0,
            "ticks": ""
           }
          },
          "colorscale": {
           "diverging": [
            [
             0,
             "#8e0152"
            ],
            [
             0.1,
             "#c51b7d"
            ],
            [
             0.2,
             "#de77ae"
            ],
            [
             0.3,
             "#f1b6da"
            ],
            [
             0.4,
             "#fde0ef"
            ],
            [
             0.5,
             "#f7f7f7"
            ],
            [
             0.6,
             "#e6f5d0"
            ],
            [
             0.7,
             "#b8e186"
            ],
            [
             0.8,
             "#7fbc41"
            ],
            [
             0.9,
             "#4d9221"
            ],
            [
             1,
             "#276419"
            ]
           ],
           "sequential": [
            [
             0,
             "#0d0887"
            ],
            [
             0.1111111111111111,
             "#46039f"
            ],
            [
             0.2222222222222222,
             "#7201a8"
            ],
            [
             0.3333333333333333,
             "#9c179e"
            ],
            [
             0.4444444444444444,
             "#bd3786"
            ],
            [
             0.5555555555555556,
             "#d8576b"
            ],
            [
             0.6666666666666666,
             "#ed7953"
            ],
            [
             0.7777777777777778,
             "#fb9f3a"
            ],
            [
             0.8888888888888888,
             "#fdca26"
            ],
            [
             1,
             "#f0f921"
            ]
           ],
           "sequentialminus": [
            [
             0,
             "#0d0887"
            ],
            [
             0.1111111111111111,
             "#46039f"
            ],
            [
             0.2222222222222222,
             "#7201a8"
            ],
            [
             0.3333333333333333,
             "#9c179e"
            ],
            [
             0.4444444444444444,
             "#bd3786"
            ],
            [
             0.5555555555555556,
             "#d8576b"
            ],
            [
             0.6666666666666666,
             "#ed7953"
            ],
            [
             0.7777777777777778,
             "#fb9f3a"
            ],
            [
             0.8888888888888888,
             "#fdca26"
            ],
            [
             1,
             "#f0f921"
            ]
           ]
          },
          "colorway": [
           "#636efa",
           "#EF553B",
           "#00cc96",
           "#ab63fa",
           "#FFA15A",
           "#19d3f3",
           "#FF6692",
           "#B6E880",
           "#FF97FF",
           "#FECB52"
          ],
          "font": {
           "color": "#2a3f5f"
          },
          "geo": {
           "bgcolor": "white",
           "lakecolor": "white",
           "landcolor": "#E5ECF6",
           "showlakes": true,
           "showland": true,
           "subunitcolor": "white"
          },
          "hoverlabel": {
           "align": "left"
          },
          "hovermode": "closest",
          "mapbox": {
           "style": "light"
          },
          "paper_bgcolor": "white",
          "plot_bgcolor": "#E5ECF6",
          "polar": {
           "angularaxis": {
            "gridcolor": "white",
            "linecolor": "white",
            "ticks": ""
           },
           "bgcolor": "#E5ECF6",
           "radialaxis": {
            "gridcolor": "white",
            "linecolor": "white",
            "ticks": ""
           }
          },
          "scene": {
           "xaxis": {
            "backgroundcolor": "#E5ECF6",
            "gridcolor": "white",
            "gridwidth": 2,
            "linecolor": "white",
            "showbackground": true,
            "ticks": "",
            "zerolinecolor": "white"
           },
           "yaxis": {
            "backgroundcolor": "#E5ECF6",
            "gridcolor": "white",
            "gridwidth": 2,
            "linecolor": "white",
            "showbackground": true,
            "ticks": "",
            "zerolinecolor": "white"
           },
           "zaxis": {
            "backgroundcolor": "#E5ECF6",
            "gridcolor": "white",
            "gridwidth": 2,
            "linecolor": "white",
            "showbackground": true,
            "ticks": "",
            "zerolinecolor": "white"
           }
          },
          "shapedefaults": {
           "line": {
            "color": "#2a3f5f"
           }
          },
          "ternary": {
           "aaxis": {
            "gridcolor": "white",
            "linecolor": "white",
            "ticks": ""
           },
           "baxis": {
            "gridcolor": "white",
            "linecolor": "white",
            "ticks": ""
           },
           "bgcolor": "#E5ECF6",
           "caxis": {
            "gridcolor": "white",
            "linecolor": "white",
            "ticks": ""
           }
          },
          "title": {
           "x": 0.05
          },
          "xaxis": {
           "automargin": true,
           "gridcolor": "white",
           "linecolor": "white",
           "ticks": "",
           "title": {
            "standoff": 15
           },
           "zerolinecolor": "white",
           "zerolinewidth": 2
          },
          "yaxis": {
           "automargin": true,
           "gridcolor": "white",
           "linecolor": "white",
           "ticks": "",
           "title": {
            "standoff": 15
           },
           "zerolinecolor": "white",
           "zerolinewidth": 2
          }
         }
        },
        "title": {
         "text": "Trend (S) Moving Average of Solar Photovoltaic Energy Generation in Spain"
        },
        "xaxis": {
         "anchor": "y",
         "autorange": true,
         "domain": [
          0,
          1
         ],
         "range": [
          "2014-01-31",
          "2022-12-31"
         ],
         "type": "date"
        },
        "xaxis2": {
         "anchor": "y2",
         "autorange": true,
         "domain": [
          0,
          1
         ],
         "range": [
          "2014-01-31",
          "2022-12-31"
         ],
         "type": "date"
        },
        "yaxis": {
         "anchor": "x",
         "autorange": true,
         "domain": [
          0.575,
          1
         ],
         "range": [
          522581.3461018517,
          2377290.424064815
         ],
         "type": "linear"
        },
        "yaxis2": {
         "anchor": "x2",
         "autorange": true,
         "domain": [
          0,
          0.425
         ],
         "range": [
          -18121.11636111111,
          82430.04419444443
         ],
         "type": "linear"
        }
       }
      },
      "image/png": "[encoded data removed]"
     },
     "execution_count": null,
     "metadata": {},
     "output_type": "display_data"
    }
   ],
   "source": []
  },
  {
   "cell_type": "markdown",
   "metadata": {},
   "source": [
    "## ADF and KPSS Test Implementation"
   ]
  },
  {
   "cell_type": "markdown",
   "metadata": {},
   "source": [
    "### ADF Test"
   ]
  },
  {
   "cell_type": "code",
   "execution_count": null,
   "metadata": {},
   "outputs": [
    {
     "execution_count": null,
     "name": "stdout",
     "output_type": "stream",
     "text": [
      "ADF Statistic: -1.4702429007702158\n",
      "p-value: 0.5481770572138072\n"
     ]
    }
   ],
   "source": []
  },
  {
   "cell_type": "markdown",
   "metadata": {},
   "source": [
    "### KPSS Test"
   ]
  },
  {
   "cell_type": "code",
   "execution_count": null,
   "metadata": {},
   "outputs": [
    {
     "execution_count": null,
     "name": "stdout",
     "output_type": "stream",
     "text": [
      "\n",
      "KPSS Statistic: 0.030916561193312892\n",
      "p-value: 0.1\n"
     ]
    },
    {
     "execution_count": null,
     "name": "stderr",
     "output_type": "stream",
     "text": [
      "/var/folders/xm/_8bv9n2n5f3f64xxt_d5_l880000gn/T/ipykernel_2969/3680348055.py:1: InterpolationWarning:\n",
      "\n",
      "The test statistic is outside of the range of p-values available in the\n",
      "look-up table. The actual p-value is greater than the p-value returned.\n",
      "\n",
      "\n"
     ]
    }
   ],
   "source": []
  },
  {
   "cell_type": "markdown",
   "metadata": {},
   "source": [
    "## Seasonal Differencing\n",
    "Seasonal differencing (e.g., over 12 periods) may be required for data with strong seasonal patterns. After differencing, reapply ADF and KPSS tests."
   ]
  },
  {
   "cell_type": "code",
   "execution_count": null,
   "metadata": {},
   "outputs": [
    {
     "data": {
      "text/html": [
       "<div>\n",
       "<style scoped>\n",
       "    .dataframe tbody tr th:only-of-type {\n",
       "        vertical-align: middle;\n",
       "    }\n",
       "\n",
       "    .dataframe tbody tr th {\n",
       "        vertical-align: top;\n",
       "    }\n",
       "\n",
       "    .dataframe thead th {\n",
       "        text-align: right;\n",
       "    }\n",
       "</style>\n",
       "<table border=\"1\" class=\"dataframe\">\n",
       "  <thead>\n",
       "    <tr style=\"text-align: right;\">\n",
       "      <th></th>\n",
       "      <th>generation</th>\n",
       "      <th>diff_stationarity</th>\n",
       "      <th>diff_seasonality_12</th>\n",
       "    </tr>\n",
       "    <tr>\n",
       "      <th>datetime_utc</th>\n",
       "      <th></th>\n",
       "      <th></th>\n",
       "      <th></th>\n",
       "    </tr>\n",
       "  </thead>\n",
       "  <tbody>\n",
       "    <tr>\n",
       "      <th>2014-01-31 00:00:00+01:00</th>\n",
       "      <td>402856.200</td>\n",
       "      <td>NaN</td>\n",
       "      <td>NaN</td>\n",
       "    </tr>\n",
       "    <tr>\n",
       "      <th>2014-02-28 00:00:00+01:00</th>\n",
       "      <td>431246.400</td>\n",
       "      <td>28390.200</td>\n",
       "      <td>NaN</td>\n",
       "    </tr>\n",
       "    <tr>\n",
       "      <th>2014-03-31 00:00:00+02:00</th>\n",
       "      <td>699283.900</td>\n",
       "      <td>268037.500</td>\n",
       "      <td>NaN</td>\n",
       "    </tr>\n",
       "    <tr>\n",
       "      <th>2014-04-30 00:00:00+02:00</th>\n",
       "      <td>765308.000</td>\n",
       "      <td>66024.100</td>\n",
       "      <td>NaN</td>\n",
       "    </tr>\n",
       "    <tr>\n",
       "      <th>2014-05-31 00:00:00+02:00</th>\n",
       "      <td>889022.100</td>\n",
       "      <td>123714.100</td>\n",
       "      <td>NaN</td>\n",
       "    </tr>\n",
       "    <tr>\n",
       "      <th>...</th>\n",
       "      <td>...</td>\n",
       "      <td>...</td>\n",
       "      <td>...</td>\n",
       "    </tr>\n",
       "    <tr>\n",
       "      <th>2022-08-31 00:00:00+02:00</th>\n",
       "      <td>3191364.099</td>\n",
       "      <td>-131684.311</td>\n",
       "      <td>40038.089</td>\n",
       "    </tr>\n",
       "    <tr>\n",
       "      <th>2022-09-30 00:00:00+02:00</th>\n",
       "      <td>2636219.180</td>\n",
       "      <td>-555144.919</td>\n",
       "      <td>-68468.019</td>\n",
       "    </tr>\n",
       "    <tr>\n",
       "      <th>2022-10-31 00:00:00+01:00</th>\n",
       "      <td>2056758.870</td>\n",
       "      <td>-579460.310</td>\n",
       "      <td>-451666.310</td>\n",
       "    </tr>\n",
       "    <tr>\n",
       "      <th>2022-11-30 00:00:00+01:00</th>\n",
       "      <td>1535995.490</td>\n",
       "      <td>-520763.380</td>\n",
       "      <td>-75179.380</td>\n",
       "    </tr>\n",
       "    <tr>\n",
       "      <th>2022-12-31 00:00:00+01:00</th>\n",
       "      <td>1176871.031</td>\n",
       "      <td>-359124.459</td>\n",
       "      <td>-87549.859</td>\n",
       "    </tr>\n",
       "  </tbody>\n",
       "</table>\n",
       "<p>108 rows × 3 columns</p>\n",
       "</div>"
      ],
      "text/plain": [
       "                            generation  diff_stationarity  diff_seasonality_12\n",
       "datetime_utc                                                                  \n",
       "2014-01-31 00:00:00+01:00   402856.200                NaN                  NaN\n",
       "2014-02-28 00:00:00+01:00   431246.400          28390.200                  NaN\n",
       "2014-03-31 00:00:00+02:00   699283.900         268037.500                  NaN\n",
       "2014-04-30 00:00:00+02:00   765308.000          66024.100                  NaN\n",
       "2014-05-31 00:00:00+02:00   889022.100         123714.100                  NaN\n",
       "...                                ...                ...                  ...\n",
       "2022-08-31 00:00:00+02:00  3191364.099        -131684.311            40038.089\n",
       "2022-09-30 00:00:00+02:00  2636219.180        -555144.919           -68468.019\n",
       "2022-10-31 00:00:00+01:00  2056758.870        -579460.310          -451666.310\n",
       "2022-11-30 00:00:00+01:00  1535995.490        -520763.380           -75179.380\n",
       "2022-12-31 00:00:00+01:00  1176871.031        -359124.459           -87549.859\n",
       "\n",
       "[108 rows x 3 columns]"
      ]
     },
     "execution_count": null,
     "metadata": {},
     "output_type": "execute_result"
    }
   ],
   "source": []
  },
  {
   "cell_type": "code",
   "execution_count": null,
   "metadata": {},
   "outputs": [
    {
     "data": {
      "application/vnd.plotly.v1+json": {
       "config": {
        "plotlyServerURL": "https://plotly.com"
       },
       "data": [
        {
         "name": "generation (Original)",
         "type": "scatter",
         "x": [
          "2014-01-31T00:00:00+01:00",
          "2014-02-28T00:00:00+01:00",
          "2014-03-31T00:00:00+02:00",
          "2014-04-30T00:00:00+02:00",
          "2014-05-31T00:00:00+02:00",
          "2014-06-30T00:00:00+02:00",
          "2014-07-31T00:00:00+02:00",
          "2014-08-31T00:00:00+02:00",
          "2014-09-30T00:00:00+02:00",
          "2014-10-31T00:00:00+01:00",
          "2014-11-30T00:00:00+01:00",
          "2014-12-31T00:00:00+01:00",
          "2015-01-31T00:00:00+01:00",
          "2015-02-28T00:00:00+01:00",
          "2015-03-31T00:00:00+02:00",
          "2015-04-30T00:00:00+02:00",
          "2015-05-31T00:00:00+02:00",
          "2015-06-30T00:00:00+02:00",
          "2015-07-31T00:00:00+02:00",
          "2015-08-31T00:00:00+02:00",
          "2015-09-30T00:00:00+02:00",
          "2015-10-31T00:00:00+01:00",
          "2015-11-30T00:00:00+01:00",
          "2015-12-31T00:00:00+01:00",
          "2016-01-31T00:00:00+01:00",
          "2016-02-29T00:00:00+01:00",
          "2016-03-31T00:00:00+02:00",
          "2016-04-30T00:00:00+02:00",
          "2016-05-31T00:00:00+02:00",
          "2016-06-30T00:00:00+02:00",
          "2016-07-31T00:00:00+02:00",
          "2016-08-31T00:00:00+02:00",
          "2016-09-30T00:00:00+02:00",
          "2016-10-31T00:00:00+01:00",
          "2016-11-30T00:00:00+01:00",
          "2016-12-31T00:00:00+01:00",
          "2017-01-31T00:00:00+01:00",
          "2017-02-28T00:00:00+01:00",
          "2017-03-31T00:00:00+02:00",
          "2017-04-30T00:00:00+02:00",
          "2017-05-31T00:00:00+02:00",
          "2017-06-30T00:00:00+02:00",
          "2017-07-31T00:00:00+02:00",
          "2017-08-31T00:00:00+02:00",
          "2017-09-30T00:00:00+02:00",
          "2017-10-31T00:00:00+01:00",
          "2017-11-30T00:00:00+01:00",
          "2017-12-31T00:00:00+01:00",
          "2018-01-31T00:00:00+01:00",
          "2018-02-28T00:00:00+01:00",
          "2018-03-31T00:00:00+02:00",
          "2018-04-30T00:00:00+02:00",
          "2018-05-31T00:00:00+02:00",
          "2018-06-30T00:00:00+02:00",
          "2018-07-31T00:00:00+02:00",
          "2018-08-31T00:00:00+02:00",
          "2018-09-30T00:00:00+02:00",
          "2018-10-31T00:00:00+01:00",
          "2018-11-30T00:00:00+01:00",
          "2018-12-31T00:00:00+01:00",
          "2019-01-31T00:00:00+01:00",
          "2019-02-28T00:00:00+01:00",
          "2019-03-31T00:00:00+01:00",
          "2019-04-30T00:00:00+02:00",
          "2019-05-31T00:00:00+02:00",
          "2019-06-30T00:00:00+02:00",
          "2019-07-31T00:00:00+02:00",
          "2019-08-31T00:00:00+02:00",
          "2019-09-30T00:00:00+02:00",
          "2019-10-31T00:00:00+01:00",
          "2019-11-30T00:00:00+01:00",
          "2019-12-31T00:00:00+01:00",
          "2020-01-31T00:00:00+01:00",
          "2020-02-29T00:00:00+01:00",
          "2020-03-31T00:00:00+02:00",
          "2020-04-30T00:00:00+02:00",
          "2020-05-31T00:00:00+02:00",
          "2020-06-30T00:00:00+02:00",
          "2020-07-31T00:00:00+02:00",
          "2020-08-31T00:00:00+02:00",
          "2020-09-30T00:00:00+02:00",
          "2020-10-31T00:00:00+01:00",
          "2020-11-30T00:00:00+01:00",
          "2020-12-31T00:00:00+01:00",
          "2021-01-31T00:00:00+01:00",
          "2021-02-28T00:00:00+01:00",
          "2021-03-31T00:00:00+02:00",
          "2021-04-30T00:00:00+02:00",
          "2021-05-31T00:00:00+02:00",
          "2021-06-30T00:00:00+02:00",
          "2021-07-31T00:00:00+02:00",
          "2021-08-31T00:00:00+02:00",
          "2021-09-30T00:00:00+02:00",
          "2021-10-31T00:00:00+02:00",
          "2021-11-30T00:00:00+01:00",
          "2021-12-31T00:00:00+01:00",
          "2022-01-31T00:00:00+01:00",
          "2022-02-28T00:00:00+01:00",
          "2022-03-31T00:00:00+02:00",
          "2022-04-30T00:00:00+02:00",
          "2022-05-31T00:00:00+02:00",
          "2022-06-30T00:00:00+02:00",
          "2022-07-31T00:00:00+02:00",
          "2022-08-31T00:00:00+02:00",
          "2022-09-30T00:00:00+02:00",
          "2022-10-31T00:00:00+01:00",
          "2022-11-30T00:00:00+01:00",
          "2022-12-31T00:00:00+01:00"
         ],
         "xaxis": "x",
         "y": [
          402856.2,
          431246.4,
          699283.9,
          765308,
          889022.1,
          877941.1,
          928878.3,
          868469.7,
          693511.1,
          613785.4,
          394068.2,
          450432.4,
          501283.7,
          482162.7,
          695486.8,
          745001,
          891987,
          849079.4,
          872761.6,
          810627.4,
          693198.9,
          528100.4,
          507756.8,
          390381.8,
          344161,
          469202.5,
          669113.8,
          681070.4,
          786326.4,
          866138.8,
          865774.9,
          839030.6,
          703739.8,
          564147.2,
          398574.6,
          364898.5,
          427346.3,
          450586.8,
          674550.2,
          800340.7,
          866359,
          850750.2,
          904238.5,
          802220.3,
          728558.3,
          635723.2,
          495496.6,
          393211.1,
          409400.9,
          459973.2,
          553144,
          667955.9,
          784757.5,
          798868.8,
          889680.7,
          823136.6,
          686749.7,
          553399.1,
          363524.1,
          405639.1,
          460704.3,
          587657.5,
          771411.5,
          682323.5,
          912231.7,
          912389.8,
          977326.1,
          976176.8,
          824743.5,
          782947.2,
          507827.1,
          504204.9,
          611995,
          940737.2,
          1037574.4,
          1116330.1,
          1594071.5,
          1725678.8,
          1824134.8,
          1757423.6,
          1438691.3,
          1286271.5,
          825124.5,
          745410.9,
          843899.7,
          997655.7,
          1662926.4,
          1639621,
          2302711.6,
          2259174.8,
          2534332.7,
          2362610.3,
          1875933.4,
          1748139.4,
          1302555.4,
          1030980.8,
          1483989.7,
          1648478.1,
          1521992.8,
          2475835.9,
          3231541.434,
          3132564.628,
          3323048.41,
          3191364.099,
          2636219.18,
          2056758.87,
          1535995.49,
          1176871.031
         ],
         "yaxis": "y"
        },
        {
         "name": "Diff Stationarity",
         "type": "scatter",
         "x": [
          "2014-01-31T00:00:00+01:00",
          "2014-02-28T00:00:00+01:00",
          "2014-03-31T00:00:00+02:00",
          "2014-04-30T00:00:00+02:00",
          "2014-05-31T00:00:00+02:00",
          "2014-06-30T00:00:00+02:00",
          "2014-07-31T00:00:00+02:00",
          "2014-08-31T00:00:00+02:00",
          "2014-09-30T00:00:00+02:00",
          "2014-10-31T00:00:00+01:00",
          "2014-11-30T00:00:00+01:00",
          "2014-12-31T00:00:00+01:00",
          "2015-01-31T00:00:00+01:00",
          "2015-02-28T00:00:00+01:00",
          "2015-03-31T00:00:00+02:00",
          "2015-04-30T00:00:00+02:00",
          "2015-05-31T00:00:00+02:00",
          "2015-06-30T00:00:00+02:00",
          "2015-07-31T00:00:00+02:00",
          "2015-08-31T00:00:00+02:00",
          "2015-09-30T00:00:00+02:00",
          "2015-10-31T00:00:00+01:00",
          "2015-11-30T00:00:00+01:00",
          "2015-12-31T00:00:00+01:00",
          "2016-01-31T00:00:00+01:00",
          "2016-02-29T00:00:00+01:00",
          "2016-03-31T00:00:00+02:00",
          "2016-04-30T00:00:00+02:00",
          "2016-05-31T00:00:00+02:00",
          "2016-06-30T00:00:00+02:00",
          "2016-07-31T00:00:00+02:00",
          "2016-08-31T00:00:00+02:00",
          "2016-09-30T00:00:00+02:00",
          "2016-10-31T00:00:00+01:00",
          "2016-11-30T00:00:00+01:00",
          "2016-12-31T00:00:00+01:00",
          "2017-01-31T00:00:00+01:00",
          "2017-02-28T00:00:00+01:00",
          "2017-03-31T00:00:00+02:00",
          "2017-04-30T00:00:00+02:00",
          "2017-05-31T00:00:00+02:00",
          "2017-06-30T00:00:00+02:00",
          "2017-07-31T00:00:00+02:00",
          "2017-08-31T00:00:00+02:00",
          "2017-09-30T00:00:00+02:00",
          "2017-10-31T00:00:00+01:00",
          "2017-11-30T00:00:00+01:00",
          "2017-12-31T00:00:00+01:00",
          "2018-01-31T00:00:00+01:00",
          "2018-02-28T00:00:00+01:00",
          "2018-03-31T00:00:00+02:00",
          "2018-04-30T00:00:00+02:00",
          "2018-05-31T00:00:00+02:00",
          "2018-06-30T00:00:00+02:00",
          "2018-07-31T00:00:00+02:00",
          "2018-08-31T00:00:00+02:00",
          "2018-09-30T00:00:00+02:00",
          "2018-10-31T00:00:00+01:00",
          "2018-11-30T00:00:00+01:00",
          "2018-12-31T00:00:00+01:00",
          "2019-01-31T00:00:00+01:00",
          "2019-02-28T00:00:00+01:00",
          "2019-03-31T00:00:00+01:00",
          "2019-04-30T00:00:00+02:00",
          "2019-05-31T00:00:00+02:00",
          "2019-06-30T00:00:00+02:00",
          "2019-07-31T00:00:00+02:00",
          "2019-08-31T00:00:00+02:00",
          "2019-09-30T00:00:00+02:00",
          "2019-10-31T00:00:00+01:00",
          "2019-11-30T00:00:00+01:00",
          "2019-12-31T00:00:00+01:00",
          "2020-01-31T00:00:00+01:00",
          "2020-02-29T00:00:00+01:00",
          "2020-03-31T00:00:00+02:00",
          "2020-04-30T00:00:00+02:00",
          "2020-05-31T00:00:00+02:00",
          "2020-06-30T00:00:00+02:00",
          "2020-07-31T00:00:00+02:00",
          "2020-08-31T00:00:00+02:00",
          "2020-09-30T00:00:00+02:00",
          "2020-10-31T00:00:00+01:00",
          "2020-11-30T00:00:00+01:00",
          "2020-12-31T00:00:00+01:00",
          "2021-01-31T00:00:00+01:00",
          "2021-02-28T00:00:00+01:00",
          "2021-03-31T00:00:00+02:00",
          "2021-04-30T00:00:00+02:00",
          "2021-05-31T00:00:00+02:00",
          "2021-06-30T00:00:00+02:00",
          "2021-07-31T00:00:00+02:00",
          "2021-08-31T00:00:00+02:00",
          "2021-09-30T00:00:00+02:00",
          "2021-10-31T00:00:00+02:00",
          "2021-11-30T00:00:00+01:00",
          "2021-12-31T00:00:00+01:00",
          "2022-01-31T00:00:00+01:00",
          "2022-02-28T00:00:00+01:00",
          "2022-03-31T00:00:00+02:00",
          "2022-04-30T00:00:00+02:00",
          "2022-05-31T00:00:00+02:00",
          "2022-06-30T00:00:00+02:00",
          "2022-07-31T00:00:00+02:00",
          "2022-08-31T00:00:00+02:00",
          "2022-09-30T00:00:00+02:00",
          "2022-10-31T00:00:00+01:00",
          "2022-11-30T00:00:00+01:00",
          "2022-12-31T00:00:00+01:00"
         ],
         "xaxis": "x2",
         "y": [
          null,
          28390.20000000001,
          268037.5,
          66024.09999999998,
          123714.09999999998,
          -11081,
          50937.20000000007,
          -60408.60000000009,
          -174958.59999999998,
          -79725.69999999995,
          -219717.2,
          56364.20000000001,
          50851.29999999999,
          -19121,
          213324.10000000003,
          49514.19999999995,
          146986,
          -42907.59999999998,
          23682.199999999953,
          -62134.19999999995,
          -117428.5,
          -165098.5,
          -20343.600000000035,
          -117375,
          -46220.79999999999,
          125041.5,
          199911.30000000005,
          11956.599999999977,
          105256,
          79812.40000000002,
          -363.9000000000233,
          -26744.300000000047,
          -135290.79999999993,
          -139592.6000000001,
          -165572.59999999998,
          -33676.09999999998,
          62447.79999999999,
          23240.5,
          223963.39999999997,
          125790.5,
          66018.30000000005,
          -15608.800000000047,
          53488.30000000005,
          -102018.19999999995,
          -73662,
          -92835.1000000001,
          -140226.59999999998,
          -102285.5,
          16189.800000000047,
          50572.29999999999,
          93170.79999999999,
          114811.90000000002,
          116801.59999999998,
          14111.300000000047,
          90811.8999999999,
          -66544.09999999998,
          -136386.90000000002,
          -133350.59999999998,
          -189875,
          42115,
          55065.20000000001,
          126953.20000000001,
          183754,
          -89088,
          229908.19999999995,
          158.10000000009313,
          64936.29999999993,
          -1149.2999999999302,
          -151433.30000000005,
          -41796.30000000005,
          -275120.1,
          -3622.1999999999534,
          107790.09999999998,
          328742.19999999995,
          96837.20000000007,
          78755.70000000007,
          477741.3999999999,
          131607.30000000005,
          98456,
          -66711.19999999995,
          -318732.30000000005,
          -152419.80000000005,
          -461147,
          -79713.59999999998,
          98488.79999999993,
          153756,
          665270.7,
          -23305.399999999907,
          663090.6000000001,
          -43536.80000000028,
          275157.9000000004,
          -171722.40000000037,
          -486676.8999999999,
          -127794,
          -445584,
          -271574.59999999986,
          453008.8999999999,
          164488.40000000014,
          -126485.30000000005,
          953843.0999999999,
          755705.534,
          -98976.80599999987,
          190483.78200000012,
          -131684.31100000022,
          -555144.9189999998,
          -579460.31,
          -520763.3800000001,
          -359124.45900000003
         ],
         "yaxis": "y2"
        },
        {
         "name": "Diff Seasonality 12",
         "type": "scatter",
         "x": [
          "2014-01-31T00:00:00+01:00",
          "2014-02-28T00:00:00+01:00",
          "2014-03-31T00:00:00+02:00",
          "2014-04-30T00:00:00+02:00",
          "2014-05-31T00:00:00+02:00",
          "2014-06-30T00:00:00+02:00",
          "2014-07-31T00:00:00+02:00",
          "2014-08-31T00:00:00+02:00",
          "2014-09-30T00:00:00+02:00",
          "2014-10-31T00:00:00+01:00",
          "2014-11-30T00:00:00+01:00",
          "2014-12-31T00:00:00+01:00",
          "2015-01-31T00:00:00+01:00",
          "2015-02-28T00:00:00+01:00",
          "2015-03-31T00:00:00+02:00",
          "2015-04-30T00:00:00+02:00",
          "2015-05-31T00:00:00+02:00",
          "2015-06-30T00:00:00+02:00",
          "2015-07-31T00:00:00+02:00",
          "2015-08-31T00:00:00+02:00",
          "2015-09-30T00:00:00+02:00",
          "2015-10-31T00:00:00+01:00",
          "2015-11-30T00:00:00+01:00",
          "2015-12-31T00:00:00+01:00",
          "2016-01-31T00:00:00+01:00",
          "2016-02-29T00:00:00+01:00",
          "2016-03-31T00:00:00+02:00",
          "2016-04-30T00:00:00+02:00",
          "2016-05-31T00:00:00+02:00",
          "2016-06-30T00:00:00+02:00",
          "2016-07-31T00:00:00+02:00",
          "2016-08-31T00:00:00+02:00",
          "2016-09-30T00:00:00+02:00",
          "2016-10-31T00:00:00+01:00",
          "2016-11-30T00:00:00+01:00",
          "2016-12-31T00:00:00+01:00",
          "2017-01-31T00:00:00+01:00",
          "2017-02-28T00:00:00+01:00",
          "2017-03-31T00:00:00+02:00",
          "2017-04-30T00:00:00+02:00",
          "2017-05-31T00:00:00+02:00",
          "2017-06-30T00:00:00+02:00",
          "2017-07-31T00:00:00+02:00",
          "2017-08-31T00:00:00+02:00",
          "2017-09-30T00:00:00+02:00",
          "2017-10-31T00:00:00+01:00",
          "2017-11-30T00:00:00+01:00",
          "2017-12-31T00:00:00+01:00",
          "2018-01-31T00:00:00+01:00",
          "2018-02-28T00:00:00+01:00",
          "2018-03-31T00:00:00+02:00",
          "2018-04-30T00:00:00+02:00",
          "2018-05-31T00:00:00+02:00",
          "2018-06-30T00:00:00+02:00",
          "2018-07-31T00:00:00+02:00",
          "2018-08-31T00:00:00+02:00",
          "2018-09-30T00:00:00+02:00",
          "2018-10-31T00:00:00+01:00",
          "2018-11-30T00:00:00+01:00",
          "2018-12-31T00:00:00+01:00",
          "2019-01-31T00:00:00+01:00",
          "2019-02-28T00:00:00+01:00",
          "2019-03-31T00:00:00+01:00",
          "2019-04-30T00:00:00+02:00",
          "2019-05-31T00:00:00+02:00",
          "2019-06-30T00:00:00+02:00",
          "2019-07-31T00:00:00+02:00",
          "2019-08-31T00:00:00+02:00",
          "2019-09-30T00:00:00+02:00",
          "2019-10-31T00:00:00+01:00",
          "2019-11-30T00:00:00+01:00",
          "2019-12-31T00:00:00+01:00",
          "2020-01-31T00:00:00+01:00",
          "2020-02-29T00:00:00+01:00",
          "2020-03-31T00:00:00+02:00",
          "2020-04-30T00:00:00+02:00",
          "2020-05-31T00:00:00+02:00",
          "2020-06-30T00:00:00+02:00",
          "2020-07-31T00:00:00+02:00",
          "2020-08-31T00:00:00+02:00",
          "2020-09-30T00:00:00+02:00",
          "2020-10-31T00:00:00+01:00",
          "2020-11-30T00:00:00+01:00",
          "2020-12-31T00:00:00+01:00",
          "2021-01-31T00:00:00+01:00",
          "2021-02-28T00:00:00+01:00",
          "2021-03-31T00:00:00+02:00",
          "2021-04-30T00:00:00+02:00",
          "2021-05-31T00:00:00+02:00",
          "2021-06-30T00:00:00+02:00",
          "2021-07-31T00:00:00+02:00",
          "2021-08-31T00:00:00+02:00",
          "2021-09-30T00:00:00+02:00",
          "2021-10-31T00:00:00+02:00",
          "2021-11-30T00:00:00+01:00",
          "2021-12-31T00:00:00+01:00",
          "2022-01-31T00:00:00+01:00",
          "2022-02-28T00:00:00+01:00",
          "2022-03-31T00:00:00+02:00",
          "2022-04-30T00:00:00+02:00",
          "2022-05-31T00:00:00+02:00",
          "2022-06-30T00:00:00+02:00",
          "2022-07-31T00:00:00+02:00",
          "2022-08-31T00:00:00+02:00",
          "2022-09-30T00:00:00+02:00",
          "2022-10-31T00:00:00+01:00",
          "2022-11-30T00:00:00+01:00",
          "2022-12-31T00:00:00+01:00"
         ],
         "xaxis": "x3",
         "y": [
          null,
          null,
          null,
          null,
          null,
          null,
          null,
          null,
          null,
          null,
          null,
          null,
          null,
          -47511.20000000001,
          -54713.399999999965,
          -16509.900000000023,
          23271.900000000023,
          -31826.599999999977,
          -27255.000000000116,
          -1725.5999999998603,
          57530.09999999998,
          -85372.80000000005,
          199373.59999999998,
          -173739.2,
          -97072.09999999998,
          144162.5,
          -13412.799999999988,
          -37557.59999999998,
          -41730,
          122720,
          -24046.099999999977,
          35389.89999999991,
          -17862.29999999993,
          25505.899999999907,
          -145228.99999999994,
          83698.90000000002,
          108668.59999999998,
          -101801,
          24052.09999999992,
          113833.90000000002,
          -39237.69999999995,
          -95421.20000000007,
          53852.20000000007,
          -75273.8999999999,
          61628.79999999993,
          46757.5,
          25346,
          -68609.40000000002,
          -46257.99999999994,
          27331.79999999999,
          -130792.59999999998,
          -10978.599999999977,
          50783.29999999993,
          29720.100000000093,
          37323.59999999986,
          35474.09999999998,
          -62724.90000000002,
          -40515.49999999988,
          -49648.40000000002,
          144400.5,
          38875.399999999965,
          76380.90000000002,
          90583.20000000001,
          -203899.90000000002,
          113106.59999999998,
          -13953.199999999953,
          -25875.599999999977,
          65394.80000000005,
          -15046.400000000023,
          91554.29999999993,
          -85245.09999999998,
          -45737.19999999995,
          52724.899999999965,
          201788.99999999994,
          -86916.79999999993,
          167843.70000000007,
          247833.19999999995,
          131449.19999999995,
          33519.70000000007,
          -65561.90000000002,
          -167299,
          -110623.5,
          -186026.90000000002,
          -76091.40000000002,
          -9301.300000000047,
          -174986.19999999995,
          568433.4999999999,
          -102061.09999999998,
          185349.2000000002,
          -175144.10000000033,
          176701.90000000037,
          -105011.20000000042,
          -167944.59999999986,
          24625.800000000047,
          15563,
          -191860.99999999988,
          354520.1,
          10732.40000000014,
          -791756,
          977148.4999999998,
          92614.93399999989,
          -55440.00599999959,
          -84674.11800000025,
          40038.08900000015,
          -68468.01899999985,
          -451666.31000000006,
          -75179.38000000012,
          -87549.85900000017
         ],
         "yaxis": "y3"
        }
       ],
       "layout": {
        "annotations": [
         {
          "font": {
           "size": 16
          },
          "showarrow": false,
          "text": "generation (Original)",
          "x": 0.5,
          "xanchor": "center",
          "xref": "paper",
          "y": 0.9999999999999999,
          "yanchor": "bottom",
          "yref": "paper"
         },
         {
          "font": {
           "size": 16
          },
          "showarrow": false,
          "text": "Diff Stationarity",
          "x": 0.5,
          "xanchor": "center",
          "xref": "paper",
          "y": 0.6166666666666666,
          "yanchor": "bottom",
          "yref": "paper"
         },
         {
          "font": {
           "size": 16
          },
          "showarrow": false,
          "text": "Diff Seasonality 12",
          "x": 0.5,
          "xanchor": "center",
          "xref": "paper",
          "y": 0.2333333333333333,
          "yanchor": "bottom",
          "yref": "paper"
         }
        ],
        "autosize": true,
        "showlegend": false,
        "template": {
         "data": {
          "bar": [
           {
            "error_x": {
             "color": "#2a3f5f"
            },
            "error_y": {
             "color": "#2a3f5f"
            },
            "marker": {
             "line": {
              "color": "#E5ECF6",
              "width": 0.5
             },
             "pattern": {
              "fillmode": "overlay",
              "size": 10,
              "solidity": 0.2
             }
            },
            "type": "bar"
           }
          ],
          "barpolar": [
           {
            "marker": {
             "line": {
              "color": "#E5ECF6",
              "width": 0.5
             },
             "pattern": {
              "fillmode": "overlay",
              "size": 10,
              "solidity": 0.2
             }
            },
            "type": "barpolar"
           }
          ],
          "carpet": [
           {
            "aaxis": {
             "endlinecolor": "#2a3f5f",
             "gridcolor": "white",
             "linecolor": "white",
             "minorgridcolor": "white",
             "startlinecolor": "#2a3f5f"
            },
            "baxis": {
             "endlinecolor": "#2a3f5f",
             "gridcolor": "white",
             "linecolor": "white",
             "minorgridcolor": "white",
             "startlinecolor": "#2a3f5f"
            },
            "type": "carpet"
           }
          ],
          "choropleth": [
           {
            "colorbar": {
             "outlinewidth": 0,
             "ticks": ""
            },
            "type": "choropleth"
           }
          ],
          "contour": [
           {
            "colorbar": {
             "outlinewidth": 0,
             "ticks": ""
            },
            "colorscale": [
             [
              0,
              "#0d0887"
             ],
             [
              0.1111111111111111,
              "#46039f"
             ],
             [
              0.2222222222222222,
              "#7201a8"
             ],
             [
              0.3333333333333333,
              "#9c179e"
             ],
             [
              0.4444444444444444,
              "#bd3786"
             ],
             [
              0.5555555555555556,
              "#d8576b"
             ],
             [
              0.6666666666666666,
              "#ed7953"
             ],
             [
              0.7777777777777778,
              "#fb9f3a"
             ],
             [
              0.8888888888888888,
              "#fdca26"
             ],
             [
              1,
              "#f0f921"
             ]
            ],
            "type": "contour"
           }
          ],
          "contourcarpet": [
           {
            "colorbar": {
             "outlinewidth": 0,
             "ticks": ""
            },
            "type": "contourcarpet"
           }
          ],
          "heatmap": [
           {
            "colorbar": {
             "outlinewidth": 0,
             "ticks": ""
            },
            "colorscale": [
             [
              0,
              "#0d0887"
             ],
             [
              0.1111111111111111,
              "#46039f"
             ],
             [
              0.2222222222222222,
              "#7201a8"
             ],
             [
              0.3333333333333333,
              "#9c179e"
             ],
             [
              0.4444444444444444,
              "#bd3786"
             ],
             [
              0.5555555555555556,
              "#d8576b"
             ],
             [
              0.6666666666666666,
              "#ed7953"
             ],
             [
              0.7777777777777778,
              "#fb9f3a"
             ],
             [
              0.8888888888888888,
              "#fdca26"
             ],
             [
              1,
              "#f0f921"
             ]
            ],
            "type": "heatmap"
           }
          ],
          "heatmapgl": [
           {
            "colorbar": {
             "outlinewidth": 0,
             "ticks": ""
            },
            "colorscale": [
             [
              0,
              "#0d0887"
             ],
             [
              0.1111111111111111,
              "#46039f"
             ],
             [
              0.2222222222222222,
              "#7201a8"
             ],
             [
              0.3333333333333333,
              "#9c179e"
             ],
             [
              0.4444444444444444,
              "#bd3786"
             ],
             [
              0.5555555555555556,
              "#d8576b"
             ],
             [
              0.6666666666666666,
              "#ed7953"
             ],
             [
              0.7777777777777778,
              "#fb9f3a"
             ],
             [
              0.8888888888888888,
              "#fdca26"
             ],
             [
              1,
              "#f0f921"
             ]
            ],
            "type": "heatmapgl"
           }
          ],
          "histogram": [
           {
            "marker": {
             "pattern": {
              "fillmode": "overlay",
              "size": 10,
              "solidity": 0.2
             }
            },
            "type": "histogram"
           }
          ],
          "histogram2d": [
           {
            "colorbar": {
             "outlinewidth": 0,
             "ticks": ""
            },
            "colorscale": [
             [
              0,
              "#0d0887"
             ],
             [
              0.1111111111111111,
              "#46039f"
             ],
             [
              0.2222222222222222,
              "#7201a8"
             ],
             [
              0.3333333333333333,
              "#9c179e"
             ],
             [
              0.4444444444444444,
              "#bd3786"
             ],
             [
              0.5555555555555556,
              "#d8576b"
             ],
             [
              0.6666666666666666,
              "#ed7953"
             ],
             [
              0.7777777777777778,
              "#fb9f3a"
             ],
             [
              0.8888888888888888,
              "#fdca26"
             ],
             [
              1,
              "#f0f921"
             ]
            ],
            "type": "histogram2d"
           }
          ],
          "histogram2dcontour": [
           {
            "colorbar": {
             "outlinewidth": 0,
             "ticks": ""
            },
            "colorscale": [
             [
              0,
              "#0d0887"
             ],
             [
              0.1111111111111111,
              "#46039f"
             ],
             [
              0.2222222222222222,
              "#7201a8"
             ],
             [
              0.3333333333333333,
              "#9c179e"
             ],
             [
              0.4444444444444444,
              "#bd3786"
             ],
             [
              0.5555555555555556,
              "#d8576b"
             ],
             [
              0.6666666666666666,
              "#ed7953"
             ],
             [
              0.7777777777777778,
              "#fb9f3a"
             ],
             [
              0.8888888888888888,
              "#fdca26"
             ],
             [
              1,
              "#f0f921"
             ]
            ],
            "type": "histogram2dcontour"
           }
          ],
          "mesh3d": [
           {
            "colorbar": {
             "outlinewidth": 0,
             "ticks": ""
            },
            "type": "mesh3d"
           }
          ],
          "parcoords": [
           {
            "line": {
             "colorbar": {
              "outlinewidth": 0,
              "ticks": ""
             }
            },
            "type": "parcoords"
           }
          ],
          "pie": [
           {
            "automargin": true,
            "type": "pie"
           }
          ],
          "scatter": [
           {
            "fillpattern": {
             "fillmode": "overlay",
             "size": 10,
             "solidity": 0.2
            },
            "type": "scatter"
           }
          ],
          "scatter3d": [
           {
            "line": {
             "colorbar": {
              "outlinewidth": 0,
              "ticks": ""
             }
            },
            "marker": {
             "colorbar": {
              "outlinewidth": 0,
              "ticks": ""
             }
            },
            "type": "scatter3d"
           }
          ],
          "scattercarpet": [
           {
            "marker": {
             "colorbar": {
              "outlinewidth": 0,
              "ticks": ""
             }
            },
            "type": "scattercarpet"
           }
          ],
          "scattergeo": [
           {
            "marker": {
             "colorbar": {
              "outlinewidth": 0,
              "ticks": ""
             }
            },
            "type": "scattergeo"
           }
          ],
          "scattergl": [
           {
            "marker": {
             "colorbar": {
              "outlinewidth": 0,
              "ticks": ""
             }
            },
            "type": "scattergl"
           }
          ],
          "scattermapbox": [
           {
            "marker": {
             "colorbar": {
              "outlinewidth": 0,
              "ticks": ""
             }
            },
            "type": "scattermapbox"
           }
          ],
          "scatterpolar": [
           {
            "marker": {
             "colorbar": {
              "outlinewidth": 0,
              "ticks": ""
             }
            },
            "type": "scatterpolar"
           }
          ],
          "scatterpolargl": [
           {
            "marker": {
             "colorbar": {
              "outlinewidth": 0,
              "ticks": ""
             }
            },
            "type": "scatterpolargl"
           }
          ],
          "scatterternary": [
           {
            "marker": {
             "colorbar": {
              "outlinewidth": 0,
              "ticks": ""
             }
            },
            "type": "scatterternary"
           }
          ],
          "surface": [
           {
            "colorbar": {
             "outlinewidth": 0,
             "ticks": ""
            },
            "colorscale": [
             [
              0,
              "#0d0887"
             ],
             [
              0.1111111111111111,
              "#46039f"
             ],
             [
              0.2222222222222222,
              "#7201a8"
             ],
             [
              0.3333333333333333,
              "#9c179e"
             ],
             [
              0.4444444444444444,
              "#bd3786"
             ],
             [
              0.5555555555555556,
              "#d8576b"
             ],
             [
              0.6666666666666666,
              "#ed7953"
             ],
             [
              0.7777777777777778,
              "#fb9f3a"
             ],
             [
              0.8888888888888888,
              "#fdca26"
             ],
             [
              1,
              "#f0f921"
             ]
            ],
            "type": "surface"
           }
          ],
          "table": [
           {
            "cells": {
             "fill": {
              "color": "#EBF0F8"
             },
             "line": {
              "color": "white"
             }
            },
            "header": {
             "fill": {
              "color": "#C8D4E3"
             },
             "line": {
              "color": "white"
             }
            },
            "type": "table"
           }
          ]
         },
         "layout": {
          "annotationdefaults": {
           "arrowcolor": "#2a3f5f",
           "arrowhead": 0,
           "arrowwidth": 1
          },
          "autotypenumbers": "strict",
          "coloraxis": {
           "colorbar": {
            "outlinewidth": 0,
            "ticks": ""
           }
          },
          "colorscale": {
           "diverging": [
            [
             0,
             "#8e0152"
            ],
            [
             0.1,
             "#c51b7d"
            ],
            [
             0.2,
             "#de77ae"
            ],
            [
             0.3,
             "#f1b6da"
            ],
            [
             0.4,
             "#fde0ef"
            ],
            [
             0.5,
             "#f7f7f7"
            ],
            [
             0.6,
             "#e6f5d0"
            ],
            [
             0.7,
             "#b8e186"
            ],
            [
             0.8,
             "#7fbc41"
            ],
            [
             0.9,
             "#4d9221"
            ],
            [
             1,
             "#276419"
            ]
           ],
           "sequential": [
            [
             0,
             "#0d0887"
            ],
            [
             0.1111111111111111,
             "#46039f"
            ],
            [
             0.2222222222222222,
             "#7201a8"
            ],
            [
             0.3333333333333333,
             "#9c179e"
            ],
            [
             0.4444444444444444,
             "#bd3786"
            ],
            [
             0.5555555555555556,
             "#d8576b"
            ],
            [
             0.6666666666666666,
             "#ed7953"
            ],
            [
             0.7777777777777778,
             "#fb9f3a"
            ],
            [
             0.8888888888888888,
             "#fdca26"
            ],
            [
             1,
             "#f0f921"
            ]
           ],
           "sequentialminus": [
            [
             0,
             "#0d0887"
            ],
            [
             0.1111111111111111,
             "#46039f"
            ],
            [
             0.2222222222222222,
             "#7201a8"
            ],
            [
             0.3333333333333333,
             "#9c179e"
            ],
            [
             0.4444444444444444,
             "#bd3786"
            ],
            [
             0.5555555555555556,
             "#d8576b"
            ],
            [
             0.6666666666666666,
             "#ed7953"
            ],
            [
             0.7777777777777778,
             "#fb9f3a"
            ],
            [
             0.8888888888888888,
             "#fdca26"
            ],
            [
             1,
             "#f0f921"
            ]
           ]
          },
          "colorway": [
           "#636efa",
           "#EF553B",
           "#00cc96",
           "#ab63fa",
           "#FFA15A",
           "#19d3f3",
           "#FF6692",
           "#B6E880",
           "#FF97FF",
           "#FECB52"
          ],
          "font": {
           "color": "#2a3f5f"
          },
          "geo": {
           "bgcolor": "white",
           "lakecolor": "white",
           "landcolor": "#E5ECF6",
           "showlakes": true,
           "showland": true,
           "subunitcolor": "white"
          },
          "hoverlabel": {
           "align": "left"
          },
          "hovermode": "closest",
          "mapbox": {
           "style": "light"
          },
          "paper_bgcolor": "white",
          "plot_bgcolor": "#E5ECF6",
          "polar": {
           "angularaxis": {
            "gridcolor": "white",
            "linecolor": "white",
            "ticks": ""
           },
           "bgcolor": "#E5ECF6",
           "radialaxis": {
            "gridcolor": "white",
            "linecolor": "white",
            "ticks": ""
           }
          },
          "scene": {
           "xaxis": {
            "backgroundcolor": "#E5ECF6",
            "gridcolor": "white",
            "gridwidth": 2,
            "linecolor": "white",
            "showbackground": true,
            "ticks": "",
            "zerolinecolor": "white"
           },
           "yaxis": {
            "backgroundcolor": "#E5ECF6",
            "gridcolor": "white",
            "gridwidth": 2,
            "linecolor": "white",
            "showbackground": true,
            "ticks": "",
            "zerolinecolor": "white"
           },
           "zaxis": {
            "backgroundcolor": "#E5ECF6",
            "gridcolor": "white",
            "gridwidth": 2,
            "linecolor": "white",
            "showbackground": true,
            "ticks": "",
            "zerolinecolor": "white"
           }
          },
          "shapedefaults": {
           "line": {
            "color": "#2a3f5f"
           }
          },
          "ternary": {
           "aaxis": {
            "gridcolor": "white",
            "linecolor": "white",
            "ticks": ""
           },
           "baxis": {
            "gridcolor": "white",
            "linecolor": "white",
            "ticks": ""
           },
           "bgcolor": "#E5ECF6",
           "caxis": {
            "gridcolor": "white",
            "linecolor": "white",
            "ticks": ""
           }
          },
          "title": {
           "x": 0.05
          },
          "xaxis": {
           "automargin": true,
           "gridcolor": "white",
           "linecolor": "white",
           "ticks": "",
           "title": {
            "standoff": 15
           },
           "zerolinecolor": "white",
           "zerolinewidth": 2
          },
          "yaxis": {
           "automargin": true,
           "gridcolor": "white",
           "linecolor": "white",
           "ticks": "",
           "title": {
            "standoff": 15
           },
           "zerolinecolor": "white",
           "zerolinewidth": 2
          }
         }
        },
        "title": {
         "text": "Total Solar Photovoltaic Energy Generation in Spain"
        },
        "xaxis": {
         "anchor": "y",
         "autorange": true,
         "domain": [
          0,
          1
         ],
         "range": [
          "2014-01-31",
          "2022-12-31"
         ],
         "type": "date"
        },
        "xaxis2": {
         "anchor": "y2",
         "autorange": true,
         "domain": [
          0,
          1
         ],
         "range": [
          "2014-01-31",
          "2022-12-31"
         ],
         "type": "date"
        },
        "xaxis3": {
         "anchor": "y3",
         "autorange": true,
         "domain": [
          0,
          1
         ],
         "range": [
          "2014-01-31",
          "2022-12-31"
         ],
         "type": "date"
        },
        "yaxis": {
         "anchor": "x",
         "autorange": true,
         "domain": [
          0.7666666666666666,
          0.9999999999999999
         ],
         "range": [
          178667.25499999998,
          3488542.1550000003
         ],
         "type": "linear"
        },
        "yaxis2": {
         "anchor": "x2",
         "autorange": true,
         "domain": [
          0.3833333333333333,
          0.6166666666666666
         ],
         "range": [
          -664643.8327777778,
          1039026.6227777776
         ],
         "type": "linear"
        },
        "yaxis3": {
         "anchor": "x3",
         "autorange": true,
         "domain": [
          0,
          0.2333333333333333
         ],
         "range": [
          -890028.4722222222,
          1075420.972222222
         ],
         "type": "linear"
        }
       }
      },
      "image/png": "[encoded data removed]"
     },
     "execution_count": null,
     "metadata": {},
     "output_type": "display_data"
    }
   ],
   "source": []
  },
  {
   "cell_type": "code",
   "execution_count": null,
   "metadata": {},
   "outputs": [],
   "source": []
  },
  {
   "cell_type": "code",
   "execution_count": null,
   "metadata": {},
   "outputs": [
    {
     "data": {
      "application/vnd.plotly.v1+json": {
       "config": {
        "plotlyServerURL": "https://plotly.com"
       },
       "data": [
        {
         "name": "generation (Original)",
         "type": "scatter",
         "x": [
          "2014-01-31T00:00:00+01:00",
          "2014-02-28T00:00:00+01:00",
          "2014-03-31T00:00:00+02:00",
          "2014-04-30T00:00:00+02:00",
          "2014-05-31T00:00:00+02:00",
          "2014-06-30T00:00:00+02:00",
          "2014-07-31T00:00:00+02:00",
          "2014-08-31T00:00:00+02:00",
          "2014-09-30T00:00:00+02:00",
          "2014-10-31T00:00:00+01:00",
          "2014-11-30T00:00:00+01:00",
          "2014-12-31T00:00:00+01:00",
          "2015-01-31T00:00:00+01:00",
          "2015-02-28T00:00:00+01:00",
          "2015-03-31T00:00:00+02:00",
          "2015-04-30T00:00:00+02:00",
          "2015-05-31T00:00:00+02:00",
          "2015-06-30T00:00:00+02:00",
          "2015-07-31T00:00:00+02:00",
          "2015-08-31T00:00:00+02:00",
          "2015-09-30T00:00:00+02:00",
          "2015-10-31T00:00:00+01:00",
          "2015-11-30T00:00:00+01:00",
          "2015-12-31T00:00:00+01:00",
          "2016-01-31T00:00:00+01:00",
          "2016-02-29T00:00:00+01:00",
          "2016-03-31T00:00:00+02:00",
          "2016-04-30T00:00:00+02:00",
          "2016-05-31T00:00:00+02:00",
          "2016-06-30T00:00:00+02:00",
          "2016-07-31T00:00:00+02:00",
          "2016-08-31T00:00:00+02:00",
          "2016-09-30T00:00:00+02:00",
          "2016-10-31T00:00:00+01:00",
          "2016-11-30T00:00:00+01:00",
          "2016-12-31T00:00:00+01:00",
          "2017-01-31T00:00:00+01:00",
          "2017-02-28T00:00:00+01:00",
          "2017-03-31T00:00:00+02:00",
          "2017-04-30T00:00:00+02:00",
          "2017-05-31T00:00:00+02:00",
          "2017-06-30T00:00:00+02:00",
          "2017-07-31T00:00:00+02:00",
          "2017-08-31T00:00:00+02:00",
          "2017-09-30T00:00:00+02:00",
          "2017-10-31T00:00:00+01:00",
          "2017-11-30T00:00:00+01:00",
          "2017-12-31T00:00:00+01:00",
          "2018-01-31T00:00:00+01:00",
          "2018-02-28T00:00:00+01:00",
          "2018-03-31T00:00:00+02:00",
          "2018-04-30T00:00:00+02:00",
          "2018-05-31T00:00:00+02:00",
          "2018-06-30T00:00:00+02:00",
          "2018-07-31T00:00:00+02:00",
          "2018-08-31T00:00:00+02:00",
          "2018-09-30T00:00:00+02:00",
          "2018-10-31T00:00:00+01:00",
          "2018-11-30T00:00:00+01:00",
          "2018-12-31T00:00:00+01:00",
          "2019-01-31T00:00:00+01:00",
          "2019-02-28T00:00:00+01:00",
          "2019-03-31T00:00:00+01:00",
          "2019-04-30T00:00:00+02:00",
          "2019-05-31T00:00:00+02:00",
          "2019-06-30T00:00:00+02:00",
          "2019-07-31T00:00:00+02:00",
          "2019-08-31T00:00:00+02:00",
          "2019-09-30T00:00:00+02:00",
          "2019-10-31T00:00:00+01:00",
          "2019-11-30T00:00:00+01:00",
          "2019-12-31T00:00:00+01:00",
          "2020-01-31T00:00:00+01:00",
          "2020-02-29T00:00:00+01:00",
          "2020-03-31T00:00:00+02:00",
          "2020-04-30T00:00:00+02:00",
          "2020-05-31T00:00:00+02:00",
          "2020-06-30T00:00:00+02:00",
          "2020-07-31T00:00:00+02:00",
          "2020-08-31T00:00:00+02:00",
          "2020-09-30T00:00:00+02:00",
          "2020-10-31T00:00:00+01:00",
          "2020-11-30T00:00:00+01:00",
          "2020-12-31T00:00:00+01:00",
          "2021-01-31T00:00:00+01:00",
          "2021-02-28T00:00:00+01:00",
          "2021-03-31T00:00:00+02:00",
          "2021-04-30T00:00:00+02:00",
          "2021-05-31T00:00:00+02:00",
          "2021-06-30T00:00:00+02:00",
          "2021-07-31T00:00:00+02:00",
          "2021-08-31T00:00:00+02:00",
          "2021-09-30T00:00:00+02:00",
          "2021-10-31T00:00:00+02:00",
          "2021-11-30T00:00:00+01:00",
          "2021-12-31T00:00:00+01:00",
          "2022-01-31T00:00:00+01:00",
          "2022-02-28T00:00:00+01:00",
          "2022-03-31T00:00:00+02:00",
          "2022-04-30T00:00:00+02:00",
          "2022-05-31T00:00:00+02:00",
          "2022-06-30T00:00:00+02:00",
          "2022-07-31T00:00:00+02:00",
          "2022-08-31T00:00:00+02:00",
          "2022-09-30T00:00:00+02:00",
          "2022-10-31T00:00:00+01:00",
          "2022-11-30T00:00:00+01:00",
          "2022-12-31T00:00:00+01:00"
         ],
         "xaxis": "x",
         "y": [
          null,
          null,
          null,
          null,
          null,
          null,
          null,
          null,
          null,
          null,
          null,
          667900.2333333333,
          676102.525,
          680345.55,
          680029.125,
          678336.875,
          678583.9500000001,
          676178.8083333333,
          671502.4166666666,
          666682.225,
          666656.2083333334,
          659515.7916666666,
          668989.8416666667,
          663985.625,
          650892.0666666667,
          649812.0499999999,
          647614.2999999999,
          642286.75,
          633481.7000000001,
          634903.3166666667,
          634321.0916666667,
          636688.025,
          637566.4333333333,
          640570.3333333334,
          631471.8166666667,
          629348.2083333334,
          636280.3166666668,
          634729.0083333334,
          635182.0416666666,
          645121.2333333333,
          651790.6166666666,
          650508.2333333333,
          653713.5333333333,
          650646.0083333333,
          652714.2166666667,
          658678.8833333333,
          666755.7166666667,
          669115.1,
          667619.65,
          668401.85,
          658284.6666666666,
          647252.6,
          640452.475,
          636129.025,
          634915.875,
          636658.9,
          633174.85,
          626314.5083333334,
          615316.7999999999,
          616352.4666666667,
          620627.75,
          631268.1083333334,
          649457.0666666668,
          650654.3666666667,
          661277.2166666667,
          670737.2999999999,
          678041.0833333334,
          690794.4333333333,
          702293.9166666666,
          721422.9249999999,
          733448.1749999999,
          741661.9916666667,
          754269.5499999999,
          783692.8583333333,
          805873.1,
          842040.3166666665,
          898860.2999999999,
          966634.3833333333,
          1037201.775,
          1102305.675,
          1153467.9916666665,
          1195411.6833333333,
          1221853.1333333335,
          1241953.6333333333,
          1261279.0250000001,
          1266022.2333333334,
          1318134.9000000001,
          1361742.475,
          1420795.8166666667,
          1465253.8166666667,
          1524436.9749999999,
          1574869.2,
          1611306.0416666667,
          1649795.0333333332,
          1689580.9416666664,
          1713378.4333333333,
          1766719.2666666666,
          1820954.4666666666,
          1809210,
          1878894.575,
          1956297.0611666664,
          2029079.5468333333,
          2094805.856,
          2163868.6725833337,
          2227225.8209166666,
          2252944.1100833337,
          2272397.450916667,
          2284554.970166667
         ],
         "yaxis": "y"
        },
        {
         "name": "Diff Stationarity",
         "type": "scatter",
         "x": [
          "2014-01-31T00:00:00+01:00",
          "2014-02-28T00:00:00+01:00",
          "2014-03-31T00:00:00+02:00",
          "2014-04-30T00:00:00+02:00",
          "2014-05-31T00:00:00+02:00",
          "2014-06-30T00:00:00+02:00",
          "2014-07-31T00:00:00+02:00",
          "2014-08-31T00:00:00+02:00",
          "2014-09-30T00:00:00+02:00",
          "2014-10-31T00:00:00+01:00",
          "2014-11-30T00:00:00+01:00",
          "2014-12-31T00:00:00+01:00",
          "2015-01-31T00:00:00+01:00",
          "2015-02-28T00:00:00+01:00",
          "2015-03-31T00:00:00+02:00",
          "2015-04-30T00:00:00+02:00",
          "2015-05-31T00:00:00+02:00",
          "2015-06-30T00:00:00+02:00",
          "2015-07-31T00:00:00+02:00",
          "2015-08-31T00:00:00+02:00",
          "2015-09-30T00:00:00+02:00",
          "2015-10-31T00:00:00+01:00",
          "2015-11-30T00:00:00+01:00",
          "2015-12-31T00:00:00+01:00",
          "2016-01-31T00:00:00+01:00",
          "2016-02-29T00:00:00+01:00",
          "2016-03-31T00:00:00+02:00",
          "2016-04-30T00:00:00+02:00",
          "2016-05-31T00:00:00+02:00",
          "2016-06-30T00:00:00+02:00",
          "2016-07-31T00:00:00+02:00",
          "2016-08-31T00:00:00+02:00",
          "2016-09-30T00:00:00+02:00",
          "2016-10-31T00:00:00+01:00",
          "2016-11-30T00:00:00+01:00",
          "2016-12-31T00:00:00+01:00",
          "2017-01-31T00:00:00+01:00",
          "2017-02-28T00:00:00+01:00",
          "2017-03-31T00:00:00+02:00",
          "2017-04-30T00:00:00+02:00",
          "2017-05-31T00:00:00+02:00",
          "2017-06-30T00:00:00+02:00",
          "2017-07-31T00:00:00+02:00",
          "2017-08-31T00:00:00+02:00",
          "2017-09-30T00:00:00+02:00",
          "2017-10-31T00:00:00+01:00",
          "2017-11-30T00:00:00+01:00",
          "2017-12-31T00:00:00+01:00",
          "2018-01-31T00:00:00+01:00",
          "2018-02-28T00:00:00+01:00",
          "2018-03-31T00:00:00+02:00",
          "2018-04-30T00:00:00+02:00",
          "2018-05-31T00:00:00+02:00",
          "2018-06-30T00:00:00+02:00",
          "2018-07-31T00:00:00+02:00",
          "2018-08-31T00:00:00+02:00",
          "2018-09-30T00:00:00+02:00",
          "2018-10-31T00:00:00+01:00",
          "2018-11-30T00:00:00+01:00",
          "2018-12-31T00:00:00+01:00",
          "2019-01-31T00:00:00+01:00",
          "2019-02-28T00:00:00+01:00",
          "2019-03-31T00:00:00+01:00",
          "2019-04-30T00:00:00+02:00",
          "2019-05-31T00:00:00+02:00",
          "2019-06-30T00:00:00+02:00",
          "2019-07-31T00:00:00+02:00",
          "2019-08-31T00:00:00+02:00",
          "2019-09-30T00:00:00+02:00",
          "2019-10-31T00:00:00+01:00",
          "2019-11-30T00:00:00+01:00",
          "2019-12-31T00:00:00+01:00",
          "2020-01-31T00:00:00+01:00",
          "2020-02-29T00:00:00+01:00",
          "2020-03-31T00:00:00+02:00",
          "2020-04-30T00:00:00+02:00",
          "2020-05-31T00:00:00+02:00",
          "2020-06-30T00:00:00+02:00",
          "2020-07-31T00:00:00+02:00",
          "2020-08-31T00:00:00+02:00",
          "2020-09-30T00:00:00+02:00",
          "2020-10-31T00:00:00+01:00",
          "2020-11-30T00:00:00+01:00",
          "2020-12-31T00:00:00+01:00",
          "2021-01-31T00:00:00+01:00",
          "2021-02-28T00:00:00+01:00",
          "2021-03-31T00:00:00+02:00",
          "2021-04-30T00:00:00+02:00",
          "2021-05-31T00:00:00+02:00",
          "2021-06-30T00:00:00+02:00",
          "2021-07-31T00:00:00+02:00",
          "2021-08-31T00:00:00+02:00",
          "2021-09-30T00:00:00+02:00",
          "2021-10-31T00:00:00+02:00",
          "2021-11-30T00:00:00+01:00",
          "2021-12-31T00:00:00+01:00",
          "2022-01-31T00:00:00+01:00",
          "2022-02-28T00:00:00+01:00",
          "2022-03-31T00:00:00+02:00",
          "2022-04-30T00:00:00+02:00",
          "2022-05-31T00:00:00+02:00",
          "2022-06-30T00:00:00+02:00",
          "2022-07-31T00:00:00+02:00",
          "2022-08-31T00:00:00+02:00",
          "2022-09-30T00:00:00+02:00",
          "2022-10-31T00:00:00+01:00",
          "2022-11-30T00:00:00+01:00",
          "2022-12-31T00:00:00+01:00"
         ],
         "xaxis": "x2",
         "y": [
          null,
          null,
          null,
          null,
          null,
          null,
          null,
          null,
          null,
          null,
          null,
          null,
          8202.291666666666,
          4243.024999999999,
          -316.4249999999981,
          -1692.25,
          247.07500000000195,
          -2405.141666666663,
          -4676.391666666673,
          -4820.191666666661,
          -26.016666666662786,
          -7140.416666666667,
          9474.049999999997,
          -5004.21666666667,
          -13093.558333333334,
          -1080.0166666666676,
          -2197.75,
          -5327.549999999998,
          -8805.049999999997,
          1421.6166666666686,
          -582.2249999999962,
          2366.9333333333293,
          878.4083333333352,
          3003.899999999994,
          -9098.516666666668,
          -2123.608333333332,
          6932.108333333333,
          -1551.3083333333343,
          453.0333333333256,
          9939.19166666666,
          6669.383333333331,
          -1282.3833333333412,
          3205.299999999998,
          -3067.524999999994,
          2068.2083333333335,
          5964.666666666667,
          8076.833333333333,
          2359.3833333333314,
          -1495.449999999997,
          782.200000000002,
          -10117.183333333329,
          -11032.06666666666,
          -6800.125,
          -4323.4499999999925,
          -1213.150000000004,
          1743.0249999999942,
          -3484.050000000008,
          -6860.341666666664,
          -10997.708333333334,
          1035.6666666666667,
          4275.28333333333,
          10640.358333333332,
          18188.958333333332,
          1197.2999999999981,
          10622.849999999997,
          9460.083333333334,
          7303.783333333336,
          12753.350000000006,
          11499.483333333337,
          19129.00833333333,
          12025.25,
          8213.816666666671,
          12607.558333333334,
          29423.30833333333,
          22180.24166666667,
          36167.216666666674,
          56819.98333333334,
          67774.08333333333,
          70567.39166666668,
          65103.9,
          51162.31666666667,
          41943.69166666667,
          26441.45,
          20100.5,
          19325.391666666663,
          4743.208333333333,
          52112.66666666666,
          43607.57499999999,
          59053.341666666674,
          44457.99999999998,
          59183.15833333335,
          50432.22499999998,
          36436.84166666665,
          38488.99166666666,
          39785.908333333326,
          23797.49166666667,
          53340.833333333336,
          54235.20000000001,
          -11744.466666666654,
          69684.575,
          77402.48616666665,
          72782.48566666669,
          65726.30916666666,
          69062.81658333335,
          63357.14833333335,
          25718.289166666684,
          19453.34083333334,
          12157.519249999992
         ],
         "yaxis": "y2"
        },
        {
         "name": "Diff Seasonality 12",
         "type": "scatter",
         "x": [
          "2014-01-31T00:00:00+01:00",
          "2014-02-28T00:00:00+01:00",
          "2014-03-31T00:00:00+02:00",
          "2014-04-30T00:00:00+02:00",
          "2014-05-31T00:00:00+02:00",
          "2014-06-30T00:00:00+02:00",
          "2014-07-31T00:00:00+02:00",
          "2014-08-31T00:00:00+02:00",
          "2014-09-30T00:00:00+02:00",
          "2014-10-31T00:00:00+01:00",
          "2014-11-30T00:00:00+01:00",
          "2014-12-31T00:00:00+01:00",
          "2015-01-31T00:00:00+01:00",
          "2015-02-28T00:00:00+01:00",
          "2015-03-31T00:00:00+02:00",
          "2015-04-30T00:00:00+02:00",
          "2015-05-31T00:00:00+02:00",
          "2015-06-30T00:00:00+02:00",
          "2015-07-31T00:00:00+02:00",
          "2015-08-31T00:00:00+02:00",
          "2015-09-30T00:00:00+02:00",
          "2015-10-31T00:00:00+01:00",
          "2015-11-30T00:00:00+01:00",
          "2015-12-31T00:00:00+01:00",
          "2016-01-31T00:00:00+01:00",
          "2016-02-29T00:00:00+01:00",
          "2016-03-31T00:00:00+02:00",
          "2016-04-30T00:00:00+02:00",
          "2016-05-31T00:00:00+02:00",
          "2016-06-30T00:00:00+02:00",
          "2016-07-31T00:00:00+02:00",
          "2016-08-31T00:00:00+02:00",
          "2016-09-30T00:00:00+02:00",
          "2016-10-31T00:00:00+01:00",
          "2016-11-30T00:00:00+01:00",
          "2016-12-31T00:00:00+01:00",
          "2017-01-31T00:00:00+01:00",
          "2017-02-28T00:00:00+01:00",
          "2017-03-31T00:00:00+02:00",
          "2017-04-30T00:00:00+02:00",
          "2017-05-31T00:00:00+02:00",
          "2017-06-30T00:00:00+02:00",
          "2017-07-31T00:00:00+02:00",
          "2017-08-31T00:00:00+02:00",
          "2017-09-30T00:00:00+02:00",
          "2017-10-31T00:00:00+01:00",
          "2017-11-30T00:00:00+01:00",
          "2017-12-31T00:00:00+01:00",
          "2018-01-31T00:00:00+01:00",
          "2018-02-28T00:00:00+01:00",
          "2018-03-31T00:00:00+02:00",
          "2018-04-30T00:00:00+02:00",
          "2018-05-31T00:00:00+02:00",
          "2018-06-30T00:00:00+02:00",
          "2018-07-31T00:00:00+02:00",
          "2018-08-31T00:00:00+02:00",
          "2018-09-30T00:00:00+02:00",
          "2018-10-31T00:00:00+01:00",
          "2018-11-30T00:00:00+01:00",
          "2018-12-31T00:00:00+01:00",
          "2019-01-31T00:00:00+01:00",
          "2019-02-28T00:00:00+01:00",
          "2019-03-31T00:00:00+01:00",
          "2019-04-30T00:00:00+02:00",
          "2019-05-31T00:00:00+02:00",
          "2019-06-30T00:00:00+02:00",
          "2019-07-31T00:00:00+02:00",
          "2019-08-31T00:00:00+02:00",
          "2019-09-30T00:00:00+02:00",
          "2019-10-31T00:00:00+01:00",
          "2019-11-30T00:00:00+01:00",
          "2019-12-31T00:00:00+01:00",
          "2020-01-31T00:00:00+01:00",
          "2020-02-29T00:00:00+01:00",
          "2020-03-31T00:00:00+02:00",
          "2020-04-30T00:00:00+02:00",
          "2020-05-31T00:00:00+02:00",
          "2020-06-30T00:00:00+02:00",
          "2020-07-31T00:00:00+02:00",
          "2020-08-31T00:00:00+02:00",
          "2020-09-30T00:00:00+02:00",
          "2020-10-31T00:00:00+01:00",
          "2020-11-30T00:00:00+01:00",
          "2020-12-31T00:00:00+01:00",
          "2021-01-31T00:00:00+01:00",
          "2021-02-28T00:00:00+01:00",
          "2021-03-31T00:00:00+02:00",
          "2021-04-30T00:00:00+02:00",
          "2021-05-31T00:00:00+02:00",
          "2021-06-30T00:00:00+02:00",
          "2021-07-31T00:00:00+02:00",
          "2021-08-31T00:00:00+02:00",
          "2021-09-30T00:00:00+02:00",
          "2021-10-31T00:00:00+02:00",
          "2021-11-30T00:00:00+01:00",
          "2021-12-31T00:00:00+01:00",
          "2022-01-31T00:00:00+01:00",
          "2022-02-28T00:00:00+01:00",
          "2022-03-31T00:00:00+02:00",
          "2022-04-30T00:00:00+02:00",
          "2022-05-31T00:00:00+02:00",
          "2022-06-30T00:00:00+02:00",
          "2022-07-31T00:00:00+02:00",
          "2022-08-31T00:00:00+02:00",
          "2022-09-30T00:00:00+02:00",
          "2022-10-31T00:00:00+01:00",
          "2022-11-30T00:00:00+01:00",
          "2022-12-31T00:00:00+01:00"
         ],
         "xaxis": "x3",
         "y": [
          null,
          null,
          null,
          null,
          null,
          null,
          null,
          null,
          null,
          null,
          null,
          null,
          null,
          null,
          null,
          null,
          null,
          null,
          null,
          null,
          null,
          null,
          null,
          null,
          -21295.850000000002,
          -5323.041666666667,
          -1881.3250000000019,
          -3635.299999999998,
          -9052.125,
          3826.7583333333314,
          4094.1666666666765,
          7187.12499999999,
          904.424999999998,
          10144.31666666666,
          -18572.566666666666,
          2880.608333333337,
          20025.666666666668,
          -471.2916666666667,
          2650.7833333333256,
          15266.74166666666,
          15474.433333333329,
          -2704.0000000000095,
          3787.524999999994,
          -5434.458333333324,
          1189.7999999999981,
          2960.7666666666723,
          17175.350000000002,
          4482.991666666664,
          -8427.558333333329,
          2333.5083333333364,
          -10570.216666666654,
          -20971.25833333332,
          -13469.508333333331,
          -3041.066666666651,
          -4418.450000000002,
          4810.549999999988,
          -5552.258333333341,
          -12825.008333333331,
          -19074.541666666668,
          -1323.7166666666647,
          5770.733333333327,
          9858.158333333331,
          28306.141666666663,
          12229.36666666666,
          17422.974999999995,
          13783.533333333326,
          8516.93333333334,
          11010.325000000012,
          14983.533333333346,
          25989.349999999995,
          23022.958333333332,
          7178.150000000004,
          8332.275000000003,
          18782.949999999997,
          3991.283333333335,
          34969.91666666668,
          46197.13333333334,
          58314,
          63263.60833333334,
          52350.549999999996,
          39662.833333333336,
          22814.683333333338,
          14416.200000000003,
          11886.683333333329,
          6717.8333333333285,
          -24680.099999999995,
          29932.42499999999,
          7440.358333333318,
          2233.358333333337,
          -23316.083333333354,
          -11384.233333333328,
          -14671.675000000027,
          -14725.475000000015,
          -3454.7000000000116,
          13344.458333333323,
          3696.9916666666686,
          34015.44166666667,
          49491.991666666676,
          -63857.13333333331,
          26077,
          18349.144499999977,
          28324.485666666704,
          6543.150833333319,
          18630.591583333367,
          26920.3066666667,
          -12770.702499999976,
          -20332.567499999986,
          -11639.972416666677
         ],
         "yaxis": "y3"
        }
       ],
       "layout": {
        "annotations": [
         {
          "font": {
           "size": 16
          },
          "showarrow": false,
          "text": "generation (Original)",
          "x": 0.5,
          "xanchor": "center",
          "xref": "paper",
          "y": 0.9999999999999999,
          "yanchor": "bottom",
          "yref": "paper"
         },
         {
          "font": {
           "size": 16
          },
          "showarrow": false,
          "text": "Diff Stationarity",
          "x": 0.5,
          "xanchor": "center",
          "xref": "paper",
          "y": 0.6166666666666666,
          "yanchor": "bottom",
          "yref": "paper"
         },
         {
          "font": {
           "size": 16
          },
          "showarrow": false,
          "text": "Diff Seasonality 12",
          "x": 0.5,
          "xanchor": "center",
          "xref": "paper",
          "y": 0.2333333333333333,
          "yanchor": "bottom",
          "yref": "paper"
         }
        ],
        "autosize": true,
        "showlegend": false,
        "template": {
         "data": {
          "bar": [
           {
            "error_x": {
             "color": "#2a3f5f"
            },
            "error_y": {
             "color": "#2a3f5f"
            },
            "marker": {
             "line": {
              "color": "#E5ECF6",
              "width": 0.5
             },
             "pattern": {
              "fillmode": "overlay",
              "size": 10,
              "solidity": 0.2
             }
            },
            "type": "bar"
           }
          ],
          "barpolar": [
           {
            "marker": {
             "line": {
              "color": "#E5ECF6",
              "width": 0.5
             },
             "pattern": {
              "fillmode": "overlay",
              "size": 10,
              "solidity": 0.2
             }
            },
            "type": "barpolar"
           }
          ],
          "carpet": [
           {
            "aaxis": {
             "endlinecolor": "#2a3f5f",
             "gridcolor": "white",
             "linecolor": "white",
             "minorgridcolor": "white",
             "startlinecolor": "#2a3f5f"
            },
            "baxis": {
             "endlinecolor": "#2a3f5f",
             "gridcolor": "white",
             "linecolor": "white",
             "minorgridcolor": "white",
             "startlinecolor": "#2a3f5f"
            },
            "type": "carpet"
           }
          ],
          "choropleth": [
           {
            "colorbar": {
             "outlinewidth": 0,
             "ticks": ""
            },
            "type": "choropleth"
           }
          ],
          "contour": [
           {
            "colorbar": {
             "outlinewidth": 0,
             "ticks": ""
            },
            "colorscale": [
             [
              0,
              "#0d0887"
             ],
             [
              0.1111111111111111,
              "#46039f"
             ],
             [
              0.2222222222222222,
              "#7201a8"
             ],
             [
              0.3333333333333333,
              "#9c179e"
             ],
             [
              0.4444444444444444,
              "#bd3786"
             ],
             [
              0.5555555555555556,
              "#d8576b"
             ],
             [
              0.6666666666666666,
              "#ed7953"
             ],
             [
              0.7777777777777778,
              "#fb9f3a"
             ],
             [
              0.8888888888888888,
              "#fdca26"
             ],
             [
              1,
              "#f0f921"
             ]
            ],
            "type": "contour"
           }
          ],
          "contourcarpet": [
           {
            "colorbar": {
             "outlinewidth": 0,
             "ticks": ""
            },
            "type": "contourcarpet"
           }
          ],
          "heatmap": [
           {
            "colorbar": {
             "outlinewidth": 0,
             "ticks": ""
            },
            "colorscale": [
             [
              0,
              "#0d0887"
             ],
             [
              0.1111111111111111,
              "#46039f"
             ],
             [
              0.2222222222222222,
              "#7201a8"
             ],
             [
              0.3333333333333333,
              "#9c179e"
             ],
             [
              0.4444444444444444,
              "#bd3786"
             ],
             [
              0.5555555555555556,
              "#d8576b"
             ],
             [
              0.6666666666666666,
              "#ed7953"
             ],
             [
              0.7777777777777778,
              "#fb9f3a"
             ],
             [
              0.8888888888888888,
              "#fdca26"
             ],
             [
              1,
              "#f0f921"
             ]
            ],
            "type": "heatmap"
           }
          ],
          "heatmapgl": [
           {
            "colorbar": {
             "outlinewidth": 0,
             "ticks": ""
            },
            "colorscale": [
             [
              0,
              "#0d0887"
             ],
             [
              0.1111111111111111,
              "#46039f"
             ],
             [
              0.2222222222222222,
              "#7201a8"
             ],
             [
              0.3333333333333333,
              "#9c179e"
             ],
             [
              0.4444444444444444,
              "#bd3786"
             ],
             [
              0.5555555555555556,
              "#d8576b"
             ],
             [
              0.6666666666666666,
              "#ed7953"
             ],
             [
              0.7777777777777778,
              "#fb9f3a"
             ],
             [
              0.8888888888888888,
              "#fdca26"
             ],
             [
              1,
              "#f0f921"
             ]
            ],
            "type": "heatmapgl"
           }
          ],
          "histogram": [
           {
            "marker": {
             "pattern": {
              "fillmode": "overlay",
              "size": 10,
              "solidity": 0.2
             }
            },
            "type": "histogram"
           }
          ],
          "histogram2d": [
           {
            "colorbar": {
             "outlinewidth": 0,
             "ticks": ""
            },
            "colorscale": [
             [
              0,
              "#0d0887"
             ],
             [
              0.1111111111111111,
              "#46039f"
             ],
             [
              0.2222222222222222,
              "#7201a8"
             ],
             [
              0.3333333333333333,
              "#9c179e"
             ],
             [
              0.4444444444444444,
              "#bd3786"
             ],
             [
              0.5555555555555556,
              "#d8576b"
             ],
             [
              0.6666666666666666,
              "#ed7953"
             ],
             [
              0.7777777777777778,
              "#fb9f3a"
             ],
             [
              0.8888888888888888,
              "#fdca26"
             ],
             [
              1,
              "#f0f921"
             ]
            ],
            "type": "histogram2d"
           }
          ],
          "histogram2dcontour": [
           {
            "colorbar": {
             "outlinewidth": 0,
             "ticks": ""
            },
            "colorscale": [
             [
              0,
              "#0d0887"
             ],
             [
              0.1111111111111111,
              "#46039f"
             ],
             [
              0.2222222222222222,
              "#7201a8"
             ],
             [
              0.3333333333333333,
              "#9c179e"
             ],
             [
              0.4444444444444444,
              "#bd3786"
             ],
             [
              0.5555555555555556,
              "#d8576b"
             ],
             [
              0.6666666666666666,
              "#ed7953"
             ],
             [
              0.7777777777777778,
              "#fb9f3a"
             ],
             [
              0.8888888888888888,
              "#fdca26"
             ],
             [
              1,
              "#f0f921"
             ]
            ],
            "type": "histogram2dcontour"
           }
          ],
          "mesh3d": [
           {
            "colorbar": {
             "outlinewidth": 0,
             "ticks": ""
            },
            "type": "mesh3d"
           }
          ],
          "parcoords": [
           {
            "line": {
             "colorbar": {
              "outlinewidth": 0,
              "ticks": ""
             }
            },
            "type": "parcoords"
           }
          ],
          "pie": [
           {
            "automargin": true,
            "type": "pie"
           }
          ],
          "scatter": [
           {
            "fillpattern": {
             "fillmode": "overlay",
             "size": 10,
             "solidity": 0.2
            },
            "type": "scatter"
           }
          ],
          "scatter3d": [
           {
            "line": {
             "colorbar": {
              "outlinewidth": 0,
              "ticks": ""
             }
            },
            "marker": {
             "colorbar": {
              "outlinewidth": 0,
              "ticks": ""
             }
            },
            "type": "scatter3d"
           }
          ],
          "scattercarpet": [
           {
            "marker": {
             "colorbar": {
              "outlinewidth": 0,
              "ticks": ""
             }
            },
            "type": "scattercarpet"
           }
          ],
          "scattergeo": [
           {
            "marker": {
             "colorbar": {
              "outlinewidth": 0,
              "ticks": ""
             }
            },
            "type": "scattergeo"
           }
          ],
          "scattergl": [
           {
            "marker": {
             "colorbar": {
              "outlinewidth": 0,
              "ticks": ""
             }
            },
            "type": "scattergl"
           }
          ],
          "scattermapbox": [
           {
            "marker": {
             "colorbar": {
              "outlinewidth": 0,
              "ticks": ""
             }
            },
            "type": "scattermapbox"
           }
          ],
          "scatterpolar": [
           {
            "marker": {
             "colorbar": {
              "outlinewidth": 0,
              "ticks": ""
             }
            },
            "type": "scatterpolar"
           }
          ],
          "scatterpolargl": [
           {
            "marker": {
             "colorbar": {
              "outlinewidth": 0,
              "ticks": ""
             }
            },
            "type": "scatterpolargl"
           }
          ],
          "scatterternary": [
           {
            "marker": {
             "colorbar": {
              "outlinewidth": 0,
              "ticks": ""
             }
            },
            "type": "scatterternary"
           }
          ],
          "surface": [
           {
            "colorbar": {
             "outlinewidth": 0,
             "ticks": ""
            },
            "colorscale": [
             [
              0,
              "#0d0887"
             ],
             [
              0.1111111111111111,
              "#46039f"
             ],
             [
              0.2222222222222222,
              "#7201a8"
             ],
             [
              0.3333333333333333,
              "#9c179e"
             ],
             [
              0.4444444444444444,
              "#bd3786"
             ],
             [
              0.5555555555555556,
              "#d8576b"
             ],
             [
              0.6666666666666666,
              "#ed7953"
             ],
             [
              0.7777777777777778,
              "#fb9f3a"
             ],
             [
              0.8888888888888888,
              "#fdca26"
             ],
             [
              1,
              "#f0f921"
             ]
            ],
            "type": "surface"
           }
          ],
          "table": [
           {
            "cells": {
             "fill": {
              "color": "#EBF0F8"
             },
             "line": {
              "color": "white"
             }
            },
            "header": {
             "fill": {
              "color": "#C8D4E3"
             },
             "line": {
              "color": "white"
             }
            },
            "type": "table"
           }
          ]
         },
         "layout": {
          "annotationdefaults": {
           "arrowcolor": "#2a3f5f",
           "arrowhead": 0,
           "arrowwidth": 1
          },
          "autotypenumbers": "strict",
          "coloraxis": {
           "colorbar": {
            "outlinewidth": 0,
            "ticks": ""
           }
          },
          "colorscale": {
           "diverging": [
            [
             0,
             "#8e0152"
            ],
            [
             0.1,
             "#c51b7d"
            ],
            [
             0.2,
             "#de77ae"
            ],
            [
             0.3,
             "#f1b6da"
            ],
            [
             0.4,
             "#fde0ef"
            ],
            [
             0.5,
             "#f7f7f7"
            ],
            [
             0.6,
             "#e6f5d0"
            ],
            [
             0.7,
             "#b8e186"
            ],
            [
             0.8,
             "#7fbc41"
            ],
            [
             0.9,
             "#4d9221"
            ],
            [
             1,
             "#276419"
            ]
           ],
           "sequential": [
            [
             0,
             "#0d0887"
            ],
            [
             0.1111111111111111,
             "#46039f"
            ],
            [
             0.2222222222222222,
             "#7201a8"
            ],
            [
             0.3333333333333333,
             "#9c179e"
            ],
            [
             0.4444444444444444,
             "#bd3786"
            ],
            [
             0.5555555555555556,
             "#d8576b"
            ],
            [
             0.6666666666666666,
             "#ed7953"
            ],
            [
             0.7777777777777778,
             "#fb9f3a"
            ],
            [
             0.8888888888888888,
             "#fdca26"
            ],
            [
             1,
             "#f0f921"
            ]
           ],
           "sequentialminus": [
            [
             0,
             "#0d0887"
            ],
            [
             0.1111111111111111,
             "#46039f"
            ],
            [
             0.2222222222222222,
             "#7201a8"
            ],
            [
             0.3333333333333333,
             "#9c179e"
            ],
            [
             0.4444444444444444,
             "#bd3786"
            ],
            [
             0.5555555555555556,
             "#d8576b"
            ],
            [
             0.6666666666666666,
             "#ed7953"
            ],
            [
             0.7777777777777778,
             "#fb9f3a"
            ],
            [
             0.8888888888888888,
             "#fdca26"
            ],
            [
             1,
             "#f0f921"
            ]
           ]
          },
          "colorway": [
           "#636efa",
           "#EF553B",
           "#00cc96",
           "#ab63fa",
           "#FFA15A",
           "#19d3f3",
           "#FF6692",
           "#B6E880",
           "#FF97FF",
           "#FECB52"
          ],
          "font": {
           "color": "#2a3f5f"
          },
          "geo": {
           "bgcolor": "white",
           "lakecolor": "white",
           "landcolor": "#E5ECF6",
           "showlakes": true,
           "showland": true,
           "subunitcolor": "white"
          },
          "hoverlabel": {
           "align": "left"
          },
          "hovermode": "closest",
          "mapbox": {
           "style": "light"
          },
          "paper_bgcolor": "white",
          "plot_bgcolor": "#E5ECF6",
          "polar": {
           "angularaxis": {
            "gridcolor": "white",
            "linecolor": "white",
            "ticks": ""
           },
           "bgcolor": "#E5ECF6",
           "radialaxis": {
            "gridcolor": "white",
            "linecolor": "white",
            "ticks": ""
           }
          },
          "scene": {
           "xaxis": {
            "backgroundcolor": "#E5ECF6",
            "gridcolor": "white",
            "gridwidth": 2,
            "linecolor": "white",
            "showbackground": true,
            "ticks": "",
            "zerolinecolor": "white"
           },
           "yaxis": {
            "backgroundcolor": "#E5ECF6",
            "gridcolor": "white",
            "gridwidth": 2,
            "linecolor": "white",
            "showbackground": true,
            "ticks": "",
            "zerolinecolor": "white"
           },
           "zaxis": {
            "backgroundcolor": "#E5ECF6",
            "gridcolor": "white",
            "gridwidth": 2,
            "linecolor": "white",
            "showbackground": true,
            "ticks": "",
            "zerolinecolor": "white"
           }
          },
          "shapedefaults": {
           "line": {
            "color": "#2a3f5f"
           }
          },
          "ternary": {
           "aaxis": {
            "gridcolor": "white",
            "linecolor": "white",
            "ticks": ""
           },
           "baxis": {
            "gridcolor": "white",
            "linecolor": "white",
            "ticks": ""
           },
           "bgcolor": "#E5ECF6",
           "caxis": {
            "gridcolor": "white",
            "linecolor": "white",
            "ticks": ""
           }
          },
          "title": {
           "x": 0.05
          },
          "xaxis": {
           "automargin": true,
           "gridcolor": "white",
           "linecolor": "white",
           "ticks": "",
           "title": {
            "standoff": 15
           },
           "zerolinecolor": "white",
           "zerolinewidth": 2
          },
          "yaxis": {
           "automargin": true,
           "gridcolor": "white",
           "linecolor": "white",
           "ticks": "",
           "title": {
            "standoff": 15
           },
           "zerolinecolor": "white",
           "zerolinewidth": 2
          }
         }
        },
        "title": {
         "text": "Trend (S) Moving Average of Solar Photovoltaic Energy Generation in Spain"
        },
        "xaxis": {
         "anchor": "y",
         "autorange": true,
         "domain": [
          0,
          1
         ],
         "range": [
          "2014-01-31",
          "2022-12-31"
         ],
         "type": "date"
        },
        "xaxis2": {
         "anchor": "y2",
         "autorange": true,
         "domain": [
          0,
          1
         ],
         "range": [
          "2014-01-31",
          "2022-12-31"
         ],
         "type": "date"
        },
        "xaxis3": {
         "anchor": "y3",
         "autorange": true,
         "domain": [
          0,
          1
         ],
         "range": [
          "2014-01-31",
          "2022-12-31"
         ],
         "type": "date"
        },
        "yaxis": {
         "anchor": "x",
         "autorange": true,
         "domain": [
          0.7666666666666666,
          0.9999999999999999
         ],
         "range": [
          522581.3461018518,
          2377290.424064815
         ],
         "type": "linear"
        },
        "yaxis2": {
         "anchor": "x2",
         "autorange": true,
         "domain": [
          0.3833333333333333,
          0.6166666666666666
         ],
         "range": [
          -18121.11636111111,
          82430.04419444443
         ],
         "type": "linear"
        },
        "yaxis3": {
         "anchor": "x3",
         "autorange": true,
         "domain": [
          0,
          0.2333333333333333
         ],
         "range": [
          -70919.39675925924,
          70325.87175925926
         ],
         "type": "linear"
        }
       }
      },
      "image/png": "[encoded data removed]"
     },
     "execution_count": null,
     "metadata": {},
     "output_type": "display_data"
    }
   ],
   "source": []
  },
  {
   "cell_type": "code",
   "execution_count": null,
   "metadata": {},
   "outputs": [],
   "source": []
  },
  {
   "cell_type": "markdown",
   "metadata": {},
   "source": [
    "### ADF Test"
   ]
  },
  {
   "cell_type": "code",
   "execution_count": null,
   "metadata": {},
   "outputs": [
    {
     "execution_count": null,
     "name": "stdout",
     "output_type": "stream",
     "text": [
      "ADF Statistic: -3.383067486744962\n",
      "p-value: 0.011549822632503919\n"
     ]
    }
   ],
   "source": []
  },
  {
   "cell_type": "markdown",
   "metadata": {},
   "source": [
    "### KPSS Test"
   ]
  },
  {
   "cell_type": "code",
   "execution_count": null,
   "metadata": {},
   "outputs": [
    {
     "execution_count": null,
     "name": "stdout",
     "output_type": "stream",
     "text": [
      "\n",
      "KPSS Statistic: 0.1193914855599133\n",
      "p-value: 0.1\n"
     ]
    },
    {
     "execution_count": null,
     "name": "stderr",
     "output_type": "stream",
     "text": [
      "/var/folders/xm/_8bv9n2n5f3f64xxt_d5_l880000gn/T/ipykernel_2969/1870162030.py:1: InterpolationWarning:\n",
      "\n",
      "The test statistic is outside of the range of p-values available in the\n",
      "look-up table. The actual p-value is greater than the p-value returned.\n",
      "\n",
      "\n"
     ]
    }
   ],
   "source": []
  }
 ],
 "metadata": {
  "kernelspec": {
   "display_name": "Python 3 (ipykernel)",
   "language": "python",
   "name": "python3"
  },
  "language_info": {
   "codemirror_mode": {
    "name": "ipython",
    "version": 3
   },
   "file_extension": ".py",
   "mimetype": "text/x-python",
   "name": "python",
   "nbconvert_exporter": "python",
   "pygments_lexer": "ipython3",
   "version": "3.10.12"
  }
 },
 "nbformat": 4,
 "nbformat_minor": 4
}
