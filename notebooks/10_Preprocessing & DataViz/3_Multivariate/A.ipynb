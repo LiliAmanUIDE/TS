{
 "cells": [
  {
   "cell_type": "markdown",
   "metadata": {},
   "source": [
    "# Multivariate Time Series Manipulation & Visualization"
   ]
  },
  {
   "cell_type": "markdown",
   "metadata": {},
   "source": [
    "## Overview"
   ]
  },
  {
   "cell_type": "markdown",
   "metadata": {},
   "source": [
    "<style>\n",
    "    table.custom-table {\n",
    "        max-width: 1000px;\n",
    "        width: 100%;\n",
    "        margin: 0 auto; /* centers the table on the page */\n",
    "    }\n",
    "\n",
    "    table.custom-table td {\n",
    "        background-color: #fff;\n",
    "    }\n",
    "    \n",
    "    table.custom-table th, table.custom-table td {\n",
    "        text-align: center;\n",
    "        vertical-align: middle;\n",
    "        padding: 5px;\n",
    "        width: 333px; /* distribute the total width equally among three columns */\n",
    "    }\n",
    "\n",
    "    table.custom-table img {\n",
    "        width: 100%;\n",
    "        display: block; /* removes any gap under the image */\n",
    "    }\n",
    "</style>\n",
    "\n",
    "\n",
    "<table class=\"custom-table\">\n",
    "    <thead>\n",
    "        <tr>\n",
    "            <th>Output: Accumulated Generation</th>\n",
    "            <th>Output: Technology Relationship</th>\n",
    "            <th>Input: Hourly Energy Generation</th>\n",
    "        </tr>\n",
    "    </thead>\n",
    "    <tbody>\n",
    "        <tr>\n",
    "            <td>\n",
    "                <img src=\"src/03_output_2.png\" alt=\"Solar Image 1\">\n",
    "            </td>\n",
    "            <td>\n",
    "                <img src=\"src/03_output_1.png\" alt=\"Solar Image 2\">\n",
    "            </td>\n",
    "            <td>\n",
    "                <img src=\"src/03_input.png\" alt=\"Solar Image 3\">\n",
    "            </td>\n",
    "        </tr>\n",
    "    </tbody>\n",
    "</table>\n"
   ]
  },
  {
   "cell_type": "markdown",
   "metadata": {},
   "source": [
    "## Data"
   ]
  },
  {
   "cell_type": "code",
   "execution_count": null,
   "metadata": {},
   "outputs": [
    {
     "data": {
      "text/html": [
       "<div>\n",
       "<style scoped>\n",
       "    .dataframe tbody tr th:only-of-type {\n",
       "        vertical-align: middle;\n",
       "    }\n",
       "\n",
       "    .dataframe tbody tr th {\n",
       "        vertical-align: top;\n",
       "    }\n",
       "\n",
       "    .dataframe thead th {\n",
       "        text-align: right;\n",
       "    }\n",
       "</style>\n",
       "<table border=\"1\" class=\"dataframe\">\n",
       "  <thead>\n",
       "    <tr style=\"text-align: right;\">\n",
       "      <th></th>\n",
       "      <th>Coal</th>\n",
       "      <th>Cogeneration</th>\n",
       "      <th>Combined Cycle (Gas)</th>\n",
       "      <th>Eolic</th>\n",
       "      <th>Hydraulic</th>\n",
       "      <th>Non-Renewable Residues</th>\n",
       "      <th>Nuclear</th>\n",
       "      <th>Pumped Storage Hydropower</th>\n",
       "      <th>Renewables Other</th>\n",
       "      <th>Solar Photovoltaic</th>\n",
       "      <th>Solar Thermal</th>\n",
       "    </tr>\n",
       "    <tr>\n",
       "      <th>time</th>\n",
       "      <th></th>\n",
       "      <th></th>\n",
       "      <th></th>\n",
       "      <th></th>\n",
       "      <th></th>\n",
       "      <th></th>\n",
       "      <th></th>\n",
       "      <th></th>\n",
       "      <th></th>\n",
       "      <th></th>\n",
       "      <th></th>\n",
       "    </tr>\n",
       "  </thead>\n",
       "  <tbody>\n",
       "    <tr>\n",
       "      <th>2022-09-01 00:00:00</th>\n",
       "      <td>695.0</td>\n",
       "      <td>1155.1</td>\n",
       "      <td>14748.950</td>\n",
       "      <td>4387.050</td>\n",
       "      <td>899.675</td>\n",
       "      <td>273.7</td>\n",
       "      <td>6869.9</td>\n",
       "      <td>201.60</td>\n",
       "      <td>516.6</td>\n",
       "      <td>1.0</td>\n",
       "      <td>287.7</td>\n",
       "    </tr>\n",
       "    <tr>\n",
       "      <th>2022-09-01 01:00:00</th>\n",
       "      <td>750.0</td>\n",
       "      <td>1162.1</td>\n",
       "      <td>14255.600</td>\n",
       "      <td>4008.900</td>\n",
       "      <td>850.200</td>\n",
       "      <td>271.6</td>\n",
       "      <td>6881.9</td>\n",
       "      <td>117.70</td>\n",
       "      <td>514.4</td>\n",
       "      <td>1.0</td>\n",
       "      <td>247.7</td>\n",
       "    </tr>\n",
       "    <tr>\n",
       "      <th>...</th>\n",
       "      <td>...</td>\n",
       "      <td>...</td>\n",
       "      <td>...</td>\n",
       "      <td>...</td>\n",
       "      <td>...</td>\n",
       "      <td>...</td>\n",
       "      <td>...</td>\n",
       "      <td>...</td>\n",
       "      <td>...</td>\n",
       "      <td>...</td>\n",
       "      <td>...</td>\n",
       "    </tr>\n",
       "    <tr>\n",
       "      <th>2023-08-31 22:00:00</th>\n",
       "      <td>477.5</td>\n",
       "      <td>2153.4</td>\n",
       "      <td>10575.375</td>\n",
       "      <td>3057.950</td>\n",
       "      <td>3541.400</td>\n",
       "      <td>239.4</td>\n",
       "      <td>6866.0</td>\n",
       "      <td>946.25</td>\n",
       "      <td>510.7</td>\n",
       "      <td>17.6</td>\n",
       "      <td>607.9</td>\n",
       "    </tr>\n",
       "    <tr>\n",
       "      <th>2023-08-31 23:00:00</th>\n",
       "      <td>500.0</td>\n",
       "      <td>2127.7</td>\n",
       "      <td>9988.875</td>\n",
       "      <td>3028.675</td>\n",
       "      <td>3159.500</td>\n",
       "      <td>240.8</td>\n",
       "      <td>6869.0</td>\n",
       "      <td>334.95</td>\n",
       "      <td>511.9</td>\n",
       "      <td>17.4</td>\n",
       "      <td>619.8</td>\n",
       "    </tr>\n",
       "  </tbody>\n",
       "</table>\n",
       "<p>8759 rows × 11 columns</p>\n",
       "</div>"
      ],
      "text/plain": [
       "                      Coal  Cogeneration  Combined Cycle (Gas)     Eolic  \\\n",
       "time                                                                       \n",
       "2022-09-01 00:00:00  695.0        1155.1             14748.950  4387.050   \n",
       "2022-09-01 01:00:00  750.0        1162.1             14255.600  4008.900   \n",
       "...                    ...           ...                   ...       ...   \n",
       "2023-08-31 22:00:00  477.5        2153.4             10575.375  3057.950   \n",
       "2023-08-31 23:00:00  500.0        2127.7              9988.875  3028.675   \n",
       "\n",
       "                     Hydraulic  Non-Renewable Residues  Nuclear  \\\n",
       "time                                                              \n",
       "2022-09-01 00:00:00    899.675                   273.7   6869.9   \n",
       "2022-09-01 01:00:00    850.200                   271.6   6881.9   \n",
       "...                        ...                     ...      ...   \n",
       "2023-08-31 22:00:00   3541.400                   239.4   6866.0   \n",
       "2023-08-31 23:00:00   3159.500                   240.8   6869.0   \n",
       "\n",
       "                     Pumped Storage Hydropower  Renewables Other  \\\n",
       "time                                                               \n",
       "2022-09-01 00:00:00                     201.60             516.6   \n",
       "2022-09-01 01:00:00                     117.70             514.4   \n",
       "...                                        ...               ...   \n",
       "2023-08-31 22:00:00                     946.25             510.7   \n",
       "2023-08-31 23:00:00                     334.95             511.9   \n",
       "\n",
       "                     Solar Photovoltaic  Solar Thermal  \n",
       "time                                                    \n",
       "2022-09-01 00:00:00                 1.0          287.7  \n",
       "2022-09-01 01:00:00                 1.0          247.7  \n",
       "...                                 ...            ...  \n",
       "2023-08-31 22:00:00                17.6          607.9  \n",
       "2023-08-31 23:00:00                17.4          619.8  \n",
       "\n",
       "[8759 rows x 11 columns]"
      ]
     },
     "execution_count": null,
     "metadata": {},
     "output_type": "execute_result"
    }
   ],
   "source": [
    "#!\n",
    "\n",
    "import warnings\n",
    "warnings.filterwarnings('ignore')\n",
    "\n",
    "import pandas as pd\n",
    "df = pd.read_csv('../../../data/energy_generation_hourly_year.csv', index_col=0, parse_dates=True)\n",
    "df"
   ]
  },
  {
   "cell_type": "code",
   "execution_count": null,
   "metadata": {},
   "outputs": [],
   "source": []
  },
  {
   "cell_type": "code",
   "execution_count": null,
   "metadata": {},
   "outputs": [
    {
     "data": {
      "image/png": "[encoded data removed]",
      "text/plain": [
       "<Figure size 640x480 with 1 Axes>"
      ]
     },
     "execution_count": null,
     "metadata": {},
     "output_type": "display_data"
    }
   ],
   "source": []
  },
  {
   "cell_type": "markdown",
   "metadata": {},
   "source": [
    "## Resampling the Time\n",
    "- [Date offset `rule` list](https://pandas.pydata.org/docs/user_guide/timeseries.html#dateoffset-objects)\n",
    "- [Pandas plot `kind` list](https://pandas.pydata.org/docs/reference/api/pandas.DataFrame.plot.html)"
   ]
  },
  {
   "cell_type": "markdown",
   "metadata": {},
   "source": [
    "### Daily"
   ]
  },
  {
   "cell_type": "code",
   "execution_count": null,
   "metadata": {},
   "outputs": [
    {
     "data": {
      "text/plain": [
       "<AxesSubplot: xlabel='time'>"
      ]
     },
     "execution_count": null,
     "metadata": {},
     "output_type": "execute_result"
    },
    {
     "data": {
      "image/png": "[encoded data removed]",
      "text/plain": [
       "<Figure size 640x480 with 1 Axes>"
      ]
     },
     "execution_count": null,
     "metadata": {},
     "output_type": "display_data"
    }
   ],
   "source": []
  },
  {
   "cell_type": "markdown",
   "metadata": {},
   "source": [
    "### Monthly"
   ]
  },
  {
   "cell_type": "code",
   "execution_count": null,
   "metadata": {},
   "outputs": [
    {
     "data": {
      "text/plain": [
       "<AxesSubplot: xlabel='time'>"
      ]
     },
     "execution_count": null,
     "metadata": {},
     "output_type": "execute_result"
    },
    {
     "data": {
      "image/png": "[encoded data removed]",
      "text/plain": [
       "<Figure size 640x480 with 1 Axes>"
      ]
     },
     "execution_count": null,
     "metadata": {},
     "output_type": "display_data"
    }
   ],
   "source": []
  },
  {
   "cell_type": "code",
   "execution_count": null,
   "metadata": {},
   "outputs": [
    {
     "data": {
      "text/plain": [
       "<AxesSubplot: xlabel='time'>"
      ]
     },
     "execution_count": null,
     "metadata": {},
     "output_type": "execute_result"
    },
    {
     "data": {
      "image/png": "[encoded data removed]",
      "text/plain": [
       "<Figure size 640x480 with 1 Axes>"
      ]
     },
     "execution_count": null,
     "metadata": {},
     "output_type": "display_data"
    }
   ],
   "source": []
  },
  {
   "cell_type": "code",
   "execution_count": null,
   "metadata": {},
   "outputs": [
    {
     "data": {
      "image/png": "[encoded data removed]",
      "text/plain": [
       "<Figure size 640x480 with 1 Axes>"
      ]
     },
     "execution_count": null,
     "metadata": {},
     "output_type": "display_data"
    }
   ],
   "source": []
  },
  {
   "cell_type": "markdown",
   "metadata": {},
   "source": [
    "## Visualize Time Series Correlation"
   ]
  },
  {
   "cell_type": "code",
   "execution_count": null,
   "metadata": {},
   "outputs": [
    {
     "data": {
      "text/html": [
       "<div>\n",
       "<style scoped>\n",
       "    .dataframe tbody tr th:only-of-type {\n",
       "        vertical-align: middle;\n",
       "    }\n",
       "\n",
       "    .dataframe tbody tr th {\n",
       "        vertical-align: top;\n",
       "    }\n",
       "\n",
       "    .dataframe thead th {\n",
       "        text-align: right;\n",
       "    }\n",
       "</style>\n",
       "<table border=\"1\" class=\"dataframe\">\n",
       "  <thead>\n",
       "    <tr style=\"text-align: right;\">\n",
       "      <th></th>\n",
       "      <th>Coal</th>\n",
       "      <th>Cogeneration</th>\n",
       "      <th>Combined Cycle (Gas)</th>\n",
       "      <th>Eolic</th>\n",
       "      <th>Hydraulic</th>\n",
       "      <th>Non-Renewable Residues</th>\n",
       "      <th>Nuclear</th>\n",
       "      <th>Pumped Storage Hydropower</th>\n",
       "      <th>Renewables Other</th>\n",
       "      <th>Solar Photovoltaic</th>\n",
       "      <th>Solar Thermal</th>\n",
       "    </tr>\n",
       "    <tr>\n",
       "      <th>time</th>\n",
       "      <th></th>\n",
       "      <th></th>\n",
       "      <th></th>\n",
       "      <th></th>\n",
       "      <th></th>\n",
       "      <th></th>\n",
       "      <th></th>\n",
       "      <th></th>\n",
       "      <th></th>\n",
       "      <th></th>\n",
       "      <th></th>\n",
       "    </tr>\n",
       "  </thead>\n",
       "  <tbody>\n",
       "    <tr>\n",
       "      <th>2022-09-01</th>\n",
       "      <td>136546.000</td>\n",
       "      <td>172293.173</td>\n",
       "      <td>1923790.391</td>\n",
       "      <td>864037.706</td>\n",
       "      <td>172805.520</td>\n",
       "      <td>44596.742</td>\n",
       "      <td>1157554.000</td>\n",
       "      <td>63015.933</td>\n",
       "      <td>82948.067</td>\n",
       "      <td>695863.476</td>\n",
       "      <td>133947.275</td>\n",
       "    </tr>\n",
       "    <tr>\n",
       "      <th>2022-09-08</th>\n",
       "      <td>162789.817</td>\n",
       "      <td>155962.252</td>\n",
       "      <td>1936149.859</td>\n",
       "      <td>871012.693</td>\n",
       "      <td>259821.964</td>\n",
       "      <td>43652.217</td>\n",
       "      <td>1161943.117</td>\n",
       "      <td>60223.724</td>\n",
       "      <td>79612.056</td>\n",
       "      <td>555033.259</td>\n",
       "      <td>82339.811</td>\n",
       "    </tr>\n",
       "    <tr>\n",
       "      <th>...</th>\n",
       "      <td>...</td>\n",
       "      <td>...</td>\n",
       "      <td>...</td>\n",
       "      <td>...</td>\n",
       "      <td>...</td>\n",
       "      <td>...</td>\n",
       "      <td>...</td>\n",
       "      <td>...</td>\n",
       "      <td>...</td>\n",
       "      <td>...</td>\n",
       "      <td>...</td>\n",
       "    </tr>\n",
       "    <tr>\n",
       "      <th>2023-08-24</th>\n",
       "      <td>100683.501</td>\n",
       "      <td>302946.699</td>\n",
       "      <td>1029472.369</td>\n",
       "      <td>1164917.767</td>\n",
       "      <td>216970.617</td>\n",
       "      <td>39295.900</td>\n",
       "      <td>1127421.700</td>\n",
       "      <td>75029.051</td>\n",
       "      <td>75374.591</td>\n",
       "      <td>900329.814</td>\n",
       "      <td>152151.446</td>\n",
       "    </tr>\n",
       "    <tr>\n",
       "      <th>2023-08-31</th>\n",
       "      <td>12551.600</td>\n",
       "      <td>49434.506</td>\n",
       "      <td>157466.900</td>\n",
       "      <td>69646.772</td>\n",
       "      <td>40281.783</td>\n",
       "      <td>5047.100</td>\n",
       "      <td>164489.725</td>\n",
       "      <td>12067.300</td>\n",
       "      <td>11374.631</td>\n",
       "      <td>138880.021</td>\n",
       "      <td>22387.216</td>\n",
       "    </tr>\n",
       "  </tbody>\n",
       "</table>\n",
       "<p>53 rows × 11 columns</p>\n",
       "</div>"
      ],
      "text/plain": [
       "                  Coal  Cogeneration  Combined Cycle (Gas)        Eolic  \\\n",
       "time                                                                      \n",
       "2022-09-01  136546.000    172293.173           1923790.391   864037.706   \n",
       "2022-09-08  162789.817    155962.252           1936149.859   871012.693   \n",
       "...                ...           ...                   ...          ...   \n",
       "2023-08-24  100683.501    302946.699           1029472.369  1164917.767   \n",
       "2023-08-31   12551.600     49434.506            157466.900    69646.772   \n",
       "\n",
       "             Hydraulic  Non-Renewable Residues      Nuclear  \\\n",
       "time                                                          \n",
       "2022-09-01  172805.520               44596.742  1157554.000   \n",
       "2022-09-08  259821.964               43652.217  1161943.117   \n",
       "...                ...                     ...          ...   \n",
       "2023-08-24  216970.617               39295.900  1127421.700   \n",
       "2023-08-31   40281.783                5047.100   164489.725   \n",
       "\n",
       "            Pumped Storage Hydropower  Renewables Other  Solar Photovoltaic  \\\n",
       "time                                                                          \n",
       "2022-09-01                  63015.933         82948.067          695863.476   \n",
       "2022-09-08                  60223.724         79612.056          555033.259   \n",
       "...                               ...               ...                 ...   \n",
       "2023-08-24                  75029.051         75374.591          900329.814   \n",
       "2023-08-31                  12067.300         11374.631          138880.021   \n",
       "\n",
       "            Solar Thermal  \n",
       "time                       \n",
       "2022-09-01     133947.275  \n",
       "2022-09-08      82339.811  \n",
       "...                   ...  \n",
       "2023-08-24     152151.446  \n",
       "2023-08-31      22387.216  \n",
       "\n",
       "[53 rows x 11 columns]"
      ]
     },
     "execution_count": null,
     "metadata": {},
     "output_type": "execute_result"
    }
   ],
   "source": []
  },
  {
   "cell_type": "code",
   "execution_count": null,
   "metadata": {},
   "outputs": [
    {
     "data": {
      "image/png": "[encoded data removed]",
      "text/plain": [
       "<Figure size 640x480 with 1 Axes>"
      ]
     },
     "execution_count": null,
     "metadata": {},
     "output_type": "display_data"
    }
   ],
   "source": []
  },
  {
   "cell_type": "code",
   "execution_count": null,
   "metadata": {},
   "outputs": [
    {
     "data": {
      "image/png": "[encoded data removed]",
      "text/plain": [
       "<Figure size 640x480 with 1 Axes>"
      ]
     },
     "execution_count": null,
     "metadata": {},
     "output_type": "display_data"
    }
   ],
   "source": []
  },
  {
   "cell_type": "markdown",
   "metadata": {},
   "source": [
    "## Correlation Matrix\n",
    "\n",
    "- [Plotly Express Overview](https://plotly.com/python/plotly-express/#overview)"
   ]
  },
  {
   "cell_type": "markdown",
   "metadata": {},
   "source": [
    "### Scatter Matrix"
   ]
  },
  {
   "cell_type": "code",
   "execution_count": null,
   "metadata": {},
   "outputs": [
    {
     "data": {
      "application/vnd.plotly.v1+json": {
       "config": {
        "plotlyServerURL": "https://plotly.com"
       },
       "data": [
        {
         "dimensions": [
          {
           "axis": {
            "matches": true
           },
           "label": "Coal",
           "values": [
            136546,
            162789.817,
            131442.302,
            160841.675,
            131327.524,
            138004.024,
            102723.25,
            38153.4,
            46704.425,
            67420.15,
            47900.2,
            47768.35,
            155960.526,
            187290.729,
            213632.233,
            218744.65,
            81976.392,
            82395.125,
            65255.3,
            62656.8,
            67515.875,
            81927.35,
            119741.25,
            100558.2,
            110131.075,
            101401.4,
            115802.15,
            92358.075,
            87887.95,
            80248.9,
            76758.85,
            67795.075,
            52620,
            57048.15,
            55235.15,
            51644.15,
            50167.475,
            48840.7,
            63951.832,
            86489.325,
            66849.5,
            68146.917,
            62960.925,
            54898.95,
            62593.165,
            55280.975,
            64471.25,
            91641.725,
            71699.675,
            101384.343,
            109108.158,
            100683.501,
            12551.6
           ]
          },
          {
           "axis": {
            "matches": true
           },
           "label": "Cogeneration",
           "values": [
            172293.173,
            155962.252,
            172158.716,
            196032.571,
            249467.214,
            291802.563,
            248503.643,
            222162.466,
            255267.784,
            353301.962,
            349506.96,
            332379.525,
            330771.654,
            303535.858,
            284068.186,
            268746.654,
            191822.535,
            209101.562,
            295398.8,
            260770.603,
            267528.518,
            311254.028,
            409073.367,
            432538.567,
            449973.899,
            435088.071,
            449273.339,
            365912.08,
            429202.851,
            376164.507,
            313043.284,
            353377.186,
            360606.097,
            418649.491,
            391486.056,
            384526.468,
            364461.71,
            385083.685,
            429905.082,
            421770.813,
            419403.38,
            418139.398,
            401671.362,
            350404.602,
            354448.863,
            349151.855,
            338536.451,
            327881.293,
            284044.415,
            285567.596,
            301156.565,
            302946.699,
            49434.506
           ]
          },
          {
           "axis": {
            "matches": true
           },
           "label": "Combined Cycle (Gas)",
           "values": [
            1923790.391,
            1936149.859,
            1790005.179,
            1290918.012,
            1708694.792,
            2028241.156,
            1575090.005,
            1084452.401,
            856412.777,
            1162494.925,
            1062711.21,
            537527.8,
            1090342.392,
            1825671.015,
            816042.283,
            644470.067,
            419187.68,
            506692.142,
            496900.075,
            339446.334,
            443373.502,
            565409.917,
            811441.665,
            1107762.65,
            1125821.391,
            938116.559,
            1034157.459,
            331038.559,
            598351.688,
            400330.133,
            294027.155,
            477067.884,
            358569.075,
            729077.773,
            803403.505,
            628590.092,
            454778.998,
            528217.859,
            847972.139,
            958754.85,
            856234.532,
            1076217.7719999999,
            947930.96,
            807748.078,
            1189094.099,
            1157324.183,
            864500.354,
            829202.153,
            733560.04,
            891582.398,
            1341053.085,
            1029472.369,
            157466.9
           ]
          },
          {
           "axis": {
            "matches": true
           },
           "label": "Eolic",
           "values": [
            864037.706,
            871012.693,
            778374.75,
            1057348.168,
            815926.017,
            645895.633,
            1167372.855,
            1745376.081,
            1254445.187,
            1270797.307,
            1564617.825,
            2449319.174,
            1233707.088,
            584594.98,
            1694506.25,
            1437610.551,
            1211112.633,
            1138819.166,
            1520485.44,
            1975520.371,
            1981880.187,
            1755601.281,
            1274421.588,
            1076615.664,
            719159.35,
            1617881.7989999999,
            1465548.791,
            1949745.807,
            1042578.481,
            1338817.198,
            1681614.157,
            871504.524,
            1504434.778,
            871425.518,
            974474.245,
            1024088.348,
            1705621.992,
            1462285.188,
            736695.807,
            435403.341,
            727809.852,
            630582.97,
            897370.9839999999,
            950167.003,
            776764.638,
            971454.595,
            956924.652,
            832933.871,
            1209851.487,
            752514.313,
            663859.931,
            1164917.767,
            69646.772
           ]
          },
          {
           "axis": {
            "matches": true
           },
           "label": "Hydraulic",
           "values": [
            172805.52,
            259821.964,
            400914.125,
            316692.765,
            163959.58,
            138111.15,
            135807.263,
            224967.818,
            213599.015,
            222020.328,
            239521.85,
            328917.734,
            536115.485,
            573063.984,
            534817.513,
            771959.166,
            752183.393,
            772800.337,
            845348.975,
            869567.932,
            944259.526,
            1016062.825,
            811071.6,
            649594.525,
            524005.475,
            502976.725,
            543162.371,
            461393.537,
            530786.08,
            476913.512,
            426376.598,
            408048.732,
            371490.008,
            377754.293,
            374437.337,
            351329.464,
            298481.689,
            336788.749,
            348801.371,
            447046.661,
            466536.257,
            495657.467,
            388192.926,
            312047.846,
            336325.907,
            306581.018,
            285044.577,
            259173.36,
            240226.74599999998,
            236806.188,
            258937.987,
            216970.617,
            40281.783
           ]
          },
          {
           "axis": {
            "matches": true
           },
           "label": "Non-Renewable Residues",
           "values": [
            44596.742,
            43652.217,
            37113.667,
            36248.758,
            47646.049,
            50087.2,
            50948.442,
            40164.7,
            40263.6,
            40722.9,
            37305.3,
            39537.775,
            40888.78,
            42572,
            42710.883,
            40782.43,
            42227.552,
            41214.725,
            40752.9,
            37569.567,
            31562.34,
            30894.233,
            43406.942,
            43720.3,
            42864.533,
            43593.3,
            44551.45,
            37910.9,
            39333.8,
            37415.273,
            37636.38,
            35571.058,
            25172.7,
            28355.15,
            21015.083,
            18451.1,
            16005.8,
            17593.133,
            34290.3,
            35510.7,
            44277.1,
            46749.2,
            42309.625,
            40801.4,
            43427.3,
            43046.316,
            42285.3,
            42859.1,
            38140.5,
            41180.817,
            40174.3,
            39295.9,
            5047.1
           ]
          },
          {
           "axis": {
            "matches": true
           },
           "label": "Nuclear",
           "values": [
            1157554,
            1161943.117,
            1155532.2,
            1085995,
            1008134.9,
            999900,
            871632.9,
            832694.7,
            832102.325,
            924739.25,
            1008876.5,
            1008117.9,
            1062348.256,
            1149761.05,
            1152578.175,
            1186052.2,
            1186314.325,
            1142023.125,
            1083023.225,
            1135848.6,
            1189216,
            1190364.7,
            1190627.1,
            1181297,
            1174965.2,
            1024818.1,
            1123369.8,
            1178822.575,
            1186104.1,
            1167244.1,
            1078860,
            1178076.9,
            1100701.15,
            998988.5,
            884008.675,
            851120.625,
            806484.717,
            882321.85,
            852354.6,
            851401.6,
            847676.2,
            934666.5920000001,
            1073776.2249999999,
            1157317.4,
            1158190,
            1158518,
            1154544.6,
            1157350.8,
            1151160.1,
            1107343.678,
            1132021.567,
            1127421.7,
            164489.725
           ]
          },
          {
           "axis": {
            "matches": true
           },
           "label": "Pumped Storage Hydropower",
           "values": [
            63015.933,
            60223.724,
            63188.55,
            63756.125,
            77624.617,
            83262.075,
            76546.2125,
            65057.2,
            79341.933,
            73616.14199999999,
            51901.7,
            78600.971,
            59887.1,
            62480.011,
            70827.75,
            71145.35,
            115850.25,
            105141.354,
            95713.05,
            112347.525,
            109314.412,
            76199.85,
            66453.3,
            26808.725,
            65038.675,
            54129.8,
            52753.05,
            104757.071,
            109351.342,
            115670.241,
            117141.075,
            110240.097,
            100392.977,
            91150,
            74177.634,
            85645.984,
            100578.825,
            87277.45,
            55725.779,
            62733.4,
            61947.125,
            66267.958,
            65211.692,
            67686.225,
            49667.775,
            76269.267,
            48325.95,
            77326.05,
            103197.008,
            69841.583,
            63377.567,
            75029.051,
            12067.3
           ]
          },
          {
           "axis": {
            "matches": true
           },
           "label": "Renewables Other",
           "values": [
            82948.067,
            79612.056,
            86503.702,
            83023.01699999999,
            84397.269,
            85951.584,
            85391.158,
            79258.2,
            88381.809,
            91132.292,
            89605.115,
            80538.679,
            89321.382,
            86261.928,
            84621.343,
            85674.967,
            59280.25,
            57607.65,
            70500.716,
            63303.651,
            65163.205,
            78679.48300000001,
            89228.355,
            92191.252,
            91291.9,
            90362.143,
            86551.321,
            67306.183,
            72459.927,
            65068.567,
            47712.617,
            66432.117,
            59831.563,
            74380.462,
            79776.622,
            81926.564,
            73711.414,
            74267.36,
            80249.081,
            74941.918,
            75209.266,
            79431.274,
            79944.799,
            75501.557,
            76378.713,
            72339.132,
            74840.045,
            77400.827,
            71990.736,
            84126.29,
            84519.909,
            75374.591,
            11374.631
           ]
          },
          {
           "axis": {
            "matches": true
           },
           "label": "Solar Photovoltaic",
           "values": [
            695863.476,
            555033.259,
            608068.827,
            613341.384,
            611811.472,
            509740.354,
            512404.453,
            316921.1,
            402224.625,
            415140.085,
            338373.924,
            264809.239,
            385240.74199999997,
            276701.375,
            159828.131,
            263867.125,
            349902.85,
            320753.344,
            317114.45,
            344942.764,
            445207.023,
            523462.844,
            533611.22,
            509696.575,
            543974.525,
            616904.186,
            549889.779,
            645638.331,
            732019.803,
            758342.915,
            768282.292,
            853877.175,
            859382.794,
            894569.659,
            837950.462,
            981307.539,
            939416.769,
            751625.093,
            749192.723,
            782792.846,
            862283.924,
            906376.428,
            1006500.171,
            1008587.972,
            989741.068,
            1014225.113,
            1020947.706,
            1072551.85,
            992046.304,
            1037438.439,
            1017469.609,
            900329.814,
            138880.021
           ]
          },
          {
           "axis": {
            "matches": true
           },
           "label": "Solar Thermal",
           "values": [
            133947.275,
            82339.811,
            86070.25,
            115536.9,
            88075.529,
            55061.926999999996,
            55016.252,
            5328.6,
            26313,
            33985.8,
            28693.5,
            8915,
            30177.2,
            16451.9,
            1204.9,
            10745.375,
            30807.4,
            20934.435,
            15657.6,
            19889.1,
            41558.95,
            47960.8,
            50547.875,
            39572.6,
            31671.7,
            76436.45,
            49924.683,
            82595.331,
            109001.465,
            125248.657,
            134602.49,
            160735.007,
            168665.69700000001,
            155567.474,
            114264.852,
            169533.8,
            163515.885,
            61590.402,
            67937.081,
            97622.673,
            107308.754,
            143811.252,
            187812.431,
            185330.302,
            176808.911,
            167638.561,
            178050.848,
            194807.528,
            177383.129,
            175120.641,
            173650.462,
            152151.446,
            22387.216
           ]
          }
         ],
         "hovertemplate": "%{xaxis.title.text}=%{x}<br>%{yaxis.title.text}=%{y}<extra></extra>",
         "legendgroup": "",
         "marker": {
          "color": "#636efa",
          "symbol": "circle"
         },
         "name": "",
         "showlegend": false,
         "type": "splom"
        }
       ],
       "layout": {
        "dragmode": "select",
        "height": 800,
        "legend": {
         "tracegroupgap": 0
        },
        "margin": {
         "t": 60
        },
        "template": {
         "data": {
          "bar": [
           {
            "error_x": {
             "color": "#2a3f5f"
            },
            "error_y": {
             "color": "#2a3f5f"
            },
            "marker": {
             "line": {
              "color": "#E5ECF6",
              "width": 0.5
             },
             "pattern": {
              "fillmode": "overlay",
              "size": 10,
              "solidity": 0.2
             }
            },
            "type": "bar"
           }
          ],
          "barpolar": [
           {
            "marker": {
             "line": {
              "color": "#E5ECF6",
              "width": 0.5
             },
             "pattern": {
              "fillmode": "overlay",
              "size": 10,
              "solidity": 0.2
             }
            },
            "type": "barpolar"
           }
          ],
          "carpet": [
           {
            "aaxis": {
             "endlinecolor": "#2a3f5f",
             "gridcolor": "white",
             "linecolor": "white",
             "minorgridcolor": "white",
             "startlinecolor": "#2a3f5f"
            },
            "baxis": {
             "endlinecolor": "#2a3f5f",
             "gridcolor": "white",
             "linecolor": "white",
             "minorgridcolor": "white",
             "startlinecolor": "#2a3f5f"
            },
            "type": "carpet"
           }
          ],
          "choropleth": [
           {
            "colorbar": {
             "outlinewidth": 0,
             "ticks": ""
            },
            "type": "choropleth"
           }
          ],
          "contour": [
           {
            "colorbar": {
             "outlinewidth": 0,
             "ticks": ""
            },
            "colorscale": [
             [
              0,
              "#0d0887"
             ],
             [
              0.1111111111111111,
              "#46039f"
             ],
             [
              0.2222222222222222,
              "#7201a8"
             ],
             [
              0.3333333333333333,
              "#9c179e"
             ],
             [
              0.4444444444444444,
              "#bd3786"
             ],
             [
              0.5555555555555556,
              "#d8576b"
             ],
             [
              0.6666666666666666,
              "#ed7953"
             ],
             [
              0.7777777777777778,
              "#fb9f3a"
             ],
             [
              0.8888888888888888,
              "#fdca26"
             ],
             [
              1,
              "#f0f921"
             ]
            ],
            "type": "contour"
           }
          ],
          "contourcarpet": [
           {
            "colorbar": {
             "outlinewidth": 0,
             "ticks": ""
            },
            "type": "contourcarpet"
           }
          ],
          "heatmap": [
           {
            "colorbar": {
             "outlinewidth": 0,
             "ticks": ""
            },
            "colorscale": [
             [
              0,
              "#0d0887"
             ],
             [
              0.1111111111111111,
              "#46039f"
             ],
             [
              0.2222222222222222,
              "#7201a8"
             ],
             [
              0.3333333333333333,
              "#9c179e"
             ],
             [
              0.4444444444444444,
              "#bd3786"
             ],
             [
              0.5555555555555556,
              "#d8576b"
             ],
             [
              0.6666666666666666,
              "#ed7953"
             ],
             [
              0.7777777777777778,
              "#fb9f3a"
             ],
             [
              0.8888888888888888,
              "#fdca26"
             ],
             [
              1,
              "#f0f921"
             ]
            ],
            "type": "heatmap"
           }
          ],
          "heatmapgl": [
           {
            "colorbar": {
             "outlinewidth": 0,
             "ticks": ""
            },
            "colorscale": [
             [
              0,
              "#0d0887"
             ],
             [
              0.1111111111111111,
              "#46039f"
             ],
             [
              0.2222222222222222,
              "#7201a8"
             ],
             [
              0.3333333333333333,
              "#9c179e"
             ],
             [
              0.4444444444444444,
              "#bd3786"
             ],
             [
              0.5555555555555556,
              "#d8576b"
             ],
             [
              0.6666666666666666,
              "#ed7953"
             ],
             [
              0.7777777777777778,
              "#fb9f3a"
             ],
             [
              0.8888888888888888,
              "#fdca26"
             ],
             [
              1,
              "#f0f921"
             ]
            ],
            "type": "heatmapgl"
           }
          ],
          "histogram": [
           {
            "marker": {
             "pattern": {
              "fillmode": "overlay",
              "size": 10,
              "solidity": 0.2
             }
            },
            "type": "histogram"
           }
          ],
          "histogram2d": [
           {
            "colorbar": {
             "outlinewidth": 0,
             "ticks": ""
            },
            "colorscale": [
             [
              0,
              "#0d0887"
             ],
             [
              0.1111111111111111,
              "#46039f"
             ],
             [
              0.2222222222222222,
              "#7201a8"
             ],
             [
              0.3333333333333333,
              "#9c179e"
             ],
             [
              0.4444444444444444,
              "#bd3786"
             ],
             [
              0.5555555555555556,
              "#d8576b"
             ],
             [
              0.6666666666666666,
              "#ed7953"
             ],
             [
              0.7777777777777778,
              "#fb9f3a"
             ],
             [
              0.8888888888888888,
              "#fdca26"
             ],
             [
              1,
              "#f0f921"
             ]
            ],
            "type": "histogram2d"
           }
          ],
          "histogram2dcontour": [
           {
            "colorbar": {
             "outlinewidth": 0,
             "ticks": ""
            },
            "colorscale": [
             [
              0,
              "#0d0887"
             ],
             [
              0.1111111111111111,
              "#46039f"
             ],
             [
              0.2222222222222222,
              "#7201a8"
             ],
             [
              0.3333333333333333,
              "#9c179e"
             ],
             [
              0.4444444444444444,
              "#bd3786"
             ],
             [
              0.5555555555555556,
              "#d8576b"
             ],
             [
              0.6666666666666666,
              "#ed7953"
             ],
             [
              0.7777777777777778,
              "#fb9f3a"
             ],
             [
              0.8888888888888888,
              "#fdca26"
             ],
             [
              1,
              "#f0f921"
             ]
            ],
            "type": "histogram2dcontour"
           }
          ],
          "mesh3d": [
           {
            "colorbar": {
             "outlinewidth": 0,
             "ticks": ""
            },
            "type": "mesh3d"
           }
          ],
          "parcoords": [
           {
            "line": {
             "colorbar": {
              "outlinewidth": 0,
              "ticks": ""
             }
            },
            "type": "parcoords"
           }
          ],
          "pie": [
           {
            "automargin": true,
            "type": "pie"
           }
          ],
          "scatter": [
           {
            "fillpattern": {
             "fillmode": "overlay",
             "size": 10,
             "solidity": 0.2
            },
            "type": "scatter"
           }
          ],
          "scatter3d": [
           {
            "line": {
             "colorbar": {
              "outlinewidth": 0,
              "ticks": ""
             }
            },
            "marker": {
             "colorbar": {
              "outlinewidth": 0,
              "ticks": ""
             }
            },
            "type": "scatter3d"
           }
          ],
          "scattercarpet": [
           {
            "marker": {
             "colorbar": {
              "outlinewidth": 0,
              "ticks": ""
             }
            },
            "type": "scattercarpet"
           }
          ],
          "scattergeo": [
           {
            "marker": {
             "colorbar": {
              "outlinewidth": 0,
              "ticks": ""
             }
            },
            "type": "scattergeo"
           }
          ],
          "scattergl": [
           {
            "marker": {
             "colorbar": {
              "outlinewidth": 0,
              "ticks": ""
             }
            },
            "type": "scattergl"
           }
          ],
          "scattermapbox": [
           {
            "marker": {
             "colorbar": {
              "outlinewidth": 0,
              "ticks": ""
             }
            },
            "type": "scattermapbox"
           }
          ],
          "scatterpolar": [
           {
            "marker": {
             "colorbar": {
              "outlinewidth": 0,
              "ticks": ""
             }
            },
            "type": "scatterpolar"
           }
          ],
          "scatterpolargl": [
           {
            "marker": {
             "colorbar": {
              "outlinewidth": 0,
              "ticks": ""
             }
            },
            "type": "scatterpolargl"
           }
          ],
          "scatterternary": [
           {
            "marker": {
             "colorbar": {
              "outlinewidth": 0,
              "ticks": ""
             }
            },
            "type": "scatterternary"
           }
          ],
          "surface": [
           {
            "colorbar": {
             "outlinewidth": 0,
             "ticks": ""
            },
            "colorscale": [
             [
              0,
              "#0d0887"
             ],
             [
              0.1111111111111111,
              "#46039f"
             ],
             [
              0.2222222222222222,
              "#7201a8"
             ],
             [
              0.3333333333333333,
              "#9c179e"
             ],
             [
              0.4444444444444444,
              "#bd3786"
             ],
             [
              0.5555555555555556,
              "#d8576b"
             ],
             [
              0.6666666666666666,
              "#ed7953"
             ],
             [
              0.7777777777777778,
              "#fb9f3a"
             ],
             [
              0.8888888888888888,
              "#fdca26"
             ],
             [
              1,
              "#f0f921"
             ]
            ],
            "type": "surface"
           }
          ],
          "table": [
           {
            "cells": {
             "fill": {
              "color": "#EBF0F8"
             },
             "line": {
              "color": "white"
             }
            },
            "header": {
             "fill": {
              "color": "#C8D4E3"
             },
             "line": {
              "color": "white"
             }
            },
            "type": "table"
           }
          ]
         },
         "layout": {
          "annotationdefaults": {
           "arrowcolor": "#2a3f5f",
           "arrowhead": 0,
           "arrowwidth": 1
          },
          "autotypenumbers": "strict",
          "coloraxis": {
           "colorbar": {
            "outlinewidth": 0,
            "ticks": ""
           }
          },
          "colorscale": {
           "diverging": [
            [
             0,
             "#8e0152"
            ],
            [
             0.1,
             "#c51b7d"
            ],
            [
             0.2,
             "#de77ae"
            ],
            [
             0.3,
             "#f1b6da"
            ],
            [
             0.4,
             "#fde0ef"
            ],
            [
             0.5,
             "#f7f7f7"
            ],
            [
             0.6,
             "#e6f5d0"
            ],
            [
             0.7,
             "#b8e186"
            ],
            [
             0.8,
             "#7fbc41"
            ],
            [
             0.9,
             "#4d9221"
            ],
            [
             1,
             "#276419"
            ]
           ],
           "sequential": [
            [
             0,
             "#0d0887"
            ],
            [
             0.1111111111111111,
             "#46039f"
            ],
            [
             0.2222222222222222,
             "#7201a8"
            ],
            [
             0.3333333333333333,
             "#9c179e"
            ],
            [
             0.4444444444444444,
             "#bd3786"
            ],
            [
             0.5555555555555556,
             "#d8576b"
            ],
            [
             0.6666666666666666,
             "#ed7953"
            ],
            [
             0.7777777777777778,
             "#fb9f3a"
            ],
            [
             0.8888888888888888,
             "#fdca26"
            ],
            [
             1,
             "#f0f921"
            ]
           ],
           "sequentialminus": [
            [
             0,
             "#0d0887"
            ],
            [
             0.1111111111111111,
             "#46039f"
            ],
            [
             0.2222222222222222,
             "#7201a8"
            ],
            [
             0.3333333333333333,
             "#9c179e"
            ],
            [
             0.4444444444444444,
             "#bd3786"
            ],
            [
             0.5555555555555556,
             "#d8576b"
            ],
            [
             0.6666666666666666,
             "#ed7953"
            ],
            [
             0.7777777777777778,
             "#fb9f3a"
            ],
            [
             0.8888888888888888,
             "#fdca26"
            ],
            [
             1,
             "#f0f921"
            ]
           ]
          },
          "colorway": [
           "#636efa",
           "#EF553B",
           "#00cc96",
           "#ab63fa",
           "#FFA15A",
           "#19d3f3",
           "#FF6692",
           "#B6E880",
           "#FF97FF",
           "#FECB52"
          ],
          "font": {
           "color": "#2a3f5f"
          },
          "geo": {
           "bgcolor": "white",
           "lakecolor": "white",
           "landcolor": "#E5ECF6",
           "showlakes": true,
           "showland": true,
           "subunitcolor": "white"
          },
          "hoverlabel": {
           "align": "left"
          },
          "hovermode": "closest",
          "mapbox": {
           "style": "light"
          },
          "paper_bgcolor": "white",
          "plot_bgcolor": "#E5ECF6",
          "polar": {
           "angularaxis": {
            "gridcolor": "white",
            "linecolor": "white",
            "ticks": ""
           },
           "bgcolor": "#E5ECF6",
           "radialaxis": {
            "gridcolor": "white",
            "linecolor": "white",
            "ticks": ""
           }
          },
          "scene": {
           "xaxis": {
            "backgroundcolor": "#E5ECF6",
            "gridcolor": "white",
            "gridwidth": 2,
            "linecolor": "white",
            "showbackground": true,
            "ticks": "",
            "zerolinecolor": "white"
           },
           "yaxis": {
            "backgroundcolor": "#E5ECF6",
            "gridcolor": "white",
            "gridwidth": 2,
            "linecolor": "white",
            "showbackground": true,
            "ticks": "",
            "zerolinecolor": "white"
           },
           "zaxis": {
            "backgroundcolor": "#E5ECF6",
            "gridcolor": "white",
            "gridwidth": 2,
            "linecolor": "white",
            "showbackground": true,
            "ticks": "",
            "zerolinecolor": "white"
           }
          },
          "shapedefaults": {
           "line": {
            "color": "#2a3f5f"
           }
          },
          "ternary": {
           "aaxis": {
            "gridcolor": "white",
            "linecolor": "white",
            "ticks": ""
           },
           "baxis": {
            "gridcolor": "white",
            "linecolor": "white",
            "ticks": ""
           },
           "bgcolor": "#E5ECF6",
           "caxis": {
            "gridcolor": "white",
            "linecolor": "white",
            "ticks": ""
           }
          },
          "title": {
           "x": 0.05
          },
          "xaxis": {
           "automargin": true,
           "gridcolor": "white",
           "linecolor": "white",
           "ticks": "",
           "title": {
            "standoff": 15
           },
           "zerolinecolor": "white",
           "zerolinewidth": 2
          },
          "yaxis": {
           "automargin": true,
           "gridcolor": "white",
           "linecolor": "white",
           "ticks": "",
           "title": {
            "standoff": 15
           },
           "zerolinecolor": "white",
           "zerolinewidth": 2
          }
         }
        },
        "width": 1800
       }
      }
     },
     "execution_count": null,
     "metadata": {},
     "output_type": "display_data"
    }
   ],
   "source": []
  },
  {
   "cell_type": "markdown",
   "metadata": {},
   "source": [
    "### Correlation Heatmap"
   ]
  },
  {
   "cell_type": "code",
   "execution_count": null,
   "metadata": {},
   "outputs": [
    {
     "data": {
      "text/html": [
       "<div>\n",
       "<style scoped>\n",
       "    .dataframe tbody tr th:only-of-type {\n",
       "        vertical-align: middle;\n",
       "    }\n",
       "\n",
       "    .dataframe tbody tr th {\n",
       "        vertical-align: top;\n",
       "    }\n",
       "\n",
       "    .dataframe thead th {\n",
       "        text-align: right;\n",
       "    }\n",
       "</style>\n",
       "<table border=\"1\" class=\"dataframe\">\n",
       "  <thead>\n",
       "    <tr style=\"text-align: right;\">\n",
       "      <th></th>\n",
       "      <th>Coal</th>\n",
       "      <th>Cogeneration</th>\n",
       "      <th>Combined Cycle (Gas)</th>\n",
       "      <th>Eolic</th>\n",
       "      <th>Hydraulic</th>\n",
       "      <th>Non-Renewable Residues</th>\n",
       "      <th>Nuclear</th>\n",
       "      <th>Pumped Storage Hydropower</th>\n",
       "      <th>Renewables Other</th>\n",
       "      <th>Solar Photovoltaic</th>\n",
       "      <th>Solar Thermal</th>\n",
       "    </tr>\n",
       "  </thead>\n",
       "  <tbody>\n",
       "    <tr>\n",
       "      <th>Coal</th>\n",
       "      <td>1.000000</td>\n",
       "      <td>-0.188149</td>\n",
       "      <td>0.518225</td>\n",
       "      <td>-0.084500</td>\n",
       "      <td>0.172777</td>\n",
       "      <td>0.463225</td>\n",
       "      <td>0.444694</td>\n",
       "      <td>-0.141163</td>\n",
       "      <td>0.445223</td>\n",
       "      <td>-0.296412</td>\n",
       "      <td>-0.249978</td>\n",
       "    </tr>\n",
       "    <tr>\n",
       "      <th>Cogeneration</th>\n",
       "      <td>-0.188149</td>\n",
       "      <td>1.000000</td>\n",
       "      <td>-0.182540</td>\n",
       "      <td>0.070660</td>\n",
       "      <td>0.172892</td>\n",
       "      <td>0.070449</td>\n",
       "      <td>0.181007</td>\n",
       "      <td>0.031765</td>\n",
       "      <td>0.382826</td>\n",
       "      <td>0.422146</td>\n",
       "      <td>0.244770</td>\n",
       "    </tr>\n",
       "    <tr>\n",
       "      <th>...</th>\n",
       "      <td>...</td>\n",
       "      <td>...</td>\n",
       "      <td>...</td>\n",
       "      <td>...</td>\n",
       "      <td>...</td>\n",
       "      <td>...</td>\n",
       "      <td>...</td>\n",
       "      <td>...</td>\n",
       "      <td>...</td>\n",
       "      <td>...</td>\n",
       "      <td>...</td>\n",
       "    </tr>\n",
       "    <tr>\n",
       "      <th>Solar Photovoltaic</th>\n",
       "      <td>-0.296412</td>\n",
       "      <td>0.422146</td>\n",
       "      <td>0.002034</td>\n",
       "      <td>-0.335556</td>\n",
       "      <td>-0.340156</td>\n",
       "      <td>-0.060634</td>\n",
       "      <td>0.151145</td>\n",
       "      <td>0.092960</td>\n",
       "      <td>0.049405</td>\n",
       "      <td>1.000000</td>\n",
       "      <td>0.955715</td>\n",
       "    </tr>\n",
       "    <tr>\n",
       "      <th>Solar Thermal</th>\n",
       "      <td>-0.249978</td>\n",
       "      <td>0.244770</td>\n",
       "      <td>-0.001624</td>\n",
       "      <td>-0.344434</td>\n",
       "      <td>-0.397340</td>\n",
       "      <td>-0.088349</td>\n",
       "      <td>0.150533</td>\n",
       "      <td>0.110195</td>\n",
       "      <td>-0.071333</td>\n",
       "      <td>0.955715</td>\n",
       "      <td>1.000000</td>\n",
       "    </tr>\n",
       "  </tbody>\n",
       "</table>\n",
       "<p>11 rows × 11 columns</p>\n",
       "</div>"
      ],
      "text/plain": [
       "                        Coal  Cogeneration  Combined Cycle (Gas)     Eolic  \\\n",
       "Coal                1.000000     -0.188149              0.518225 -0.084500   \n",
       "Cogeneration       -0.188149      1.000000             -0.182540  0.070660   \n",
       "...                      ...           ...                   ...       ...   \n",
       "Solar Photovoltaic -0.296412      0.422146              0.002034 -0.335556   \n",
       "Solar Thermal      -0.249978      0.244770             -0.001624 -0.344434   \n",
       "\n",
       "                    Hydraulic  Non-Renewable Residues   Nuclear  \\\n",
       "Coal                 0.172777                0.463225  0.444694   \n",
       "Cogeneration         0.172892                0.070449  0.181007   \n",
       "...                       ...                     ...       ...   \n",
       "Solar Photovoltaic  -0.340156               -0.060634  0.151145   \n",
       "Solar Thermal       -0.397340               -0.088349  0.150533   \n",
       "\n",
       "                    Pumped Storage Hydropower  Renewables Other  \\\n",
       "Coal                                -0.141163          0.445223   \n",
       "Cogeneration                         0.031765          0.382826   \n",
       "...                                       ...               ...   \n",
       "Solar Photovoltaic                   0.092960          0.049405   \n",
       "Solar Thermal                        0.110195         -0.071333   \n",
       "\n",
       "                    Solar Photovoltaic  Solar Thermal  \n",
       "Coal                         -0.296412      -0.249978  \n",
       "Cogeneration                  0.422146       0.244770  \n",
       "...                                ...            ...  \n",
       "Solar Photovoltaic            1.000000       0.955715  \n",
       "Solar Thermal                 0.955715       1.000000  \n",
       "\n",
       "[11 rows x 11 columns]"
      ]
     },
     "execution_count": null,
     "metadata": {},
     "output_type": "execute_result"
    }
   ],
   "source": []
  },
  {
   "cell_type": "code",
   "execution_count": null,
   "metadata": {},
   "outputs": [
    {
     "data": {
      "application/vnd.plotly.v1+json": {
       "config": {
        "plotlyServerURL": "https://plotly.com"
       },
       "data": [
        {
         "coloraxis": "coloraxis",
         "hovertemplate": "x: %{x}<br>y: %{y}<br>color: %{z}<extra></extra>",
         "name": "0",
         "texttemplate": "%{z:.2f}",
         "type": "heatmap",
         "x": [
          "Coal",
          "Cogeneration",
          "Combined Cycle (Gas)",
          "Eolic",
          "Hydraulic",
          "Non-Renewable Residues",
          "Nuclear",
          "Pumped Storage Hydropower",
          "Renewables Other",
          "Solar Photovoltaic",
          "Solar Thermal"
         ],
         "xaxis": "x",
         "y": [
          "Coal",
          "Cogeneration",
          "Combined Cycle (Gas)",
          "Eolic",
          "Hydraulic",
          "Non-Renewable Residues",
          "Nuclear",
          "Pumped Storage Hydropower",
          "Renewables Other",
          "Solar Photovoltaic",
          "Solar Thermal"
         ],
         "yaxis": "y",
         "z": [
          [
           1,
           -0.18814862161393378,
           0.518224684004256,
           -0.08449994194933241,
           0.17277731038608887,
           0.4632247246031575,
           0.4446935180974479,
           -0.14116313491948188,
           0.4452232752570625,
           -0.29641207960388183,
           -0.24997783387603895
          ],
          [
           -0.18814862161393378,
           1,
           -0.18254027082894866,
           0.07065952758679915,
           0.17289176258109692,
           0.07044872002876473,
           0.18100665551788725,
           0.03176503755444362,
           0.38282629840795873,
           0.42214636414643536,
           0.24477004502614455
          ],
          [
           0.518224684004256,
           -0.18254027082894866,
           1,
           -0.43805615571169104,
           -0.3878445272433783,
           0.5358374781589403,
           0.14158867893541455,
           -0.43975520105810273,
           0.5976454754542239,
           0.0020344857301271306,
           -0.0016238569088824664
          ],
          [
           -0.08449994194933241,
           0.07065952758679915,
           -0.43805615571169104,
           1,
           0.39964335073161444,
           -0.027479440150972777,
           0.267216782785213,
           0.4532359877320927,
           0.05284718420597852,
           -0.3355558068677742,
           -0.3444340583477199
          ],
          [
           0.17277731038608887,
           0.17289176258109692,
           -0.3878445272433783,
           0.39964335073161444,
           1,
           0.07471703033663503,
           0.4525211866298077,
           0.30491938675356156,
           -0.01199172068066717,
           -0.34015589768293314,
           -0.3973402760761187
          ],
          [
           0.4632247246031575,
           0.07044872002876473,
           0.5358374781589403,
           -0.027479440150972777,
           0.07471703033663503,
           1,
           0.5687636778529139,
           -0.052954897710017636,
           0.5303395003642164,
           -0.06063371745703599,
           -0.0883489871292254
          ],
          [
           0.4446935180974479,
           0.18100665551788725,
           0.14158867893541455,
           0.267216782785213,
           0.4525211866298077,
           0.5687636778529139,
           1,
           0.35162437292848703,
           0.39221223676168365,
           0.15114476507351204,
           0.15053348219122328
          ],
          [
           -0.14116313491948188,
           0.03176503755444362,
           -0.43975520105810273,
           0.4532359877320927,
           0.30491938675356156,
           -0.052954897710017636,
           0.35162437292848703,
           1,
           -0.24502529010269858,
           0.09295990537575916,
           0.11019517541959142
          ],
          [
           0.4452232752570625,
           0.38282629840795873,
           0.5976454754542239,
           0.05284718420597852,
           -0.01199172068066717,
           0.5303395003642164,
           0.39221223676168365,
           -0.24502529010269858,
           1,
           0.04940485124258676,
           -0.07133265544452552
          ],
          [
           -0.29641207960388183,
           0.42214636414643536,
           0.0020344857301271306,
           -0.3355558068677742,
           -0.34015589768293314,
           -0.06063371745703599,
           0.15114476507351204,
           0.09295990537575916,
           0.04940485124258676,
           1,
           0.9557148252740405
          ],
          [
           -0.24997783387603895,
           0.24477004502614455,
           -0.0016238569088824664,
           -0.3444340583477199,
           -0.3973402760761187,
           -0.0883489871292254,
           0.15053348219122328,
           0.11019517541959142,
           -0.07133265544452552,
           0.9557148252740405,
           1
          ]
         ]
        }
       ],
       "layout": {
        "coloraxis": {
         "cmax": 1,
         "cmin": -1,
         "colorscale": [
          [
           0,
           "rgb(103,0,31)"
          ],
          [
           0.1,
           "rgb(178,24,43)"
          ],
          [
           0.2,
           "rgb(214,96,77)"
          ],
          [
           0.3,
           "rgb(244,165,130)"
          ],
          [
           0.4,
           "rgb(253,219,199)"
          ],
          [
           0.5,
           "rgb(247,247,247)"
          ],
          [
           0.6,
           "rgb(209,229,240)"
          ],
          [
           0.7,
           "rgb(146,197,222)"
          ],
          [
           0.8,
           "rgb(67,147,195)"
          ],
          [
           0.9,
           "rgb(33,102,172)"
          ],
          [
           1,
           "rgb(5,48,97)"
          ]
         ]
        },
        "height": 800,
        "margin": {
         "t": 60
        },
        "template": {
         "data": {
          "bar": [
           {
            "error_x": {
             "color": "#2a3f5f"
            },
            "error_y": {
             "color": "#2a3f5f"
            },
            "marker": {
             "line": {
              "color": "#E5ECF6",
              "width": 0.5
             },
             "pattern": {
              "fillmode": "overlay",
              "size": 10,
              "solidity": 0.2
             }
            },
            "type": "bar"
           }
          ],
          "barpolar": [
           {
            "marker": {
             "line": {
              "color": "#E5ECF6",
              "width": 0.5
             },
             "pattern": {
              "fillmode": "overlay",
              "size": 10,
              "solidity": 0.2
             }
            },
            "type": "barpolar"
           }
          ],
          "carpet": [
           {
            "aaxis": {
             "endlinecolor": "#2a3f5f",
             "gridcolor": "white",
             "linecolor": "white",
             "minorgridcolor": "white",
             "startlinecolor": "#2a3f5f"
            },
            "baxis": {
             "endlinecolor": "#2a3f5f",
             "gridcolor": "white",
             "linecolor": "white",
             "minorgridcolor": "white",
             "startlinecolor": "#2a3f5f"
            },
            "type": "carpet"
           }
          ],
          "choropleth": [
           {
            "colorbar": {
             "outlinewidth": 0,
             "ticks": ""
            },
            "type": "choropleth"
           }
          ],
          "contour": [
           {
            "colorbar": {
             "outlinewidth": 0,
             "ticks": ""
            },
            "colorscale": [
             [
              0,
              "#0d0887"
             ],
             [
              0.1111111111111111,
              "#46039f"
             ],
             [
              0.2222222222222222,
              "#7201a8"
             ],
             [
              0.3333333333333333,
              "#9c179e"
             ],
             [
              0.4444444444444444,
              "#bd3786"
             ],
             [
              0.5555555555555556,
              "#d8576b"
             ],
             [
              0.6666666666666666,
              "#ed7953"
             ],
             [
              0.7777777777777778,
              "#fb9f3a"
             ],
             [
              0.8888888888888888,
              "#fdca26"
             ],
             [
              1,
              "#f0f921"
             ]
            ],
            "type": "contour"
           }
          ],
          "contourcarpet": [
           {
            "colorbar": {
             "outlinewidth": 0,
             "ticks": ""
            },
            "type": "contourcarpet"
           }
          ],
          "heatmap": [
           {
            "colorbar": {
             "outlinewidth": 0,
             "ticks": ""
            },
            "colorscale": [
             [
              0,
              "#0d0887"
             ],
             [
              0.1111111111111111,
              "#46039f"
             ],
             [
              0.2222222222222222,
              "#7201a8"
             ],
             [
              0.3333333333333333,
              "#9c179e"
             ],
             [
              0.4444444444444444,
              "#bd3786"
             ],
             [
              0.5555555555555556,
              "#d8576b"
             ],
             [
              0.6666666666666666,
              "#ed7953"
             ],
             [
              0.7777777777777778,
              "#fb9f3a"
             ],
             [
              0.8888888888888888,
              "#fdca26"
             ],
             [
              1,
              "#f0f921"
             ]
            ],
            "type": "heatmap"
           }
          ],
          "heatmapgl": [
           {
            "colorbar": {
             "outlinewidth": 0,
             "ticks": ""
            },
            "colorscale": [
             [
              0,
              "#0d0887"
             ],
             [
              0.1111111111111111,
              "#46039f"
             ],
             [
              0.2222222222222222,
              "#7201a8"
             ],
             [
              0.3333333333333333,
              "#9c179e"
             ],
             [
              0.4444444444444444,
              "#bd3786"
             ],
             [
              0.5555555555555556,
              "#d8576b"
             ],
             [
              0.6666666666666666,
              "#ed7953"
             ],
             [
              0.7777777777777778,
              "#fb9f3a"
             ],
             [
              0.8888888888888888,
              "#fdca26"
             ],
             [
              1,
              "#f0f921"
             ]
            ],
            "type": "heatmapgl"
           }
          ],
          "histogram": [
           {
            "marker": {
             "pattern": {
              "fillmode": "overlay",
              "size": 10,
              "solidity": 0.2
             }
            },
            "type": "histogram"
           }
          ],
          "histogram2d": [
           {
            "colorbar": {
             "outlinewidth": 0,
             "ticks": ""
            },
            "colorscale": [
             [
              0,
              "#0d0887"
             ],
             [
              0.1111111111111111,
              "#46039f"
             ],
             [
              0.2222222222222222,
              "#7201a8"
             ],
             [
              0.3333333333333333,
              "#9c179e"
             ],
             [
              0.4444444444444444,
              "#bd3786"
             ],
             [
              0.5555555555555556,
              "#d8576b"
             ],
             [
              0.6666666666666666,
              "#ed7953"
             ],
             [
              0.7777777777777778,
              "#fb9f3a"
             ],
             [
              0.8888888888888888,
              "#fdca26"
             ],
             [
              1,
              "#f0f921"
             ]
            ],
            "type": "histogram2d"
           }
          ],
          "histogram2dcontour": [
           {
            "colorbar": {
             "outlinewidth": 0,
             "ticks": ""
            },
            "colorscale": [
             [
              0,
              "#0d0887"
             ],
             [
              0.1111111111111111,
              "#46039f"
             ],
             [
              0.2222222222222222,
              "#7201a8"
             ],
             [
              0.3333333333333333,
              "#9c179e"
             ],
             [
              0.4444444444444444,
              "#bd3786"
             ],
             [
              0.5555555555555556,
              "#d8576b"
             ],
             [
              0.6666666666666666,
              "#ed7953"
             ],
             [
              0.7777777777777778,
              "#fb9f3a"
             ],
             [
              0.8888888888888888,
              "#fdca26"
             ],
             [
              1,
              "#f0f921"
             ]
            ],
            "type": "histogram2dcontour"
           }
          ],
          "mesh3d": [
           {
            "colorbar": {
             "outlinewidth": 0,
             "ticks": ""
            },
            "type": "mesh3d"
           }
          ],
          "parcoords": [
           {
            "line": {
             "colorbar": {
              "outlinewidth": 0,
              "ticks": ""
             }
            },
            "type": "parcoords"
           }
          ],
          "pie": [
           {
            "automargin": true,
            "type": "pie"
           }
          ],
          "scatter": [
           {
            "fillpattern": {
             "fillmode": "overlay",
             "size": 10,
             "solidity": 0.2
            },
            "type": "scatter"
           }
          ],
          "scatter3d": [
           {
            "line": {
             "colorbar": {
              "outlinewidth": 0,
              "ticks": ""
             }
            },
            "marker": {
             "colorbar": {
              "outlinewidth": 0,
              "ticks": ""
             }
            },
            "type": "scatter3d"
           }
          ],
          "scattercarpet": [
           {
            "marker": {
             "colorbar": {
              "outlinewidth": 0,
              "ticks": ""
             }
            },
            "type": "scattercarpet"
           }
          ],
          "scattergeo": [
           {
            "marker": {
             "colorbar": {
              "outlinewidth": 0,
              "ticks": ""
             }
            },
            "type": "scattergeo"
           }
          ],
          "scattergl": [
           {
            "marker": {
             "colorbar": {
              "outlinewidth": 0,
              "ticks": ""
             }
            },
            "type": "scattergl"
           }
          ],
          "scattermapbox": [
           {
            "marker": {
             "colorbar": {
              "outlinewidth": 0,
              "ticks": ""
             }
            },
            "type": "scattermapbox"
           }
          ],
          "scatterpolar": [
           {
            "marker": {
             "colorbar": {
              "outlinewidth": 0,
              "ticks": ""
             }
            },
            "type": "scatterpolar"
           }
          ],
          "scatterpolargl": [
           {
            "marker": {
             "colorbar": {
              "outlinewidth": 0,
              "ticks": ""
             }
            },
            "type": "scatterpolargl"
           }
          ],
          "scatterternary": [
           {
            "marker": {
             "colorbar": {
              "outlinewidth": 0,
              "ticks": ""
             }
            },
            "type": "scatterternary"
           }
          ],
          "surface": [
           {
            "colorbar": {
             "outlinewidth": 0,
             "ticks": ""
            },
            "colorscale": [
             [
              0,
              "#0d0887"
             ],
             [
              0.1111111111111111,
              "#46039f"
             ],
             [
              0.2222222222222222,
              "#7201a8"
             ],
             [
              0.3333333333333333,
              "#9c179e"
             ],
             [
              0.4444444444444444,
              "#bd3786"
             ],
             [
              0.5555555555555556,
              "#d8576b"
             ],
             [
              0.6666666666666666,
              "#ed7953"
             ],
             [
              0.7777777777777778,
              "#fb9f3a"
             ],
             [
              0.8888888888888888,
              "#fdca26"
             ],
             [
              1,
              "#f0f921"
             ]
            ],
            "type": "surface"
           }
          ],
          "table": [
           {
            "cells": {
             "fill": {
              "color": "#EBF0F8"
             },
             "line": {
              "color": "white"
             }
            },
            "header": {
             "fill": {
              "color": "#C8D4E3"
             },
             "line": {
              "color": "white"
             }
            },
            "type": "table"
           }
          ]
         },
         "layout": {
          "annotationdefaults": {
           "arrowcolor": "#2a3f5f",
           "arrowhead": 0,
           "arrowwidth": 1
          },
          "autotypenumbers": "strict",
          "coloraxis": {
           "colorbar": {
            "outlinewidth": 0,
            "ticks": ""
           }
          },
          "colorscale": {
           "diverging": [
            [
             0,
             "#8e0152"
            ],
            [
             0.1,
             "#c51b7d"
            ],
            [
             0.2,
             "#de77ae"
            ],
            [
             0.3,
             "#f1b6da"
            ],
            [
             0.4,
             "#fde0ef"
            ],
            [
             0.5,
             "#f7f7f7"
            ],
            [
             0.6,
             "#e6f5d0"
            ],
            [
             0.7,
             "#b8e186"
            ],
            [
             0.8,
             "#7fbc41"
            ],
            [
             0.9,
             "#4d9221"
            ],
            [
             1,
             "#276419"
            ]
           ],
           "sequential": [
            [
             0,
             "#0d0887"
            ],
            [
             0.1111111111111111,
             "#46039f"
            ],
            [
             0.2222222222222222,
             "#7201a8"
            ],
            [
             0.3333333333333333,
             "#9c179e"
            ],
            [
             0.4444444444444444,
             "#bd3786"
            ],
            [
             0.5555555555555556,
             "#d8576b"
            ],
            [
             0.6666666666666666,
             "#ed7953"
            ],
            [
             0.7777777777777778,
             "#fb9f3a"
            ],
            [
             0.8888888888888888,
             "#fdca26"
            ],
            [
             1,
             "#f0f921"
            ]
           ],
           "sequentialminus": [
            [
             0,
             "#0d0887"
            ],
            [
             0.1111111111111111,
             "#46039f"
            ],
            [
             0.2222222222222222,
             "#7201a8"
            ],
            [
             0.3333333333333333,
             "#9c179e"
            ],
            [
             0.4444444444444444,
             "#bd3786"
            ],
            [
             0.5555555555555556,
             "#d8576b"
            ],
            [
             0.6666666666666666,
             "#ed7953"
            ],
            [
             0.7777777777777778,
             "#fb9f3a"
            ],
            [
             0.8888888888888888,
             "#fdca26"
            ],
            [
             1,
             "#f0f921"
            ]
           ]
          },
          "colorway": [
           "#636efa",
           "#EF553B",
           "#00cc96",
           "#ab63fa",
           "#FFA15A",
           "#19d3f3",
           "#FF6692",
           "#B6E880",
           "#FF97FF",
           "#FECB52"
          ],
          "font": {
           "color": "#2a3f5f"
          },
          "geo": {
           "bgcolor": "white",
           "lakecolor": "white",
           "landcolor": "#E5ECF6",
           "showlakes": true,
           "showland": true,
           "subunitcolor": "white"
          },
          "hoverlabel": {
           "align": "left"
          },
          "hovermode": "closest",
          "mapbox": {
           "style": "light"
          },
          "paper_bgcolor": "white",
          "plot_bgcolor": "#E5ECF6",
          "polar": {
           "angularaxis": {
            "gridcolor": "white",
            "linecolor": "white",
            "ticks": ""
           },
           "bgcolor": "#E5ECF6",
           "radialaxis": {
            "gridcolor": "white",
            "linecolor": "white",
            "ticks": ""
           }
          },
          "scene": {
           "xaxis": {
            "backgroundcolor": "#E5ECF6",
            "gridcolor": "white",
            "gridwidth": 2,
            "linecolor": "white",
            "showbackground": true,
            "ticks": "",
            "zerolinecolor": "white"
           },
           "yaxis": {
            "backgroundcolor": "#E5ECF6",
            "gridcolor": "white",
            "gridwidth": 2,
            "linecolor": "white",
            "showbackground": true,
            "ticks": "",
            "zerolinecolor": "white"
           },
           "zaxis": {
            "backgroundcolor": "#E5ECF6",
            "gridcolor": "white",
            "gridwidth": 2,
            "linecolor": "white",
            "showbackground": true,
            "ticks": "",
            "zerolinecolor": "white"
           }
          },
          "shapedefaults": {
           "line": {
            "color": "#2a3f5f"
           }
          },
          "ternary": {
           "aaxis": {
            "gridcolor": "white",
            "linecolor": "white",
            "ticks": ""
           },
           "baxis": {
            "gridcolor": "white",
            "linecolor": "white",
            "ticks": ""
           },
           "bgcolor": "#E5ECF6",
           "caxis": {
            "gridcolor": "white",
            "linecolor": "white",
            "ticks": ""
           }
          },
          "title": {
           "x": 0.05
          },
          "xaxis": {
           "automargin": true,
           "gridcolor": "white",
           "linecolor": "white",
           "ticks": "",
           "title": {
            "standoff": 15
           },
           "zerolinecolor": "white",
           "zerolinewidth": 2
          },
          "yaxis": {
           "automargin": true,
           "gridcolor": "white",
           "linecolor": "white",
           "ticks": "",
           "title": {
            "standoff": 15
           },
           "zerolinecolor": "white",
           "zerolinewidth": 2
          }
         }
        },
        "title": {
         "text": "Energy Correlation by Technology",
         "x": 0.5
        },
        "width": 800,
        "xaxis": {
         "anchor": "y",
         "constrain": "domain",
         "domain": [
          0,
          1
         ],
         "scaleanchor": "y"
        },
        "yaxis": {
         "anchor": "x",
         "autorange": "reversed",
         "constrain": "domain",
         "domain": [
          0,
          1
         ]
        }
       }
      }
     },
     "execution_count": null,
     "metadata": {},
     "output_type": "display_data"
    }
   ],
   "source": []
  },
  {
   "cell_type": "code",
   "execution_count": null,
   "metadata": {},
   "outputs": [],
   "source": []
  },
  {
   "cell_type": "markdown",
   "metadata": {},
   "source": [
    "## Other Plots"
   ]
  },
  {
   "cell_type": "code",
   "execution_count": null,
   "metadata": {},
   "outputs": [
    {
     "data": {
      "application/vnd.plotly.v1+json": {
       "config": {
        "plotlyServerURL": "https://plotly.com"
       },
       "data": [
        {
         "hovertemplate": "variable=Coal<br>time=%{x}<br>value=%{y}<extra></extra>",
         "legendgroup": "Coal",
         "line": {
          "color": "#636efa",
          "dash": "solid"
         },
         "marker": {
          "symbol": "circle"
         },
         "mode": "lines",
         "name": "Coal",
         "orientation": "v",
         "showlegend": true,
         "type": "scatter",
         "x": [
          "2022-09-01T00:00:00",
          "2022-09-08T00:00:00",
          "2022-09-15T00:00:00",
          "2022-09-22T00:00:00",
          "2022-09-29T00:00:00",
          "2022-10-06T00:00:00",
          "2022-10-13T00:00:00",
          "2022-10-20T00:00:00",
          "2022-10-27T00:00:00",
          "2022-11-03T00:00:00",
          "2022-11-10T00:00:00",
          "2022-11-17T00:00:00",
          "2022-11-24T00:00:00",
          "2022-12-01T00:00:00",
          "2022-12-08T00:00:00",
          "2022-12-15T00:00:00",
          "2022-12-22T00:00:00",
          "2022-12-29T00:00:00",
          "2023-01-05T00:00:00",
          "2023-01-12T00:00:00",
          "2023-01-19T00:00:00",
          "2023-01-26T00:00:00",
          "2023-02-02T00:00:00",
          "2023-02-09T00:00:00",
          "2023-02-16T00:00:00",
          "2023-02-23T00:00:00",
          "2023-03-02T00:00:00",
          "2023-03-09T00:00:00",
          "2023-03-16T00:00:00",
          "2023-03-23T00:00:00",
          "2023-03-30T00:00:00",
          "2023-04-06T00:00:00",
          "2023-04-13T00:00:00",
          "2023-04-20T00:00:00",
          "2023-04-27T00:00:00",
          "2023-05-04T00:00:00",
          "2023-05-11T00:00:00",
          "2023-05-18T00:00:00",
          "2023-05-25T00:00:00",
          "2023-06-01T00:00:00",
          "2023-06-08T00:00:00",
          "2023-06-15T00:00:00",
          "2023-06-22T00:00:00",
          "2023-06-29T00:00:00",
          "2023-07-06T00:00:00",
          "2023-07-13T00:00:00",
          "2023-07-20T00:00:00",
          "2023-07-27T00:00:00",
          "2023-08-03T00:00:00",
          "2023-08-10T00:00:00",
          "2023-08-17T00:00:00",
          "2023-08-24T00:00:00",
          "2023-08-31T00:00:00"
         ],
         "xaxis": "x",
         "y": [
          136546,
          162789.817,
          131442.302,
          160841.675,
          131327.524,
          138004.024,
          102723.25,
          38153.4,
          46704.425,
          67420.15,
          47900.2,
          47768.35,
          155960.526,
          187290.729,
          213632.233,
          218744.65,
          81976.392,
          82395.125,
          65255.3,
          62656.8,
          67515.875,
          81927.35,
          119741.25,
          100558.2,
          110131.075,
          101401.4,
          115802.15,
          92358.075,
          87887.95,
          80248.9,
          76758.85,
          67795.075,
          52620,
          57048.15,
          55235.15,
          51644.15,
          50167.475,
          48840.7,
          63951.832,
          86489.325,
          66849.5,
          68146.917,
          62960.925,
          54898.95,
          62593.165,
          55280.975,
          64471.25,
          91641.725,
          71699.675,
          101384.343,
          109108.158,
          100683.501,
          12551.6
         ],
         "yaxis": "y"
        },
        {
         "hovertemplate": "variable=Cogeneration<br>time=%{x}<br>value=%{y}<extra></extra>",
         "legendgroup": "Cogeneration",
         "line": {
          "color": "#EF553B",
          "dash": "solid"
         },
         "marker": {
          "symbol": "circle"
         },
         "mode": "lines",
         "name": "Cogeneration",
         "orientation": "v",
         "showlegend": true,
         "type": "scatter",
         "x": [
          "2022-09-01T00:00:00",
          "2022-09-08T00:00:00",
          "2022-09-15T00:00:00",
          "2022-09-22T00:00:00",
          "2022-09-29T00:00:00",
          "2022-10-06T00:00:00",
          "2022-10-13T00:00:00",
          "2022-10-20T00:00:00",
          "2022-10-27T00:00:00",
          "2022-11-03T00:00:00",
          "2022-11-10T00:00:00",
          "2022-11-17T00:00:00",
          "2022-11-24T00:00:00",
          "2022-12-01T00:00:00",
          "2022-12-08T00:00:00",
          "2022-12-15T00:00:00",
          "2022-12-22T00:00:00",
          "2022-12-29T00:00:00",
          "2023-01-05T00:00:00",
          "2023-01-12T00:00:00",
          "2023-01-19T00:00:00",
          "2023-01-26T00:00:00",
          "2023-02-02T00:00:00",
          "2023-02-09T00:00:00",
          "2023-02-16T00:00:00",
          "2023-02-23T00:00:00",
          "2023-03-02T00:00:00",
          "2023-03-09T00:00:00",
          "2023-03-16T00:00:00",
          "2023-03-23T00:00:00",
          "2023-03-30T00:00:00",
          "2023-04-06T00:00:00",
          "2023-04-13T00:00:00",
          "2023-04-20T00:00:00",
          "2023-04-27T00:00:00",
          "2023-05-04T00:00:00",
          "2023-05-11T00:00:00",
          "2023-05-18T00:00:00",
          "2023-05-25T00:00:00",
          "2023-06-01T00:00:00",
          "2023-06-08T00:00:00",
          "2023-06-15T00:00:00",
          "2023-06-22T00:00:00",
          "2023-06-29T00:00:00",
          "2023-07-06T00:00:00",
          "2023-07-13T00:00:00",
          "2023-07-20T00:00:00",
          "2023-07-27T00:00:00",
          "2023-08-03T00:00:00",
          "2023-08-10T00:00:00",
          "2023-08-17T00:00:00",
          "2023-08-24T00:00:00",
          "2023-08-31T00:00:00"
         ],
         "xaxis": "x",
         "y": [
          172293.173,
          155962.252,
          172158.716,
          196032.571,
          249467.214,
          291802.563,
          248503.643,
          222162.466,
          255267.784,
          353301.962,
          349506.96,
          332379.525,
          330771.654,
          303535.858,
          284068.186,
          268746.654,
          191822.535,
          209101.562,
          295398.8,
          260770.603,
          267528.518,
          311254.028,
          409073.367,
          432538.567,
          449973.899,
          435088.071,
          449273.339,
          365912.08,
          429202.851,
          376164.507,
          313043.284,
          353377.186,
          360606.097,
          418649.491,
          391486.056,
          384526.468,
          364461.71,
          385083.685,
          429905.082,
          421770.813,
          419403.38,
          418139.398,
          401671.362,
          350404.602,
          354448.863,
          349151.855,
          338536.451,
          327881.293,
          284044.415,
          285567.596,
          301156.565,
          302946.699,
          49434.506
         ],
         "yaxis": "y"
        },
        {
         "hovertemplate": "variable=Combined Cycle (Gas)<br>time=%{x}<br>value=%{y}<extra></extra>",
         "legendgroup": "Combined Cycle (Gas)",
         "line": {
          "color": "#00cc96",
          "dash": "solid"
         },
         "marker": {
          "symbol": "circle"
         },
         "mode": "lines",
         "name": "Combined Cycle (Gas)",
         "orientation": "v",
         "showlegend": true,
         "type": "scatter",
         "x": [
          "2022-09-01T00:00:00",
          "2022-09-08T00:00:00",
          "2022-09-15T00:00:00",
          "2022-09-22T00:00:00",
          "2022-09-29T00:00:00",
          "2022-10-06T00:00:00",
          "2022-10-13T00:00:00",
          "2022-10-20T00:00:00",
          "2022-10-27T00:00:00",
          "2022-11-03T00:00:00",
          "2022-11-10T00:00:00",
          "2022-11-17T00:00:00",
          "2022-11-24T00:00:00",
          "2022-12-01T00:00:00",
          "2022-12-08T00:00:00",
          "2022-12-15T00:00:00",
          "2022-12-22T00:00:00",
          "2022-12-29T00:00:00",
          "2023-01-05T00:00:00",
          "2023-01-12T00:00:00",
          "2023-01-19T00:00:00",
          "2023-01-26T00:00:00",
          "2023-02-02T00:00:00",
          "2023-02-09T00:00:00",
          "2023-02-16T00:00:00",
          "2023-02-23T00:00:00",
          "2023-03-02T00:00:00",
          "2023-03-09T00:00:00",
          "2023-03-16T00:00:00",
          "2023-03-23T00:00:00",
          "2023-03-30T00:00:00",
          "2023-04-06T00:00:00",
          "2023-04-13T00:00:00",
          "2023-04-20T00:00:00",
          "2023-04-27T00:00:00",
          "2023-05-04T00:00:00",
          "2023-05-11T00:00:00",
          "2023-05-18T00:00:00",
          "2023-05-25T00:00:00",
          "2023-06-01T00:00:00",
          "2023-06-08T00:00:00",
          "2023-06-15T00:00:00",
          "2023-06-22T00:00:00",
          "2023-06-29T00:00:00",
          "2023-07-06T00:00:00",
          "2023-07-13T00:00:00",
          "2023-07-20T00:00:00",
          "2023-07-27T00:00:00",
          "2023-08-03T00:00:00",
          "2023-08-10T00:00:00",
          "2023-08-17T00:00:00",
          "2023-08-24T00:00:00",
          "2023-08-31T00:00:00"
         ],
         "xaxis": "x",
         "y": [
          1923790.391,
          1936149.859,
          1790005.179,
          1290918.012,
          1708694.792,
          2028241.156,
          1575090.005,
          1084452.401,
          856412.777,
          1162494.925,
          1062711.21,
          537527.8,
          1090342.392,
          1825671.015,
          816042.283,
          644470.067,
          419187.68,
          506692.142,
          496900.075,
          339446.334,
          443373.502,
          565409.917,
          811441.665,
          1107762.65,
          1125821.391,
          938116.559,
          1034157.459,
          331038.559,
          598351.688,
          400330.133,
          294027.155,
          477067.884,
          358569.075,
          729077.773,
          803403.505,
          628590.092,
          454778.998,
          528217.859,
          847972.139,
          958754.85,
          856234.532,
          1076217.7719999999,
          947930.96,
          807748.078,
          1189094.099,
          1157324.183,
          864500.354,
          829202.153,
          733560.04,
          891582.398,
          1341053.085,
          1029472.369,
          157466.9
         ],
         "yaxis": "y"
        },
        {
         "hovertemplate": "variable=Eolic<br>time=%{x}<br>value=%{y}<extra></extra>",
         "legendgroup": "Eolic",
         "line": {
          "color": "#ab63fa",
          "dash": "solid"
         },
         "marker": {
          "symbol": "circle"
         },
         "mode": "lines",
         "name": "Eolic",
         "orientation": "v",
         "showlegend": true,
         "type": "scatter",
         "x": [
          "2022-09-01T00:00:00",
          "2022-09-08T00:00:00",
          "2022-09-15T00:00:00",
          "2022-09-22T00:00:00",
          "2022-09-29T00:00:00",
          "2022-10-06T00:00:00",
          "2022-10-13T00:00:00",
          "2022-10-20T00:00:00",
          "2022-10-27T00:00:00",
          "2022-11-03T00:00:00",
          "2022-11-10T00:00:00",
          "2022-11-17T00:00:00",
          "2022-11-24T00:00:00",
          "2022-12-01T00:00:00",
          "2022-12-08T00:00:00",
          "2022-12-15T00:00:00",
          "2022-12-22T00:00:00",
          "2022-12-29T00:00:00",
          "2023-01-05T00:00:00",
          "2023-01-12T00:00:00",
          "2023-01-19T00:00:00",
          "2023-01-26T00:00:00",
          "2023-02-02T00:00:00",
          "2023-02-09T00:00:00",
          "2023-02-16T00:00:00",
          "2023-02-23T00:00:00",
          "2023-03-02T00:00:00",
          "2023-03-09T00:00:00",
          "2023-03-16T00:00:00",
          "2023-03-23T00:00:00",
          "2023-03-30T00:00:00",
          "2023-04-06T00:00:00",
          "2023-04-13T00:00:00",
          "2023-04-20T00:00:00",
          "2023-04-27T00:00:00",
          "2023-05-04T00:00:00",
          "2023-05-11T00:00:00",
          "2023-05-18T00:00:00",
          "2023-05-25T00:00:00",
          "2023-06-01T00:00:00",
          "2023-06-08T00:00:00",
          "2023-06-15T00:00:00",
          "2023-06-22T00:00:00",
          "2023-06-29T00:00:00",
          "2023-07-06T00:00:00",
          "2023-07-13T00:00:00",
          "2023-07-20T00:00:00",
          "2023-07-27T00:00:00",
          "2023-08-03T00:00:00",
          "2023-08-10T00:00:00",
          "2023-08-17T00:00:00",
          "2023-08-24T00:00:00",
          "2023-08-31T00:00:00"
         ],
         "xaxis": "x",
         "y": [
          864037.706,
          871012.693,
          778374.75,
          1057348.168,
          815926.017,
          645895.633,
          1167372.855,
          1745376.081,
          1254445.187,
          1270797.307,
          1564617.825,
          2449319.174,
          1233707.088,
          584594.98,
          1694506.25,
          1437610.551,
          1211112.633,
          1138819.166,
          1520485.44,
          1975520.371,
          1981880.187,
          1755601.281,
          1274421.588,
          1076615.664,
          719159.35,
          1617881.7989999999,
          1465548.791,
          1949745.807,
          1042578.481,
          1338817.198,
          1681614.157,
          871504.524,
          1504434.778,
          871425.518,
          974474.245,
          1024088.348,
          1705621.992,
          1462285.188,
          736695.807,
          435403.341,
          727809.852,
          630582.97,
          897370.9839999999,
          950167.003,
          776764.638,
          971454.595,
          956924.652,
          832933.871,
          1209851.487,
          752514.313,
          663859.931,
          1164917.767,
          69646.772
         ],
         "yaxis": "y"
        },
        {
         "hovertemplate": "variable=Hydraulic<br>time=%{x}<br>value=%{y}<extra></extra>",
         "legendgroup": "Hydraulic",
         "line": {
          "color": "#FFA15A",
          "dash": "solid"
         },
         "marker": {
          "symbol": "circle"
         },
         "mode": "lines",
         "name": "Hydraulic",
         "orientation": "v",
         "showlegend": true,
         "type": "scatter",
         "x": [
          "2022-09-01T00:00:00",
          "2022-09-08T00:00:00",
          "2022-09-15T00:00:00",
          "2022-09-22T00:00:00",
          "2022-09-29T00:00:00",
          "2022-10-06T00:00:00",
          "2022-10-13T00:00:00",
          "2022-10-20T00:00:00",
          "2022-10-27T00:00:00",
          "2022-11-03T00:00:00",
          "2022-11-10T00:00:00",
          "2022-11-17T00:00:00",
          "2022-11-24T00:00:00",
          "2022-12-01T00:00:00",
          "2022-12-08T00:00:00",
          "2022-12-15T00:00:00",
          "2022-12-22T00:00:00",
          "2022-12-29T00:00:00",
          "2023-01-05T00:00:00",
          "2023-01-12T00:00:00",
          "2023-01-19T00:00:00",
          "2023-01-26T00:00:00",
          "2023-02-02T00:00:00",
          "2023-02-09T00:00:00",
          "2023-02-16T00:00:00",
          "2023-02-23T00:00:00",
          "2023-03-02T00:00:00",
          "2023-03-09T00:00:00",
          "2023-03-16T00:00:00",
          "2023-03-23T00:00:00",
          "2023-03-30T00:00:00",
          "2023-04-06T00:00:00",
          "2023-04-13T00:00:00",
          "2023-04-20T00:00:00",
          "2023-04-27T00:00:00",
          "2023-05-04T00:00:00",
          "2023-05-11T00:00:00",
          "2023-05-18T00:00:00",
          "2023-05-25T00:00:00",
          "2023-06-01T00:00:00",
          "2023-06-08T00:00:00",
          "2023-06-15T00:00:00",
          "2023-06-22T00:00:00",
          "2023-06-29T00:00:00",
          "2023-07-06T00:00:00",
          "2023-07-13T00:00:00",
          "2023-07-20T00:00:00",
          "2023-07-27T00:00:00",
          "2023-08-03T00:00:00",
          "2023-08-10T00:00:00",
          "2023-08-17T00:00:00",
          "2023-08-24T00:00:00",
          "2023-08-31T00:00:00"
         ],
         "xaxis": "x",
         "y": [
          172805.52,
          259821.964,
          400914.125,
          316692.765,
          163959.58,
          138111.15,
          135807.263,
          224967.818,
          213599.015,
          222020.328,
          239521.85,
          328917.734,
          536115.485,
          573063.984,
          534817.513,
          771959.166,
          752183.393,
          772800.337,
          845348.975,
          869567.932,
          944259.526,
          1016062.825,
          811071.6,
          649594.525,
          524005.475,
          502976.725,
          543162.371,
          461393.537,
          530786.08,
          476913.512,
          426376.598,
          408048.732,
          371490.008,
          377754.293,
          374437.337,
          351329.464,
          298481.689,
          336788.749,
          348801.371,
          447046.661,
          466536.257,
          495657.467,
          388192.926,
          312047.846,
          336325.907,
          306581.018,
          285044.577,
          259173.36,
          240226.74599999998,
          236806.188,
          258937.987,
          216970.617,
          40281.783
         ],
         "yaxis": "y"
        },
        {
         "hovertemplate": "variable=Non-Renewable Residues<br>time=%{x}<br>value=%{y}<extra></extra>",
         "legendgroup": "Non-Renewable Residues",
         "line": {
          "color": "#19d3f3",
          "dash": "solid"
         },
         "marker": {
          "symbol": "circle"
         },
         "mode": "lines",
         "name": "Non-Renewable Residues",
         "orientation": "v",
         "showlegend": true,
         "type": "scatter",
         "x": [
          "2022-09-01T00:00:00",
          "2022-09-08T00:00:00",
          "2022-09-15T00:00:00",
          "2022-09-22T00:00:00",
          "2022-09-29T00:00:00",
          "2022-10-06T00:00:00",
          "2022-10-13T00:00:00",
          "2022-10-20T00:00:00",
          "2022-10-27T00:00:00",
          "2022-11-03T00:00:00",
          "2022-11-10T00:00:00",
          "2022-11-17T00:00:00",
          "2022-11-24T00:00:00",
          "2022-12-01T00:00:00",
          "2022-12-08T00:00:00",
          "2022-12-15T00:00:00",
          "2022-12-22T00:00:00",
          "2022-12-29T00:00:00",
          "2023-01-05T00:00:00",
          "2023-01-12T00:00:00",
          "2023-01-19T00:00:00",
          "2023-01-26T00:00:00",
          "2023-02-02T00:00:00",
          "2023-02-09T00:00:00",
          "2023-02-16T00:00:00",
          "2023-02-23T00:00:00",
          "2023-03-02T00:00:00",
          "2023-03-09T00:00:00",
          "2023-03-16T00:00:00",
          "2023-03-23T00:00:00",
          "2023-03-30T00:00:00",
          "2023-04-06T00:00:00",
          "2023-04-13T00:00:00",
          "2023-04-20T00:00:00",
          "2023-04-27T00:00:00",
          "2023-05-04T00:00:00",
          "2023-05-11T00:00:00",
          "2023-05-18T00:00:00",
          "2023-05-25T00:00:00",
          "2023-06-01T00:00:00",
          "2023-06-08T00:00:00",
          "2023-06-15T00:00:00",
          "2023-06-22T00:00:00",
          "2023-06-29T00:00:00",
          "2023-07-06T00:00:00",
          "2023-07-13T00:00:00",
          "2023-07-20T00:00:00",
          "2023-07-27T00:00:00",
          "2023-08-03T00:00:00",
          "2023-08-10T00:00:00",
          "2023-08-17T00:00:00",
          "2023-08-24T00:00:00",
          "2023-08-31T00:00:00"
         ],
         "xaxis": "x",
         "y": [
          44596.742,
          43652.217,
          37113.667,
          36248.758,
          47646.049,
          50087.2,
          50948.442,
          40164.7,
          40263.6,
          40722.9,
          37305.3,
          39537.775,
          40888.78,
          42572,
          42710.883,
          40782.43,
          42227.552,
          41214.725,
          40752.9,
          37569.567,
          31562.34,
          30894.233,
          43406.942,
          43720.3,
          42864.533,
          43593.3,
          44551.45,
          37910.9,
          39333.8,
          37415.273,
          37636.38,
          35571.058,
          25172.7,
          28355.15,
          21015.083,
          18451.1,
          16005.8,
          17593.133,
          34290.3,
          35510.7,
          44277.1,
          46749.2,
          42309.625,
          40801.4,
          43427.3,
          43046.316,
          42285.3,
          42859.1,
          38140.5,
          41180.817,
          40174.3,
          39295.9,
          5047.1
         ],
         "yaxis": "y"
        },
        {
         "hovertemplate": "variable=Nuclear<br>time=%{x}<br>value=%{y}<extra></extra>",
         "legendgroup": "Nuclear",
         "line": {
          "color": "#FF6692",
          "dash": "solid"
         },
         "marker": {
          "symbol": "circle"
         },
         "mode": "lines",
         "name": "Nuclear",
         "orientation": "v",
         "showlegend": true,
         "type": "scatter",
         "x": [
          "2022-09-01T00:00:00",
          "2022-09-08T00:00:00",
          "2022-09-15T00:00:00",
          "2022-09-22T00:00:00",
          "2022-09-29T00:00:00",
          "2022-10-06T00:00:00",
          "2022-10-13T00:00:00",
          "2022-10-20T00:00:00",
          "2022-10-27T00:00:00",
          "2022-11-03T00:00:00",
          "2022-11-10T00:00:00",
          "2022-11-17T00:00:00",
          "2022-11-24T00:00:00",
          "2022-12-01T00:00:00",
          "2022-12-08T00:00:00",
          "2022-12-15T00:00:00",
          "2022-12-22T00:00:00",
          "2022-12-29T00:00:00",
          "2023-01-05T00:00:00",
          "2023-01-12T00:00:00",
          "2023-01-19T00:00:00",
          "2023-01-26T00:00:00",
          "2023-02-02T00:00:00",
          "2023-02-09T00:00:00",
          "2023-02-16T00:00:00",
          "2023-02-23T00:00:00",
          "2023-03-02T00:00:00",
          "2023-03-09T00:00:00",
          "2023-03-16T00:00:00",
          "2023-03-23T00:00:00",
          "2023-03-30T00:00:00",
          "2023-04-06T00:00:00",
          "2023-04-13T00:00:00",
          "2023-04-20T00:00:00",
          "2023-04-27T00:00:00",
          "2023-05-04T00:00:00",
          "2023-05-11T00:00:00",
          "2023-05-18T00:00:00",
          "2023-05-25T00:00:00",
          "2023-06-01T00:00:00",
          "2023-06-08T00:00:00",
          "2023-06-15T00:00:00",
          "2023-06-22T00:00:00",
          "2023-06-29T00:00:00",
          "2023-07-06T00:00:00",
          "2023-07-13T00:00:00",
          "2023-07-20T00:00:00",
          "2023-07-27T00:00:00",
          "2023-08-03T00:00:00",
          "2023-08-10T00:00:00",
          "2023-08-17T00:00:00",
          "2023-08-24T00:00:00",
          "2023-08-31T00:00:00"
         ],
         "xaxis": "x",
         "y": [
          1157554,
          1161943.117,
          1155532.2,
          1085995,
          1008134.9,
          999900,
          871632.9,
          832694.7,
          832102.325,
          924739.25,
          1008876.5,
          1008117.9,
          1062348.256,
          1149761.05,
          1152578.175,
          1186052.2,
          1186314.325,
          1142023.125,
          1083023.225,
          1135848.6,
          1189216,
          1190364.7,
          1190627.1,
          1181297,
          1174965.2,
          1024818.1,
          1123369.8,
          1178822.575,
          1186104.1,
          1167244.1,
          1078860,
          1178076.9,
          1100701.15,
          998988.5,
          884008.675,
          851120.625,
          806484.717,
          882321.85,
          852354.6,
          851401.6,
          847676.2,
          934666.5920000001,
          1073776.2249999999,
          1157317.4,
          1158190,
          1158518,
          1154544.6,
          1157350.8,
          1151160.1,
          1107343.678,
          1132021.567,
          1127421.7,
          164489.725
         ],
         "yaxis": "y"
        },
        {
         "hovertemplate": "variable=Pumped Storage Hydropower<br>time=%{x}<br>value=%{y}<extra></extra>",
         "legendgroup": "Pumped Storage Hydropower",
         "line": {
          "color": "#B6E880",
          "dash": "solid"
         },
         "marker": {
          "symbol": "circle"
         },
         "mode": "lines",
         "name": "Pumped Storage Hydropower",
         "orientation": "v",
         "showlegend": true,
         "type": "scatter",
         "x": [
          "2022-09-01T00:00:00",
          "2022-09-08T00:00:00",
          "2022-09-15T00:00:00",
          "2022-09-22T00:00:00",
          "2022-09-29T00:00:00",
          "2022-10-06T00:00:00",
          "2022-10-13T00:00:00",
          "2022-10-20T00:00:00",
          "2022-10-27T00:00:00",
          "2022-11-03T00:00:00",
          "2022-11-10T00:00:00",
          "2022-11-17T00:00:00",
          "2022-11-24T00:00:00",
          "2022-12-01T00:00:00",
          "2022-12-08T00:00:00",
          "2022-12-15T00:00:00",
          "2022-12-22T00:00:00",
          "2022-12-29T00:00:00",
          "2023-01-05T00:00:00",
          "2023-01-12T00:00:00",
          "2023-01-19T00:00:00",
          "2023-01-26T00:00:00",
          "2023-02-02T00:00:00",
          "2023-02-09T00:00:00",
          "2023-02-16T00:00:00",
          "2023-02-23T00:00:00",
          "2023-03-02T00:00:00",
          "2023-03-09T00:00:00",
          "2023-03-16T00:00:00",
          "2023-03-23T00:00:00",
          "2023-03-30T00:00:00",
          "2023-04-06T00:00:00",
          "2023-04-13T00:00:00",
          "2023-04-20T00:00:00",
          "2023-04-27T00:00:00",
          "2023-05-04T00:00:00",
          "2023-05-11T00:00:00",
          "2023-05-18T00:00:00",
          "2023-05-25T00:00:00",
          "2023-06-01T00:00:00",
          "2023-06-08T00:00:00",
          "2023-06-15T00:00:00",
          "2023-06-22T00:00:00",
          "2023-06-29T00:00:00",
          "2023-07-06T00:00:00",
          "2023-07-13T00:00:00",
          "2023-07-20T00:00:00",
          "2023-07-27T00:00:00",
          "2023-08-03T00:00:00",
          "2023-08-10T00:00:00",
          "2023-08-17T00:00:00",
          "2023-08-24T00:00:00",
          "2023-08-31T00:00:00"
         ],
         "xaxis": "x",
         "y": [
          63015.933,
          60223.724,
          63188.55,
          63756.125,
          77624.617,
          83262.075,
          76546.2125,
          65057.2,
          79341.933,
          73616.14199999999,
          51901.7,
          78600.971,
          59887.1,
          62480.011,
          70827.75,
          71145.35,
          115850.25,
          105141.354,
          95713.05,
          112347.525,
          109314.412,
          76199.85,
          66453.3,
          26808.725,
          65038.675,
          54129.8,
          52753.05,
          104757.071,
          109351.342,
          115670.241,
          117141.075,
          110240.097,
          100392.977,
          91150,
          74177.634,
          85645.984,
          100578.825,
          87277.45,
          55725.779,
          62733.4,
          61947.125,
          66267.958,
          65211.692,
          67686.225,
          49667.775,
          76269.267,
          48325.95,
          77326.05,
          103197.008,
          69841.583,
          63377.567,
          75029.051,
          12067.3
         ],
         "yaxis": "y"
        },
        {
         "hovertemplate": "variable=Renewables Other<br>time=%{x}<br>value=%{y}<extra></extra>",
         "legendgroup": "Renewables Other",
         "line": {
          "color": "#FF97FF",
          "dash": "solid"
         },
         "marker": {
          "symbol": "circle"
         },
         "mode": "lines",
         "name": "Renewables Other",
         "orientation": "v",
         "showlegend": true,
         "type": "scatter",
         "x": [
          "2022-09-01T00:00:00",
          "2022-09-08T00:00:00",
          "2022-09-15T00:00:00",
          "2022-09-22T00:00:00",
          "2022-09-29T00:00:00",
          "2022-10-06T00:00:00",
          "2022-10-13T00:00:00",
          "2022-10-20T00:00:00",
          "2022-10-27T00:00:00",
          "2022-11-03T00:00:00",
          "2022-11-10T00:00:00",
          "2022-11-17T00:00:00",
          "2022-11-24T00:00:00",
          "2022-12-01T00:00:00",
          "2022-12-08T00:00:00",
          "2022-12-15T00:00:00",
          "2022-12-22T00:00:00",
          "2022-12-29T00:00:00",
          "2023-01-05T00:00:00",
          "2023-01-12T00:00:00",
          "2023-01-19T00:00:00",
          "2023-01-26T00:00:00",
          "2023-02-02T00:00:00",
          "2023-02-09T00:00:00",
          "2023-02-16T00:00:00",
          "2023-02-23T00:00:00",
          "2023-03-02T00:00:00",
          "2023-03-09T00:00:00",
          "2023-03-16T00:00:00",
          "2023-03-23T00:00:00",
          "2023-03-30T00:00:00",
          "2023-04-06T00:00:00",
          "2023-04-13T00:00:00",
          "2023-04-20T00:00:00",
          "2023-04-27T00:00:00",
          "2023-05-04T00:00:00",
          "2023-05-11T00:00:00",
          "2023-05-18T00:00:00",
          "2023-05-25T00:00:00",
          "2023-06-01T00:00:00",
          "2023-06-08T00:00:00",
          "2023-06-15T00:00:00",
          "2023-06-22T00:00:00",
          "2023-06-29T00:00:00",
          "2023-07-06T00:00:00",
          "2023-07-13T00:00:00",
          "2023-07-20T00:00:00",
          "2023-07-27T00:00:00",
          "2023-08-03T00:00:00",
          "2023-08-10T00:00:00",
          "2023-08-17T00:00:00",
          "2023-08-24T00:00:00",
          "2023-08-31T00:00:00"
         ],
         "xaxis": "x",
         "y": [
          82948.067,
          79612.056,
          86503.702,
          83023.01699999999,
          84397.269,
          85951.584,
          85391.158,
          79258.2,
          88381.809,
          91132.292,
          89605.115,
          80538.679,
          89321.382,
          86261.928,
          84621.343,
          85674.967,
          59280.25,
          57607.65,
          70500.716,
          63303.651,
          65163.205,
          78679.48300000001,
          89228.355,
          92191.252,
          91291.9,
          90362.143,
          86551.321,
          67306.183,
          72459.927,
          65068.567,
          47712.617,
          66432.117,
          59831.563,
          74380.462,
          79776.622,
          81926.564,
          73711.414,
          74267.36,
          80249.081,
          74941.918,
          75209.266,
          79431.274,
          79944.799,
          75501.557,
          76378.713,
          72339.132,
          74840.045,
          77400.827,
          71990.736,
          84126.29,
          84519.909,
          75374.591,
          11374.631
         ],
         "yaxis": "y"
        },
        {
         "hovertemplate": "variable=Solar Photovoltaic<br>time=%{x}<br>value=%{y}<extra></extra>",
         "legendgroup": "Solar Photovoltaic",
         "line": {
          "color": "#FECB52",
          "dash": "solid"
         },
         "marker": {
          "symbol": "circle"
         },
         "mode": "lines",
         "name": "Solar Photovoltaic",
         "orientation": "v",
         "showlegend": true,
         "type": "scatter",
         "x": [
          "2022-09-01T00:00:00",
          "2022-09-08T00:00:00",
          "2022-09-15T00:00:00",
          "2022-09-22T00:00:00",
          "2022-09-29T00:00:00",
          "2022-10-06T00:00:00",
          "2022-10-13T00:00:00",
          "2022-10-20T00:00:00",
          "2022-10-27T00:00:00",
          "2022-11-03T00:00:00",
          "2022-11-10T00:00:00",
          "2022-11-17T00:00:00",
          "2022-11-24T00:00:00",
          "2022-12-01T00:00:00",
          "2022-12-08T00:00:00",
          "2022-12-15T00:00:00",
          "2022-12-22T00:00:00",
          "2022-12-29T00:00:00",
          "2023-01-05T00:00:00",
          "2023-01-12T00:00:00",
          "2023-01-19T00:00:00",
          "2023-01-26T00:00:00",
          "2023-02-02T00:00:00",
          "2023-02-09T00:00:00",
          "2023-02-16T00:00:00",
          "2023-02-23T00:00:00",
          "2023-03-02T00:00:00",
          "2023-03-09T00:00:00",
          "2023-03-16T00:00:00",
          "2023-03-23T00:00:00",
          "2023-03-30T00:00:00",
          "2023-04-06T00:00:00",
          "2023-04-13T00:00:00",
          "2023-04-20T00:00:00",
          "2023-04-27T00:00:00",
          "2023-05-04T00:00:00",
          "2023-05-11T00:00:00",
          "2023-05-18T00:00:00",
          "2023-05-25T00:00:00",
          "2023-06-01T00:00:00",
          "2023-06-08T00:00:00",
          "2023-06-15T00:00:00",
          "2023-06-22T00:00:00",
          "2023-06-29T00:00:00",
          "2023-07-06T00:00:00",
          "2023-07-13T00:00:00",
          "2023-07-20T00:00:00",
          "2023-07-27T00:00:00",
          "2023-08-03T00:00:00",
          "2023-08-10T00:00:00",
          "2023-08-17T00:00:00",
          "2023-08-24T00:00:00",
          "2023-08-31T00:00:00"
         ],
         "xaxis": "x",
         "y": [
          695863.476,
          555033.259,
          608068.827,
          613341.384,
          611811.472,
          509740.354,
          512404.453,
          316921.1,
          402224.625,
          415140.085,
          338373.924,
          264809.239,
          385240.74199999997,
          276701.375,
          159828.131,
          263867.125,
          349902.85,
          320753.344,
          317114.45,
          344942.764,
          445207.023,
          523462.844,
          533611.22,
          509696.575,
          543974.525,
          616904.186,
          549889.779,
          645638.331,
          732019.803,
          758342.915,
          768282.292,
          853877.175,
          859382.794,
          894569.659,
          837950.462,
          981307.539,
          939416.769,
          751625.093,
          749192.723,
          782792.846,
          862283.924,
          906376.428,
          1006500.171,
          1008587.972,
          989741.068,
          1014225.113,
          1020947.706,
          1072551.85,
          992046.304,
          1037438.439,
          1017469.609,
          900329.814,
          138880.021
         ],
         "yaxis": "y"
        },
        {
         "hovertemplate": "variable=Solar Thermal<br>time=%{x}<br>value=%{y}<extra></extra>",
         "legendgroup": "Solar Thermal",
         "line": {
          "color": "#636efa",
          "dash": "solid"
         },
         "marker": {
          "symbol": "circle"
         },
         "mode": "lines",
         "name": "Solar Thermal",
         "orientation": "v",
         "showlegend": true,
         "type": "scatter",
         "x": [
          "2022-09-01T00:00:00",
          "2022-09-08T00:00:00",
          "2022-09-15T00:00:00",
          "2022-09-22T00:00:00",
          "2022-09-29T00:00:00",
          "2022-10-06T00:00:00",
          "2022-10-13T00:00:00",
          "2022-10-20T00:00:00",
          "2022-10-27T00:00:00",
          "2022-11-03T00:00:00",
          "2022-11-10T00:00:00",
          "2022-11-17T00:00:00",
          "2022-11-24T00:00:00",
          "2022-12-01T00:00:00",
          "2022-12-08T00:00:00",
          "2022-12-15T00:00:00",
          "2022-12-22T00:00:00",
          "2022-12-29T00:00:00",
          "2023-01-05T00:00:00",
          "2023-01-12T00:00:00",
          "2023-01-19T00:00:00",
          "2023-01-26T00:00:00",
          "2023-02-02T00:00:00",
          "2023-02-09T00:00:00",
          "2023-02-16T00:00:00",
          "2023-02-23T00:00:00",
          "2023-03-02T00:00:00",
          "2023-03-09T00:00:00",
          "2023-03-16T00:00:00",
          "2023-03-23T00:00:00",
          "2023-03-30T00:00:00",
          "2023-04-06T00:00:00",
          "2023-04-13T00:00:00",
          "2023-04-20T00:00:00",
          "2023-04-27T00:00:00",
          "2023-05-04T00:00:00",
          "2023-05-11T00:00:00",
          "2023-05-18T00:00:00",
          "2023-05-25T00:00:00",
          "2023-06-01T00:00:00",
          "2023-06-08T00:00:00",
          "2023-06-15T00:00:00",
          "2023-06-22T00:00:00",
          "2023-06-29T00:00:00",
          "2023-07-06T00:00:00",
          "2023-07-13T00:00:00",
          "2023-07-20T00:00:00",
          "2023-07-27T00:00:00",
          "2023-08-03T00:00:00",
          "2023-08-10T00:00:00",
          "2023-08-17T00:00:00",
          "2023-08-24T00:00:00",
          "2023-08-31T00:00:00"
         ],
         "xaxis": "x",
         "y": [
          133947.275,
          82339.811,
          86070.25,
          115536.9,
          88075.529,
          55061.926999999996,
          55016.252,
          5328.6,
          26313,
          33985.8,
          28693.5,
          8915,
          30177.2,
          16451.9,
          1204.9,
          10745.375,
          30807.4,
          20934.435,
          15657.6,
          19889.1,
          41558.95,
          47960.8,
          50547.875,
          39572.6,
          31671.7,
          76436.45,
          49924.683,
          82595.331,
          109001.465,
          125248.657,
          134602.49,
          160735.007,
          168665.69700000001,
          155567.474,
          114264.852,
          169533.8,
          163515.885,
          61590.402,
          67937.081,
          97622.673,
          107308.754,
          143811.252,
          187812.431,
          185330.302,
          176808.911,
          167638.561,
          178050.848,
          194807.528,
          177383.129,
          175120.641,
          173650.462,
          152151.446,
          22387.216
         ],
         "yaxis": "y"
        }
       ],
       "layout": {
        "legend": {
         "title": {
          "text": "variable"
         },
         "tracegroupgap": 0
        },
        "margin": {
         "t": 60
        },
        "template": {
         "data": {
          "bar": [
           {
            "error_x": {
             "color": "#2a3f5f"
            },
            "error_y": {
             "color": "#2a3f5f"
            },
            "marker": {
             "line": {
              "color": "#E5ECF6",
              "width": 0.5
             },
             "pattern": {
              "fillmode": "overlay",
              "size": 10,
              "solidity": 0.2
             }
            },
            "type": "bar"
           }
          ],
          "barpolar": [
           {
            "marker": {
             "line": {
              "color": "#E5ECF6",
              "width": 0.5
             },
             "pattern": {
              "fillmode": "overlay",
              "size": 10,
              "solidity": 0.2
             }
            },
            "type": "barpolar"
           }
          ],
          "carpet": [
           {
            "aaxis": {
             "endlinecolor": "#2a3f5f",
             "gridcolor": "white",
             "linecolor": "white",
             "minorgridcolor": "white",
             "startlinecolor": "#2a3f5f"
            },
            "baxis": {
             "endlinecolor": "#2a3f5f",
             "gridcolor": "white",
             "linecolor": "white",
             "minorgridcolor": "white",
             "startlinecolor": "#2a3f5f"
            },
            "type": "carpet"
           }
          ],
          "choropleth": [
           {
            "colorbar": {
             "outlinewidth": 0,
             "ticks": ""
            },
            "type": "choropleth"
           }
          ],
          "contour": [
           {
            "colorbar": {
             "outlinewidth": 0,
             "ticks": ""
            },
            "colorscale": [
             [
              0,
              "#0d0887"
             ],
             [
              0.1111111111111111,
              "#46039f"
             ],
             [
              0.2222222222222222,
              "#7201a8"
             ],
             [
              0.3333333333333333,
              "#9c179e"
             ],
             [
              0.4444444444444444,
              "#bd3786"
             ],
             [
              0.5555555555555556,
              "#d8576b"
             ],
             [
              0.6666666666666666,
              "#ed7953"
             ],
             [
              0.7777777777777778,
              "#fb9f3a"
             ],
             [
              0.8888888888888888,
              "#fdca26"
             ],
             [
              1,
              "#f0f921"
             ]
            ],
            "type": "contour"
           }
          ],
          "contourcarpet": [
           {
            "colorbar": {
             "outlinewidth": 0,
             "ticks": ""
            },
            "type": "contourcarpet"
           }
          ],
          "heatmap": [
           {
            "colorbar": {
             "outlinewidth": 0,
             "ticks": ""
            },
            "colorscale": [
             [
              0,
              "#0d0887"
             ],
             [
              0.1111111111111111,
              "#46039f"
             ],
             [
              0.2222222222222222,
              "#7201a8"
             ],
             [
              0.3333333333333333,
              "#9c179e"
             ],
             [
              0.4444444444444444,
              "#bd3786"
             ],
             [
              0.5555555555555556,
              "#d8576b"
             ],
             [
              0.6666666666666666,
              "#ed7953"
             ],
             [
              0.7777777777777778,
              "#fb9f3a"
             ],
             [
              0.8888888888888888,
              "#fdca26"
             ],
             [
              1,
              "#f0f921"
             ]
            ],
            "type": "heatmap"
           }
          ],
          "heatmapgl": [
           {
            "colorbar": {
             "outlinewidth": 0,
             "ticks": ""
            },
            "colorscale": [
             [
              0,
              "#0d0887"
             ],
             [
              0.1111111111111111,
              "#46039f"
             ],
             [
              0.2222222222222222,
              "#7201a8"
             ],
             [
              0.3333333333333333,
              "#9c179e"
             ],
             [
              0.4444444444444444,
              "#bd3786"
             ],
             [
              0.5555555555555556,
              "#d8576b"
             ],
             [
              0.6666666666666666,
              "#ed7953"
             ],
             [
              0.7777777777777778,
              "#fb9f3a"
             ],
             [
              0.8888888888888888,
              "#fdca26"
             ],
             [
              1,
              "#f0f921"
             ]
            ],
            "type": "heatmapgl"
           }
          ],
          "histogram": [
           {
            "marker": {
             "pattern": {
              "fillmode": "overlay",
              "size": 10,
              "solidity": 0.2
             }
            },
            "type": "histogram"
           }
          ],
          "histogram2d": [
           {
            "colorbar": {
             "outlinewidth": 0,
             "ticks": ""
            },
            "colorscale": [
             [
              0,
              "#0d0887"
             ],
             [
              0.1111111111111111,
              "#46039f"
             ],
             [
              0.2222222222222222,
              "#7201a8"
             ],
             [
              0.3333333333333333,
              "#9c179e"
             ],
             [
              0.4444444444444444,
              "#bd3786"
             ],
             [
              0.5555555555555556,
              "#d8576b"
             ],
             [
              0.6666666666666666,
              "#ed7953"
             ],
             [
              0.7777777777777778,
              "#fb9f3a"
             ],
             [
              0.8888888888888888,
              "#fdca26"
             ],
             [
              1,
              "#f0f921"
             ]
            ],
            "type": "histogram2d"
           }
          ],
          "histogram2dcontour": [
           {
            "colorbar": {
             "outlinewidth": 0,
             "ticks": ""
            },
            "colorscale": [
             [
              0,
              "#0d0887"
             ],
             [
              0.1111111111111111,
              "#46039f"
             ],
             [
              0.2222222222222222,
              "#7201a8"
             ],
             [
              0.3333333333333333,
              "#9c179e"
             ],
             [
              0.4444444444444444,
              "#bd3786"
             ],
             [
              0.5555555555555556,
              "#d8576b"
             ],
             [
              0.6666666666666666,
              "#ed7953"
             ],
             [
              0.7777777777777778,
              "#fb9f3a"
             ],
             [
              0.8888888888888888,
              "#fdca26"
             ],
             [
              1,
              "#f0f921"
             ]
            ],
            "type": "histogram2dcontour"
           }
          ],
          "mesh3d": [
           {
            "colorbar": {
             "outlinewidth": 0,
             "ticks": ""
            },
            "type": "mesh3d"
           }
          ],
          "parcoords": [
           {
            "line": {
             "colorbar": {
              "outlinewidth": 0,
              "ticks": ""
             }
            },
            "type": "parcoords"
           }
          ],
          "pie": [
           {
            "automargin": true,
            "type": "pie"
           }
          ],
          "scatter": [
           {
            "fillpattern": {
             "fillmode": "overlay",
             "size": 10,
             "solidity": 0.2
            },
            "type": "scatter"
           }
          ],
          "scatter3d": [
           {
            "line": {
             "colorbar": {
              "outlinewidth": 0,
              "ticks": ""
             }
            },
            "marker": {
             "colorbar": {
              "outlinewidth": 0,
              "ticks": ""
             }
            },
            "type": "scatter3d"
           }
          ],
          "scattercarpet": [
           {
            "marker": {
             "colorbar": {
              "outlinewidth": 0,
              "ticks": ""
             }
            },
            "type": "scattercarpet"
           }
          ],
          "scattergeo": [
           {
            "marker": {
             "colorbar": {
              "outlinewidth": 0,
              "ticks": ""
             }
            },
            "type": "scattergeo"
           }
          ],
          "scattergl": [
           {
            "marker": {
             "colorbar": {
              "outlinewidth": 0,
              "ticks": ""
             }
            },
            "type": "scattergl"
           }
          ],
          "scattermapbox": [
           {
            "marker": {
             "colorbar": {
              "outlinewidth": 0,
              "ticks": ""
             }
            },
            "type": "scattermapbox"
           }
          ],
          "scatterpolar": [
           {
            "marker": {
             "colorbar": {
              "outlinewidth": 0,
              "ticks": ""
             }
            },
            "type": "scatterpolar"
           }
          ],
          "scatterpolargl": [
           {
            "marker": {
             "colorbar": {
              "outlinewidth": 0,
              "ticks": ""
             }
            },
            "type": "scatterpolargl"
           }
          ],
          "scatterternary": [
           {
            "marker": {
             "colorbar": {
              "outlinewidth": 0,
              "ticks": ""
             }
            },
            "type": "scatterternary"
           }
          ],
          "surface": [
           {
            "colorbar": {
             "outlinewidth": 0,
             "ticks": ""
            },
            "colorscale": [
             [
              0,
              "#0d0887"
             ],
             [
              0.1111111111111111,
              "#46039f"
             ],
             [
              0.2222222222222222,
              "#7201a8"
             ],
             [
              0.3333333333333333,
              "#9c179e"
             ],
             [
              0.4444444444444444,
              "#bd3786"
             ],
             [
              0.5555555555555556,
              "#d8576b"
             ],
             [
              0.6666666666666666,
              "#ed7953"
             ],
             [
              0.7777777777777778,
              "#fb9f3a"
             ],
             [
              0.8888888888888888,
              "#fdca26"
             ],
             [
              1,
              "#f0f921"
             ]
            ],
            "type": "surface"
           }
          ],
          "table": [
           {
            "cells": {
             "fill": {
              "color": "#EBF0F8"
             },
             "line": {
              "color": "white"
             }
            },
            "header": {
             "fill": {
              "color": "#C8D4E3"
             },
             "line": {
              "color": "white"
             }
            },
            "type": "table"
           }
          ]
         },
         "layout": {
          "annotationdefaults": {
           "arrowcolor": "#2a3f5f",
           "arrowhead": 0,
           "arrowwidth": 1
          },
          "autotypenumbers": "strict",
          "coloraxis": {
           "colorbar": {
            "outlinewidth": 0,
            "ticks": ""
           }
          },
          "colorscale": {
           "diverging": [
            [
             0,
             "#8e0152"
            ],
            [
             0.1,
             "#c51b7d"
            ],
            [
             0.2,
             "#de77ae"
            ],
            [
             0.3,
             "#f1b6da"
            ],
            [
             0.4,
             "#fde0ef"
            ],
            [
             0.5,
             "#f7f7f7"
            ],
            [
             0.6,
             "#e6f5d0"
            ],
            [
             0.7,
             "#b8e186"
            ],
            [
             0.8,
             "#7fbc41"
            ],
            [
             0.9,
             "#4d9221"
            ],
            [
             1,
             "#276419"
            ]
           ],
           "sequential": [
            [
             0,
             "#0d0887"
            ],
            [
             0.1111111111111111,
             "#46039f"
            ],
            [
             0.2222222222222222,
             "#7201a8"
            ],
            [
             0.3333333333333333,
             "#9c179e"
            ],
            [
             0.4444444444444444,
             "#bd3786"
            ],
            [
             0.5555555555555556,
             "#d8576b"
            ],
            [
             0.6666666666666666,
             "#ed7953"
            ],
            [
             0.7777777777777778,
             "#fb9f3a"
            ],
            [
             0.8888888888888888,
             "#fdca26"
            ],
            [
             1,
             "#f0f921"
            ]
           ],
           "sequentialminus": [
            [
             0,
             "#0d0887"
            ],
            [
             0.1111111111111111,
             "#46039f"
            ],
            [
             0.2222222222222222,
             "#7201a8"
            ],
            [
             0.3333333333333333,
             "#9c179e"
            ],
            [
             0.4444444444444444,
             "#bd3786"
            ],
            [
             0.5555555555555556,
             "#d8576b"
            ],
            [
             0.6666666666666666,
             "#ed7953"
            ],
            [
             0.7777777777777778,
             "#fb9f3a"
            ],
            [
             0.8888888888888888,
             "#fdca26"
            ],
            [
             1,
             "#f0f921"
            ]
           ]
          },
          "colorway": [
           "#636efa",
           "#EF553B",
           "#00cc96",
           "#ab63fa",
           "#FFA15A",
           "#19d3f3",
           "#FF6692",
           "#B6E880",
           "#FF97FF",
           "#FECB52"
          ],
          "font": {
           "color": "#2a3f5f"
          },
          "geo": {
           "bgcolor": "white",
           "lakecolor": "white",
           "landcolor": "#E5ECF6",
           "showlakes": true,
           "showland": true,
           "subunitcolor": "white"
          },
          "hoverlabel": {
           "align": "left"
          },
          "hovermode": "closest",
          "mapbox": {
           "style": "light"
          },
          "paper_bgcolor": "white",
          "plot_bgcolor": "#E5ECF6",
          "polar": {
           "angularaxis": {
            "gridcolor": "white",
            "linecolor": "white",
            "ticks": ""
           },
           "bgcolor": "#E5ECF6",
           "radialaxis": {
            "gridcolor": "white",
            "linecolor": "white",
            "ticks": ""
           }
          },
          "scene": {
           "xaxis": {
            "backgroundcolor": "#E5ECF6",
            "gridcolor": "white",
            "gridwidth": 2,
            "linecolor": "white",
            "showbackground": true,
            "ticks": "",
            "zerolinecolor": "white"
           },
           "yaxis": {
            "backgroundcolor": "#E5ECF6",
            "gridcolor": "white",
            "gridwidth": 2,
            "linecolor": "white",
            "showbackground": true,
            "ticks": "",
            "zerolinecolor": "white"
           },
           "zaxis": {
            "backgroundcolor": "#E5ECF6",
            "gridcolor": "white",
            "gridwidth": 2,
            "linecolor": "white",
            "showbackground": true,
            "ticks": "",
            "zerolinecolor": "white"
           }
          },
          "shapedefaults": {
           "line": {
            "color": "#2a3f5f"
           }
          },
          "ternary": {
           "aaxis": {
            "gridcolor": "white",
            "linecolor": "white",
            "ticks": ""
           },
           "baxis": {
            "gridcolor": "white",
            "linecolor": "white",
            "ticks": ""
           },
           "bgcolor": "#E5ECF6",
           "caxis": {
            "gridcolor": "white",
            "linecolor": "white",
            "ticks": ""
           }
          },
          "title": {
           "x": 0.05
          },
          "xaxis": {
           "automargin": true,
           "gridcolor": "white",
           "linecolor": "white",
           "ticks": "",
           "title": {
            "standoff": 15
           },
           "zerolinecolor": "white",
           "zerolinewidth": 2
          },
          "yaxis": {
           "automargin": true,
           "gridcolor": "white",
           "linecolor": "white",
           "ticks": "",
           "title": {
            "standoff": 15
           },
           "zerolinecolor": "white",
           "zerolinewidth": 2
          }
         }
        },
        "xaxis": {
         "anchor": "y",
         "domain": [
          0,
          1
         ],
         "title": {
          "text": "time"
         }
        },
        "yaxis": {
         "anchor": "x",
         "domain": [
          0,
          1
         ],
         "title": {
          "text": "value"
         }
        }
       }
      }
     },
     "execution_count": null,
     "metadata": {},
     "output_type": "display_data"
    }
   ],
   "source": []
  },
  {
   "cell_type": "code",
   "execution_count": null,
   "metadata": {},
   "outputs": [
    {
     "data": {
      "application/vnd.plotly.v1+json": {
       "config": {
        "plotlyServerURL": "https://plotly.com"
       },
       "data": [
        {
         "fillpattern": {
          "shape": ""
         },
         "hovertemplate": "variable=Coal<br>time=%{x}<br>value=%{y}<extra></extra>",
         "legendgroup": "Coal",
         "line": {
          "color": "#636efa"
         },
         "marker": {
          "symbol": "circle"
         },
         "mode": "lines",
         "name": "Coal",
         "orientation": "v",
         "showlegend": true,
         "stackgroup": "1",
         "type": "scatter",
         "x": [
          "2022-09-01T00:00:00",
          "2022-09-08T00:00:00",
          "2022-09-15T00:00:00",
          "2022-09-22T00:00:00",
          "2022-09-29T00:00:00",
          "2022-10-06T00:00:00",
          "2022-10-13T00:00:00",
          "2022-10-20T00:00:00",
          "2022-10-27T00:00:00",
          "2022-11-03T00:00:00",
          "2022-11-10T00:00:00",
          "2022-11-17T00:00:00",
          "2022-11-24T00:00:00",
          "2022-12-01T00:00:00",
          "2022-12-08T00:00:00",
          "2022-12-15T00:00:00",
          "2022-12-22T00:00:00",
          "2022-12-29T00:00:00",
          "2023-01-05T00:00:00",
          "2023-01-12T00:00:00",
          "2023-01-19T00:00:00",
          "2023-01-26T00:00:00",
          "2023-02-02T00:00:00",
          "2023-02-09T00:00:00",
          "2023-02-16T00:00:00",
          "2023-02-23T00:00:00",
          "2023-03-02T00:00:00",
          "2023-03-09T00:00:00",
          "2023-03-16T00:00:00",
          "2023-03-23T00:00:00",
          "2023-03-30T00:00:00",
          "2023-04-06T00:00:00",
          "2023-04-13T00:00:00",
          "2023-04-20T00:00:00",
          "2023-04-27T00:00:00",
          "2023-05-04T00:00:00",
          "2023-05-11T00:00:00",
          "2023-05-18T00:00:00",
          "2023-05-25T00:00:00",
          "2023-06-01T00:00:00",
          "2023-06-08T00:00:00",
          "2023-06-15T00:00:00",
          "2023-06-22T00:00:00",
          "2023-06-29T00:00:00",
          "2023-07-06T00:00:00",
          "2023-07-13T00:00:00",
          "2023-07-20T00:00:00",
          "2023-07-27T00:00:00",
          "2023-08-03T00:00:00",
          "2023-08-10T00:00:00",
          "2023-08-17T00:00:00",
          "2023-08-24T00:00:00",
          "2023-08-31T00:00:00"
         ],
         "xaxis": "x",
         "y": [
          136546,
          162789.817,
          131442.302,
          160841.675,
          131327.524,
          138004.024,
          102723.25,
          38153.4,
          46704.425,
          67420.15,
          47900.2,
          47768.35,
          155960.526,
          187290.729,
          213632.233,
          218744.65,
          81976.392,
          82395.125,
          65255.3,
          62656.8,
          67515.875,
          81927.35,
          119741.25,
          100558.2,
          110131.075,
          101401.4,
          115802.15,
          92358.075,
          87887.95,
          80248.9,
          76758.85,
          67795.075,
          52620,
          57048.15,
          55235.15,
          51644.15,
          50167.475,
          48840.7,
          63951.832,
          86489.325,
          66849.5,
          68146.917,
          62960.925,
          54898.95,
          62593.165,
          55280.975,
          64471.25,
          91641.725,
          71699.675,
          101384.343,
          109108.158,
          100683.501,
          12551.6
         ],
         "yaxis": "y"
        },
        {
         "fillpattern": {
          "shape": ""
         },
         "hovertemplate": "variable=Cogeneration<br>time=%{x}<br>value=%{y}<extra></extra>",
         "legendgroup": "Cogeneration",
         "line": {
          "color": "#EF553B"
         },
         "marker": {
          "symbol": "circle"
         },
         "mode": "lines",
         "name": "Cogeneration",
         "orientation": "v",
         "showlegend": true,
         "stackgroup": "1",
         "type": "scatter",
         "x": [
          "2022-09-01T00:00:00",
          "2022-09-08T00:00:00",
          "2022-09-15T00:00:00",
          "2022-09-22T00:00:00",
          "2022-09-29T00:00:00",
          "2022-10-06T00:00:00",
          "2022-10-13T00:00:00",
          "2022-10-20T00:00:00",
          "2022-10-27T00:00:00",
          "2022-11-03T00:00:00",
          "2022-11-10T00:00:00",
          "2022-11-17T00:00:00",
          "2022-11-24T00:00:00",
          "2022-12-01T00:00:00",
          "2022-12-08T00:00:00",
          "2022-12-15T00:00:00",
          "2022-12-22T00:00:00",
          "2022-12-29T00:00:00",
          "2023-01-05T00:00:00",
          "2023-01-12T00:00:00",
          "2023-01-19T00:00:00",
          "2023-01-26T00:00:00",
          "2023-02-02T00:00:00",
          "2023-02-09T00:00:00",
          "2023-02-16T00:00:00",
          "2023-02-23T00:00:00",
          "2023-03-02T00:00:00",
          "2023-03-09T00:00:00",
          "2023-03-16T00:00:00",
          "2023-03-23T00:00:00",
          "2023-03-30T00:00:00",
          "2023-04-06T00:00:00",
          "2023-04-13T00:00:00",
          "2023-04-20T00:00:00",
          "2023-04-27T00:00:00",
          "2023-05-04T00:00:00",
          "2023-05-11T00:00:00",
          "2023-05-18T00:00:00",
          "2023-05-25T00:00:00",
          "2023-06-01T00:00:00",
          "2023-06-08T00:00:00",
          "2023-06-15T00:00:00",
          "2023-06-22T00:00:00",
          "2023-06-29T00:00:00",
          "2023-07-06T00:00:00",
          "2023-07-13T00:00:00",
          "2023-07-20T00:00:00",
          "2023-07-27T00:00:00",
          "2023-08-03T00:00:00",
          "2023-08-10T00:00:00",
          "2023-08-17T00:00:00",
          "2023-08-24T00:00:00",
          "2023-08-31T00:00:00"
         ],
         "xaxis": "x",
         "y": [
          172293.173,
          155962.252,
          172158.716,
          196032.571,
          249467.214,
          291802.563,
          248503.643,
          222162.466,
          255267.784,
          353301.962,
          349506.96,
          332379.525,
          330771.654,
          303535.858,
          284068.186,
          268746.654,
          191822.535,
          209101.562,
          295398.8,
          260770.603,
          267528.518,
          311254.028,
          409073.367,
          432538.567,
          449973.899,
          435088.071,
          449273.339,
          365912.08,
          429202.851,
          376164.507,
          313043.284,
          353377.186,
          360606.097,
          418649.491,
          391486.056,
          384526.468,
          364461.71,
          385083.685,
          429905.082,
          421770.813,
          419403.38,
          418139.398,
          401671.362,
          350404.602,
          354448.863,
          349151.855,
          338536.451,
          327881.293,
          284044.415,
          285567.596,
          301156.565,
          302946.699,
          49434.506
         ],
         "yaxis": "y"
        },
        {
         "fillpattern": {
          "shape": ""
         },
         "hovertemplate": "variable=Combined Cycle (Gas)<br>time=%{x}<br>value=%{y}<extra></extra>",
         "legendgroup": "Combined Cycle (Gas)",
         "line": {
          "color": "#00cc96"
         },
         "marker": {
          "symbol": "circle"
         },
         "mode": "lines",
         "name": "Combined Cycle (Gas)",
         "orientation": "v",
         "showlegend": true,
         "stackgroup": "1",
         "type": "scatter",
         "x": [
          "2022-09-01T00:00:00",
          "2022-09-08T00:00:00",
          "2022-09-15T00:00:00",
          "2022-09-22T00:00:00",
          "2022-09-29T00:00:00",
          "2022-10-06T00:00:00",
          "2022-10-13T00:00:00",
          "2022-10-20T00:00:00",
          "2022-10-27T00:00:00",
          "2022-11-03T00:00:00",
          "2022-11-10T00:00:00",
          "2022-11-17T00:00:00",
          "2022-11-24T00:00:00",
          "2022-12-01T00:00:00",
          "2022-12-08T00:00:00",
          "2022-12-15T00:00:00",
          "2022-12-22T00:00:00",
          "2022-12-29T00:00:00",
          "2023-01-05T00:00:00",
          "2023-01-12T00:00:00",
          "2023-01-19T00:00:00",
          "2023-01-26T00:00:00",
          "2023-02-02T00:00:00",
          "2023-02-09T00:00:00",
          "2023-02-16T00:00:00",
          "2023-02-23T00:00:00",
          "2023-03-02T00:00:00",
          "2023-03-09T00:00:00",
          "2023-03-16T00:00:00",
          "2023-03-23T00:00:00",
          "2023-03-30T00:00:00",
          "2023-04-06T00:00:00",
          "2023-04-13T00:00:00",
          "2023-04-20T00:00:00",
          "2023-04-27T00:00:00",
          "2023-05-04T00:00:00",
          "2023-05-11T00:00:00",
          "2023-05-18T00:00:00",
          "2023-05-25T00:00:00",
          "2023-06-01T00:00:00",
          "2023-06-08T00:00:00",
          "2023-06-15T00:00:00",
          "2023-06-22T00:00:00",
          "2023-06-29T00:00:00",
          "2023-07-06T00:00:00",
          "2023-07-13T00:00:00",
          "2023-07-20T00:00:00",
          "2023-07-27T00:00:00",
          "2023-08-03T00:00:00",
          "2023-08-10T00:00:00",
          "2023-08-17T00:00:00",
          "2023-08-24T00:00:00",
          "2023-08-31T00:00:00"
         ],
         "xaxis": "x",
         "y": [
          1923790.391,
          1936149.859,
          1790005.179,
          1290918.012,
          1708694.792,
          2028241.156,
          1575090.005,
          1084452.401,
          856412.777,
          1162494.925,
          1062711.21,
          537527.8,
          1090342.392,
          1825671.015,
          816042.283,
          644470.067,
          419187.68,
          506692.142,
          496900.075,
          339446.334,
          443373.502,
          565409.917,
          811441.665,
          1107762.65,
          1125821.391,
          938116.559,
          1034157.459,
          331038.559,
          598351.688,
          400330.133,
          294027.155,
          477067.884,
          358569.075,
          729077.773,
          803403.505,
          628590.092,
          454778.998,
          528217.859,
          847972.139,
          958754.85,
          856234.532,
          1076217.7719999999,
          947930.96,
          807748.078,
          1189094.099,
          1157324.183,
          864500.354,
          829202.153,
          733560.04,
          891582.398,
          1341053.085,
          1029472.369,
          157466.9
         ],
         "yaxis": "y"
        },
        {
         "fillpattern": {
          "shape": ""
         },
         "hovertemplate": "variable=Eolic<br>time=%{x}<br>value=%{y}<extra></extra>",
         "legendgroup": "Eolic",
         "line": {
          "color": "#ab63fa"
         },
         "marker": {
          "symbol": "circle"
         },
         "mode": "lines",
         "name": "Eolic",
         "orientation": "v",
         "showlegend": true,
         "stackgroup": "1",
         "type": "scatter",
         "x": [
          "2022-09-01T00:00:00",
          "2022-09-08T00:00:00",
          "2022-09-15T00:00:00",
          "2022-09-22T00:00:00",
          "2022-09-29T00:00:00",
          "2022-10-06T00:00:00",
          "2022-10-13T00:00:00",
          "2022-10-20T00:00:00",
          "2022-10-27T00:00:00",
          "2022-11-03T00:00:00",
          "2022-11-10T00:00:00",
          "2022-11-17T00:00:00",
          "2022-11-24T00:00:00",
          "2022-12-01T00:00:00",
          "2022-12-08T00:00:00",
          "2022-12-15T00:00:00",
          "2022-12-22T00:00:00",
          "2022-12-29T00:00:00",
          "2023-01-05T00:00:00",
          "2023-01-12T00:00:00",
          "2023-01-19T00:00:00",
          "2023-01-26T00:00:00",
          "2023-02-02T00:00:00",
          "2023-02-09T00:00:00",
          "2023-02-16T00:00:00",
          "2023-02-23T00:00:00",
          "2023-03-02T00:00:00",
          "2023-03-09T00:00:00",
          "2023-03-16T00:00:00",
          "2023-03-23T00:00:00",
          "2023-03-30T00:00:00",
          "2023-04-06T00:00:00",
          "2023-04-13T00:00:00",
          "2023-04-20T00:00:00",
          "2023-04-27T00:00:00",
          "2023-05-04T00:00:00",
          "2023-05-11T00:00:00",
          "2023-05-18T00:00:00",
          "2023-05-25T00:00:00",
          "2023-06-01T00:00:00",
          "2023-06-08T00:00:00",
          "2023-06-15T00:00:00",
          "2023-06-22T00:00:00",
          "2023-06-29T00:00:00",
          "2023-07-06T00:00:00",
          "2023-07-13T00:00:00",
          "2023-07-20T00:00:00",
          "2023-07-27T00:00:00",
          "2023-08-03T00:00:00",
          "2023-08-10T00:00:00",
          "2023-08-17T00:00:00",
          "2023-08-24T00:00:00",
          "2023-08-31T00:00:00"
         ],
         "xaxis": "x",
         "y": [
          864037.706,
          871012.693,
          778374.75,
          1057348.168,
          815926.017,
          645895.633,
          1167372.855,
          1745376.081,
          1254445.187,
          1270797.307,
          1564617.825,
          2449319.174,
          1233707.088,
          584594.98,
          1694506.25,
          1437610.551,
          1211112.633,
          1138819.166,
          1520485.44,
          1975520.371,
          1981880.187,
          1755601.281,
          1274421.588,
          1076615.664,
          719159.35,
          1617881.7989999999,
          1465548.791,
          1949745.807,
          1042578.481,
          1338817.198,
          1681614.157,
          871504.524,
          1504434.778,
          871425.518,
          974474.245,
          1024088.348,
          1705621.992,
          1462285.188,
          736695.807,
          435403.341,
          727809.852,
          630582.97,
          897370.9839999999,
          950167.003,
          776764.638,
          971454.595,
          956924.652,
          832933.871,
          1209851.487,
          752514.313,
          663859.931,
          1164917.767,
          69646.772
         ],
         "yaxis": "y"
        },
        {
         "fillpattern": {
          "shape": ""
         },
         "hovertemplate": "variable=Hydraulic<br>time=%{x}<br>value=%{y}<extra></extra>",
         "legendgroup": "Hydraulic",
         "line": {
          "color": "#FFA15A"
         },
         "marker": {
          "symbol": "circle"
         },
         "mode": "lines",
         "name": "Hydraulic",
         "orientation": "v",
         "showlegend": true,
         "stackgroup": "1",
         "type": "scatter",
         "x": [
          "2022-09-01T00:00:00",
          "2022-09-08T00:00:00",
          "2022-09-15T00:00:00",
          "2022-09-22T00:00:00",
          "2022-09-29T00:00:00",
          "2022-10-06T00:00:00",
          "2022-10-13T00:00:00",
          "2022-10-20T00:00:00",
          "2022-10-27T00:00:00",
          "2022-11-03T00:00:00",
          "2022-11-10T00:00:00",
          "2022-11-17T00:00:00",
          "2022-11-24T00:00:00",
          "2022-12-01T00:00:00",
          "2022-12-08T00:00:00",
          "2022-12-15T00:00:00",
          "2022-12-22T00:00:00",
          "2022-12-29T00:00:00",
          "2023-01-05T00:00:00",
          "2023-01-12T00:00:00",
          "2023-01-19T00:00:00",
          "2023-01-26T00:00:00",
          "2023-02-02T00:00:00",
          "2023-02-09T00:00:00",
          "2023-02-16T00:00:00",
          "2023-02-23T00:00:00",
          "2023-03-02T00:00:00",
          "2023-03-09T00:00:00",
          "2023-03-16T00:00:00",
          "2023-03-23T00:00:00",
          "2023-03-30T00:00:00",
          "2023-04-06T00:00:00",
          "2023-04-13T00:00:00",
          "2023-04-20T00:00:00",
          "2023-04-27T00:00:00",
          "2023-05-04T00:00:00",
          "2023-05-11T00:00:00",
          "2023-05-18T00:00:00",
          "2023-05-25T00:00:00",
          "2023-06-01T00:00:00",
          "2023-06-08T00:00:00",
          "2023-06-15T00:00:00",
          "2023-06-22T00:00:00",
          "2023-06-29T00:00:00",
          "2023-07-06T00:00:00",
          "2023-07-13T00:00:00",
          "2023-07-20T00:00:00",
          "2023-07-27T00:00:00",
          "2023-08-03T00:00:00",
          "2023-08-10T00:00:00",
          "2023-08-17T00:00:00",
          "2023-08-24T00:00:00",
          "2023-08-31T00:00:00"
         ],
         "xaxis": "x",
         "y": [
          172805.52,
          259821.964,
          400914.125,
          316692.765,
          163959.58,
          138111.15,
          135807.263,
          224967.818,
          213599.015,
          222020.328,
          239521.85,
          328917.734,
          536115.485,
          573063.984,
          534817.513,
          771959.166,
          752183.393,
          772800.337,
          845348.975,
          869567.932,
          944259.526,
          1016062.825,
          811071.6,
          649594.525,
          524005.475,
          502976.725,
          543162.371,
          461393.537,
          530786.08,
          476913.512,
          426376.598,
          408048.732,
          371490.008,
          377754.293,
          374437.337,
          351329.464,
          298481.689,
          336788.749,
          348801.371,
          447046.661,
          466536.257,
          495657.467,
          388192.926,
          312047.846,
          336325.907,
          306581.018,
          285044.577,
          259173.36,
          240226.74599999998,
          236806.188,
          258937.987,
          216970.617,
          40281.783
         ],
         "yaxis": "y"
        },
        {
         "fillpattern": {
          "shape": ""
         },
         "hovertemplate": "variable=Non-Renewable Residues<br>time=%{x}<br>value=%{y}<extra></extra>",
         "legendgroup": "Non-Renewable Residues",
         "line": {
          "color": "#19d3f3"
         },
         "marker": {
          "symbol": "circle"
         },
         "mode": "lines",
         "name": "Non-Renewable Residues",
         "orientation": "v",
         "showlegend": true,
         "stackgroup": "1",
         "type": "scatter",
         "x": [
          "2022-09-01T00:00:00",
          "2022-09-08T00:00:00",
          "2022-09-15T00:00:00",
          "2022-09-22T00:00:00",
          "2022-09-29T00:00:00",
          "2022-10-06T00:00:00",
          "2022-10-13T00:00:00",
          "2022-10-20T00:00:00",
          "2022-10-27T00:00:00",
          "2022-11-03T00:00:00",
          "2022-11-10T00:00:00",
          "2022-11-17T00:00:00",
          "2022-11-24T00:00:00",
          "2022-12-01T00:00:00",
          "2022-12-08T00:00:00",
          "2022-12-15T00:00:00",
          "2022-12-22T00:00:00",
          "2022-12-29T00:00:00",
          "2023-01-05T00:00:00",
          "2023-01-12T00:00:00",
          "2023-01-19T00:00:00",
          "2023-01-26T00:00:00",
          "2023-02-02T00:00:00",
          "2023-02-09T00:00:00",
          "2023-02-16T00:00:00",
          "2023-02-23T00:00:00",
          "2023-03-02T00:00:00",
          "2023-03-09T00:00:00",
          "2023-03-16T00:00:00",
          "2023-03-23T00:00:00",
          "2023-03-30T00:00:00",
          "2023-04-06T00:00:00",
          "2023-04-13T00:00:00",
          "2023-04-20T00:00:00",
          "2023-04-27T00:00:00",
          "2023-05-04T00:00:00",
          "2023-05-11T00:00:00",
          "2023-05-18T00:00:00",
          "2023-05-25T00:00:00",
          "2023-06-01T00:00:00",
          "2023-06-08T00:00:00",
          "2023-06-15T00:00:00",
          "2023-06-22T00:00:00",
          "2023-06-29T00:00:00",
          "2023-07-06T00:00:00",
          "2023-07-13T00:00:00",
          "2023-07-20T00:00:00",
          "2023-07-27T00:00:00",
          "2023-08-03T00:00:00",
          "2023-08-10T00:00:00",
          "2023-08-17T00:00:00",
          "2023-08-24T00:00:00",
          "2023-08-31T00:00:00"
         ],
         "xaxis": "x",
         "y": [
          44596.742,
          43652.217,
          37113.667,
          36248.758,
          47646.049,
          50087.2,
          50948.442,
          40164.7,
          40263.6,
          40722.9,
          37305.3,
          39537.775,
          40888.78,
          42572,
          42710.883,
          40782.43,
          42227.552,
          41214.725,
          40752.9,
          37569.567,
          31562.34,
          30894.233,
          43406.942,
          43720.3,
          42864.533,
          43593.3,
          44551.45,
          37910.9,
          39333.8,
          37415.273,
          37636.38,
          35571.058,
          25172.7,
          28355.15,
          21015.083,
          18451.1,
          16005.8,
          17593.133,
          34290.3,
          35510.7,
          44277.1,
          46749.2,
          42309.625,
          40801.4,
          43427.3,
          43046.316,
          42285.3,
          42859.1,
          38140.5,
          41180.817,
          40174.3,
          39295.9,
          5047.1
         ],
         "yaxis": "y"
        },
        {
         "fillpattern": {
          "shape": ""
         },
         "hovertemplate": "variable=Nuclear<br>time=%{x}<br>value=%{y}<extra></extra>",
         "legendgroup": "Nuclear",
         "line": {
          "color": "#FF6692"
         },
         "marker": {
          "symbol": "circle"
         },
         "mode": "lines",
         "name": "Nuclear",
         "orientation": "v",
         "showlegend": true,
         "stackgroup": "1",
         "type": "scatter",
         "x": [
          "2022-09-01T00:00:00",
          "2022-09-08T00:00:00",
          "2022-09-15T00:00:00",
          "2022-09-22T00:00:00",
          "2022-09-29T00:00:00",
          "2022-10-06T00:00:00",
          "2022-10-13T00:00:00",
          "2022-10-20T00:00:00",
          "2022-10-27T00:00:00",
          "2022-11-03T00:00:00",
          "2022-11-10T00:00:00",
          "2022-11-17T00:00:00",
          "2022-11-24T00:00:00",
          "2022-12-01T00:00:00",
          "2022-12-08T00:00:00",
          "2022-12-15T00:00:00",
          "2022-12-22T00:00:00",
          "2022-12-29T00:00:00",
          "2023-01-05T00:00:00",
          "2023-01-12T00:00:00",
          "2023-01-19T00:00:00",
          "2023-01-26T00:00:00",
          "2023-02-02T00:00:00",
          "2023-02-09T00:00:00",
          "2023-02-16T00:00:00",
          "2023-02-23T00:00:00",
          "2023-03-02T00:00:00",
          "2023-03-09T00:00:00",
          "2023-03-16T00:00:00",
          "2023-03-23T00:00:00",
          "2023-03-30T00:00:00",
          "2023-04-06T00:00:00",
          "2023-04-13T00:00:00",
          "2023-04-20T00:00:00",
          "2023-04-27T00:00:00",
          "2023-05-04T00:00:00",
          "2023-05-11T00:00:00",
          "2023-05-18T00:00:00",
          "2023-05-25T00:00:00",
          "2023-06-01T00:00:00",
          "2023-06-08T00:00:00",
          "2023-06-15T00:00:00",
          "2023-06-22T00:00:00",
          "2023-06-29T00:00:00",
          "2023-07-06T00:00:00",
          "2023-07-13T00:00:00",
          "2023-07-20T00:00:00",
          "2023-07-27T00:00:00",
          "2023-08-03T00:00:00",
          "2023-08-10T00:00:00",
          "2023-08-17T00:00:00",
          "2023-08-24T00:00:00",
          "2023-08-31T00:00:00"
         ],
         "xaxis": "x",
         "y": [
          1157554,
          1161943.117,
          1155532.2,
          1085995,
          1008134.9,
          999900,
          871632.9,
          832694.7,
          832102.325,
          924739.25,
          1008876.5,
          1008117.9,
          1062348.256,
          1149761.05,
          1152578.175,
          1186052.2,
          1186314.325,
          1142023.125,
          1083023.225,
          1135848.6,
          1189216,
          1190364.7,
          1190627.1,
          1181297,
          1174965.2,
          1024818.1,
          1123369.8,
          1178822.575,
          1186104.1,
          1167244.1,
          1078860,
          1178076.9,
          1100701.15,
          998988.5,
          884008.675,
          851120.625,
          806484.717,
          882321.85,
          852354.6,
          851401.6,
          847676.2,
          934666.5920000001,
          1073776.2249999999,
          1157317.4,
          1158190,
          1158518,
          1154544.6,
          1157350.8,
          1151160.1,
          1107343.678,
          1132021.567,
          1127421.7,
          164489.725
         ],
         "yaxis": "y"
        },
        {
         "fillpattern": {
          "shape": ""
         },
         "hovertemplate": "variable=Pumped Storage Hydropower<br>time=%{x}<br>value=%{y}<extra></extra>",
         "legendgroup": "Pumped Storage Hydropower",
         "line": {
          "color": "#B6E880"
         },
         "marker": {
          "symbol": "circle"
         },
         "mode": "lines",
         "name": "Pumped Storage Hydropower",
         "orientation": "v",
         "showlegend": true,
         "stackgroup": "1",
         "type": "scatter",
         "x": [
          "2022-09-01T00:00:00",
          "2022-09-08T00:00:00",
          "2022-09-15T00:00:00",
          "2022-09-22T00:00:00",
          "2022-09-29T00:00:00",
          "2022-10-06T00:00:00",
          "2022-10-13T00:00:00",
          "2022-10-20T00:00:00",
          "2022-10-27T00:00:00",
          "2022-11-03T00:00:00",
          "2022-11-10T00:00:00",
          "2022-11-17T00:00:00",
          "2022-11-24T00:00:00",
          "2022-12-01T00:00:00",
          "2022-12-08T00:00:00",
          "2022-12-15T00:00:00",
          "2022-12-22T00:00:00",
          "2022-12-29T00:00:00",
          "2023-01-05T00:00:00",
          "2023-01-12T00:00:00",
          "2023-01-19T00:00:00",
          "2023-01-26T00:00:00",
          "2023-02-02T00:00:00",
          "2023-02-09T00:00:00",
          "2023-02-16T00:00:00",
          "2023-02-23T00:00:00",
          "2023-03-02T00:00:00",
          "2023-03-09T00:00:00",
          "2023-03-16T00:00:00",
          "2023-03-23T00:00:00",
          "2023-03-30T00:00:00",
          "2023-04-06T00:00:00",
          "2023-04-13T00:00:00",
          "2023-04-20T00:00:00",
          "2023-04-27T00:00:00",
          "2023-05-04T00:00:00",
          "2023-05-11T00:00:00",
          "2023-05-18T00:00:00",
          "2023-05-25T00:00:00",
          "2023-06-01T00:00:00",
          "2023-06-08T00:00:00",
          "2023-06-15T00:00:00",
          "2023-06-22T00:00:00",
          "2023-06-29T00:00:00",
          "2023-07-06T00:00:00",
          "2023-07-13T00:00:00",
          "2023-07-20T00:00:00",
          "2023-07-27T00:00:00",
          "2023-08-03T00:00:00",
          "2023-08-10T00:00:00",
          "2023-08-17T00:00:00",
          "2023-08-24T00:00:00",
          "2023-08-31T00:00:00"
         ],
         "xaxis": "x",
         "y": [
          63015.933,
          60223.724,
          63188.55,
          63756.125,
          77624.617,
          83262.075,
          76546.2125,
          65057.2,
          79341.933,
          73616.14199999999,
          51901.7,
          78600.971,
          59887.1,
          62480.011,
          70827.75,
          71145.35,
          115850.25,
          105141.354,
          95713.05,
          112347.525,
          109314.412,
          76199.85,
          66453.3,
          26808.725,
          65038.675,
          54129.8,
          52753.05,
          104757.071,
          109351.342,
          115670.241,
          117141.075,
          110240.097,
          100392.977,
          91150,
          74177.634,
          85645.984,
          100578.825,
          87277.45,
          55725.779,
          62733.4,
          61947.125,
          66267.958,
          65211.692,
          67686.225,
          49667.775,
          76269.267,
          48325.95,
          77326.05,
          103197.008,
          69841.583,
          63377.567,
          75029.051,
          12067.3
         ],
         "yaxis": "y"
        },
        {
         "fillpattern": {
          "shape": ""
         },
         "hovertemplate": "variable=Renewables Other<br>time=%{x}<br>value=%{y}<extra></extra>",
         "legendgroup": "Renewables Other",
         "line": {
          "color": "#FF97FF"
         },
         "marker": {
          "symbol": "circle"
         },
         "mode": "lines",
         "name": "Renewables Other",
         "orientation": "v",
         "showlegend": true,
         "stackgroup": "1",
         "type": "scatter",
         "x": [
          "2022-09-01T00:00:00",
          "2022-09-08T00:00:00",
          "2022-09-15T00:00:00",
          "2022-09-22T00:00:00",
          "2022-09-29T00:00:00",
          "2022-10-06T00:00:00",
          "2022-10-13T00:00:00",
          "2022-10-20T00:00:00",
          "2022-10-27T00:00:00",
          "2022-11-03T00:00:00",
          "2022-11-10T00:00:00",
          "2022-11-17T00:00:00",
          "2022-11-24T00:00:00",
          "2022-12-01T00:00:00",
          "2022-12-08T00:00:00",
          "2022-12-15T00:00:00",
          "2022-12-22T00:00:00",
          "2022-12-29T00:00:00",
          "2023-01-05T00:00:00",
          "2023-01-12T00:00:00",
          "2023-01-19T00:00:00",
          "2023-01-26T00:00:00",
          "2023-02-02T00:00:00",
          "2023-02-09T00:00:00",
          "2023-02-16T00:00:00",
          "2023-02-23T00:00:00",
          "2023-03-02T00:00:00",
          "2023-03-09T00:00:00",
          "2023-03-16T00:00:00",
          "2023-03-23T00:00:00",
          "2023-03-30T00:00:00",
          "2023-04-06T00:00:00",
          "2023-04-13T00:00:00",
          "2023-04-20T00:00:00",
          "2023-04-27T00:00:00",
          "2023-05-04T00:00:00",
          "2023-05-11T00:00:00",
          "2023-05-18T00:00:00",
          "2023-05-25T00:00:00",
          "2023-06-01T00:00:00",
          "2023-06-08T00:00:00",
          "2023-06-15T00:00:00",
          "2023-06-22T00:00:00",
          "2023-06-29T00:00:00",
          "2023-07-06T00:00:00",
          "2023-07-13T00:00:00",
          "2023-07-20T00:00:00",
          "2023-07-27T00:00:00",
          "2023-08-03T00:00:00",
          "2023-08-10T00:00:00",
          "2023-08-17T00:00:00",
          "2023-08-24T00:00:00",
          "2023-08-31T00:00:00"
         ],
         "xaxis": "x",
         "y": [
          82948.067,
          79612.056,
          86503.702,
          83023.01699999999,
          84397.269,
          85951.584,
          85391.158,
          79258.2,
          88381.809,
          91132.292,
          89605.115,
          80538.679,
          89321.382,
          86261.928,
          84621.343,
          85674.967,
          59280.25,
          57607.65,
          70500.716,
          63303.651,
          65163.205,
          78679.48300000001,
          89228.355,
          92191.252,
          91291.9,
          90362.143,
          86551.321,
          67306.183,
          72459.927,
          65068.567,
          47712.617,
          66432.117,
          59831.563,
          74380.462,
          79776.622,
          81926.564,
          73711.414,
          74267.36,
          80249.081,
          74941.918,
          75209.266,
          79431.274,
          79944.799,
          75501.557,
          76378.713,
          72339.132,
          74840.045,
          77400.827,
          71990.736,
          84126.29,
          84519.909,
          75374.591,
          11374.631
         ],
         "yaxis": "y"
        },
        {
         "fillpattern": {
          "shape": ""
         },
         "hovertemplate": "variable=Solar Photovoltaic<br>time=%{x}<br>value=%{y}<extra></extra>",
         "legendgroup": "Solar Photovoltaic",
         "line": {
          "color": "#FECB52"
         },
         "marker": {
          "symbol": "circle"
         },
         "mode": "lines",
         "name": "Solar Photovoltaic",
         "orientation": "v",
         "showlegend": true,
         "stackgroup": "1",
         "type": "scatter",
         "x": [
          "2022-09-01T00:00:00",
          "2022-09-08T00:00:00",
          "2022-09-15T00:00:00",
          "2022-09-22T00:00:00",
          "2022-09-29T00:00:00",
          "2022-10-06T00:00:00",
          "2022-10-13T00:00:00",
          "2022-10-20T00:00:00",
          "2022-10-27T00:00:00",
          "2022-11-03T00:00:00",
          "2022-11-10T00:00:00",
          "2022-11-17T00:00:00",
          "2022-11-24T00:00:00",
          "2022-12-01T00:00:00",
          "2022-12-08T00:00:00",
          "2022-12-15T00:00:00",
          "2022-12-22T00:00:00",
          "2022-12-29T00:00:00",
          "2023-01-05T00:00:00",
          "2023-01-12T00:00:00",
          "2023-01-19T00:00:00",
          "2023-01-26T00:00:00",
          "2023-02-02T00:00:00",
          "2023-02-09T00:00:00",
          "2023-02-16T00:00:00",
          "2023-02-23T00:00:00",
          "2023-03-02T00:00:00",
          "2023-03-09T00:00:00",
          "2023-03-16T00:00:00",
          "2023-03-23T00:00:00",
          "2023-03-30T00:00:00",
          "2023-04-06T00:00:00",
          "2023-04-13T00:00:00",
          "2023-04-20T00:00:00",
          "2023-04-27T00:00:00",
          "2023-05-04T00:00:00",
          "2023-05-11T00:00:00",
          "2023-05-18T00:00:00",
          "2023-05-25T00:00:00",
          "2023-06-01T00:00:00",
          "2023-06-08T00:00:00",
          "2023-06-15T00:00:00",
          "2023-06-22T00:00:00",
          "2023-06-29T00:00:00",
          "2023-07-06T00:00:00",
          "2023-07-13T00:00:00",
          "2023-07-20T00:00:00",
          "2023-07-27T00:00:00",
          "2023-08-03T00:00:00",
          "2023-08-10T00:00:00",
          "2023-08-17T00:00:00",
          "2023-08-24T00:00:00",
          "2023-08-31T00:00:00"
         ],
         "xaxis": "x",
         "y": [
          695863.476,
          555033.259,
          608068.827,
          613341.384,
          611811.472,
          509740.354,
          512404.453,
          316921.1,
          402224.625,
          415140.085,
          338373.924,
          264809.239,
          385240.74199999997,
          276701.375,
          159828.131,
          263867.125,
          349902.85,
          320753.344,
          317114.45,
          344942.764,
          445207.023,
          523462.844,
          533611.22,
          509696.575,
          543974.525,
          616904.186,
          549889.779,
          645638.331,
          732019.803,
          758342.915,
          768282.292,
          853877.175,
          859382.794,
          894569.659,
          837950.462,
          981307.539,
          939416.769,
          751625.093,
          749192.723,
          782792.846,
          862283.924,
          906376.428,
          1006500.171,
          1008587.972,
          989741.068,
          1014225.113,
          1020947.706,
          1072551.85,
          992046.304,
          1037438.439,
          1017469.609,
          900329.814,
          138880.021
         ],
         "yaxis": "y"
        },
        {
         "fillpattern": {
          "shape": ""
         },
         "hovertemplate": "variable=Solar Thermal<br>time=%{x}<br>value=%{y}<extra></extra>",
         "legendgroup": "Solar Thermal",
         "line": {
          "color": "#636efa"
         },
         "marker": {
          "symbol": "circle"
         },
         "mode": "lines",
         "name": "Solar Thermal",
         "orientation": "v",
         "showlegend": true,
         "stackgroup": "1",
         "type": "scatter",
         "x": [
          "2022-09-01T00:00:00",
          "2022-09-08T00:00:00",
          "2022-09-15T00:00:00",
          "2022-09-22T00:00:00",
          "2022-09-29T00:00:00",
          "2022-10-06T00:00:00",
          "2022-10-13T00:00:00",
          "2022-10-20T00:00:00",
          "2022-10-27T00:00:00",
          "2022-11-03T00:00:00",
          "2022-11-10T00:00:00",
          "2022-11-17T00:00:00",
          "2022-11-24T00:00:00",
          "2022-12-01T00:00:00",
          "2022-12-08T00:00:00",
          "2022-12-15T00:00:00",
          "2022-12-22T00:00:00",
          "2022-12-29T00:00:00",
          "2023-01-05T00:00:00",
          "2023-01-12T00:00:00",
          "2023-01-19T00:00:00",
          "2023-01-26T00:00:00",
          "2023-02-02T00:00:00",
          "2023-02-09T00:00:00",
          "2023-02-16T00:00:00",
          "2023-02-23T00:00:00",
          "2023-03-02T00:00:00",
          "2023-03-09T00:00:00",
          "2023-03-16T00:00:00",
          "2023-03-23T00:00:00",
          "2023-03-30T00:00:00",
          "2023-04-06T00:00:00",
          "2023-04-13T00:00:00",
          "2023-04-20T00:00:00",
          "2023-04-27T00:00:00",
          "2023-05-04T00:00:00",
          "2023-05-11T00:00:00",
          "2023-05-18T00:00:00",
          "2023-05-25T00:00:00",
          "2023-06-01T00:00:00",
          "2023-06-08T00:00:00",
          "2023-06-15T00:00:00",
          "2023-06-22T00:00:00",
          "2023-06-29T00:00:00",
          "2023-07-06T00:00:00",
          "2023-07-13T00:00:00",
          "2023-07-20T00:00:00",
          "2023-07-27T00:00:00",
          "2023-08-03T00:00:00",
          "2023-08-10T00:00:00",
          "2023-08-17T00:00:00",
          "2023-08-24T00:00:00",
          "2023-08-31T00:00:00"
         ],
         "xaxis": "x",
         "y": [
          133947.275,
          82339.811,
          86070.25,
          115536.9,
          88075.529,
          55061.926999999996,
          55016.252,
          5328.6,
          26313,
          33985.8,
          28693.5,
          8915,
          30177.2,
          16451.9,
          1204.9,
          10745.375,
          30807.4,
          20934.435,
          15657.6,
          19889.1,
          41558.95,
          47960.8,
          50547.875,
          39572.6,
          31671.7,
          76436.45,
          49924.683,
          82595.331,
          109001.465,
          125248.657,
          134602.49,
          160735.007,
          168665.69700000001,
          155567.474,
          114264.852,
          169533.8,
          163515.885,
          61590.402,
          67937.081,
          97622.673,
          107308.754,
          143811.252,
          187812.431,
          185330.302,
          176808.911,
          167638.561,
          178050.848,
          194807.528,
          177383.129,
          175120.641,
          173650.462,
          152151.446,
          22387.216
         ],
         "yaxis": "y"
        }
       ],
       "layout": {
        "legend": {
         "title": {
          "text": "variable"
         },
         "tracegroupgap": 0
        },
        "margin": {
         "t": 60
        },
        "template": {
         "data": {
          "bar": [
           {
            "error_x": {
             "color": "#2a3f5f"
            },
            "error_y": {
             "color": "#2a3f5f"
            },
            "marker": {
             "line": {
              "color": "#E5ECF6",
              "width": 0.5
             },
             "pattern": {
              "fillmode": "overlay",
              "size": 10,
              "solidity": 0.2
             }
            },
            "type": "bar"
           }
          ],
          "barpolar": [
           {
            "marker": {
             "line": {
              "color": "#E5ECF6",
              "width": 0.5
             },
             "pattern": {
              "fillmode": "overlay",
              "size": 10,
              "solidity": 0.2
             }
            },
            "type": "barpolar"
           }
          ],
          "carpet": [
           {
            "aaxis": {
             "endlinecolor": "#2a3f5f",
             "gridcolor": "white",
             "linecolor": "white",
             "minorgridcolor": "white",
             "startlinecolor": "#2a3f5f"
            },
            "baxis": {
             "endlinecolor": "#2a3f5f",
             "gridcolor": "white",
             "linecolor": "white",
             "minorgridcolor": "white",
             "startlinecolor": "#2a3f5f"
            },
            "type": "carpet"
           }
          ],
          "choropleth": [
           {
            "colorbar": {
             "outlinewidth": 0,
             "ticks": ""
            },
            "type": "choropleth"
           }
          ],
          "contour": [
           {
            "colorbar": {
             "outlinewidth": 0,
             "ticks": ""
            },
            "colorscale": [
             [
              0,
              "#0d0887"
             ],
             [
              0.1111111111111111,
              "#46039f"
             ],
             [
              0.2222222222222222,
              "#7201a8"
             ],
             [
              0.3333333333333333,
              "#9c179e"
             ],
             [
              0.4444444444444444,
              "#bd3786"
             ],
             [
              0.5555555555555556,
              "#d8576b"
             ],
             [
              0.6666666666666666,
              "#ed7953"
             ],
             [
              0.7777777777777778,
              "#fb9f3a"
             ],
             [
              0.8888888888888888,
              "#fdca26"
             ],
             [
              1,
              "#f0f921"
             ]
            ],
            "type": "contour"
           }
          ],
          "contourcarpet": [
           {
            "colorbar": {
             "outlinewidth": 0,
             "ticks": ""
            },
            "type": "contourcarpet"
           }
          ],
          "heatmap": [
           {
            "colorbar": {
             "outlinewidth": 0,
             "ticks": ""
            },
            "colorscale": [
             [
              0,
              "#0d0887"
             ],
             [
              0.1111111111111111,
              "#46039f"
             ],
             [
              0.2222222222222222,
              "#7201a8"
             ],
             [
              0.3333333333333333,
              "#9c179e"
             ],
             [
              0.4444444444444444,
              "#bd3786"
             ],
             [
              0.5555555555555556,
              "#d8576b"
             ],
             [
              0.6666666666666666,
              "#ed7953"
             ],
             [
              0.7777777777777778,
              "#fb9f3a"
             ],
             [
              0.8888888888888888,
              "#fdca26"
             ],
             [
              1,
              "#f0f921"
             ]
            ],
            "type": "heatmap"
           }
          ],
          "heatmapgl": [
           {
            "colorbar": {
             "outlinewidth": 0,
             "ticks": ""
            },
            "colorscale": [
             [
              0,
              "#0d0887"
             ],
             [
              0.1111111111111111,
              "#46039f"
             ],
             [
              0.2222222222222222,
              "#7201a8"
             ],
             [
              0.3333333333333333,
              "#9c179e"
             ],
             [
              0.4444444444444444,
              "#bd3786"
             ],
             [
              0.5555555555555556,
              "#d8576b"
             ],
             [
              0.6666666666666666,
              "#ed7953"
             ],
             [
              0.7777777777777778,
              "#fb9f3a"
             ],
             [
              0.8888888888888888,
              "#fdca26"
             ],
             [
              1,
              "#f0f921"
             ]
            ],
            "type": "heatmapgl"
           }
          ],
          "histogram": [
           {
            "marker": {
             "pattern": {
              "fillmode": "overlay",
              "size": 10,
              "solidity": 0.2
             }
            },
            "type": "histogram"
           }
          ],
          "histogram2d": [
           {
            "colorbar": {
             "outlinewidth": 0,
             "ticks": ""
            },
            "colorscale": [
             [
              0,
              "#0d0887"
             ],
             [
              0.1111111111111111,
              "#46039f"
             ],
             [
              0.2222222222222222,
              "#7201a8"
             ],
             [
              0.3333333333333333,
              "#9c179e"
             ],
             [
              0.4444444444444444,
              "#bd3786"
             ],
             [
              0.5555555555555556,
              "#d8576b"
             ],
             [
              0.6666666666666666,
              "#ed7953"
             ],
             [
              0.7777777777777778,
              "#fb9f3a"
             ],
             [
              0.8888888888888888,
              "#fdca26"
             ],
             [
              1,
              "#f0f921"
             ]
            ],
            "type": "histogram2d"
           }
          ],
          "histogram2dcontour": [
           {
            "colorbar": {
             "outlinewidth": 0,
             "ticks": ""
            },
            "colorscale": [
             [
              0,
              "#0d0887"
             ],
             [
              0.1111111111111111,
              "#46039f"
             ],
             [
              0.2222222222222222,
              "#7201a8"
             ],
             [
              0.3333333333333333,
              "#9c179e"
             ],
             [
              0.4444444444444444,
              "#bd3786"
             ],
             [
              0.5555555555555556,
              "#d8576b"
             ],
             [
              0.6666666666666666,
              "#ed7953"
             ],
             [
              0.7777777777777778,
              "#fb9f3a"
             ],
             [
              0.8888888888888888,
              "#fdca26"
             ],
             [
              1,
              "#f0f921"
             ]
            ],
            "type": "histogram2dcontour"
           }
          ],
          "mesh3d": [
           {
            "colorbar": {
             "outlinewidth": 0,
             "ticks": ""
            },
            "type": "mesh3d"
           }
          ],
          "parcoords": [
           {
            "line": {
             "colorbar": {
              "outlinewidth": 0,
              "ticks": ""
             }
            },
            "type": "parcoords"
           }
          ],
          "pie": [
           {
            "automargin": true,
            "type": "pie"
           }
          ],
          "scatter": [
           {
            "fillpattern": {
             "fillmode": "overlay",
             "size": 10,
             "solidity": 0.2
            },
            "type": "scatter"
           }
          ],
          "scatter3d": [
           {
            "line": {
             "colorbar": {
              "outlinewidth": 0,
              "ticks": ""
             }
            },
            "marker": {
             "colorbar": {
              "outlinewidth": 0,
              "ticks": ""
             }
            },
            "type": "scatter3d"
           }
          ],
          "scattercarpet": [
           {
            "marker": {
             "colorbar": {
              "outlinewidth": 0,
              "ticks": ""
             }
            },
            "type": "scattercarpet"
           }
          ],
          "scattergeo": [
           {
            "marker": {
             "colorbar": {
              "outlinewidth": 0,
              "ticks": ""
             }
            },
            "type": "scattergeo"
           }
          ],
          "scattergl": [
           {
            "marker": {
             "colorbar": {
              "outlinewidth": 0,
              "ticks": ""
             }
            },
            "type": "scattergl"
           }
          ],
          "scattermapbox": [
           {
            "marker": {
             "colorbar": {
              "outlinewidth": 0,
              "ticks": ""
             }
            },
            "type": "scattermapbox"
           }
          ],
          "scatterpolar": [
           {
            "marker": {
             "colorbar": {
              "outlinewidth": 0,
              "ticks": ""
             }
            },
            "type": "scatterpolar"
           }
          ],
          "scatterpolargl": [
           {
            "marker": {
             "colorbar": {
              "outlinewidth": 0,
              "ticks": ""
             }
            },
            "type": "scatterpolargl"
           }
          ],
          "scatterternary": [
           {
            "marker": {
             "colorbar": {
              "outlinewidth": 0,
              "ticks": ""
             }
            },
            "type": "scatterternary"
           }
          ],
          "surface": [
           {
            "colorbar": {
             "outlinewidth": 0,
             "ticks": ""
            },
            "colorscale": [
             [
              0,
              "#0d0887"
             ],
             [
              0.1111111111111111,
              "#46039f"
             ],
             [
              0.2222222222222222,
              "#7201a8"
             ],
             [
              0.3333333333333333,
              "#9c179e"
             ],
             [
              0.4444444444444444,
              "#bd3786"
             ],
             [
              0.5555555555555556,
              "#d8576b"
             ],
             [
              0.6666666666666666,
              "#ed7953"
             ],
             [
              0.7777777777777778,
              "#fb9f3a"
             ],
             [
              0.8888888888888888,
              "#fdca26"
             ],
             [
              1,
              "#f0f921"
             ]
            ],
            "type": "surface"
           }
          ],
          "table": [
           {
            "cells": {
             "fill": {
              "color": "#EBF0F8"
             },
             "line": {
              "color": "white"
             }
            },
            "header": {
             "fill": {
              "color": "#C8D4E3"
             },
             "line": {
              "color": "white"
             }
            },
            "type": "table"
           }
          ]
         },
         "layout": {
          "annotationdefaults": {
           "arrowcolor": "#2a3f5f",
           "arrowhead": 0,
           "arrowwidth": 1
          },
          "autotypenumbers": "strict",
          "coloraxis": {
           "colorbar": {
            "outlinewidth": 0,
            "ticks": ""
           }
          },
          "colorscale": {
           "diverging": [
            [
             0,
             "#8e0152"
            ],
            [
             0.1,
             "#c51b7d"
            ],
            [
             0.2,
             "#de77ae"
            ],
            [
             0.3,
             "#f1b6da"
            ],
            [
             0.4,
             "#fde0ef"
            ],
            [
             0.5,
             "#f7f7f7"
            ],
            [
             0.6,
             "#e6f5d0"
            ],
            [
             0.7,
             "#b8e186"
            ],
            [
             0.8,
             "#7fbc41"
            ],
            [
             0.9,
             "#4d9221"
            ],
            [
             1,
             "#276419"
            ]
           ],
           "sequential": [
            [
             0,
             "#0d0887"
            ],
            [
             0.1111111111111111,
             "#46039f"
            ],
            [
             0.2222222222222222,
             "#7201a8"
            ],
            [
             0.3333333333333333,
             "#9c179e"
            ],
            [
             0.4444444444444444,
             "#bd3786"
            ],
            [
             0.5555555555555556,
             "#d8576b"
            ],
            [
             0.6666666666666666,
             "#ed7953"
            ],
            [
             0.7777777777777778,
             "#fb9f3a"
            ],
            [
             0.8888888888888888,
             "#fdca26"
            ],
            [
             1,
             "#f0f921"
            ]
           ],
           "sequentialminus": [
            [
             0,
             "#0d0887"
            ],
            [
             0.1111111111111111,
             "#46039f"
            ],
            [
             0.2222222222222222,
             "#7201a8"
            ],
            [
             0.3333333333333333,
             "#9c179e"
            ],
            [
             0.4444444444444444,
             "#bd3786"
            ],
            [
             0.5555555555555556,
             "#d8576b"
            ],
            [
             0.6666666666666666,
             "#ed7953"
            ],
            [
             0.7777777777777778,
             "#fb9f3a"
            ],
            [
             0.8888888888888888,
             "#fdca26"
            ],
            [
             1,
             "#f0f921"
            ]
           ]
          },
          "colorway": [
           "#636efa",
           "#EF553B",
           "#00cc96",
           "#ab63fa",
           "#FFA15A",
           "#19d3f3",
           "#FF6692",
           "#B6E880",
           "#FF97FF",
           "#FECB52"
          ],
          "font": {
           "color": "#2a3f5f"
          },
          "geo": {
           "bgcolor": "white",
           "lakecolor": "white",
           "landcolor": "#E5ECF6",
           "showlakes": true,
           "showland": true,
           "subunitcolor": "white"
          },
          "hoverlabel": {
           "align": "left"
          },
          "hovermode": "closest",
          "mapbox": {
           "style": "light"
          },
          "paper_bgcolor": "white",
          "plot_bgcolor": "#E5ECF6",
          "polar": {
           "angularaxis": {
            "gridcolor": "white",
            "linecolor": "white",
            "ticks": ""
           },
           "bgcolor": "#E5ECF6",
           "radialaxis": {
            "gridcolor": "white",
            "linecolor": "white",
            "ticks": ""
           }
          },
          "scene": {
           "xaxis": {
            "backgroundcolor": "#E5ECF6",
            "gridcolor": "white",
            "gridwidth": 2,
            "linecolor": "white",
            "showbackground": true,
            "ticks": "",
            "zerolinecolor": "white"
           },
           "yaxis": {
            "backgroundcolor": "#E5ECF6",
            "gridcolor": "white",
            "gridwidth": 2,
            "linecolor": "white",
            "showbackground": true,
            "ticks": "",
            "zerolinecolor": "white"
           },
           "zaxis": {
            "backgroundcolor": "#E5ECF6",
            "gridcolor": "white",
            "gridwidth": 2,
            "linecolor": "white",
            "showbackground": true,
            "ticks": "",
            "zerolinecolor": "white"
           }
          },
          "shapedefaults": {
           "line": {
            "color": "#2a3f5f"
           }
          },
          "ternary": {
           "aaxis": {
            "gridcolor": "white",
            "linecolor": "white",
            "ticks": ""
           },
           "baxis": {
            "gridcolor": "white",
            "linecolor": "white",
            "ticks": ""
           },
           "bgcolor": "#E5ECF6",
           "caxis": {
            "gridcolor": "white",
            "linecolor": "white",
            "ticks": ""
           }
          },
          "title": {
           "x": 0.05
          },
          "xaxis": {
           "automargin": true,
           "gridcolor": "white",
           "linecolor": "white",
           "ticks": "",
           "title": {
            "standoff": 15
           },
           "zerolinecolor": "white",
           "zerolinewidth": 2
          },
          "yaxis": {
           "automargin": true,
           "gridcolor": "white",
           "linecolor": "white",
           "ticks": "",
           "title": {
            "standoff": 15
           },
           "zerolinecolor": "white",
           "zerolinewidth": 2
          }
         }
        },
        "xaxis": {
         "anchor": "y",
         "domain": [
          0,
          1
         ],
         "title": {
          "text": "time"
         }
        },
        "yaxis": {
         "anchor": "x",
         "domain": [
          0,
          1
         ],
         "title": {
          "text": "value"
         }
        }
       }
      }
     },
     "execution_count": null,
     "metadata": {},
     "output_type": "display_data"
    }
   ],
   "source": []
  },
  {
   "cell_type": "code",
   "execution_count": null,
   "metadata": {},
   "outputs": [
    {
     "data": {
      "application/vnd.plotly.v1+json": {
       "config": {
        "plotlyServerURL": "https://plotly.com"
       },
       "data": [
        {
         "alignmentgroup": "True",
         "hovertemplate": "variable=Coal<br>time=%{x}<br>value=%{y}<extra></extra>",
         "legendgroup": "Coal",
         "marker": {
          "color": "#636efa",
          "pattern": {
           "shape": ""
          }
         },
         "name": "Coal",
         "offsetgroup": "Coal",
         "orientation": "v",
         "showlegend": true,
         "textposition": "auto",
         "type": "bar",
         "x": [
          "2022-09-01T00:00:00",
          "2022-09-08T00:00:00",
          "2022-09-15T00:00:00",
          "2022-09-22T00:00:00",
          "2022-09-29T00:00:00",
          "2022-10-06T00:00:00",
          "2022-10-13T00:00:00",
          "2022-10-20T00:00:00",
          "2022-10-27T00:00:00",
          "2022-11-03T00:00:00",
          "2022-11-10T00:00:00",
          "2022-11-17T00:00:00",
          "2022-11-24T00:00:00",
          "2022-12-01T00:00:00",
          "2022-12-08T00:00:00",
          "2022-12-15T00:00:00",
          "2022-12-22T00:00:00",
          "2022-12-29T00:00:00",
          "2023-01-05T00:00:00",
          "2023-01-12T00:00:00",
          "2023-01-19T00:00:00",
          "2023-01-26T00:00:00",
          "2023-02-02T00:00:00",
          "2023-02-09T00:00:00",
          "2023-02-16T00:00:00",
          "2023-02-23T00:00:00",
          "2023-03-02T00:00:00",
          "2023-03-09T00:00:00",
          "2023-03-16T00:00:00",
          "2023-03-23T00:00:00",
          "2023-03-30T00:00:00",
          "2023-04-06T00:00:00",
          "2023-04-13T00:00:00",
          "2023-04-20T00:00:00",
          "2023-04-27T00:00:00",
          "2023-05-04T00:00:00",
          "2023-05-11T00:00:00",
          "2023-05-18T00:00:00",
          "2023-05-25T00:00:00",
          "2023-06-01T00:00:00",
          "2023-06-08T00:00:00",
          "2023-06-15T00:00:00",
          "2023-06-22T00:00:00",
          "2023-06-29T00:00:00",
          "2023-07-06T00:00:00",
          "2023-07-13T00:00:00",
          "2023-07-20T00:00:00",
          "2023-07-27T00:00:00",
          "2023-08-03T00:00:00",
          "2023-08-10T00:00:00",
          "2023-08-17T00:00:00",
          "2023-08-24T00:00:00",
          "2023-08-31T00:00:00"
         ],
         "xaxis": "x",
         "y": [
          136546,
          162789.817,
          131442.302,
          160841.675,
          131327.524,
          138004.024,
          102723.25,
          38153.4,
          46704.425,
          67420.15,
          47900.2,
          47768.35,
          155960.526,
          187290.729,
          213632.233,
          218744.65,
          81976.392,
          82395.125,
          65255.3,
          62656.8,
          67515.875,
          81927.35,
          119741.25,
          100558.2,
          110131.075,
          101401.4,
          115802.15,
          92358.075,
          87887.95,
          80248.9,
          76758.85,
          67795.075,
          52620,
          57048.15,
          55235.15,
          51644.15,
          50167.475,
          48840.7,
          63951.832,
          86489.325,
          66849.5,
          68146.917,
          62960.925,
          54898.95,
          62593.165,
          55280.975,
          64471.25,
          91641.725,
          71699.675,
          101384.343,
          109108.158,
          100683.501,
          12551.6
         ],
         "yaxis": "y"
        },
        {
         "alignmentgroup": "True",
         "hovertemplate": "variable=Cogeneration<br>time=%{x}<br>value=%{y}<extra></extra>",
         "legendgroup": "Cogeneration",
         "marker": {
          "color": "#EF553B",
          "pattern": {
           "shape": ""
          }
         },
         "name": "Cogeneration",
         "offsetgroup": "Cogeneration",
         "orientation": "v",
         "showlegend": true,
         "textposition": "auto",
         "type": "bar",
         "x": [
          "2022-09-01T00:00:00",
          "2022-09-08T00:00:00",
          "2022-09-15T00:00:00",
          "2022-09-22T00:00:00",
          "2022-09-29T00:00:00",
          "2022-10-06T00:00:00",
          "2022-10-13T00:00:00",
          "2022-10-20T00:00:00",
          "2022-10-27T00:00:00",
          "2022-11-03T00:00:00",
          "2022-11-10T00:00:00",
          "2022-11-17T00:00:00",
          "2022-11-24T00:00:00",
          "2022-12-01T00:00:00",
          "2022-12-08T00:00:00",
          "2022-12-15T00:00:00",
          "2022-12-22T00:00:00",
          "2022-12-29T00:00:00",
          "2023-01-05T00:00:00",
          "2023-01-12T00:00:00",
          "2023-01-19T00:00:00",
          "2023-01-26T00:00:00",
          "2023-02-02T00:00:00",
          "2023-02-09T00:00:00",
          "2023-02-16T00:00:00",
          "2023-02-23T00:00:00",
          "2023-03-02T00:00:00",
          "2023-03-09T00:00:00",
          "2023-03-16T00:00:00",
          "2023-03-23T00:00:00",
          "2023-03-30T00:00:00",
          "2023-04-06T00:00:00",
          "2023-04-13T00:00:00",
          "2023-04-20T00:00:00",
          "2023-04-27T00:00:00",
          "2023-05-04T00:00:00",
          "2023-05-11T00:00:00",
          "2023-05-18T00:00:00",
          "2023-05-25T00:00:00",
          "2023-06-01T00:00:00",
          "2023-06-08T00:00:00",
          "2023-06-15T00:00:00",
          "2023-06-22T00:00:00",
          "2023-06-29T00:00:00",
          "2023-07-06T00:00:00",
          "2023-07-13T00:00:00",
          "2023-07-20T00:00:00",
          "2023-07-27T00:00:00",
          "2023-08-03T00:00:00",
          "2023-08-10T00:00:00",
          "2023-08-17T00:00:00",
          "2023-08-24T00:00:00",
          "2023-08-31T00:00:00"
         ],
         "xaxis": "x",
         "y": [
          172293.173,
          155962.252,
          172158.716,
          196032.571,
          249467.214,
          291802.563,
          248503.643,
          222162.466,
          255267.784,
          353301.962,
          349506.96,
          332379.525,
          330771.654,
          303535.858,
          284068.186,
          268746.654,
          191822.535,
          209101.562,
          295398.8,
          260770.603,
          267528.518,
          311254.028,
          409073.367,
          432538.567,
          449973.899,
          435088.071,
          449273.339,
          365912.08,
          429202.851,
          376164.507,
          313043.284,
          353377.186,
          360606.097,
          418649.491,
          391486.056,
          384526.468,
          364461.71,
          385083.685,
          429905.082,
          421770.813,
          419403.38,
          418139.398,
          401671.362,
          350404.602,
          354448.863,
          349151.855,
          338536.451,
          327881.293,
          284044.415,
          285567.596,
          301156.565,
          302946.699,
          49434.506
         ],
         "yaxis": "y"
        },
        {
         "alignmentgroup": "True",
         "hovertemplate": "variable=Combined Cycle (Gas)<br>time=%{x}<br>value=%{y}<extra></extra>",
         "legendgroup": "Combined Cycle (Gas)",
         "marker": {
          "color": "#00cc96",
          "pattern": {
           "shape": ""
          }
         },
         "name": "Combined Cycle (Gas)",
         "offsetgroup": "Combined Cycle (Gas)",
         "orientation": "v",
         "showlegend": true,
         "textposition": "auto",
         "type": "bar",
         "x": [
          "2022-09-01T00:00:00",
          "2022-09-08T00:00:00",
          "2022-09-15T00:00:00",
          "2022-09-22T00:00:00",
          "2022-09-29T00:00:00",
          "2022-10-06T00:00:00",
          "2022-10-13T00:00:00",
          "2022-10-20T00:00:00",
          "2022-10-27T00:00:00",
          "2022-11-03T00:00:00",
          "2022-11-10T00:00:00",
          "2022-11-17T00:00:00",
          "2022-11-24T00:00:00",
          "2022-12-01T00:00:00",
          "2022-12-08T00:00:00",
          "2022-12-15T00:00:00",
          "2022-12-22T00:00:00",
          "2022-12-29T00:00:00",
          "2023-01-05T00:00:00",
          "2023-01-12T00:00:00",
          "2023-01-19T00:00:00",
          "2023-01-26T00:00:00",
          "2023-02-02T00:00:00",
          "2023-02-09T00:00:00",
          "2023-02-16T00:00:00",
          "2023-02-23T00:00:00",
          "2023-03-02T00:00:00",
          "2023-03-09T00:00:00",
          "2023-03-16T00:00:00",
          "2023-03-23T00:00:00",
          "2023-03-30T00:00:00",
          "2023-04-06T00:00:00",
          "2023-04-13T00:00:00",
          "2023-04-20T00:00:00",
          "2023-04-27T00:00:00",
          "2023-05-04T00:00:00",
          "2023-05-11T00:00:00",
          "2023-05-18T00:00:00",
          "2023-05-25T00:00:00",
          "2023-06-01T00:00:00",
          "2023-06-08T00:00:00",
          "2023-06-15T00:00:00",
          "2023-06-22T00:00:00",
          "2023-06-29T00:00:00",
          "2023-07-06T00:00:00",
          "2023-07-13T00:00:00",
          "2023-07-20T00:00:00",
          "2023-07-27T00:00:00",
          "2023-08-03T00:00:00",
          "2023-08-10T00:00:00",
          "2023-08-17T00:00:00",
          "2023-08-24T00:00:00",
          "2023-08-31T00:00:00"
         ],
         "xaxis": "x",
         "y": [
          1923790.391,
          1936149.859,
          1790005.179,
          1290918.012,
          1708694.792,
          2028241.156,
          1575090.005,
          1084452.401,
          856412.777,
          1162494.925,
          1062711.21,
          537527.8,
          1090342.392,
          1825671.015,
          816042.283,
          644470.067,
          419187.68,
          506692.142,
          496900.075,
          339446.334,
          443373.502,
          565409.917,
          811441.665,
          1107762.65,
          1125821.391,
          938116.559,
          1034157.459,
          331038.559,
          598351.688,
          400330.133,
          294027.155,
          477067.884,
          358569.075,
          729077.773,
          803403.505,
          628590.092,
          454778.998,
          528217.859,
          847972.139,
          958754.85,
          856234.532,
          1076217.7719999999,
          947930.96,
          807748.078,
          1189094.099,
          1157324.183,
          864500.354,
          829202.153,
          733560.04,
          891582.398,
          1341053.085,
          1029472.369,
          157466.9
         ],
         "yaxis": "y"
        },
        {
         "alignmentgroup": "True",
         "hovertemplate": "variable=Eolic<br>time=%{x}<br>value=%{y}<extra></extra>",
         "legendgroup": "Eolic",
         "marker": {
          "color": "#ab63fa",
          "pattern": {
           "shape": ""
          }
         },
         "name": "Eolic",
         "offsetgroup": "Eolic",
         "orientation": "v",
         "showlegend": true,
         "textposition": "auto",
         "type": "bar",
         "x": [
          "2022-09-01T00:00:00",
          "2022-09-08T00:00:00",
          "2022-09-15T00:00:00",
          "2022-09-22T00:00:00",
          "2022-09-29T00:00:00",
          "2022-10-06T00:00:00",
          "2022-10-13T00:00:00",
          "2022-10-20T00:00:00",
          "2022-10-27T00:00:00",
          "2022-11-03T00:00:00",
          "2022-11-10T00:00:00",
          "2022-11-17T00:00:00",
          "2022-11-24T00:00:00",
          "2022-12-01T00:00:00",
          "2022-12-08T00:00:00",
          "2022-12-15T00:00:00",
          "2022-12-22T00:00:00",
          "2022-12-29T00:00:00",
          "2023-01-05T00:00:00",
          "2023-01-12T00:00:00",
          "2023-01-19T00:00:00",
          "2023-01-26T00:00:00",
          "2023-02-02T00:00:00",
          "2023-02-09T00:00:00",
          "2023-02-16T00:00:00",
          "2023-02-23T00:00:00",
          "2023-03-02T00:00:00",
          "2023-03-09T00:00:00",
          "2023-03-16T00:00:00",
          "2023-03-23T00:00:00",
          "2023-03-30T00:00:00",
          "2023-04-06T00:00:00",
          "2023-04-13T00:00:00",
          "2023-04-20T00:00:00",
          "2023-04-27T00:00:00",
          "2023-05-04T00:00:00",
          "2023-05-11T00:00:00",
          "2023-05-18T00:00:00",
          "2023-05-25T00:00:00",
          "2023-06-01T00:00:00",
          "2023-06-08T00:00:00",
          "2023-06-15T00:00:00",
          "2023-06-22T00:00:00",
          "2023-06-29T00:00:00",
          "2023-07-06T00:00:00",
          "2023-07-13T00:00:00",
          "2023-07-20T00:00:00",
          "2023-07-27T00:00:00",
          "2023-08-03T00:00:00",
          "2023-08-10T00:00:00",
          "2023-08-17T00:00:00",
          "2023-08-24T00:00:00",
          "2023-08-31T00:00:00"
         ],
         "xaxis": "x",
         "y": [
          864037.706,
          871012.693,
          778374.75,
          1057348.168,
          815926.017,
          645895.633,
          1167372.855,
          1745376.081,
          1254445.187,
          1270797.307,
          1564617.825,
          2449319.174,
          1233707.088,
          584594.98,
          1694506.25,
          1437610.551,
          1211112.633,
          1138819.166,
          1520485.44,
          1975520.371,
          1981880.187,
          1755601.281,
          1274421.588,
          1076615.664,
          719159.35,
          1617881.7989999999,
          1465548.791,
          1949745.807,
          1042578.481,
          1338817.198,
          1681614.157,
          871504.524,
          1504434.778,
          871425.518,
          974474.245,
          1024088.348,
          1705621.992,
          1462285.188,
          736695.807,
          435403.341,
          727809.852,
          630582.97,
          897370.9839999999,
          950167.003,
          776764.638,
          971454.595,
          956924.652,
          832933.871,
          1209851.487,
          752514.313,
          663859.931,
          1164917.767,
          69646.772
         ],
         "yaxis": "y"
        },
        {
         "alignmentgroup": "True",
         "hovertemplate": "variable=Hydraulic<br>time=%{x}<br>value=%{y}<extra></extra>",
         "legendgroup": "Hydraulic",
         "marker": {
          "color": "#FFA15A",
          "pattern": {
           "shape": ""
          }
         },
         "name": "Hydraulic",
         "offsetgroup": "Hydraulic",
         "orientation": "v",
         "showlegend": true,
         "textposition": "auto",
         "type": "bar",
         "x": [
          "2022-09-01T00:00:00",
          "2022-09-08T00:00:00",
          "2022-09-15T00:00:00",
          "2022-09-22T00:00:00",
          "2022-09-29T00:00:00",
          "2022-10-06T00:00:00",
          "2022-10-13T00:00:00",
          "2022-10-20T00:00:00",
          "2022-10-27T00:00:00",
          "2022-11-03T00:00:00",
          "2022-11-10T00:00:00",
          "2022-11-17T00:00:00",
          "2022-11-24T00:00:00",
          "2022-12-01T00:00:00",
          "2022-12-08T00:00:00",
          "2022-12-15T00:00:00",
          "2022-12-22T00:00:00",
          "2022-12-29T00:00:00",
          "2023-01-05T00:00:00",
          "2023-01-12T00:00:00",
          "2023-01-19T00:00:00",
          "2023-01-26T00:00:00",
          "2023-02-02T00:00:00",
          "2023-02-09T00:00:00",
          "2023-02-16T00:00:00",
          "2023-02-23T00:00:00",
          "2023-03-02T00:00:00",
          "2023-03-09T00:00:00",
          "2023-03-16T00:00:00",
          "2023-03-23T00:00:00",
          "2023-03-30T00:00:00",
          "2023-04-06T00:00:00",
          "2023-04-13T00:00:00",
          "2023-04-20T00:00:00",
          "2023-04-27T00:00:00",
          "2023-05-04T00:00:00",
          "2023-05-11T00:00:00",
          "2023-05-18T00:00:00",
          "2023-05-25T00:00:00",
          "2023-06-01T00:00:00",
          "2023-06-08T00:00:00",
          "2023-06-15T00:00:00",
          "2023-06-22T00:00:00",
          "2023-06-29T00:00:00",
          "2023-07-06T00:00:00",
          "2023-07-13T00:00:00",
          "2023-07-20T00:00:00",
          "2023-07-27T00:00:00",
          "2023-08-03T00:00:00",
          "2023-08-10T00:00:00",
          "2023-08-17T00:00:00",
          "2023-08-24T00:00:00",
          "2023-08-31T00:00:00"
         ],
         "xaxis": "x",
         "y": [
          172805.52,
          259821.964,
          400914.125,
          316692.765,
          163959.58,
          138111.15,
          135807.263,
          224967.818,
          213599.015,
          222020.328,
          239521.85,
          328917.734,
          536115.485,
          573063.984,
          534817.513,
          771959.166,
          752183.393,
          772800.337,
          845348.975,
          869567.932,
          944259.526,
          1016062.825,
          811071.6,
          649594.525,
          524005.475,
          502976.725,
          543162.371,
          461393.537,
          530786.08,
          476913.512,
          426376.598,
          408048.732,
          371490.008,
          377754.293,
          374437.337,
          351329.464,
          298481.689,
          336788.749,
          348801.371,
          447046.661,
          466536.257,
          495657.467,
          388192.926,
          312047.846,
          336325.907,
          306581.018,
          285044.577,
          259173.36,
          240226.74599999998,
          236806.188,
          258937.987,
          216970.617,
          40281.783
         ],
         "yaxis": "y"
        },
        {
         "alignmentgroup": "True",
         "hovertemplate": "variable=Non-Renewable Residues<br>time=%{x}<br>value=%{y}<extra></extra>",
         "legendgroup": "Non-Renewable Residues",
         "marker": {
          "color": "#19d3f3",
          "pattern": {
           "shape": ""
          }
         },
         "name": "Non-Renewable Residues",
         "offsetgroup": "Non-Renewable Residues",
         "orientation": "v",
         "showlegend": true,
         "textposition": "auto",
         "type": "bar",
         "x": [
          "2022-09-01T00:00:00",
          "2022-09-08T00:00:00",
          "2022-09-15T00:00:00",
          "2022-09-22T00:00:00",
          "2022-09-29T00:00:00",
          "2022-10-06T00:00:00",
          "2022-10-13T00:00:00",
          "2022-10-20T00:00:00",
          "2022-10-27T00:00:00",
          "2022-11-03T00:00:00",
          "2022-11-10T00:00:00",
          "2022-11-17T00:00:00",
          "2022-11-24T00:00:00",
          "2022-12-01T00:00:00",
          "2022-12-08T00:00:00",
          "2022-12-15T00:00:00",
          "2022-12-22T00:00:00",
          "2022-12-29T00:00:00",
          "2023-01-05T00:00:00",
          "2023-01-12T00:00:00",
          "2023-01-19T00:00:00",
          "2023-01-26T00:00:00",
          "2023-02-02T00:00:00",
          "2023-02-09T00:00:00",
          "2023-02-16T00:00:00",
          "2023-02-23T00:00:00",
          "2023-03-02T00:00:00",
          "2023-03-09T00:00:00",
          "2023-03-16T00:00:00",
          "2023-03-23T00:00:00",
          "2023-03-30T00:00:00",
          "2023-04-06T00:00:00",
          "2023-04-13T00:00:00",
          "2023-04-20T00:00:00",
          "2023-04-27T00:00:00",
          "2023-05-04T00:00:00",
          "2023-05-11T00:00:00",
          "2023-05-18T00:00:00",
          "2023-05-25T00:00:00",
          "2023-06-01T00:00:00",
          "2023-06-08T00:00:00",
          "2023-06-15T00:00:00",
          "2023-06-22T00:00:00",
          "2023-06-29T00:00:00",
          "2023-07-06T00:00:00",
          "2023-07-13T00:00:00",
          "2023-07-20T00:00:00",
          "2023-07-27T00:00:00",
          "2023-08-03T00:00:00",
          "2023-08-10T00:00:00",
          "2023-08-17T00:00:00",
          "2023-08-24T00:00:00",
          "2023-08-31T00:00:00"
         ],
         "xaxis": "x",
         "y": [
          44596.742,
          43652.217,
          37113.667,
          36248.758,
          47646.049,
          50087.2,
          50948.442,
          40164.7,
          40263.6,
          40722.9,
          37305.3,
          39537.775,
          40888.78,
          42572,
          42710.883,
          40782.43,
          42227.552,
          41214.725,
          40752.9,
          37569.567,
          31562.34,
          30894.233,
          43406.942,
          43720.3,
          42864.533,
          43593.3,
          44551.45,
          37910.9,
          39333.8,
          37415.273,
          37636.38,
          35571.058,
          25172.7,
          28355.15,
          21015.083,
          18451.1,
          16005.8,
          17593.133,
          34290.3,
          35510.7,
          44277.1,
          46749.2,
          42309.625,
          40801.4,
          43427.3,
          43046.316,
          42285.3,
          42859.1,
          38140.5,
          41180.817,
          40174.3,
          39295.9,
          5047.1
         ],
         "yaxis": "y"
        },
        {
         "alignmentgroup": "True",
         "hovertemplate": "variable=Nuclear<br>time=%{x}<br>value=%{y}<extra></extra>",
         "legendgroup": "Nuclear",
         "marker": {
          "color": "#FF6692",
          "pattern": {
           "shape": ""
          }
         },
         "name": "Nuclear",
         "offsetgroup": "Nuclear",
         "orientation": "v",
         "showlegend": true,
         "textposition": "auto",
         "type": "bar",
         "x": [
          "2022-09-01T00:00:00",
          "2022-09-08T00:00:00",
          "2022-09-15T00:00:00",
          "2022-09-22T00:00:00",
          "2022-09-29T00:00:00",
          "2022-10-06T00:00:00",
          "2022-10-13T00:00:00",
          "2022-10-20T00:00:00",
          "2022-10-27T00:00:00",
          "2022-11-03T00:00:00",
          "2022-11-10T00:00:00",
          "2022-11-17T00:00:00",
          "2022-11-24T00:00:00",
          "2022-12-01T00:00:00",
          "2022-12-08T00:00:00",
          "2022-12-15T00:00:00",
          "2022-12-22T00:00:00",
          "2022-12-29T00:00:00",
          "2023-01-05T00:00:00",
          "2023-01-12T00:00:00",
          "2023-01-19T00:00:00",
          "2023-01-26T00:00:00",
          "2023-02-02T00:00:00",
          "2023-02-09T00:00:00",
          "2023-02-16T00:00:00",
          "2023-02-23T00:00:00",
          "2023-03-02T00:00:00",
          "2023-03-09T00:00:00",
          "2023-03-16T00:00:00",
          "2023-03-23T00:00:00",
          "2023-03-30T00:00:00",
          "2023-04-06T00:00:00",
          "2023-04-13T00:00:00",
          "2023-04-20T00:00:00",
          "2023-04-27T00:00:00",
          "2023-05-04T00:00:00",
          "2023-05-11T00:00:00",
          "2023-05-18T00:00:00",
          "2023-05-25T00:00:00",
          "2023-06-01T00:00:00",
          "2023-06-08T00:00:00",
          "2023-06-15T00:00:00",
          "2023-06-22T00:00:00",
          "2023-06-29T00:00:00",
          "2023-07-06T00:00:00",
          "2023-07-13T00:00:00",
          "2023-07-20T00:00:00",
          "2023-07-27T00:00:00",
          "2023-08-03T00:00:00",
          "2023-08-10T00:00:00",
          "2023-08-17T00:00:00",
          "2023-08-24T00:00:00",
          "2023-08-31T00:00:00"
         ],
         "xaxis": "x",
         "y": [
          1157554,
          1161943.117,
          1155532.2,
          1085995,
          1008134.9,
          999900,
          871632.9,
          832694.7,
          832102.325,
          924739.25,
          1008876.5,
          1008117.9,
          1062348.256,
          1149761.05,
          1152578.175,
          1186052.2,
          1186314.325,
          1142023.125,
          1083023.225,
          1135848.6,
          1189216,
          1190364.7,
          1190627.1,
          1181297,
          1174965.2,
          1024818.1,
          1123369.8,
          1178822.575,
          1186104.1,
          1167244.1,
          1078860,
          1178076.9,
          1100701.15,
          998988.5,
          884008.675,
          851120.625,
          806484.717,
          882321.85,
          852354.6,
          851401.6,
          847676.2,
          934666.5920000001,
          1073776.2249999999,
          1157317.4,
          1158190,
          1158518,
          1154544.6,
          1157350.8,
          1151160.1,
          1107343.678,
          1132021.567,
          1127421.7,
          164489.725
         ],
         "yaxis": "y"
        },
        {
         "alignmentgroup": "True",
         "hovertemplate": "variable=Pumped Storage Hydropower<br>time=%{x}<br>value=%{y}<extra></extra>",
         "legendgroup": "Pumped Storage Hydropower",
         "marker": {
          "color": "#B6E880",
          "pattern": {
           "shape": ""
          }
         },
         "name": "Pumped Storage Hydropower",
         "offsetgroup": "Pumped Storage Hydropower",
         "orientation": "v",
         "showlegend": true,
         "textposition": "auto",
         "type": "bar",
         "x": [
          "2022-09-01T00:00:00",
          "2022-09-08T00:00:00",
          "2022-09-15T00:00:00",
          "2022-09-22T00:00:00",
          "2022-09-29T00:00:00",
          "2022-10-06T00:00:00",
          "2022-10-13T00:00:00",
          "2022-10-20T00:00:00",
          "2022-10-27T00:00:00",
          "2022-11-03T00:00:00",
          "2022-11-10T00:00:00",
          "2022-11-17T00:00:00",
          "2022-11-24T00:00:00",
          "2022-12-01T00:00:00",
          "2022-12-08T00:00:00",
          "2022-12-15T00:00:00",
          "2022-12-22T00:00:00",
          "2022-12-29T00:00:00",
          "2023-01-05T00:00:00",
          "2023-01-12T00:00:00",
          "2023-01-19T00:00:00",
          "2023-01-26T00:00:00",
          "2023-02-02T00:00:00",
          "2023-02-09T00:00:00",
          "2023-02-16T00:00:00",
          "2023-02-23T00:00:00",
          "2023-03-02T00:00:00",
          "2023-03-09T00:00:00",
          "2023-03-16T00:00:00",
          "2023-03-23T00:00:00",
          "2023-03-30T00:00:00",
          "2023-04-06T00:00:00",
          "2023-04-13T00:00:00",
          "2023-04-20T00:00:00",
          "2023-04-27T00:00:00",
          "2023-05-04T00:00:00",
          "2023-05-11T00:00:00",
          "2023-05-18T00:00:00",
          "2023-05-25T00:00:00",
          "2023-06-01T00:00:00",
          "2023-06-08T00:00:00",
          "2023-06-15T00:00:00",
          "2023-06-22T00:00:00",
          "2023-06-29T00:00:00",
          "2023-07-06T00:00:00",
          "2023-07-13T00:00:00",
          "2023-07-20T00:00:00",
          "2023-07-27T00:00:00",
          "2023-08-03T00:00:00",
          "2023-08-10T00:00:00",
          "2023-08-17T00:00:00",
          "2023-08-24T00:00:00",
          "2023-08-31T00:00:00"
         ],
         "xaxis": "x",
         "y": [
          63015.933,
          60223.724,
          63188.55,
          63756.125,
          77624.617,
          83262.075,
          76546.2125,
          65057.2,
          79341.933,
          73616.14199999999,
          51901.7,
          78600.971,
          59887.1,
          62480.011,
          70827.75,
          71145.35,
          115850.25,
          105141.354,
          95713.05,
          112347.525,
          109314.412,
          76199.85,
          66453.3,
          26808.725,
          65038.675,
          54129.8,
          52753.05,
          104757.071,
          109351.342,
          115670.241,
          117141.075,
          110240.097,
          100392.977,
          91150,
          74177.634,
          85645.984,
          100578.825,
          87277.45,
          55725.779,
          62733.4,
          61947.125,
          66267.958,
          65211.692,
          67686.225,
          49667.775,
          76269.267,
          48325.95,
          77326.05,
          103197.008,
          69841.583,
          63377.567,
          75029.051,
          12067.3
         ],
         "yaxis": "y"
        },
        {
         "alignmentgroup": "True",
         "hovertemplate": "variable=Renewables Other<br>time=%{x}<br>value=%{y}<extra></extra>",
         "legendgroup": "Renewables Other",
         "marker": {
          "color": "#FF97FF",
          "pattern": {
           "shape": ""
          }
         },
         "name": "Renewables Other",
         "offsetgroup": "Renewables Other",
         "orientation": "v",
         "showlegend": true,
         "textposition": "auto",
         "type": "bar",
         "x": [
          "2022-09-01T00:00:00",
          "2022-09-08T00:00:00",
          "2022-09-15T00:00:00",
          "2022-09-22T00:00:00",
          "2022-09-29T00:00:00",
          "2022-10-06T00:00:00",
          "2022-10-13T00:00:00",
          "2022-10-20T00:00:00",
          "2022-10-27T00:00:00",
          "2022-11-03T00:00:00",
          "2022-11-10T00:00:00",
          "2022-11-17T00:00:00",
          "2022-11-24T00:00:00",
          "2022-12-01T00:00:00",
          "2022-12-08T00:00:00",
          "2022-12-15T00:00:00",
          "2022-12-22T00:00:00",
          "2022-12-29T00:00:00",
          "2023-01-05T00:00:00",
          "2023-01-12T00:00:00",
          "2023-01-19T00:00:00",
          "2023-01-26T00:00:00",
          "2023-02-02T00:00:00",
          "2023-02-09T00:00:00",
          "2023-02-16T00:00:00",
          "2023-02-23T00:00:00",
          "2023-03-02T00:00:00",
          "2023-03-09T00:00:00",
          "2023-03-16T00:00:00",
          "2023-03-23T00:00:00",
          "2023-03-30T00:00:00",
          "2023-04-06T00:00:00",
          "2023-04-13T00:00:00",
          "2023-04-20T00:00:00",
          "2023-04-27T00:00:00",
          "2023-05-04T00:00:00",
          "2023-05-11T00:00:00",
          "2023-05-18T00:00:00",
          "2023-05-25T00:00:00",
          "2023-06-01T00:00:00",
          "2023-06-08T00:00:00",
          "2023-06-15T00:00:00",
          "2023-06-22T00:00:00",
          "2023-06-29T00:00:00",
          "2023-07-06T00:00:00",
          "2023-07-13T00:00:00",
          "2023-07-20T00:00:00",
          "2023-07-27T00:00:00",
          "2023-08-03T00:00:00",
          "2023-08-10T00:00:00",
          "2023-08-17T00:00:00",
          "2023-08-24T00:00:00",
          "2023-08-31T00:00:00"
         ],
         "xaxis": "x",
         "y": [
          82948.067,
          79612.056,
          86503.702,
          83023.01699999999,
          84397.269,
          85951.584,
          85391.158,
          79258.2,
          88381.809,
          91132.292,
          89605.115,
          80538.679,
          89321.382,
          86261.928,
          84621.343,
          85674.967,
          59280.25,
          57607.65,
          70500.716,
          63303.651,
          65163.205,
          78679.48300000001,
          89228.355,
          92191.252,
          91291.9,
          90362.143,
          86551.321,
          67306.183,
          72459.927,
          65068.567,
          47712.617,
          66432.117,
          59831.563,
          74380.462,
          79776.622,
          81926.564,
          73711.414,
          74267.36,
          80249.081,
          74941.918,
          75209.266,
          79431.274,
          79944.799,
          75501.557,
          76378.713,
          72339.132,
          74840.045,
          77400.827,
          71990.736,
          84126.29,
          84519.909,
          75374.591,
          11374.631
         ],
         "yaxis": "y"
        },
        {
         "alignmentgroup": "True",
         "hovertemplate": "variable=Solar Photovoltaic<br>time=%{x}<br>value=%{y}<extra></extra>",
         "legendgroup": "Solar Photovoltaic",
         "marker": {
          "color": "#FECB52",
          "pattern": {
           "shape": ""
          }
         },
         "name": "Solar Photovoltaic",
         "offsetgroup": "Solar Photovoltaic",
         "orientation": "v",
         "showlegend": true,
         "textposition": "auto",
         "type": "bar",
         "x": [
          "2022-09-01T00:00:00",
          "2022-09-08T00:00:00",
          "2022-09-15T00:00:00",
          "2022-09-22T00:00:00",
          "2022-09-29T00:00:00",
          "2022-10-06T00:00:00",
          "2022-10-13T00:00:00",
          "2022-10-20T00:00:00",
          "2022-10-27T00:00:00",
          "2022-11-03T00:00:00",
          "2022-11-10T00:00:00",
          "2022-11-17T00:00:00",
          "2022-11-24T00:00:00",
          "2022-12-01T00:00:00",
          "2022-12-08T00:00:00",
          "2022-12-15T00:00:00",
          "2022-12-22T00:00:00",
          "2022-12-29T00:00:00",
          "2023-01-05T00:00:00",
          "2023-01-12T00:00:00",
          "2023-01-19T00:00:00",
          "2023-01-26T00:00:00",
          "2023-02-02T00:00:00",
          "2023-02-09T00:00:00",
          "2023-02-16T00:00:00",
          "2023-02-23T00:00:00",
          "2023-03-02T00:00:00",
          "2023-03-09T00:00:00",
          "2023-03-16T00:00:00",
          "2023-03-23T00:00:00",
          "2023-03-30T00:00:00",
          "2023-04-06T00:00:00",
          "2023-04-13T00:00:00",
          "2023-04-20T00:00:00",
          "2023-04-27T00:00:00",
          "2023-05-04T00:00:00",
          "2023-05-11T00:00:00",
          "2023-05-18T00:00:00",
          "2023-05-25T00:00:00",
          "2023-06-01T00:00:00",
          "2023-06-08T00:00:00",
          "2023-06-15T00:00:00",
          "2023-06-22T00:00:00",
          "2023-06-29T00:00:00",
          "2023-07-06T00:00:00",
          "2023-07-13T00:00:00",
          "2023-07-20T00:00:00",
          "2023-07-27T00:00:00",
          "2023-08-03T00:00:00",
          "2023-08-10T00:00:00",
          "2023-08-17T00:00:00",
          "2023-08-24T00:00:00",
          "2023-08-31T00:00:00"
         ],
         "xaxis": "x",
         "y": [
          695863.476,
          555033.259,
          608068.827,
          613341.384,
          611811.472,
          509740.354,
          512404.453,
          316921.1,
          402224.625,
          415140.085,
          338373.924,
          264809.239,
          385240.74199999997,
          276701.375,
          159828.131,
          263867.125,
          349902.85,
          320753.344,
          317114.45,
          344942.764,
          445207.023,
          523462.844,
          533611.22,
          509696.575,
          543974.525,
          616904.186,
          549889.779,
          645638.331,
          732019.803,
          758342.915,
          768282.292,
          853877.175,
          859382.794,
          894569.659,
          837950.462,
          981307.539,
          939416.769,
          751625.093,
          749192.723,
          782792.846,
          862283.924,
          906376.428,
          1006500.171,
          1008587.972,
          989741.068,
          1014225.113,
          1020947.706,
          1072551.85,
          992046.304,
          1037438.439,
          1017469.609,
          900329.814,
          138880.021
         ],
         "yaxis": "y"
        },
        {
         "alignmentgroup": "True",
         "hovertemplate": "variable=Solar Thermal<br>time=%{x}<br>value=%{y}<extra></extra>",
         "legendgroup": "Solar Thermal",
         "marker": {
          "color": "#636efa",
          "pattern": {
           "shape": ""
          }
         },
         "name": "Solar Thermal",
         "offsetgroup": "Solar Thermal",
         "orientation": "v",
         "showlegend": true,
         "textposition": "auto",
         "type": "bar",
         "x": [
          "2022-09-01T00:00:00",
          "2022-09-08T00:00:00",
          "2022-09-15T00:00:00",
          "2022-09-22T00:00:00",
          "2022-09-29T00:00:00",
          "2022-10-06T00:00:00",
          "2022-10-13T00:00:00",
          "2022-10-20T00:00:00",
          "2022-10-27T00:00:00",
          "2022-11-03T00:00:00",
          "2022-11-10T00:00:00",
          "2022-11-17T00:00:00",
          "2022-11-24T00:00:00",
          "2022-12-01T00:00:00",
          "2022-12-08T00:00:00",
          "2022-12-15T00:00:00",
          "2022-12-22T00:00:00",
          "2022-12-29T00:00:00",
          "2023-01-05T00:00:00",
          "2023-01-12T00:00:00",
          "2023-01-19T00:00:00",
          "2023-01-26T00:00:00",
          "2023-02-02T00:00:00",
          "2023-02-09T00:00:00",
          "2023-02-16T00:00:00",
          "2023-02-23T00:00:00",
          "2023-03-02T00:00:00",
          "2023-03-09T00:00:00",
          "2023-03-16T00:00:00",
          "2023-03-23T00:00:00",
          "2023-03-30T00:00:00",
          "2023-04-06T00:00:00",
          "2023-04-13T00:00:00",
          "2023-04-20T00:00:00",
          "2023-04-27T00:00:00",
          "2023-05-04T00:00:00",
          "2023-05-11T00:00:00",
          "2023-05-18T00:00:00",
          "2023-05-25T00:00:00",
          "2023-06-01T00:00:00",
          "2023-06-08T00:00:00",
          "2023-06-15T00:00:00",
          "2023-06-22T00:00:00",
          "2023-06-29T00:00:00",
          "2023-07-06T00:00:00",
          "2023-07-13T00:00:00",
          "2023-07-20T00:00:00",
          "2023-07-27T00:00:00",
          "2023-08-03T00:00:00",
          "2023-08-10T00:00:00",
          "2023-08-17T00:00:00",
          "2023-08-24T00:00:00",
          "2023-08-31T00:00:00"
         ],
         "xaxis": "x",
         "y": [
          133947.275,
          82339.811,
          86070.25,
          115536.9,
          88075.529,
          55061.926999999996,
          55016.252,
          5328.6,
          26313,
          33985.8,
          28693.5,
          8915,
          30177.2,
          16451.9,
          1204.9,
          10745.375,
          30807.4,
          20934.435,
          15657.6,
          19889.1,
          41558.95,
          47960.8,
          50547.875,
          39572.6,
          31671.7,
          76436.45,
          49924.683,
          82595.331,
          109001.465,
          125248.657,
          134602.49,
          160735.007,
          168665.69700000001,
          155567.474,
          114264.852,
          169533.8,
          163515.885,
          61590.402,
          67937.081,
          97622.673,
          107308.754,
          143811.252,
          187812.431,
          185330.302,
          176808.911,
          167638.561,
          178050.848,
          194807.528,
          177383.129,
          175120.641,
          173650.462,
          152151.446,
          22387.216
         ],
         "yaxis": "y"
        }
       ],
       "layout": {
        "barmode": "relative",
        "legend": {
         "title": {
          "text": "variable"
         },
         "tracegroupgap": 0
        },
        "margin": {
         "t": 60
        },
        "template": {
         "data": {
          "bar": [
           {
            "error_x": {
             "color": "#2a3f5f"
            },
            "error_y": {
             "color": "#2a3f5f"
            },
            "marker": {
             "line": {
              "color": "#E5ECF6",
              "width": 0.5
             },
             "pattern": {
              "fillmode": "overlay",
              "size": 10,
              "solidity": 0.2
             }
            },
            "type": "bar"
           }
          ],
          "barpolar": [
           {
            "marker": {
             "line": {
              "color": "#E5ECF6",
              "width": 0.5
             },
             "pattern": {
              "fillmode": "overlay",
              "size": 10,
              "solidity": 0.2
             }
            },
            "type": "barpolar"
           }
          ],
          "carpet": [
           {
            "aaxis": {
             "endlinecolor": "#2a3f5f",
             "gridcolor": "white",
             "linecolor": "white",
             "minorgridcolor": "white",
             "startlinecolor": "#2a3f5f"
            },
            "baxis": {
             "endlinecolor": "#2a3f5f",
             "gridcolor": "white",
             "linecolor": "white",
             "minorgridcolor": "white",
             "startlinecolor": "#2a3f5f"
            },
            "type": "carpet"
           }
          ],
          "choropleth": [
           {
            "colorbar": {
             "outlinewidth": 0,
             "ticks": ""
            },
            "type": "choropleth"
           }
          ],
          "contour": [
           {
            "colorbar": {
             "outlinewidth": 0,
             "ticks": ""
            },
            "colorscale": [
             [
              0,
              "#0d0887"
             ],
             [
              0.1111111111111111,
              "#46039f"
             ],
             [
              0.2222222222222222,
              "#7201a8"
             ],
             [
              0.3333333333333333,
              "#9c179e"
             ],
             [
              0.4444444444444444,
              "#bd3786"
             ],
             [
              0.5555555555555556,
              "#d8576b"
             ],
             [
              0.6666666666666666,
              "#ed7953"
             ],
             [
              0.7777777777777778,
              "#fb9f3a"
             ],
             [
              0.8888888888888888,
              "#fdca26"
             ],
             [
              1,
              "#f0f921"
             ]
            ],
            "type": "contour"
           }
          ],
          "contourcarpet": [
           {
            "colorbar": {
             "outlinewidth": 0,
             "ticks": ""
            },
            "type": "contourcarpet"
           }
          ],
          "heatmap": [
           {
            "colorbar": {
             "outlinewidth": 0,
             "ticks": ""
            },
            "colorscale": [
             [
              0,
              "#0d0887"
             ],
             [
              0.1111111111111111,
              "#46039f"
             ],
             [
              0.2222222222222222,
              "#7201a8"
             ],
             [
              0.3333333333333333,
              "#9c179e"
             ],
             [
              0.4444444444444444,
              "#bd3786"
             ],
             [
              0.5555555555555556,
              "#d8576b"
             ],
             [
              0.6666666666666666,
              "#ed7953"
             ],
             [
              0.7777777777777778,
              "#fb9f3a"
             ],
             [
              0.8888888888888888,
              "#fdca26"
             ],
             [
              1,
              "#f0f921"
             ]
            ],
            "type": "heatmap"
           }
          ],
          "heatmapgl": [
           {
            "colorbar": {
             "outlinewidth": 0,
             "ticks": ""
            },
            "colorscale": [
             [
              0,
              "#0d0887"
             ],
             [
              0.1111111111111111,
              "#46039f"
             ],
             [
              0.2222222222222222,
              "#7201a8"
             ],
             [
              0.3333333333333333,
              "#9c179e"
             ],
             [
              0.4444444444444444,
              "#bd3786"
             ],
             [
              0.5555555555555556,
              "#d8576b"
             ],
             [
              0.6666666666666666,
              "#ed7953"
             ],
             [
              0.7777777777777778,
              "#fb9f3a"
             ],
             [
              0.8888888888888888,
              "#fdca26"
             ],
             [
              1,
              "#f0f921"
             ]
            ],
            "type": "heatmapgl"
           }
          ],
          "histogram": [
           {
            "marker": {
             "pattern": {
              "fillmode": "overlay",
              "size": 10,
              "solidity": 0.2
             }
            },
            "type": "histogram"
           }
          ],
          "histogram2d": [
           {
            "colorbar": {
             "outlinewidth": 0,
             "ticks": ""
            },
            "colorscale": [
             [
              0,
              "#0d0887"
             ],
             [
              0.1111111111111111,
              "#46039f"
             ],
             [
              0.2222222222222222,
              "#7201a8"
             ],
             [
              0.3333333333333333,
              "#9c179e"
             ],
             [
              0.4444444444444444,
              "#bd3786"
             ],
             [
              0.5555555555555556,
              "#d8576b"
             ],
             [
              0.6666666666666666,
              "#ed7953"
             ],
             [
              0.7777777777777778,
              "#fb9f3a"
             ],
             [
              0.8888888888888888,
              "#fdca26"
             ],
             [
              1,
              "#f0f921"
             ]
            ],
            "type": "histogram2d"
           }
          ],
          "histogram2dcontour": [
           {
            "colorbar": {
             "outlinewidth": 0,
             "ticks": ""
            },
            "colorscale": [
             [
              0,
              "#0d0887"
             ],
             [
              0.1111111111111111,
              "#46039f"
             ],
             [
              0.2222222222222222,
              "#7201a8"
             ],
             [
              0.3333333333333333,
              "#9c179e"
             ],
             [
              0.4444444444444444,
              "#bd3786"
             ],
             [
              0.5555555555555556,
              "#d8576b"
             ],
             [
              0.6666666666666666,
              "#ed7953"
             ],
             [
              0.7777777777777778,
              "#fb9f3a"
             ],
             [
              0.8888888888888888,
              "#fdca26"
             ],
             [
              1,
              "#f0f921"
             ]
            ],
            "type": "histogram2dcontour"
           }
          ],
          "mesh3d": [
           {
            "colorbar": {
             "outlinewidth": 0,
             "ticks": ""
            },
            "type": "mesh3d"
           }
          ],
          "parcoords": [
           {
            "line": {
             "colorbar": {
              "outlinewidth": 0,
              "ticks": ""
             }
            },
            "type": "parcoords"
           }
          ],
          "pie": [
           {
            "automargin": true,
            "type": "pie"
           }
          ],
          "scatter": [
           {
            "fillpattern": {
             "fillmode": "overlay",
             "size": 10,
             "solidity": 0.2
            },
            "type": "scatter"
           }
          ],
          "scatter3d": [
           {
            "line": {
             "colorbar": {
              "outlinewidth": 0,
              "ticks": ""
             }
            },
            "marker": {
             "colorbar": {
              "outlinewidth": 0,
              "ticks": ""
             }
            },
            "type": "scatter3d"
           }
          ],
          "scattercarpet": [
           {
            "marker": {
             "colorbar": {
              "outlinewidth": 0,
              "ticks": ""
             }
            },
            "type": "scattercarpet"
           }
          ],
          "scattergeo": [
           {
            "marker": {
             "colorbar": {
              "outlinewidth": 0,
              "ticks": ""
             }
            },
            "type": "scattergeo"
           }
          ],
          "scattergl": [
           {
            "marker": {
             "colorbar": {
              "outlinewidth": 0,
              "ticks": ""
             }
            },
            "type": "scattergl"
           }
          ],
          "scattermapbox": [
           {
            "marker": {
             "colorbar": {
              "outlinewidth": 0,
              "ticks": ""
             }
            },
            "type": "scattermapbox"
           }
          ],
          "scatterpolar": [
           {
            "marker": {
             "colorbar": {
              "outlinewidth": 0,
              "ticks": ""
             }
            },
            "type": "scatterpolar"
           }
          ],
          "scatterpolargl": [
           {
            "marker": {
             "colorbar": {
              "outlinewidth": 0,
              "ticks": ""
             }
            },
            "type": "scatterpolargl"
           }
          ],
          "scatterternary": [
           {
            "marker": {
             "colorbar": {
              "outlinewidth": 0,
              "ticks": ""
             }
            },
            "type": "scatterternary"
           }
          ],
          "surface": [
           {
            "colorbar": {
             "outlinewidth": 0,
             "ticks": ""
            },
            "colorscale": [
             [
              0,
              "#0d0887"
             ],
             [
              0.1111111111111111,
              "#46039f"
             ],
             [
              0.2222222222222222,
              "#7201a8"
             ],
             [
              0.3333333333333333,
              "#9c179e"
             ],
             [
              0.4444444444444444,
              "#bd3786"
             ],
             [
              0.5555555555555556,
              "#d8576b"
             ],
             [
              0.6666666666666666,
              "#ed7953"
             ],
             [
              0.7777777777777778,
              "#fb9f3a"
             ],
             [
              0.8888888888888888,
              "#fdca26"
             ],
             [
              1,
              "#f0f921"
             ]
            ],
            "type": "surface"
           }
          ],
          "table": [
           {
            "cells": {
             "fill": {
              "color": "#EBF0F8"
             },
             "line": {
              "color": "white"
             }
            },
            "header": {
             "fill": {
              "color": "#C8D4E3"
             },
             "line": {
              "color": "white"
             }
            },
            "type": "table"
           }
          ]
         },
         "layout": {
          "annotationdefaults": {
           "arrowcolor": "#2a3f5f",
           "arrowhead": 0,
           "arrowwidth": 1
          },
          "autotypenumbers": "strict",
          "coloraxis": {
           "colorbar": {
            "outlinewidth": 0,
            "ticks": ""
           }
          },
          "colorscale": {
           "diverging": [
            [
             0,
             "#8e0152"
            ],
            [
             0.1,
             "#c51b7d"
            ],
            [
             0.2,
             "#de77ae"
            ],
            [
             0.3,
             "#f1b6da"
            ],
            [
             0.4,
             "#fde0ef"
            ],
            [
             0.5,
             "#f7f7f7"
            ],
            [
             0.6,
             "#e6f5d0"
            ],
            [
             0.7,
             "#b8e186"
            ],
            [
             0.8,
             "#7fbc41"
            ],
            [
             0.9,
             "#4d9221"
            ],
            [
             1,
             "#276419"
            ]
           ],
           "sequential": [
            [
             0,
             "#0d0887"
            ],
            [
             0.1111111111111111,
             "#46039f"
            ],
            [
             0.2222222222222222,
             "#7201a8"
            ],
            [
             0.3333333333333333,
             "#9c179e"
            ],
            [
             0.4444444444444444,
             "#bd3786"
            ],
            [
             0.5555555555555556,
             "#d8576b"
            ],
            [
             0.6666666666666666,
             "#ed7953"
            ],
            [
             0.7777777777777778,
             "#fb9f3a"
            ],
            [
             0.8888888888888888,
             "#fdca26"
            ],
            [
             1,
             "#f0f921"
            ]
           ],
           "sequentialminus": [
            [
             0,
             "#0d0887"
            ],
            [
             0.1111111111111111,
             "#46039f"
            ],
            [
             0.2222222222222222,
             "#7201a8"
            ],
            [
             0.3333333333333333,
             "#9c179e"
            ],
            [
             0.4444444444444444,
             "#bd3786"
            ],
            [
             0.5555555555555556,
             "#d8576b"
            ],
            [
             0.6666666666666666,
             "#ed7953"
            ],
            [
             0.7777777777777778,
             "#fb9f3a"
            ],
            [
             0.8888888888888888,
             "#fdca26"
            ],
            [
             1,
             "#f0f921"
            ]
           ]
          },
          "colorway": [
           "#636efa",
           "#EF553B",
           "#00cc96",
           "#ab63fa",
           "#FFA15A",
           "#19d3f3",
           "#FF6692",
           "#B6E880",
           "#FF97FF",
           "#FECB52"
          ],
          "font": {
           "color": "#2a3f5f"
          },
          "geo": {
           "bgcolor": "white",
           "lakecolor": "white",
           "landcolor": "#E5ECF6",
           "showlakes": true,
           "showland": true,
           "subunitcolor": "white"
          },
          "hoverlabel": {
           "align": "left"
          },
          "hovermode": "closest",
          "mapbox": {
           "style": "light"
          },
          "paper_bgcolor": "white",
          "plot_bgcolor": "#E5ECF6",
          "polar": {
           "angularaxis": {
            "gridcolor": "white",
            "linecolor": "white",
            "ticks": ""
           },
           "bgcolor": "#E5ECF6",
           "radialaxis": {
            "gridcolor": "white",
            "linecolor": "white",
            "ticks": ""
           }
          },
          "scene": {
           "xaxis": {
            "backgroundcolor": "#E5ECF6",
            "gridcolor": "white",
            "gridwidth": 2,
            "linecolor": "white",
            "showbackground": true,
            "ticks": "",
            "zerolinecolor": "white"
           },
           "yaxis": {
            "backgroundcolor": "#E5ECF6",
            "gridcolor": "white",
            "gridwidth": 2,
            "linecolor": "white",
            "showbackground": true,
            "ticks": "",
            "zerolinecolor": "white"
           },
           "zaxis": {
            "backgroundcolor": "#E5ECF6",
            "gridcolor": "white",
            "gridwidth": 2,
            "linecolor": "white",
            "showbackground": true,
            "ticks": "",
            "zerolinecolor": "white"
           }
          },
          "shapedefaults": {
           "line": {
            "color": "#2a3f5f"
           }
          },
          "ternary": {
           "aaxis": {
            "gridcolor": "white",
            "linecolor": "white",
            "ticks": ""
           },
           "baxis": {
            "gridcolor": "white",
            "linecolor": "white",
            "ticks": ""
           },
           "bgcolor": "#E5ECF6",
           "caxis": {
            "gridcolor": "white",
            "linecolor": "white",
            "ticks": ""
           }
          },
          "title": {
           "x": 0.05
          },
          "xaxis": {
           "automargin": true,
           "gridcolor": "white",
           "linecolor": "white",
           "ticks": "",
           "title": {
            "standoff": 15
           },
           "zerolinecolor": "white",
           "zerolinewidth": 2
          },
          "yaxis": {
           "automargin": true,
           "gridcolor": "white",
           "linecolor": "white",
           "ticks": "",
           "title": {
            "standoff": 15
           },
           "zerolinecolor": "white",
           "zerolinewidth": 2
          }
         }
        },
        "xaxis": {
         "anchor": "y",
         "domain": [
          0,
          1
         ],
         "title": {
          "text": "time"
         }
        },
        "yaxis": {
         "anchor": "x",
         "domain": [
          0,
          1
         ],
         "title": {
          "text": "value"
         }
        }
       }
      }
     },
     "execution_count": null,
     "metadata": {},
     "output_type": "display_data"
    }
   ],
   "source": []
  },
  {
   "cell_type": "markdown",
   "metadata": {},
   "source": [
    "## Pivot Tables"
   ]
  },
  {
   "cell_type": "markdown",
   "metadata": {},
   "source": [
    "### Transform object to DataFrame\n",
    "\n",
    "> Only if you don't have a DataFrame yet."
   ]
  },
  {
   "cell_type": "code",
   "execution_count": null,
   "metadata": {},
   "outputs": [
    {
     "data": {
      "text/html": [
       "<div>\n",
       "<style scoped>\n",
       "    .dataframe tbody tr th:only-of-type {\n",
       "        vertical-align: middle;\n",
       "    }\n",
       "\n",
       "    .dataframe tbody tr th {\n",
       "        vertical-align: top;\n",
       "    }\n",
       "\n",
       "    .dataframe thead th {\n",
       "        text-align: right;\n",
       "    }\n",
       "</style>\n",
       "<table border=\"1\" class=\"dataframe\">\n",
       "  <thead>\n",
       "    <tr style=\"text-align: right;\">\n",
       "      <th></th>\n",
       "      <th>Coal</th>\n",
       "      <th>Cogeneration</th>\n",
       "      <th>Combined Cycle (Gas)</th>\n",
       "      <th>Eolic</th>\n",
       "      <th>Hydraulic</th>\n",
       "      <th>Non-Renewable Residues</th>\n",
       "      <th>Nuclear</th>\n",
       "      <th>Pumped Storage Hydropower</th>\n",
       "      <th>Renewables Other</th>\n",
       "      <th>Solar Photovoltaic</th>\n",
       "      <th>Solar Thermal</th>\n",
       "    </tr>\n",
       "    <tr>\n",
       "      <th>time</th>\n",
       "      <th></th>\n",
       "      <th></th>\n",
       "      <th></th>\n",
       "      <th></th>\n",
       "      <th></th>\n",
       "      <th></th>\n",
       "      <th></th>\n",
       "      <th></th>\n",
       "      <th></th>\n",
       "      <th></th>\n",
       "      <th></th>\n",
       "    </tr>\n",
       "  </thead>\n",
       "  <tbody>\n",
       "    <tr>\n",
       "      <th>2022-09-01 00:00:00</th>\n",
       "      <td>695.0</td>\n",
       "      <td>1155.1</td>\n",
       "      <td>14748.950</td>\n",
       "      <td>4387.050</td>\n",
       "      <td>899.675</td>\n",
       "      <td>273.7</td>\n",
       "      <td>6869.9</td>\n",
       "      <td>201.60</td>\n",
       "      <td>516.6</td>\n",
       "      <td>1.0</td>\n",
       "      <td>287.7</td>\n",
       "    </tr>\n",
       "    <tr>\n",
       "      <th>2022-09-01 01:00:00</th>\n",
       "      <td>750.0</td>\n",
       "      <td>1162.1</td>\n",
       "      <td>14255.600</td>\n",
       "      <td>4008.900</td>\n",
       "      <td>850.200</td>\n",
       "      <td>271.6</td>\n",
       "      <td>6881.9</td>\n",
       "      <td>117.70</td>\n",
       "      <td>514.4</td>\n",
       "      <td>1.0</td>\n",
       "      <td>247.7</td>\n",
       "    </tr>\n",
       "    <tr>\n",
       "      <th>...</th>\n",
       "      <td>...</td>\n",
       "      <td>...</td>\n",
       "      <td>...</td>\n",
       "      <td>...</td>\n",
       "      <td>...</td>\n",
       "      <td>...</td>\n",
       "      <td>...</td>\n",
       "      <td>...</td>\n",
       "      <td>...</td>\n",
       "      <td>...</td>\n",
       "      <td>...</td>\n",
       "    </tr>\n",
       "    <tr>\n",
       "      <th>2023-08-31 22:00:00</th>\n",
       "      <td>477.5</td>\n",
       "      <td>2153.4</td>\n",
       "      <td>10575.375</td>\n",
       "      <td>3057.950</td>\n",
       "      <td>3541.400</td>\n",
       "      <td>239.4</td>\n",
       "      <td>6866.0</td>\n",
       "      <td>946.25</td>\n",
       "      <td>510.7</td>\n",
       "      <td>17.6</td>\n",
       "      <td>607.9</td>\n",
       "    </tr>\n",
       "    <tr>\n",
       "      <th>2023-08-31 23:00:00</th>\n",
       "      <td>500.0</td>\n",
       "      <td>2127.7</td>\n",
       "      <td>9988.875</td>\n",
       "      <td>3028.675</td>\n",
       "      <td>3159.500</td>\n",
       "      <td>240.8</td>\n",
       "      <td>6869.0</td>\n",
       "      <td>334.95</td>\n",
       "      <td>511.9</td>\n",
       "      <td>17.4</td>\n",
       "      <td>619.8</td>\n",
       "    </tr>\n",
       "  </tbody>\n",
       "</table>\n",
       "<p>8759 rows × 11 columns</p>\n",
       "</div>"
      ],
      "text/plain": [
       "                      Coal  Cogeneration  Combined Cycle (Gas)     Eolic  \\\n",
       "time                                                                       \n",
       "2022-09-01 00:00:00  695.0        1155.1             14748.950  4387.050   \n",
       "2022-09-01 01:00:00  750.0        1162.1             14255.600  4008.900   \n",
       "...                    ...           ...                   ...       ...   \n",
       "2023-08-31 22:00:00  477.5        2153.4             10575.375  3057.950   \n",
       "2023-08-31 23:00:00  500.0        2127.7              9988.875  3028.675   \n",
       "\n",
       "                     Hydraulic  Non-Renewable Residues  Nuclear  \\\n",
       "time                                                              \n",
       "2022-09-01 00:00:00    899.675                   273.7   6869.9   \n",
       "2022-09-01 01:00:00    850.200                   271.6   6881.9   \n",
       "...                        ...                     ...      ...   \n",
       "2023-08-31 22:00:00   3541.400                   239.4   6866.0   \n",
       "2023-08-31 23:00:00   3159.500                   240.8   6869.0   \n",
       "\n",
       "                     Pumped Storage Hydropower  Renewables Other  \\\n",
       "time                                                               \n",
       "2022-09-01 00:00:00                     201.60             516.6   \n",
       "2022-09-01 01:00:00                     117.70             514.4   \n",
       "...                                        ...               ...   \n",
       "2023-08-31 22:00:00                     946.25             510.7   \n",
       "2023-08-31 23:00:00                     334.95             511.9   \n",
       "\n",
       "                     Solar Photovoltaic  Solar Thermal  \n",
       "time                                                    \n",
       "2022-09-01 00:00:00                 1.0          287.7  \n",
       "2022-09-01 01:00:00                 1.0          247.7  \n",
       "...                                 ...            ...  \n",
       "2023-08-31 22:00:00                17.6          607.9  \n",
       "2023-08-31 23:00:00                17.4          619.8  \n",
       "\n",
       "[8759 rows x 11 columns]"
      ]
     },
     "execution_count": null,
     "metadata": {},
     "output_type": "execute_result"
    }
   ],
   "source": []
  },
  {
   "cell_type": "markdown",
   "metadata": {},
   "source": [
    "### Time series categories in one column"
   ]
  },
  {
   "cell_type": "code",
   "execution_count": null,
   "metadata": {},
   "outputs": [
    {
     "data": {
      "text/html": [
       "<div>\n",
       "<style scoped>\n",
       "    .dataframe tbody tr th:only-of-type {\n",
       "        vertical-align: middle;\n",
       "    }\n",
       "\n",
       "    .dataframe tbody tr th {\n",
       "        vertical-align: top;\n",
       "    }\n",
       "\n",
       "    .dataframe thead th {\n",
       "        text-align: right;\n",
       "    }\n",
       "</style>\n",
       "<table border=\"1\" class=\"dataframe\">\n",
       "  <thead>\n",
       "    <tr style=\"text-align: right;\">\n",
       "      <th></th>\n",
       "      <th>technology</th>\n",
       "      <th>generation</th>\n",
       "    </tr>\n",
       "    <tr>\n",
       "      <th>time</th>\n",
       "      <th></th>\n",
       "      <th></th>\n",
       "    </tr>\n",
       "  </thead>\n",
       "  <tbody>\n",
       "    <tr>\n",
       "      <th>2022-09-01 00:00:00</th>\n",
       "      <td>Coal</td>\n",
       "      <td>695.0</td>\n",
       "    </tr>\n",
       "    <tr>\n",
       "      <th>2022-09-01 01:00:00</th>\n",
       "      <td>Coal</td>\n",
       "      <td>750.0</td>\n",
       "    </tr>\n",
       "    <tr>\n",
       "      <th>...</th>\n",
       "      <td>...</td>\n",
       "      <td>...</td>\n",
       "    </tr>\n",
       "    <tr>\n",
       "      <th>2023-08-31 22:00:00</th>\n",
       "      <td>Solar Thermal</td>\n",
       "      <td>607.9</td>\n",
       "    </tr>\n",
       "    <tr>\n",
       "      <th>2023-08-31 23:00:00</th>\n",
       "      <td>Solar Thermal</td>\n",
       "      <td>619.8</td>\n",
       "    </tr>\n",
       "  </tbody>\n",
       "</table>\n",
       "<p>96349 rows × 2 columns</p>\n",
       "</div>"
      ],
      "text/plain": [
       "                        technology  generation\n",
       "time                                          \n",
       "2022-09-01 00:00:00           Coal       695.0\n",
       "2022-09-01 01:00:00           Coal       750.0\n",
       "...                            ...         ...\n",
       "2023-08-31 22:00:00  Solar Thermal       607.9\n",
       "2023-08-31 23:00:00  Solar Thermal       619.8\n",
       "\n",
       "[96349 rows x 2 columns]"
      ]
     },
     "execution_count": null,
     "metadata": {},
     "output_type": "execute_result"
    }
   ],
   "source": []
  },
  {
   "cell_type": "markdown",
   "metadata": {},
   "source": [
    "### Create columns with datetime information"
   ]
  },
  {
   "cell_type": "code",
   "execution_count": null,
   "metadata": {},
   "outputs": [
    {
     "data": {
      "text/html": [
       "<div>\n",
       "<style scoped>\n",
       "    .dataframe tbody tr th:only-of-type {\n",
       "        vertical-align: middle;\n",
       "    }\n",
       "\n",
       "    .dataframe tbody tr th {\n",
       "        vertical-align: top;\n",
       "    }\n",
       "\n",
       "    .dataframe thead th {\n",
       "        text-align: right;\n",
       "    }\n",
       "</style>\n",
       "<table border=\"1\" class=\"dataframe\">\n",
       "  <thead>\n",
       "    <tr style=\"text-align: right;\">\n",
       "      <th></th>\n",
       "      <th>technology</th>\n",
       "      <th>generation</th>\n",
       "      <th>year</th>\n",
       "      <th>month</th>\n",
       "      <th>day</th>\n",
       "      <th>hour</th>\n",
       "    </tr>\n",
       "    <tr>\n",
       "      <th>time</th>\n",
       "      <th></th>\n",
       "      <th></th>\n",
       "      <th></th>\n",
       "      <th></th>\n",
       "      <th></th>\n",
       "      <th></th>\n",
       "    </tr>\n",
       "  </thead>\n",
       "  <tbody>\n",
       "    <tr>\n",
       "      <th>2022-09-01 00:00:00</th>\n",
       "      <td>Coal</td>\n",
       "      <td>695.00</td>\n",
       "      <td>2022</td>\n",
       "      <td>9</td>\n",
       "      <td>1</td>\n",
       "      <td>0</td>\n",
       "    </tr>\n",
       "    <tr>\n",
       "      <th>2022-09-01 01:00:00</th>\n",
       "      <td>Coal</td>\n",
       "      <td>750.00</td>\n",
       "      <td>2022</td>\n",
       "      <td>9</td>\n",
       "      <td>1</td>\n",
       "      <td>1</td>\n",
       "    </tr>\n",
       "    <tr>\n",
       "      <th>...</th>\n",
       "      <td>...</td>\n",
       "      <td>...</td>\n",
       "      <td>...</td>\n",
       "      <td>...</td>\n",
       "      <td>...</td>\n",
       "      <td>...</td>\n",
       "    </tr>\n",
       "    <tr>\n",
       "      <th>2023-08-31 22:00:00</th>\n",
       "      <td>Solar Thermal</td>\n",
       "      <td>607.90</td>\n",
       "      <td>2023</td>\n",
       "      <td>8</td>\n",
       "      <td>31</td>\n",
       "      <td>22</td>\n",
       "    </tr>\n",
       "    <tr>\n",
       "      <th>2023-08-31 23:00:00</th>\n",
       "      <td>Solar Thermal</td>\n",
       "      <td>619.80</td>\n",
       "      <td>2023</td>\n",
       "      <td>8</td>\n",
       "      <td>31</td>\n",
       "      <td>23</td>\n",
       "    </tr>\n",
       "  </tbody>\n",
       "</table>\n",
       "<p>96349 rows × 6 columns</p>\n",
       "</div>"
      ],
      "text/plain": [
       "                        technology  generation  year  month  day  hour\n",
       "time                                                                  \n",
       "2022-09-01 00:00:00           Coal      695.00  2022      9    1     0\n",
       "2022-09-01 01:00:00           Coal      750.00  2022      9    1     1\n",
       "...                            ...         ...   ...    ...  ...   ...\n",
       "2023-08-31 22:00:00  Solar Thermal      607.90  2023      8   31    22\n",
       "2023-08-31 23:00:00  Solar Thermal      619.80  2023      8   31    23\n",
       "\n",
       "[96349 rows x 6 columns]"
      ]
     },
     "execution_count": null,
     "metadata": {},
     "output_type": "execute_result"
    }
   ],
   "source": []
  },
  {
   "cell_type": "markdown",
   "metadata": {},
   "source": [
    "### Process `pivot_table`\n",
    "\n",
    "- Use this methodology."
   ]
  },
  {
   "cell_type": "code",
   "execution_count": null,
   "metadata": {},
   "outputs": [
    {
     "data": {
      "text/html": [
       "<div>\n",
       "<style scoped>\n",
       "    .dataframe tbody tr th:only-of-type {\n",
       "        vertical-align: middle;\n",
       "    }\n",
       "\n",
       "    .dataframe tbody tr th {\n",
       "        vertical-align: top;\n",
       "    }\n",
       "\n",
       "    .dataframe thead tr th {\n",
       "        text-align: left;\n",
       "    }\n",
       "\n",
       "    .dataframe thead tr:last-of-type th {\n",
       "        text-align: right;\n",
       "    }\n",
       "</style>\n",
       "<table border=\"1\" class=\"dataframe\">\n",
       "  <thead>\n",
       "    <tr>\n",
       "      <th>year</th>\n",
       "      <th colspan=\"4\" halign=\"left\">2022</th>\n",
       "      <th colspan=\"8\" halign=\"left\">2023</th>\n",
       "    </tr>\n",
       "    <tr>\n",
       "      <th>month</th>\n",
       "      <th>9</th>\n",
       "      <th>10</th>\n",
       "      <th>11</th>\n",
       "      <th>12</th>\n",
       "      <th>1</th>\n",
       "      <th>2</th>\n",
       "      <th>3</th>\n",
       "      <th>4</th>\n",
       "      <th>5</th>\n",
       "      <th>6</th>\n",
       "      <th>7</th>\n",
       "      <th>8</th>\n",
       "    </tr>\n",
       "    <tr>\n",
       "      <th>technology</th>\n",
       "      <th></th>\n",
       "      <th></th>\n",
       "      <th></th>\n",
       "      <th></th>\n",
       "      <th></th>\n",
       "      <th></th>\n",
       "      <th></th>\n",
       "      <th></th>\n",
       "      <th></th>\n",
       "      <th></th>\n",
       "      <th></th>\n",
       "      <th></th>\n",
       "    </tr>\n",
       "  </thead>\n",
       "  <tbody>\n",
       "    <tr>\n",
       "      <th>Coal</th>\n",
       "      <td>639985.52</td>\n",
       "      <td>389282.27</td>\n",
       "      <td>338313.85</td>\n",
       "      <td>725039.35</td>\n",
       "      <td>321210.35</td>\n",
       "      <td>431672.92</td>\n",
       "      <td>414233.33</td>\n",
       "      <td>254348.33</td>\n",
       "      <td>247080.56</td>\n",
       "      <td>300360.57</td>\n",
       "      <td>287284.16</td>\n",
       "      <td>421115.28</td>\n",
       "    </tr>\n",
       "    <tr>\n",
       "      <th>Cogeneration</th>\n",
       "      <td>758832.67</td>\n",
       "      <td>1117045.45</td>\n",
       "      <td>1453732.37</td>\n",
       "      <td>1114179.28</td>\n",
       "      <td>1222612.61</td>\n",
       "      <td>1718877.59</td>\n",
       "      <td>1771577.99</td>\n",
       "      <td>1590191.49</td>\n",
       "      <td>1723153.52</td>\n",
       "      <td>1775275.34</td>\n",
       "      <td>1513263.49</td>\n",
       "      <td>1316018.96</td>\n",
       "    </tr>\n",
       "    <tr>\n",
       "      <th>...</th>\n",
       "      <td>...</td>\n",
       "      <td>...</td>\n",
       "      <td>...</td>\n",
       "      <td>...</td>\n",
       "      <td>...</td>\n",
       "      <td>...</td>\n",
       "      <td>...</td>\n",
       "      <td>...</td>\n",
       "      <td>...</td>\n",
       "      <td>...</td>\n",
       "      <td>...</td>\n",
       "      <td>...</td>\n",
       "    </tr>\n",
       "    <tr>\n",
       "      <th>Solar Photovoltaic</th>\n",
       "      <td>2636219.18</td>\n",
       "      <td>2056758.27</td>\n",
       "      <td>1535995.49</td>\n",
       "      <td>1176871.03</td>\n",
       "      <td>1744956.45</td>\n",
       "      <td>2181165.12</td>\n",
       "      <td>2985426.08</td>\n",
       "      <td>3635891.25</td>\n",
       "      <td>3803151.81</td>\n",
       "      <td>3855930.01</td>\n",
       "      <td>4491017.67</td>\n",
       "      <td>4403223.58</td>\n",
       "    </tr>\n",
       "    <tr>\n",
       "      <th>Solar Thermal</th>\n",
       "      <td>443376.24</td>\n",
       "      <td>192219.61</td>\n",
       "      <td>113865.20</td>\n",
       "      <td>67765.48</td>\n",
       "      <td>129341.59</td>\n",
       "      <td>189183.83</td>\n",
       "      <td>416953.99</td>\n",
       "      <td>645285.24</td>\n",
       "      <td>518091.79</td>\n",
       "      <td>581982.91</td>\n",
       "      <td>800023.05</td>\n",
       "      <td>757878.19</td>\n",
       "    </tr>\n",
       "  </tbody>\n",
       "</table>\n",
       "<p>11 rows × 12 columns</p>\n",
       "</div>"
      ],
      "text/plain": [
       "year                     2022                                        2023  \\\n",
       "month                      9          10         11         12         1    \n",
       "technology                                                                  \n",
       "Coal                639985.52  389282.27  338313.85  725039.35  321210.35   \n",
       "Cogeneration        758832.67 1117045.45 1453732.37 1114179.28 1222612.61   \n",
       "...                       ...        ...        ...        ...        ...   \n",
       "Solar Photovoltaic 2636219.18 2056758.27 1535995.49 1176871.03 1744956.45   \n",
       "Solar Thermal       443376.24  192219.61  113865.20   67765.48  129341.59   \n",
       "\n",
       "year                                                                       \\\n",
       "month                      2          3          4          5          6    \n",
       "technology                                                                  \n",
       "Coal                431672.92  414233.33  254348.33  247080.56  300360.57   \n",
       "Cogeneration       1718877.59 1771577.99 1590191.49 1723153.52 1775275.34   \n",
       "...                       ...        ...        ...        ...        ...   \n",
       "Solar Photovoltaic 2181165.12 2985426.08 3635891.25 3803151.81 3855930.01   \n",
       "Solar Thermal       189183.83  416953.99  645285.24  518091.79  581982.91   \n",
       "\n",
       "year                                      \n",
       "month                      7          8   \n",
       "technology                                \n",
       "Coal                287284.16  421115.28  \n",
       "Cogeneration       1513263.49 1316018.96  \n",
       "...                       ...        ...  \n",
       "Solar Photovoltaic 4491017.67 4403223.58  \n",
       "Solar Thermal       800023.05  757878.19  \n",
       "\n",
       "[11 rows x 12 columns]"
      ]
     },
     "execution_count": null,
     "metadata": {},
     "output_type": "execute_result"
    }
   ],
   "source": []
  },
  {
   "cell_type": "markdown",
   "metadata": {},
   "source": [
    "### Style DataFrame"
   ]
  },
  {
   "cell_type": "code",
   "execution_count": null,
   "metadata": {},
   "outputs": [
    {
     "data": {
      "text/html": [
       "<style type=\"text/css\">\n",
       "#T_7b3c8_row0_col0, #T_7b3c8_row1_col9, #T_7b3c8_row2_col4 {\n",
       "  background-color: #f9812e;\n",
       "  color: #f1f1f1;\n",
       "}\n",
       "#T_7b3c8_row0_col1 {\n",
       "  background-color: #e85d0c;\n",
       "  color: #f1f1f1;\n",
       "}\n",
       "#T_7b3c8_row0_col2 {\n",
       "  background-color: #9f3303;\n",
       "  color: #f1f1f1;\n",
       "}\n",
       "#T_7b3c8_row0_col3 {\n",
       "  background-color: #d54601;\n",
       "  color: #f1f1f1;\n",
       "}\n",
       "#T_7b3c8_row0_col4 {\n",
       "  background-color: #7f2704;\n",
       "  color: #f1f1f1;\n",
       "}\n",
       "#T_7b3c8_row0_col5 {\n",
       "  background-color: #f06712;\n",
       "  color: #f1f1f1;\n",
       "}\n",
       "#T_7b3c8_row0_col6 {\n",
       "  background-color: #a13403;\n",
       "  color: #f1f1f1;\n",
       "}\n",
       "#T_7b3c8_row0_col7, #T_7b3c8_row1_col0 {\n",
       "  background-color: #ec620f;\n",
       "  color: #f1f1f1;\n",
       "}\n",
       "#T_7b3c8_row0_col8 {\n",
       "  background-color: #de5005;\n",
       "  color: #f1f1f1;\n",
       "}\n",
       "#T_7b3c8_row0_col9 {\n",
       "  background-color: #fda55f;\n",
       "  color: #000000;\n",
       "}\n",
       "#T_7b3c8_row0_col10, #T_7b3c8_row1_col8 {\n",
       "  background-color: #fd8c3b;\n",
       "  color: #f1f1f1;\n",
       "}\n",
       "#T_7b3c8_row0_col11 {\n",
       "  background-color: #f77b28;\n",
       "  color: #f1f1f1;\n",
       "}\n",
       "#T_7b3c8_row1_col1 {\n",
       "  background-color: #f98230;\n",
       "  color: #f1f1f1;\n",
       "}\n",
       "#T_7b3c8_row1_col2 {\n",
       "  background-color: #f67925;\n",
       "  color: #f1f1f1;\n",
       "}\n",
       "#T_7b3c8_row1_col3 {\n",
       "  background-color: #e45709;\n",
       "  color: #f1f1f1;\n",
       "}\n",
       "#T_7b3c8_row1_col4 {\n",
       "  background-color: #e65a0b;\n",
       "  color: #f1f1f1;\n",
       "}\n",
       "#T_7b3c8_row1_col5 {\n",
       "  background-color: #f26c16;\n",
       "  color: #f1f1f1;\n",
       "}\n",
       "#T_7b3c8_row1_col6, #T_7b3c8_row1_col10 {\n",
       "  background-color: #e5590a;\n",
       "  color: #f1f1f1;\n",
       "}\n",
       "#T_7b3c8_row1_col7 {\n",
       "  background-color: #f26d17;\n",
       "  color: #f1f1f1;\n",
       "}\n",
       "#T_7b3c8_row1_col11 {\n",
       "  background-color: #e75c0c;\n",
       "  color: #f1f1f1;\n",
       "}\n",
       "#T_7b3c8_row2_col0 {\n",
       "  background-color: #fee1c4;\n",
       "  color: #000000;\n",
       "}\n",
       "#T_7b3c8_row2_col1, #T_7b3c8_row5_col0, #T_7b3c8_row10_col11 {\n",
       "  background-color: #feead5;\n",
       "  color: #000000;\n",
       "}\n",
       "#T_7b3c8_row2_col2 {\n",
       "  background-color: #fedcbb;\n",
       "  color: #000000;\n",
       "}\n",
       "#T_7b3c8_row2_col3 {\n",
       "  background-color: #fdac67;\n",
       "  color: #000000;\n",
       "}\n",
       "#T_7b3c8_row2_col5 {\n",
       "  background-color: #fdb87c;\n",
       "  color: #000000;\n",
       "}\n",
       "#T_7b3c8_row2_col6 {\n",
       "  background-color: #fdc590;\n",
       "  color: #000000;\n",
       "}\n",
       "#T_7b3c8_row2_col7 {\n",
       "  background-color: #fdd5ad;\n",
       "  color: #000000;\n",
       "}\n",
       "#T_7b3c8_row2_col8 {\n",
       "  background-color: #fddab6;\n",
       "  color: #000000;\n",
       "}\n",
       "#T_7b3c8_row2_col9 {\n",
       "  background-color: #fdd1a3;\n",
       "  color: #000000;\n",
       "}\n",
       "#T_7b3c8_row2_col10 {\n",
       "  background-color: #fedebd;\n",
       "  color: #000000;\n",
       "}\n",
       "#T_7b3c8_row2_col11 {\n",
       "  background-color: #fee5cb;\n",
       "  color: #000000;\n",
       "}\n",
       "#T_7b3c8_row3_col0 {\n",
       "  background-color: #862a04;\n",
       "  color: #f1f1f1;\n",
       "}\n",
       "#T_7b3c8_row3_col1 {\n",
       "  background-color: #a23503;\n",
       "  color: #f1f1f1;\n",
       "}\n",
       "#T_7b3c8_row3_col2 {\n",
       "  background-color: #f77a27;\n",
       "  color: #f1f1f1;\n",
       "}\n",
       "#T_7b3c8_row3_col3 {\n",
       "  background-color: #fc8a39;\n",
       "  color: #f1f1f1;\n",
       "}\n",
       "#T_7b3c8_row3_col4 {\n",
       "  background-color: #fdc794;\n",
       "  color: #000000;\n",
       "}\n",
       "#T_7b3c8_row3_col5 {\n",
       "  background-color: #fb8836;\n",
       "  color: #f1f1f1;\n",
       "}\n",
       "#T_7b3c8_row3_col6 {\n",
       "  background-color: #fdb678;\n",
       "  color: #000000;\n",
       "}\n",
       "#T_7b3c8_row3_col7 {\n",
       "  background-color: #fdc28b;\n",
       "  color: #000000;\n",
       "}\n",
       "#T_7b3c8_row3_col8 {\n",
       "  background-color: #fdb170;\n",
       "  color: #000000;\n",
       "}\n",
       "#T_7b3c8_row3_col9 {\n",
       "  background-color: #f9802d;\n",
       "  color: #f1f1f1;\n",
       "}\n",
       "#T_7b3c8_row3_col10 {\n",
       "  background-color: #f4721e;\n",
       "  color: #f1f1f1;\n",
       "}\n",
       "#T_7b3c8_row3_col11 {\n",
       "  background-color: #f57520;\n",
       "  color: #f1f1f1;\n",
       "}\n",
       "#T_7b3c8_row4_col0 {\n",
       "  background-color: #fdb576;\n",
       "  color: #000000;\n",
       "}\n",
       "#T_7b3c8_row4_col1 {\n",
       "  background-color: #fdca99;\n",
       "  color: #000000;\n",
       "}\n",
       "#T_7b3c8_row4_col2 {\n",
       "  background-color: #fdd9b4;\n",
       "  color: #000000;\n",
       "}\n",
       "#T_7b3c8_row4_col3 {\n",
       "  background-color: #fee2c6;\n",
       "  color: #000000;\n",
       "}\n",
       "#T_7b3c8_row4_col4 {\n",
       "  background-color: #fdd4aa;\n",
       "  color: #000000;\n",
       "}\n",
       "#T_7b3c8_row4_col5 {\n",
       "  background-color: #fdc692;\n",
       "  color: #000000;\n",
       "}\n",
       "#T_7b3c8_row4_col6 {\n",
       "  background-color: #fda863;\n",
       "  color: #000000;\n",
       "}\n",
       "#T_7b3c8_row4_col7 {\n",
       "  background-color: #fd9141;\n",
       "  color: #000000;\n",
       "}\n",
       "#T_7b3c8_row4_col8 {\n",
       "  background-color: #fc8b3a;\n",
       "  color: #f1f1f1;\n",
       "}\n",
       "#T_7b3c8_row4_col9 {\n",
       "  background-color: #fc8937;\n",
       "  color: #f1f1f1;\n",
       "}\n",
       "#T_7b3c8_row4_col10 {\n",
       "  background-color: #f3701b;\n",
       "  color: #f1f1f1;\n",
       "}\n",
       "#T_7b3c8_row4_col11 {\n",
       "  background-color: #f5741f;\n",
       "  color: #f1f1f1;\n",
       "}\n",
       "#T_7b3c8_row5_col1, #T_7b3c8_row5_col3 {\n",
       "  background-color: #fee3c8;\n",
       "  color: #000000;\n",
       "}\n",
       "#T_7b3c8_row5_col2 {\n",
       "  background-color: #fddbb8;\n",
       "  color: #000000;\n",
       "}\n",
       "#T_7b3c8_row5_col4 {\n",
       "  background-color: #fee0c3;\n",
       "  color: #000000;\n",
       "}\n",
       "#T_7b3c8_row5_col5, #T_7b3c8_row5_col8 {\n",
       "  background-color: #fdd5ab;\n",
       "  color: #000000;\n",
       "}\n",
       "#T_7b3c8_row5_col6, #T_7b3c8_row5_col9 {\n",
       "  background-color: #fdd3a9;\n",
       "  color: #000000;\n",
       "}\n",
       "#T_7b3c8_row5_col7 {\n",
       "  background-color: #fdd8b2;\n",
       "  color: #000000;\n",
       "}\n",
       "#T_7b3c8_row5_col10 {\n",
       "  background-color: #fdd9b5;\n",
       "  color: #000000;\n",
       "}\n",
       "#T_7b3c8_row5_col11 {\n",
       "  background-color: #fedebf;\n",
       "  color: #000000;\n",
       "}\n",
       "#T_7b3c8_row6_col0, #T_7b3c8_row7_col7, #T_7b3c8_row7_col8 {\n",
       "  background-color: #fff2e6;\n",
       "  color: #000000;\n",
       "}\n",
       "#T_7b3c8_row6_col1, #T_7b3c8_row6_col11, #T_7b3c8_row7_col2, #T_7b3c8_row8_col0, #T_7b3c8_row8_col3, #T_7b3c8_row8_col8, #T_7b3c8_row8_col9, #T_7b3c8_row8_col10, #T_7b3c8_row8_col11 {\n",
       "  background-color: #fff1e3;\n",
       "  color: #000000;\n",
       "}\n",
       "#T_7b3c8_row6_col2, #T_7b3c8_row6_col9, #T_7b3c8_row6_col10, #T_7b3c8_row7_col10, #T_7b3c8_row8_col7 {\n",
       "  background-color: #fff2e5;\n",
       "  color: #000000;\n",
       "}\n",
       "#T_7b3c8_row6_col3, #T_7b3c8_row6_col8, #T_7b3c8_row8_col1, #T_7b3c8_row8_col2, #T_7b3c8_row8_col5 {\n",
       "  background-color: #fff0e2;\n",
       "  color: #000000;\n",
       "}\n",
       "#T_7b3c8_row6_col4, #T_7b3c8_row6_col6, #T_7b3c8_row6_col7, #T_7b3c8_row7_col5, #T_7b3c8_row7_col6, #T_7b3c8_row7_col11, #T_7b3c8_row10_col6 {\n",
       "  background-color: #ffefe0;\n",
       "  color: #000000;\n",
       "}\n",
       "#T_7b3c8_row6_col5 {\n",
       "  background-color: #fff3e6;\n",
       "  color: #000000;\n",
       "}\n",
       "#T_7b3c8_row7_col0 {\n",
       "  background-color: #feecda;\n",
       "  color: #000000;\n",
       "}\n",
       "#T_7b3c8_row7_col1 {\n",
       "  background-color: #fff0e1;\n",
       "  color: #000000;\n",
       "}\n",
       "#T_7b3c8_row7_col3 {\n",
       "  background-color: #feebd7;\n",
       "  color: #000000;\n",
       "}\n",
       "#T_7b3c8_row7_col4, #T_7b3c8_row7_col9, #T_7b3c8_row8_col4, #T_7b3c8_row8_col6 {\n",
       "  background-color: #fff1e4;\n",
       "  color: #000000;\n",
       "}\n",
       "#T_7b3c8_row9_col0, #T_7b3c8_row9_col2, #T_7b3c8_row9_col4, #T_7b3c8_row9_col5, #T_7b3c8_row9_col6, #T_7b3c8_row9_col9, #T_7b3c8_row9_col11 {\n",
       "  background-color: #fff4e8;\n",
       "  color: #000000;\n",
       "}\n",
       "#T_7b3c8_row9_col1, #T_7b3c8_row9_col3, #T_7b3c8_row9_col10, #T_7b3c8_row10_col1, #T_7b3c8_row10_col5 {\n",
       "  background-color: #fff3e7;\n",
       "  color: #000000;\n",
       "}\n",
       "#T_7b3c8_row9_col7, #T_7b3c8_row10_col4 {\n",
       "  background-color: #fff4e9;\n",
       "  color: #000000;\n",
       "}\n",
       "#T_7b3c8_row9_col8, #T_7b3c8_row10_col3 {\n",
       "  background-color: #fff5eb;\n",
       "  color: #000000;\n",
       "}\n",
       "#T_7b3c8_row10_col0 {\n",
       "  background-color: #ffefdf;\n",
       "  color: #000000;\n",
       "}\n",
       "#T_7b3c8_row10_col2 {\n",
       "  background-color: #fff5ea;\n",
       "  color: #000000;\n",
       "}\n",
       "#T_7b3c8_row10_col7 {\n",
       "  background-color: #feecd9;\n",
       "  color: #000000;\n",
       "}\n",
       "#T_7b3c8_row10_col8 {\n",
       "  background-color: #ffeedd;\n",
       "  color: #000000;\n",
       "}\n",
       "#T_7b3c8_row10_col9 {\n",
       "  background-color: #feeddc;\n",
       "  color: #000000;\n",
       "}\n",
       "#T_7b3c8_row10_col10 {\n",
       "  background-color: #fee9d4;\n",
       "  color: #000000;\n",
       "}\n",
       "</style>\n",
       "<table id=\"T_7b3c8\">\n",
       "  <thead>\n",
       "    <tr>\n",
       "      <th class=\"index_name level0\" >year</th>\n",
       "      <th id=\"T_7b3c8_level0_col0\" class=\"col_heading level0 col0\" colspan=\"4\">2022</th>\n",
       "      <th id=\"T_7b3c8_level0_col4\" class=\"col_heading level0 col4\" colspan=\"8\">2023</th>\n",
       "    </tr>\n",
       "    <tr>\n",
       "      <th class=\"index_name level1\" >month</th>\n",
       "      <th id=\"T_7b3c8_level1_col0\" class=\"col_heading level1 col0\" >9</th>\n",
       "      <th id=\"T_7b3c8_level1_col1\" class=\"col_heading level1 col1\" >10</th>\n",
       "      <th id=\"T_7b3c8_level1_col2\" class=\"col_heading level1 col2\" >11</th>\n",
       "      <th id=\"T_7b3c8_level1_col3\" class=\"col_heading level1 col3\" >12</th>\n",
       "      <th id=\"T_7b3c8_level1_col4\" class=\"col_heading level1 col4\" >1</th>\n",
       "      <th id=\"T_7b3c8_level1_col5\" class=\"col_heading level1 col5\" >2</th>\n",
       "      <th id=\"T_7b3c8_level1_col6\" class=\"col_heading level1 col6\" >3</th>\n",
       "      <th id=\"T_7b3c8_level1_col7\" class=\"col_heading level1 col7\" >4</th>\n",
       "      <th id=\"T_7b3c8_level1_col8\" class=\"col_heading level1 col8\" >5</th>\n",
       "      <th id=\"T_7b3c8_level1_col9\" class=\"col_heading level1 col9\" >6</th>\n",
       "      <th id=\"T_7b3c8_level1_col10\" class=\"col_heading level1 col10\" >7</th>\n",
       "      <th id=\"T_7b3c8_level1_col11\" class=\"col_heading level1 col11\" >8</th>\n",
       "    </tr>\n",
       "    <tr>\n",
       "      <th class=\"index_name level0\" >technology</th>\n",
       "      <th class=\"blank col0\" >&nbsp;</th>\n",
       "      <th class=\"blank col1\" >&nbsp;</th>\n",
       "      <th class=\"blank col2\" >&nbsp;</th>\n",
       "      <th class=\"blank col3\" >&nbsp;</th>\n",
       "      <th class=\"blank col4\" >&nbsp;</th>\n",
       "      <th class=\"blank col5\" >&nbsp;</th>\n",
       "      <th class=\"blank col6\" >&nbsp;</th>\n",
       "      <th class=\"blank col7\" >&nbsp;</th>\n",
       "      <th class=\"blank col8\" >&nbsp;</th>\n",
       "      <th class=\"blank col9\" >&nbsp;</th>\n",
       "      <th class=\"blank col10\" >&nbsp;</th>\n",
       "      <th class=\"blank col11\" >&nbsp;</th>\n",
       "    </tr>\n",
       "  </thead>\n",
       "  <tbody>\n",
       "    <tr>\n",
       "      <th id=\"T_7b3c8_level0_row0\" class=\"row_heading level0 row0\" >Eolic</th>\n",
       "      <td id=\"T_7b3c8_row0_col0\" class=\"data row0 col0\" >4.06</td>\n",
       "      <td id=\"T_7b3c8_row0_col1\" class=\"data row0 col1\" >5.00</td>\n",
       "      <td id=\"T_7b3c8_row0_col2\" class=\"data row0 col2\" >6.66</td>\n",
       "      <td id=\"T_7b3c8_row0_col3\" class=\"data row0 col3\" >5.67</td>\n",
       "      <td id=\"T_7b3c8_row0_col4\" class=\"data row0 col4\" >7.43</td>\n",
       "      <td id=\"T_7b3c8_row0_col5\" class=\"data row0 col5\" >4.70</td>\n",
       "      <td id=\"T_7b3c8_row0_col6\" class=\"data row0 col6\" >6.60</td>\n",
       "      <td id=\"T_7b3c8_row0_col7\" class=\"data row0 col7\" >4.84</td>\n",
       "      <td id=\"T_7b3c8_row0_col8\" class=\"data row0 col8\" >5.37</td>\n",
       "      <td id=\"T_7b3c8_row0_col9\" class=\"data row0 col9\" >3.08</td>\n",
       "      <td id=\"T_7b3c8_row0_col10\" class=\"data row0 col10\" >3.76</td>\n",
       "      <td id=\"T_7b3c8_row0_col11\" class=\"data row0 col11\" >4.20</td>\n",
       "    </tr>\n",
       "    <tr>\n",
       "      <th id=\"T_7b3c8_level0_row1\" class=\"row_heading level0 row1\" >Nuclear</th>\n",
       "      <td id=\"T_7b3c8_row1_col0\" class=\"data row1 col0\" >4.85</td>\n",
       "      <td id=\"T_7b3c8_row1_col1\" class=\"data row1 col1\" >4.02</td>\n",
       "      <td id=\"T_7b3c8_row1_col2\" class=\"data row1 col2\" >4.24</td>\n",
       "      <td id=\"T_7b3c8_row1_col3\" class=\"data row1 col3\" >5.16</td>\n",
       "      <td id=\"T_7b3c8_row1_col4\" class=\"data row1 col4\" >5.08</td>\n",
       "      <td id=\"T_7b3c8_row1_col5\" class=\"data row1 col5\" >4.60</td>\n",
       "      <td id=\"T_7b3c8_row1_col6\" class=\"data row1 col6\" >5.11</td>\n",
       "      <td id=\"T_7b3c8_row1_col7\" class=\"data row1 col7\" >4.57</td>\n",
       "      <td id=\"T_7b3c8_row1_col8\" class=\"data row1 col8\" >3.76</td>\n",
       "      <td id=\"T_7b3c8_row1_col9\" class=\"data row1 col9\" >4.04</td>\n",
       "      <td id=\"T_7b3c8_row1_col10\" class=\"data row1 col10\" >5.13</td>\n",
       "      <td id=\"T_7b3c8_row1_col11\" class=\"data row1 col11\" >5.01</td>\n",
       "    </tr>\n",
       "    <tr>\n",
       "      <th id=\"T_7b3c8_level0_row2\" class=\"row_heading level0 row2\" >Hydraulic</th>\n",
       "      <td id=\"T_7b3c8_row2_col0\" class=\"data row2 col0\" >1.20</td>\n",
       "      <td id=\"T_7b3c8_row2_col1\" class=\"data row2 col1\" >0.77</td>\n",
       "      <td id=\"T_7b3c8_row2_col2\" class=\"data row2 col2\" >1.39</td>\n",
       "      <td id=\"T_7b3c8_row2_col3\" class=\"data row2 col3\" >2.89</td>\n",
       "      <td id=\"T_7b3c8_row2_col4\" class=\"data row2 col4\" >4.04</td>\n",
       "      <td id=\"T_7b3c8_row2_col5\" class=\"data row2 col5\" >2.55</td>\n",
       "      <td id=\"T_7b3c8_row2_col6\" class=\"data row2 col6\" >2.21</td>\n",
       "      <td id=\"T_7b3c8_row2_col7\" class=\"data row2 col7\" >1.70</td>\n",
       "      <td id=\"T_7b3c8_row2_col8\" class=\"data row2 col8\" >1.48</td>\n",
       "      <td id=\"T_7b3c8_row2_col9\" class=\"data row2 col9\" >1.88</td>\n",
       "      <td id=\"T_7b3c8_row2_col10\" class=\"data row2 col10\" >1.35</td>\n",
       "      <td id=\"T_7b3c8_row2_col11\" class=\"data row2 col11\" >1.07</td>\n",
       "    </tr>\n",
       "    <tr>\n",
       "      <th id=\"T_7b3c8_level0_row3\" class=\"row_heading level0 row3\" >Combined Cycle (Gas)</th>\n",
       "      <td id=\"T_7b3c8_row3_col0\" class=\"data row3 col0\" >7.24</td>\n",
       "      <td id=\"T_7b3c8_row3_col1\" class=\"data row3 col1\" >6.58</td>\n",
       "      <td id=\"T_7b3c8_row3_col2\" class=\"data row3 col2\" >4.23</td>\n",
       "      <td id=\"T_7b3c8_row3_col3\" class=\"data row3 col3\" >3.81</td>\n",
       "      <td id=\"T_7b3c8_row3_col4\" class=\"data row3 col4\" >2.15</td>\n",
       "      <td id=\"T_7b3c8_row3_col5\" class=\"data row3 col5\" >3.88</td>\n",
       "      <td id=\"T_7b3c8_row3_col6\" class=\"data row3 col6\" >2.62</td>\n",
       "      <td id=\"T_7b3c8_row3_col7\" class=\"data row3 col7\" >2.31</td>\n",
       "      <td id=\"T_7b3c8_row3_col8\" class=\"data row3 col8\" >2.75</td>\n",
       "      <td id=\"T_7b3c8_row3_col9\" class=\"data row3 col9\" >4.06</td>\n",
       "      <td id=\"T_7b3c8_row3_col10\" class=\"data row3 col10\" >4.41</td>\n",
       "      <td id=\"T_7b3c8_row3_col11\" class=\"data row3 col11\" >4.36</td>\n",
       "    </tr>\n",
       "    <tr>\n",
       "      <th id=\"T_7b3c8_level0_row4\" class=\"row_heading level0 row4\" >Solar Photovoltaic</th>\n",
       "      <td id=\"T_7b3c8_row4_col0\" class=\"data row4 col0\" >2.64</td>\n",
       "      <td id=\"T_7b3c8_row4_col1\" class=\"data row4 col1\" >2.06</td>\n",
       "      <td id=\"T_7b3c8_row4_col2\" class=\"data row4 col2\" >1.54</td>\n",
       "      <td id=\"T_7b3c8_row4_col3\" class=\"data row4 col3\" >1.18</td>\n",
       "      <td id=\"T_7b3c8_row4_col4\" class=\"data row4 col4\" >1.74</td>\n",
       "      <td id=\"T_7b3c8_row4_col5\" class=\"data row4 col5\" >2.18</td>\n",
       "      <td id=\"T_7b3c8_row4_col6\" class=\"data row4 col6\" >2.99</td>\n",
       "      <td id=\"T_7b3c8_row4_col7\" class=\"data row4 col7\" >3.64</td>\n",
       "      <td id=\"T_7b3c8_row4_col8\" class=\"data row4 col8\" >3.80</td>\n",
       "      <td id=\"T_7b3c8_row4_col9\" class=\"data row4 col9\" >3.86</td>\n",
       "      <td id=\"T_7b3c8_row4_col10\" class=\"data row4 col10\" >4.49</td>\n",
       "      <td id=\"T_7b3c8_row4_col11\" class=\"data row4 col11\" >4.40</td>\n",
       "    </tr>\n",
       "    <tr>\n",
       "      <th id=\"T_7b3c8_level0_row5\" class=\"row_heading level0 row5\" >Cogeneration</th>\n",
       "      <td id=\"T_7b3c8_row5_col0\" class=\"data row5 col0\" >0.76</td>\n",
       "      <td id=\"T_7b3c8_row5_col1\" class=\"data row5 col1\" >1.12</td>\n",
       "      <td id=\"T_7b3c8_row5_col2\" class=\"data row5 col2\" >1.45</td>\n",
       "      <td id=\"T_7b3c8_row5_col3\" class=\"data row5 col3\" >1.11</td>\n",
       "      <td id=\"T_7b3c8_row5_col4\" class=\"data row5 col4\" >1.22</td>\n",
       "      <td id=\"T_7b3c8_row5_col5\" class=\"data row5 col5\" >1.72</td>\n",
       "      <td id=\"T_7b3c8_row5_col6\" class=\"data row5 col6\" >1.77</td>\n",
       "      <td id=\"T_7b3c8_row5_col7\" class=\"data row5 col7\" >1.59</td>\n",
       "      <td id=\"T_7b3c8_row5_col8\" class=\"data row5 col8\" >1.72</td>\n",
       "      <td id=\"T_7b3c8_row5_col9\" class=\"data row5 col9\" >1.78</td>\n",
       "      <td id=\"T_7b3c8_row5_col10\" class=\"data row5 col10\" >1.51</td>\n",
       "      <td id=\"T_7b3c8_row5_col11\" class=\"data row5 col11\" >1.32</td>\n",
       "    </tr>\n",
       "    <tr>\n",
       "      <th id=\"T_7b3c8_level0_row6\" class=\"row_heading level0 row6\" >Pumped Storage Hydropower</th>\n",
       "      <td id=\"T_7b3c8_row6_col0\" class=\"data row6 col0\" >0.27</td>\n",
       "      <td id=\"T_7b3c8_row6_col1\" class=\"data row6 col1\" >0.35</td>\n",
       "      <td id=\"T_7b3c8_row6_col2\" class=\"data row6 col2\" >0.28</td>\n",
       "      <td id=\"T_7b3c8_row6_col3\" class=\"data row6 col3\" >0.37</td>\n",
       "      <td id=\"T_7b3c8_row6_col4\" class=\"data row6 col4\" >0.43</td>\n",
       "      <td id=\"T_7b3c8_row6_col5\" class=\"data row6 col5\" >0.22</td>\n",
       "      <td id=\"T_7b3c8_row6_col6\" class=\"data row6 col6\" >0.42</td>\n",
       "      <td id=\"T_7b3c8_row6_col7\" class=\"data row6 col7\" >0.43</td>\n",
       "      <td id=\"T_7b3c8_row6_col8\" class=\"data row6 col8\" >0.36</td>\n",
       "      <td id=\"T_7b3c8_row6_col9\" class=\"data row6 col9\" >0.27</td>\n",
       "      <td id=\"T_7b3c8_row6_col10\" class=\"data row6 col10\" >0.27</td>\n",
       "      <td id=\"T_7b3c8_row6_col11\" class=\"data row6 col11\" >0.35</td>\n",
       "    </tr>\n",
       "    <tr>\n",
       "      <th id=\"T_7b3c8_level0_row7\" class=\"row_heading level0 row7\" >Coal</th>\n",
       "      <td id=\"T_7b3c8_row7_col0\" class=\"data row7 col0\" >0.64</td>\n",
       "      <td id=\"T_7b3c8_row7_col1\" class=\"data row7 col1\" >0.39</td>\n",
       "      <td id=\"T_7b3c8_row7_col2\" class=\"data row7 col2\" >0.34</td>\n",
       "      <td id=\"T_7b3c8_row7_col3\" class=\"data row7 col3\" >0.73</td>\n",
       "      <td id=\"T_7b3c8_row7_col4\" class=\"data row7 col4\" >0.32</td>\n",
       "      <td id=\"T_7b3c8_row7_col5\" class=\"data row7 col5\" >0.43</td>\n",
       "      <td id=\"T_7b3c8_row7_col6\" class=\"data row7 col6\" >0.41</td>\n",
       "      <td id=\"T_7b3c8_row7_col7\" class=\"data row7 col7\" >0.25</td>\n",
       "      <td id=\"T_7b3c8_row7_col8\" class=\"data row7 col8\" >0.25</td>\n",
       "      <td id=\"T_7b3c8_row7_col9\" class=\"data row7 col9\" >0.30</td>\n",
       "      <td id=\"T_7b3c8_row7_col10\" class=\"data row7 col10\" >0.29</td>\n",
       "      <td id=\"T_7b3c8_row7_col11\" class=\"data row7 col11\" >0.42</td>\n",
       "    </tr>\n",
       "    <tr>\n",
       "      <th id=\"T_7b3c8_level0_row8\" class=\"row_heading level0 row8\" >Renewables Other</th>\n",
       "      <td id=\"T_7b3c8_row8_col0\" class=\"data row8 col0\" >0.35</td>\n",
       "      <td id=\"T_7b3c8_row8_col1\" class=\"data row8 col1\" >0.38</td>\n",
       "      <td id=\"T_7b3c8_row8_col2\" class=\"data row8 col2\" >0.38</td>\n",
       "      <td id=\"T_7b3c8_row8_col3\" class=\"data row8 col3\" >0.34</td>\n",
       "      <td id=\"T_7b3c8_row8_col4\" class=\"data row8 col4\" >0.30</td>\n",
       "      <td id=\"T_7b3c8_row8_col5\" class=\"data row8 col5\" >0.36</td>\n",
       "      <td id=\"T_7b3c8_row8_col6\" class=\"data row8 col6\" >0.32</td>\n",
       "      <td id=\"T_7b3c8_row8_col7\" class=\"data row8 col7\" >0.28</td>\n",
       "      <td id=\"T_7b3c8_row8_col8\" class=\"data row8 col8\" >0.34</td>\n",
       "      <td id=\"T_7b3c8_row8_col9\" class=\"data row8 col9\" >0.33</td>\n",
       "      <td id=\"T_7b3c8_row8_col10\" class=\"data row8 col10\" >0.33</td>\n",
       "      <td id=\"T_7b3c8_row8_col11\" class=\"data row8 col11\" >0.35</td>\n",
       "    </tr>\n",
       "    <tr>\n",
       "      <th id=\"T_7b3c8_level0_row9\" class=\"row_heading level0 row9\" >Non-Renewable Residues</th>\n",
       "      <td id=\"T_7b3c8_row9_col0\" class=\"data row9 col0\" >0.17</td>\n",
       "      <td id=\"T_7b3c8_row9_col1\" class=\"data row9 col1\" >0.21</td>\n",
       "      <td id=\"T_7b3c8_row9_col2\" class=\"data row9 col2\" >0.17</td>\n",
       "      <td id=\"T_7b3c8_row9_col3\" class=\"data row9 col3\" >0.19</td>\n",
       "      <td id=\"T_7b3c8_row9_col4\" class=\"data row9 col4\" >0.16</td>\n",
       "      <td id=\"T_7b3c8_row9_col5\" class=\"data row9 col5\" >0.17</td>\n",
       "      <td id=\"T_7b3c8_row9_col6\" class=\"data row9 col6\" >0.18</td>\n",
       "      <td id=\"T_7b3c8_row9_col7\" class=\"data row9 col7\" >0.13</td>\n",
       "      <td id=\"T_7b3c8_row9_col8\" class=\"data row9 col8\" >0.09</td>\n",
       "      <td id=\"T_7b3c8_row9_col9\" class=\"data row9 col9\" >0.18</td>\n",
       "      <td id=\"T_7b3c8_row9_col10\" class=\"data row9 col10\" >0.19</td>\n",
       "      <td id=\"T_7b3c8_row9_col11\" class=\"data row9 col11\" >0.18</td>\n",
       "    </tr>\n",
       "    <tr>\n",
       "      <th id=\"T_7b3c8_level0_row10\" class=\"row_heading level0 row10\" >Solar Thermal</th>\n",
       "      <td id=\"T_7b3c8_row10_col0\" class=\"data row10 col0\" >0.44</td>\n",
       "      <td id=\"T_7b3c8_row10_col1\" class=\"data row10 col1\" >0.19</td>\n",
       "      <td id=\"T_7b3c8_row10_col2\" class=\"data row10 col2\" >0.11</td>\n",
       "      <td id=\"T_7b3c8_row10_col3\" class=\"data row10 col3\" >0.07</td>\n",
       "      <td id=\"T_7b3c8_row10_col4\" class=\"data row10 col4\" >0.13</td>\n",
       "      <td id=\"T_7b3c8_row10_col5\" class=\"data row10 col5\" >0.19</td>\n",
       "      <td id=\"T_7b3c8_row10_col6\" class=\"data row10 col6\" >0.42</td>\n",
       "      <td id=\"T_7b3c8_row10_col7\" class=\"data row10 col7\" >0.65</td>\n",
       "      <td id=\"T_7b3c8_row10_col8\" class=\"data row10 col8\" >0.52</td>\n",
       "      <td id=\"T_7b3c8_row10_col9\" class=\"data row10 col9\" >0.58</td>\n",
       "      <td id=\"T_7b3c8_row10_col10\" class=\"data row10 col10\" >0.80</td>\n",
       "      <td id=\"T_7b3c8_row10_col11\" class=\"data row10 col11\" >0.76</td>\n",
       "    </tr>\n",
       "  </tbody>\n",
       "</table>\n"
      ],
      "text/plain": [
       "<pandas.io.formats.style.Styler at 0x1e2ca9616c0>"
      ]
     },
     "execution_count": null,
     "metadata": {},
     "output_type": "execute_result"
    }
   ],
   "source": []
  },
  {
   "cell_type": "code",
   "execution_count": null,
   "metadata": {},
   "outputs": [
    {
     "data": {
      "text/html": [
       "<style type=\"text/css\">\n",
       "#T_e2b75_row0_col0 {\n",
       "  background-color: #f87f2c;\n",
       "  color: #f1f1f1;\n",
       "}\n",
       "#T_e2b75_row0_col1 {\n",
       "  background-color: #d84801;\n",
       "  color: #f1f1f1;\n",
       "}\n",
       "#T_e2b75_row0_col2, #T_e2b75_row0_col3, #T_e2b75_row0_col4, #T_e2b75_row0_col5, #T_e2b75_row0_col6, #T_e2b75_row0_col7, #T_e2b75_row0_col8, #T_e2b75_row1_col10, #T_e2b75_row1_col11, #T_e2b75_row3_col0, #T_e2b75_row3_col1, #T_e2b75_row3_col9 {\n",
       "  background-color: #7f2704;\n",
       "  color: #f1f1f1;\n",
       "}\n",
       "#T_e2b75_row0_col9 {\n",
       "  background-color: #d94801;\n",
       "  color: #f1f1f1;\n",
       "}\n",
       "#T_e2b75_row0_col10 {\n",
       "  background-color: #de4e05;\n",
       "  color: #f1f1f1;\n",
       "}\n",
       "#T_e2b75_row0_col11 {\n",
       "  background-color: #b83c02;\n",
       "  color: #f1f1f1;\n",
       "}\n",
       "#T_e2b75_row1_col0 {\n",
       "  background-color: #ea5f0e;\n",
       "  color: #f1f1f1;\n",
       "}\n",
       "#T_e2b75_row1_col1 {\n",
       "  background-color: #f3701b;\n",
       "  color: #f1f1f1;\n",
       "}\n",
       "#T_e2b75_row1_col2 {\n",
       "  background-color: #f06712;\n",
       "  color: #f1f1f1;\n",
       "}\n",
       "#T_e2b75_row1_col3 {\n",
       "  background-color: #9b3203;\n",
       "  color: #f1f1f1;\n",
       "}\n",
       "#T_e2b75_row1_col4 {\n",
       "  background-color: #e75b0b;\n",
       "  color: #f1f1f1;\n",
       "}\n",
       "#T_e2b75_row1_col5 {\n",
       "  background-color: #852904;\n",
       "  color: #f1f1f1;\n",
       "}\n",
       "#T_e2b75_row1_col6 {\n",
       "  background-color: #d14501;\n",
       "  color: #f1f1f1;\n",
       "}\n",
       "#T_e2b75_row1_col7 {\n",
       "  background-color: #902e04;\n",
       "  color: #f1f1f1;\n",
       "}\n",
       "#T_e2b75_row1_col8 {\n",
       "  background-color: #e45709;\n",
       "  color: #f1f1f1;\n",
       "}\n",
       "#T_e2b75_row1_col9 {\n",
       "  background-color: #802704;\n",
       "  color: #f1f1f1;\n",
       "}\n",
       "#T_e2b75_row2_col0, #T_e2b75_row5_col1 {\n",
       "  background-color: #fee2c7;\n",
       "  color: #000000;\n",
       "}\n",
       "#T_e2b75_row2_col1 {\n",
       "  background-color: #feebd7;\n",
       "  color: #000000;\n",
       "}\n",
       "#T_e2b75_row2_col2 {\n",
       "  background-color: #fddab6;\n",
       "  color: #000000;\n",
       "}\n",
       "#T_e2b75_row2_col3, #T_e2b75_row3_col8 {\n",
       "  background-color: #fd8c3b;\n",
       "  color: #f1f1f1;\n",
       "}\n",
       "#T_e2b75_row2_col4 {\n",
       "  background-color: #f98230;\n",
       "  color: #f1f1f1;\n",
       "}\n",
       "#T_e2b75_row2_col5 {\n",
       "  background-color: #fb8634;\n",
       "  color: #f1f1f1;\n",
       "}\n",
       "#T_e2b75_row2_col6 {\n",
       "  background-color: #fdbe84;\n",
       "  color: #000000;\n",
       "}\n",
       "#T_e2b75_row2_col7 {\n",
       "  background-color: #fdb97d;\n",
       "  color: #000000;\n",
       "}\n",
       "#T_e2b75_row2_col8 {\n",
       "  background-color: #fdcd9c;\n",
       "  color: #000000;\n",
       "}\n",
       "#T_e2b75_row2_col9, #T_e2b75_row4_col6 {\n",
       "  background-color: #fd9e54;\n",
       "  color: #000000;\n",
       "}\n",
       "#T_e2b75_row2_col10 {\n",
       "  background-color: #fdd3a9;\n",
       "  color: #000000;\n",
       "}\n",
       "#T_e2b75_row2_col11, #T_e2b75_row5_col3 {\n",
       "  background-color: #fedcb9;\n",
       "  color: #000000;\n",
       "}\n",
       "#T_e2b75_row3_col2 {\n",
       "  background-color: #f16813;\n",
       "  color: #f1f1f1;\n",
       "}\n",
       "#T_e2b75_row3_col3 {\n",
       "  background-color: #e85d0c;\n",
       "  color: #f1f1f1;\n",
       "}\n",
       "#T_e2b75_row3_col4 {\n",
       "  background-color: #fdc895;\n",
       "  color: #000000;\n",
       "}\n",
       "#T_e2b75_row3_col5 {\n",
       "  background-color: #bd3e02;\n",
       "  color: #f1f1f1;\n",
       "}\n",
       "#T_e2b75_row3_col6 {\n",
       "  background-color: #fdad69;\n",
       "  color: #000000;\n",
       "}\n",
       "#T_e2b75_row3_col7 {\n",
       "  background-color: #fd974a;\n",
       "  color: #000000;\n",
       "}\n",
       "#T_e2b75_row3_col10 {\n",
       "  background-color: #ad3803;\n",
       "  color: #f1f1f1;\n",
       "}\n",
       "#T_e2b75_row3_col11 {\n",
       "  background-color: #a93703;\n",
       "  color: #f1f1f1;\n",
       "}\n",
       "#T_e2b75_row4_col0 {\n",
       "  background-color: #fdb576;\n",
       "  color: #000000;\n",
       "}\n",
       "#T_e2b75_row4_col1 {\n",
       "  background-color: #fdc590;\n",
       "  color: #000000;\n",
       "}\n",
       "#T_e2b75_row4_col2 {\n",
       "  background-color: #fdd6ae;\n",
       "  color: #000000;\n",
       "}\n",
       "#T_e2b75_row4_col3 {\n",
       "  background-color: #fdd9b5;\n",
       "  color: #000000;\n",
       "}\n",
       "#T_e2b75_row4_col4 {\n",
       "  background-color: #fdd5ad;\n",
       "  color: #000000;\n",
       "}\n",
       "#T_e2b75_row4_col5 {\n",
       "  background-color: #fd9c51;\n",
       "  color: #000000;\n",
       "}\n",
       "#T_e2b75_row4_col7 {\n",
       "  background-color: #da4902;\n",
       "  color: #f1f1f1;\n",
       "}\n",
       "#T_e2b75_row4_col8 {\n",
       "  background-color: #e25508;\n",
       "  color: #f1f1f1;\n",
       "}\n",
       "#T_e2b75_row4_col9 {\n",
       "  background-color: #8f2d04;\n",
       "  color: #f1f1f1;\n",
       "}\n",
       "#T_e2b75_row4_col10, #T_e2b75_row4_col11 {\n",
       "  background-color: #a63603;\n",
       "  color: #f1f1f1;\n",
       "}\n",
       "#T_e2b75_row5_col0 {\n",
       "  background-color: #feebd8;\n",
       "  color: #000000;\n",
       "}\n",
       "#T_e2b75_row5_col2 {\n",
       "  background-color: #fdd8b2;\n",
       "  color: #000000;\n",
       "}\n",
       "#T_e2b75_row5_col4 {\n",
       "  background-color: #fee2c6;\n",
       "  color: #000000;\n",
       "}\n",
       "#T_e2b75_row5_col5 {\n",
       "  background-color: #fdb77a;\n",
       "  color: #000000;\n",
       "}\n",
       "#T_e2b75_row5_col6 {\n",
       "  background-color: #fdd1a3;\n",
       "  color: #000000;\n",
       "}\n",
       "#T_e2b75_row5_col7, #T_e2b75_row5_col8 {\n",
       "  background-color: #fdc088;\n",
       "  color: #000000;\n",
       "}\n",
       "#T_e2b75_row5_col9 {\n",
       "  background-color: #fda45d;\n",
       "  color: #000000;\n",
       "}\n",
       "#T_e2b75_row5_col10 {\n",
       "  background-color: #fdcb9b;\n",
       "  color: #000000;\n",
       "}\n",
       "#T_e2b75_row5_col11 {\n",
       "  background-color: #fdd3a7;\n",
       "  color: #000000;\n",
       "}\n",
       "#T_e2b75_row6_col0 {\n",
       "  background-color: #fff4e8;\n",
       "  color: #000000;\n",
       "}\n",
       "#T_e2b75_row6_col1, #T_e2b75_row6_col2, #T_e2b75_row6_col9, #T_e2b75_row7_col4, #T_e2b75_row7_col7, #T_e2b75_row8_col0, #T_e2b75_row8_col4 {\n",
       "  background-color: #fff2e6;\n",
       "  color: #000000;\n",
       "}\n",
       "#T_e2b75_row6_col3, #T_e2b75_row7_col5 {\n",
       "  background-color: #ffeede;\n",
       "  color: #000000;\n",
       "}\n",
       "#T_e2b75_row6_col4, #T_e2b75_row8_col2, #T_e2b75_row8_col5 {\n",
       "  background-color: #fff0e2;\n",
       "  color: #000000;\n",
       "}\n",
       "#T_e2b75_row6_col5, #T_e2b75_row9_col2 {\n",
       "  background-color: #fff4e9;\n",
       "  color: #000000;\n",
       "}\n",
       "#T_e2b75_row6_col6, #T_e2b75_row6_col11, #T_e2b75_row7_col6, #T_e2b75_row8_col9, #T_e2b75_row8_col11, #T_e2b75_row10_col0, #T_e2b75_row10_col6 {\n",
       "  background-color: #fff1e3;\n",
       "  color: #000000;\n",
       "}\n",
       "#T_e2b75_row6_col7, #T_e2b75_row7_col0 {\n",
       "  background-color: #feeddc;\n",
       "  color: #000000;\n",
       "}\n",
       "#T_e2b75_row6_col8, #T_e2b75_row7_col11, #T_e2b75_row8_col3, #T_e2b75_row8_col8 {\n",
       "  background-color: #ffefe0;\n",
       "  color: #000000;\n",
       "}\n",
       "#T_e2b75_row6_col10 {\n",
       "  background-color: #fff3e7;\n",
       "  color: #000000;\n",
       "}\n",
       "#T_e2b75_row7_col1, #T_e2b75_row7_col8, #T_e2b75_row7_col9, #T_e2b75_row8_col1, #T_e2b75_row8_col10 {\n",
       "  background-color: #fff2e5;\n",
       "  color: #000000;\n",
       "}\n",
       "#T_e2b75_row7_col2, #T_e2b75_row8_col7 {\n",
       "  background-color: #fff1e4;\n",
       "  color: #000000;\n",
       "}\n",
       "#T_e2b75_row7_col3, #T_e2b75_row10_col11 {\n",
       "  background-color: #fee7d0;\n",
       "  color: #000000;\n",
       "}\n",
       "#T_e2b75_row7_col10, #T_e2b75_row8_col6, #T_e2b75_row9_col3 {\n",
       "  background-color: #fff3e6;\n",
       "  color: #000000;\n",
       "}\n",
       "#T_e2b75_row9_col0, #T_e2b75_row9_col1, #T_e2b75_row9_col5, #T_e2b75_row9_col6, #T_e2b75_row9_col7, #T_e2b75_row9_col8, #T_e2b75_row9_col9, #T_e2b75_row9_col10, #T_e2b75_row9_col11, #T_e2b75_row10_col1, #T_e2b75_row10_col2, #T_e2b75_row10_col3, #T_e2b75_row10_col4, #T_e2b75_row10_col5 {\n",
       "  background-color: #fff5eb;\n",
       "  color: #000000;\n",
       "}\n",
       "#T_e2b75_row9_col4 {\n",
       "  background-color: #fff5ea;\n",
       "  color: #000000;\n",
       "}\n",
       "#T_e2b75_row10_col7 {\n",
       "  background-color: #fee8d2;\n",
       "  color: #000000;\n",
       "}\n",
       "#T_e2b75_row10_col8 {\n",
       "  background-color: #feecd9;\n",
       "  color: #000000;\n",
       "}\n",
       "#T_e2b75_row10_col9 {\n",
       "  background-color: #fee9d3;\n",
       "  color: #000000;\n",
       "}\n",
       "#T_e2b75_row10_col10 {\n",
       "  background-color: #fee6cf;\n",
       "  color: #000000;\n",
       "}\n",
       "</style>\n",
       "<table id=\"T_e2b75\">\n",
       "  <thead>\n",
       "    <tr>\n",
       "      <th class=\"index_name level0\" >year</th>\n",
       "      <th id=\"T_e2b75_level0_col0\" class=\"col_heading level0 col0\" colspan=\"4\">2022</th>\n",
       "      <th id=\"T_e2b75_level0_col4\" class=\"col_heading level0 col4\" colspan=\"8\">2023</th>\n",
       "    </tr>\n",
       "    <tr>\n",
       "      <th class=\"index_name level1\" >month</th>\n",
       "      <th id=\"T_e2b75_level1_col0\" class=\"col_heading level1 col0\" >9</th>\n",
       "      <th id=\"T_e2b75_level1_col1\" class=\"col_heading level1 col1\" >10</th>\n",
       "      <th id=\"T_e2b75_level1_col2\" class=\"col_heading level1 col2\" >11</th>\n",
       "      <th id=\"T_e2b75_level1_col3\" class=\"col_heading level1 col3\" >12</th>\n",
       "      <th id=\"T_e2b75_level1_col4\" class=\"col_heading level1 col4\" >1</th>\n",
       "      <th id=\"T_e2b75_level1_col5\" class=\"col_heading level1 col5\" >2</th>\n",
       "      <th id=\"T_e2b75_level1_col6\" class=\"col_heading level1 col6\" >3</th>\n",
       "      <th id=\"T_e2b75_level1_col7\" class=\"col_heading level1 col7\" >4</th>\n",
       "      <th id=\"T_e2b75_level1_col8\" class=\"col_heading level1 col8\" >5</th>\n",
       "      <th id=\"T_e2b75_level1_col9\" class=\"col_heading level1 col9\" >6</th>\n",
       "      <th id=\"T_e2b75_level1_col10\" class=\"col_heading level1 col10\" >7</th>\n",
       "      <th id=\"T_e2b75_level1_col11\" class=\"col_heading level1 col11\" >8</th>\n",
       "    </tr>\n",
       "    <tr>\n",
       "      <th class=\"index_name level0\" >technology</th>\n",
       "      <th class=\"blank col0\" >&nbsp;</th>\n",
       "      <th class=\"blank col1\" >&nbsp;</th>\n",
       "      <th class=\"blank col2\" >&nbsp;</th>\n",
       "      <th class=\"blank col3\" >&nbsp;</th>\n",
       "      <th class=\"blank col4\" >&nbsp;</th>\n",
       "      <th class=\"blank col5\" >&nbsp;</th>\n",
       "      <th class=\"blank col6\" >&nbsp;</th>\n",
       "      <th class=\"blank col7\" >&nbsp;</th>\n",
       "      <th class=\"blank col8\" >&nbsp;</th>\n",
       "      <th class=\"blank col9\" >&nbsp;</th>\n",
       "      <th class=\"blank col10\" >&nbsp;</th>\n",
       "      <th class=\"blank col11\" >&nbsp;</th>\n",
       "    </tr>\n",
       "  </thead>\n",
       "  <tbody>\n",
       "    <tr>\n",
       "      <th id=\"T_e2b75_level0_row0\" class=\"row_heading level0 row0\" >Eolic</th>\n",
       "      <td id=\"T_e2b75_row0_col0\" class=\"data row0 col0\" >4.06</td>\n",
       "      <td id=\"T_e2b75_row0_col1\" class=\"data row0 col1\" >5.00</td>\n",
       "      <td id=\"T_e2b75_row0_col2\" class=\"data row0 col2\" >6.66</td>\n",
       "      <td id=\"T_e2b75_row0_col3\" class=\"data row0 col3\" >5.67</td>\n",
       "      <td id=\"T_e2b75_row0_col4\" class=\"data row0 col4\" >7.43</td>\n",
       "      <td id=\"T_e2b75_row0_col5\" class=\"data row0 col5\" >4.70</td>\n",
       "      <td id=\"T_e2b75_row0_col6\" class=\"data row0 col6\" >6.60</td>\n",
       "      <td id=\"T_e2b75_row0_col7\" class=\"data row0 col7\" >4.84</td>\n",
       "      <td id=\"T_e2b75_row0_col8\" class=\"data row0 col8\" >5.37</td>\n",
       "      <td id=\"T_e2b75_row0_col9\" class=\"data row0 col9\" >3.08</td>\n",
       "      <td id=\"T_e2b75_row0_col10\" class=\"data row0 col10\" >3.76</td>\n",
       "      <td id=\"T_e2b75_row0_col11\" class=\"data row0 col11\" >4.20</td>\n",
       "    </tr>\n",
       "    <tr>\n",
       "      <th id=\"T_e2b75_level0_row1\" class=\"row_heading level0 row1\" >Nuclear</th>\n",
       "      <td id=\"T_e2b75_row1_col0\" class=\"data row1 col0\" >4.85</td>\n",
       "      <td id=\"T_e2b75_row1_col1\" class=\"data row1 col1\" >4.02</td>\n",
       "      <td id=\"T_e2b75_row1_col2\" class=\"data row1 col2\" >4.24</td>\n",
       "      <td id=\"T_e2b75_row1_col3\" class=\"data row1 col3\" >5.16</td>\n",
       "      <td id=\"T_e2b75_row1_col4\" class=\"data row1 col4\" >5.08</td>\n",
       "      <td id=\"T_e2b75_row1_col5\" class=\"data row1 col5\" >4.60</td>\n",
       "      <td id=\"T_e2b75_row1_col6\" class=\"data row1 col6\" >5.11</td>\n",
       "      <td id=\"T_e2b75_row1_col7\" class=\"data row1 col7\" >4.57</td>\n",
       "      <td id=\"T_e2b75_row1_col8\" class=\"data row1 col8\" >3.76</td>\n",
       "      <td id=\"T_e2b75_row1_col9\" class=\"data row1 col9\" >4.04</td>\n",
       "      <td id=\"T_e2b75_row1_col10\" class=\"data row1 col10\" >5.13</td>\n",
       "      <td id=\"T_e2b75_row1_col11\" class=\"data row1 col11\" >5.01</td>\n",
       "    </tr>\n",
       "    <tr>\n",
       "      <th id=\"T_e2b75_level0_row2\" class=\"row_heading level0 row2\" >Hydraulic</th>\n",
       "      <td id=\"T_e2b75_row2_col0\" class=\"data row2 col0\" >1.20</td>\n",
       "      <td id=\"T_e2b75_row2_col1\" class=\"data row2 col1\" >0.77</td>\n",
       "      <td id=\"T_e2b75_row2_col2\" class=\"data row2 col2\" >1.39</td>\n",
       "      <td id=\"T_e2b75_row2_col3\" class=\"data row2 col3\" >2.89</td>\n",
       "      <td id=\"T_e2b75_row2_col4\" class=\"data row2 col4\" >4.04</td>\n",
       "      <td id=\"T_e2b75_row2_col5\" class=\"data row2 col5\" >2.55</td>\n",
       "      <td id=\"T_e2b75_row2_col6\" class=\"data row2 col6\" >2.21</td>\n",
       "      <td id=\"T_e2b75_row2_col7\" class=\"data row2 col7\" >1.70</td>\n",
       "      <td id=\"T_e2b75_row2_col8\" class=\"data row2 col8\" >1.48</td>\n",
       "      <td id=\"T_e2b75_row2_col9\" class=\"data row2 col9\" >1.88</td>\n",
       "      <td id=\"T_e2b75_row2_col10\" class=\"data row2 col10\" >1.35</td>\n",
       "      <td id=\"T_e2b75_row2_col11\" class=\"data row2 col11\" >1.07</td>\n",
       "    </tr>\n",
       "    <tr>\n",
       "      <th id=\"T_e2b75_level0_row3\" class=\"row_heading level0 row3\" >Combined Cycle (Gas)</th>\n",
       "      <td id=\"T_e2b75_row3_col0\" class=\"data row3 col0\" >7.24</td>\n",
       "      <td id=\"T_e2b75_row3_col1\" class=\"data row3 col1\" >6.58</td>\n",
       "      <td id=\"T_e2b75_row3_col2\" class=\"data row3 col2\" >4.23</td>\n",
       "      <td id=\"T_e2b75_row3_col3\" class=\"data row3 col3\" >3.81</td>\n",
       "      <td id=\"T_e2b75_row3_col4\" class=\"data row3 col4\" >2.15</td>\n",
       "      <td id=\"T_e2b75_row3_col5\" class=\"data row3 col5\" >3.88</td>\n",
       "      <td id=\"T_e2b75_row3_col6\" class=\"data row3 col6\" >2.62</td>\n",
       "      <td id=\"T_e2b75_row3_col7\" class=\"data row3 col7\" >2.31</td>\n",
       "      <td id=\"T_e2b75_row3_col8\" class=\"data row3 col8\" >2.75</td>\n",
       "      <td id=\"T_e2b75_row3_col9\" class=\"data row3 col9\" >4.06</td>\n",
       "      <td id=\"T_e2b75_row3_col10\" class=\"data row3 col10\" >4.41</td>\n",
       "      <td id=\"T_e2b75_row3_col11\" class=\"data row3 col11\" >4.36</td>\n",
       "    </tr>\n",
       "    <tr>\n",
       "      <th id=\"T_e2b75_level0_row4\" class=\"row_heading level0 row4\" >Solar Photovoltaic</th>\n",
       "      <td id=\"T_e2b75_row4_col0\" class=\"data row4 col0\" >2.64</td>\n",
       "      <td id=\"T_e2b75_row4_col1\" class=\"data row4 col1\" >2.06</td>\n",
       "      <td id=\"T_e2b75_row4_col2\" class=\"data row4 col2\" >1.54</td>\n",
       "      <td id=\"T_e2b75_row4_col3\" class=\"data row4 col3\" >1.18</td>\n",
       "      <td id=\"T_e2b75_row4_col4\" class=\"data row4 col4\" >1.74</td>\n",
       "      <td id=\"T_e2b75_row4_col5\" class=\"data row4 col5\" >2.18</td>\n",
       "      <td id=\"T_e2b75_row4_col6\" class=\"data row4 col6\" >2.99</td>\n",
       "      <td id=\"T_e2b75_row4_col7\" class=\"data row4 col7\" >3.64</td>\n",
       "      <td id=\"T_e2b75_row4_col8\" class=\"data row4 col8\" >3.80</td>\n",
       "      <td id=\"T_e2b75_row4_col9\" class=\"data row4 col9\" >3.86</td>\n",
       "      <td id=\"T_e2b75_row4_col10\" class=\"data row4 col10\" >4.49</td>\n",
       "      <td id=\"T_e2b75_row4_col11\" class=\"data row4 col11\" >4.40</td>\n",
       "    </tr>\n",
       "    <tr>\n",
       "      <th id=\"T_e2b75_level0_row5\" class=\"row_heading level0 row5\" >Cogeneration</th>\n",
       "      <td id=\"T_e2b75_row5_col0\" class=\"data row5 col0\" >0.76</td>\n",
       "      <td id=\"T_e2b75_row5_col1\" class=\"data row5 col1\" >1.12</td>\n",
       "      <td id=\"T_e2b75_row5_col2\" class=\"data row5 col2\" >1.45</td>\n",
       "      <td id=\"T_e2b75_row5_col3\" class=\"data row5 col3\" >1.11</td>\n",
       "      <td id=\"T_e2b75_row5_col4\" class=\"data row5 col4\" >1.22</td>\n",
       "      <td id=\"T_e2b75_row5_col5\" class=\"data row5 col5\" >1.72</td>\n",
       "      <td id=\"T_e2b75_row5_col6\" class=\"data row5 col6\" >1.77</td>\n",
       "      <td id=\"T_e2b75_row5_col7\" class=\"data row5 col7\" >1.59</td>\n",
       "      <td id=\"T_e2b75_row5_col8\" class=\"data row5 col8\" >1.72</td>\n",
       "      <td id=\"T_e2b75_row5_col9\" class=\"data row5 col9\" >1.78</td>\n",
       "      <td id=\"T_e2b75_row5_col10\" class=\"data row5 col10\" >1.51</td>\n",
       "      <td id=\"T_e2b75_row5_col11\" class=\"data row5 col11\" >1.32</td>\n",
       "    </tr>\n",
       "    <tr>\n",
       "      <th id=\"T_e2b75_level0_row6\" class=\"row_heading level0 row6\" >Pumped Storage Hydropower</th>\n",
       "      <td id=\"T_e2b75_row6_col0\" class=\"data row6 col0\" >0.27</td>\n",
       "      <td id=\"T_e2b75_row6_col1\" class=\"data row6 col1\" >0.35</td>\n",
       "      <td id=\"T_e2b75_row6_col2\" class=\"data row6 col2\" >0.28</td>\n",
       "      <td id=\"T_e2b75_row6_col3\" class=\"data row6 col3\" >0.37</td>\n",
       "      <td id=\"T_e2b75_row6_col4\" class=\"data row6 col4\" >0.43</td>\n",
       "      <td id=\"T_e2b75_row6_col5\" class=\"data row6 col5\" >0.22</td>\n",
       "      <td id=\"T_e2b75_row6_col6\" class=\"data row6 col6\" >0.42</td>\n",
       "      <td id=\"T_e2b75_row6_col7\" class=\"data row6 col7\" >0.43</td>\n",
       "      <td id=\"T_e2b75_row6_col8\" class=\"data row6 col8\" >0.36</td>\n",
       "      <td id=\"T_e2b75_row6_col9\" class=\"data row6 col9\" >0.27</td>\n",
       "      <td id=\"T_e2b75_row6_col10\" class=\"data row6 col10\" >0.27</td>\n",
       "      <td id=\"T_e2b75_row6_col11\" class=\"data row6 col11\" >0.35</td>\n",
       "    </tr>\n",
       "    <tr>\n",
       "      <th id=\"T_e2b75_level0_row7\" class=\"row_heading level0 row7\" >Coal</th>\n",
       "      <td id=\"T_e2b75_row7_col0\" class=\"data row7 col0\" >0.64</td>\n",
       "      <td id=\"T_e2b75_row7_col1\" class=\"data row7 col1\" >0.39</td>\n",
       "      <td id=\"T_e2b75_row7_col2\" class=\"data row7 col2\" >0.34</td>\n",
       "      <td id=\"T_e2b75_row7_col3\" class=\"data row7 col3\" >0.73</td>\n",
       "      <td id=\"T_e2b75_row7_col4\" class=\"data row7 col4\" >0.32</td>\n",
       "      <td id=\"T_e2b75_row7_col5\" class=\"data row7 col5\" >0.43</td>\n",
       "      <td id=\"T_e2b75_row7_col6\" class=\"data row7 col6\" >0.41</td>\n",
       "      <td id=\"T_e2b75_row7_col7\" class=\"data row7 col7\" >0.25</td>\n",
       "      <td id=\"T_e2b75_row7_col8\" class=\"data row7 col8\" >0.25</td>\n",
       "      <td id=\"T_e2b75_row7_col9\" class=\"data row7 col9\" >0.30</td>\n",
       "      <td id=\"T_e2b75_row7_col10\" class=\"data row7 col10\" >0.29</td>\n",
       "      <td id=\"T_e2b75_row7_col11\" class=\"data row7 col11\" >0.42</td>\n",
       "    </tr>\n",
       "    <tr>\n",
       "      <th id=\"T_e2b75_level0_row8\" class=\"row_heading level0 row8\" >Renewables Other</th>\n",
       "      <td id=\"T_e2b75_row8_col0\" class=\"data row8 col0\" >0.35</td>\n",
       "      <td id=\"T_e2b75_row8_col1\" class=\"data row8 col1\" >0.38</td>\n",
       "      <td id=\"T_e2b75_row8_col2\" class=\"data row8 col2\" >0.38</td>\n",
       "      <td id=\"T_e2b75_row8_col3\" class=\"data row8 col3\" >0.34</td>\n",
       "      <td id=\"T_e2b75_row8_col4\" class=\"data row8 col4\" >0.30</td>\n",
       "      <td id=\"T_e2b75_row8_col5\" class=\"data row8 col5\" >0.36</td>\n",
       "      <td id=\"T_e2b75_row8_col6\" class=\"data row8 col6\" >0.32</td>\n",
       "      <td id=\"T_e2b75_row8_col7\" class=\"data row8 col7\" >0.28</td>\n",
       "      <td id=\"T_e2b75_row8_col8\" class=\"data row8 col8\" >0.34</td>\n",
       "      <td id=\"T_e2b75_row8_col9\" class=\"data row8 col9\" >0.33</td>\n",
       "      <td id=\"T_e2b75_row8_col10\" class=\"data row8 col10\" >0.33</td>\n",
       "      <td id=\"T_e2b75_row8_col11\" class=\"data row8 col11\" >0.35</td>\n",
       "    </tr>\n",
       "    <tr>\n",
       "      <th id=\"T_e2b75_level0_row9\" class=\"row_heading level0 row9\" >Non-Renewable Residues</th>\n",
       "      <td id=\"T_e2b75_row9_col0\" class=\"data row9 col0\" >0.17</td>\n",
       "      <td id=\"T_e2b75_row9_col1\" class=\"data row9 col1\" >0.21</td>\n",
       "      <td id=\"T_e2b75_row9_col2\" class=\"data row9 col2\" >0.17</td>\n",
       "      <td id=\"T_e2b75_row9_col3\" class=\"data row9 col3\" >0.19</td>\n",
       "      <td id=\"T_e2b75_row9_col4\" class=\"data row9 col4\" >0.16</td>\n",
       "      <td id=\"T_e2b75_row9_col5\" class=\"data row9 col5\" >0.17</td>\n",
       "      <td id=\"T_e2b75_row9_col6\" class=\"data row9 col6\" >0.18</td>\n",
       "      <td id=\"T_e2b75_row9_col7\" class=\"data row9 col7\" >0.13</td>\n",
       "      <td id=\"T_e2b75_row9_col8\" class=\"data row9 col8\" >0.09</td>\n",
       "      <td id=\"T_e2b75_row9_col9\" class=\"data row9 col9\" >0.18</td>\n",
       "      <td id=\"T_e2b75_row9_col10\" class=\"data row9 col10\" >0.19</td>\n",
       "      <td id=\"T_e2b75_row9_col11\" class=\"data row9 col11\" >0.18</td>\n",
       "    </tr>\n",
       "    <tr>\n",
       "      <th id=\"T_e2b75_level0_row10\" class=\"row_heading level0 row10\" >Solar Thermal</th>\n",
       "      <td id=\"T_e2b75_row10_col0\" class=\"data row10 col0\" >0.44</td>\n",
       "      <td id=\"T_e2b75_row10_col1\" class=\"data row10 col1\" >0.19</td>\n",
       "      <td id=\"T_e2b75_row10_col2\" class=\"data row10 col2\" >0.11</td>\n",
       "      <td id=\"T_e2b75_row10_col3\" class=\"data row10 col3\" >0.07</td>\n",
       "      <td id=\"T_e2b75_row10_col4\" class=\"data row10 col4\" >0.13</td>\n",
       "      <td id=\"T_e2b75_row10_col5\" class=\"data row10 col5\" >0.19</td>\n",
       "      <td id=\"T_e2b75_row10_col6\" class=\"data row10 col6\" >0.42</td>\n",
       "      <td id=\"T_e2b75_row10_col7\" class=\"data row10 col7\" >0.65</td>\n",
       "      <td id=\"T_e2b75_row10_col8\" class=\"data row10 col8\" >0.52</td>\n",
       "      <td id=\"T_e2b75_row10_col9\" class=\"data row10 col9\" >0.58</td>\n",
       "      <td id=\"T_e2b75_row10_col10\" class=\"data row10 col10\" >0.80</td>\n",
       "      <td id=\"T_e2b75_row10_col11\" class=\"data row10 col11\" >0.76</td>\n",
       "    </tr>\n",
       "  </tbody>\n",
       "</table>\n"
      ],
      "text/plain": [
       "<pandas.io.formats.style.Styler at 0x1e2ca9a01f0>"
      ]
     },
     "execution_count": null,
     "metadata": {},
     "output_type": "execute_result"
    }
   ],
   "source": []
  },
  {
   "cell_type": "code",
   "execution_count": null,
   "metadata": {},
   "outputs": [],
   "source": []
  }
 ],
 "metadata": {
  "kernelspec": {
   "display_name": "Python 3 (ipykernel)",
   "language": "python",
   "name": "python3"
  },
  "language_info": {
   "codemirror_mode": {
    "name": "ipython",
    "version": 3
   },
   "file_extension": ".py",
   "mimetype": "text/x-python",
   "name": "python",
   "nbconvert_exporter": "python",
   "pygments_lexer": "ipython3",
   "version": "3.12.2"
  }
 },
 "nbformat": 4,
 "nbformat_minor": 4
}
